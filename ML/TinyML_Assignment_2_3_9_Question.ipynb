{
  "nbformat": 4,
  "nbformat_minor": 0,
  "metadata": {
    "colab": {
      "name": "TinyML-Assignment-2-3-9-Question.ipynb",
      "provenance": [],
      "collapsed_sections": [],
      "machine_shape": "hm"
    },
    "kernelspec": {
      "name": "python3",
      "display_name": "Python 3"
    },
    "accelerator": "GPU"
  },
  "cells": [
    {
      "cell_type": "markdown",
      "metadata": {
        "id": "zQBKILCUwz17"
      },
      "source": [
        "# Create a CNN to classify Cifar-10\n",
        "\n",
        "Learn about Cifar-10 here: https://www.cs.toronto.edu/~kriz/cifar.html\n",
        "\n",
        "In class you saw how to build a Convolutional Neural Network that classified Fashion MNIST. Take what you learned to build a CNN that recognizes the 10 classes of CIFAR. It will be a similar network, but there are some key differences you'll need to take into account.\n",
        "\n",
        "First, while MNIST were 28x28 monochome images (1 color channel), CIFAR are 32x32 color images (3 color channels).\n",
        "\n",
        "Second, MNIST images are simple, containing just the object, centered in the image, with no background. CIFAR ones can have the object with a background -- for example airplanes might have a cloudy sky behind them! As such you should expect your accuracy to be a bit lower. \n",
        "\n",
        "We start by setting up the problem for you."
      ]
    },
    {
      "cell_type": "code",
      "metadata": {
        "id": "3tqKtqW3wz19"
      },
      "source": [
        "import tensorflow as tf\n",
        "\n",
        "from tensorflow.keras import datasets, layers, models\n",
        "import matplotlib.pyplot as plt\n",
        "\n",
        "(train_images, train_labels), (test_images, test_labels) = datasets.cifar10.load_data()\n",
        "\n",
        "# Normalize pixel values to be between 0 and 1\n",
        "train_images = train_images / 255.0\n",
        "test_images = test_images / 255.0"
      ],
      "execution_count": 1,
      "outputs": []
    },
    {
      "cell_type": "markdown",
      "metadata": {
        "id": "GN6ZYIeRwz1-"
      },
      "source": [
        "We then definte some of the model for you but leave most of it for you to fill in! \n",
        "\n",
        "*A hint: your model may want to learn some high level features and then classify them.*"
      ]
    },
    {
      "cell_type": "code",
      "metadata": {
        "id": "t4y02yqZwz1_"
      },
      "source": [
        "FIRST_LAYER = tf.keras.layers.Conv2D(32,(3,3),activation=\"relu\",input_shape=(32,32,3)) #YOUR CODE HERE#\n",
        "HIDDEN_LAYER_TYPE_1 = tf.keras.layers.MaxPool2D(2,2) #YOUR CODE HERE#\n",
        "HIDDEN_LAYER_TYPE_2 = tf.keras.layers.Conv2D(64,(3,3),activation=\"relu\") #YOUR CODE HERE#\n",
        "HIDDEN_LAYER_TYPE_3 = tf.keras.layers.MaxPool2D(2,2) #YOUR CODE HERE#\n",
        "HIDDEN_LAYER_TYPE_4 = tf.keras.layers.Conv2D(64,(3,3),activation=\"relu\") #YOUR CODE HERE#\n",
        "HIDDEN_LAYER_TYPE_5 = tf.keras.layers.Dense(64,activation=\"relu\") #YOUR CODE HERE#\n",
        "LAST_LAYER = tf.keras.layers.Dense(20,activation=\"softmax\") #YOUR CODE HERE#\n",
        "\n",
        "model = models.Sequential([\n",
        "       FIRST_LAYER,\n",
        "       HIDDEN_LAYER_TYPE_1,\n",
        "       HIDDEN_LAYER_TYPE_2,\n",
        "       HIDDEN_LAYER_TYPE_3,\n",
        "       HIDDEN_LAYER_TYPE_4,\n",
        "       layers.Flatten(),\n",
        "       HIDDEN_LAYER_TYPE_5,\n",
        "       LAST_LAYER,\n",
        "])"
      ],
      "execution_count": 2,
      "outputs": []
    },
    {
      "cell_type": "markdown",
      "metadata": {
        "id": "FLmE39odwz2A"
      },
      "source": [
        "You then need to define loss function. And you can then train your model. Once training is done you'll see a plot of training and validation accuracy. You'll know you have a reasonable model with a reasonable loss funciton if your final training accuracy ends up in the 70s (or possibly higher).\n",
        "\n",
        "*A hint: your model may want to learn different categories.*"
      ]
    },
    {
      "cell_type": "code",
      "metadata": {
        "colab": {
          "base_uri": "https://localhost:8080/",
          "height": 975
        },
        "id": "Qmpa4Dg0wz2B",
        "outputId": "16874733-9631-41a7-8a76-de05ddcc780d"
      },
      "source": [
        "LOSS = \"sparse_categorical_crossentropy\" #YOUR CODE HERE#\n",
        "NUM_EPOCHS = 20 #You can change this value if you like to experiment with it to get better accuracy\n",
        "\n",
        "# Compile the model\n",
        "model.compile(optimizer='sgd',\n",
        "              loss=LOSS,\n",
        "              metrics=['accuracy'])\n",
        "\n",
        "# Fit the model\n",
        "history = model.fit(train_images, train_labels, epochs=NUM_EPOCHS, \n",
        "                    validation_data=(test_images, test_labels))\n",
        "\n",
        "# summarize history for accuracy\n",
        "plt.plot(history.history['accuracy'])\n",
        "plt.plot(history.history['val_accuracy'])\n",
        "plt.title('model accuracy')\n",
        "plt.ylabel('accuracy')\n",
        "plt.xlabel('epoch')\n",
        "plt.legend(['train', 'test'], loc='upper left')\n",
        "plt.xlim([0,NUM_EPOCHS])\n",
        "plt.ylim([0.4,1.0])\n",
        "plt.show()"
      ],
      "execution_count": 3,
      "outputs": [
        {
          "output_type": "stream",
          "text": [
            "Epoch 1/20\n",
            "1563/1563 [==============================] - 7s 4ms/step - loss: 2.2565 - accuracy: 0.1706 - val_loss: 1.8863 - val_accuracy: 0.3165\n",
            "Epoch 2/20\n",
            "1563/1563 [==============================] - 5s 3ms/step - loss: 1.8056 - accuracy: 0.3467 - val_loss: 1.7113 - val_accuracy: 0.3929\n",
            "Epoch 3/20\n",
            "1563/1563 [==============================] - 6s 4ms/step - loss: 1.5471 - accuracy: 0.4381 - val_loss: 1.6546 - val_accuracy: 0.4211\n",
            "Epoch 4/20\n",
            "1563/1563 [==============================] - 5s 3ms/step - loss: 1.3978 - accuracy: 0.4990 - val_loss: 1.4043 - val_accuracy: 0.4960\n",
            "Epoch 5/20\n",
            "1563/1563 [==============================] - 5s 3ms/step - loss: 1.3003 - accuracy: 0.5373 - val_loss: 1.2497 - val_accuracy: 0.5526\n",
            "Epoch 6/20\n",
            "1563/1563 [==============================] - 5s 3ms/step - loss: 1.2225 - accuracy: 0.5676 - val_loss: 1.2446 - val_accuracy: 0.5564\n",
            "Epoch 7/20\n",
            "1563/1563 [==============================] - 5s 3ms/step - loss: 1.1418 - accuracy: 0.6002 - val_loss: 1.1672 - val_accuracy: 0.5863\n",
            "Epoch 8/20\n",
            "1563/1563 [==============================] - 5s 3ms/step - loss: 1.0890 - accuracy: 0.6193 - val_loss: 1.1098 - val_accuracy: 0.6050\n",
            "Epoch 9/20\n",
            "1563/1563 [==============================] - 5s 3ms/step - loss: 1.0364 - accuracy: 0.6367 - val_loss: 1.0874 - val_accuracy: 0.6187\n",
            "Epoch 10/20\n",
            "1563/1563 [==============================] - 5s 3ms/step - loss: 0.9909 - accuracy: 0.6522 - val_loss: 1.0862 - val_accuracy: 0.6168\n",
            "Epoch 11/20\n",
            "1563/1563 [==============================] - 5s 3ms/step - loss: 0.9568 - accuracy: 0.6666 - val_loss: 1.0203 - val_accuracy: 0.6431\n",
            "Epoch 12/20\n",
            "1563/1563 [==============================] - 5s 3ms/step - loss: 0.9132 - accuracy: 0.6810 - val_loss: 0.9993 - val_accuracy: 0.6482\n",
            "Epoch 13/20\n",
            "1563/1563 [==============================] - 5s 3ms/step - loss: 0.8802 - accuracy: 0.6917 - val_loss: 1.0013 - val_accuracy: 0.6495\n",
            "Epoch 14/20\n",
            "1563/1563 [==============================] - 5s 3ms/step - loss: 0.8537 - accuracy: 0.7056 - val_loss: 0.9433 - val_accuracy: 0.6751\n",
            "Epoch 15/20\n",
            "1563/1563 [==============================] - 5s 3ms/step - loss: 0.8074 - accuracy: 0.7214 - val_loss: 1.0268 - val_accuracy: 0.6441\n",
            "Epoch 16/20\n",
            "1563/1563 [==============================] - 5s 3ms/step - loss: 0.7855 - accuracy: 0.7278 - val_loss: 0.9726 - val_accuracy: 0.6715\n",
            "Epoch 17/20\n",
            "1563/1563 [==============================] - 5s 3ms/step - loss: 0.7583 - accuracy: 0.7354 - val_loss: 0.9508 - val_accuracy: 0.6761\n",
            "Epoch 18/20\n",
            "1563/1563 [==============================] - 5s 3ms/step - loss: 0.7328 - accuracy: 0.7448 - val_loss: 0.9764 - val_accuracy: 0.6616\n",
            "Epoch 19/20\n",
            "1563/1563 [==============================] - 5s 3ms/step - loss: 0.7050 - accuracy: 0.7548 - val_loss: 0.9049 - val_accuracy: 0.6926\n",
            "Epoch 20/20\n",
            "1563/1563 [==============================] - 5s 3ms/step - loss: 0.6857 - accuracy: 0.7599 - val_loss: 0.9683 - val_accuracy: 0.6758\n"
          ],
          "name": "stdout"
        },
        {
          "output_type": "display_data",
          "data": {
            "image/png": "[encoded data removed]",
            "text/plain": [
              "<Figure size 432x288 with 1 Axes>"
            ]
          },
          "metadata": {
            "tags": [],
            "needs_background": "light"
          }
        }
      ]
    },
    {
      "cell_type": "markdown",
      "metadata": {
        "id": "70sBeJwjwz2D"
      },
      "source": [
        "Finally, pick a better optimizer. And re-train your model. You'll know you have a reasonable model with a reasonable loss funciton and optimizer if your final training accuracy ends up in the 80s (or possibly higher).\n",
        "\n",
        "*A hint: your model may want to learn adaptively.*"
      ]
    },
    {
      "cell_type": "code",
      "metadata": {
        "colab": {
          "base_uri": "https://localhost:8080/",
          "height": 975
        },
        "id": "l7FvkCV2wz2D",
        "outputId": "ec5af47b-6365-4629-e0c2-1d7cc8aed364"
      },
      "source": [
        "OPTIMIZER = \"adam\" #YOUR CODE HERE#\n",
        "\n",
        "# Compile the model\n",
        "model.compile(optimizer=OPTIMIZER,\n",
        "              loss=LOSS,\n",
        "              metrics=['accuracy'])\n",
        "\n",
        "# Fit the model\n",
        "history = model.fit(train_images, train_labels, epochs=NUM_EPOCHS, \n",
        "                    validation_data=(test_images, test_labels))\n",
        "\n",
        "# summarize history for accuracy\n",
        "plt.plot(history.history['accuracy'])\n",
        "plt.plot(history.history['val_accuracy'])\n",
        "plt.title('model accuracy')\n",
        "plt.ylabel('accuracy')\n",
        "plt.xlabel('epoch')\n",
        "plt.legend(['train', 'test'], loc='upper left')\n",
        "plt.xlim([0,NUM_EPOCHS])\n",
        "plt.ylim([0.4,1.0])\n",
        "plt.show()"
      ],
      "execution_count": 4,
      "outputs": [
        {
          "output_type": "stream",
          "text": [
            "Epoch 1/20\n",
            "1563/1563 [==============================] - 6s 3ms/step - loss: 0.8729 - accuracy: 0.6938 - val_loss: 0.9175 - val_accuracy: 0.6834\n",
            "Epoch 2/20\n",
            "1563/1563 [==============================] - 5s 3ms/step - loss: 0.7782 - accuracy: 0.7273 - val_loss: 0.8888 - val_accuracy: 0.6936\n",
            "Epoch 3/20\n",
            "1563/1563 [==============================] - 5s 3ms/step - loss: 0.7062 - accuracy: 0.7511 - val_loss: 0.9674 - val_accuracy: 0.6805\n",
            "Epoch 4/20\n",
            "1563/1563 [==============================] - 5s 3ms/step - loss: 0.6269 - accuracy: 0.7789 - val_loss: 0.8941 - val_accuracy: 0.6971\n",
            "Epoch 5/20\n",
            "1563/1563 [==============================] - 5s 3ms/step - loss: 0.5536 - accuracy: 0.8041 - val_loss: 0.9718 - val_accuracy: 0.6815\n",
            "Epoch 6/20\n",
            "1563/1563 [==============================] - 5s 3ms/step - loss: 0.4882 - accuracy: 0.8283 - val_loss: 0.9516 - val_accuracy: 0.6988\n",
            "Epoch 7/20\n",
            "1563/1563 [==============================] - 5s 3ms/step - loss: 0.4438 - accuracy: 0.8390 - val_loss: 1.0058 - val_accuracy: 0.6983\n",
            "Epoch 8/20\n",
            "1563/1563 [==============================] - 5s 3ms/step - loss: 0.3812 - accuracy: 0.8613 - val_loss: 1.0263 - val_accuracy: 0.7031\n",
            "Epoch 9/20\n",
            "1563/1563 [==============================] - 5s 3ms/step - loss: 0.3311 - accuracy: 0.8818 - val_loss: 1.1546 - val_accuracy: 0.6956\n",
            "Epoch 10/20\n",
            "1563/1563 [==============================] - 5s 3ms/step - loss: 0.3029 - accuracy: 0.8917 - val_loss: 1.1450 - val_accuracy: 0.6969\n",
            "Epoch 11/20\n",
            "1563/1563 [==============================] - 5s 3ms/step - loss: 0.2620 - accuracy: 0.9065 - val_loss: 1.2575 - val_accuracy: 0.6919\n",
            "Epoch 12/20\n",
            "1563/1563 [==============================] - 5s 3ms/step - loss: 0.2367 - accuracy: 0.9162 - val_loss: 1.2604 - val_accuracy: 0.6970\n",
            "Epoch 13/20\n",
            "1563/1563 [==============================] - 5s 3ms/step - loss: 0.2140 - accuracy: 0.9242 - val_loss: 1.3592 - val_accuracy: 0.6909\n",
            "Epoch 14/20\n",
            "1563/1563 [==============================] - 5s 3ms/step - loss: 0.1958 - accuracy: 0.9294 - val_loss: 1.4869 - val_accuracy: 0.6879\n",
            "Epoch 15/20\n",
            "1563/1563 [==============================] - 5s 3ms/step - loss: 0.1796 - accuracy: 0.9360 - val_loss: 1.6058 - val_accuracy: 0.6865\n",
            "Epoch 16/20\n",
            "1563/1563 [==============================] - 5s 3ms/step - loss: 0.1705 - accuracy: 0.9372 - val_loss: 1.5588 - val_accuracy: 0.6953\n",
            "Epoch 17/20\n",
            "1563/1563 [==============================] - 5s 3ms/step - loss: 0.1572 - accuracy: 0.9438 - val_loss: 1.6577 - val_accuracy: 0.6950\n",
            "Epoch 18/20\n",
            "1563/1563 [==============================] - 5s 3ms/step - loss: 0.1432 - accuracy: 0.9484 - val_loss: 1.7762 - val_accuracy: 0.6850\n",
            "Epoch 19/20\n",
            "1563/1563 [==============================] - 5s 3ms/step - loss: 0.1390 - accuracy: 0.9507 - val_loss: 1.7152 - val_accuracy: 0.6909\n",
            "Epoch 20/20\n",
            "1563/1563 [==============================] - 5s 3ms/step - loss: 0.1355 - accuracy: 0.9519 - val_loss: 1.8302 - val_accuracy: 0.6969\n"
          ],
          "name": "stdout"
        },
        {
          "output_type": "display_data",
          "data": {
            "image/png": "[encoded data removed]",
            "text/plain": [
              "<Figure size 432x288 with 1 Axes>"
            ]
          },
          "metadata": {
            "tags": [],
            "needs_background": "light"
          }
        }
      ]
    }
  ]
}
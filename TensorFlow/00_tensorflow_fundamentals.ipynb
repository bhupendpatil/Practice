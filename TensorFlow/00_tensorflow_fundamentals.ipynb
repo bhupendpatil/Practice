{
  "nbformat": 4,
  "nbformat_minor": 0,
  "metadata": {
    "colab": {
      "name": "00_tensorflow_fundamentals.ipynb",
      "provenance": [],
      "collapsed_sections": [],
      "machine_shape": "hm"
    },
    "kernelspec": {
      "name": "python3",
      "display_name": "Python 3"
    }
  },
  "cells": [
    {
      "cell_type": "markdown",
      "metadata": {
        "id": "Kq-RvipkfiCF"
      },
      "source": [
        "# In this notebook, we're going to cover some of the most fundamental concepts of tensors using TensorFlow\n",
        "\n",
        "We're going to cover:\n",
        "* Introduction to tensors\n",
        "* Getting information from tensors\n",
        "* Manipulating tensors\n",
        "* Tensors & Numpy\n",
        "* Using @tf.function (a ways to speed up your regular Python function)\n",
        "* Using GPUs with TensorFlow (or TPUs)\n",
        "* Exercise to try yourself!"
      ]
    },
    {
      "cell_type": "markdown",
      "metadata": {
        "id": "hmmZP3pJgJZg"
      },
      "source": [
        "## Introduction to Tensors"
      ]
    },
    {
      "cell_type": "code",
      "metadata": {
        "colab": {
          "base_uri": "https://localhost:8080/"
        },
        "id": "gsNT0VvJffpt",
        "outputId": "32901f0c-308d-4885-917d-3140e46f4278"
      },
      "source": [
        "# Import TensorFlow\n",
        "import tensorflow as tf\n",
        "print(tf.__version__)"
      ],
      "execution_count": 1,
      "outputs": [
        {
          "output_type": "stream",
          "text": [
            "2.4.1\n"
          ],
          "name": "stdout"
        }
      ]
    },
    {
      "cell_type": "code",
      "metadata": {
        "colab": {
          "base_uri": "https://localhost:8080/"
        },
        "id": "2bdep9bXgbQR",
        "outputId": "c8c5f241-9654-421a-c0f1-f78269945dd7"
      },
      "source": [
        "# Create tensors with tf.constant()\n",
        "scalar = tf.constant(7)\n",
        "scalar"
      ],
      "execution_count": 2,
      "outputs": [
        {
          "output_type": "execute_result",
          "data": {
            "text/plain": [
              "<tf.Tensor: shape=(), dtype=int32, numpy=7>"
            ]
          },
          "metadata": {
            "tags": []
          },
          "execution_count": 2
        }
      ]
    },
    {
      "cell_type": "code",
      "metadata": {
        "colab": {
          "base_uri": "https://localhost:8080/"
        },
        "id": "EDHMFAJxgrPw",
        "outputId": "2867de12-4bc4-4545-d308-743ed802e36c"
      },
      "source": [
        "# Check the number of dimensions of tensor (ndim stands for number of dimensions)\n",
        "scalar.ndim"
      ],
      "execution_count": 3,
      "outputs": [
        {
          "output_type": "execute_result",
          "data": {
            "text/plain": [
              "0"
            ]
          },
          "metadata": {
            "tags": []
          },
          "execution_count": 3
        }
      ]
    },
    {
      "cell_type": "code",
      "metadata": {
        "colab": {
          "base_uri": "https://localhost:8080/"
        },
        "id": "wgsU2owIjo1-",
        "outputId": "fce34714-11bc-403c-fdf4-1cd01b560d16"
      },
      "source": [
        "# Create a vector\n",
        "vector = tf.constant([10,10])\n",
        "vector"
      ],
      "execution_count": 4,
      "outputs": [
        {
          "output_type": "execute_result",
          "data": {
            "text/plain": [
              "<tf.Tensor: shape=(2,), dtype=int32, numpy=array([10, 10], dtype=int32)>"
            ]
          },
          "metadata": {
            "tags": []
          },
          "execution_count": 4
        }
      ]
    },
    {
      "cell_type": "code",
      "metadata": {
        "id": "AzygGyB0juSh",
        "colab": {
          "base_uri": "https://localhost:8080/"
        },
        "outputId": "04deca89-fbf5-4fea-8c59-082ba33a9259"
      },
      "source": [
        "# Check the dimension of our vector\n",
        "vector.ndim"
      ],
      "execution_count": 5,
      "outputs": [
        {
          "output_type": "execute_result",
          "data": {
            "text/plain": [
              "1"
            ]
          },
          "metadata": {
            "tags": []
          },
          "execution_count": 5
        }
      ]
    },
    {
      "cell_type": "code",
      "metadata": {
        "colab": {
          "base_uri": "https://localhost:8080/"
        },
        "id": "ahzL2ZaqRRM-",
        "outputId": "0508e2a1-a8ea-425f-b7d1-1f1f71324e47"
      },
      "source": [
        "# Create a matrix (has more than 1 dimension)\n",
        "matrix = tf.constant([[10,7],[7,10]])\n",
        "matrix"
      ],
      "execution_count": 6,
      "outputs": [
        {
          "output_type": "execute_result",
          "data": {
            "text/plain": [
              "<tf.Tensor: shape=(2, 2), dtype=int32, numpy=\n",
              "array([[10,  7],\n",
              "       [ 7, 10]], dtype=int32)>"
            ]
          },
          "metadata": {
            "tags": []
          },
          "execution_count": 6
        }
      ]
    },
    {
      "cell_type": "code",
      "metadata": {
        "colab": {
          "base_uri": "https://localhost:8080/"
        },
        "id": "rCs9oCt0Rf8g",
        "outputId": "8c0f676a-e880-439f-ad46-6a85bf1ce14f"
      },
      "source": [
        "matrix.ndim"
      ],
      "execution_count": 7,
      "outputs": [
        {
          "output_type": "execute_result",
          "data": {
            "text/plain": [
              "2"
            ]
          },
          "metadata": {
            "tags": []
          },
          "execution_count": 7
        }
      ]
    },
    {
      "cell_type": "code",
      "metadata": {
        "colab": {
          "base_uri": "https://localhost:8080/"
        },
        "id": "Ril1sHUIRit0",
        "outputId": "9dec5b8e-a23e-4729-a69e-6b9c5815fa29"
      },
      "source": [
        "# Create another matrix\n",
        "another_matrix = tf.constant([[10.,7.],\n",
        "                              [3.,2.],\n",
        "                              [8.,9.]], dtype=tf.float16) # specify the data type with paramater\n",
        "another_matrix"
      ],
      "execution_count": 8,
      "outputs": [
        {
          "output_type": "execute_result",
          "data": {
            "text/plain": [
              "<tf.Tensor: shape=(3, 2), dtype=float16, numpy=\n",
              "array([[10.,  7.],\n",
              "       [ 3.,  2.],\n",
              "       [ 8.,  9.]], dtype=float16)>"
            ]
          },
          "metadata": {
            "tags": []
          },
          "execution_count": 8
        }
      ]
    },
    {
      "cell_type": "code",
      "metadata": {
        "colab": {
          "base_uri": "https://localhost:8080/"
        },
        "id": "AzJqFFmOSgHD",
        "outputId": "82086023-2722-4153-8808-42f6aab0e586"
      },
      "source": [
        "# What's the dimension of another_matrix?\n",
        "another_matrix.ndim"
      ],
      "execution_count": 9,
      "outputs": [
        {
          "output_type": "execute_result",
          "data": {
            "text/plain": [
              "2"
            ]
          },
          "metadata": {
            "tags": []
          },
          "execution_count": 9
        }
      ]
    },
    {
      "cell_type": "code",
      "metadata": {
        "colab": {
          "base_uri": "https://localhost:8080/"
        },
        "id": "rYLRaErFUK51",
        "outputId": "110d3fe9-cd14-417d-daf4-9f5c616cdef5"
      },
      "source": [
        "# Lets a create a tensor\n",
        "tensor = tf.constant([[[1,2,3],\n",
        "                       [4,5,6]],\n",
        "                      [[7,8,9],\n",
        "                       [10,11,12]],\n",
        "                      [[13,14,15],\n",
        "                      [16,17,18]]])\n",
        "tensor"
      ],
      "execution_count": 10,
      "outputs": [
        {
          "output_type": "execute_result",
          "data": {
            "text/plain": [
              "<tf.Tensor: shape=(3, 2, 3), dtype=int32, numpy=\n",
              "array([[[ 1,  2,  3],\n",
              "        [ 4,  5,  6]],\n",
              "\n",
              "       [[ 7,  8,  9],\n",
              "        [10, 11, 12]],\n",
              "\n",
              "       [[13, 14, 15],\n",
              "        [16, 17, 18]]], dtype=int32)>"
            ]
          },
          "metadata": {
            "tags": []
          },
          "execution_count": 10
        }
      ]
    },
    {
      "cell_type": "code",
      "metadata": {
        "colab": {
          "base_uri": "https://localhost:8080/"
        },
        "id": "UOgiOPqkU4UO",
        "outputId": "c9228511-9f22-4c8b-ec2c-88cfded3b5ff"
      },
      "source": [
        "tensor.ndim"
      ],
      "execution_count": 11,
      "outputs": [
        {
          "output_type": "execute_result",
          "data": {
            "text/plain": [
              "3"
            ]
          },
          "metadata": {
            "tags": []
          },
          "execution_count": 11
        }
      ]
    },
    {
      "cell_type": "markdown",
      "metadata": {
        "id": "zjbqcLwTVUSi"
      },
      "source": [
        "What we've created so far:\n",
        "* Scalar : a single number\n",
        "* Vector : a number with direction (eg. wind,speed,direction)\n",
        "* Matrix : a 2-dimensional array of numbers\n",
        "* Tensor : a n-dimensional array of numbers (when n can be any number, a 0-dim tensor is scalar,1-dim tensor is a vector)"
      ]
    },
    {
      "cell_type": "markdown",
      "metadata": {
        "id": "p3jkM1VzX2CO"
      },
      "source": [
        "### Create tensor with `tf.Variable`"
      ]
    },
    {
      "cell_type": "code",
      "metadata": {
        "id": "BCzwd_mdVFHY",
        "colab": {
          "base_uri": "https://localhost:8080/"
        },
        "outputId": "1039e637-ce30-4cae-aa92-b36f6e2f547a"
      },
      "source": [
        "# Create the same tensor with tf.Variable() as above\n",
        "changeable_tensor = tf.Variable([10,7])\n",
        "unchangeable_tensor = tf.constant([10,7])\n",
        "changeable_tensor,unchangeable_tensor"
      ],
      "execution_count": 12,
      "outputs": [
        {
          "output_type": "execute_result",
          "data": {
            "text/plain": [
              "(<tf.Variable 'Variable:0' shape=(2,) dtype=int32, numpy=array([10,  7], dtype=int32)>,\n",
              " <tf.Tensor: shape=(2,), dtype=int32, numpy=array([10,  7], dtype=int32)>)"
            ]
          },
          "metadata": {
            "tags": []
          },
          "execution_count": 12
        }
      ]
    },
    {
      "cell_type": "code",
      "metadata": {
        "colab": {
          "base_uri": "https://localhost:8080/",
          "height": 120
        },
        "id": "yKMQGTWqYF29",
        "outputId": "8a06b5fa-9cae-488d-efe2-e6675481fcd6"
      },
      "source": [
        "# Let's try change one of the elements in our changeable tensor\n",
        "# changeable_tensor[0] = 7 #error\n",
        "# changeable_tensor\n",
        "\"\"\"\n",
        "---------------------------------------------------------------------------\n",
        "TypeError                                 Traceback (most recent call last)\n",
        "<ipython-input-13-55cb07e37ee9> in <module>()\n",
        "      1 # Let's try change one of the elements in our changeable tensor\n",
        "----> 2 changeable_tensor[0] = 7\n",
        "      3 changeable_tensor\n",
        "\n",
        "TypeError: 'ResourceVariable' object does not support item assignment\n",
        "\"\"\""
      ],
      "execution_count": 13,
      "outputs": [
        {
          "output_type": "execute_result",
          "data": {
            "application/vnd.google.colaboratory.intrinsic+json": {
              "type": "string"
            },
            "text/plain": [
              "\"\\n---------------------------------------------------------------------------\\nTypeError                                 Traceback (most recent call last)\\n<ipython-input-13-55cb07e37ee9> in <module>()\\n      1 # Let's try change one of the elements in our changeable tensor\\n----> 2 changeable_tensor[0] = 7\\n      3 changeable_tensor\\n\\nTypeError: 'ResourceVariable' object does not support item assignment\\n\""
            ]
          },
          "metadata": {
            "tags": []
          },
          "execution_count": 13
        }
      ]
    },
    {
      "cell_type": "code",
      "metadata": {
        "colab": {
          "base_uri": "https://localhost:8080/"
        },
        "id": "bzMatRLtbzX6",
        "outputId": "a69a2c49-da44-400a-9071-0c9be9ec7e51"
      },
      "source": [
        "# How about we try .assign()\n",
        "changeable_tensor[0].assign(7)\n",
        "changeable_tensor"
      ],
      "execution_count": 14,
      "outputs": [
        {
          "output_type": "execute_result",
          "data": {
            "text/plain": [
              "<tf.Variable 'Variable:0' shape=(2,) dtype=int32, numpy=array([7, 7], dtype=int32)>"
            ]
          },
          "metadata": {
            "tags": []
          },
          "execution_count": 14
        }
      ]
    },
    {
      "cell_type": "code",
      "metadata": {
        "colab": {
          "base_uri": "https://localhost:8080/",
          "height": 103
        },
        "id": "MZvhWxfLcDSa",
        "outputId": "9454a431-e940-4454-a2e5-1860591a9637"
      },
      "source": [
        "# Let's try change on unchangeable_tensor\n",
        "# unchangeable_tensor[0] = 7 # error\n",
        "\"\"\"\n",
        "---------------------------------------------------------------------------\n",
        "TypeError                                 Traceback (most recent call last)\n",
        "<ipython-input-15-00a7fee354bc> in <module>()\n",
        "      1 # Let's try change on unchangeable_tensor\n",
        "----> 2 unchangeable_tensor[0] = 7\n",
        "\n",
        "TypeError: 'tensorflow.python.framework.ops.EagerTensor' object does not support item assignment\n",
        "\"\"\""
      ],
      "execution_count": 15,
      "outputs": [
        {
          "output_type": "execute_result",
          "data": {
            "application/vnd.google.colaboratory.intrinsic+json": {
              "type": "string"
            },
            "text/plain": [
              "\"\\n---------------------------------------------------------------------------\\nTypeError                                 Traceback (most recent call last)\\n<ipython-input-15-00a7fee354bc> in <module>()\\n      1 # Let's try change on unchangeable_tensor\\n----> 2 unchangeable_tensor[0] = 7\\n\\nTypeError: 'tensorflow.python.framework.ops.EagerTensor' object does not support item assignment\\n\""
            ]
          },
          "metadata": {
            "tags": []
          },
          "execution_count": 15
        }
      ]
    },
    {
      "cell_type": "code",
      "metadata": {
        "colab": {
          "base_uri": "https://localhost:8080/",
          "height": 103
        },
        "id": "oYVaaaj4cMLn",
        "outputId": "9a926ad0-4959-4821-ee21-3865d1a67f64"
      },
      "source": [
        "# unchangeable_tensor[0].assign(7) # error\n",
        "\"\"\"\n",
        "---------------------------------------------------------------------------\n",
        "AttributeError                            Traceback (most recent call last)\n",
        "<ipython-input-16-c8c973b2e293> in <module>()\n",
        "----> 1 unchangeable_tensor[0].assign(7)\n",
        "\n",
        "AttributeError: 'tensorflow.python.framework.ops.EagerTensor' object has no attribute 'assign'\n",
        "\"\"\""
      ],
      "execution_count": 16,
      "outputs": [
        {
          "output_type": "execute_result",
          "data": {
            "application/vnd.google.colaboratory.intrinsic+json": {
              "type": "string"
            },
            "text/plain": [
              "\"\\n---------------------------------------------------------------------------\\nAttributeError                            Traceback (most recent call last)\\n<ipython-input-16-c8c973b2e293> in <module>()\\n----> 1 unchangeable_tensor[0].assign(7)\\n\\nAttributeError: 'tensorflow.python.framework.ops.EagerTensor' object has no attribute 'assign'\\n\""
            ]
          },
          "metadata": {
            "tags": []
          },
          "execution_count": 16
        }
      ]
    },
    {
      "cell_type": "markdown",
      "metadata": {
        "id": "ThZsmx5Rei2-"
      },
      "source": [
        "🔑 **Note:** Rarely in practic will you need to decide whether to use `tf.constant` or `tf.Variable` to create tensors, as TensorFlow does this for you. However, if in doubt, use `tf.constant` and change it later if needed."
      ]
    },
    {
      "cell_type": "markdown",
      "metadata": {
        "id": "kDE7G5d0ea4L"
      },
      "source": [
        "### Creating random tensors\n",
        "\n",
        "Random tensors are tensors of some abitary size which contain random numbers."
      ]
    },
    {
      "cell_type": "code",
      "metadata": {
        "colab": {
          "base_uri": "https://localhost:8080/"
        },
        "id": "e4llUhifean0",
        "outputId": "f9e2b1c3-148e-442e-8dc3-7ec19b3d5d4e"
      },
      "source": [
        "# Create two random (but the same) tensors\n",
        "random_1 = tf.random.Generator.from_seed(42) # set seed for reproducibility\n",
        "random_1 = random_1.normal(shape=(3,2))\n",
        "random_2 = tf.random.Generator.from_seed(42)\n",
        "random_2 = random_2.normal(shape=(3,2))\n",
        "\n",
        "# Are they equal?\n",
        "random_1,random_2,random_1==random_2"
      ],
      "execution_count": 17,
      "outputs": [
        {
          "output_type": "execute_result",
          "data": {
            "text/plain": [
              "(<tf.Tensor: shape=(3, 2), dtype=float32, numpy=\n",
              " array([[-0.7565803 , -0.06854702],\n",
              "        [ 0.07595026, -1.2573844 ],\n",
              "        [-0.23193763, -1.8107855 ]], dtype=float32)>,\n",
              " <tf.Tensor: shape=(3, 2), dtype=float32, numpy=\n",
              " array([[-0.7565803 , -0.06854702],\n",
              "        [ 0.07595026, -1.2573844 ],\n",
              "        [-0.23193763, -1.8107855 ]], dtype=float32)>,\n",
              " <tf.Tensor: shape=(3, 2), dtype=bool, numpy=\n",
              " array([[ True,  True],\n",
              "        [ True,  True],\n",
              "        [ True,  True]])>)"
            ]
          },
          "metadata": {
            "tags": []
          },
          "execution_count": 17
        }
      ]
    },
    {
      "cell_type": "markdown",
      "metadata": {
        "id": "j9Q91OWps2YE"
      },
      "source": [
        "### Shuffle the order of elements in a tensor"
      ]
    },
    {
      "cell_type": "code",
      "metadata": {
        "id": "VFnhlmbKcQov",
        "colab": {
          "base_uri": "https://localhost:8080/"
        },
        "outputId": "ba59b098-03d7-4335-a59f-a5e945372b13"
      },
      "source": [
        "# Shuffle a tensor (valuable for when you want to shuffle your data so the inherent order doesn't effect learning)\n",
        "not_shuffled = tf.constant([[10,7],\n",
        "                            [3,4],\n",
        "                            [2,5]])\n",
        "not_shuffled.ndim"
      ],
      "execution_count": 18,
      "outputs": [
        {
          "output_type": "execute_result",
          "data": {
            "text/plain": [
              "2"
            ]
          },
          "metadata": {
            "tags": []
          },
          "execution_count": 18
        }
      ]
    },
    {
      "cell_type": "code",
      "metadata": {
        "colab": {
          "base_uri": "https://localhost:8080/"
        },
        "id": "jlXXLLgxtfpS",
        "outputId": "3290e58f-bbf7-43d5-bf48-a2ec5cc80b6b"
      },
      "source": [
        "not_shuffled"
      ],
      "execution_count": 19,
      "outputs": [
        {
          "output_type": "execute_result",
          "data": {
            "text/plain": [
              "<tf.Tensor: shape=(3, 2), dtype=int32, numpy=\n",
              "array([[10,  7],\n",
              "       [ 3,  4],\n",
              "       [ 2,  5]], dtype=int32)>"
            ]
          },
          "metadata": {
            "tags": []
          },
          "execution_count": 19
        }
      ]
    },
    {
      "cell_type": "code",
      "metadata": {
        "colab": {
          "base_uri": "https://localhost:8080/"
        },
        "id": "HvftuyK-tki4",
        "outputId": "3644afc6-5616-4c50-93d3-edd48eedc3ef"
      },
      "source": [
        "# Shuffle out non-shuffled tensor\n",
        "tf.random.shuffle(not_shuffled)"
      ],
      "execution_count": 20,
      "outputs": [
        {
          "output_type": "execute_result",
          "data": {
            "text/plain": [
              "<tf.Tensor: shape=(3, 2), dtype=int32, numpy=\n",
              "array([[ 2,  5],\n",
              "       [10,  7],\n",
              "       [ 3,  4]], dtype=int32)>"
            ]
          },
          "metadata": {
            "tags": []
          },
          "execution_count": 20
        }
      ]
    },
    {
      "cell_type": "code",
      "metadata": {
        "colab": {
          "base_uri": "https://localhost:8080/"
        },
        "id": "X0KSVr-2t1z7",
        "outputId": "8008a992-9366-45d6-acf1-218a484b2e12"
      },
      "source": [
        "tf.random.set_seed(42)\n",
        "tf.random.shuffle(not_shuffled,seed=42)"
      ],
      "execution_count": 21,
      "outputs": [
        {
          "output_type": "execute_result",
          "data": {
            "text/plain": [
              "<tf.Tensor: shape=(3, 2), dtype=int32, numpy=\n",
              "array([[10,  7],\n",
              "       [ 3,  4],\n",
              "       [ 2,  5]], dtype=int32)>"
            ]
          },
          "metadata": {
            "tags": []
          },
          "execution_count": 21
        }
      ]
    },
    {
      "cell_type": "code",
      "metadata": {
        "colab": {
          "base_uri": "https://localhost:8080/"
        },
        "id": "UKT3swhguQPB",
        "outputId": "eae4424a-b870-4c7e-8815-6ba84579b341"
      },
      "source": [
        "tf.random.shuffle(not_shuffled,seed=42)"
      ],
      "execution_count": 22,
      "outputs": [
        {
          "output_type": "execute_result",
          "data": {
            "text/plain": [
              "<tf.Tensor: shape=(3, 2), dtype=int32, numpy=\n",
              "array([[ 2,  5],\n",
              "       [10,  7],\n",
              "       [ 3,  4]], dtype=int32)>"
            ]
          },
          "metadata": {
            "tags": []
          },
          "execution_count": 22
        }
      ]
    },
    {
      "cell_type": "markdown",
      "metadata": {
        "id": "q6HrsSMmvLoI"
      },
      "source": [
        "🛠 **Exercise** : Read through TensorFlow documentation on random seed gemeration: https://www.tensorflow.org/api_docs/python/tf/random/set_seed and practice writing 5 random tensors and shuffle them"
      ]
    },
    {
      "cell_type": "code",
      "metadata": {
        "id": "mNaprmTuuRS9"
      },
      "source": [
        "# 5 random tensors\n",
        "first = tf.random.Generator.from_seed(40)\n",
        "first = first.normal(shape=(3,2))\n",
        "second = tf.random.Generator.from_seed(41)\n",
        "second = second.normal(shape=(3,2))\n",
        "third = tf.random.Generator.from_seed(42)\n",
        "third = third.normal(shape=(3,3))\n",
        "forth = tf.random.Generator.from_seed(42)\n",
        "forth = forth.normal(shape=(2,3))\n",
        "fifth = tf.random.Generator.from_seed(45)\n",
        "fifth = fifth.normal(shape=(4,4))"
      ],
      "execution_count": 23,
      "outputs": []
    },
    {
      "cell_type": "code",
      "metadata": {
        "colab": {
          "base_uri": "https://localhost:8080/"
        },
        "id": "h9lWo6wDxvV-",
        "outputId": "3babab00-e29c-4ac2-985b-b27c88c4ec29"
      },
      "source": [
        "first"
      ],
      "execution_count": 24,
      "outputs": [
        {
          "output_type": "execute_result",
          "data": {
            "text/plain": [
              "<tf.Tensor: shape=(3, 2), dtype=float32, numpy=\n",
              "array([[ 0.78953624,  0.53897345],\n",
              "       [-0.48535708,  0.74055266],\n",
              "       [ 0.31662667, -1.4391748 ]], dtype=float32)>"
            ]
          },
          "metadata": {
            "tags": []
          },
          "execution_count": 24
        }
      ]
    },
    {
      "cell_type": "code",
      "metadata": {
        "colab": {
          "base_uri": "https://localhost:8080/"
        },
        "id": "jmrbPcCBx1o9",
        "outputId": "ac955865-5901-4a4b-eb13-017a110b2116"
      },
      "source": [
        "second"
      ],
      "execution_count": 25,
      "outputs": [
        {
          "output_type": "execute_result",
          "data": {
            "text/plain": [
              "<tf.Tensor: shape=(3, 2), dtype=float32, numpy=\n",
              "array([[ 0.31662667, -1.4391748 ],\n",
              "       [ 0.58923835, -1.4268045 ],\n",
              "       [-0.7565803 , -0.06854702]], dtype=float32)>"
            ]
          },
          "metadata": {
            "tags": []
          },
          "execution_count": 25
        }
      ]
    },
    {
      "cell_type": "code",
      "metadata": {
        "colab": {
          "base_uri": "https://localhost:8080/"
        },
        "id": "x9otNDPjx5A5",
        "outputId": "e55705ec-4bea-49d3-cbd2-6d4db0ca1b9a"
      },
      "source": [
        "third"
      ],
      "execution_count": 26,
      "outputs": [
        {
          "output_type": "execute_result",
          "data": {
            "text/plain": [
              "<tf.Tensor: shape=(3, 3), dtype=float32, numpy=\n",
              "array([[-0.7565803 , -0.06854702,  0.07595026],\n",
              "       [-1.2573844 , -0.23193763, -1.8107855 ],\n",
              "       [ 0.09988727, -0.50998646, -0.7535805 ]], dtype=float32)>"
            ]
          },
          "metadata": {
            "tags": []
          },
          "execution_count": 26
        }
      ]
    },
    {
      "cell_type": "code",
      "metadata": {
        "colab": {
          "base_uri": "https://localhost:8080/"
        },
        "id": "qvykJaKyx6pz",
        "outputId": "9fcf1377-4779-4985-f605-988df0e031c5"
      },
      "source": [
        "forth"
      ],
      "execution_count": 27,
      "outputs": [
        {
          "output_type": "execute_result",
          "data": {
            "text/plain": [
              "<tf.Tensor: shape=(2, 3), dtype=float32, numpy=\n",
              "array([[-0.7565803 , -0.06854702,  0.07595026],\n",
              "       [-1.2573844 , -0.23193763, -1.8107855 ]], dtype=float32)>"
            ]
          },
          "metadata": {
            "tags": []
          },
          "execution_count": 27
        }
      ]
    },
    {
      "cell_type": "code",
      "metadata": {
        "colab": {
          "base_uri": "https://localhost:8080/"
        },
        "id": "3zLk19XTx9D7",
        "outputId": "997c74b7-692f-4b81-cc2f-13d50c829feb"
      },
      "source": [
        "fifth"
      ],
      "execution_count": 28,
      "outputs": [
        {
          "output_type": "execute_result",
          "data": {
            "text/plain": [
              "<tf.Tensor: shape=(4, 4), dtype=float32, numpy=\n",
              "array([[-0.3522796 ,  0.40621263, -1.0523509 ,  1.2054597 ],\n",
              "       [ 1.6874489 , -0.4462975 , -2.3410842 ,  0.99009085],\n",
              "       [-0.0876323 , -0.635568  , -0.6161736 , -1.9441465 ],\n",
              "       [-0.48293006, -0.52447474, -1.0345329 ,  1.3066901 ]],\n",
              "      dtype=float32)>"
            ]
          },
          "metadata": {
            "tags": []
          },
          "execution_count": 28
        }
      ]
    },
    {
      "cell_type": "code",
      "metadata": {
        "colab": {
          "base_uri": "https://localhost:8080/"
        },
        "id": "qUZgo-yPx9nb",
        "outputId": "b0dc175e-2ab9-4379-ee67-0665c9d6f8a7"
      },
      "source": [
        "# shuffle them\n",
        "tf.random.shuffle(first)"
      ],
      "execution_count": 29,
      "outputs": [
        {
          "output_type": "execute_result",
          "data": {
            "text/plain": [
              "<tf.Tensor: shape=(3, 2), dtype=float32, numpy=\n",
              "array([[-0.48535708,  0.74055266],\n",
              "       [ 0.31662667, -1.4391748 ],\n",
              "       [ 0.78953624,  0.53897345]], dtype=float32)>"
            ]
          },
          "metadata": {
            "tags": []
          },
          "execution_count": 29
        }
      ]
    },
    {
      "cell_type": "code",
      "metadata": {
        "colab": {
          "base_uri": "https://localhost:8080/"
        },
        "id": "7DXHN-yDyRVL",
        "outputId": "4ab3837a-5585-4d2e-db0f-f8e12b7bcd49"
      },
      "source": [
        "tf.random.set_seed(40) # global level random seed\n",
        "tf.random.shuffle(second,seed=40) # operation level global seed"
      ],
      "execution_count": 30,
      "outputs": [
        {
          "output_type": "execute_result",
          "data": {
            "text/plain": [
              "<tf.Tensor: shape=(3, 2), dtype=float32, numpy=\n",
              "array([[-0.7565803 , -0.06854702],\n",
              "       [ 0.31662667, -1.4391748 ],\n",
              "       [ 0.58923835, -1.4268045 ]], dtype=float32)>"
            ]
          },
          "metadata": {
            "tags": []
          },
          "execution_count": 30
        }
      ]
    },
    {
      "cell_type": "code",
      "metadata": {
        "colab": {
          "base_uri": "https://localhost:8080/"
        },
        "id": "ixoeZG1AyeVj",
        "outputId": "c6caf683-9a4b-4a77-9fc1-5bc1665652ed"
      },
      "source": [
        "tf.random.shuffle(third)"
      ],
      "execution_count": 31,
      "outputs": [
        {
          "output_type": "execute_result",
          "data": {
            "text/plain": [
              "<tf.Tensor: shape=(3, 3), dtype=float32, numpy=\n",
              "array([[-1.2573844 , -0.23193763, -1.8107855 ],\n",
              "       [-0.7565803 , -0.06854702,  0.07595026],\n",
              "       [ 0.09988727, -0.50998646, -0.7535805 ]], dtype=float32)>"
            ]
          },
          "metadata": {
            "tags": []
          },
          "execution_count": 31
        }
      ]
    },
    {
      "cell_type": "code",
      "metadata": {
        "colab": {
          "base_uri": "https://localhost:8080/"
        },
        "id": "oDqZQy6zyjbf",
        "outputId": "b75ebe8e-50dc-4d43-c786-2404dbaa32f6"
      },
      "source": [
        "tf.random.shuffle(forth)"
      ],
      "execution_count": 32,
      "outputs": [
        {
          "output_type": "execute_result",
          "data": {
            "text/plain": [
              "<tf.Tensor: shape=(2, 3), dtype=float32, numpy=\n",
              "array([[-1.2573844 , -0.23193763, -1.8107855 ],\n",
              "       [-0.7565803 , -0.06854702,  0.07595026]], dtype=float32)>"
            ]
          },
          "metadata": {
            "tags": []
          },
          "execution_count": 32
        }
      ]
    },
    {
      "cell_type": "code",
      "metadata": {
        "colab": {
          "base_uri": "https://localhost:8080/"
        },
        "id": "xXJo5RVFylcc",
        "outputId": "aaf618dd-e08e-41b7-8794-880182c5d3c6"
      },
      "source": [
        "tf.random.shuffle(fifth)"
      ],
      "execution_count": 33,
      "outputs": [
        {
          "output_type": "execute_result",
          "data": {
            "text/plain": [
              "<tf.Tensor: shape=(4, 4), dtype=float32, numpy=\n",
              "array([[ 1.6874489 , -0.4462975 , -2.3410842 ,  0.99009085],\n",
              "       [-0.48293006, -0.52447474, -1.0345329 ,  1.3066901 ],\n",
              "       [-0.3522796 ,  0.40621263, -1.0523509 ,  1.2054597 ],\n",
              "       [-0.0876323 , -0.635568  , -0.6161736 , -1.9441465 ]],\n",
              "      dtype=float32)>"
            ]
          },
          "metadata": {
            "tags": []
          },
          "execution_count": 33
        }
      ]
    },
    {
      "cell_type": "markdown",
      "metadata": {
        "id": "pPljexLAptF4"
      },
      "source": [
        "### Other ways to make tensors"
      ]
    },
    {
      "cell_type": "code",
      "metadata": {
        "id": "hlmF5Gduyo0b",
        "colab": {
          "base_uri": "https://localhost:8080/"
        },
        "outputId": "93fed6ef-c889-486a-9818-8f68156bf26c"
      },
      "source": [
        "# Create a tensor of all ones\n",
        "tf.ones([10,7])"
      ],
      "execution_count": 34,
      "outputs": [
        {
          "output_type": "execute_result",
          "data": {
            "text/plain": [
              "<tf.Tensor: shape=(10, 7), dtype=float32, numpy=\n",
              "array([[1., 1., 1., 1., 1., 1., 1.],\n",
              "       [1., 1., 1., 1., 1., 1., 1.],\n",
              "       [1., 1., 1., 1., 1., 1., 1.],\n",
              "       [1., 1., 1., 1., 1., 1., 1.],\n",
              "       [1., 1., 1., 1., 1., 1., 1.],\n",
              "       [1., 1., 1., 1., 1., 1., 1.],\n",
              "       [1., 1., 1., 1., 1., 1., 1.],\n",
              "       [1., 1., 1., 1., 1., 1., 1.],\n",
              "       [1., 1., 1., 1., 1., 1., 1.],\n",
              "       [1., 1., 1., 1., 1., 1., 1.]], dtype=float32)>"
            ]
          },
          "metadata": {
            "tags": []
          },
          "execution_count": 34
        }
      ]
    },
    {
      "cell_type": "code",
      "metadata": {
        "colab": {
          "base_uri": "https://localhost:8080/"
        },
        "id": "3ZRjUxVYp1UO",
        "outputId": "a68d0d82-1de0-4009-9c35-b35955f64143"
      },
      "source": [
        "# Create a tensor of all zeros\n",
        "tf.zeros(shape=(3,4))"
      ],
      "execution_count": 35,
      "outputs": [
        {
          "output_type": "execute_result",
          "data": {
            "text/plain": [
              "<tf.Tensor: shape=(3, 4), dtype=float32, numpy=\n",
              "array([[0., 0., 0., 0.],\n",
              "       [0., 0., 0., 0.],\n",
              "       [0., 0., 0., 0.]], dtype=float32)>"
            ]
          },
          "metadata": {
            "tags": []
          },
          "execution_count": 35
        }
      ]
    },
    {
      "cell_type": "markdown",
      "metadata": {
        "id": "lLuiujZUqMHW"
      },
      "source": [
        "### Turn NumPy arrays into tensors\n",
        "\n",
        "The main difference betweeon NumPy arrays and TensorFlow tensors is that tensors can be run on a GPU (much faster for numerical computing)"
      ]
    },
    {
      "cell_type": "code",
      "metadata": {
        "colab": {
          "base_uri": "https://localhost:8080/"
        },
        "id": "X9yXdnOwqELh",
        "outputId": "ba1af46b-f9eb-4940-b9ba-696885fd2181"
      },
      "source": [
        "# You can also turn NumPy arrays into tensors\n",
        "import numpy as np\n",
        "numpy_A = np.arange(1,25,dtype=np.int32) # create a NumPy array between 1 and 25\n",
        "numpy_A\n",
        "\n",
        "# X = tf.constant(some_matrix) # capital for matrix or tensor\n",
        "# y = tf.constant(vector) # non-capital for vector"
      ],
      "execution_count": 36,
      "outputs": [
        {
          "output_type": "execute_result",
          "data": {
            "text/plain": [
              "array([ 1,  2,  3,  4,  5,  6,  7,  8,  9, 10, 11, 12, 13, 14, 15, 16, 17,\n",
              "       18, 19, 20, 21, 22, 23, 24], dtype=int32)"
            ]
          },
          "metadata": {
            "tags": []
          },
          "execution_count": 36
        }
      ]
    },
    {
      "cell_type": "code",
      "metadata": {
        "colab": {
          "base_uri": "https://localhost:8080/"
        },
        "id": "ZKdEMFcdrKzJ",
        "outputId": "35ab29b3-8031-42d8-9995-e6a9f8c9d614"
      },
      "source": [
        "A = tf.constant(numpy_A,shape=(2,3,4))\n",
        "B = tf.constant(numpy_A)\n",
        "A,B"
      ],
      "execution_count": 37,
      "outputs": [
        {
          "output_type": "execute_result",
          "data": {
            "text/plain": [
              "(<tf.Tensor: shape=(2, 3, 4), dtype=int32, numpy=\n",
              " array([[[ 1,  2,  3,  4],\n",
              "         [ 5,  6,  7,  8],\n",
              "         [ 9, 10, 11, 12]],\n",
              " \n",
              "        [[13, 14, 15, 16],\n",
              "         [17, 18, 19, 20],\n",
              "         [21, 22, 23, 24]]], dtype=int32)>,\n",
              " <tf.Tensor: shape=(24,), dtype=int32, numpy=\n",
              " array([ 1,  2,  3,  4,  5,  6,  7,  8,  9, 10, 11, 12, 13, 14, 15, 16, 17,\n",
              "        18, 19, 20, 21, 22, 23, 24], dtype=int32)>)"
            ]
          },
          "metadata": {
            "tags": []
          },
          "execution_count": 37
        }
      ]
    },
    {
      "cell_type": "markdown",
      "metadata": {
        "id": "np4FwXpRJ8Gf"
      },
      "source": [
        "### Getting information from tensors\n",
        "\n",
        "When dealing with tensors you probably want to be aware of the following attributes:\n",
        "* Shape\n",
        "* Rank\n",
        "* Axis or dimension\n",
        "* Size"
      ]
    },
    {
      "cell_type": "code",
      "metadata": {
        "colab": {
          "base_uri": "https://localhost:8080/"
        },
        "id": "75lU2wHrrX4z",
        "outputId": "e9142002-ed57-447f-e126-02786b26ccfd"
      },
      "source": [
        " # Create a rank 4 tensor (4 dimensions)\n",
        " rank_4_tensor = tf.zeros([2,3,4,5])\n",
        " rank_4_tensor"
      ],
      "execution_count": 38,
      "outputs": [
        {
          "output_type": "execute_result",
          "data": {
            "text/plain": [
              "<tf.Tensor: shape=(2, 3, 4, 5), dtype=float32, numpy=\n",
              "array([[[[0., 0., 0., 0., 0.],\n",
              "         [0., 0., 0., 0., 0.],\n",
              "         [0., 0., 0., 0., 0.],\n",
              "         [0., 0., 0., 0., 0.]],\n",
              "\n",
              "        [[0., 0., 0., 0., 0.],\n",
              "         [0., 0., 0., 0., 0.],\n",
              "         [0., 0., 0., 0., 0.],\n",
              "         [0., 0., 0., 0., 0.]],\n",
              "\n",
              "        [[0., 0., 0., 0., 0.],\n",
              "         [0., 0., 0., 0., 0.],\n",
              "         [0., 0., 0., 0., 0.],\n",
              "         [0., 0., 0., 0., 0.]]],\n",
              "\n",
              "\n",
              "       [[[0., 0., 0., 0., 0.],\n",
              "         [0., 0., 0., 0., 0.],\n",
              "         [0., 0., 0., 0., 0.],\n",
              "         [0., 0., 0., 0., 0.]],\n",
              "\n",
              "        [[0., 0., 0., 0., 0.],\n",
              "         [0., 0., 0., 0., 0.],\n",
              "         [0., 0., 0., 0., 0.],\n",
              "         [0., 0., 0., 0., 0.]],\n",
              "\n",
              "        [[0., 0., 0., 0., 0.],\n",
              "         [0., 0., 0., 0., 0.],\n",
              "         [0., 0., 0., 0., 0.],\n",
              "         [0., 0., 0., 0., 0.]]]], dtype=float32)>"
            ]
          },
          "metadata": {
            "tags": []
          },
          "execution_count": 38
        }
      ]
    },
    {
      "cell_type": "code",
      "metadata": {
        "colab": {
          "base_uri": "https://localhost:8080/"
        },
        "id": "dXJPUDiHLOwS",
        "outputId": "bdd85934-39a9-4267-8d78-954e1db2f300"
      },
      "source": [
        "rank_4_tensor.shape, rank_4_tensor.ndim, tf.size(rank_4_tensor)"
      ],
      "execution_count": 39,
      "outputs": [
        {
          "output_type": "execute_result",
          "data": {
            "text/plain": [
              "(TensorShape([2, 3, 4, 5]), 4, <tf.Tensor: shape=(), dtype=int32, numpy=120>)"
            ]
          },
          "metadata": {
            "tags": []
          },
          "execution_count": 39
        }
      ]
    },
    {
      "cell_type": "code",
      "metadata": {
        "colab": {
          "base_uri": "https://localhost:8080/"
        },
        "id": "ihcXdf8NLfRZ",
        "outputId": "74b099b5-e3c5-42b9-9a72-b510ec9003bf"
      },
      "source": [
        "# Get various attributes of our tensor\n",
        "print(\"Datatype of every element: \",rank_4_tensor.dtype)\n",
        "print(\"Number of dimensions (rank): \",rank_4_tensor.ndim)\n",
        "print(\"Shape of tensor: \",rank_4_tensor.shape)\n",
        "print(\"Elements along the 0 axis: \",rank_4_tensor.shape[0])\n",
        "print(\"Element along the last axis: \",rank_4_tensor.shape[-1])\n",
        "print(\"Total number of elements in our tensor: \",tf.size(rank_4_tensor))\n",
        "print(\"Total number of elements in our tensor: \",tf.size(rank_4_tensor).numpy())"
      ],
      "execution_count": 40,
      "outputs": [
        {
          "output_type": "stream",
          "text": [
            "Datatype of every element:  <dtype: 'float32'>\n",
            "Number of dimensions (rank):  4\n",
            "Shape of tensor:  (2, 3, 4, 5)\n",
            "Elements along the 0 axis:  2\n",
            "Element along the last axis:  5\n",
            "Total number of elements in our tensor:  tf.Tensor(120, shape=(), dtype=int32)\n",
            "Total number of elements in our tensor:  120\n"
          ],
          "name": "stdout"
        }
      ]
    },
    {
      "cell_type": "markdown",
      "metadata": {
        "id": "sD5EZUy66UBX"
      },
      "source": [
        "### Indexing tensors\n",
        "\n",
        "Tensors can be indexed just like Python lists."
      ]
    },
    {
      "cell_type": "code",
      "metadata": {
        "colab": {
          "base_uri": "https://localhost:8080/"
        },
        "id": "i3dO2mQ46ohq",
        "outputId": "6df76d6f-3e4b-4ffb-e2de-fd25fbcf3f24"
      },
      "source": [
        "some_list = [1,2,3,4]\n",
        "some_list[:2]"
      ],
      "execution_count": 41,
      "outputs": [
        {
          "output_type": "execute_result",
          "data": {
            "text/plain": [
              "[1, 2]"
            ]
          },
          "metadata": {
            "tags": []
          },
          "execution_count": 41
        }
      ]
    },
    {
      "cell_type": "code",
      "metadata": {
        "id": "pLtdgwRkMBXm",
        "colab": {
          "base_uri": "https://localhost:8080/"
        },
        "outputId": "379ba318-503b-40a4-86af-3ce927848c76"
      },
      "source": [
        "# Get the first 2 elements of each dimensions\n",
        "rank_4_tensor[:2,:2,:2,:2]"
      ],
      "execution_count": 42,
      "outputs": [
        {
          "output_type": "execute_result",
          "data": {
            "text/plain": [
              "<tf.Tensor: shape=(2, 2, 2, 2), dtype=float32, numpy=\n",
              "array([[[[0., 0.],\n",
              "         [0., 0.]],\n",
              "\n",
              "        [[0., 0.],\n",
              "         [0., 0.]]],\n",
              "\n",
              "\n",
              "       [[[0., 0.],\n",
              "         [0., 0.]],\n",
              "\n",
              "        [[0., 0.],\n",
              "         [0., 0.]]]], dtype=float32)>"
            ]
          },
          "metadata": {
            "tags": []
          },
          "execution_count": 42
        }
      ]
    },
    {
      "cell_type": "code",
      "metadata": {
        "colab": {
          "base_uri": "https://localhost:8080/"
        },
        "id": "6ZDAQklyO_rR",
        "outputId": "f8a47e39-55ec-4c01-da5e-5e523a7363df"
      },
      "source": [
        "some_list[:1]"
      ],
      "execution_count": 43,
      "outputs": [
        {
          "output_type": "execute_result",
          "data": {
            "text/plain": [
              "[1]"
            ]
          },
          "metadata": {
            "tags": []
          },
          "execution_count": 43
        }
      ]
    },
    {
      "cell_type": "code",
      "metadata": {
        "colab": {
          "base_uri": "https://localhost:8080/"
        },
        "id": "9xeWytANPPZb",
        "outputId": "4faf153e-28d4-4b17-efde-42e834e3838f"
      },
      "source": [
        "rank_4_tensor.shape"
      ],
      "execution_count": 44,
      "outputs": [
        {
          "output_type": "execute_result",
          "data": {
            "text/plain": [
              "TensorShape([2, 3, 4, 5])"
            ]
          },
          "metadata": {
            "tags": []
          },
          "execution_count": 44
        }
      ]
    },
    {
      "cell_type": "code",
      "metadata": {
        "colab": {
          "base_uri": "https://localhost:8080/"
        },
        "id": "IWezMX3P6ljV",
        "outputId": "44909150-9b56-4da9-be79-7cf2a0d932ea"
      },
      "source": [
        "# Get the first element from each dimension from each index except for the final one\n",
        "rank_4_tensor[:1,:1,:1,:]"
      ],
      "execution_count": 45,
      "outputs": [
        {
          "output_type": "execute_result",
          "data": {
            "text/plain": [
              "<tf.Tensor: shape=(1, 1, 1, 5), dtype=float32, numpy=array([[[[0., 0., 0., 0., 0.]]]], dtype=float32)>"
            ]
          },
          "metadata": {
            "tags": []
          },
          "execution_count": 45
        }
      ]
    },
    {
      "cell_type": "code",
      "metadata": {
        "colab": {
          "base_uri": "https://localhost:8080/"
        },
        "id": "3BO967NXPF-u",
        "outputId": "990f7ee0-2857-4a84-c742-ba098570cf80"
      },
      "source": [
        "# Create a rank 2 tensor (2 dimensions)\n",
        "rank_2_tensor = tf.constant([[10,7]\n",
        "                             ,[3,4]])\n",
        "rank_2_tensor.shape,rank_2_tensor.ndim"
      ],
      "execution_count": 46,
      "outputs": [
        {
          "output_type": "execute_result",
          "data": {
            "text/plain": [
              "(TensorShape([2, 2]), 2)"
            ]
          },
          "metadata": {
            "tags": []
          },
          "execution_count": 46
        }
      ]
    },
    {
      "cell_type": "code",
      "metadata": {
        "colab": {
          "base_uri": "https://localhost:8080/"
        },
        "id": "d3aRkW8mP23i",
        "outputId": "bbca32be-37c8-4e68-9d0b-d397dc5adb56"
      },
      "source": [
        "some_list, some_list[-1]"
      ],
      "execution_count": 47,
      "outputs": [
        {
          "output_type": "execute_result",
          "data": {
            "text/plain": [
              "([1, 2, 3, 4], 4)"
            ]
          },
          "metadata": {
            "tags": []
          },
          "execution_count": 47
        }
      ]
    },
    {
      "cell_type": "code",
      "metadata": {
        "colab": {
          "base_uri": "https://localhost:8080/"
        },
        "id": "wpyWd8nBPu5D",
        "outputId": "d41ab514-f9b1-4b17-e1b8-c3d2e4750ebe"
      },
      "source": [
        "# Get the last item of each of our rank 2 tensor\n",
        "rank_2_tensor[:,-1]"
      ],
      "execution_count": 48,
      "outputs": [
        {
          "output_type": "execute_result",
          "data": {
            "text/plain": [
              "<tf.Tensor: shape=(2,), dtype=int32, numpy=array([7, 4], dtype=int32)>"
            ]
          },
          "metadata": {
            "tags": []
          },
          "execution_count": 48
        }
      ]
    },
    {
      "cell_type": "code",
      "metadata": {
        "colab": {
          "base_uri": "https://localhost:8080/"
        },
        "id": "uE41pf0EP7wc",
        "outputId": "a79a86b3-17b1-4927-d0d9-1060230851c1"
      },
      "source": [
        "# Add in extra dimension to our rank 2 tensor\n",
        "rank_3_tensor = rank_2_tensor[...,tf.newaxis]\n",
        "rank_3_tensor"
      ],
      "execution_count": 49,
      "outputs": [
        {
          "output_type": "execute_result",
          "data": {
            "text/plain": [
              "<tf.Tensor: shape=(2, 2, 1), dtype=int32, numpy=\n",
              "array([[[10],\n",
              "        [ 7]],\n",
              "\n",
              "       [[ 3],\n",
              "        [ 4]]], dtype=int32)>"
            ]
          },
          "metadata": {
            "tags": []
          },
          "execution_count": 49
        }
      ]
    },
    {
      "cell_type": "code",
      "metadata": {
        "colab": {
          "base_uri": "https://localhost:8080/"
        },
        "id": "PWDy_qvmQOMm",
        "outputId": "302d863a-bee1-495b-faf9-008a3cd34469"
      },
      "source": [
        "# Alternative to tf.newaxis\n",
        "tf.expand_dims(rank_2_tensor,axis=-1) # \"-1\" means expand the final axis"
      ],
      "execution_count": 50,
      "outputs": [
        {
          "output_type": "execute_result",
          "data": {
            "text/plain": [
              "<tf.Tensor: shape=(2, 2, 1), dtype=int32, numpy=\n",
              "array([[[10],\n",
              "        [ 7]],\n",
              "\n",
              "       [[ 3],\n",
              "        [ 4]]], dtype=int32)>"
            ]
          },
          "metadata": {
            "tags": []
          },
          "execution_count": 50
        }
      ]
    },
    {
      "cell_type": "code",
      "metadata": {
        "colab": {
          "base_uri": "https://localhost:8080/"
        },
        "id": "dsdRXtk4V7na",
        "outputId": "c86761d3-af26-4864-f5fd-5cacbde192e6"
      },
      "source": [
        "tf.expand_dims(rank_2_tensor,axis=0)"
      ],
      "execution_count": 51,
      "outputs": [
        {
          "output_type": "execute_result",
          "data": {
            "text/plain": [
              "<tf.Tensor: shape=(1, 2, 2), dtype=int32, numpy=\n",
              "array([[[10,  7],\n",
              "        [ 3,  4]]], dtype=int32)>"
            ]
          },
          "metadata": {
            "tags": []
          },
          "execution_count": 51
        }
      ]
    },
    {
      "cell_type": "markdown",
      "metadata": {
        "id": "8X6Z8UDzWbyC"
      },
      "source": [
        "### Manipulating tensors (tensor operations)\n",
        "\n",
        "**Basic operations**\n",
        "\n",
        "`+`,`-`,`/`,`*`"
      ]
    },
    {
      "cell_type": "code",
      "metadata": {
        "id": "XNotTe1mWKeM",
        "colab": {
          "base_uri": "https://localhost:8080/"
        },
        "outputId": "3c5d9d2d-ba91-4911-a971-3ec3657c969e"
      },
      "source": [
        "# You can add values to a tensor using the addition operator\n",
        "tensor = tf.constant([[10,7],\n",
        "                      [3,4]])\n",
        "tensor + 10"
      ],
      "execution_count": 52,
      "outputs": [
        {
          "output_type": "execute_result",
          "data": {
            "text/plain": [
              "<tf.Tensor: shape=(2, 2), dtype=int32, numpy=\n",
              "array([[20, 17],\n",
              "       [13, 14]], dtype=int32)>"
            ]
          },
          "metadata": {
            "tags": []
          },
          "execution_count": 52
        }
      ]
    },
    {
      "cell_type": "code",
      "metadata": {
        "colab": {
          "base_uri": "https://localhost:8080/"
        },
        "id": "BwccbJoEBAWE",
        "outputId": "779a14e7-070e-4c25-cd81-98cdd6a5c844"
      },
      "source": [
        "# Original tensor is unchanged\n",
        "tensor"
      ],
      "execution_count": 53,
      "outputs": [
        {
          "output_type": "execute_result",
          "data": {
            "text/plain": [
              "<tf.Tensor: shape=(2, 2), dtype=int32, numpy=\n",
              "array([[10,  7],\n",
              "       [ 3,  4]], dtype=int32)>"
            ]
          },
          "metadata": {
            "tags": []
          },
          "execution_count": 53
        }
      ]
    },
    {
      "cell_type": "code",
      "metadata": {
        "colab": {
          "base_uri": "https://localhost:8080/"
        },
        "id": "UwLQ97p2BIH8",
        "outputId": "3ced6f22-e024-47ec-8fa5-a91bed21d624"
      },
      "source": [
        "# Multiplication\n",
        "tensor * 10"
      ],
      "execution_count": 54,
      "outputs": [
        {
          "output_type": "execute_result",
          "data": {
            "text/plain": [
              "<tf.Tensor: shape=(2, 2), dtype=int32, numpy=\n",
              "array([[100,  70],\n",
              "       [ 30,  40]], dtype=int32)>"
            ]
          },
          "metadata": {
            "tags": []
          },
          "execution_count": 54
        }
      ]
    },
    {
      "cell_type": "code",
      "metadata": {
        "colab": {
          "base_uri": "https://localhost:8080/"
        },
        "id": "-s7gV4jXBO4b",
        "outputId": "75160247-3c83-4349-a328-d328d27a20e4"
      },
      "source": [
        "# Subtraction\n",
        "tensor - 10"
      ],
      "execution_count": 55,
      "outputs": [
        {
          "output_type": "execute_result",
          "data": {
            "text/plain": [
              "<tf.Tensor: shape=(2, 2), dtype=int32, numpy=\n",
              "array([[ 0, -3],\n",
              "       [-7, -6]], dtype=int32)>"
            ]
          },
          "metadata": {
            "tags": []
          },
          "execution_count": 55
        }
      ]
    },
    {
      "cell_type": "code",
      "metadata": {
        "colab": {
          "base_uri": "https://localhost:8080/"
        },
        "id": "D1NT7c7XBRhx",
        "outputId": "e945f9c8-77a9-4beb-a99c-9942248f0fe0"
      },
      "source": [
        "# We can use the tensorflow built-in function\n",
        "tf.multiply(tensor,10)"
      ],
      "execution_count": 56,
      "outputs": [
        {
          "output_type": "execute_result",
          "data": {
            "text/plain": [
              "<tf.Tensor: shape=(2, 2), dtype=int32, numpy=\n",
              "array([[100,  70],\n",
              "       [ 30,  40]], dtype=int32)>"
            ]
          },
          "metadata": {
            "tags": []
          },
          "execution_count": 56
        }
      ]
    },
    {
      "cell_type": "code",
      "metadata": {
        "colab": {
          "base_uri": "https://localhost:8080/"
        },
        "id": "UANRBZcjBdeD",
        "outputId": "328670c1-6476-4a9e-d8cd-b477cd7bd23c"
      },
      "source": [
        "tensor"
      ],
      "execution_count": 57,
      "outputs": [
        {
          "output_type": "execute_result",
          "data": {
            "text/plain": [
              "<tf.Tensor: shape=(2, 2), dtype=int32, numpy=\n",
              "array([[10,  7],\n",
              "       [ 3,  4]], dtype=int32)>"
            ]
          },
          "metadata": {
            "tags": []
          },
          "execution_count": 57
        }
      ]
    },
    {
      "cell_type": "markdown",
      "metadata": {
        "id": "9ZYtZE6PB51e"
      },
      "source": [
        "### Matrix Multiplication"
      ]
    },
    {
      "cell_type": "code",
      "metadata": {
        "id": "k64OZuJeBvnc"
      },
      "source": [
        ""
      ],
      "execution_count": null,
      "outputs": []
    }
  ]
}
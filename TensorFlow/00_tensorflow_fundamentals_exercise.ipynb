{
  "nbformat": 4,
  "nbformat_minor": 0,
  "metadata": {
    "colab": {
      "name": "00_tensorflow_fundamentals_exercise.ipynb",
      "provenance": [],
      "collapsed_sections": [],
      "machine_shape": "hm"
    },
    "kernelspec": {
      "name": "python3",
      "display_name": "Python 3"
    }
  },
  "cells": [
    {
      "cell_type": "markdown",
      "metadata": {
        "id": "xFwbUsBjb_6Z"
      },
      "source": [
        "### 🛠 00 TensorFlow Fundamentals Exercises\n",
        "\n",
        "1. Create a vector, scalar, matrix and tensor with values of your choosing using `tf.constant()`.\n",
        "\n",
        "2. Find the shape, rank and size of the tensors you created in 1.\n",
        "\n",
        "3. Create two tensors containing random values between 0 and 1 with shape `[5, 300]`.\n",
        "\n",
        "4. Multiply the two tensors you created in 3 using matrix multiplication.\n",
        "\n",
        "5. Multiply the two tensors you created in 3 using dot product.\n",
        "\n",
        "6. Create a tensor with random values between 0 and 1 with shape `[224, 224, 3]`.\n",
        "\n",
        "7. Find the min and max values of the tensor you created in 6.\n",
        "\n",
        "8. Created a tensor with random values of shape `[1, 224, 224, 3]` then squeeze it to change the shape to `[224, 224, 3]`.\n",
        "\n",
        "9. Create a tensor with shape `[10]` using your own choice of values, then find the index which has the maximum value.\n",
        "\n",
        "10. One-hot encode the tensor you created in 9."
      ]
    },
    {
      "cell_type": "code",
      "metadata": {
        "id": "iwGUnEHzdBGd"
      },
      "source": [
        "import tensorflow as tf"
      ],
      "execution_count": 1,
      "outputs": []
    },
    {
      "cell_type": "code",
      "metadata": {
        "id": "iKfVjaEscgLB"
      },
      "source": [
        "# 1. Create a vector, scalar, matrix and tensor with values of your choosing using tf.constant()\n",
        "\n",
        "A_vector = tf.constant([1,2])\n",
        "B_scalar = tf.constant(1)\n",
        "C_matrix = tf.constant([[1,2],\n",
        "                        [1,2]])\n",
        "D_tensor = tf.constant([[[1,2,3],\n",
        "                         [4,5,6],\n",
        "                         [7,8,9]],\n",
        "                        [[1,2,3],\n",
        "                         [4,5,6],\n",
        "                         [7,8,9]],\n",
        "                        [[1,2,3],\n",
        "                         [4,5,6],\n",
        "                         [7,8,9]]])"
      ],
      "execution_count": 2,
      "outputs": []
    },
    {
      "cell_type": "code",
      "metadata": {
        "colab": {
          "base_uri": "https://localhost:8080/"
        },
        "id": "gLfitddRdcbV",
        "outputId": "8cf700f2-bfb7-4a55-c103-2244076d0180"
      },
      "source": [
        "A_vector,B_scalar,C_matrix,D_tensor"
      ],
      "execution_count": 3,
      "outputs": [
        {
          "output_type": "execute_result",
          "data": {
            "text/plain": [
              "(<tf.Tensor: shape=(2,), dtype=int32, numpy=array([1, 2], dtype=int32)>,\n",
              " <tf.Tensor: shape=(), dtype=int32, numpy=1>,\n",
              " <tf.Tensor: shape=(2, 2), dtype=int32, numpy=\n",
              " array([[1, 2],\n",
              "        [1, 2]], dtype=int32)>,\n",
              " <tf.Tensor: shape=(3, 3, 3), dtype=int32, numpy=\n",
              " array([[[1, 2, 3],\n",
              "         [4, 5, 6],\n",
              "         [7, 8, 9]],\n",
              " \n",
              "        [[1, 2, 3],\n",
              "         [4, 5, 6],\n",
              "         [7, 8, 9]],\n",
              " \n",
              "        [[1, 2, 3],\n",
              "         [4, 5, 6],\n",
              "         [7, 8, 9]]], dtype=int32)>)"
            ]
          },
          "metadata": {
            "tags": []
          },
          "execution_count": 3
        }
      ]
    },
    {
      "cell_type": "code",
      "metadata": {
        "id": "Tgbp-aAteHmI"
      },
      "source": [
        "# 2. Find the shape, rank and size of the tensors you created in 1\n",
        "def shapeRankSize(name,i):\n",
        "  print(\"For {}:\".format(name))\n",
        "  print(\"    Shape is {}\".format(i.shape))\n",
        "  print(\"    Rank is {}\".format(tf.rank(i)))\n",
        "  print(\"    Size is {}\\n\".format(tf.size(i).numpy()))"
      ],
      "execution_count": 4,
      "outputs": []
    },
    {
      "cell_type": "code",
      "metadata": {
        "colab": {
          "base_uri": "https://localhost:8080/"
        },
        "id": "Hsn3DfVDey39",
        "outputId": "5b59f1ef-4c39-4be6-a102-b43be8609150"
      },
      "source": [
        "shapeRankSize(\"A_vector\",A_vector)\n",
        "shapeRankSize(\"B_scalar\",B_scalar)\n",
        "shapeRankSize(\"C_matrix\",C_matrix)\n",
        "shapeRankSize(\"D_tensor\",D_tensor)"
      ],
      "execution_count": 5,
      "outputs": [
        {
          "output_type": "stream",
          "text": [
            "For A_vector:\n",
            "    Shape is (2,)\n",
            "    Rank is 1\n",
            "    Size is 2\n",
            "\n",
            "For B_scalar:\n",
            "    Shape is ()\n",
            "    Rank is 0\n",
            "    Size is 1\n",
            "\n",
            "For C_matrix:\n",
            "    Shape is (2, 2)\n",
            "    Rank is 2\n",
            "    Size is 4\n",
            "\n",
            "For D_tensor:\n",
            "    Shape is (3, 3, 3)\n",
            "    Rank is 3\n",
            "    Size is 27\n",
            "\n"
          ],
          "name": "stdout"
        }
      ]
    },
    {
      "cell_type": "code",
      "metadata": {
        "id": "dBnt7DMogstT"
      },
      "source": [
        "# 3. Create two tensors containing random values between 0 and 1 with shape [5, 300]\n",
        "random_1 = tf.random.uniform(minval=0,maxval=1,shape=(5,300))\n",
        "random_2 = tf.random.uniform(minval=0,maxval=1,shape=(5,300))"
      ],
      "execution_count": 6,
      "outputs": []
    },
    {
      "cell_type": "code",
      "metadata": {
        "colab": {
          "base_uri": "https://localhost:8080/"
        },
        "id": "q6XYx7xcj20x",
        "outputId": "8454efaf-9785-4611-d68b-73dcd7f5418e"
      },
      "source": [
        "random_1,random_2"
      ],
      "execution_count": 7,
      "outputs": [
        {
          "output_type": "execute_result",
          "data": {
            "text/plain": [
              "(<tf.Tensor: shape=(5, 300), dtype=float32, numpy=\n",
              " array([[0.25367653, 0.545701  , 0.05092764, ..., 0.7843523 , 0.20474672,\n",
              "         0.25257945],\n",
              "        [0.87413144, 0.5713234 , 0.49340272, ..., 0.05147302, 0.7414217 ,\n",
              "         0.32152867],\n",
              "        [0.77329075, 0.09909844, 0.68894374, ..., 0.8944365 , 0.8690311 ,\n",
              "         0.99511695],\n",
              "        [0.16495979, 0.65228474, 0.15524077, ..., 0.71613896, 0.06761277,\n",
              "         0.01030362],\n",
              "        [0.6026156 , 0.62095547, 0.71370745, ..., 0.04623818, 0.6529622 ,\n",
              "         0.5395181 ]], dtype=float32)>,\n",
              " <tf.Tensor: shape=(5, 300), dtype=float32, numpy=\n",
              " array([[0.5951171 , 0.9066895 , 0.2768706 , ..., 0.15216589, 0.91592944,\n",
              "         0.04550803],\n",
              "        [0.98098075, 0.87225544, 0.5849143 , ..., 0.1659249 , 0.9301661 ,\n",
              "         0.5614717 ],\n",
              "        [0.26508033, 0.3443123 , 0.5999162 , ..., 0.9119427 , 0.21901703,\n",
              "         0.04582667],\n",
              "        [0.691674  , 0.5605053 , 0.77519095, ..., 0.16174781, 0.35299206,\n",
              "         0.4065045 ],\n",
              "        [0.47475398, 0.98602927, 0.45725536, ..., 0.8427044 , 0.8156822 ,\n",
              "         0.9887512 ]], dtype=float32)>)"
            ]
          },
          "metadata": {
            "tags": []
          },
          "execution_count": 7
        }
      ]
    },
    {
      "cell_type": "code",
      "metadata": {
        "colab": {
          "base_uri": "https://localhost:8080/"
        },
        "id": "69aPf9ZUmf4U",
        "outputId": "498c84a2-e22f-4a24-8a00-6a3cae8eb476"
      },
      "source": [
        "# 4. Multiply the two tensors you created in 3 using matrix multiplication\n",
        "tf.matmul(random_1,tf.transpose(random_2))"
      ],
      "execution_count": 8,
      "outputs": [
        {
          "output_type": "execute_result",
          "data": {
            "text/plain": [
              "<tf.Tensor: shape=(5, 5), dtype=float32, numpy=\n",
              "array([[69.62537 , 68.125374, 71.55382 , 68.36894 , 73.07286 ],\n",
              "       [76.53409 , 72.1938  , 71.87954 , 69.9794  , 70.28229 ],\n",
              "       [72.47273 , 69.71758 , 70.3788  , 67.2017  , 72.01838 ],\n",
              "       [75.56871 , 68.114395, 72.36357 , 72.501724, 73.48312 ],\n",
              "       [80.32418 , 71.98057 , 76.10319 , 69.99166 , 71.86922 ]],\n",
              "      dtype=float32)>"
            ]
          },
          "metadata": {
            "tags": []
          },
          "execution_count": 8
        }
      ]
    },
    {
      "cell_type": "code",
      "metadata": {
        "colab": {
          "base_uri": "https://localhost:8080/"
        },
        "id": "JXlE1Is4tCdc",
        "outputId": "43a14654-1367-43bc-b8a9-e78c03dab504"
      },
      "source": [
        "# 5. Multiply the two tensors you created in 3 using dot product\n",
        "tf.tensordot(random_1,tf.transpose(random_2),axes=1)"
      ],
      "execution_count": 9,
      "outputs": [
        {
          "output_type": "execute_result",
          "data": {
            "text/plain": [
              "<tf.Tensor: shape=(5, 5), dtype=float32, numpy=\n",
              "array([[69.62537 , 68.125374, 71.55382 , 68.36894 , 73.07286 ],\n",
              "       [76.53409 , 72.1938  , 71.87954 , 69.9794  , 70.28229 ],\n",
              "       [72.47273 , 69.71758 , 70.3788  , 67.2017  , 72.01838 ],\n",
              "       [75.56871 , 68.114395, 72.36357 , 72.501724, 73.48312 ],\n",
              "       [80.32418 , 71.98057 , 76.10319 , 69.99166 , 71.86922 ]],\n",
              "      dtype=float32)>"
            ]
          },
          "metadata": {
            "tags": []
          },
          "execution_count": 9
        }
      ]
    },
    {
      "cell_type": "code",
      "metadata": {
        "colab": {
          "base_uri": "https://localhost:8080/"
        },
        "id": "uyOodR5quxFH",
        "outputId": "f7cdab90-c678-410b-9a41-26ecfb70d065"
      },
      "source": [
        "# 6. Create a tensor with random values between 0 and 1 with shape [224, 224, 3].\n",
        "random_3 = tf.random.uniform([224, 224, 3],0,1)\n",
        "random_3"
      ],
      "execution_count": 10,
      "outputs": [
        {
          "output_type": "execute_result",
          "data": {
            "text/plain": [
              "<tf.Tensor: shape=(224, 224, 3), dtype=float32, numpy=\n",
              "array([[[0.6409874 , 0.22637117, 0.08228004],\n",
              "        [0.10668731, 0.3416462 , 0.06779444],\n",
              "        [0.24152768, 0.45748377, 0.558697  ],\n",
              "        ...,\n",
              "        [0.91572034, 0.05856121, 0.18645883],\n",
              "        [0.43615448, 0.495749  , 0.4713453 ],\n",
              "        [0.4813831 , 0.6615608 , 0.4699434 ]],\n",
              "\n",
              "       [[0.8308327 , 0.20712626, 0.45692956],\n",
              "        [0.8435705 , 0.93862295, 0.40997362],\n",
              "        [0.42852247, 0.4438244 , 0.1691711 ],\n",
              "        ...,\n",
              "        [0.8608531 , 0.8384429 , 0.43722594],\n",
              "        [0.37835455, 0.41777384, 0.8003429 ],\n",
              "        [0.6522722 , 0.9815868 , 0.58316076]],\n",
              "\n",
              "       [[0.42451525, 0.12211645, 0.3200742 ],\n",
              "        [0.15865266, 0.6154766 , 0.2108233 ],\n",
              "        [0.7121235 , 0.37175322, 0.66367364],\n",
              "        ...,\n",
              "        [0.6054748 , 0.28109694, 0.91104186],\n",
              "        [0.8619945 , 0.8398019 , 0.5474285 ],\n",
              "        [0.2248038 , 0.5014621 , 0.31207132]],\n",
              "\n",
              "       ...,\n",
              "\n",
              "       [[0.5116918 , 0.6393769 , 0.27068245],\n",
              "        [0.5127686 , 0.20800698, 0.3720199 ],\n",
              "        [0.91238153, 0.423962  , 0.40142345],\n",
              "        ...,\n",
              "        [0.84823227, 0.2343626 , 0.2354213 ],\n",
              "        [0.5160568 , 0.19689715, 0.07862747],\n",
              "        [0.71653223, 0.19776893, 0.8193766 ]],\n",
              "\n",
              "       [[0.44471693, 0.85668683, 0.89012694],\n",
              "        [0.11407018, 0.84112096, 0.73498523],\n",
              "        [0.39132154, 0.83342266, 0.0682615 ],\n",
              "        ...,\n",
              "        [0.98550653, 0.8108566 , 0.06833816],\n",
              "        [0.03989899, 0.2365768 , 0.883358  ],\n",
              "        [0.8252219 , 0.47313404, 0.14168   ]],\n",
              "\n",
              "       [[0.5215143 , 0.9927213 , 0.2423755 ],\n",
              "        [0.67907286, 0.96010196, 0.8039671 ],\n",
              "        [0.24886882, 0.6204933 , 0.65286803],\n",
              "        ...,\n",
              "        [0.4164263 , 0.01875532, 0.89276063],\n",
              "        [0.03244019, 0.5766113 , 0.6242647 ],\n",
              "        [0.9589838 , 0.41907525, 0.7860999 ]]], dtype=float32)>"
            ]
          },
          "metadata": {
            "tags": []
          },
          "execution_count": 10
        }
      ]
    },
    {
      "cell_type": "code",
      "metadata": {
        "colab": {
          "base_uri": "https://localhost:8080/"
        },
        "id": "oiZt-v78v-2_",
        "outputId": "71b5b173-e11c-456f-dcd9-e627ae04cfe3"
      },
      "source": [
        "# 7. Find the min and max values of the tensor you created in 6\n",
        "print(\"{} is the min value and {} is the max value\".format(tf.reduce_min(random_3).numpy(),tf.reduce_max(random_3).numpy()))"
      ],
      "execution_count": 11,
      "outputs": [
        {
          "output_type": "stream",
          "text": [
            "9.5367431640625e-07 is the min value and 0.9999924898147583 is the max value\n"
          ],
          "name": "stdout"
        }
      ]
    },
    {
      "cell_type": "code",
      "metadata": {
        "colab": {
          "base_uri": "https://localhost:8080/"
        },
        "id": "sDkDjSvExJbY",
        "outputId": "c7e051bf-8db7-49b5-d3ea-c8e616606534"
      },
      "source": [
        "# 8. Created a tensor with random values of shape [1, 224, 224, 3] then squeeze it to change the shape to [224, 224, 3]\n",
        "random_4 = tf.random.uniform([1,224,224,3])\n",
        "random_4.shape"
      ],
      "execution_count": 12,
      "outputs": [
        {
          "output_type": "execute_result",
          "data": {
            "text/plain": [
              "TensorShape([1, 224, 224, 3])"
            ]
          },
          "metadata": {
            "tags": []
          },
          "execution_count": 12
        }
      ]
    },
    {
      "cell_type": "code",
      "metadata": {
        "colab": {
          "base_uri": "https://localhost:8080/"
        },
        "id": "lK4McailyV2e",
        "outputId": "17b5f3ea-89e3-4f43-a65f-fc4fc1acd823"
      },
      "source": [
        "random_4_squeezed = tf.squeeze(random_4)\n",
        "random_4_squeezed.shape"
      ],
      "execution_count": 13,
      "outputs": [
        {
          "output_type": "execute_result",
          "data": {
            "text/plain": [
              "TensorShape([224, 224, 3])"
            ]
          },
          "metadata": {
            "tags": []
          },
          "execution_count": 13
        }
      ]
    },
    {
      "cell_type": "code",
      "metadata": {
        "colab": {
          "base_uri": "https://localhost:8080/"
        },
        "id": "FI8zUFhpyruY",
        "outputId": "72621a0f-5c93-4e5d-f2d8-df3d1bf16fb5"
      },
      "source": [
        "# 9. Create a tensor with shape [10] using your own choice of values, then find the index which has the maximum value.\n",
        "random_5 = tf.random.uniform([10],0,10)\n",
        "random_5"
      ],
      "execution_count": 14,
      "outputs": [
        {
          "output_type": "execute_result",
          "data": {
            "text/plain": [
              "<tf.Tensor: shape=(10,), dtype=float32, numpy=\n",
              "array([8.910185  , 0.5774534 , 1.3227022 , 0.15825033, 6.672523  ,\n",
              "       0.739913  , 8.250674  , 2.011571  , 4.105343  , 0.36744833],\n",
              "      dtype=float32)>"
            ]
          },
          "metadata": {
            "tags": []
          },
          "execution_count": 14
        }
      ]
    },
    {
      "cell_type": "code",
      "metadata": {
        "colab": {
          "base_uri": "https://localhost:8080/"
        },
        "id": "yEHPITuozOiV",
        "outputId": "abe9d508-587b-4778-a169-ae0e8e7cd170"
      },
      "source": [
        "print(\"index {} has the maximum value\".format(tf.argmax(random_5).numpy()))"
      ],
      "execution_count": 15,
      "outputs": [
        {
          "output_type": "stream",
          "text": [
            "index 0 has the maximum value\n"
          ],
          "name": "stdout"
        }
      ]
    },
    {
      "cell_type": "code",
      "metadata": {
        "colab": {
          "base_uri": "https://localhost:8080/"
        },
        "id": "ii6bAPR02B5o",
        "outputId": "fea09deb-9fb9-4e2c-ddc0-c9763d109d23"
      },
      "source": [
        "# 10. One-hot encode the tensor you created in 9\n",
        "tf.cast(random_5.numpy().tolist(),tf.int32)"
      ],
      "execution_count": 16,
      "outputs": [
        {
          "output_type": "execute_result",
          "data": {
            "text/plain": [
              "<tf.Tensor: shape=(10,), dtype=int32, numpy=array([8, 0, 1, 0, 6, 0, 8, 2, 4, 0], dtype=int32)>"
            ]
          },
          "metadata": {
            "tags": []
          },
          "execution_count": 16
        }
      ]
    },
    {
      "cell_type": "code",
      "metadata": {
        "colab": {
          "base_uri": "https://localhost:8080/"
        },
        "id": "TiB9-tpnzQEr",
        "outputId": "d51b12d9-f8cc-423c-e70e-3107ab19a148"
      },
      "source": [
        "tf.one_hot(tf.cast(random_5.numpy().tolist(),tf.int32),depth=tf.size(random_5).numpy(),on_value=\"|\",off_value=\"-\")"
      ],
      "execution_count": 17,
      "outputs": [
        {
          "output_type": "execute_result",
          "data": {
            "text/plain": [
              "<tf.Tensor: shape=(10, 10), dtype=string, numpy=\n",
              "array([[b'-', b'-', b'-', b'-', b'-', b'-', b'-', b'-', b'|', b'-'],\n",
              "       [b'|', b'-', b'-', b'-', b'-', b'-', b'-', b'-', b'-', b'-'],\n",
              "       [b'-', b'|', b'-', b'-', b'-', b'-', b'-', b'-', b'-', b'-'],\n",
              "       [b'|', b'-', b'-', b'-', b'-', b'-', b'-', b'-', b'-', b'-'],\n",
              "       [b'-', b'-', b'-', b'-', b'-', b'-', b'|', b'-', b'-', b'-'],\n",
              "       [b'|', b'-', b'-', b'-', b'-', b'-', b'-', b'-', b'-', b'-'],\n",
              "       [b'-', b'-', b'-', b'-', b'-', b'-', b'-', b'-', b'|', b'-'],\n",
              "       [b'-', b'-', b'|', b'-', b'-', b'-', b'-', b'-', b'-', b'-'],\n",
              "       [b'-', b'-', b'-', b'-', b'|', b'-', b'-', b'-', b'-', b'-'],\n",
              "       [b'|', b'-', b'-', b'-', b'-', b'-', b'-', b'-', b'-', b'-']],\n",
              "      dtype=object)>"
            ]
          },
          "metadata": {
            "tags": []
          },
          "execution_count": 17
        }
      ]
    }
  ]
}
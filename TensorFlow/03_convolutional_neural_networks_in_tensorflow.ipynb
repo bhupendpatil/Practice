{
  "nbformat": 4,
  "nbformat_minor": 0,
  "metadata": {
    "colab": {
      "name": "03_convolutional_neural_networks_in_tensorflow.ipynb",
      "provenance": [],
      "collapsed_sections": [],
      "machine_shape": "hm"
    },
    "kernelspec": {
      "name": "python3",
      "display_name": "Python 3"
    }
  },
  "cells": [
    {
      "cell_type": "markdown",
      "metadata": {
        "id": "i6XCjXwz6tSf"
      },
      "source": [
        "# Introduction to Computer Vision and Convolutional Neural Networks\n",
        "\n",
        "Computer vision is the practice of writing algorithms which can discover patterns in visual data. Such as the camera of a self-driving car recognizing the car in front."
      ]
    },
    {
      "cell_type": "markdown",
      "metadata": {
        "id": "A3vvjz-m7GQP"
      },
      "source": [
        "## Get the data\n",
        "\n",
        "The images we're working with are from Food101 dataset (101 different classes of food): https://www.kaggle.com/dansbecker/food-101\n",
        "\n",
        "However we've modified it to only use two classes (pizza🍕 & steak🥩) using the image data modification : [.ipynb](https://github.com/mrdbourke/tensorflow-deep-learning/blob/main/extras/image_data_modification.ipynb)\n",
        "\n",
        "> 🔑**Note:** We start with a smaller dataset so we can experiment quickly and figure what works (or better yet what doesn't work) before scaling up."
      ]
    },
    {
      "cell_type": "code",
      "metadata": {
        "colab": {
          "base_uri": "https://localhost:8080/"
        },
        "id": "NPdg_MVX7Czo",
        "outputId": "922e7b0f-23ef-4a65-e602-140d39033d05"
      },
      "source": [
        "!rm -r *\n",
        "\n",
        "# download data\n",
        "!wget https://storage.googleapis.com/ztm_tf_course/food_vision/pizza_steak.zip\n",
        "\n",
        "# Unzip the downloaded file\n",
        "!unzip -q pizza_steak.zip\n",
        "\n",
        "# remove extra data\n",
        "!rm -r __MACOSX\n",
        "!rm -r pizza_steak.zip\n",
        "!rm -r pizza_steak/.DS_Store\n",
        "!rm -r pizza_steak/train/.DS_Store\n",
        "!rm -r pizza_steak/test/.DS_Store"
      ],
      "execution_count": 1,
      "outputs": [
        {
          "output_type": "stream",
          "text": [
            "--2021-05-24 10:44:51--  https://storage.googleapis.com/ztm_tf_course/food_vision/pizza_steak.zip\n",
            "Resolving storage.googleapis.com (storage.googleapis.com)... 108.177.125.128, 142.250.157.128, 74.125.23.128, ...\n",
            "Connecting to storage.googleapis.com (storage.googleapis.com)|108.177.125.128|:443... connected.\n",
            "HTTP request sent, awaiting response... 200 OK\n",
            "Length: 109579078 (105M) [application/zip]\n",
            "Saving to: ‘pizza_steak.zip’\n",
            "\n",
            "pizza_steak.zip     100%[===================>] 104.50M   133MB/s    in 0.8s    \n",
            "\n",
            "2021-05-24 10:44:52 (133 MB/s) - ‘pizza_steak.zip’ saved [109579078/109579078]\n",
            "\n"
          ],
          "name": "stdout"
        }
      ]
    },
    {
      "cell_type": "markdown",
      "metadata": {
        "id": "4HPXlQVLc9yz"
      },
      "source": [
        "## Inspect the data (become one with it)\n",
        "\n",
        "A very crucial step at the beginning of any machine learning project is becoming one with the data.\n",
        "\n",
        "And for a computer vision project... this usually means visualizing many samples of your data."
      ]
    },
    {
      "cell_type": "code",
      "metadata": {
        "colab": {
          "base_uri": "https://localhost:8080/"
        },
        "id": "eUdL6LpYc8O1",
        "outputId": "a7b2ed0a-5afb-4e3d-9f80-71e8bcb0169a"
      },
      "source": [
        "!ls pizza_steak"
      ],
      "execution_count": 2,
      "outputs": [
        {
          "output_type": "stream",
          "text": [
            "test  train\n"
          ],
          "name": "stdout"
        }
      ]
    },
    {
      "cell_type": "code",
      "metadata": {
        "id": "dzMgIx2e7voI",
        "colab": {
          "base_uri": "https://localhost:8080/"
        },
        "outputId": "67531f38-4d66-4bfe-982e-796044cfd477"
      },
      "source": [
        "!ls pizza_steak/train/pizza"
      ],
      "execution_count": 3,
      "outputs": [
        {
          "output_type": "stream",
          "text": [
            "1008104.jpg  1638227.jpg  2235981.jpg  2774899.jpg  3464027.jpg  576236.jpg\n",
            "1008144.jpg  1646974.jpg  2236914.jpg  2775763.jpg  3464858.jpg  5764.jpg\n",
            "1008844.jpg  1649108.jpg  2241448.jpg  2778214.jpg  3473991.jpg  579691.jpg\n",
            "1008941.jpg  1649276.jpg  2247711.jpg  277963.jpg   3475936.jpg  593400.jpg\n",
            "1011404.jpg  1652943.jpg  2253670.jpg  2785084.jpg  3478964.jpg  59445.jpg\n",
            "102037.jpg   1654444.jpg  2255361.jpg  2793535.jpg  3479875.jpg  596494.jpg\n",
            "1026922.jpg  1660415.jpg  2274117.jpg  27963.jpg    3479936.jpg  598381.jpg\n",
            "1029698.jpg  1663749.jpg  2279642.jpg  2800325.jpg  3484590.jpg  604977.jpg\n",
            "1033251.jpg  1665654.jpg  2280345.jpg  2811032.jpg  3493457.jpg  608085.jpg\n",
            "1035854.jpg  166823.jpg   2285269.jpg  282013.jpg   349946.jpg\t 618021.jpg\n",
            "1038357.jpg  1670471.jpg  2285942.jpg  2821034.jpg  350358.jpg\t 61822.jpg\n",
            "1040878.jpg  1671531.jpg  228778.jpg   2821048.jpg  3505182.jpg  618348.jpg\n",
            "1044524.jpg  1678284.jpg  2291093.jpg  2827938.jpg  3512070.jpg  625687.jpg\n",
            "1044789.jpg  1681043.jpg  2292986.jpg  2831983.jpg  3514408.jpg  626170.jpg\n",
            "1047561.jpg  1686908.jpg  2293453.jpg  2844278.jpg  352051.jpg\t 626902.jpg\n",
            "1048649.jpg  1687681.jpg  2301105.jpg  2849924.jpg  3530210.jpg  63480.jpg\n",
            "1054420.jpg  168879.jpg   2304021.jpg  2852301.jpg  3536393.jpg  647215.jpg\n",
            "1055065.jpg  1688838.jpg  2312987.jpg  2855844.jpg  3546278.jpg  652004.jpg\n",
            "105910.jpg   169318.jpg   23199.jpg    287000.jpg   3549765.jpg  656817.jpg\n",
            "1065078.jpg  169720.jpg   2321465.jpg  2877565.jpg  3550805.jpg  662526.jpg\n",
            "1069629.jpg  1705747.jpg  232976.jpg   2881282.jpg  3554287.jpg  663285.jpg\n",
            "1075568.jpg  1705773.jpg  2330965.jpg  2885050.jpg  3555299.jpg  665900.jpg\n",
            "1076699.jpg  1708197.jpg  233143.jpg   2885796.jpg  3557127.jpg  667309.jpg\n",
            "1083380.jpg  1717790.jpg  2331467.jpg  2902766.jpg  3574192.jpg  668944.jpg\n",
            "1084888.jpg  1742542.jpg  2361973.jpg  2916034.jpg  358178.jpg\t 670201.jpg\n",
            "1088332.jpg  1743389.jpg  2365046.jpg  2922019.jpg  3589437.jpg  674188.jpg\n",
            "1089334.jpg  175626.jpg   2382016.jpg  2924941.jpg  3595758.jpg  676432.jpg\n",
            "1097980.jpg  1757288.jpg  238843.jpg   2933332.jpg  3597955.jpg  682201.jpg\n",
            "1098197.jpg  1761451.jpg  2397868.jpg  29417.jpg    3614525.jpg  68684.jpg\n",
            "1105700.jpg  1763205.jpg  2410138.jpg  2951831.jpg  3628930.jpg  698251.jpg\n",
            "1107714.jpg  1774438.jpg  2412237.jpg  2952219.jpg  3629996.jpg  702165.jpg\n",
            "111051.jpg   1778167.jpg  2412970.jpg  2959665.jpg  3644733.jpg  704161.jpg\n",
            "1110966.jpg  1786840.jpg  2421445.jpg  2965.jpg     3653528.jpg  709273.jpg\n",
            "1123386.jpg  179165.jpg   2426686.jpg  2967846.jpg  3653643.jpg  709947.jpg\n",
            "1137400.jpg  1795316.jpg  2428085.jpg  2980131.jpg  3660716.jpg  712149.jpg\n",
            "1138936.jpg  1806491.jpg  242813.jpg   2989328.jpg  3663580.jpg  714991.jpg\n",
            "1143057.jpg  1810844.jpg  2432061.jpg  2990023.jpg  3675128.jpg  715169.jpg\n",
            "1157438.jpg  1818014.jpg  2439992.jpg  2990186.jpg  3678290.jpg  717350.jpg\n",
            "1159797.jpg  1828050.jpg  2441328.jpg  2992084.jpg  368644.jpg\t 721383.jpg\n",
            "1165451.jpg  1836888.jpg  2443498.jpg  299535.jpg   369017.jpg\t 724445.jpg\n",
            "1173913.jpg  1839077.jpg  244505.jpg   2995731.jpg  3693710.jpg  72716.jpg\n",
            "1183278.jpg  1870865.jpg  2448844.jpg  2999507.jpg  3699992.jpg  739735.jpg\n",
            "1202925.jpg  1871498.jpg  2451169.jpg  3000535.jpg  3702863.jpg  740385.jpg\n",
            "1205154.jpg  1877103.jpg  2456207.jpg  300869.jpg   3703769.jpg  741491.jpg\n",
            "1207213.jpg  1878005.jpg  2462190.jpg  3018077.jpg  3704879.jpg  741883.jpg\n",
            "1209973.jpg  1881674.jpg  2467990.jpg  3020376.jpg  3705479.jpg  755968.jpg\n",
            "121834.jpg   1888911.jpg  2468499.jpg  3023774.jpg  370643.jpg\t 759025.jpg\n",
            "12301.jpg    1890444.jpg  2470671.jpg  302591.jpg   3712344.jpg  759873.jpg\n",
            "1234172.jpg  1895479.jpg  2471646.jpg  3039549.jpg  3713343.jpg  762788.jpg\n",
            "1243215.jpg  1897129.jpg  2473559.jpg  3042454.jpg  372275.jpg\t 764429.jpg\n",
            "1245628.jpg  1898723.jpg  2476468.jpg  3055697.jpg  3742272.jpg  765000.jpg\n",
            "1247645.jpg  1899562.jpg  2481333.jpg  3057192.jpg  3745884.jpg  765799.jpg\n",
            "1248346.jpg  1899785.jpg  248252.jpg   3063955.jpg  3749515.jpg  768276.jpg\n",
            "1248478.jpg  1900585.jpg  2486277.jpg  3066951.jpg  375401.jpg\t 771878.jpg\n",
            "1260554.jpg  1906287.jpg  2487039.jpg  307677.jpg   3763593.jpg  774142.jpg\n",
            "1267359.jpg  1907713.jpg  2490163.jpg  3082068.jpg  376417.jpg\t 77677.jpg\n",
            "1269960.jpg  1912976.jpg  2491110.jpg  3082443.jpg  3766053.jpg  786995.jpg\n",
            "1270986.jpg  1914969.jpg  2492287.jpg  3084957.jpg  3766476.jpg  790432.jpg\n",
            "12718.jpg    1915343.jpg  2493954.jpg  3102271.jpg  3767723.jpg  790841.jpg\n",
            "1284978.jpg  1916846.jpg  2501636.jpg  3105724.jpg  3767773.jpg  792093.jpg\n",
            "1285298.jpg  1934355.jpg  2501961.jpg  3109486.jpg  3772054.jpg  799874.jpg\n",
            "1287004.jpg  1944600.jpg  2502234.jpg  312479.jpg   3778801.jpg  803243.jpg\n",
            "1289139.jpg  1947572.jpg  2508157.jpg  3128495.jpg  3790235.jpg  807128.jpg\n",
            "129536.jpg   1950499.jpg  2511911.jpg  3148119.jpg  3793314.jpg  809024.jpg\n",
            "1312761.jpg  1951130.jpg  2516510.jpg  3164761.jpg  3798959.jpg  812349.jpg\n",
            "131561.jpg   1958364.jpg  2519291.jpg  3168266.jpg  3803596.jpg  816577.jpg\n",
            "132484.jpg   1964051.jpg  2529205.jpg  3170114.jpg  3821701.jpg  816729.jpg\n",
            "132554.jpg   1968947.jpg  253127.jpg   3173779.jpg  3822139.jpg  819547.jpg\n",
            "1325918.jpg  1973447.jpg  2534774.jpg  317861.jpg   3826377.jpg  823104.jpg\n",
            "1326065.jpg  1980167.jpg  2556273.jpg  3185774.jpg  382829.jpg\t 82578.jpg\n",
            "1327402.jpg  1981348.jpg  2557340.jpg  3191035.jpg  3830773.jpg  82772.jpg\n",
            "1336882.jpg  1984976.jpg  2560539.jpg  3193599.jpg  38349.jpg\t 829229.jpg\n",
            "134462.jpg   1987634.jpg  2569760.jpg  3196721.jpg  384215.jpg\t 83538.jpg\n",
            "1344966.jpg  1988629.jpg  2570329.jpg  32004.jpg    3845083.jpg  835833.jpg\n",
            "1351146.jpg  199019.jpg   2572958.jpg  320570.jpg   3860002.jpg  839461.jpg\n",
            "1351631.jpg  1998483.jpg  2574896.jpg  3207504.jpg  3862243.jpg  853441.jpg\n",
            "1370319.jpg  2005870.jpg  2576168.jpg  3214153.jpg  3864383.jpg  857888.jpg\n",
            "1383291.jpg  2010437.jpg  2577373.jpg  3256974.jpg  3871666.jpg  861771.jpg\n",
            "1384464.jpg  2014717.jpg  2577377.jpg  3264148.jpg  3873326.jpg  866834.jpg\n",
            "138855.jpg   2019441.jpg  2581276.jpg  32666.jpg    387697.jpg\t 868789.jpg\n",
            "1390308.jpg  2019583.jpg  2584745.jpg  326809.jpg   3882444.jpg  869763.jpg\n",
            "13983.jpg    2021516.jpg  2587918.jpg  3269634.jpg  3906901.jpg  872094.jpg\n",
            "1399531.jpg  2026009.jpg  2587921.jpg  327415.jpg   3910117.jpg  874288.jpg\n",
            "140031.jpg   2032236.jpg  259449.jpg   3281494.jpg  3913912.jpg  875262.jpg\n",
            "1403878.jpg  2035248.jpg  2602611.jpg  329302.jpg   3917951.jpg  875856.jpg\n",
            "1407753.jpg  203831.jpg   2605343.jpg  3297714.jpg  393658.jpg\t 877881.jpg\n",
            "1412034.jpg  2044732.jpg  2606727.jpg  3312584.jpg  394049.jpg\t 878377.jpg\n",
            "1413289.jpg  2077999.jpg  262133.jpg   3314176.jpg  394590.jpg\t 884986.jpg\n",
            "141507.jpg   2078141.jpg  2621534.jpg  3314535.jpg  395034.jpg\t 886505.jpg\n",
            "1423515.jpg  2078208.jpg  2622336.jpg  332231.jpg   395960.jpg\t 8917.jpg\n",
            "1425089.jpg  2091857.jpg  2639094.jpg  3324050.jpg  398565.jpg\t 893644.jpg\n",
            "1426781.jpg  2097315.jpg  2640502.jpg  3326344.jpg  401701.jpg\t 896448.jpg\n",
            "143453.jpg   2098014.jpg  2664219.jpg  3333459.jpg  401979.jpg\t 898119.jpg\n",
            "1454995.jpg  2104569.jpg  2666066.jpg  3337370.jpg  40231.jpg\t 898303.jpg\n",
            "1468795.jpg  2110257.jpg  2667244.jpg  3338774.jpg  403431.jpg\t 898843.jpg\n",
            "147785.jpg   2112757.jpg  2667255.jpg  333985.jpg   413710.jpg\t 89892.jpg\n",
            "1499661.jpg  2121603.jpg  2667824.jpg  3342039.jpg  413789.jpg\t 899818.jpg\n",
            "1504421.jpg  2126352.jpg  2670730.jpg  3366256.jpg  419516.jpg\t 899959.jpg\n",
            "1504719.jpg  2126709.jpg  2671508.jpg  3367113.jpg  422261.jpg\t 904938.jpg\n",
            "1507039.jpg  2135635.jpg  2674351.jpg  337272.jpg   424288.jpg\t 910419.jpg\n",
            "1512514.jpg  2137341.jpg  2687575.jpg  3376519.jpg  430118.jpg\t 917774.jpg\n",
            "1524599.jpg  2142812.jpg  2693334.jpg  3379038.jpg  44449.jpg\t 918506.jpg\n",
            "1524655.jpg  214728.jpg   269396.jpg   3382880.jpg  448519.jpg\t 920219.jpg\n",
            "1535273.jpg  2148129.jpg  2694223.jpg  3383977.jpg  452989.jpg\t 920595.jpg\n",
            "1544197.jpg  2154394.jpg  2697971.jpg  3384856.jpg  464388.jpg\t 926046.jpg\n",
            "1552253.jpg  2155475.jpg  2700543.jpg  338838.jpg   465454.jpg\t 928663.jpg\n",
            "1553353.jpg  2155735.jpg  2702825.jpg  3391208.jpg  467986.jpg\t 928670.jpg\n",
            "1571074.jpg  2161241.jpg  2705497.jpg  3392649.jpg  474493.jpg\t 929067.jpg\n",
            "1572608.jpg  2164255.jpg  2707814.jpg  3392671.jpg  489347.jpg\t 937915.jpg\n",
            "1573562.jpg  216720.jpg   2711828.jpg  3393898.jpg  489532.jpg\t 938821.jpg\n",
            "1576248.jpg  2172850.jpg  271592.jpg   3397336.jpg  495892.jpg\t 93961.jpg\n",
            "1577871.jpg  218142.jpg   271675.jpg   3398309.jpg  513754.jpg\t 947246.jpg\n",
            "1584379.jpg  218711.jpg   271779.jpg   3399610.jpg  514014.jpg\t 951953.jpg\n",
            "1593665.jpg  2187466.jpg  2722646.jpg  3401720.jpg  517902.jpg\t 959901.jpg\n",
            "1593835.jpg  2188452.jpg  2723529.jpg  3401767.jpg  518527.jpg\t 962785.jpg\n",
            "1600705.jpg  2190018.jpg  2739039.jpg  340814.jpg   527199.jpg\t 966644.jpg\n",
            "1608000.jpg  220190.jpg   2739100.jpg  3425999.jpg  52934.jpg\t 967694.jpg\n",
            "1617418.jpg  220910.jpg   2742044.jpg  3426946.jpg  532970.jpg\t 970073.jpg\n",
            "1620560.jpg  221048.jpg   274945.jpg   3427699.jpg  543556.jpg\t 972000.jpg\n",
            "1620761.jpg  2215531.jpg  2754150.jpg  3434372.jpg  54461.jpg\t 976382.jpg\n",
            "1625147.jpg  2217956.jpg  2755875.jpg  3441394.jpg  54540.jpg\t 979955.jpg\n",
            "163039.jpg   2224099.jpg  2757327.jpg  3443136.jpg  545561.jpg\t 979998.jpg\n",
            "1633289.jpg  2224828.jpg  2760984.jpg  3456440.jpg  56449.jpg\t 985164.jpg\n",
            "1635386.jpg  2228322.jpg  276803.jpg   3462250.jpg  568383.jpg\t 98617.jpg\n",
            "1636299.jpg  2231356.jpg  2769168.jpg  34632.jpg    568995.jpg\t 998719.jpg\n"
          ],
          "name": "stdout"
        }
      ]
    },
    {
      "cell_type": "code",
      "metadata": {
        "colab": {
          "base_uri": "https://localhost:8080/"
        },
        "id": "xFl76BJqdhEG",
        "outputId": "03e5bf1c-d7bb-450e-8d6a-d666b690fd89"
      },
      "source": [
        "import os\n",
        "\n",
        "# Walk through pizza_steak directory and list number of files\n",
        "for dirpath,dirnames,filenames in os.walk(\"pizza_steak\"):\n",
        "  print(\"There are {} directories and {} images in {}\".format(len(dirnames),len(filenames),dirpath))"
      ],
      "execution_count": 4,
      "outputs": [
        {
          "output_type": "stream",
          "text": [
            "There are 2 directories and 0 images in pizza_steak\n",
            "There are 2 directories and 0 images in pizza_steak/train\n",
            "There are 0 directories and 750 images in pizza_steak/train/steak\n",
            "There are 0 directories and 750 images in pizza_steak/train/pizza\n",
            "There are 2 directories and 0 images in pizza_steak/test\n",
            "There are 0 directories and 250 images in pizza_steak/test/steak\n",
            "There are 0 directories and 250 images in pizza_steak/test/pizza\n"
          ],
          "name": "stdout"
        }
      ]
    },
    {
      "cell_type": "code",
      "metadata": {
        "colab": {
          "base_uri": "https://localhost:8080/"
        },
        "id": "xY8IuE9VeKQL",
        "outputId": "a91b9852-8ffc-4630-9c49-e29dc419b38a"
      },
      "source": [
        "# Another way to find out how many images are in a file\n",
        "num_steak_images_train = len(os.listdir(\"pizza_steak/train/steak\"))\n",
        "num_steak_images_train"
      ],
      "execution_count": 5,
      "outputs": [
        {
          "output_type": "execute_result",
          "data": {
            "text/plain": [
              "750"
            ]
          },
          "metadata": {
            "tags": []
          },
          "execution_count": 5
        }
      ]
    },
    {
      "cell_type": "markdown",
      "metadata": {
        "id": "Yyle7Pi_fnKQ"
      },
      "source": [
        "To visualize our images, first let's get the class names programmatically"
      ]
    },
    {
      "cell_type": "code",
      "metadata": {
        "colab": {
          "base_uri": "https://localhost:8080/"
        },
        "id": "Bn2L8o8wfl0U",
        "outputId": "7dbb1acf-9cd2-49ae-e133-f5ecb9771b13"
      },
      "source": [
        "# Get the classnames programmatically\n",
        "import pathlib\n",
        "import numpy as np\n",
        "data_dir = pathlib.Path(\"pizza_steak/train\")\n",
        "class_names = np.array(sorted([item.name for item in data_dir.glob(\"*\")])) # Create a list of class_nmaes from the subdirectories\n",
        "print(class_names)"
      ],
      "execution_count": 6,
      "outputs": [
        {
          "output_type": "stream",
          "text": [
            "['pizza' 'steak']\n"
          ],
          "name": "stdout"
        }
      ]
    },
    {
      "cell_type": "code",
      "metadata": {
        "id": "t4lpHBpqfi8J"
      },
      "source": [
        "# Lets visualize our images\n",
        "import matplotlib.pyplot as plt\n",
        "import matplotlib.image as mpimg\n",
        "import random\n",
        "\n",
        "def view_random_image(target_dir,target_class):\n",
        "  # Setup the target directory (we'l view images from here)\n",
        "  target_folder = target_dir + target_class\n",
        "\n",
        "  # Get a random image path\n",
        "  random_image = random.sample(os.listdir(target_folder),1)\n",
        "\n",
        "  # Read in the image and plot it using matplotlib\n",
        "  img = mpimg.imread(target_folder + \"/\" + random_image[0])\n",
        "  plt.imshow(img)\n",
        "  plt.title(target_class)\n",
        "  plt.axis(\"off\");\n",
        "\n",
        "  print(f\"Image shape: {img.shape}\") # show the shape of the image\n",
        "  \n",
        "  return img"
      ],
      "execution_count": 7,
      "outputs": []
    },
    {
      "cell_type": "code",
      "metadata": {
        "colab": {
          "base_uri": "https://localhost:8080/",
          "height": 281
        },
        "id": "oITevCqfhho2",
        "outputId": "34ecd491-7f21-448e-bfbe-d1c3835dc0fa"
      },
      "source": [
        "# View a random image from training dataset\n",
        "img = view_random_image(target_dir=\"pizza_steak/train/\",\n",
        "                        target_class=\"pizza\")"
      ],
      "execution_count": 8,
      "outputs": [
        {
          "output_type": "stream",
          "text": [
            "Image shape: (512, 384, 3)\n"
          ],
          "name": "stdout"
        },
        {
          "output_type": "display_data",
          "data": {
            "image/png": "[encoded data removed]",
            "text/plain": [
              "<Figure size 432x288 with 1 Axes>"
            ]
          },
          "metadata": {
            "tags": [],
            "needs_background": "light"
          }
        }
      ]
    },
    {
      "cell_type": "code",
      "metadata": {
        "colab": {
          "base_uri": "https://localhost:8080/"
        },
        "id": "4WlBVnIGhuTB",
        "outputId": "bd0d60e4-9dcb-4474-89b7-f4f56ce75738"
      },
      "source": [
        "import tensorflow as tf\n",
        "tf.constant(img)"
      ],
      "execution_count": 9,
      "outputs": [
        {
          "output_type": "execute_result",
          "data": {
            "text/plain": [
              "<tf.Tensor: shape=(512, 384, 3), dtype=uint8, numpy=\n",
              "array([[[ 43,  34,  39],\n",
              "        [ 42,  33,  38],\n",
              "        [ 42,  33,  38],\n",
              "        ...,\n",
              "        [ 50,  48,  59],\n",
              "        [ 53,  51,  62],\n",
              "        [ 56,  54,  65]],\n",
              "\n",
              "       [[ 42,  33,  38],\n",
              "        [ 42,  33,  38],\n",
              "        [ 41,  32,  35],\n",
              "        ...,\n",
              "        [ 50,  48,  59],\n",
              "        [ 53,  51,  62],\n",
              "        [ 55,  53,  64]],\n",
              "\n",
              "       [[ 41,  32,  37],\n",
              "        [ 41,  32,  35],\n",
              "        [ 40,  31,  34],\n",
              "        ...,\n",
              "        [ 50,  48,  59],\n",
              "        [ 52,  52,  62],\n",
              "        [ 54,  54,  64]],\n",
              "\n",
              "       ...,\n",
              "\n",
              "       [[ 79,  73,  59],\n",
              "        [ 84,  78,  64],\n",
              "        [ 96,  92,  80],\n",
              "        ...,\n",
              "        [142, 147, 150],\n",
              "        [143, 147, 150],\n",
              "        [143, 147, 150]],\n",
              "\n",
              "       [[ 68,  62,  50],\n",
              "        [ 75,  71,  59],\n",
              "        [ 80,  76,  64],\n",
              "        ...,\n",
              "        [143, 148, 151],\n",
              "        [145, 149, 152],\n",
              "        [146, 150, 153]],\n",
              "\n",
              "       [[ 42,  38,  26],\n",
              "        [ 59,  55,  43],\n",
              "        [ 64,  60,  48],\n",
              "        ...,\n",
              "        [146, 150, 153],\n",
              "        [147, 151, 154],\n",
              "        [148, 152, 155]]], dtype=uint8)>"
            ]
          },
          "metadata": {
            "tags": []
          },
          "execution_count": 9
        }
      ]
    },
    {
      "cell_type": "code",
      "metadata": {
        "colab": {
          "base_uri": "https://localhost:8080/"
        },
        "id": "5hIGxKJ2mT7q",
        "outputId": "f8402971-6507-40ba-a5c2-025f24f552e2"
      },
      "source": [
        "# View the image shape\n",
        "img.shape # return width,height,color channels"
      ],
      "execution_count": 10,
      "outputs": [
        {
          "output_type": "execute_result",
          "data": {
            "text/plain": [
              "(512, 384, 3)"
            ]
          },
          "metadata": {
            "tags": []
          },
          "execution_count": 10
        }
      ]
    },
    {
      "cell_type": "markdown",
      "metadata": {
        "id": "xJHYosy4n40a"
      },
      "source": [
        "> 🔑**Note:** Many machine learning models, including neural networks prefer the values they work with to be between 0 & 1. Knowing this, one of the most common preprocessing steps for working with images is to scale (also refered as normalize) their pixel values by dividing the image arrays by 255. (since 255 is the maximum pixel value)."
      ]
    },
    {
      "cell_type": "code",
      "metadata": {
        "colab": {
          "base_uri": "https://localhost:8080/"
        },
        "id": "SCPlQYeHm2_x",
        "outputId": "8bb867bf-4036-41de-ead4-cfc1be553be0"
      },
      "source": [
        "# Get all the pixel values between 0 & 1\n",
        "img/255."
      ],
      "execution_count": 11,
      "outputs": [
        {
          "output_type": "execute_result",
          "data": {
            "text/plain": [
              "array([[[0.16862745, 0.13333333, 0.15294118],\n",
              "        [0.16470588, 0.12941176, 0.14901961],\n",
              "        [0.16470588, 0.12941176, 0.14901961],\n",
              "        ...,\n",
              "        [0.19607843, 0.18823529, 0.23137255],\n",
              "        [0.20784314, 0.2       , 0.24313725],\n",
              "        [0.21960784, 0.21176471, 0.25490196]],\n",
              "\n",
              "       [[0.16470588, 0.12941176, 0.14901961],\n",
              "        [0.16470588, 0.12941176, 0.14901961],\n",
              "        [0.16078431, 0.1254902 , 0.1372549 ],\n",
              "        ...,\n",
              "        [0.19607843, 0.18823529, 0.23137255],\n",
              "        [0.20784314, 0.2       , 0.24313725],\n",
              "        [0.21568627, 0.20784314, 0.25098039]],\n",
              "\n",
              "       [[0.16078431, 0.1254902 , 0.14509804],\n",
              "        [0.16078431, 0.1254902 , 0.1372549 ],\n",
              "        [0.15686275, 0.12156863, 0.13333333],\n",
              "        ...,\n",
              "        [0.19607843, 0.18823529, 0.23137255],\n",
              "        [0.20392157, 0.20392157, 0.24313725],\n",
              "        [0.21176471, 0.21176471, 0.25098039]],\n",
              "\n",
              "       ...,\n",
              "\n",
              "       [[0.30980392, 0.28627451, 0.23137255],\n",
              "        [0.32941176, 0.30588235, 0.25098039],\n",
              "        [0.37647059, 0.36078431, 0.31372549],\n",
              "        ...,\n",
              "        [0.55686275, 0.57647059, 0.58823529],\n",
              "        [0.56078431, 0.57647059, 0.58823529],\n",
              "        [0.56078431, 0.57647059, 0.58823529]],\n",
              "\n",
              "       [[0.26666667, 0.24313725, 0.19607843],\n",
              "        [0.29411765, 0.27843137, 0.23137255],\n",
              "        [0.31372549, 0.29803922, 0.25098039],\n",
              "        ...,\n",
              "        [0.56078431, 0.58039216, 0.59215686],\n",
              "        [0.56862745, 0.58431373, 0.59607843],\n",
              "        [0.57254902, 0.58823529, 0.6       ]],\n",
              "\n",
              "       [[0.16470588, 0.14901961, 0.10196078],\n",
              "        [0.23137255, 0.21568627, 0.16862745],\n",
              "        [0.25098039, 0.23529412, 0.18823529],\n",
              "        ...,\n",
              "        [0.57254902, 0.58823529, 0.6       ],\n",
              "        [0.57647059, 0.59215686, 0.60392157],\n",
              "        [0.58039216, 0.59607843, 0.60784314]]])"
            ]
          },
          "metadata": {
            "tags": []
          },
          "execution_count": 11
        }
      ]
    },
    {
      "cell_type": "markdown",
      "metadata": {
        "id": "UxMJ3Th3pf2Q"
      },
      "source": [
        " ## An end-to-end example\n",
        "\n",
        " Let's build a convolutional neural network to find patterns in out images, more specifically we need a way to:\n",
        "\n",
        " * Load our images\n",
        " * Preprocess our images\n",
        " * Build a CNN to find patterns in our images\n",
        " * Compile our CNN\n",
        " * Fit the CNN to our training data"
      ]
    },
    {
      "cell_type": "code",
      "metadata": {
        "colab": {
          "base_uri": "https://localhost:8080/"
        },
        "id": "o3CrYhAjnc6o",
        "outputId": "43f12b76-cd45-4ac1-e5f3-3becd07c6df0"
      },
      "source": [
        "import tensorflow as tf\n",
        "from tensorflow.keras.preprocessing.image import ImageDataGenerator\n",
        "\n",
        "# set the seed\n",
        "tf.random.set_seed(42)\n",
        "\n",
        "# preprocess data (get all of the pixel values between 0 & 1, also called as scaling/normalization)\n",
        "train_datagen = ImageDataGenerator(rescale=1./255)\n",
        "valid_datagen = ImageDataGenerator(rescale=1./255)\n",
        "\n",
        "# Setup paths to our data directories\n",
        "train_dir = \"pizza_steak/train\"\n",
        "test_dir = \"pizza_steak/test\"\n",
        "\n",
        "# Import data from directories and turn it into batches\n",
        "train_data = train_datagen.flow_from_directory(directory=train_dir,\n",
        "                                               batch_size=32,\n",
        "                                               target_size=(224,224),\n",
        "                                               class_mode=\"binary\",\n",
        "                                               seed=42)\n",
        "valid_data = valid_datagen.flow_from_directory(directory=test_dir,\n",
        "                                               batch_size=32,\n",
        "                                               target_size=(224,224),\n",
        "                                               class_mode=\"binary\",\n",
        "                                               seed=42)\n",
        "\n",
        "# Build a CNN model (same as the Tiny VGG on the CNN explainer website)\n",
        "model_1 = tf.keras.models.Sequential([\n",
        "   tf.keras.layers.Conv2D(filters=10,\n",
        "                          kernel_size=3,\n",
        "                          activation=\"relu\",\n",
        "                          input_shape=(224,224,3)),\n",
        "   tf.keras.layers.Conv2D(10,3,activation=\"relu\"),\n",
        "   tf.keras.layers.MaxPool2D(pool_size=2,\n",
        "                             padding=\"valid\"),\n",
        "   tf.keras.layers.Conv2D(10,3,activation=\"relu\"),\n",
        "   tf.keras.layers.Conv2D(10,3,activation=\"relu\"),\n",
        "   tf.keras.layers.MaxPool2D(2),\n",
        "   tf.keras.layers.Flatten(),\n",
        "   tf.keras.layers.Dense(1,activation=\"sigmoid\")\n",
        "])\n",
        "\n",
        "# Compile or CNN\n",
        "model_1.compile(loss=tf.keras.losses.BinaryCrossentropy(),\n",
        "                optimizer=tf.keras.optimizers.Adam(),\n",
        "                metrics=[\"accuracy\"])\n",
        "\n",
        "# Fit the model\n",
        "history_1 = model_1.fit(train_data,\n",
        "                        epochs=5,\n",
        "                        steps_per_epoch=len(train_data),\n",
        "                        validation_data=valid_data,\n",
        "                        validation_steps=len(valid_data))"
      ],
      "execution_count": 12,
      "outputs": [
        {
          "output_type": "stream",
          "text": [
            "Found 1500 images belonging to 2 classes.\n",
            "Found 500 images belonging to 2 classes.\n",
            "Epoch 1/5\n",
            "47/47 [==============================] - 55s 1s/step - loss: 0.6257 - accuracy: 0.6050 - val_loss: 0.3693 - val_accuracy: 0.8460\n",
            "Epoch 2/5\n",
            "47/47 [==============================] - 54s 1s/step - loss: 0.4161 - accuracy: 0.8046 - val_loss: 0.4147 - val_accuracy: 0.7980\n",
            "Epoch 3/5\n",
            "47/47 [==============================] - 54s 1s/step - loss: 0.3958 - accuracy: 0.8387 - val_loss: 0.3464 - val_accuracy: 0.8600\n",
            "Epoch 4/5\n",
            "47/47 [==============================] - 54s 1s/step - loss: 0.3358 - accuracy: 0.8658 - val_loss: 0.2867 - val_accuracy: 0.8920\n",
            "Epoch 5/5\n",
            "47/47 [==============================] - 54s 1s/step - loss: 0.3067 - accuracy: 0.8720 - val_loss: 0.2796 - val_accuracy: 0.8860\n"
          ],
          "name": "stdout"
        }
      ]
    },
    {
      "cell_type": "code",
      "metadata": {
        "id": "cVl-vfUO3uQd"
      },
      "source": [
        ""
      ],
      "execution_count": 12,
      "outputs": []
    }
  ]
}
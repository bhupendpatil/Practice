{
  "nbformat": 4,
  "nbformat_minor": 0,
  "metadata": {
    "colab": {
      "name": "03_convolutional_neural_networks_in_tensorflow.ipynb",
      "provenance": [],
      "collapsed_sections": [],
      "machine_shape": "hm"
    },
    "kernelspec": {
      "name": "python3",
      "display_name": "Python 3"
    }
  },
  "cells": [
    {
      "cell_type": "markdown",
      "metadata": {
        "id": "i6XCjXwz6tSf"
      },
      "source": [
        "# Introduction to Computer Vision and Convolutional Neural Networks\n",
        "\n",
        "Computer vision is the practice of writing algorithms which can discover patterns in visual data. Such as the camera of a self-driving car recognizing the car in front."
      ]
    },
    {
      "cell_type": "markdown",
      "metadata": {
        "id": "A3vvjz-m7GQP"
      },
      "source": [
        "## Get the data\n",
        "\n",
        "The images we're working with are from Food101 dataset (101 different classes of food): https://www.kaggle.com/dansbecker/food-101\n",
        "\n",
        "However we've modified it to only use two classes (pizza🍕 & steak🥩) using the image data modification : [.ipynb](https://github.com/mrdbourke/tensorflow-deep-learning/blob/main/extras/image_data_modification.ipynb)\n",
        "\n",
        "> 🔑**Note:** We start with a smaller dataset so we can experiment quickly and figure what works (or better yet what doesn't work) before scaling up."
      ]
    },
    {
      "cell_type": "code",
      "metadata": {
        "colab": {
          "base_uri": "https://localhost:8080/"
        },
        "id": "NPdg_MVX7Czo",
        "outputId": "6fef610b-569b-4e73-e983-eae77eeb076a"
      },
      "source": [
        "!rm -r *\n",
        "\n",
        "# download data\n",
        "!wget https://storage.googleapis.com/ztm_tf_course/food_vision/pizza_steak.zip\n",
        "\n",
        "# Unzip the downloaded file\n",
        "!unzip -q pizza_steak.zip\n",
        "\n",
        "# remove extra data\n",
        "!rm -r __MACOSX\n",
        "!rm -r pizza_steak.zip"
      ],
      "execution_count": 1,
      "outputs": [
        {
          "output_type": "stream",
          "text": [
            "--2021-05-23 06:54:06--  https://storage.googleapis.com/ztm_tf_course/food_vision/pizza_steak.zip\n",
            "Resolving storage.googleapis.com (storage.googleapis.com)... 172.217.204.128, 172.217.203.128, 142.250.97.128, ...\n",
            "Connecting to storage.googleapis.com (storage.googleapis.com)|172.217.204.128|:443... connected.\n",
            "HTTP request sent, awaiting response... 200 OK\n",
            "Length: 109579078 (105M) [application/zip]\n",
            "Saving to: ‘pizza_steak.zip’\n",
            "\n",
            "pizza_steak.zip     100%[===================>] 104.50M   161MB/s    in 0.6s    \n",
            "\n",
            "2021-05-23 06:54:07 (161 MB/s) - ‘pizza_steak.zip’ saved [109579078/109579078]\n",
            "\n"
          ],
          "name": "stdout"
        }
      ]
    },
    {
      "cell_type": "code",
      "metadata": {
        "id": "dzMgIx2e7voI"
      },
      "source": [
        ""
      ],
      "execution_count": 1,
      "outputs": []
    }
  ]
}
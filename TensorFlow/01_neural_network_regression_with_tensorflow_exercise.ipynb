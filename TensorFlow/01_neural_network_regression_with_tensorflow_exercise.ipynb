{
  "nbformat": 4,
  "nbformat_minor": 0,
  "metadata": {
    "colab": {
      "name": "01_neural_network_regression_with_tensorflow_exercise.ipynb",
      "provenance": [],
      "collapsed_sections": [],
      "machine_shape": "hm"
    },
    "kernelspec": {
      "name": "python3",
      "display_name": "Python 3"
    },
    "accelerator": "GPU"
  },
  "cells": [
    {
      "cell_type": "markdown",
      "metadata": {
        "id": "rPaxAsUFqsPA"
      },
      "source": [
        "# **🛠 01 Neural network regression with TensorFlow Exercises**\n",
        "[Source](https://github.com/mrdbourke/tensorflow-deep-learning#-01-neural-network-regression-with-tensorflow-exercises)\n",
        "\n",
        "\n",
        "1. Create your own regression dataset (or make the one we created in \"Create data to view and fit\" bigger) and build fit a model to it.\n",
        "\n",
        "2. Try building a neural network with 4 Dense layers and fitting it to your own regression dataset, how does it perform?\n",
        "\n",
        "3. Try and improve the results we got on the insurance dataset, some things you might want to try include:\n",
        "* Building a larger model (how does one with 4 dense layers go?).\n",
        "* Increasing the number of units in each layer.\n",
        "* Lookup the documentation of [Adam](https://www.tensorflow.org/api_docs/python/tf/keras/optimizers/Adam) and find out what the first parameter is, what happens if you increase it by 10x?\n",
        "* What happens if you train for longer (say 300 epochs instead of 200)?\n",
        "\n",
        "4. Import the [Boston pricing dataset](https://www.tensorflow.org/api_docs/python/tf/keras/datasets/boston_housing/load_data) from TensorFlow [`tf.keras.datasets`](https://www.tensorflow.org/api_docs/python/tf/keras/datasets) and model it."
      ]
    },
    {
      "cell_type": "code",
      "metadata": {
        "id": "ibdLN72aRSD6"
      },
      "source": [
        "import tensorflow as tf\n",
        "import matplotlib.pyplot as plt"
      ],
      "execution_count": 11,
      "outputs": []
    },
    {
      "cell_type": "markdown",
      "metadata": {
        "id": "jL51hb3NZLMR"
      },
      "source": [
        "## 1. Create your own regression dataset (or make the one we created in \"Create data to view and fit\" bigger) and build fit a model to it."
      ]
    },
    {
      "cell_type": "code",
      "metadata": {
        "id": "0nr84c7SFcsU"
      },
      "source": [
        "# Create dataset\n",
        "X = tf.range(-100,100,4)\n",
        "y = X + 10"
      ],
      "execution_count": 12,
      "outputs": []
    },
    {
      "cell_type": "code",
      "metadata": {
        "colab": {
          "base_uri": "https://localhost:8080/",
          "height": 282
        },
        "id": "mJ7kIzj7RvHf",
        "outputId": "48e9532b-c150-42f3-86fe-01abbcca33fa"
      },
      "source": [
        "plt.scatter(X,y)"
      ],
      "execution_count": 13,
      "outputs": [
        {
          "output_type": "execute_result",
          "data": {
            "text/plain": [
              "<matplotlib.collections.PathCollection at 0x7f0f7a472a50>"
            ]
          },
          "metadata": {
            "tags": []
          },
          "execution_count": 13
        },
        {
          "output_type": "display_data",
          "data": {
            "image/png": "[encoded data removed]",
            "text/plain": [
              "<Figure size 432x288 with 1 Axes>"
            ]
          },
          "metadata": {
            "tags": [],
            "needs_background": "light"
          }
        }
      ]
    },
    {
      "cell_type": "code",
      "metadata": {
        "colab": {
          "base_uri": "https://localhost:8080/"
        },
        "id": "-hrSagkZbu1Z",
        "outputId": "65d53fc4-74ca-4017-b606-86f60de2d1ff"
      },
      "source": [
        "X,y"
      ],
      "execution_count": 18,
      "outputs": [
        {
          "output_type": "execute_result",
          "data": {
            "text/plain": [
              "(<tf.Tensor: shape=(50,), dtype=int32, numpy=\n",
              " array([-100,  -96,  -92,  -88,  -84,  -80,  -76,  -72,  -68,  -64,  -60,\n",
              "         -56,  -52,  -48,  -44,  -40,  -36,  -32,  -28,  -24,  -20,  -16,\n",
              "         -12,   -8,   -4,    0,    4,    8,   12,   16,   20,   24,   28,\n",
              "          32,   36,   40,   44,   48,   52,   56,   60,   64,   68,   72,\n",
              "          76,   80,   84,   88,   92,   96], dtype=int32)>,\n",
              " <tf.Tensor: shape=(50,), dtype=int32, numpy=\n",
              " array([-90, -86, -82, -78, -74, -70, -66, -62, -58, -54, -50, -46, -42,\n",
              "        -38, -34, -30, -26, -22, -18, -14, -10,  -6,  -2,   2,   6,  10,\n",
              "         14,  18,  22,  26,  30,  34,  38,  42,  46,  50,  54,  58,  62,\n",
              "         66,  70,  74,  78,  82,  86,  90,  94,  98, 102, 106], dtype=int32)>)"
            ]
          },
          "metadata": {
            "tags": []
          },
          "execution_count": 18
        }
      ]
    },
    {
      "cell_type": "code",
      "metadata": {
        "id": "uQ7C2pbyZ6Oo"
      },
      "source": [
        "# Splitting data into train and test sets\n",
        "X_train = X[:40] \n",
        "X_test = X[40:] \n",
        "y_train = y[:40] \n",
        "y_test = y[40:]"
      ],
      "execution_count": 19,
      "outputs": []
    },
    {
      "cell_type": "code",
      "metadata": {
        "colab": {
          "base_uri": "https://localhost:8080/"
        },
        "id": "Rmm78ICIR74F",
        "outputId": "766e10d1-2778-44a1-a50d-66d624b4ff7e"
      },
      "source": [
        "# model_1\n",
        "\n",
        "# Create a model\n",
        "model_1 = tf.keras.Sequential([\n",
        "  tf.keras.layers.Dense(10)\n",
        "])\n",
        "\n",
        "# Compile a model\n",
        "model_1.compile(loss=\"mae\",\n",
        "                optimizer=tf.keras.optimizers.SGD(),\n",
        "                metrics=[\"mae\"])\n",
        "\n",
        "# Fit a model\n",
        "model_1.fit(X_train,y_train,epochs=100)"
      ],
      "execution_count": 20,
      "outputs": [
        {
          "output_type": "stream",
          "text": [
            "Epoch 1/100\n",
            "2/2 [==============================] - 3s 9ms/step - loss: 35.4040 - mae: 35.4040\n",
            "Epoch 2/100\n",
            "2/2 [==============================] - 0s 7ms/step - loss: 31.2785 - mae: 31.2785\n",
            "Epoch 3/100\n",
            "2/2 [==============================] - 0s 6ms/step - loss: 27.5044 - mae: 27.5044\n",
            "Epoch 4/100\n",
            "2/2 [==============================] - 0s 7ms/step - loss: 24.3802 - mae: 24.3802\n",
            "Epoch 5/100\n",
            "2/2 [==============================] - 0s 7ms/step - loss: 22.0951 - mae: 22.0951\n",
            "Epoch 6/100\n",
            "2/2 [==============================] - 0s 7ms/step - loss: 19.1109 - mae: 19.1109\n",
            "Epoch 7/100\n",
            "2/2 [==============================] - 0s 7ms/step - loss: 17.2483 - mae: 17.2483\n",
            "Epoch 8/100\n",
            "2/2 [==============================] - 0s 7ms/step - loss: 15.6597 - mae: 15.6597\n",
            "Epoch 9/100\n",
            "2/2 [==============================] - 0s 7ms/step - loss: 14.4223 - mae: 14.4223\n",
            "Epoch 10/100\n",
            "2/2 [==============================] - 0s 7ms/step - loss: 13.3527 - mae: 13.3527\n",
            "Epoch 11/100\n",
            "2/2 [==============================] - 0s 7ms/step - loss: 12.3092 - mae: 12.3092\n",
            "Epoch 12/100\n",
            "2/2 [==============================] - 0s 7ms/step - loss: 11.2891 - mae: 11.2891\n",
            "Epoch 13/100\n",
            "2/2 [==============================] - 0s 7ms/step - loss: 10.3441 - mae: 10.3441\n",
            "Epoch 14/100\n",
            "2/2 [==============================] - 0s 9ms/step - loss: 9.5942 - mae: 9.5942\n",
            "Epoch 15/100\n",
            "2/2 [==============================] - 0s 7ms/step - loss: 8.7595 - mae: 8.7595\n",
            "Epoch 16/100\n",
            "2/2 [==============================] - 0s 6ms/step - loss: 8.0242 - mae: 8.0242\n",
            "Epoch 17/100\n",
            "2/2 [==============================] - 0s 6ms/step - loss: 7.7121 - mae: 7.7121\n",
            "Epoch 18/100\n",
            "2/2 [==============================] - 0s 7ms/step - loss: 7.4682 - mae: 7.4682\n",
            "Epoch 19/100\n",
            "2/2 [==============================] - 0s 8ms/step - loss: 7.5419 - mae: 7.5419\n",
            "Epoch 20/100\n",
            "2/2 [==============================] - 0s 12ms/step - loss: 7.7871 - mae: 7.7871\n",
            "Epoch 21/100\n",
            "2/2 [==============================] - 0s 7ms/step - loss: 7.5730 - mae: 7.5730\n",
            "Epoch 22/100\n",
            "2/2 [==============================] - 0s 7ms/step - loss: 7.4983 - mae: 7.4983\n",
            "Epoch 23/100\n",
            "2/2 [==============================] - 0s 7ms/step - loss: 7.8575 - mae: 7.8575\n",
            "Epoch 24/100\n",
            "2/2 [==============================] - 0s 7ms/step - loss: 7.9629 - mae: 7.9629\n",
            "Epoch 25/100\n",
            "2/2 [==============================] - 0s 8ms/step - loss: 7.5983 - mae: 7.5983\n",
            "Epoch 26/100\n",
            "2/2 [==============================] - 0s 10ms/step - loss: 7.6955 - mae: 7.6955\n",
            "Epoch 27/100\n",
            "2/2 [==============================] - 0s 9ms/step - loss: 7.4287 - mae: 7.4287\n",
            "Epoch 28/100\n",
            "2/2 [==============================] - 0s 8ms/step - loss: 7.5633 - mae: 7.5633\n",
            "Epoch 29/100\n",
            "2/2 [==============================] - 0s 7ms/step - loss: 7.5406 - mae: 7.5406\n",
            "Epoch 30/100\n",
            "2/2 [==============================] - 0s 7ms/step - loss: 7.6757 - mae: 7.6757\n",
            "Epoch 31/100\n",
            "2/2 [==============================] - 0s 8ms/step - loss: 7.5985 - mae: 7.5985\n",
            "Epoch 32/100\n",
            "2/2 [==============================] - 0s 7ms/step - loss: 7.5266 - mae: 7.5266\n",
            "Epoch 33/100\n",
            "2/2 [==============================] - 0s 7ms/step - loss: 7.5310 - mae: 7.5310\n",
            "Epoch 34/100\n",
            "2/2 [==============================] - 0s 7ms/step - loss: 7.4781 - mae: 7.4781\n",
            "Epoch 35/100\n",
            "2/2 [==============================] - 0s 6ms/step - loss: 7.5740 - mae: 7.5740\n",
            "Epoch 36/100\n",
            "2/2 [==============================] - 0s 9ms/step - loss: 7.5818 - mae: 7.5818\n",
            "Epoch 37/100\n",
            "2/2 [==============================] - 0s 7ms/step - loss: 7.4732 - mae: 7.4732\n",
            "Epoch 38/100\n",
            "2/2 [==============================] - 0s 7ms/step - loss: 8.0885 - mae: 8.0885\n",
            "Epoch 39/100\n",
            "2/2 [==============================] - 0s 9ms/step - loss: 7.5031 - mae: 7.5031\n",
            "Epoch 40/100\n",
            "2/2 [==============================] - 0s 8ms/step - loss: 7.6693 - mae: 7.6693\n",
            "Epoch 41/100\n",
            "2/2 [==============================] - 0s 6ms/step - loss: 7.8779 - mae: 7.8779\n",
            "Epoch 42/100\n",
            "2/2 [==============================] - 0s 8ms/step - loss: 7.6900 - mae: 7.6900\n",
            "Epoch 43/100\n",
            "2/2 [==============================] - 0s 8ms/step - loss: 7.4488 - mae: 7.4488\n",
            "Epoch 44/100\n",
            "2/2 [==============================] - 0s 7ms/step - loss: 7.6352 - mae: 7.6352\n",
            "Epoch 45/100\n",
            "2/2 [==============================] - 0s 7ms/step - loss: 7.7237 - mae: 7.7237\n",
            "Epoch 46/100\n",
            "2/2 [==============================] - 0s 7ms/step - loss: 7.5711 - mae: 7.5711\n",
            "Epoch 47/100\n",
            "2/2 [==============================] - 0s 8ms/step - loss: 7.6887 - mae: 7.6887\n",
            "Epoch 48/100\n",
            "2/2 [==============================] - 0s 8ms/step - loss: 7.9564 - mae: 7.9564\n",
            "Epoch 49/100\n",
            "2/2 [==============================] - 0s 8ms/step - loss: 7.6881 - mae: 7.6881\n",
            "Epoch 50/100\n",
            "2/2 [==============================] - 0s 7ms/step - loss: 7.4656 - mae: 7.4656\n",
            "Epoch 51/100\n",
            "2/2 [==============================] - 0s 18ms/step - loss: 7.4659 - mae: 7.4659\n",
            "Epoch 52/100\n",
            "2/2 [==============================] - 0s 10ms/step - loss: 7.7672 - mae: 7.7672\n",
            "Epoch 53/100\n",
            "2/2 [==============================] - 0s 11ms/step - loss: 7.7817 - mae: 7.7817\n",
            "Epoch 54/100\n",
            "2/2 [==============================] - 0s 10ms/step - loss: 7.6056 - mae: 7.6056\n",
            "Epoch 55/100\n",
            "2/2 [==============================] - 0s 8ms/step - loss: 7.4338 - mae: 7.4338\n",
            "Epoch 56/100\n",
            "2/2 [==============================] - 0s 9ms/step - loss: 7.5941 - mae: 7.5941\n",
            "Epoch 57/100\n",
            "2/2 [==============================] - 0s 12ms/step - loss: 7.8224 - mae: 7.8224\n",
            "Epoch 58/100\n",
            "2/2 [==============================] - 0s 6ms/step - loss: 7.4502 - mae: 7.4502\n",
            "Epoch 59/100\n",
            "2/2 [==============================] - 0s 4ms/step - loss: 7.5045 - mae: 7.5045\n",
            "Epoch 60/100\n",
            "2/2 [==============================] - 0s 9ms/step - loss: 7.6902 - mae: 7.6902\n",
            "Epoch 61/100\n",
            "2/2 [==============================] - 0s 8ms/step - loss: 7.7729 - mae: 7.7729\n",
            "Epoch 62/100\n",
            "2/2 [==============================] - 0s 8ms/step - loss: 7.6792 - mae: 7.6792\n",
            "Epoch 63/100\n",
            "2/2 [==============================] - 0s 7ms/step - loss: 7.6778 - mae: 7.6778\n",
            "Epoch 64/100\n",
            "2/2 [==============================] - 0s 10ms/step - loss: 7.5204 - mae: 7.5204\n",
            "Epoch 65/100\n",
            "2/2 [==============================] - 0s 8ms/step - loss: 7.5205 - mae: 7.5205\n",
            "Epoch 66/100\n",
            "2/2 [==============================] - 0s 9ms/step - loss: 7.6055 - mae: 7.6055\n",
            "Epoch 67/100\n",
            "2/2 [==============================] - 0s 8ms/step - loss: 7.6647 - mae: 7.6647\n",
            "Epoch 68/100\n",
            "2/2 [==============================] - 0s 7ms/step - loss: 7.4083 - mae: 7.4083\n",
            "Epoch 69/100\n",
            "2/2 [==============================] - 0s 10ms/step - loss: 7.5393 - mae: 7.5393\n",
            "Epoch 70/100\n",
            "2/2 [==============================] - 0s 5ms/step - loss: 7.6690 - mae: 7.6690\n",
            "Epoch 71/100\n",
            "2/2 [==============================] - 0s 8ms/step - loss: 7.6172 - mae: 7.6172\n",
            "Epoch 72/100\n",
            "2/2 [==============================] - 0s 5ms/step - loss: 7.5069 - mae: 7.5069\n",
            "Epoch 73/100\n",
            "2/2 [==============================] - 0s 11ms/step - loss: 7.4572 - mae: 7.4572\n",
            "Epoch 74/100\n",
            "2/2 [==============================] - 0s 8ms/step - loss: 7.5076 - mae: 7.5076\n",
            "Epoch 75/100\n",
            "2/2 [==============================] - 0s 6ms/step - loss: 7.5044 - mae: 7.5044\n",
            "Epoch 76/100\n",
            "2/2 [==============================] - 0s 8ms/step - loss: 7.3708 - mae: 7.3708\n",
            "Epoch 77/100\n",
            "2/2 [==============================] - 0s 8ms/step - loss: 7.8612 - mae: 7.8612\n",
            "Epoch 78/100\n",
            "2/2 [==============================] - 0s 9ms/step - loss: 7.8388 - mae: 7.8388\n",
            "Epoch 79/100\n",
            "2/2 [==============================] - 0s 9ms/step - loss: 7.6186 - mae: 7.6186\n",
            "Epoch 80/100\n",
            "2/2 [==============================] - 0s 12ms/step - loss: 7.7673 - mae: 7.7673\n",
            "Epoch 81/100\n",
            "2/2 [==============================] - 0s 7ms/step - loss: 7.6879 - mae: 7.6879\n",
            "Epoch 82/100\n",
            "2/2 [==============================] - 0s 12ms/step - loss: 7.7141 - mae: 7.7141\n",
            "Epoch 83/100\n",
            "2/2 [==============================] - 0s 10ms/step - loss: 7.7475 - mae: 7.7475\n",
            "Epoch 84/100\n",
            "2/2 [==============================] - 0s 7ms/step - loss: 7.6173 - mae: 7.6173\n",
            "Epoch 85/100\n",
            "2/2 [==============================] - 0s 6ms/step - loss: 7.6258 - mae: 7.6258\n",
            "Epoch 86/100\n",
            "2/2 [==============================] - 0s 8ms/step - loss: 7.5187 - mae: 7.5187\n",
            "Epoch 87/100\n",
            "2/2 [==============================] - 0s 15ms/step - loss: 7.7281 - mae: 7.7281\n",
            "Epoch 88/100\n",
            "2/2 [==============================] - 0s 8ms/step - loss: 7.5778 - mae: 7.5778\n",
            "Epoch 89/100\n",
            "2/2 [==============================] - 0s 7ms/step - loss: 7.7908 - mae: 7.7908\n",
            "Epoch 90/100\n",
            "2/2 [==============================] - 0s 6ms/step - loss: 7.4257 - mae: 7.4257\n",
            "Epoch 91/100\n",
            "2/2 [==============================] - 0s 6ms/step - loss: 7.6705 - mae: 7.6705\n",
            "Epoch 92/100\n",
            "2/2 [==============================] - 0s 6ms/step - loss: 8.0292 - mae: 8.0292\n",
            "Epoch 93/100\n",
            "2/2 [==============================] - 0s 5ms/step - loss: 7.5379 - mae: 7.5379\n",
            "Epoch 94/100\n",
            "2/2 [==============================] - 0s 6ms/step - loss: 7.6017 - mae: 7.6017\n",
            "Epoch 95/100\n",
            "2/2 [==============================] - 0s 7ms/step - loss: 7.6669 - mae: 7.6669\n",
            "Epoch 96/100\n",
            "2/2 [==============================] - 0s 6ms/step - loss: 7.8249 - mae: 7.8249\n",
            "Epoch 97/100\n",
            "2/2 [==============================] - 0s 6ms/step - loss: 8.0588 - mae: 8.0588\n",
            "Epoch 98/100\n",
            "2/2 [==============================] - 0s 7ms/step - loss: 7.5921 - mae: 7.5921\n",
            "Epoch 99/100\n",
            "2/2 [==============================] - 0s 6ms/step - loss: 7.6860 - mae: 7.6860\n",
            "Epoch 100/100\n",
            "2/2 [==============================] - 0s 8ms/step - loss: 7.6649 - mae: 7.6649\n"
          ],
          "name": "stdout"
        },
        {
          "output_type": "execute_result",
          "data": {
            "text/plain": [
              "<tensorflow.python.keras.callbacks.History at 0x7f0f79894750>"
            ]
          },
          "metadata": {
            "tags": []
          },
          "execution_count": 20
        }
      ]
    },
    {
      "cell_type": "code",
      "metadata": {
        "colab": {
          "base_uri": "https://localhost:8080/"
        },
        "id": "rQY5Tspgefve",
        "outputId": "a3c5e5b7-f6fe-4a35-a2a6-c962cbfbaa51"
      },
      "source": [
        "model_1.summary()"
      ],
      "execution_count": 21,
      "outputs": [
        {
          "output_type": "stream",
          "text": [
            "Model: \"sequential\"\n",
            "_________________________________________________________________\n",
            "Layer (type)                 Output Shape              Param #   \n",
            "=================================================================\n",
            "dense (Dense)                (None, 10)                20        \n",
            "=================================================================\n",
            "Total params: 20\n",
            "Trainable params: 20\n",
            "Non-trainable params: 0\n",
            "_________________________________________________________________\n"
          ],
          "name": "stdout"
        }
      ]
    },
    {
      "cell_type": "markdown",
      "metadata": {
        "id": "kwa0TpHTdy8H"
      },
      "source": [
        "## 2. Try building a neural network with 4 Dense layers and fitting it to your own regression dataset, how does it perform?"
      ]
    },
    {
      "cell_type": "code",
      "metadata": {
        "id": "4l8rGvb1ccMg"
      },
      "source": [
        ""
      ],
      "execution_count": null,
      "outputs": []
    }
  ]
}
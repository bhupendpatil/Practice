{
  "nbformat": 4,
  "nbformat_minor": 0,
  "metadata": {
    "colab": {
      "name": "02_neural_network_classification_with_tensorflow.ipynb",
      "provenance": [],
      "collapsed_sections": [],
      "machine_shape": "hm"
    },
    "kernelspec": {
      "name": "python3",
      "display_name": "Python 3"
    },
    "accelerator": "GPU"
  },
  "cells": [
    {
      "cell_type": "markdown",
      "metadata": {
        "id": "Nu1EWZRAsEaz"
      },
      "source": [
        "# Introduction to neural network classification with TensorFlow\n",
        "\n",
        "In this notebook we're going to learn how to write neural networks for classification problems.\n",
        "\n",
        "A classification is where you try to classify something as one thing or another.\n",
        "\n",
        "A few types of classification problems:\n",
        "* Binary classification\n",
        "* Multiclass classification\n",
        "* Multilabel classification"
      ]
    },
    {
      "cell_type": "markdown",
      "metadata": {
        "id": "DriS2H8msrxx"
      },
      "source": [
        "## Creating data to view and fit"
      ]
    },
    {
      "cell_type": "code",
      "metadata": {
        "id": "KSU3tqyrsiFl"
      },
      "source": [
        "from sklearn.datasets import make_circles\n",
        "\n",
        "# Make 1000 examples\n",
        "n_samples = 1000\n",
        "\n",
        "# Create circles\n",
        "X,y = make_circles(n_samples,\n",
        "                   noise=0.03,\n",
        "                   random_state=42)"
      ],
      "execution_count": 1,
      "outputs": []
    },
    {
      "cell_type": "code",
      "metadata": {
        "colab": {
          "base_uri": "https://localhost:8080/"
        },
        "id": "vRt_nusRtAC2",
        "outputId": "72530c31-4568-4c08-e77c-7939aaa8bd3b"
      },
      "source": [
        "# Check out features\n",
        "X"
      ],
      "execution_count": 2,
      "outputs": [
        {
          "output_type": "execute_result",
          "data": {
            "text/plain": [
              "array([[ 0.75424625,  0.23148074],\n",
              "       [-0.75615888,  0.15325888],\n",
              "       [-0.81539193,  0.17328203],\n",
              "       ...,\n",
              "       [-0.13690036, -0.81001183],\n",
              "       [ 0.67036156, -0.76750154],\n",
              "       [ 0.28105665,  0.96382443]])"
            ]
          },
          "metadata": {
            "tags": []
          },
          "execution_count": 2
        }
      ]
    },
    {
      "cell_type": "code",
      "metadata": {
        "colab": {
          "base_uri": "https://localhost:8080/"
        },
        "id": "z_j0od9AtLRz",
        "outputId": "6d5ed2e5-fd86-4028-deab-6330209a9ed5"
      },
      "source": [
        "# Check the labels\n",
        "y"
      ],
      "execution_count": 3,
      "outputs": [
        {
          "output_type": "execute_result",
          "data": {
            "text/plain": [
              "array([1, 1, 1, 1, 0, 1, 1, 1, 1, 0, 1, 0, 1, 1, 1, 1, 0, 1, 1, 0, 1, 0,\n",
              "       0, 1, 0, 0, 0, 1, 1, 1, 0, 0, 1, 0, 0, 0, 1, 1, 1, 0, 0, 0, 0, 1,\n",
              "       0, 0, 1, 1, 0, 1, 1, 1, 0, 1, 0, 0, 1, 0, 0, 1, 0, 0, 1, 0, 1, 1,\n",
              "       1, 1, 0, 1, 0, 0, 1, 1, 0, 0, 1, 0, 1, 0, 1, 0, 0, 0, 0, 1, 1, 1,\n",
              "       1, 0, 0, 0, 1, 0, 1, 0, 1, 0, 0, 1, 1, 0, 1, 0, 1, 1, 1, 1, 0, 1,\n",
              "       1, 1, 1, 1, 0, 0, 0, 1, 1, 0, 1, 0, 1, 0, 0, 1, 1, 0, 1, 1, 1, 1,\n",
              "       0, 1, 1, 0, 0, 0, 0, 0, 0, 0, 1, 0, 1, 1, 1, 0, 1, 0, 1, 0, 1, 0,\n",
              "       1, 0, 0, 1, 0, 1, 1, 1, 1, 1, 1, 1, 0, 1, 0, 0, 0, 0, 0, 1, 0, 0,\n",
              "       0, 0, 1, 1, 0, 1, 0, 1, 1, 0, 0, 0, 1, 1, 1, 1, 1, 0, 0, 0, 0, 0,\n",
              "       1, 0, 0, 1, 1, 1, 1, 1, 0, 1, 0, 1, 0, 0, 1, 1, 1, 0, 1, 0, 1, 1,\n",
              "       0, 1, 1, 0, 1, 0, 1, 0, 1, 1, 0, 1, 0, 1, 0, 0, 0, 1, 0, 0, 0, 0,\n",
              "       1, 1, 0, 0, 0, 0, 0, 0, 0, 1, 1, 1, 0, 0, 1, 1, 1, 0, 1, 0, 0, 0,\n",
              "       0, 1, 1, 0, 1, 0, 0, 0, 1, 0, 1, 0, 0, 1, 0, 1, 1, 1, 0, 0, 0, 1,\n",
              "       0, 0, 0, 1, 1, 1, 1, 0, 0, 0, 1, 0, 0, 0, 1, 0, 0, 0, 1, 1, 0, 1,\n",
              "       1, 1, 1, 1, 1, 1, 0, 0, 0, 0, 1, 0, 0, 0, 0, 1, 1, 1, 0, 0, 1, 0,\n",
              "       1, 0, 1, 1, 0, 0, 1, 1, 1, 1, 0, 0, 0, 0, 0, 0, 1, 1, 0, 1, 0, 0,\n",
              "       1, 0, 0, 0, 0, 0, 0, 0, 0, 1, 0, 0, 0, 0, 1, 0, 0, 1, 0, 1, 0, 0,\n",
              "       0, 1, 0, 0, 1, 1, 0, 0, 1, 0, 0, 1, 1, 0, 1, 1, 0, 0, 1, 0, 1, 0,\n",
              "       0, 0, 1, 1, 0, 0, 1, 1, 1, 1, 1, 0, 0, 1, 1, 1, 1, 0, 1, 1, 1, 1,\n",
              "       1, 0, 0, 1, 0, 1, 0, 0, 0, 0, 1, 0, 0, 0, 0, 0, 0, 0, 0, 0, 1, 1,\n",
              "       0, 1, 1, 1, 1, 1, 1, 0, 1, 1, 1, 1, 0, 0, 0, 1, 1, 1, 0, 0, 0, 0,\n",
              "       1, 1, 0, 0, 0, 0, 1, 0, 0, 0, 1, 0, 0, 1, 1, 1, 1, 1, 1, 0, 0, 0,\n",
              "       1, 0, 0, 0, 0, 0, 1, 1, 1, 0, 0, 0, 0, 0, 1, 1, 1, 0, 0, 1, 1, 1,\n",
              "       1, 0, 1, 1, 0, 1, 0, 0, 0, 1, 0, 0, 1, 0, 0, 1, 1, 0, 0, 1, 1, 0,\n",
              "       1, 0, 1, 0, 1, 0, 1, 0, 0, 0, 1, 0, 0, 0, 0, 0, 0, 1, 1, 1, 1, 0,\n",
              "       0, 0, 1, 0, 1, 1, 0, 0, 0, 0, 0, 1, 1, 1, 0, 0, 1, 0, 0, 1, 0, 0,\n",
              "       1, 0, 0, 1, 0, 0, 0, 1, 0, 0, 1, 1, 1, 0, 1, 1, 0, 0, 0, 1, 1, 1,\n",
              "       1, 0, 0, 1, 1, 1, 0, 0, 0, 0, 1, 1, 0, 0, 1, 1, 0, 0, 1, 1, 1, 1,\n",
              "       1, 1, 1, 0, 1, 0, 1, 0, 0, 1, 0, 1, 1, 1, 1, 0, 0, 1, 1, 0, 0, 1,\n",
              "       0, 1, 0, 0, 0, 1, 0, 0, 1, 1, 1, 1, 0, 1, 1, 1, 1, 1, 1, 1, 0, 1,\n",
              "       0, 1, 1, 1, 0, 0, 1, 0, 0, 0, 1, 1, 1, 1, 0, 0, 0, 0, 1, 0, 1, 1,\n",
              "       1, 0, 1, 0, 0, 1, 0, 0, 1, 1, 1, 1, 1, 0, 1, 0, 0, 0, 1, 1, 1, 1,\n",
              "       1, 0, 0, 0, 1, 1, 1, 1, 0, 0, 0, 0, 0, 1, 1, 0, 1, 0, 1, 0, 0, 0,\n",
              "       0, 0, 0, 0, 0, 0, 1, 1, 1, 1, 1, 0, 1, 0, 1, 1, 1, 1, 0, 1, 1, 1,\n",
              "       1, 1, 1, 1, 1, 0, 1, 1, 0, 1, 0, 0, 0, 1, 0, 1, 1, 1, 0, 1, 1, 0,\n",
              "       1, 1, 0, 1, 0, 1, 1, 0, 0, 1, 1, 1, 0, 0, 0, 0, 1, 1, 0, 0, 1, 1,\n",
              "       1, 1, 1, 1, 1, 1, 1, 1, 1, 1, 1, 1, 0, 0, 1, 0, 1, 0, 1, 0, 1, 1,\n",
              "       1, 1, 1, 1, 0, 1, 0, 1, 1, 1, 0, 1, 1, 0, 0, 1, 0, 1, 1, 0, 0, 1,\n",
              "       1, 1, 1, 1, 1, 1, 1, 0, 1, 1, 1, 0, 1, 0, 0, 1, 1, 0, 0, 0, 1, 0,\n",
              "       0, 1, 0, 0, 0, 1, 0, 1, 0, 0, 0, 0, 1, 0, 1, 1, 1, 1, 0, 1, 0, 0,\n",
              "       0, 0, 0, 0, 1, 0, 1, 0, 1, 0, 1, 1, 1, 0, 1, 0, 1, 0, 0, 1, 1, 1,\n",
              "       0, 0, 0, 1, 1, 0, 1, 0, 1, 1, 0, 1, 0, 0, 1, 1, 1, 0, 0, 0, 1, 1,\n",
              "       0, 0, 0, 0, 0, 1, 1, 0, 1, 0, 0, 0, 1, 0, 0, 0, 1, 1, 1, 1, 0, 1,\n",
              "       1, 1, 0, 1, 1, 1, 1, 0, 1, 1, 0, 1, 1, 0, 0, 1, 1, 1, 0, 0, 0, 0,\n",
              "       0, 0, 1, 0, 0, 1, 0, 0, 0, 1, 0, 1, 0, 1, 1, 0, 0, 0, 0, 0, 0, 0,\n",
              "       0, 1, 0, 1, 0, 0, 0, 1, 0, 0])"
            ]
          },
          "metadata": {
            "tags": []
          },
          "execution_count": 3
        }
      ]
    },
    {
      "cell_type": "markdown",
      "metadata": {
        "id": "T_NzA5l7tlny"
      },
      "source": [
        "Our data is little hard to understand right now... let's visualize it\n"
      ]
    },
    {
      "cell_type": "code",
      "metadata": {
        "colab": {
          "base_uri": "https://localhost:8080/",
          "height": 419
        },
        "id": "82gGbOwJtk55",
        "outputId": "91fdbaea-a1ea-486c-8ed9-cee75cffbff7"
      },
      "source": [
        "import pandas as pd\n",
        "\n",
        "circles = pd.DataFrame({\"X0\":X[:,0],\"X1\":X[:,1],\"label\":y})\n",
        "circles"
      ],
      "execution_count": 4,
      "outputs": [
        {
          "output_type": "execute_result",
          "data": {
            "text/html": [
              "<div>\n",
              "<style scoped>\n",
              "    .dataframe tbody tr th:only-of-type {\n",
              "        vertical-align: middle;\n",
              "    }\n",
              "\n",
              "    .dataframe tbody tr th {\n",
              "        vertical-align: top;\n",
              "    }\n",
              "\n",
              "    .dataframe thead th {\n",
              "        text-align: right;\n",
              "    }\n",
              "</style>\n",
              "<table border=\"1\" class=\"dataframe\">\n",
              "  <thead>\n",
              "    <tr style=\"text-align: right;\">\n",
              "      <th></th>\n",
              "      <th>X0</th>\n",
              "      <th>X1</th>\n",
              "      <th>label</th>\n",
              "    </tr>\n",
              "  </thead>\n",
              "  <tbody>\n",
              "    <tr>\n",
              "      <th>0</th>\n",
              "      <td>0.754246</td>\n",
              "      <td>0.231481</td>\n",
              "      <td>1</td>\n",
              "    </tr>\n",
              "    <tr>\n",
              "      <th>1</th>\n",
              "      <td>-0.756159</td>\n",
              "      <td>0.153259</td>\n",
              "      <td>1</td>\n",
              "    </tr>\n",
              "    <tr>\n",
              "      <th>2</th>\n",
              "      <td>-0.815392</td>\n",
              "      <td>0.173282</td>\n",
              "      <td>1</td>\n",
              "    </tr>\n",
              "    <tr>\n",
              "      <th>3</th>\n",
              "      <td>-0.393731</td>\n",
              "      <td>0.692883</td>\n",
              "      <td>1</td>\n",
              "    </tr>\n",
              "    <tr>\n",
              "      <th>4</th>\n",
              "      <td>0.442208</td>\n",
              "      <td>-0.896723</td>\n",
              "      <td>0</td>\n",
              "    </tr>\n",
              "    <tr>\n",
              "      <th>...</th>\n",
              "      <td>...</td>\n",
              "      <td>...</td>\n",
              "      <td>...</td>\n",
              "    </tr>\n",
              "    <tr>\n",
              "      <th>995</th>\n",
              "      <td>0.244054</td>\n",
              "      <td>0.944125</td>\n",
              "      <td>0</td>\n",
              "    </tr>\n",
              "    <tr>\n",
              "      <th>996</th>\n",
              "      <td>-0.978655</td>\n",
              "      <td>-0.272373</td>\n",
              "      <td>0</td>\n",
              "    </tr>\n",
              "    <tr>\n",
              "      <th>997</th>\n",
              "      <td>-0.136900</td>\n",
              "      <td>-0.810012</td>\n",
              "      <td>1</td>\n",
              "    </tr>\n",
              "    <tr>\n",
              "      <th>998</th>\n",
              "      <td>0.670362</td>\n",
              "      <td>-0.767502</td>\n",
              "      <td>0</td>\n",
              "    </tr>\n",
              "    <tr>\n",
              "      <th>999</th>\n",
              "      <td>0.281057</td>\n",
              "      <td>0.963824</td>\n",
              "      <td>0</td>\n",
              "    </tr>\n",
              "  </tbody>\n",
              "</table>\n",
              "<p>1000 rows × 3 columns</p>\n",
              "</div>"
            ],
            "text/plain": [
              "           X0        X1  label\n",
              "0    0.754246  0.231481      1\n",
              "1   -0.756159  0.153259      1\n",
              "2   -0.815392  0.173282      1\n",
              "3   -0.393731  0.692883      1\n",
              "4    0.442208 -0.896723      0\n",
              "..        ...       ...    ...\n",
              "995  0.244054  0.944125      0\n",
              "996 -0.978655 -0.272373      0\n",
              "997 -0.136900 -0.810012      1\n",
              "998  0.670362 -0.767502      0\n",
              "999  0.281057  0.963824      0\n",
              "\n",
              "[1000 rows x 3 columns]"
            ]
          },
          "metadata": {
            "tags": []
          },
          "execution_count": 4
        }
      ]
    },
    {
      "cell_type": "code",
      "metadata": {
        "colab": {
          "base_uri": "https://localhost:8080/",
          "height": 265
        },
        "id": "h8kbYpzatNu7",
        "outputId": "b2156966-6dd0-4d7f-c686-249c897e70dc"
      },
      "source": [
        "# Visualize with a plot\n",
        "import matplotlib.pyplot as plt\n",
        "\n",
        "plt.scatter(X[:,0],X[:,1],c=y,cmap=plt.cm.RdYlBu);"
      ],
      "execution_count": 5,
      "outputs": [
        {
          "output_type": "display_data",
          "data": {
            "image/png": "[encoded data removed]",
            "text/plain": [
              "<Figure size 432x288 with 1 Axes>"
            ]
          },
          "metadata": {
            "tags": [],
            "needs_background": "light"
          }
        }
      ]
    },
    {
      "cell_type": "markdown",
      "metadata": {
        "id": "1_UQTI_F4_vM"
      },
      "source": [
        "## Input and output shapes"
      ]
    },
    {
      "cell_type": "code",
      "metadata": {
        "id": "9vnMqrQNuw9o",
        "colab": {
          "base_uri": "https://localhost:8080/"
        },
        "outputId": "32457e3c-c311-4e96-acb9-c56d6b6e67f4"
      },
      "source": [
        "# Check the shapes of our features and labels\n",
        "X.shape, y.shape"
      ],
      "execution_count": 6,
      "outputs": [
        {
          "output_type": "execute_result",
          "data": {
            "text/plain": [
              "((1000, 2), (1000,))"
            ]
          },
          "metadata": {
            "tags": []
          },
          "execution_count": 6
        }
      ]
    },
    {
      "cell_type": "code",
      "metadata": {
        "colab": {
          "base_uri": "https://localhost:8080/"
        },
        "id": "I3350hj15GSA",
        "outputId": "799714f3-344c-41e2-d318-b954e543f4a7"
      },
      "source": [
        "# How manny samples we're working\n",
        "len(X),len(y)"
      ],
      "execution_count": 7,
      "outputs": [
        {
          "output_type": "execute_result",
          "data": {
            "text/plain": [
              "(1000, 1000)"
            ]
          },
          "metadata": {
            "tags": []
          },
          "execution_count": 7
        }
      ]
    },
    {
      "cell_type": "code",
      "metadata": {
        "colab": {
          "base_uri": "https://localhost:8080/"
        },
        "id": "clC2wSkT5Two",
        "outputId": "63d4df30-a75e-4ff4-9fb2-32247c7fcacd"
      },
      "source": [
        "# View the first example of features and labels\n",
        "X[4],y[4]"
      ],
      "execution_count": 8,
      "outputs": [
        {
          "output_type": "execute_result",
          "data": {
            "text/plain": [
              "(array([ 0.44220765, -0.89672343]), 0)"
            ]
          },
          "metadata": {
            "tags": []
          },
          "execution_count": 8
        }
      ]
    },
    {
      "cell_type": "markdown",
      "metadata": {
        "id": "Dxn427Y25n2O"
      },
      "source": [
        "## Steps in modeling\n",
        "\n",
        "The steps in modeling with TensorFlow are typically:\n",
        "1. Create or import a model\n",
        "2. Compile the model\n",
        "3. Fit the model\n",
        "4. Evaluate the model\n",
        "5. Tweak\n",
        "6. Evaluate..."
      ]
    },
    {
      "cell_type": "code",
      "metadata": {
        "colab": {
          "base_uri": "https://localhost:8080/",
          "height": 35
        },
        "id": "fvvOrY3ldaDW",
        "outputId": "94b62db9-c324-40f6-a84b-17460271bcb3"
      },
      "source": [
        "# import TensorFlow\n",
        "import tensorflow as tf\n",
        "tf.__version__"
      ],
      "execution_count": 9,
      "outputs": [
        {
          "output_type": "execute_result",
          "data": {
            "application/vnd.google.colaboratory.intrinsic+json": {
              "type": "string"
            },
            "text/plain": [
              "'2.4.1'"
            ]
          },
          "metadata": {
            "tags": []
          },
          "execution_count": 9
        }
      ]
    },
    {
      "cell_type": "code",
      "metadata": {
        "id": "h6FauNS45Z5z",
        "colab": {
          "base_uri": "https://localhost:8080/"
        },
        "outputId": "fa0cf38f-b487-4680-b6fd-bdc5ae250445"
      },
      "source": [
        "# Set the random seed\n",
        "tf.random.set_seed(42)\n",
        "\n",
        "# Create model\n",
        "model_1 = tf.keras.Sequential([\n",
        "   tf.keras.layers.Dense(1)\n",
        "])\n",
        "\n",
        "model_1.compile(loss=tf.keras.losses.BinaryCrossentropy(),\n",
        "                optimizer=tf.keras.optimizers.SGD(),\n",
        "                metrics=[\"accuracy\"])\n",
        "\n",
        "model_1.fit(X, y, epochs=5)"
      ],
      "execution_count": 10,
      "outputs": [
        {
          "output_type": "stream",
          "text": [
            "Epoch 1/5\n",
            "32/32 [==============================] - 3s 3ms/step - loss: 4.1198 - accuracy: 0.4378\n",
            "Epoch 2/5\n",
            "32/32 [==============================] - 0s 3ms/step - loss: 0.7207 - accuracy: 0.5530\n",
            "Epoch 3/5\n",
            "32/32 [==============================] - 0s 3ms/step - loss: 0.7033 - accuracy: 0.4836\n",
            "Epoch 4/5\n",
            "32/32 [==============================] - 0s 3ms/step - loss: 0.6925 - accuracy: 0.5180\n",
            "Epoch 5/5\n",
            "32/32 [==============================] - 0s 3ms/step - loss: 0.6937 - accuracy: 0.5157\n"
          ],
          "name": "stdout"
        },
        {
          "output_type": "execute_result",
          "data": {
            "text/plain": [
              "<tensorflow.python.keras.callbacks.History at 0x7fee40661790>"
            ]
          },
          "metadata": {
            "tags": []
          },
          "execution_count": 10
        }
      ]
    },
    {
      "cell_type": "code",
      "metadata": {
        "id": "eOW25SXaaKFa",
        "colab": {
          "base_uri": "https://localhost:8080/"
        },
        "outputId": "3d8c377b-e0c7-4952-fe57-1991ab0f129e"
      },
      "source": [
        "# Let's try and improve our model by trining for longer...\n",
        "model_1.fit(X,y,epochs=200,verbose=0)\n",
        "model_1.evaluate(X,y)"
      ],
      "execution_count": 11,
      "outputs": [
        {
          "output_type": "stream",
          "text": [
            "32/32 [==============================] - 0s 2ms/step - loss: 0.6935 - accuracy: 0.5000\n"
          ],
          "name": "stdout"
        },
        {
          "output_type": "execute_result",
          "data": {
            "text/plain": [
              "[0.6934829950332642, 0.5]"
            ]
          },
          "metadata": {
            "tags": []
          },
          "execution_count": 11
        }
      ]
    },
    {
      "cell_type": "markdown",
      "metadata": {
        "id": "lg4YuFdJDHXf"
      },
      "source": [
        "Since we're working on binary classification problem and our model is getting around ~50% accuracy... it's performing as if it's guessing.\n",
        "\n",
        "So let's step things up a notch and add an extra layer."
      ]
    },
    {
      "cell_type": "code",
      "metadata": {
        "colab": {
          "base_uri": "https://localhost:8080/"
        },
        "id": "x75OwVOTDY1v",
        "outputId": "5a947599-c896-4621-8d65-9d191e8adc76"
      },
      "source": [
        "# Set random seed\n",
        "tf.random.set_seed(42)\n",
        "\n",
        "# Create model\n",
        "model_2 = tf.keras.Sequential([\n",
        "   tf.keras.layers.Dense(1),\n",
        "   tf.keras.layers.Dense(1)\n",
        "])\n",
        "\n",
        "# Compile the model\n",
        "model_2.compile(loss=tf.keras.losses.BinaryCrossentropy(),\n",
        "                optimizer=tf.keras.optimizers.SGD(),\n",
        "                metrics=[\"accuracy\"])\n",
        "\n",
        "# Fit the model\n",
        "model_2.fit(X,y,epochs=100,verbose=0)"
      ],
      "execution_count": 12,
      "outputs": [
        {
          "output_type": "execute_result",
          "data": {
            "text/plain": [
              "<tensorflow.python.keras.callbacks.History at 0x7fee403f9ad0>"
            ]
          },
          "metadata": {
            "tags": []
          },
          "execution_count": 12
        }
      ]
    },
    {
      "cell_type": "code",
      "metadata": {
        "colab": {
          "base_uri": "https://localhost:8080/"
        },
        "id": "_FPevat2D6E7",
        "outputId": "504d7a5f-c216-4bfd-b6da-edf9e4510a8c"
      },
      "source": [
        "# Evaluate the model\n",
        "model_2.evaluate(X,y)"
      ],
      "execution_count": 13,
      "outputs": [
        {
          "output_type": "stream",
          "text": [
            "32/32 [==============================] - 0s 2ms/step - loss: 0.6933 - accuracy: 0.5000\n"
          ],
          "name": "stdout"
        },
        {
          "output_type": "execute_result",
          "data": {
            "text/plain": [
              "[0.6933314800262451, 0.5]"
            ]
          },
          "metadata": {
            "tags": []
          },
          "execution_count": 13
        }
      ]
    },
    {
      "cell_type": "markdown",
      "metadata": {
        "id": "XW_BLJ8wEXvb"
      },
      "source": [
        "## Improving our model\n",
        "\n",
        "Let's look into our bag of tricks to see how we can improve our model.\n",
        "\n",
        "1. Create a model - we might wanst to add more layers or increase the number of hidden units within a layer\n",
        "2. Compiling a model - here we might want to choose a different optimization function such as Adam instead of SGD\n",
        "3. Fitting a model - perhaps we might fit our model for more epochs (leave it training for longer)"
      ]
    },
    {
      "cell_type": "code",
      "metadata": {
        "id": "-Qga9heIEJIL",
        "colab": {
          "base_uri": "https://localhost:8080/"
        },
        "outputId": "1393120f-8e35-4b7b-acc0-4519888a9ee8"
      },
      "source": [
        "# Set random seed\n",
        "tf.random.set_seed(42)\n",
        "\n",
        "# Create a model (this time 3 layers)\n",
        "model_3 = tf.keras.Sequential([\n",
        "   tf.keras.layers.Dense(100), # add 100 dense neurons\n",
        "   tf.keras.layers.Dense(10), # add another layers with 10 neurons\n",
        "   tf.keras.layers.Dense(1)\n",
        "])\n",
        "\n",
        "# Compile model\n",
        "model_3.compile(loss=tf.keras.losses.BinaryCrossentropy(),\n",
        "                optimizer=tf.keras.optimizers.Adam(),\n",
        "                metrics=[\"accuracy\"])\n",
        "\n",
        "# Fit model\n",
        "model_3.fit(X,y,epochs=100,verbose=0)"
      ],
      "execution_count": 14,
      "outputs": [
        {
          "output_type": "execute_result",
          "data": {
            "text/plain": [
              "<tensorflow.python.keras.callbacks.History at 0x7fee402d6110>"
            ]
          },
          "metadata": {
            "tags": []
          },
          "execution_count": 14
        }
      ]
    },
    {
      "cell_type": "code",
      "metadata": {
        "colab": {
          "base_uri": "https://localhost:8080/"
        },
        "id": "CNl063osmXcu",
        "outputId": "c36fd8e3-843b-42c6-eedd-0a287bbb5d57"
      },
      "source": [
        "model_3.evaluate(X,y)"
      ],
      "execution_count": 15,
      "outputs": [
        {
          "output_type": "stream",
          "text": [
            "32/32 [==============================] - 0s 2ms/step - loss: 0.6980 - accuracy: 0.5090\n"
          ],
          "name": "stdout"
        },
        {
          "output_type": "execute_result",
          "data": {
            "text/plain": [
              "[0.6980189681053162, 0.5090000033378601]"
            ]
          },
          "metadata": {
            "tags": []
          },
          "execution_count": 15
        }
      ]
    },
    {
      "cell_type": "markdown",
      "metadata": {
        "id": "JnhBrqZg_RhX"
      },
      "source": [
        "To visualize our model's predictions, let's create a function `plot_decision_boundary()`, this function will:\n",
        "* Take in a trained model, features (X) and labels(y)\n",
        "* Create a meshgrid of the different X values\n",
        "* Make predictions across the meshgrid\n",
        "* Plot the predictions as well as a line between zones (where each unique class falls)"
      ]
    },
    {
      "cell_type": "code",
      "metadata": {
        "id": "BiktEMeQKJnL"
      },
      "source": [
        "import numpy as np"
      ],
      "execution_count": 16,
      "outputs": []
    },
    {
      "cell_type": "code",
      "metadata": {
        "id": "pQo6tAJz_RRz"
      },
      "source": [
        "def plot_decision_boundary(model,X,y):\n",
        "  \"\"\"\n",
        "  Plots the decision boundary created by a model predicting on X\n",
        "  \"\"\"\n",
        "  # Define the axis boundaries of the plot and create a meshgrid\n",
        "  x_min,x_max = X[:,0].min() - 0.1, X[:,0].max() + 0.1\n",
        "  y_min,y_max = X[:,1].min() - 0.1, X[:,1].max() + 0.1\n",
        "  xx, yy = np.meshgrid(np.linspace(x_min,x_max,100),\n",
        "                       np.linspace(y_min,y_max,100))\n",
        "\n",
        "  # Create X values (we're going to make predictions on these)\n",
        "  x_in = np.c_[xx.ravel(),yy.ravel()] # stack 2D array together\n",
        "\n",
        "  # Make predictions\n",
        "  y_pred = model.predict(x_in)\n",
        "\n",
        "  # Check for multi-class\n",
        "  if len(y_pred[0]) > 1:\n",
        "    print(\"doing multiclass classification\")\n",
        "    # We have to reshape our prediction to get them ready for plot\n",
        "    y_pred = np.argmax(y_pred,axis=1).reshape(xx.shape)\n",
        "  else:\n",
        "    print(\"doing binarry classification\")\n",
        "    y_pred = np.round(y_pred).reshape(xx.shape)\n",
        "\n",
        "  # Plot the decision boundary\n",
        "  plt.contourf(xx,yy,y_pred,cmap=plt.cm.RdYlBu,alpha=0.7)\n",
        "  plt.scatter(X[:,0],X[:,1],c=y,s=40,cmap=plt.cm.RdYlBu)\n",
        "  plt.xlim(xx.min(),xx.max())\n",
        "  plt.ylim(yy.min(),yy.max())"
      ],
      "execution_count": 17,
      "outputs": []
    },
    {
      "cell_type": "code",
      "metadata": {
        "colab": {
          "base_uri": "https://localhost:8080/",
          "height": 282
        },
        "id": "0f8q6_oo_C_d",
        "outputId": "aa9b5e0b-1275-4d9d-8bc7-fe873eb891f8"
      },
      "source": [
        "# Check out the predictions our model is making\n",
        "plot_decision_boundary(model=model_3,X=X,y=y)"
      ],
      "execution_count": 18,
      "outputs": [
        {
          "output_type": "stream",
          "text": [
            "doing binarry classification\n"
          ],
          "name": "stdout"
        },
        {
          "output_type": "display_data",
          "data": {
            "image/png": "[encoded data removed]",
            "text/plain": [
              "<Figure size 432x288 with 1 Axes>"
            ]
          },
          "metadata": {
            "tags": [],
            "needs_background": "light"
          }
        }
      ]
    },
    {
      "cell_type": "code",
      "metadata": {
        "colab": {
          "base_uri": "https://localhost:8080/",
          "height": 239
        },
        "id": "r1l0yowCKX54",
        "outputId": "f94b2dfb-5ce6-4945-fa0b-8576ee502928"
      },
      "source": [
        "# Let's see if our model can be used for a regression problem...\n",
        "\n",
        "tf.random.set_seed(42)\n",
        "\n",
        "# Create some regression data \n",
        "X_regression = tf.range(0,1000,5)\n",
        "y_regression = tf.range(100,1100,5) # y = X + 100\n",
        "\n",
        "# Split our regression data into training and test sets\n",
        "X_reg_train = X_regression[:150]\n",
        "X_reg_test = X_regression[150:]\n",
        "y_reg_train = y_regression[:150]\n",
        "y_reg_test = y_regression[150:]\n",
        "\n",
        "\"\"\" Error\n",
        "# For out model to regression data\n",
        "model_3.fit(X_reg_train,y_reg_train,epochs=100)\n",
        "\"\"\"\n",
        "\"\"\"\n",
        "Epoch 1/100\n",
        "---------------------------------------------------------------------------\n",
        "ValueError                                Traceback (most recent call last)\n",
        "<ipython-input-19-7c72813a08b7> in <module>()\n",
        "     14 \n",
        "     15 # Fot out model to regression data\n",
        "---> 16 model_3.fit(X_reg_train,y_reg_train,epochs=100)\n",
        "\n",
        "9 frames\n",
        "/usr/local/lib/python3.7/dist-packages/tensorflow/python/framework/func_graph.py in wrapper(*args, **kwargs)\n",
        "    975           except Exception as e:  # pylint:disable=broad-except\n",
        "    976             if hasattr(e, \"ag_error_metadata\"):\n",
        "--> 977               raise e.ag_error_metadata.to_exception(e)\n",
        "    978             else:\n",
        "    979               raise\n",
        "\n",
        "ValueError: in user code:\n",
        "\n",
        "    /usr/local/lib/python3.7/dist-packages/tensorflow/python/keras/engine/training.py:805 train_function  *\n",
        "        return step_function(self, iterator)\n",
        "    /usr/local/lib/python3.7/dist-packages/tensorflow/python/keras/engine/training.py:795 step_function  **\n",
        "        outputs = model.distribute_strategy.run(run_step, args=(data,))\n",
        "    /usr/local/lib/python3.7/dist-packages/tensorflow/python/distribute/distribute_lib.py:1259 run\n",
        "        return self._extended.call_for_each_replica(fn, args=args, kwargs=kwargs)\n",
        "    /usr/local/lib/python3.7/dist-packages/tensorflow/python/distribute/distribute_lib.py:2730 call_for_each_replica\n",
        "        return self._call_for_each_replica(fn, args, kwargs)\n",
        "    /usr/local/lib/python3.7/dist-packages/tensorflow/python/distribute/distribute_lib.py:3417 _call_for_each_replica\n",
        "        return fn(*args, **kwargs)\n",
        "    /usr/local/lib/python3.7/dist-packages/tensorflow/python/keras/engine/training.py:788 run_step  **\n",
        "        outputs = model.train_step(data)\n",
        "    /usr/local/lib/python3.7/dist-packages/tensorflow/python/keras/engine/training.py:754 train_step\n",
        "        y_pred = self(x, training=True)\n",
        "    /usr/local/lib/python3.7/dist-packages/tensorflow/python/keras/engine/base_layer.py:998 __call__\n",
        "        input_spec.assert_input_compatibility(self.input_spec, inputs, self.name)\n",
        "    /usr/local/lib/python3.7/dist-packages/tensorflow/python/keras/engine/input_spec.py:259 assert_input_compatibility\n",
        "        ' but received input with shape ' + display_shape(x.shape))\n",
        "\n",
        "    ValueError: Input 0 of layer sequential_2 is incompatible with the layer: expected axis -1 of input shape to have value 2 but received input with shape (None, 1)\n",
        "\"\"\"\n"
      ],
      "execution_count": 19,
      "outputs": [
        {
          "output_type": "execute_result",
          "data": {
            "application/vnd.google.colaboratory.intrinsic+json": {
              "type": "string"
            },
            "text/plain": [
              "'\\nEpoch 1/100\\n---------------------------------------------------------------------------\\nValueError                                Traceback (most recent call last)\\n<ipython-input-19-7c72813a08b7> in <module>()\\n     14 \\n     15 # Fot out model to regression data\\n---> 16 model_3.fit(X_reg_train,y_reg_train,epochs=100)\\n\\n9 frames\\n/usr/local/lib/python3.7/dist-packages/tensorflow/python/framework/func_graph.py in wrapper(*args, **kwargs)\\n    975           except Exception as e:  # pylint:disable=broad-except\\n    976             if hasattr(e, \"ag_error_metadata\"):\\n--> 977               raise e.ag_error_metadata.to_exception(e)\\n    978             else:\\n    979               raise\\n\\nValueError: in user code:\\n\\n    /usr/local/lib/python3.7/dist-packages/tensorflow/python/keras/engine/training.py:805 train_function  *\\n        return step_function(self, iterator)\\n    /usr/local/lib/python3.7/dist-packages/tensorflow/python/keras/engine/training.py:795 step_function  **\\n        outputs = model.distribute_strategy.run(run_step, args=(data,))\\n    /usr/local/lib/python3.7/dist-packages/tensorflow/python/distribute/distribute_lib.py:1259 run\\n        return self._extended.call_for_each_replica(fn, args=args, kwargs=kwargs)\\n    /usr/local/lib/python3.7/dist-packages/tensorflow/python/distribute/distribute_lib.py:2730 call_for_each_replica\\n        return self._call_for_each_replica(fn, args, kwargs)\\n    /usr/local/lib/python3.7/dist-packages/tensorflow/python/distribute/distribute_lib.py:3417 _call_for_each_replica\\n        return fn(*args, **kwargs)\\n    /usr/local/lib/python3.7/dist-packages/tensorflow/python/keras/engine/training.py:788 run_step  **\\n        outputs = model.train_step(data)\\n    /usr/local/lib/python3.7/dist-packages/tensorflow/python/keras/engine/training.py:754 train_step\\n        y_pred = self(x, training=True)\\n    /usr/local/lib/python3.7/dist-packages/tensorflow/python/keras/engine/base_layer.py:998 __call__\\n        input_spec.assert_input_compatibility(self.input_spec, inputs, self.name)\\n    /usr/local/lib/python3.7/dist-packages/tensorflow/python/keras/engine/input_spec.py:259 assert_input_compatibility\\n        \\' but received input with shape \\' + display_shape(x.shape))\\n\\n    ValueError: Input 0 of layer sequential_2 is incompatible with the layer: expected axis -1 of input shape to have value 2 but received input with shape (None, 1)\\n'"
            ]
          },
          "metadata": {
            "tags": []
          },
          "execution_count": 19
        }
      ]
    },
    {
      "cell_type": "markdown",
      "metadata": {
        "id": "ZLRQfzKdVXic"
      },
      "source": [
        "Ohh wait... we compiled our model for a binary classigication problem.\n",
        "\n",
        "But... we're now working on a regression problem, let's change the model to suit our data."
      ]
    },
    {
      "cell_type": "code",
      "metadata": {
        "id": "mnrJMxO4nO7u",
        "colab": {
          "base_uri": "https://localhost:8080/"
        },
        "outputId": "7eab385f-10ee-464c-c6cb-3847371b56c1"
      },
      "source": [
        "# Setup random seed\n",
        "tf.random.set_seed(42)\n",
        "\n",
        "# Create model\n",
        "model_3 = tf.keras.Sequential([\n",
        "   tf.keras.layers.Dense(100),\n",
        "   tf.keras.layers.Dense(10),\n",
        "   tf.keras.layers.Dense(1),\n",
        "])\n",
        "\n",
        "# Compile the model, this time with regression-specific loss function\n",
        "model_3.compile(loss=\"mae\",\n",
        "                optimizer=tf.keras.optimizers.Adam(),\n",
        "                metrics=[\"mae\"])\n",
        "\n",
        "# Fit the model\n",
        "model_3.fit(X_reg_train,y_reg_train,epochs=100)"
      ],
      "execution_count": 20,
      "outputs": [
        {
          "output_type": "stream",
          "text": [
            "Epoch 1/100\n",
            "5/5 [==============================] - 0s 5ms/step - loss: 269.0466 - mae: 269.0466\n",
            "Epoch 2/100\n",
            "5/5 [==============================] - 0s 3ms/step - loss: 154.3798 - mae: 154.3798\n",
            "Epoch 3/100\n",
            "5/5 [==============================] - 0s 4ms/step - loss: 57.2721 - mae: 57.2721\n",
            "Epoch 4/100\n",
            "5/5 [==============================] - 0s 4ms/step - loss: 72.9355 - mae: 72.9355\n",
            "Epoch 5/100\n",
            "5/5 [==============================] - 0s 4ms/step - loss: 74.6527 - mae: 74.6527\n",
            "Epoch 6/100\n",
            "5/5 [==============================] - 0s 3ms/step - loss: 51.1582 - mae: 51.1582\n",
            "Epoch 7/100\n",
            "5/5 [==============================] - 0s 4ms/step - loss: 46.7816 - mae: 46.7816\n",
            "Epoch 8/100\n",
            "5/5 [==============================] - 0s 3ms/step - loss: 45.3196 - mae: 45.3196\n",
            "Epoch 9/100\n",
            "5/5 [==============================] - 0s 6ms/step - loss: 43.2771 - mae: 43.2771\n",
            "Epoch 10/100\n",
            "5/5 [==============================] - 0s 4ms/step - loss: 42.0550 - mae: 42.0550\n",
            "Epoch 11/100\n",
            "5/5 [==============================] - 0s 5ms/step - loss: 39.9394 - mae: 39.9394\n",
            "Epoch 12/100\n",
            "5/5 [==============================] - 0s 4ms/step - loss: 41.6955 - mae: 41.6955\n",
            "Epoch 13/100\n",
            "5/5 [==============================] - 0s 4ms/step - loss: 42.1800 - mae: 42.1800\n",
            "Epoch 14/100\n",
            "5/5 [==============================] - 0s 4ms/step - loss: 41.4393 - mae: 41.4393\n",
            "Epoch 15/100\n",
            "5/5 [==============================] - 0s 3ms/step - loss: 42.4728 - mae: 42.4728\n",
            "Epoch 16/100\n",
            "5/5 [==============================] - 0s 4ms/step - loss: 41.7135 - mae: 41.7135\n",
            "Epoch 17/100\n",
            "5/5 [==============================] - 0s 3ms/step - loss: 40.7106 - mae: 40.7106\n",
            "Epoch 18/100\n",
            "5/5 [==============================] - 0s 4ms/step - loss: 43.6027 - mae: 43.6027\n",
            "Epoch 19/100\n",
            "5/5 [==============================] - 0s 3ms/step - loss: 40.5440 - mae: 40.5440\n",
            "Epoch 20/100\n",
            "5/5 [==============================] - 0s 3ms/step - loss: 42.1087 - mae: 42.1087\n",
            "Epoch 21/100\n",
            "5/5 [==============================] - 0s 3ms/step - loss: 41.2669 - mae: 41.2669\n",
            "Epoch 22/100\n",
            "5/5 [==============================] - 0s 4ms/step - loss: 39.9910 - mae: 39.9910\n",
            "Epoch 23/100\n",
            "5/5 [==============================] - 0s 3ms/step - loss: 39.1482 - mae: 39.1482\n",
            "Epoch 24/100\n",
            "5/5 [==============================] - 0s 4ms/step - loss: 44.1353 - mae: 44.1353\n",
            "Epoch 25/100\n",
            "5/5 [==============================] - 0s 4ms/step - loss: 40.6493 - mae: 40.6493\n",
            "Epoch 26/100\n",
            "5/5 [==============================] - 0s 4ms/step - loss: 40.4867 - mae: 40.4867\n",
            "Epoch 27/100\n",
            "5/5 [==============================] - 0s 3ms/step - loss: 42.0373 - mae: 42.0373\n",
            "Epoch 28/100\n",
            "5/5 [==============================] - 0s 3ms/step - loss: 43.2194 - mae: 43.2194\n",
            "Epoch 29/100\n",
            "5/5 [==============================] - 0s 3ms/step - loss: 41.7249 - mae: 41.7249\n",
            "Epoch 30/100\n",
            "5/5 [==============================] - 0s 3ms/step - loss: 40.0897 - mae: 40.0897\n",
            "Epoch 31/100\n",
            "5/5 [==============================] - 0s 5ms/step - loss: 41.4484 - mae: 41.4484\n",
            "Epoch 32/100\n",
            "5/5 [==============================] - 0s 5ms/step - loss: 39.4715 - mae: 39.4715\n",
            "Epoch 33/100\n",
            "5/5 [==============================] - 0s 4ms/step - loss: 40.5188 - mae: 40.5188\n",
            "Epoch 34/100\n",
            "5/5 [==============================] - 0s 3ms/step - loss: 39.9168 - mae: 39.9168\n",
            "Epoch 35/100\n",
            "5/5 [==============================] - 0s 4ms/step - loss: 39.9521 - mae: 39.9521\n",
            "Epoch 36/100\n",
            "5/5 [==============================] - 0s 4ms/step - loss: 42.2823 - mae: 42.2823\n",
            "Epoch 37/100\n",
            "5/5 [==============================] - 0s 4ms/step - loss: 39.9556 - mae: 39.9556\n",
            "Epoch 38/100\n",
            "5/5 [==============================] - 0s 3ms/step - loss: 39.5121 - mae: 39.5121\n",
            "Epoch 39/100\n",
            "5/5 [==============================] - 0s 4ms/step - loss: 42.5137 - mae: 42.5137\n",
            "Epoch 40/100\n",
            "5/5 [==============================] - 0s 4ms/step - loss: 39.9604 - mae: 39.9604\n",
            "Epoch 41/100\n",
            "5/5 [==============================] - 0s 4ms/step - loss: 40.2154 - mae: 40.2154\n",
            "Epoch 42/100\n",
            "5/5 [==============================] - 0s 4ms/step - loss: 38.8588 - mae: 38.8588\n",
            "Epoch 43/100\n",
            "5/5 [==============================] - 0s 4ms/step - loss: 41.1991 - mae: 41.1991\n",
            "Epoch 44/100\n",
            "5/5 [==============================] - 0s 4ms/step - loss: 38.0775 - mae: 38.0775\n",
            "Epoch 45/100\n",
            "5/5 [==============================] - 0s 4ms/step - loss: 40.5287 - mae: 40.5287\n",
            "Epoch 46/100\n",
            "5/5 [==============================] - 0s 4ms/step - loss: 41.5054 - mae: 41.5054\n",
            "Epoch 47/100\n",
            "5/5 [==============================] - 0s 4ms/step - loss: 40.7146 - mae: 40.7146\n",
            "Epoch 48/100\n",
            "5/5 [==============================] - 0s 3ms/step - loss: 38.3176 - mae: 38.3176\n",
            "Epoch 49/100\n",
            "5/5 [==============================] - 0s 3ms/step - loss: 39.9691 - mae: 39.9691\n",
            "Epoch 50/100\n",
            "5/5 [==============================] - 0s 3ms/step - loss: 39.5923 - mae: 39.5923\n",
            "Epoch 51/100\n",
            "5/5 [==============================] - 0s 4ms/step - loss: 40.0317 - mae: 40.0317\n",
            "Epoch 52/100\n",
            "5/5 [==============================] - 0s 4ms/step - loss: 41.3639 - mae: 41.3639\n",
            "Epoch 53/100\n",
            "5/5 [==============================] - 0s 4ms/step - loss: 40.5083 - mae: 40.5083\n",
            "Epoch 54/100\n",
            "5/5 [==============================] - 0s 3ms/step - loss: 41.0807 - mae: 41.0807\n",
            "Epoch 55/100\n",
            "5/5 [==============================] - 0s 4ms/step - loss: 41.2553 - mae: 41.2553\n",
            "Epoch 56/100\n",
            "5/5 [==============================] - 0s 4ms/step - loss: 38.2433 - mae: 38.2433\n",
            "Epoch 57/100\n",
            "5/5 [==============================] - 0s 4ms/step - loss: 43.5525 - mae: 43.5525\n",
            "Epoch 58/100\n",
            "5/5 [==============================] - 0s 4ms/step - loss: 41.1361 - mae: 41.1361\n",
            "Epoch 59/100\n",
            "5/5 [==============================] - 0s 4ms/step - loss: 40.6829 - mae: 40.6829\n",
            "Epoch 60/100\n",
            "5/5 [==============================] - 0s 4ms/step - loss: 38.7775 - mae: 38.7775\n",
            "Epoch 61/100\n",
            "5/5 [==============================] - 0s 4ms/step - loss: 40.9639 - mae: 40.9639\n",
            "Epoch 62/100\n",
            "5/5 [==============================] - 0s 4ms/step - loss: 42.0906 - mae: 42.0906\n",
            "Epoch 63/100\n",
            "5/5 [==============================] - 0s 4ms/step - loss: 39.3585 - mae: 39.3585\n",
            "Epoch 64/100\n",
            "5/5 [==============================] - 0s 4ms/step - loss: 40.3801 - mae: 40.3801\n",
            "Epoch 65/100\n",
            "5/5 [==============================] - 0s 4ms/step - loss: 37.2415 - mae: 37.2415\n",
            "Epoch 66/100\n",
            "5/5 [==============================] - 0s 3ms/step - loss: 40.0692 - mae: 40.0692\n",
            "Epoch 67/100\n",
            "5/5 [==============================] - 0s 3ms/step - loss: 39.7630 - mae: 39.7630\n",
            "Epoch 68/100\n",
            "5/5 [==============================] - 0s 4ms/step - loss: 39.5541 - mae: 39.5541\n",
            "Epoch 69/100\n",
            "5/5 [==============================] - 0s 3ms/step - loss: 41.4414 - mae: 41.4414\n",
            "Epoch 70/100\n",
            "5/5 [==============================] - 0s 3ms/step - loss: 37.9357 - mae: 37.9357\n",
            "Epoch 71/100\n",
            "5/5 [==============================] - 0s 3ms/step - loss: 41.7473 - mae: 41.7473\n",
            "Epoch 72/100\n",
            "5/5 [==============================] - 0s 3ms/step - loss: 39.1518 - mae: 39.1518\n",
            "Epoch 73/100\n",
            "5/5 [==============================] - 0s 4ms/step - loss: 40.6932 - mae: 40.6932\n",
            "Epoch 74/100\n",
            "5/5 [==============================] - 0s 3ms/step - loss: 38.5686 - mae: 38.5686\n",
            "Epoch 75/100\n",
            "5/5 [==============================] - 0s 3ms/step - loss: 41.0570 - mae: 41.0570\n",
            "Epoch 76/100\n",
            "5/5 [==============================] - 0s 5ms/step - loss: 39.0934 - mae: 39.0934\n",
            "Epoch 77/100\n",
            "5/5 [==============================] - 0s 3ms/step - loss: 38.3090 - mae: 38.3090\n",
            "Epoch 78/100\n",
            "5/5 [==============================] - 0s 3ms/step - loss: 40.0078 - mae: 40.0078\n",
            "Epoch 79/100\n",
            "5/5 [==============================] - 0s 4ms/step - loss: 39.0375 - mae: 39.0375\n",
            "Epoch 80/100\n",
            "5/5 [==============================] - 0s 4ms/step - loss: 37.3585 - mae: 37.3585\n",
            "Epoch 81/100\n",
            "5/5 [==============================] - 0s 3ms/step - loss: 40.1321 - mae: 40.1321\n",
            "Epoch 82/100\n",
            "5/5 [==============================] - 0s 3ms/step - loss: 40.2877 - mae: 40.2877\n",
            "Epoch 83/100\n",
            "5/5 [==============================] - 0s 3ms/step - loss: 39.3349 - mae: 39.3349\n",
            "Epoch 84/100\n",
            "5/5 [==============================] - 0s 4ms/step - loss: 39.7599 - mae: 39.7599\n",
            "Epoch 85/100\n",
            "5/5 [==============================] - 0s 4ms/step - loss: 38.1224 - mae: 38.1224\n",
            "Epoch 86/100\n",
            "5/5 [==============================] - 0s 5ms/step - loss: 37.7459 - mae: 37.7459\n",
            "Epoch 87/100\n",
            "5/5 [==============================] - 0s 4ms/step - loss: 41.0117 - mae: 41.0117\n",
            "Epoch 88/100\n",
            "5/5 [==============================] - 0s 4ms/step - loss: 37.8339 - mae: 37.8339\n",
            "Epoch 89/100\n",
            "5/5 [==============================] - 0s 4ms/step - loss: 37.2122 - mae: 37.2122\n",
            "Epoch 90/100\n",
            "5/5 [==============================] - 0s 3ms/step - loss: 39.7536 - mae: 39.7536\n",
            "Epoch 91/100\n",
            "5/5 [==============================] - 0s 5ms/step - loss: 38.6632 - mae: 38.6632\n",
            "Epoch 92/100\n",
            "5/5 [==============================] - 0s 5ms/step - loss: 40.5118 - mae: 40.5118\n",
            "Epoch 93/100\n",
            "5/5 [==============================] - 0s 5ms/step - loss: 38.7184 - mae: 38.7184\n",
            "Epoch 94/100\n",
            "5/5 [==============================] - 0s 6ms/step - loss: 38.5355 - mae: 38.5355\n",
            "Epoch 95/100\n",
            "5/5 [==============================] - 0s 4ms/step - loss: 37.0842 - mae: 37.0842\n",
            "Epoch 96/100\n",
            "5/5 [==============================] - 0s 4ms/step - loss: 37.9159 - mae: 37.9159\n",
            "Epoch 97/100\n",
            "5/5 [==============================] - 0s 4ms/step - loss: 36.5175 - mae: 36.5175\n",
            "Epoch 98/100\n",
            "5/5 [==============================] - 0s 5ms/step - loss: 39.6302 - mae: 39.6302\n",
            "Epoch 99/100\n",
            "5/5 [==============================] - 0s 4ms/step - loss: 40.2554 - mae: 40.2554\n",
            "Epoch 100/100\n",
            "5/5 [==============================] - 0s 4ms/step - loss: 39.3047 - mae: 39.3047\n"
          ],
          "name": "stdout"
        },
        {
          "output_type": "execute_result",
          "data": {
            "text/plain": [
              "<tensorflow.python.keras.callbacks.History at 0x7fee404e6690>"
            ]
          },
          "metadata": {
            "tags": []
          },
          "execution_count": 20
        }
      ]
    },
    {
      "cell_type": "code",
      "metadata": {
        "colab": {
          "base_uri": "https://localhost:8080/",
          "height": 428
        },
        "id": "N7Jzx3pPWrU1",
        "outputId": "a6d751c2-8b52-40f1-e22a-ac68df9892b1"
      },
      "source": [
        "# Make predicitons with our trained model\n",
        "y_reg_preds = model_3.predict(X_reg_test)\n",
        "\n",
        "# Plot the model's predictions against our regression data\n",
        "plt.figure(figsize=(10,7))\n",
        "plt.scatter(X_reg_train,y_reg_train,c=\"b\",label=\"Training data\")\n",
        "plt.scatter(X_reg_test,y_reg_test,c=\"g\",label=\"Test data\")\n",
        "plt.scatter(X_reg_test,y_reg_preds,c=\"r\",label=\"Predictions\")\n",
        "plt.legend();"
      ],
      "execution_count": 21,
      "outputs": [
        {
          "output_type": "display_data",
          "data": {
            "image/png": "[encoded data removed]",
            "text/plain": [
              "<Figure size 720x504 with 1 Axes>"
            ]
          },
          "metadata": {
            "tags": [],
            "needs_background": "light"
          }
        }
      ]
    },
    {
      "cell_type": "markdown",
      "metadata": {
        "id": "mDfqYRXZaHHg"
      },
      "source": [
        "## The missing piece: Non-linearity"
      ]
    },
    {
      "cell_type": "code",
      "metadata": {
        "colab": {
          "base_uri": "https://localhost:8080/"
        },
        "id": "ZSKQKb2ZZc3l",
        "outputId": "a36f7455-8977-434b-c689-604db4048c97"
      },
      "source": [
        "# Set random seed\n",
        "tf.random.set_seed(42)\n",
        "\n",
        "# Create the model\n",
        "model_4 = tf.keras.Sequential([\n",
        "    tf.keras.layers.Dense(1,activation=\"linear\")\n",
        "])\n",
        "\n",
        "# Compile the model\n",
        "model_4.compile(loss=\"binary_crossentropy\",\n",
        "                optimizer=tf.keras.optimizers.Adam(lr=0.001),\n",
        "                metrics=[\"accuracy\"])\n",
        "\n",
        "# Fit the model\n",
        "history = model_4.fit(X,y,epochs=100)"
      ],
      "execution_count": 22,
      "outputs": [
        {
          "output_type": "stream",
          "text": [
            "Epoch 1/100\n",
            "32/32 [==============================] - 1s 3ms/step - loss: 4.6225 - accuracy: 0.4548\n",
            "Epoch 2/100\n",
            "32/32 [==============================] - 0s 3ms/step - loss: 4.3079 - accuracy: 0.4220\n",
            "Epoch 3/100\n",
            "32/32 [==============================] - 0s 3ms/step - loss: 4.5266 - accuracy: 0.4276\n",
            "Epoch 4/100\n",
            "32/32 [==============================] - 0s 3ms/step - loss: 4.0583 - accuracy: 0.4295\n",
            "Epoch 5/100\n",
            "32/32 [==============================] - 0s 3ms/step - loss: 4.2318 - accuracy: 0.4045\n",
            "Epoch 6/100\n",
            "32/32 [==============================] - 0s 3ms/step - loss: 3.7717 - accuracy: 0.4447\n",
            "Epoch 7/100\n",
            "32/32 [==============================] - 0s 3ms/step - loss: 3.9152 - accuracy: 0.4201\n",
            "Epoch 8/100\n",
            "32/32 [==============================] - 0s 3ms/step - loss: 3.5773 - accuracy: 0.4180\n",
            "Epoch 9/100\n",
            "32/32 [==============================] - 0s 3ms/step - loss: 3.9012 - accuracy: 0.3986\n",
            "Epoch 10/100\n",
            "32/32 [==============================] - 0s 3ms/step - loss: 3.5076 - accuracy: 0.4451\n",
            "Epoch 11/100\n",
            "32/32 [==============================] - 0s 3ms/step - loss: 3.4968 - accuracy: 0.4289\n",
            "Epoch 12/100\n",
            "32/32 [==============================] - 0s 3ms/step - loss: 3.5286 - accuracy: 0.4288\n",
            "Epoch 13/100\n",
            "32/32 [==============================] - 0s 3ms/step - loss: 3.4337 - accuracy: 0.4506\n",
            "Epoch 14/100\n",
            "32/32 [==============================] - 0s 3ms/step - loss: 3.7664 - accuracy: 0.4203\n",
            "Epoch 15/100\n",
            "32/32 [==============================] - 0s 3ms/step - loss: 3.4700 - accuracy: 0.4277\n",
            "Epoch 16/100\n",
            "32/32 [==============================] - 0s 3ms/step - loss: 3.7509 - accuracy: 0.4232\n",
            "Epoch 17/100\n",
            "32/32 [==============================] - 0s 3ms/step - loss: 3.6044 - accuracy: 0.4219\n",
            "Epoch 18/100\n",
            "32/32 [==============================] - 0s 3ms/step - loss: 3.5001 - accuracy: 0.4359\n",
            "Epoch 19/100\n",
            "32/32 [==============================] - 0s 3ms/step - loss: 3.7194 - accuracy: 0.4338\n",
            "Epoch 20/100\n",
            "32/32 [==============================] - 0s 3ms/step - loss: 3.3191 - accuracy: 0.4729\n",
            "Epoch 21/100\n",
            "32/32 [==============================] - 0s 3ms/step - loss: 3.6269 - accuracy: 0.4393\n",
            "Epoch 22/100\n",
            "32/32 [==============================] - 0s 3ms/step - loss: 3.1774 - accuracy: 0.4711\n",
            "Epoch 23/100\n",
            "32/32 [==============================] - 0s 3ms/step - loss: 3.1919 - accuracy: 0.4353\n",
            "Epoch 24/100\n",
            "32/32 [==============================] - 0s 3ms/step - loss: 3.6255 - accuracy: 0.4510\n",
            "Epoch 25/100\n",
            "32/32 [==============================] - 0s 3ms/step - loss: 3.1884 - accuracy: 0.4532\n",
            "Epoch 26/100\n",
            "32/32 [==============================] - 0s 3ms/step - loss: 3.2194 - accuracy: 0.4687\n",
            "Epoch 27/100\n",
            "32/32 [==============================] - 0s 3ms/step - loss: 3.0865 - accuracy: 0.4493\n",
            "Epoch 28/100\n",
            "32/32 [==============================] - 0s 3ms/step - loss: 2.9498 - accuracy: 0.4491\n",
            "Epoch 29/100\n",
            "32/32 [==============================] - 0s 3ms/step - loss: 2.6233 - accuracy: 0.4571\n",
            "Epoch 30/100\n",
            "32/32 [==============================] - 0s 3ms/step - loss: 2.5004 - accuracy: 0.4641\n",
            "Epoch 31/100\n",
            "32/32 [==============================] - 0s 3ms/step - loss: 2.8838 - accuracy: 0.4527\n",
            "Epoch 32/100\n",
            "32/32 [==============================] - 0s 3ms/step - loss: 2.5738 - accuracy: 0.4631\n",
            "Epoch 33/100\n",
            "32/32 [==============================] - 0s 3ms/step - loss: 2.6279 - accuracy: 0.4463\n",
            "Epoch 34/100\n",
            "32/32 [==============================] - 0s 3ms/step - loss: 2.4827 - accuracy: 0.4473\n",
            "Epoch 35/100\n",
            "32/32 [==============================] - 0s 3ms/step - loss: 2.4500 - accuracy: 0.4683\n",
            "Epoch 36/100\n",
            "32/32 [==============================] - 0s 3ms/step - loss: 2.0745 - accuracy: 0.4684\n",
            "Epoch 37/100\n",
            "32/32 [==============================] - 0s 3ms/step - loss: 1.9288 - accuracy: 0.4551\n",
            "Epoch 38/100\n",
            "32/32 [==============================] - 0s 3ms/step - loss: 1.8432 - accuracy: 0.4537\n",
            "Epoch 39/100\n",
            "32/32 [==============================] - 0s 3ms/step - loss: 1.6644 - accuracy: 0.4642\n",
            "Epoch 40/100\n",
            "32/32 [==============================] - 0s 3ms/step - loss: 1.2011 - accuracy: 0.4832\n",
            "Epoch 41/100\n",
            "32/32 [==============================] - 0s 3ms/step - loss: 1.0697 - accuracy: 0.4219\n",
            "Epoch 42/100\n",
            "32/32 [==============================] - 0s 3ms/step - loss: 1.0168 - accuracy: 0.4567\n",
            "Epoch 43/100\n",
            "32/32 [==============================] - 0s 3ms/step - loss: 0.9464 - accuracy: 0.4823\n",
            "Epoch 44/100\n",
            "32/32 [==============================] - 0s 3ms/step - loss: 0.9092 - accuracy: 0.4785\n",
            "Epoch 45/100\n",
            "32/32 [==============================] - 0s 3ms/step - loss: 0.9392 - accuracy: 0.4704\n",
            "Epoch 46/100\n",
            "32/32 [==============================] - 0s 3ms/step - loss: 0.9164 - accuracy: 0.4874\n",
            "Epoch 47/100\n",
            "32/32 [==============================] - 0s 3ms/step - loss: 0.9697 - accuracy: 0.4471\n",
            "Epoch 48/100\n",
            "32/32 [==============================] - 0s 3ms/step - loss: 0.9227 - accuracy: 0.4784\n",
            "Epoch 49/100\n",
            "32/32 [==============================] - 0s 3ms/step - loss: 0.9257 - accuracy: 0.4629\n",
            "Epoch 50/100\n",
            "32/32 [==============================] - 0s 3ms/step - loss: 0.9337 - accuracy: 0.4619\n",
            "Epoch 51/100\n",
            "32/32 [==============================] - 0s 3ms/step - loss: 0.8876 - accuracy: 0.4661\n",
            "Epoch 52/100\n",
            "32/32 [==============================] - 0s 3ms/step - loss: 0.9054 - accuracy: 0.4576\n",
            "Epoch 53/100\n",
            "32/32 [==============================] - 0s 3ms/step - loss: 0.8766 - accuracy: 0.4849\n",
            "Epoch 54/100\n",
            "32/32 [==============================] - 0s 3ms/step - loss: 0.8782 - accuracy: 0.4719\n",
            "Epoch 55/100\n",
            "32/32 [==============================] - 0s 3ms/step - loss: 0.8855 - accuracy: 0.4735\n",
            "Epoch 56/100\n",
            "32/32 [==============================] - 0s 3ms/step - loss: 0.8843 - accuracy: 0.4526\n",
            "Epoch 57/100\n",
            "32/32 [==============================] - 0s 3ms/step - loss: 0.8465 - accuracy: 0.4792\n",
            "Epoch 58/100\n",
            "32/32 [==============================] - 0s 3ms/step - loss: 0.8860 - accuracy: 0.4527\n",
            "Epoch 59/100\n",
            "32/32 [==============================] - 0s 3ms/step - loss: 0.9205 - accuracy: 0.4408\n",
            "Epoch 60/100\n",
            "32/32 [==============================] - 0s 3ms/step - loss: 0.8758 - accuracy: 0.4569\n",
            "Epoch 61/100\n",
            "32/32 [==============================] - 0s 3ms/step - loss: 0.8698 - accuracy: 0.4618\n",
            "Epoch 62/100\n",
            "32/32 [==============================] - 0s 3ms/step - loss: 0.8783 - accuracy: 0.4598\n",
            "Epoch 63/100\n",
            "32/32 [==============================] - 0s 3ms/step - loss: 0.8621 - accuracy: 0.4414\n",
            "Epoch 64/100\n",
            "32/32 [==============================] - 0s 3ms/step - loss: 0.8420 - accuracy: 0.4849\n",
            "Epoch 65/100\n",
            "32/32 [==============================] - 0s 3ms/step - loss: 0.8468 - accuracy: 0.4555\n",
            "Epoch 66/100\n",
            "32/32 [==============================] - 0s 3ms/step - loss: 0.8687 - accuracy: 0.4357\n",
            "Epoch 67/100\n",
            "32/32 [==============================] - 0s 3ms/step - loss: 0.8491 - accuracy: 0.4592\n",
            "Epoch 68/100\n",
            "32/32 [==============================] - 0s 3ms/step - loss: 0.8551 - accuracy: 0.4642\n",
            "Epoch 69/100\n",
            "32/32 [==============================] - 0s 3ms/step - loss: 0.8493 - accuracy: 0.4537\n",
            "Epoch 70/100\n",
            "32/32 [==============================] - 0s 3ms/step - loss: 0.8336 - accuracy: 0.4594\n",
            "Epoch 71/100\n",
            "32/32 [==============================] - 0s 3ms/step - loss: 0.7939 - accuracy: 0.4939\n",
            "Epoch 72/100\n",
            "32/32 [==============================] - 0s 3ms/step - loss: 0.8170 - accuracy: 0.4857\n",
            "Epoch 73/100\n",
            "32/32 [==============================] - 0s 3ms/step - loss: 0.8473 - accuracy: 0.4436\n",
            "Epoch 74/100\n",
            "32/32 [==============================] - 0s 3ms/step - loss: 0.8234 - accuracy: 0.4799\n",
            "Epoch 75/100\n",
            "32/32 [==============================] - 0s 3ms/step - loss: 0.8421 - accuracy: 0.4532\n",
            "Epoch 76/100\n",
            "32/32 [==============================] - 0s 3ms/step - loss: 0.7977 - accuracy: 0.4859\n",
            "Epoch 77/100\n",
            "32/32 [==============================] - 0s 3ms/step - loss: 0.8282 - accuracy: 0.4613\n",
            "Epoch 78/100\n",
            "32/32 [==============================] - 0s 3ms/step - loss: 0.8028 - accuracy: 0.4891\n",
            "Epoch 79/100\n",
            "32/32 [==============================] - 0s 3ms/step - loss: 0.8120 - accuracy: 0.4759\n",
            "Epoch 80/100\n",
            "32/32 [==============================] - 0s 3ms/step - loss: 0.8209 - accuracy: 0.4560\n",
            "Epoch 81/100\n",
            "32/32 [==============================] - 0s 3ms/step - loss: 0.8161 - accuracy: 0.4609\n",
            "Epoch 82/100\n",
            "32/32 [==============================] - 0s 3ms/step - loss: 0.8042 - accuracy: 0.4691\n",
            "Epoch 83/100\n",
            "32/32 [==============================] - 0s 3ms/step - loss: 0.7789 - accuracy: 0.4823\n",
            "Epoch 84/100\n",
            "32/32 [==============================] - 0s 3ms/step - loss: 0.7893 - accuracy: 0.4827\n",
            "Epoch 85/100\n",
            "32/32 [==============================] - 0s 3ms/step - loss: 0.7837 - accuracy: 0.4794\n",
            "Epoch 86/100\n",
            "32/32 [==============================] - 0s 3ms/step - loss: 0.8092 - accuracy: 0.4566\n",
            "Epoch 87/100\n",
            "32/32 [==============================] - 0s 3ms/step - loss: 0.8043 - accuracy: 0.4656\n",
            "Epoch 88/100\n",
            "32/32 [==============================] - 0s 3ms/step - loss: 0.7895 - accuracy: 0.4600\n",
            "Epoch 89/100\n",
            "32/32 [==============================] - 0s 3ms/step - loss: 0.8223 - accuracy: 0.4638\n",
            "Epoch 90/100\n",
            "32/32 [==============================] - 0s 3ms/step - loss: 0.7751 - accuracy: 0.4887\n",
            "Epoch 91/100\n",
            "32/32 [==============================] - 0s 3ms/step - loss: 0.7659 - accuracy: 0.4883\n",
            "Epoch 92/100\n",
            "32/32 [==============================] - 0s 3ms/step - loss: 0.7907 - accuracy: 0.4884\n",
            "Epoch 93/100\n",
            "32/32 [==============================] - 0s 3ms/step - loss: 0.7810 - accuracy: 0.4750\n",
            "Epoch 94/100\n",
            "32/32 [==============================] - 0s 3ms/step - loss: 0.7977 - accuracy: 0.4545\n",
            "Epoch 95/100\n",
            "32/32 [==============================] - 0s 3ms/step - loss: 0.7652 - accuracy: 0.4981\n",
            "Epoch 96/100\n",
            "32/32 [==============================] - 0s 3ms/step - loss: 0.7621 - accuracy: 0.4896\n",
            "Epoch 97/100\n",
            "32/32 [==============================] - 0s 3ms/step - loss: 0.7614 - accuracy: 0.4839\n",
            "Epoch 98/100\n",
            "32/32 [==============================] - 0s 3ms/step - loss: 0.7459 - accuracy: 0.4986\n",
            "Epoch 99/100\n",
            "32/32 [==============================] - 0s 3ms/step - loss: 0.7821 - accuracy: 0.4745\n",
            "Epoch 100/100\n",
            "32/32 [==============================] - 0s 3ms/step - loss: 0.7453 - accuracy: 0.5134\n"
          ],
          "name": "stdout"
        }
      ]
    },
    {
      "cell_type": "code",
      "metadata": {
        "colab": {
          "base_uri": "https://localhost:8080/",
          "height": 282
        },
        "id": "hJt3bhLPYLzn",
        "outputId": "632c50a0-db4c-42db-8b54-a9e3fe856bc8"
      },
      "source": [
        "# Check out our data \n",
        "plt.scatter(X[:,0],X[:,1],c=y,cmap=plt.cm.RdYlBu)"
      ],
      "execution_count": 23,
      "outputs": [
        {
          "output_type": "execute_result",
          "data": {
            "text/plain": [
              "<matplotlib.collections.PathCollection at 0x7fee0192c7d0>"
            ]
          },
          "metadata": {
            "tags": []
          },
          "execution_count": 23
        },
        {
          "output_type": "display_data",
          "data": {
            "image/png": "[encoded data removed]",
            "text/plain": [
              "<Figure size 432x288 with 1 Axes>"
            ]
          },
          "metadata": {
            "tags": [],
            "needs_background": "light"
          }
        }
      ]
    },
    {
      "cell_type": "code",
      "metadata": {
        "colab": {
          "base_uri": "https://localhost:8080/",
          "height": 282
        },
        "id": "6pC5fR7RqSYC",
        "outputId": "aae17968-e6c6-457d-a07e-c801020f38f8"
      },
      "source": [
        "# Check the decision boundary for our latest model\n",
        "plot_decision_boundary(model=model_4,X=X,y=y)"
      ],
      "execution_count": 24,
      "outputs": [
        {
          "output_type": "stream",
          "text": [
            "doing binarry classification\n"
          ],
          "name": "stdout"
        },
        {
          "output_type": "display_data",
          "data": {
            "image/png": "[encoded data removed]",
            "text/plain": [
              "<Figure size 432x288 with 1 Axes>"
            ]
          },
          "metadata": {
            "tags": [],
            "needs_background": "light"
          }
        }
      ]
    },
    {
      "cell_type": "markdown",
      "metadata": {
        "id": "f7yoh2Tul47L"
      },
      "source": [
        "Let's try build our first neural network with a non-linear activation function."
      ]
    },
    {
      "cell_type": "code",
      "metadata": {
        "id": "BW7Z0CTaqdFQ",
        "colab": {
          "base_uri": "https://localhost:8080/"
        },
        "outputId": "6f090a95-5e1c-41af-9916-d4c334a50785"
      },
      "source": [
        "# Set random seed\n",
        "tf.random.set_seed(42)\n",
        "\n",
        "# Create model\n",
        "model_5 = tf.keras.Sequential([\n",
        "  tf.keras.layers.Dense(1,activation=\"relu\")\n",
        "])\n",
        "\n",
        "# Compile\n",
        "model_5.compile(loss=tf.keras.losses.BinaryCrossentropy(),\n",
        "                optimizer=tf.keras.optimizers.Adam(lr=0.001),\n",
        "                metrics=[\"accuracy\"])\n",
        "\n",
        "# Fitting\n",
        "history = model_5.fit(X,y,epochs=100)"
      ],
      "execution_count": 25,
      "outputs": [
        {
          "output_type": "stream",
          "text": [
            "Epoch 1/100\n",
            "32/32 [==============================] - 1s 3ms/step - loss: 4.6225 - accuracy: 0.4548\n",
            "Epoch 2/100\n",
            "32/32 [==============================] - 0s 3ms/step - loss: 4.3079 - accuracy: 0.4220\n",
            "Epoch 3/100\n",
            "32/32 [==============================] - 0s 3ms/step - loss: 4.5266 - accuracy: 0.4276\n",
            "Epoch 4/100\n",
            "32/32 [==============================] - 0s 3ms/step - loss: 4.0583 - accuracy: 0.4295\n",
            "Epoch 5/100\n",
            "32/32 [==============================] - 0s 3ms/step - loss: 4.2318 - accuracy: 0.4045\n",
            "Epoch 6/100\n",
            "32/32 [==============================] - 0s 3ms/step - loss: 3.7717 - accuracy: 0.4447\n",
            "Epoch 7/100\n",
            "32/32 [==============================] - 0s 3ms/step - loss: 3.9152 - accuracy: 0.4201\n",
            "Epoch 8/100\n",
            "32/32 [==============================] - 0s 3ms/step - loss: 3.5773 - accuracy: 0.4180\n",
            "Epoch 9/100\n",
            "32/32 [==============================] - 0s 3ms/step - loss: 3.9012 - accuracy: 0.3986\n",
            "Epoch 10/100\n",
            "32/32 [==============================] - 0s 3ms/step - loss: 3.5076 - accuracy: 0.4451\n",
            "Epoch 11/100\n",
            "32/32 [==============================] - 0s 3ms/step - loss: 3.4968 - accuracy: 0.4289\n",
            "Epoch 12/100\n",
            "32/32 [==============================] - 0s 3ms/step - loss: 3.5286 - accuracy: 0.4288\n",
            "Epoch 13/100\n",
            "32/32 [==============================] - 0s 3ms/step - loss: 3.4337 - accuracy: 0.4506\n",
            "Epoch 14/100\n",
            "32/32 [==============================] - 0s 3ms/step - loss: 3.7664 - accuracy: 0.4203\n",
            "Epoch 15/100\n",
            "32/32 [==============================] - 0s 3ms/step - loss: 3.4700 - accuracy: 0.4277\n",
            "Epoch 16/100\n",
            "32/32 [==============================] - 0s 3ms/step - loss: 3.7509 - accuracy: 0.4232\n",
            "Epoch 17/100\n",
            "32/32 [==============================] - 0s 3ms/step - loss: 3.6044 - accuracy: 0.4219\n",
            "Epoch 18/100\n",
            "32/32 [==============================] - 0s 3ms/step - loss: 3.5001 - accuracy: 0.4359\n",
            "Epoch 19/100\n",
            "32/32 [==============================] - 0s 3ms/step - loss: 3.7194 - accuracy: 0.4338\n",
            "Epoch 20/100\n",
            "32/32 [==============================] - 0s 3ms/step - loss: 3.3191 - accuracy: 0.4729\n",
            "Epoch 21/100\n",
            "32/32 [==============================] - 0s 3ms/step - loss: 3.6269 - accuracy: 0.4393\n",
            "Epoch 22/100\n",
            "32/32 [==============================] - 0s 3ms/step - loss: 3.1774 - accuracy: 0.4711\n",
            "Epoch 23/100\n",
            "32/32 [==============================] - 0s 3ms/step - loss: 3.1919 - accuracy: 0.4353\n",
            "Epoch 24/100\n",
            "32/32 [==============================] - 0s 3ms/step - loss: 3.6255 - accuracy: 0.4510\n",
            "Epoch 25/100\n",
            "32/32 [==============================] - 0s 3ms/step - loss: 3.1884 - accuracy: 0.4532\n",
            "Epoch 26/100\n",
            "32/32 [==============================] - 0s 3ms/step - loss: 3.2194 - accuracy: 0.4687\n",
            "Epoch 27/100\n",
            "32/32 [==============================] - 0s 3ms/step - loss: 3.0865 - accuracy: 0.4493\n",
            "Epoch 28/100\n",
            "32/32 [==============================] - 0s 3ms/step - loss: 2.9498 - accuracy: 0.4491\n",
            "Epoch 29/100\n",
            "32/32 [==============================] - 0s 3ms/step - loss: 2.6233 - accuracy: 0.4571\n",
            "Epoch 30/100\n",
            "32/32 [==============================] - 0s 3ms/step - loss: 2.5004 - accuracy: 0.4641\n",
            "Epoch 31/100\n",
            "32/32 [==============================] - 0s 3ms/step - loss: 2.8838 - accuracy: 0.4527\n",
            "Epoch 32/100\n",
            "32/32 [==============================] - 0s 3ms/step - loss: 2.5738 - accuracy: 0.4631\n",
            "Epoch 33/100\n",
            "32/32 [==============================] - 0s 3ms/step - loss: 2.6279 - accuracy: 0.4463\n",
            "Epoch 34/100\n",
            "32/32 [==============================] - 0s 3ms/step - loss: 2.4827 - accuracy: 0.4473\n",
            "Epoch 35/100\n",
            "32/32 [==============================] - 0s 3ms/step - loss: 2.4500 - accuracy: 0.4683\n",
            "Epoch 36/100\n",
            "32/32 [==============================] - 0s 3ms/step - loss: 2.0745 - accuracy: 0.4684\n",
            "Epoch 37/100\n",
            "32/32 [==============================] - 0s 3ms/step - loss: 1.9288 - accuracy: 0.4551\n",
            "Epoch 38/100\n",
            "32/32 [==============================] - 0s 3ms/step - loss: 1.8432 - accuracy: 0.4537\n",
            "Epoch 39/100\n",
            "32/32 [==============================] - 0s 3ms/step - loss: 1.6644 - accuracy: 0.4642\n",
            "Epoch 40/100\n",
            "32/32 [==============================] - 0s 3ms/step - loss: 1.2011 - accuracy: 0.4832\n",
            "Epoch 41/100\n",
            "32/32 [==============================] - 0s 3ms/step - loss: 1.0697 - accuracy: 0.4219\n",
            "Epoch 42/100\n",
            "32/32 [==============================] - 0s 3ms/step - loss: 1.0168 - accuracy: 0.4567\n",
            "Epoch 43/100\n",
            "32/32 [==============================] - 0s 3ms/step - loss: 0.9464 - accuracy: 0.4823\n",
            "Epoch 44/100\n",
            "32/32 [==============================] - 0s 3ms/step - loss: 0.9092 - accuracy: 0.4785\n",
            "Epoch 45/100\n",
            "32/32 [==============================] - 0s 3ms/step - loss: 0.9392 - accuracy: 0.4704\n",
            "Epoch 46/100\n",
            "32/32 [==============================] - 0s 3ms/step - loss: 0.9164 - accuracy: 0.4874\n",
            "Epoch 47/100\n",
            "32/32 [==============================] - 0s 3ms/step - loss: 0.9697 - accuracy: 0.4471\n",
            "Epoch 48/100\n",
            "32/32 [==============================] - 0s 3ms/step - loss: 0.9227 - accuracy: 0.4784\n",
            "Epoch 49/100\n",
            "32/32 [==============================] - 0s 3ms/step - loss: 0.9257 - accuracy: 0.4629\n",
            "Epoch 50/100\n",
            "32/32 [==============================] - 0s 3ms/step - loss: 0.9337 - accuracy: 0.4619\n",
            "Epoch 51/100\n",
            "32/32 [==============================] - 0s 3ms/step - loss: 0.8876 - accuracy: 0.4661\n",
            "Epoch 52/100\n",
            "32/32 [==============================] - 0s 3ms/step - loss: 0.9054 - accuracy: 0.4576\n",
            "Epoch 53/100\n",
            "32/32 [==============================] - 0s 3ms/step - loss: 0.8766 - accuracy: 0.4849\n",
            "Epoch 54/100\n",
            "32/32 [==============================] - 0s 3ms/step - loss: 0.8782 - accuracy: 0.4719\n",
            "Epoch 55/100\n",
            "32/32 [==============================] - 0s 3ms/step - loss: 0.8855 - accuracy: 0.4735\n",
            "Epoch 56/100\n",
            "32/32 [==============================] - 0s 3ms/step - loss: 0.8843 - accuracy: 0.4526\n",
            "Epoch 57/100\n",
            "32/32 [==============================] - 0s 3ms/step - loss: 0.8465 - accuracy: 0.4792\n",
            "Epoch 58/100\n",
            "32/32 [==============================] - 0s 3ms/step - loss: 0.8860 - accuracy: 0.4527\n",
            "Epoch 59/100\n",
            "32/32 [==============================] - 0s 3ms/step - loss: 0.9205 - accuracy: 0.4408\n",
            "Epoch 60/100\n",
            "32/32 [==============================] - 0s 3ms/step - loss: 0.8758 - accuracy: 0.4569\n",
            "Epoch 61/100\n",
            "32/32 [==============================] - 0s 3ms/step - loss: 0.8698 - accuracy: 0.4618\n",
            "Epoch 62/100\n",
            "32/32 [==============================] - 0s 3ms/step - loss: 0.8783 - accuracy: 0.4598\n",
            "Epoch 63/100\n",
            "32/32 [==============================] - 0s 3ms/step - loss: 0.8621 - accuracy: 0.4414\n",
            "Epoch 64/100\n",
            "32/32 [==============================] - 0s 3ms/step - loss: 0.8420 - accuracy: 0.4849\n",
            "Epoch 65/100\n",
            "32/32 [==============================] - 0s 3ms/step - loss: 0.8468 - accuracy: 0.4555\n",
            "Epoch 66/100\n",
            "32/32 [==============================] - 0s 3ms/step - loss: 0.8687 - accuracy: 0.4357\n",
            "Epoch 67/100\n",
            "32/32 [==============================] - 0s 3ms/step - loss: 0.8491 - accuracy: 0.4592\n",
            "Epoch 68/100\n",
            "32/32 [==============================] - 0s 3ms/step - loss: 0.8551 - accuracy: 0.4642\n",
            "Epoch 69/100\n",
            "32/32 [==============================] - 0s 3ms/step - loss: 0.8493 - accuracy: 0.4537\n",
            "Epoch 70/100\n",
            "32/32 [==============================] - 0s 3ms/step - loss: 0.8336 - accuracy: 0.4594\n",
            "Epoch 71/100\n",
            "32/32 [==============================] - 0s 3ms/step - loss: 0.7939 - accuracy: 0.4939\n",
            "Epoch 72/100\n",
            "32/32 [==============================] - 0s 3ms/step - loss: 0.8170 - accuracy: 0.4857\n",
            "Epoch 73/100\n",
            "32/32 [==============================] - 0s 3ms/step - loss: 0.8473 - accuracy: 0.4436\n",
            "Epoch 74/100\n",
            "32/32 [==============================] - 0s 3ms/step - loss: 0.8234 - accuracy: 0.4799\n",
            "Epoch 75/100\n",
            "32/32 [==============================] - 0s 3ms/step - loss: 0.8421 - accuracy: 0.4532\n",
            "Epoch 76/100\n",
            "32/32 [==============================] - 0s 3ms/step - loss: 0.7977 - accuracy: 0.4859\n",
            "Epoch 77/100\n",
            "32/32 [==============================] - 0s 3ms/step - loss: 0.8282 - accuracy: 0.4613\n",
            "Epoch 78/100\n",
            "32/32 [==============================] - 0s 3ms/step - loss: 0.8028 - accuracy: 0.4891\n",
            "Epoch 79/100\n",
            "32/32 [==============================] - 0s 3ms/step - loss: 0.8120 - accuracy: 0.4759\n",
            "Epoch 80/100\n",
            "32/32 [==============================] - 0s 3ms/step - loss: 0.8209 - accuracy: 0.4560\n",
            "Epoch 81/100\n",
            "32/32 [==============================] - 0s 3ms/step - loss: 0.8161 - accuracy: 0.4609\n",
            "Epoch 82/100\n",
            "32/32 [==============================] - 0s 3ms/step - loss: 0.8042 - accuracy: 0.4691\n",
            "Epoch 83/100\n",
            "32/32 [==============================] - 0s 3ms/step - loss: 0.7789 - accuracy: 0.4823\n",
            "Epoch 84/100\n",
            "32/32 [==============================] - 0s 3ms/step - loss: 0.7893 - accuracy: 0.4827\n",
            "Epoch 85/100\n",
            "32/32 [==============================] - 0s 3ms/step - loss: 0.7837 - accuracy: 0.4794\n",
            "Epoch 86/100\n",
            "32/32 [==============================] - 0s 3ms/step - loss: 0.8092 - accuracy: 0.4566\n",
            "Epoch 87/100\n",
            "32/32 [==============================] - 0s 3ms/step - loss: 0.8043 - accuracy: 0.4656\n",
            "Epoch 88/100\n",
            "32/32 [==============================] - 0s 3ms/step - loss: 0.7895 - accuracy: 0.4600\n",
            "Epoch 89/100\n",
            "32/32 [==============================] - 0s 3ms/step - loss: 0.8223 - accuracy: 0.4638\n",
            "Epoch 90/100\n",
            "32/32 [==============================] - 0s 3ms/step - loss: 0.7751 - accuracy: 0.4887\n",
            "Epoch 91/100\n",
            "32/32 [==============================] - 0s 3ms/step - loss: 0.7659 - accuracy: 0.4883\n",
            "Epoch 92/100\n",
            "32/32 [==============================] - 0s 3ms/step - loss: 0.7907 - accuracy: 0.4884\n",
            "Epoch 93/100\n",
            "32/32 [==============================] - 0s 3ms/step - loss: 0.7810 - accuracy: 0.4750\n",
            "Epoch 94/100\n",
            "32/32 [==============================] - 0s 3ms/step - loss: 0.7977 - accuracy: 0.4545\n",
            "Epoch 95/100\n",
            "32/32 [==============================] - 0s 3ms/step - loss: 0.7652 - accuracy: 0.4981\n",
            "Epoch 96/100\n",
            "32/32 [==============================] - 0s 3ms/step - loss: 0.7621 - accuracy: 0.4896\n",
            "Epoch 97/100\n",
            "32/32 [==============================] - 0s 3ms/step - loss: 0.7614 - accuracy: 0.4839\n",
            "Epoch 98/100\n",
            "32/32 [==============================] - 0s 3ms/step - loss: 0.7459 - accuracy: 0.4986\n",
            "Epoch 99/100\n",
            "32/32 [==============================] - 0s 3ms/step - loss: 0.7821 - accuracy: 0.4745\n",
            "Epoch 100/100\n",
            "32/32 [==============================] - 0s 3ms/step - loss: 0.7453 - accuracy: 0.5134\n"
          ],
          "name": "stdout"
        }
      ]
    },
    {
      "cell_type": "code",
      "metadata": {
        "id": "53pQqR5_mxC5",
        "colab": {
          "base_uri": "https://localhost:8080/"
        },
        "outputId": "5313b7a2-c8a1-41cb-f4ff-aa1a679316a2"
      },
      "source": [
        "# Time to replicate the multi-layer neural network from TensorFlow playground in code\n",
        "\n",
        "# Set random seed\n",
        "tf.random.set_seed(42)\n",
        "\n",
        "# Create model\n",
        "model_6 = tf.keras.Sequential([\n",
        "    tf.keras.layers.Dense(4,activation=\"relu\"),\n",
        "    tf.keras.layers.Dense(4,activation=\"relu\"),\n",
        "    tf.keras.layers.Dense(1),\n",
        "])\n",
        "\n",
        "# Compile\n",
        "model_6.compile(loss=\"binary_crossentropy\",\n",
        "                optimizer=tf.keras.optimizers.Adam(lr=0.001),\n",
        "                metrics=[\"accuracy\"])\n",
        "\n",
        "history = model_6.fit(X,y,epochs=250)"
      ],
      "execution_count": 26,
      "outputs": [
        {
          "output_type": "stream",
          "text": [
            "Epoch 1/250\n",
            "32/32 [==============================] - 1s 3ms/step - loss: 7.9753 - accuracy: 0.4830\n",
            "Epoch 2/250\n",
            "32/32 [==============================] - 0s 3ms/step - loss: 7.8983 - accuracy: 0.4880\n",
            "Epoch 3/250\n",
            "32/32 [==============================] - 0s 3ms/step - loss: 7.8184 - accuracy: 0.4931\n",
            "Epoch 4/250\n",
            "32/32 [==============================] - 0s 3ms/step - loss: 7.7682 - accuracy: 0.4964\n",
            "Epoch 5/250\n",
            "32/32 [==============================] - 0s 3ms/step - loss: 7.9795 - accuracy: 0.4827\n",
            "Epoch 6/250\n",
            "32/32 [==============================] - 0s 3ms/step - loss: 7.2219 - accuracy: 0.5318\n",
            "Epoch 7/250\n",
            "32/32 [==============================] - 0s 3ms/step - loss: 7.6230 - accuracy: 0.5058\n",
            "Epoch 8/250\n",
            "32/32 [==============================] - 0s 3ms/step - loss: 7.7149 - accuracy: 0.4998\n",
            "Epoch 9/250\n",
            "32/32 [==============================] - 0s 3ms/step - loss: 8.0269 - accuracy: 0.4796\n",
            "Epoch 10/250\n",
            "32/32 [==============================] - 0s 3ms/step - loss: 7.4648 - accuracy: 0.5161\n",
            "Epoch 11/250\n",
            "32/32 [==============================] - 0s 3ms/step - loss: 7.6242 - accuracy: 0.5057\n",
            "Epoch 12/250\n",
            "32/32 [==============================] - 0s 3ms/step - loss: 7.4561 - accuracy: 0.5166\n",
            "Epoch 13/250\n",
            "32/32 [==============================] - 0s 3ms/step - loss: 7.1428 - accuracy: 0.5369\n",
            "Epoch 14/250\n",
            "32/32 [==============================] - 0s 3ms/step - loss: 7.5461 - accuracy: 0.5108\n",
            "Epoch 15/250\n",
            "32/32 [==============================] - 0s 3ms/step - loss: 7.4680 - accuracy: 0.5159\n",
            "Epoch 16/250\n",
            "32/32 [==============================] - 0s 3ms/step - loss: 7.7601 - accuracy: 0.4969\n",
            "Epoch 17/250\n",
            "32/32 [==============================] - 0s 3ms/step - loss: 7.7622 - accuracy: 0.4968\n",
            "Epoch 18/250\n",
            "32/32 [==============================] - 0s 3ms/step - loss: 7.7250 - accuracy: 0.4992\n",
            "Epoch 19/250\n",
            "32/32 [==============================] - 0s 3ms/step - loss: 8.1296 - accuracy: 0.4730\n",
            "Epoch 20/250\n",
            "32/32 [==============================] - 0s 3ms/step - loss: 7.8179 - accuracy: 0.4932\n",
            "Epoch 21/250\n",
            "32/32 [==============================] - 0s 3ms/step - loss: 7.8540 - accuracy: 0.4908\n",
            "Epoch 22/250\n",
            "32/32 [==============================] - 0s 3ms/step - loss: 7.6321 - accuracy: 0.5052\n",
            "Epoch 23/250\n",
            "32/32 [==============================] - 0s 3ms/step - loss: 7.6680 - accuracy: 0.5029\n",
            "Epoch 24/250\n",
            "32/32 [==============================] - 0s 3ms/step - loss: 7.6182 - accuracy: 0.5061\n",
            "Epoch 25/250\n",
            "32/32 [==============================] - 0s 3ms/step - loss: 7.7239 - accuracy: 0.4993\n",
            "Epoch 26/250\n",
            "32/32 [==============================] - 0s 3ms/step - loss: 7.7557 - accuracy: 0.4972\n",
            "Epoch 27/250\n",
            "32/32 [==============================] - 0s 3ms/step - loss: 8.0653 - accuracy: 0.4771\n",
            "Epoch 28/250\n",
            "32/32 [==============================] - 0s 3ms/step - loss: 7.9861 - accuracy: 0.4823\n",
            "Epoch 29/250\n",
            "32/32 [==============================] - 0s 3ms/step - loss: 7.5336 - accuracy: 0.5116\n",
            "Epoch 30/250\n",
            "32/32 [==============================] - 0s 3ms/step - loss: 7.7347 - accuracy: 0.4986\n",
            "Epoch 31/250\n",
            "32/32 [==============================] - 0s 3ms/step - loss: 7.7617 - accuracy: 0.4968\n",
            "Epoch 32/250\n",
            "32/32 [==============================] - 0s 3ms/step - loss: 7.4408 - accuracy: 0.5176\n",
            "Epoch 33/250\n",
            "32/32 [==============================] - 0s 3ms/step - loss: 7.9254 - accuracy: 0.4862\n",
            "Epoch 34/250\n",
            "32/32 [==============================] - 0s 3ms/step - loss: 7.6042 - accuracy: 0.5070\n",
            "Epoch 35/250\n",
            "32/32 [==============================] - 0s 3ms/step - loss: 7.9993 - accuracy: 0.4814\n",
            "Epoch 36/250\n",
            "32/32 [==============================] - 0s 3ms/step - loss: 7.5842 - accuracy: 0.5083\n",
            "Epoch 37/250\n",
            "32/32 [==============================] - 0s 3ms/step - loss: 7.6787 - accuracy: 0.5022\n",
            "Epoch 38/250\n",
            "32/32 [==============================] - 0s 3ms/step - loss: 7.6740 - accuracy: 0.5025\n",
            "Epoch 39/250\n",
            "32/32 [==============================] - 0s 3ms/step - loss: 7.4733 - accuracy: 0.5155\n",
            "Epoch 40/250\n",
            "32/32 [==============================] - 0s 3ms/step - loss: 7.8495 - accuracy: 0.4911\n",
            "Epoch 41/250\n",
            "32/32 [==============================] - 0s 3ms/step - loss: 8.2446 - accuracy: 0.4655\n",
            "Epoch 42/250\n",
            "32/32 [==============================] - 0s 3ms/step - loss: 7.9345 - accuracy: 0.4856\n",
            "Epoch 43/250\n",
            "32/32 [==============================] - 0s 3ms/step - loss: 7.7842 - accuracy: 0.4954\n",
            "Epoch 44/250\n",
            "32/32 [==============================] - 0s 3ms/step - loss: 7.3126 - accuracy: 0.5259\n",
            "Epoch 45/250\n",
            "32/32 [==============================] - 0s 3ms/step - loss: 7.3197 - accuracy: 0.5255\n",
            "Epoch 46/250\n",
            "32/32 [==============================] - 0s 4ms/step - loss: 7.4585 - accuracy: 0.5165\n",
            "Epoch 47/250\n",
            "32/32 [==============================] - 0s 3ms/step - loss: 7.9568 - accuracy: 0.4842\n",
            "Epoch 48/250\n",
            "32/32 [==============================] - 0s 3ms/step - loss: 7.8862 - accuracy: 0.4887\n",
            "Epoch 49/250\n",
            "32/32 [==============================] - 0s 3ms/step - loss: 7.5472 - accuracy: 0.5107\n",
            "Epoch 50/250\n",
            "32/32 [==============================] - 0s 3ms/step - loss: 7.3799 - accuracy: 0.5216\n",
            "Epoch 51/250\n",
            "32/32 [==============================] - 0s 3ms/step - loss: 7.3495 - accuracy: 0.5235\n",
            "Epoch 52/250\n",
            "32/32 [==============================] - 0s 3ms/step - loss: 7.7936 - accuracy: 0.4947\n",
            "Epoch 53/250\n",
            "32/32 [==============================] - 0s 3ms/step - loss: 7.7570 - accuracy: 0.4971\n",
            "Epoch 54/250\n",
            "32/32 [==============================] - 0s 3ms/step - loss: 7.7828 - accuracy: 0.4954\n",
            "Epoch 55/250\n",
            "32/32 [==============================] - 0s 3ms/step - loss: 7.9357 - accuracy: 0.4855\n",
            "Epoch 56/250\n",
            "32/32 [==============================] - 0s 3ms/step - loss: 7.4286 - accuracy: 0.5184\n",
            "Epoch 57/250\n",
            "32/32 [==============================] - 0s 3ms/step - loss: 7.5070 - accuracy: 0.5133\n",
            "Epoch 58/250\n",
            "32/32 [==============================] - 0s 4ms/step - loss: 7.8944 - accuracy: 0.4882\n",
            "Epoch 59/250\n",
            "32/32 [==============================] - 0s 3ms/step - loss: 8.3480 - accuracy: 0.4588\n",
            "Epoch 60/250\n",
            "32/32 [==============================] - 0s 3ms/step - loss: 8.1568 - accuracy: 0.4712\n",
            "Epoch 61/250\n",
            "32/32 [==============================] - 0s 3ms/step - loss: 7.4900 - accuracy: 0.5144\n",
            "Epoch 62/250\n",
            "32/32 [==============================] - 0s 3ms/step - loss: 7.9939 - accuracy: 0.4818\n",
            "Epoch 63/250\n",
            "32/32 [==============================] - 0s 3ms/step - loss: 7.8445 - accuracy: 0.4914\n",
            "Epoch 64/250\n",
            "32/32 [==============================] - 0s 3ms/step - loss: 7.7632 - accuracy: 0.4967\n",
            "Epoch 65/250\n",
            "32/32 [==============================] - 0s 3ms/step - loss: 7.7199 - accuracy: 0.4995\n",
            "Epoch 66/250\n",
            "32/32 [==============================] - 0s 3ms/step - loss: 7.9908 - accuracy: 0.4820\n",
            "Epoch 67/250\n",
            "32/32 [==============================] - 0s 3ms/step - loss: 7.7850 - accuracy: 0.4953\n",
            "Epoch 68/250\n",
            "32/32 [==============================] - 0s 3ms/step - loss: 7.7342 - accuracy: 0.4986\n",
            "Epoch 69/250\n",
            "32/32 [==============================] - 0s 3ms/step - loss: 7.6709 - accuracy: 0.5027\n",
            "Epoch 70/250\n",
            "32/32 [==============================] - 0s 3ms/step - loss: 7.7723 - accuracy: 0.4961\n",
            "Epoch 71/250\n",
            "32/32 [==============================] - 0s 3ms/step - loss: 7.3569 - accuracy: 0.5231\n",
            "Epoch 72/250\n",
            "32/32 [==============================] - 0s 3ms/step - loss: 7.6486 - accuracy: 0.5041\n",
            "Epoch 73/250\n",
            "32/32 [==============================] - 0s 3ms/step - loss: 7.6712 - accuracy: 0.5027\n",
            "Epoch 74/250\n",
            "32/32 [==============================] - 0s 3ms/step - loss: 7.6661 - accuracy: 0.5030\n",
            "Epoch 75/250\n",
            "32/32 [==============================] - 0s 3ms/step - loss: 7.8858 - accuracy: 0.4888\n",
            "Epoch 76/250\n",
            "32/32 [==============================] - 0s 4ms/step - loss: 7.3837 - accuracy: 0.5213\n",
            "Epoch 77/250\n",
            "32/32 [==============================] - 0s 5ms/step - loss: 8.0544 - accuracy: 0.4778\n",
            "Epoch 78/250\n",
            "32/32 [==============================] - 0s 3ms/step - loss: 7.4542 - accuracy: 0.5167\n",
            "Epoch 79/250\n",
            "32/32 [==============================] - 0s 4ms/step - loss: 7.4387 - accuracy: 0.5177\n",
            "Epoch 80/250\n",
            "32/32 [==============================] - 0s 3ms/step - loss: 7.6888 - accuracy: 0.5015\n",
            "Epoch 81/250\n",
            "32/32 [==============================] - 0s 3ms/step - loss: 7.6354 - accuracy: 0.5050\n",
            "Epoch 82/250\n",
            "32/32 [==============================] - 0s 3ms/step - loss: 7.4057 - accuracy: 0.5199\n",
            "Epoch 83/250\n",
            "32/32 [==============================] - 0s 3ms/step - loss: 7.2750 - accuracy: 0.5284\n",
            "Epoch 84/250\n",
            "32/32 [==============================] - 0s 3ms/step - loss: 7.4647 - accuracy: 0.5161\n",
            "Epoch 85/250\n",
            "32/32 [==============================] - 0s 4ms/step - loss: 7.5689 - accuracy: 0.5093\n",
            "Epoch 86/250\n",
            "32/32 [==============================] - 0s 3ms/step - loss: 7.8381 - accuracy: 0.4919\n",
            "Epoch 87/250\n",
            "32/32 [==============================] - 0s 3ms/step - loss: 8.0268 - accuracy: 0.4796\n",
            "Epoch 88/250\n",
            "32/32 [==============================] - 0s 3ms/step - loss: 7.8147 - accuracy: 0.4934\n",
            "Epoch 89/250\n",
            "32/32 [==============================] - 0s 3ms/step - loss: 8.1743 - accuracy: 0.4701\n",
            "Epoch 90/250\n",
            "32/32 [==============================] - 0s 3ms/step - loss: 7.4337 - accuracy: 0.5181\n",
            "Epoch 91/250\n",
            "32/32 [==============================] - 0s 3ms/step - loss: 7.4169 - accuracy: 0.5192\n",
            "Epoch 92/250\n",
            "32/32 [==============================] - 0s 3ms/step - loss: 8.2149 - accuracy: 0.4674\n",
            "Epoch 93/250\n",
            "32/32 [==============================] - 0s 3ms/step - loss: 7.5723 - accuracy: 0.5091\n",
            "Epoch 94/250\n",
            "32/32 [==============================] - 0s 4ms/step - loss: 7.7455 - accuracy: 0.4979\n",
            "Epoch 95/250\n",
            "32/32 [==============================] - 0s 3ms/step - loss: 7.3008 - accuracy: 0.5267\n",
            "Epoch 96/250\n",
            "32/32 [==============================] - 0s 3ms/step - loss: 7.4538 - accuracy: 0.5168\n",
            "Epoch 97/250\n",
            "32/32 [==============================] - 0s 4ms/step - loss: 7.4086 - accuracy: 0.5197\n",
            "Epoch 98/250\n",
            "32/32 [==============================] - 0s 3ms/step - loss: 7.2743 - accuracy: 0.5284\n",
            "Epoch 99/250\n",
            "32/32 [==============================] - 0s 3ms/step - loss: 7.9076 - accuracy: 0.4873\n",
            "Epoch 100/250\n",
            "32/32 [==============================] - 0s 3ms/step - loss: 7.4822 - accuracy: 0.5149\n",
            "Epoch 101/250\n",
            "32/32 [==============================] - 0s 3ms/step - loss: 7.3126 - accuracy: 0.5259\n",
            "Epoch 102/250\n",
            "32/32 [==============================] - 0s 3ms/step - loss: 7.5897 - accuracy: 0.5080\n",
            "Epoch 103/250\n",
            "32/32 [==============================] - 0s 3ms/step - loss: 7.5868 - accuracy: 0.5081\n",
            "Epoch 104/250\n",
            "32/32 [==============================] - 0s 4ms/step - loss: 7.4836 - accuracy: 0.5148\n",
            "Epoch 105/250\n",
            "32/32 [==============================] - 0s 3ms/step - loss: 7.9594 - accuracy: 0.4840\n",
            "Epoch 106/250\n",
            "32/32 [==============================] - 0s 3ms/step - loss: 7.8178 - accuracy: 0.4932\n",
            "Epoch 107/250\n",
            "32/32 [==============================] - 0s 3ms/step - loss: 7.4447 - accuracy: 0.5174\n",
            "Epoch 108/250\n",
            "32/32 [==============================] - 0s 3ms/step - loss: 7.7594 - accuracy: 0.4970\n",
            "Epoch 109/250\n",
            "32/32 [==============================] - 0s 3ms/step - loss: 7.7430 - accuracy: 0.4980\n",
            "Epoch 110/250\n",
            "32/32 [==============================] - 0s 3ms/step - loss: 7.8034 - accuracy: 0.4941\n",
            "Epoch 111/250\n",
            "32/32 [==============================] - 0s 3ms/step - loss: 7.9766 - accuracy: 0.4829\n",
            "Epoch 112/250\n",
            "32/32 [==============================] - 0s 3ms/step - loss: 7.4924 - accuracy: 0.5143\n",
            "Epoch 113/250\n",
            "32/32 [==============================] - 0s 3ms/step - loss: 7.8830 - accuracy: 0.4889\n",
            "Epoch 114/250\n",
            "32/32 [==============================] - 0s 3ms/step - loss: 7.9183 - accuracy: 0.4867\n",
            "Epoch 115/250\n",
            "32/32 [==============================] - 0s 3ms/step - loss: 7.6147 - accuracy: 0.5063\n",
            "Epoch 116/250\n",
            "32/32 [==============================] - 0s 3ms/step - loss: 7.5857 - accuracy: 0.5082\n",
            "Epoch 117/250\n",
            "32/32 [==============================] - 0s 3ms/step - loss: 7.9349 - accuracy: 0.4856\n",
            "Epoch 118/250\n",
            "32/32 [==============================] - 0s 3ms/step - loss: 7.4574 - accuracy: 0.5165\n",
            "Epoch 119/250\n",
            "32/32 [==============================] - 0s 3ms/step - loss: 7.6676 - accuracy: 0.5029\n",
            "Epoch 120/250\n",
            "32/32 [==============================] - 0s 3ms/step - loss: 8.0561 - accuracy: 0.4777\n",
            "Epoch 121/250\n",
            "32/32 [==============================] - 0s 3ms/step - loss: 7.5611 - accuracy: 0.5098\n",
            "Epoch 122/250\n",
            "32/32 [==============================] - 0s 3ms/step - loss: 7.9325 - accuracy: 0.4857\n",
            "Epoch 123/250\n",
            "32/32 [==============================] - 0s 4ms/step - loss: 7.6468 - accuracy: 0.5043\n",
            "Epoch 124/250\n",
            "32/32 [==============================] - 0s 3ms/step - loss: 7.4154 - accuracy: 0.5193\n",
            "Epoch 125/250\n",
            "32/32 [==============================] - 0s 3ms/step - loss: 7.7659 - accuracy: 0.4965\n",
            "Epoch 126/250\n",
            "32/32 [==============================] - 0s 3ms/step - loss: 8.0048 - accuracy: 0.4810\n",
            "Epoch 127/250\n",
            "32/32 [==============================] - 0s 3ms/step - loss: 7.7953 - accuracy: 0.4946\n",
            "Epoch 128/250\n",
            "32/32 [==============================] - 0s 3ms/step - loss: 7.8442 - accuracy: 0.4915\n",
            "Epoch 129/250\n",
            "32/32 [==============================] - 0s 3ms/step - loss: 7.8373 - accuracy: 0.4919\n",
            "Epoch 130/250\n",
            "32/32 [==============================] - 0s 3ms/step - loss: 7.4082 - accuracy: 0.5197\n",
            "Epoch 131/250\n",
            "32/32 [==============================] - 0s 3ms/step - loss: 7.4292 - accuracy: 0.5184\n",
            "Epoch 132/250\n",
            "32/32 [==============================] - 0s 3ms/step - loss: 7.3715 - accuracy: 0.5221\n",
            "Epoch 133/250\n",
            "32/32 [==============================] - 0s 3ms/step - loss: 7.7043 - accuracy: 0.5005\n",
            "Epoch 134/250\n",
            "32/32 [==============================] - 0s 3ms/step - loss: 8.0442 - accuracy: 0.4785\n",
            "Epoch 135/250\n",
            "32/32 [==============================] - 0s 3ms/step - loss: 7.4496 - accuracy: 0.5170\n",
            "Epoch 136/250\n",
            "32/32 [==============================] - 0s 3ms/step - loss: 7.2674 - accuracy: 0.5289\n",
            "Epoch 137/250\n",
            "32/32 [==============================] - 0s 3ms/step - loss: 7.8499 - accuracy: 0.4911\n",
            "Epoch 138/250\n",
            "32/32 [==============================] - 0s 3ms/step - loss: 7.5729 - accuracy: 0.5090\n",
            "Epoch 139/250\n",
            "32/32 [==============================] - 0s 3ms/step - loss: 7.9121 - accuracy: 0.4871\n",
            "Epoch 140/250\n",
            "32/32 [==============================] - 0s 3ms/step - loss: 7.5491 - accuracy: 0.5106\n",
            "Epoch 141/250\n",
            "32/32 [==============================] - 0s 3ms/step - loss: 7.6264 - accuracy: 0.5056\n",
            "Epoch 142/250\n",
            "32/32 [==============================] - 0s 3ms/step - loss: 7.6791 - accuracy: 0.5022\n",
            "Epoch 143/250\n",
            "32/32 [==============================] - 0s 3ms/step - loss: 7.7954 - accuracy: 0.4946\n",
            "Epoch 144/250\n",
            "32/32 [==============================] - 0s 3ms/step - loss: 7.5247 - accuracy: 0.5122\n",
            "Epoch 145/250\n",
            "32/32 [==============================] - 0s 3ms/step - loss: 7.8959 - accuracy: 0.4881\n",
            "Epoch 146/250\n",
            "32/32 [==============================] - 0s 3ms/step - loss: 7.9890 - accuracy: 0.4821\n",
            "Epoch 147/250\n",
            "32/32 [==============================] - 0s 3ms/step - loss: 7.8941 - accuracy: 0.4882\n",
            "Epoch 148/250\n",
            "32/32 [==============================] - 0s 3ms/step - loss: 8.0513 - accuracy: 0.4780\n",
            "Epoch 149/250\n",
            "32/32 [==============================] - 0s 3ms/step - loss: 7.4699 - accuracy: 0.5157\n",
            "Epoch 150/250\n",
            "32/32 [==============================] - 0s 3ms/step - loss: 7.9229 - accuracy: 0.4864\n",
            "Epoch 151/250\n",
            "32/32 [==============================] - 0s 4ms/step - loss: 7.4611 - accuracy: 0.5163\n",
            "Epoch 152/250\n",
            "32/32 [==============================] - 0s 3ms/step - loss: 7.7475 - accuracy: 0.4977\n",
            "Epoch 153/250\n",
            "32/32 [==============================] - 0s 3ms/step - loss: 7.7445 - accuracy: 0.4979\n",
            "Epoch 154/250\n",
            "32/32 [==============================] - 0s 3ms/step - loss: 7.3153 - accuracy: 0.5257\n",
            "Epoch 155/250\n",
            "32/32 [==============================] - 0s 3ms/step - loss: 7.5620 - accuracy: 0.5098\n",
            "Epoch 156/250\n",
            "32/32 [==============================] - 0s 3ms/step - loss: 7.3941 - accuracy: 0.5206\n",
            "Epoch 157/250\n",
            "32/32 [==============================] - 0s 3ms/step - loss: 7.6842 - accuracy: 0.5018\n",
            "Epoch 158/250\n",
            "32/32 [==============================] - 0s 3ms/step - loss: 7.4845 - accuracy: 0.5148\n",
            "Epoch 159/250\n",
            "32/32 [==============================] - 0s 3ms/step - loss: 8.0395 - accuracy: 0.4788\n",
            "Epoch 160/250\n",
            "32/32 [==============================] - 0s 3ms/step - loss: 7.8744 - accuracy: 0.4895\n",
            "Epoch 161/250\n",
            "32/32 [==============================] - 0s 3ms/step - loss: 7.8987 - accuracy: 0.4879\n",
            "Epoch 162/250\n",
            "32/32 [==============================] - 0s 3ms/step - loss: 8.1461 - accuracy: 0.4719\n",
            "Epoch 163/250\n",
            "32/32 [==============================] - 0s 3ms/step - loss: 8.0130 - accuracy: 0.4805\n",
            "Epoch 164/250\n",
            "32/32 [==============================] - 0s 3ms/step - loss: 7.8439 - accuracy: 0.4915\n",
            "Epoch 165/250\n",
            "32/32 [==============================] - 0s 3ms/step - loss: 7.7745 - accuracy: 0.4960\n",
            "Epoch 166/250\n",
            "32/32 [==============================] - 0s 3ms/step - loss: 7.5752 - accuracy: 0.5089\n",
            "Epoch 167/250\n",
            "32/32 [==============================] - 0s 3ms/step - loss: 7.6609 - accuracy: 0.5033\n",
            "Epoch 168/250\n",
            "32/32 [==============================] - 0s 3ms/step - loss: 7.6793 - accuracy: 0.5022\n",
            "Epoch 169/250\n",
            "32/32 [==============================] - 0s 4ms/step - loss: 7.7918 - accuracy: 0.4949\n",
            "Epoch 170/250\n",
            "32/32 [==============================] - 0s 3ms/step - loss: 7.7855 - accuracy: 0.4953\n",
            "Epoch 171/250\n",
            "32/32 [==============================] - 0s 3ms/step - loss: 7.9715 - accuracy: 0.4832\n",
            "Epoch 172/250\n",
            "32/32 [==============================] - 0s 3ms/step - loss: 7.6277 - accuracy: 0.5055\n",
            "Epoch 173/250\n",
            "32/32 [==============================] - 0s 3ms/step - loss: 7.6788 - accuracy: 0.5022\n",
            "Epoch 174/250\n",
            "32/32 [==============================] - 0s 3ms/step - loss: 7.4708 - accuracy: 0.5157\n",
            "Epoch 175/250\n",
            "32/32 [==============================] - 0s 3ms/step - loss: 7.4453 - accuracy: 0.5173\n",
            "Epoch 176/250\n",
            "32/32 [==============================] - 0s 3ms/step - loss: 7.9204 - accuracy: 0.4865\n",
            "Epoch 177/250\n",
            "32/32 [==============================] - 0s 3ms/step - loss: 7.5054 - accuracy: 0.5134\n",
            "Epoch 178/250\n",
            "32/32 [==============================] - 0s 4ms/step - loss: 7.8450 - accuracy: 0.4914\n",
            "Epoch 179/250\n",
            "32/32 [==============================] - 0s 3ms/step - loss: 7.3277 - accuracy: 0.5249\n",
            "Epoch 180/250\n",
            "32/32 [==============================] - 0s 3ms/step - loss: 7.6588 - accuracy: 0.5035\n",
            "Epoch 181/250\n",
            "32/32 [==============================] - 0s 3ms/step - loss: 7.5417 - accuracy: 0.5111\n",
            "Epoch 182/250\n",
            "32/32 [==============================] - 0s 3ms/step - loss: 7.4089 - accuracy: 0.5197\n",
            "Epoch 183/250\n",
            "32/32 [==============================] - 0s 3ms/step - loss: 7.7787 - accuracy: 0.4957\n",
            "Epoch 184/250\n",
            "32/32 [==============================] - 0s 3ms/step - loss: 7.4265 - accuracy: 0.5185\n",
            "Epoch 185/250\n",
            "32/32 [==============================] - 0s 3ms/step - loss: 7.6704 - accuracy: 0.5027\n",
            "Epoch 186/250\n",
            "32/32 [==============================] - 0s 3ms/step - loss: 7.4402 - accuracy: 0.5177\n",
            "Epoch 187/250\n",
            "32/32 [==============================] - 0s 3ms/step - loss: 7.8206 - accuracy: 0.4930\n",
            "Epoch 188/250\n",
            "32/32 [==============================] - 0s 3ms/step - loss: 7.7655 - accuracy: 0.4966\n",
            "Epoch 189/250\n",
            "32/32 [==============================] - 0s 3ms/step - loss: 7.9349 - accuracy: 0.4856\n",
            "Epoch 190/250\n",
            "32/32 [==============================] - 0s 3ms/step - loss: 7.6539 - accuracy: 0.5038\n",
            "Epoch 191/250\n",
            "32/32 [==============================] - 0s 3ms/step - loss: 7.9342 - accuracy: 0.4856\n",
            "Epoch 192/250\n",
            "32/32 [==============================] - 0s 3ms/step - loss: 7.9073 - accuracy: 0.4874\n",
            "Epoch 193/250\n",
            "32/32 [==============================] - 0s 4ms/step - loss: 7.6121 - accuracy: 0.5065\n",
            "Epoch 194/250\n",
            "32/32 [==============================] - 0s 3ms/step - loss: 7.6819 - accuracy: 0.5020\n",
            "Epoch 195/250\n",
            "32/32 [==============================] - 0s 4ms/step - loss: 7.7309 - accuracy: 0.4988\n",
            "Epoch 196/250\n",
            "32/32 [==============================] - 0s 3ms/step - loss: 7.5558 - accuracy: 0.5102\n",
            "Epoch 197/250\n",
            "32/32 [==============================] - 0s 3ms/step - loss: 8.1659 - accuracy: 0.4706\n",
            "Epoch 198/250\n",
            "32/32 [==============================] - 0s 3ms/step - loss: 7.6057 - accuracy: 0.5069\n",
            "Epoch 199/250\n",
            "32/32 [==============================] - 0s 3ms/step - loss: 8.2231 - accuracy: 0.4669\n",
            "Epoch 200/250\n",
            "32/32 [==============================] - 0s 3ms/step - loss: 7.9391 - accuracy: 0.4853\n",
            "Epoch 201/250\n",
            "32/32 [==============================] - 0s 3ms/step - loss: 7.7763 - accuracy: 0.4959\n",
            "Epoch 202/250\n",
            "32/32 [==============================] - 0s 3ms/step - loss: 7.7351 - accuracy: 0.4985\n",
            "Epoch 203/250\n",
            "32/32 [==============================] - 0s 3ms/step - loss: 7.5486 - accuracy: 0.5106\n",
            "Epoch 204/250\n",
            "32/32 [==============================] - 0s 3ms/step - loss: 7.9693 - accuracy: 0.4834\n",
            "Epoch 205/250\n",
            "32/32 [==============================] - 0s 3ms/step - loss: 7.8787 - accuracy: 0.4892\n",
            "Epoch 206/250\n",
            "32/32 [==============================] - 0s 4ms/step - loss: 7.8802 - accuracy: 0.4891\n",
            "Epoch 207/250\n",
            "32/32 [==============================] - 0s 3ms/step - loss: 7.6153 - accuracy: 0.5063\n",
            "Epoch 208/250\n",
            "32/32 [==============================] - 0s 3ms/step - loss: 7.7017 - accuracy: 0.5007\n",
            "Epoch 209/250\n",
            "32/32 [==============================] - 0s 3ms/step - loss: 7.8974 - accuracy: 0.4880\n",
            "Epoch 210/250\n",
            "32/32 [==============================] - 0s 3ms/step - loss: 7.7721 - accuracy: 0.4961\n",
            "Epoch 211/250\n",
            "32/32 [==============================] - 0s 3ms/step - loss: 7.3882 - accuracy: 0.5210\n",
            "Epoch 212/250\n",
            "32/32 [==============================] - 0s 3ms/step - loss: 7.7821 - accuracy: 0.4955\n",
            "Epoch 213/250\n",
            "32/32 [==============================] - 0s 3ms/step - loss: 7.3444 - accuracy: 0.5239\n",
            "Epoch 214/250\n",
            "32/32 [==============================] - 0s 3ms/step - loss: 7.9784 - accuracy: 0.4828\n",
            "Epoch 215/250\n",
            "32/32 [==============================] - 0s 3ms/step - loss: 7.7170 - accuracy: 0.4997\n",
            "Epoch 216/250\n",
            "32/32 [==============================] - 0s 3ms/step - loss: 7.9014 - accuracy: 0.4878\n",
            "Epoch 217/250\n",
            "32/32 [==============================] - 0s 3ms/step - loss: 7.6104 - accuracy: 0.5066\n",
            "Epoch 218/250\n",
            "32/32 [==============================] - 0s 3ms/step - loss: 7.9756 - accuracy: 0.4829\n",
            "Epoch 219/250\n",
            "32/32 [==============================] - 0s 3ms/step - loss: 7.7297 - accuracy: 0.4989\n",
            "Epoch 220/250\n",
            "32/32 [==============================] - 0s 3ms/step - loss: 8.2267 - accuracy: 0.4667\n",
            "Epoch 221/250\n",
            "32/32 [==============================] - 0s 3ms/step - loss: 7.5784 - accuracy: 0.5087\n",
            "Epoch 222/250\n",
            "32/32 [==============================] - 0s 4ms/step - loss: 8.0157 - accuracy: 0.4803\n",
            "Epoch 223/250\n",
            "32/32 [==============================] - 0s 3ms/step - loss: 7.5440 - accuracy: 0.5109\n",
            "Epoch 224/250\n",
            "32/32 [==============================] - 0s 3ms/step - loss: 7.3068 - accuracy: 0.5263\n",
            "Epoch 225/250\n",
            "32/32 [==============================] - 0s 3ms/step - loss: 7.7959 - accuracy: 0.4946\n",
            "Epoch 226/250\n",
            "32/32 [==============================] - 0s 3ms/step - loss: 7.7274 - accuracy: 0.4990\n",
            "Epoch 227/250\n",
            "32/32 [==============================] - 0s 3ms/step - loss: 7.8120 - accuracy: 0.4935\n",
            "Epoch 228/250\n",
            "32/32 [==============================] - 0s 3ms/step - loss: 7.8505 - accuracy: 0.4911\n",
            "Epoch 229/250\n",
            "32/32 [==============================] - 0s 3ms/step - loss: 7.6564 - accuracy: 0.5036\n",
            "Epoch 230/250\n",
            "32/32 [==============================] - 0s 3ms/step - loss: 7.3143 - accuracy: 0.5258\n",
            "Epoch 231/250\n",
            "32/32 [==============================] - 0s 3ms/step - loss: 7.9918 - accuracy: 0.4819\n",
            "Epoch 232/250\n",
            "32/32 [==============================] - 0s 4ms/step - loss: 7.7556 - accuracy: 0.4972\n",
            "Epoch 233/250\n",
            "32/32 [==============================] - 0s 4ms/step - loss: 7.6724 - accuracy: 0.5026\n",
            "Epoch 234/250\n",
            "32/32 [==============================] - 0s 3ms/step - loss: 7.8659 - accuracy: 0.4901\n",
            "Epoch 235/250\n",
            "32/32 [==============================] - 0s 3ms/step - loss: 7.7633 - accuracy: 0.4967\n",
            "Epoch 236/250\n",
            "32/32 [==============================] - 0s 3ms/step - loss: 7.9700 - accuracy: 0.4833\n",
            "Epoch 237/250\n",
            "32/32 [==============================] - 0s 3ms/step - loss: 7.4680 - accuracy: 0.5158\n",
            "Epoch 238/250\n",
            "32/32 [==============================] - 0s 3ms/step - loss: 7.9729 - accuracy: 0.4831\n",
            "Epoch 239/250\n",
            "32/32 [==============================] - 0s 3ms/step - loss: 8.2562 - accuracy: 0.4648\n",
            "Epoch 240/250\n",
            "32/32 [==============================] - 0s 3ms/step - loss: 7.8720 - accuracy: 0.4897\n",
            "Epoch 241/250\n",
            "32/32 [==============================] - 0s 3ms/step - loss: 7.4684 - accuracy: 0.5158\n",
            "Epoch 242/250\n",
            "32/32 [==============================] - 0s 4ms/step - loss: 7.6413 - accuracy: 0.5046\n",
            "Epoch 243/250\n",
            "32/32 [==============================] - 0s 3ms/step - loss: 7.8478 - accuracy: 0.4912\n",
            "Epoch 244/250\n",
            "32/32 [==============================] - 0s 3ms/step - loss: 7.7951 - accuracy: 0.4946\n",
            "Epoch 245/250\n",
            "32/32 [==============================] - 0s 3ms/step - loss: 7.2571 - accuracy: 0.5295\n",
            "Epoch 246/250\n",
            "32/32 [==============================] - 0s 3ms/step - loss: 7.4203 - accuracy: 0.5189\n",
            "Epoch 247/250\n",
            "32/32 [==============================] - 0s 3ms/step - loss: 7.4621 - accuracy: 0.5162\n",
            "Epoch 248/250\n",
            "32/32 [==============================] - 0s 3ms/step - loss: 7.5369 - accuracy: 0.5114\n",
            "Epoch 249/250\n",
            "32/32 [==============================] - 0s 3ms/step - loss: 7.7879 - accuracy: 0.4951\n",
            "Epoch 250/250\n",
            "32/32 [==============================] - 0s 3ms/step - loss: 7.3887 - accuracy: 0.5210\n"
          ],
          "name": "stdout"
        }
      ]
    },
    {
      "cell_type": "code",
      "metadata": {
        "colab": {
          "base_uri": "https://localhost:8080/"
        },
        "id": "TxigXY3tVrj3",
        "outputId": "46d4bdc6-66c9-4224-c062-36f14aa86ed8"
      },
      "source": [
        "# Evaluate\n",
        "model_6.evaluate(X,y)"
      ],
      "execution_count": 27,
      "outputs": [
        {
          "output_type": "stream",
          "text": [
            "32/32 [==============================] - 0s 2ms/step - loss: 7.7125 - accuracy: 0.5000\n"
          ],
          "name": "stdout"
        },
        {
          "output_type": "execute_result",
          "data": {
            "text/plain": [
              "[7.712474346160889, 0.5]"
            ]
          },
          "metadata": {
            "tags": []
          },
          "execution_count": 27
        }
      ]
    },
    {
      "cell_type": "code",
      "metadata": {
        "colab": {
          "base_uri": "https://localhost:8080/",
          "height": 282
        },
        "id": "jyZEy3JTVyZ8",
        "outputId": "a9a6b7bb-9e75-4a71-cc33-5e38f620a744"
      },
      "source": [
        "# How do our model prediction look\n",
        "plot_decision_boundary(model_6,X,y)"
      ],
      "execution_count": 28,
      "outputs": [
        {
          "output_type": "stream",
          "text": [
            "doing binarry classification\n"
          ],
          "name": "stdout"
        },
        {
          "output_type": "display_data",
          "data": {
            "image/png": "[encoded data removed]",
            "text/plain": [
              "<Figure size 432x288 with 1 Axes>"
            ]
          },
          "metadata": {
            "tags": [],
            "needs_background": "light"
          }
        }
      ]
    },
    {
      "cell_type": "code",
      "metadata": {
        "colab": {
          "base_uri": "https://localhost:8080/"
        },
        "id": "g13WDSGfWLxG",
        "outputId": "1977fd73-b648-4654-8591-75610fd2c9df"
      },
      "source": [
        "# Set random seed\n",
        "tf.random.set_seed(42)\n",
        "\n",
        "# Create model\n",
        "model_7 = tf.keras.Sequential([\n",
        "    tf.keras.layers.Dense(4,activation=\"relu\"),\n",
        "    tf.keras.layers.Dense(4,activation=\"relu\"),\n",
        "    tf.keras.layers.Dense(1,activation=\"sigmoid\")\n",
        "])\n",
        "\n",
        "# Compile model\n",
        "model_7.compile(loss=\"binary_crossentropy\",\n",
        "                optimizer=tf.keras.optimizers.Adam(lr=0.001),\n",
        "                metrics=[\"accuracy\"])\n",
        "\n",
        "# Fit model\n",
        "history =model_7.fit(X,y,epochs=100)"
      ],
      "execution_count": 29,
      "outputs": [
        {
          "output_type": "stream",
          "text": [
            "Epoch 1/100\n",
            "32/32 [==============================] - 1s 3ms/step - loss: 0.6954 - accuracy: 0.4875\n",
            "Epoch 2/100\n",
            "32/32 [==============================] - 0s 3ms/step - loss: 0.6870 - accuracy: 0.5110\n",
            "Epoch 3/100\n",
            "32/32 [==============================] - 0s 3ms/step - loss: 0.6801 - accuracy: 0.5470\n",
            "Epoch 4/100\n",
            "32/32 [==============================] - 0s 3ms/step - loss: 0.6841 - accuracy: 0.5004\n",
            "Epoch 5/100\n",
            "32/32 [==============================] - 0s 3ms/step - loss: 0.6817 - accuracy: 0.5259\n",
            "Epoch 6/100\n",
            "32/32 [==============================] - 0s 3ms/step - loss: 0.6789 - accuracy: 0.5237\n",
            "Epoch 7/100\n",
            "32/32 [==============================] - 0s 3ms/step - loss: 0.6806 - accuracy: 0.5427\n",
            "Epoch 8/100\n",
            "32/32 [==============================] - 0s 3ms/step - loss: 0.6808 - accuracy: 0.5396\n",
            "Epoch 9/100\n",
            "32/32 [==============================] - 0s 3ms/step - loss: 0.6795 - accuracy: 0.5360\n",
            "Epoch 10/100\n",
            "32/32 [==============================] - 0s 3ms/step - loss: 0.6769 - accuracy: 0.5418\n",
            "Epoch 11/100\n",
            "32/32 [==============================] - 0s 3ms/step - loss: 0.6753 - accuracy: 0.5484\n",
            "Epoch 12/100\n",
            "32/32 [==============================] - 0s 3ms/step - loss: 0.6771 - accuracy: 0.5517\n",
            "Epoch 13/100\n",
            "32/32 [==============================] - 0s 3ms/step - loss: 0.6748 - accuracy: 0.5580\n",
            "Epoch 14/100\n",
            "32/32 [==============================] - 0s 3ms/step - loss: 0.6737 - accuracy: 0.5541\n",
            "Epoch 15/100\n",
            "32/32 [==============================] - 0s 3ms/step - loss: 0.6737 - accuracy: 0.5445\n",
            "Epoch 16/100\n",
            "32/32 [==============================] - 0s 3ms/step - loss: 0.6687 - accuracy: 0.5845\n",
            "Epoch 17/100\n",
            "32/32 [==============================] - 0s 3ms/step - loss: 0.6705 - accuracy: 0.5666\n",
            "Epoch 18/100\n",
            "32/32 [==============================] - 0s 3ms/step - loss: 0.6680 - accuracy: 0.5749\n",
            "Epoch 19/100\n",
            "32/32 [==============================] - 0s 3ms/step - loss: 0.6737 - accuracy: 0.5550\n",
            "Epoch 20/100\n",
            "32/32 [==============================] - 0s 3ms/step - loss: 0.6670 - accuracy: 0.5703\n",
            "Epoch 21/100\n",
            "32/32 [==============================] - 0s 3ms/step - loss: 0.6662 - accuracy: 0.5738\n",
            "Epoch 22/100\n",
            "32/32 [==============================] - 0s 3ms/step - loss: 0.6685 - accuracy: 0.5607\n",
            "Epoch 23/100\n",
            "32/32 [==============================] - 0s 3ms/step - loss: 0.6724 - accuracy: 0.5509\n",
            "Epoch 24/100\n",
            "32/32 [==============================] - 0s 3ms/step - loss: 0.6619 - accuracy: 0.5866\n",
            "Epoch 25/100\n",
            "32/32 [==============================] - 0s 4ms/step - loss: 0.6687 - accuracy: 0.5587\n",
            "Epoch 26/100\n",
            "32/32 [==============================] - 0s 3ms/step - loss: 0.6651 - accuracy: 0.5808\n",
            "Epoch 27/100\n",
            "32/32 [==============================] - 0s 3ms/step - loss: 0.6683 - accuracy: 0.5723\n",
            "Epoch 28/100\n",
            "32/32 [==============================] - 0s 3ms/step - loss: 0.6659 - accuracy: 0.5661\n",
            "Epoch 29/100\n",
            "32/32 [==============================] - 0s 3ms/step - loss: 0.6600 - accuracy: 0.5636\n",
            "Epoch 30/100\n",
            "32/32 [==============================] - 0s 3ms/step - loss: 0.6668 - accuracy: 0.5603\n",
            "Epoch 31/100\n",
            "32/32 [==============================] - 0s 3ms/step - loss: 0.6572 - accuracy: 0.5885\n",
            "Epoch 32/100\n",
            "32/32 [==============================] - 0s 3ms/step - loss: 0.6679 - accuracy: 0.5565\n",
            "Epoch 33/100\n",
            "32/32 [==============================] - 0s 3ms/step - loss: 0.6603 - accuracy: 0.5878\n",
            "Epoch 34/100\n",
            "32/32 [==============================] - 0s 3ms/step - loss: 0.6523 - accuracy: 0.6115\n",
            "Epoch 35/100\n",
            "32/32 [==============================] - 0s 3ms/step - loss: 0.6543 - accuracy: 0.6027\n",
            "Epoch 36/100\n",
            "32/32 [==============================] - 0s 3ms/step - loss: 0.6632 - accuracy: 0.5721\n",
            "Epoch 37/100\n",
            "32/32 [==============================] - 0s 3ms/step - loss: 0.6635 - accuracy: 0.5558\n",
            "Epoch 38/100\n",
            "32/32 [==============================] - 0s 3ms/step - loss: 0.6528 - accuracy: 0.5943\n",
            "Epoch 39/100\n",
            "32/32 [==============================] - 0s 3ms/step - loss: 0.6560 - accuracy: 0.5743\n",
            "Epoch 40/100\n",
            "32/32 [==============================] - 0s 3ms/step - loss: 0.6538 - accuracy: 0.5764\n",
            "Epoch 41/100\n",
            "32/32 [==============================] - 0s 3ms/step - loss: 0.6616 - accuracy: 0.5616\n",
            "Epoch 42/100\n",
            "32/32 [==============================] - 0s 3ms/step - loss: 0.6561 - accuracy: 0.5617\n",
            "Epoch 43/100\n",
            "32/32 [==============================] - 0s 3ms/step - loss: 0.6607 - accuracy: 0.5523\n",
            "Epoch 44/100\n",
            "32/32 [==============================] - 0s 3ms/step - loss: 0.6458 - accuracy: 0.5966\n",
            "Epoch 45/100\n",
            "32/32 [==============================] - 0s 3ms/step - loss: 0.6503 - accuracy: 0.5751\n",
            "Epoch 46/100\n",
            "32/32 [==============================] - 0s 3ms/step - loss: 0.6513 - accuracy: 0.5722\n",
            "Epoch 47/100\n",
            "32/32 [==============================] - 0s 3ms/step - loss: 0.6496 - accuracy: 0.5939\n",
            "Epoch 48/100\n",
            "32/32 [==============================] - 0s 3ms/step - loss: 0.6492 - accuracy: 0.5807\n",
            "Epoch 49/100\n",
            "32/32 [==============================] - 0s 3ms/step - loss: 0.6372 - accuracy: 0.5996\n",
            "Epoch 50/100\n",
            "32/32 [==============================] - 0s 3ms/step - loss: 0.6373 - accuracy: 0.6055\n",
            "Epoch 51/100\n",
            "32/32 [==============================] - 0s 3ms/step - loss: 0.6409 - accuracy: 0.5957\n",
            "Epoch 52/100\n",
            "32/32 [==============================] - 0s 3ms/step - loss: 0.6393 - accuracy: 0.6196\n",
            "Epoch 53/100\n",
            "32/32 [==============================] - 0s 4ms/step - loss: 0.6363 - accuracy: 0.5992\n",
            "Epoch 54/100\n",
            "32/32 [==============================] - 0s 3ms/step - loss: 0.6275 - accuracy: 0.6319\n",
            "Epoch 55/100\n",
            "32/32 [==============================] - 0s 3ms/step - loss: 0.6178 - accuracy: 0.6533\n",
            "Epoch 56/100\n",
            "32/32 [==============================] - 0s 3ms/step - loss: 0.6301 - accuracy: 0.6978\n",
            "Epoch 57/100\n",
            "32/32 [==============================] - 0s 3ms/step - loss: 0.6227 - accuracy: 0.6982\n",
            "Epoch 58/100\n",
            "32/32 [==============================] - 0s 3ms/step - loss: 0.6148 - accuracy: 0.7170\n",
            "Epoch 59/100\n",
            "32/32 [==============================] - 0s 3ms/step - loss: 0.6107 - accuracy: 0.7226\n",
            "Epoch 60/100\n",
            "32/32 [==============================] - 0s 3ms/step - loss: 0.6235 - accuracy: 0.7071\n",
            "Epoch 61/100\n",
            "32/32 [==============================] - 0s 3ms/step - loss: 0.6168 - accuracy: 0.7065\n",
            "Epoch 62/100\n",
            "32/32 [==============================] - 0s 3ms/step - loss: 0.6070 - accuracy: 0.7284\n",
            "Epoch 63/100\n",
            "32/32 [==============================] - 0s 3ms/step - loss: 0.5969 - accuracy: 0.7543\n",
            "Epoch 64/100\n",
            "32/32 [==============================] - 0s 3ms/step - loss: 0.6030 - accuracy: 0.7442\n",
            "Epoch 65/100\n",
            "32/32 [==============================] - 0s 3ms/step - loss: 0.5927 - accuracy: 0.7332\n",
            "Epoch 66/100\n",
            "32/32 [==============================] - 0s 3ms/step - loss: 0.5919 - accuracy: 0.7251\n",
            "Epoch 67/100\n",
            "32/32 [==============================] - 0s 3ms/step - loss: 0.5845 - accuracy: 0.7195\n",
            "Epoch 68/100\n",
            "32/32 [==============================] - 0s 3ms/step - loss: 0.5664 - accuracy: 0.7750\n",
            "Epoch 69/100\n",
            "32/32 [==============================] - 0s 3ms/step - loss: 0.5593 - accuracy: 0.8049\n",
            "Epoch 70/100\n",
            "32/32 [==============================] - 0s 3ms/step - loss: 0.5635 - accuracy: 0.7975\n",
            "Epoch 71/100\n",
            "32/32 [==============================] - 0s 3ms/step - loss: 0.5457 - accuracy: 0.8164\n",
            "Epoch 72/100\n",
            "32/32 [==============================] - 0s 3ms/step - loss: 0.5448 - accuracy: 0.8228\n",
            "Epoch 73/100\n",
            "32/32 [==============================] - 0s 4ms/step - loss: 0.5341 - accuracy: 0.8497\n",
            "Epoch 74/100\n",
            "32/32 [==============================] - 0s 3ms/step - loss: 0.5257 - accuracy: 0.8428\n",
            "Epoch 75/100\n",
            "32/32 [==============================] - 0s 3ms/step - loss: 0.5142 - accuracy: 0.8761\n",
            "Epoch 76/100\n",
            "32/32 [==============================] - 0s 3ms/step - loss: 0.5013 - accuracy: 0.8919\n",
            "Epoch 77/100\n",
            "32/32 [==============================] - 0s 3ms/step - loss: 0.4946 - accuracy: 0.9306\n",
            "Epoch 78/100\n",
            "32/32 [==============================] - 0s 3ms/step - loss: 0.4805 - accuracy: 0.9116\n",
            "Epoch 79/100\n",
            "32/32 [==============================] - 0s 4ms/step - loss: 0.4702 - accuracy: 0.9457\n",
            "Epoch 80/100\n",
            "32/32 [==============================] - 0s 3ms/step - loss: 0.4683 - accuracy: 0.9563\n",
            "Epoch 81/100\n",
            "32/32 [==============================] - 0s 3ms/step - loss: 0.4624 - accuracy: 0.9470\n",
            "Epoch 82/100\n",
            "32/32 [==============================] - 0s 3ms/step - loss: 0.4416 - accuracy: 0.9538\n",
            "Epoch 83/100\n",
            "32/32 [==============================] - 0s 3ms/step - loss: 0.4355 - accuracy: 0.9636\n",
            "Epoch 84/100\n",
            "32/32 [==============================] - 0s 3ms/step - loss: 0.4244 - accuracy: 0.9741\n",
            "Epoch 85/100\n",
            "32/32 [==============================] - 0s 3ms/step - loss: 0.4236 - accuracy: 0.9669\n",
            "Epoch 86/100\n",
            "32/32 [==============================] - 0s 3ms/step - loss: 0.4142 - accuracy: 0.9745\n",
            "Epoch 87/100\n",
            "32/32 [==============================] - 0s 3ms/step - loss: 0.3976 - accuracy: 0.9760\n",
            "Epoch 88/100\n",
            "32/32 [==============================] - 0s 3ms/step - loss: 0.3855 - accuracy: 0.9732\n",
            "Epoch 89/100\n",
            "32/32 [==============================] - 0s 3ms/step - loss: 0.3781 - accuracy: 0.9812\n",
            "Epoch 90/100\n",
            "32/32 [==============================] - 0s 3ms/step - loss: 0.3682 - accuracy: 0.9782\n",
            "Epoch 91/100\n",
            "32/32 [==============================] - 0s 3ms/step - loss: 0.3650 - accuracy: 0.9808\n",
            "Epoch 92/100\n",
            "32/32 [==============================] - 0s 3ms/step - loss: 0.3615 - accuracy: 0.9817\n",
            "Epoch 93/100\n",
            "32/32 [==============================] - 0s 3ms/step - loss: 0.3542 - accuracy: 0.9783\n",
            "Epoch 94/100\n",
            "32/32 [==============================] - 0s 3ms/step - loss: 0.3457 - accuracy: 0.9845\n",
            "Epoch 95/100\n",
            "32/32 [==============================] - 0s 3ms/step - loss: 0.3346 - accuracy: 0.9831\n",
            "Epoch 96/100\n",
            "32/32 [==============================] - 0s 3ms/step - loss: 0.3241 - accuracy: 0.9846\n",
            "Epoch 97/100\n",
            "32/32 [==============================] - 0s 3ms/step - loss: 0.3207 - accuracy: 0.9856\n",
            "Epoch 98/100\n",
            "32/32 [==============================] - 0s 3ms/step - loss: 0.3153 - accuracy: 0.9941\n",
            "Epoch 99/100\n",
            "32/32 [==============================] - 0s 3ms/step - loss: 0.3047 - accuracy: 0.9864\n",
            "Epoch 100/100\n",
            "32/32 [==============================] - 0s 3ms/step - loss: 0.2957 - accuracy: 0.9887\n"
          ],
          "name": "stdout"
        }
      ]
    },
    {
      "cell_type": "code",
      "metadata": {
        "colab": {
          "base_uri": "https://localhost:8080/"
        },
        "id": "CQ-EWu5kq8x2",
        "outputId": "20685a1a-7a04-48d8-c477-989eb755ff5c"
      },
      "source": [
        "# Evaluate\n",
        "model_7.evaluate(X,y)"
      ],
      "execution_count": 30,
      "outputs": [
        {
          "output_type": "stream",
          "text": [
            "32/32 [==============================] - 0s 2ms/step - loss: 0.2948 - accuracy: 0.9910\n"
          ],
          "name": "stdout"
        },
        {
          "output_type": "execute_result",
          "data": {
            "text/plain": [
              "[0.2948005199432373, 0.9909999966621399]"
            ]
          },
          "metadata": {
            "tags": []
          },
          "execution_count": 30
        }
      ]
    },
    {
      "cell_type": "code",
      "metadata": {
        "colab": {
          "base_uri": "https://localhost:8080/",
          "height": 282
        },
        "id": "R7Isf7dnrQYm",
        "outputId": "b526496d-9c61-493b-e296-0d5de974c513"
      },
      "source": [
        "# Visualize\n",
        "plot_decision_boundary(model_7,X,y)"
      ],
      "execution_count": 31,
      "outputs": [
        {
          "output_type": "stream",
          "text": [
            "doing binarry classification\n"
          ],
          "name": "stdout"
        },
        {
          "output_type": "display_data",
          "data": {
            "image/png": "[encoded data removed]",
            "text/plain": [
              "<Figure size 432x288 with 1 Axes>"
            ]
          },
          "metadata": {
            "tags": [],
            "needs_background": "light"
          }
        }
      ]
    },
    {
      "cell_type": "code",
      "metadata": {
        "id": "iyU5vJA7rZlv",
        "colab": {
          "base_uri": "https://localhost:8080/"
        },
        "outputId": "a9d387f6-1562-442d-a861-0bdb244bff56"
      },
      "source": [
        "# Create a toy tensor (similar to the data we pass in our model)\n",
        "\n",
        "A = tf.cast(tf.range(-10,10),tf.float32)\n",
        "A"
      ],
      "execution_count": 32,
      "outputs": [
        {
          "output_type": "execute_result",
          "data": {
            "text/plain": [
              "<tf.Tensor: shape=(20,), dtype=float32, numpy=\n",
              "array([-10.,  -9.,  -8.,  -7.,  -6.,  -5.,  -4.,  -3.,  -2.,  -1.,   0.,\n",
              "         1.,   2.,   3.,   4.,   5.,   6.,   7.,   8.,   9.],\n",
              "      dtype=float32)>"
            ]
          },
          "metadata": {
            "tags": []
          },
          "execution_count": 32
        }
      ]
    },
    {
      "cell_type": "code",
      "metadata": {
        "colab": {
          "base_uri": "https://localhost:8080/",
          "height": 265
        },
        "id": "w2RgjxQj3sKq",
        "outputId": "269b2fc8-0a63-42b7-c779-342cc1e3ef76"
      },
      "source": [
        "# Visualize our toy tensor\n",
        "plt.plot(A);"
      ],
      "execution_count": 33,
      "outputs": [
        {
          "output_type": "display_data",
          "data": {
            "image/png": "[encoded data removed]",
            "text/plain": [
              "<Figure size 432x288 with 1 Axes>"
            ]
          },
          "metadata": {
            "tags": [],
            "needs_background": "light"
          }
        }
      ]
    },
    {
      "cell_type": "code",
      "metadata": {
        "colab": {
          "base_uri": "https://localhost:8080/"
        },
        "id": "H0Uzn_6U35UJ",
        "outputId": "fcb235af-0f98-4730-bba8-ce6b4ed1cde9"
      },
      "source": [
        "# Let's start by replicating sigmoid - sigmoid(x) = 1/(1+exp(-x))\n",
        "def sigmoid(x):\n",
        "  return 1/(1+tf.exp(-x))\n",
        "\n",
        "# USe the sigmoid on out toy tensor\n",
        "sigmoid(A)"
      ],
      "execution_count": 34,
      "outputs": [
        {
          "output_type": "execute_result",
          "data": {
            "text/plain": [
              "<tf.Tensor: shape=(20,), dtype=float32, numpy=\n",
              "array([4.5397868e-05, 1.2339458e-04, 3.3535014e-04, 9.1105117e-04,\n",
              "       2.4726230e-03, 6.6928510e-03, 1.7986210e-02, 4.7425874e-02,\n",
              "       1.1920292e-01, 2.6894143e-01, 5.0000000e-01, 7.3105854e-01,\n",
              "       8.8079703e-01, 9.5257413e-01, 9.8201376e-01, 9.9330717e-01,\n",
              "       9.9752742e-01, 9.9908900e-01, 9.9966466e-01, 9.9987662e-01],\n",
              "      dtype=float32)>"
            ]
          },
          "metadata": {
            "tags": []
          },
          "execution_count": 34
        }
      ]
    },
    {
      "cell_type": "code",
      "metadata": {
        "colab": {
          "base_uri": "https://localhost:8080/",
          "height": 282
        },
        "id": "YiSSZRjq4ugF",
        "outputId": "979a4bdb-9fd3-43be-b405-b325f6faad16"
      },
      "source": [
        "# Plot out toy tensor transformed by sigmoid\n",
        "plt.plot(sigmoid(A))"
      ],
      "execution_count": 35,
      "outputs": [
        {
          "output_type": "execute_result",
          "data": {
            "text/plain": [
              "[<matplotlib.lines.Line2D at 0x7fee023cad10>]"
            ]
          },
          "metadata": {
            "tags": []
          },
          "execution_count": 35
        },
        {
          "output_type": "display_data",
          "data": {
            "image/png": "[encoded data removed]",
            "text/plain": [
              "<Figure size 432x288 with 1 Axes>"
            ]
          },
          "metadata": {
            "tags": [],
            "needs_background": "light"
          }
        }
      ]
    },
    {
      "cell_type": "code",
      "metadata": {
        "colab": {
          "base_uri": "https://localhost:8080/"
        },
        "id": "JjjhqQti46S_",
        "outputId": "0a532d10-15c5-4c02-c6ad-6179d98e4486"
      },
      "source": [
        "# Let's recreate relu function\n",
        "def relu(x):\n",
        "  return tf.maximum(0,x)\n",
        "\n",
        "relu(A)"
      ],
      "execution_count": 36,
      "outputs": [
        {
          "output_type": "execute_result",
          "data": {
            "text/plain": [
              "<tf.Tensor: shape=(20,), dtype=float32, numpy=\n",
              "array([0., 0., 0., 0., 0., 0., 0., 0., 0., 0., 0., 1., 2., 3., 4., 5., 6.,\n",
              "       7., 8., 9.], dtype=float32)>"
            ]
          },
          "metadata": {
            "tags": []
          },
          "execution_count": 36
        }
      ]
    },
    {
      "cell_type": "code",
      "metadata": {
        "colab": {
          "base_uri": "https://localhost:8080/",
          "height": 282
        },
        "id": "aQixc9Hr5rVM",
        "outputId": "0944e110-2807-4fd6-e4fd-72b927cb53ff"
      },
      "source": [
        "# Plot out toy tensor transformed by relu\n",
        "plt.plot(relu(A))"
      ],
      "execution_count": 37,
      "outputs": [
        {
          "output_type": "execute_result",
          "data": {
            "text/plain": [
              "[<matplotlib.lines.Line2D at 0x7fee02357f90>]"
            ]
          },
          "metadata": {
            "tags": []
          },
          "execution_count": 37
        },
        {
          "output_type": "display_data",
          "data": {
            "image/png": "[encoded data removed]",
            "text/plain": [
              "<Figure size 432x288 with 1 Axes>"
            ]
          },
          "metadata": {
            "tags": [],
            "needs_background": "light"
          }
        }
      ]
    },
    {
      "cell_type": "code",
      "metadata": {
        "colab": {
          "base_uri": "https://localhost:8080/"
        },
        "id": "zbF0z04V5xix",
        "outputId": "3027e47d-a52e-4c38-aeed-3dfff7831389"
      },
      "source": [
        "# Let's try linear activation function\n",
        "tf.keras.activations.linear(A)"
      ],
      "execution_count": 38,
      "outputs": [
        {
          "output_type": "execute_result",
          "data": {
            "text/plain": [
              "<tf.Tensor: shape=(20,), dtype=float32, numpy=\n",
              "array([-10.,  -9.,  -8.,  -7.,  -6.,  -5.,  -4.,  -3.,  -2.,  -1.,   0.,\n",
              "         1.,   2.,   3.,   4.,   5.,   6.,   7.,   8.,   9.],\n",
              "      dtype=float32)>"
            ]
          },
          "metadata": {
            "tags": []
          },
          "execution_count": 38
        }
      ]
    },
    {
      "cell_type": "code",
      "metadata": {
        "colab": {
          "base_uri": "https://localhost:8080/",
          "height": 282
        },
        "id": "dyujCPyj6bgM",
        "outputId": "a7ad6d1f-d86a-4d92-f89a-2706afbffcb2"
      },
      "source": [
        "plt.plot(tf.keras.activations.linear(A))"
      ],
      "execution_count": 39,
      "outputs": [
        {
          "output_type": "execute_result",
          "data": {
            "text/plain": [
              "[<matplotlib.lines.Line2D at 0x7fee023655d0>]"
            ]
          },
          "metadata": {
            "tags": []
          },
          "execution_count": 39
        },
        {
          "output_type": "display_data",
          "data": {
            "image/png": "[encoded data removed]",
            "text/plain": [
              "<Figure size 432x288 with 1 Axes>"
            ]
          },
          "metadata": {
            "tags": [],
            "needs_background": "light"
          }
        }
      ]
    },
    {
      "cell_type": "code",
      "metadata": {
        "colab": {
          "base_uri": "https://localhost:8080/"
        },
        "id": "FvSWnEIY6gab",
        "outputId": "ed9e8875-44a2-4b3a-b967-ea32603c5d8c"
      },
      "source": [
        "A == tf.keras.activations.linear(A)"
      ],
      "execution_count": 40,
      "outputs": [
        {
          "output_type": "execute_result",
          "data": {
            "text/plain": [
              "<tf.Tensor: shape=(20,), dtype=bool, numpy=\n",
              "array([ True,  True,  True,  True,  True,  True,  True,  True,  True,\n",
              "        True,  True,  True,  True,  True,  True,  True,  True,  True,\n",
              "        True,  True])>"
            ]
          },
          "metadata": {
            "tags": []
          },
          "execution_count": 40
        }
      ]
    },
    {
      "cell_type": "markdown",
      "metadata": {
        "id": "k_Vg_pjDALga"
      },
      "source": [
        "## Evaluating and improving our classification\n",
        "\n",
        "So far we've been training and testing on the same dataset...\n",
        "\n",
        "However, in machine learning this is basically a sin 😂.\n",
        "\n",
        "So let's create a training and test set."
      ]
    },
    {
      "cell_type": "code",
      "metadata": {
        "id": "IeHqYSj26nMz",
        "colab": {
          "base_uri": "https://localhost:8080/"
        },
        "outputId": "e8f73468-ad37-4825-c2a1-0e94a3299575"
      },
      "source": [
        "# Check how many examples we havr\n",
        "len(X)"
      ],
      "execution_count": 41,
      "outputs": [
        {
          "output_type": "execute_result",
          "data": {
            "text/plain": [
              "1000"
            ]
          },
          "metadata": {
            "tags": []
          },
          "execution_count": 41
        }
      ]
    },
    {
      "cell_type": "code",
      "metadata": {
        "colab": {
          "base_uri": "https://localhost:8080/"
        },
        "id": "XriUYEE5HVY-",
        "outputId": "ebef02bb-0c9f-4177-c53d-4d68763aab69"
      },
      "source": [
        "X,y"
      ],
      "execution_count": 42,
      "outputs": [
        {
          "output_type": "execute_result",
          "data": {
            "text/plain": [
              "(array([[ 0.75424625,  0.23148074],\n",
              "        [-0.75615888,  0.15325888],\n",
              "        [-0.81539193,  0.17328203],\n",
              "        ...,\n",
              "        [-0.13690036, -0.81001183],\n",
              "        [ 0.67036156, -0.76750154],\n",
              "        [ 0.28105665,  0.96382443]]),\n",
              " array([1, 1, 1, 1, 0, 1, 1, 1, 1, 0, 1, 0, 1, 1, 1, 1, 0, 1, 1, 0, 1, 0,\n",
              "        0, 1, 0, 0, 0, 1, 1, 1, 0, 0, 1, 0, 0, 0, 1, 1, 1, 0, 0, 0, 0, 1,\n",
              "        0, 0, 1, 1, 0, 1, 1, 1, 0, 1, 0, 0, 1, 0, 0, 1, 0, 0, 1, 0, 1, 1,\n",
              "        1, 1, 0, 1, 0, 0, 1, 1, 0, 0, 1, 0, 1, 0, 1, 0, 0, 0, 0, 1, 1, 1,\n",
              "        1, 0, 0, 0, 1, 0, 1, 0, 1, 0, 0, 1, 1, 0, 1, 0, 1, 1, 1, 1, 0, 1,\n",
              "        1, 1, 1, 1, 0, 0, 0, 1, 1, 0, 1, 0, 1, 0, 0, 1, 1, 0, 1, 1, 1, 1,\n",
              "        0, 1, 1, 0, 0, 0, 0, 0, 0, 0, 1, 0, 1, 1, 1, 0, 1, 0, 1, 0, 1, 0,\n",
              "        1, 0, 0, 1, 0, 1, 1, 1, 1, 1, 1, 1, 0, 1, 0, 0, 0, 0, 0, 1, 0, 0,\n",
              "        0, 0, 1, 1, 0, 1, 0, 1, 1, 0, 0, 0, 1, 1, 1, 1, 1, 0, 0, 0, 0, 0,\n",
              "        1, 0, 0, 1, 1, 1, 1, 1, 0, 1, 0, 1, 0, 0, 1, 1, 1, 0, 1, 0, 1, 1,\n",
              "        0, 1, 1, 0, 1, 0, 1, 0, 1, 1, 0, 1, 0, 1, 0, 0, 0, 1, 0, 0, 0, 0,\n",
              "        1, 1, 0, 0, 0, 0, 0, 0, 0, 1, 1, 1, 0, 0, 1, 1, 1, 0, 1, 0, 0, 0,\n",
              "        0, 1, 1, 0, 1, 0, 0, 0, 1, 0, 1, 0, 0, 1, 0, 1, 1, 1, 0, 0, 0, 1,\n",
              "        0, 0, 0, 1, 1, 1, 1, 0, 0, 0, 1, 0, 0, 0, 1, 0, 0, 0, 1, 1, 0, 1,\n",
              "        1, 1, 1, 1, 1, 1, 0, 0, 0, 0, 1, 0, 0, 0, 0, 1, 1, 1, 0, 0, 1, 0,\n",
              "        1, 0, 1, 1, 0, 0, 1, 1, 1, 1, 0, 0, 0, 0, 0, 0, 1, 1, 0, 1, 0, 0,\n",
              "        1, 0, 0, 0, 0, 0, 0, 0, 0, 1, 0, 0, 0, 0, 1, 0, 0, 1, 0, 1, 0, 0,\n",
              "        0, 1, 0, 0, 1, 1, 0, 0, 1, 0, 0, 1, 1, 0, 1, 1, 0, 0, 1, 0, 1, 0,\n",
              "        0, 0, 1, 1, 0, 0, 1, 1, 1, 1, 1, 0, 0, 1, 1, 1, 1, 0, 1, 1, 1, 1,\n",
              "        1, 0, 0, 1, 0, 1, 0, 0, 0, 0, 1, 0, 0, 0, 0, 0, 0, 0, 0, 0, 1, 1,\n",
              "        0, 1, 1, 1, 1, 1, 1, 0, 1, 1, 1, 1, 0, 0, 0, 1, 1, 1, 0, 0, 0, 0,\n",
              "        1, 1, 0, 0, 0, 0, 1, 0, 0, 0, 1, 0, 0, 1, 1, 1, 1, 1, 1, 0, 0, 0,\n",
              "        1, 0, 0, 0, 0, 0, 1, 1, 1, 0, 0, 0, 0, 0, 1, 1, 1, 0, 0, 1, 1, 1,\n",
              "        1, 0, 1, 1, 0, 1, 0, 0, 0, 1, 0, 0, 1, 0, 0, 1, 1, 0, 0, 1, 1, 0,\n",
              "        1, 0, 1, 0, 1, 0, 1, 0, 0, 0, 1, 0, 0, 0, 0, 0, 0, 1, 1, 1, 1, 0,\n",
              "        0, 0, 1, 0, 1, 1, 0, 0, 0, 0, 0, 1, 1, 1, 0, 0, 1, 0, 0, 1, 0, 0,\n",
              "        1, 0, 0, 1, 0, 0, 0, 1, 0, 0, 1, 1, 1, 0, 1, 1, 0, 0, 0, 1, 1, 1,\n",
              "        1, 0, 0, 1, 1, 1, 0, 0, 0, 0, 1, 1, 0, 0, 1, 1, 0, 0, 1, 1, 1, 1,\n",
              "        1, 1, 1, 0, 1, 0, 1, 0, 0, 1, 0, 1, 1, 1, 1, 0, 0, 1, 1, 0, 0, 1,\n",
              "        0, 1, 0, 0, 0, 1, 0, 0, 1, 1, 1, 1, 0, 1, 1, 1, 1, 1, 1, 1, 0, 1,\n",
              "        0, 1, 1, 1, 0, 0, 1, 0, 0, 0, 1, 1, 1, 1, 0, 0, 0, 0, 1, 0, 1, 1,\n",
              "        1, 0, 1, 0, 0, 1, 0, 0, 1, 1, 1, 1, 1, 0, 1, 0, 0, 0, 1, 1, 1, 1,\n",
              "        1, 0, 0, 0, 1, 1, 1, 1, 0, 0, 0, 0, 0, 1, 1, 0, 1, 0, 1, 0, 0, 0,\n",
              "        0, 0, 0, 0, 0, 0, 1, 1, 1, 1, 1, 0, 1, 0, 1, 1, 1, 1, 0, 1, 1, 1,\n",
              "        1, 1, 1, 1, 1, 0, 1, 1, 0, 1, 0, 0, 0, 1, 0, 1, 1, 1, 0, 1, 1, 0,\n",
              "        1, 1, 0, 1, 0, 1, 1, 0, 0, 1, 1, 1, 0, 0, 0, 0, 1, 1, 0, 0, 1, 1,\n",
              "        1, 1, 1, 1, 1, 1, 1, 1, 1, 1, 1, 1, 0, 0, 1, 0, 1, 0, 1, 0, 1, 1,\n",
              "        1, 1, 1, 1, 0, 1, 0, 1, 1, 1, 0, 1, 1, 0, 0, 1, 0, 1, 1, 0, 0, 1,\n",
              "        1, 1, 1, 1, 1, 1, 1, 0, 1, 1, 1, 0, 1, 0, 0, 1, 1, 0, 0, 0, 1, 0,\n",
              "        0, 1, 0, 0, 0, 1, 0, 1, 0, 0, 0, 0, 1, 0, 1, 1, 1, 1, 0, 1, 0, 0,\n",
              "        0, 0, 0, 0, 1, 0, 1, 0, 1, 0, 1, 1, 1, 0, 1, 0, 1, 0, 0, 1, 1, 1,\n",
              "        0, 0, 0, 1, 1, 0, 1, 0, 1, 1, 0, 1, 0, 0, 1, 1, 1, 0, 0, 0, 1, 1,\n",
              "        0, 0, 0, 0, 0, 1, 1, 0, 1, 0, 0, 0, 1, 0, 0, 0, 1, 1, 1, 1, 0, 1,\n",
              "        1, 1, 0, 1, 1, 1, 1, 0, 1, 1, 0, 1, 1, 0, 0, 1, 1, 1, 0, 0, 0, 0,\n",
              "        0, 0, 1, 0, 0, 1, 0, 0, 0, 1, 0, 1, 0, 1, 1, 0, 0, 0, 0, 0, 0, 0,\n",
              "        0, 1, 0, 1, 0, 0, 0, 1, 0, 0]))"
            ]
          },
          "metadata": {
            "tags": []
          },
          "execution_count": 42
        }
      ]
    },
    {
      "cell_type": "code",
      "metadata": {
        "colab": {
          "base_uri": "https://localhost:8080/"
        },
        "id": "mWlb3hGKHV95",
        "outputId": "3d285597-ec94-4210-9c4f-f43232d37b6d"
      },
      "source": [
        "# Split into train and test sets\n",
        "X_train,y_train = X[:800],y[:800]\n",
        "X_test,y_test = X[800:],y[800:]\n",
        "\n",
        "X_train.shape,y_train.shape,X_test.shape,y_test.shape"
      ],
      "execution_count": 43,
      "outputs": [
        {
          "output_type": "execute_result",
          "data": {
            "text/plain": [
              "((800, 2), (800,), (200, 2), (200,))"
            ]
          },
          "metadata": {
            "tags": []
          },
          "execution_count": 43
        }
      ]
    },
    {
      "cell_type": "code",
      "metadata": {
        "colab": {
          "base_uri": "https://localhost:8080/"
        },
        "id": "7GrmjJBsHuPa",
        "outputId": "70b2eb8f-83dc-4cb4-8edd-b4c2cf610131"
      },
      "source": [
        "# Let's recreate a model to fit on the training data and evaluate on the testing data\n",
        "\n",
        "# Random Seed\n",
        "tf.random.set_seed(42)\n",
        "\n",
        "# Create model\n",
        "model_8 = tf.keras.Sequential([\n",
        "   tf.keras.layers.Dense(4,activation=\"relu\"),\n",
        "   tf.keras.layers.Dense(4,activation=\"relu\"),\n",
        "   tf.keras.layers.Dense(1,activation=\"sigmoid\")\n",
        "])\n",
        "\n",
        "# Compile\n",
        "model_8.compile(loss=\"binary_crossentropy\",\n",
        "                optimizer=tf.keras.optimizers.Adam(lr=0.01),\n",
        "                metrics=[\"accuracy\"])\n",
        "\n",
        "# Fit\n",
        "history = model_8.fit(X_train,y_train,epochs=25)"
      ],
      "execution_count": 44,
      "outputs": [
        {
          "output_type": "stream",
          "text": [
            "Epoch 1/25\n",
            "25/25 [==============================] - 1s 2ms/step - loss: 0.6840 - accuracy: 0.5196\n",
            "Epoch 2/25\n",
            "25/25 [==============================] - 0s 2ms/step - loss: 0.6816 - accuracy: 0.5344\n",
            "Epoch 3/25\n",
            "25/25 [==============================] - 0s 3ms/step - loss: 0.6753 - accuracy: 0.5371\n",
            "Epoch 4/25\n",
            "25/25 [==============================] - 0s 3ms/step - loss: 0.6685 - accuracy: 0.5943\n",
            "Epoch 5/25\n",
            "25/25 [==============================] - 0s 2ms/step - loss: 0.6624 - accuracy: 0.5837\n",
            "Epoch 6/25\n",
            "25/25 [==============================] - 0s 3ms/step - loss: 0.6512 - accuracy: 0.5798\n",
            "Epoch 7/25\n",
            "25/25 [==============================] - 0s 3ms/step - loss: 0.6428 - accuracy: 0.6507\n",
            "Epoch 8/25\n",
            "25/25 [==============================] - 0s 2ms/step - loss: 0.6139 - accuracy: 0.7259\n",
            "Epoch 9/25\n",
            "25/25 [==============================] - 0s 2ms/step - loss: 0.6021 - accuracy: 0.7919\n",
            "Epoch 10/25\n",
            "25/25 [==============================] - 0s 2ms/step - loss: 0.5724 - accuracy: 0.7704\n",
            "Epoch 11/25\n",
            "25/25 [==============================] - 0s 3ms/step - loss: 0.5513 - accuracy: 0.7452\n",
            "Epoch 12/25\n",
            "25/25 [==============================] - 0s 2ms/step - loss: 0.4921 - accuracy: 0.7979\n",
            "Epoch 13/25\n",
            "25/25 [==============================] - 0s 2ms/step - loss: 0.4734 - accuracy: 0.7859\n",
            "Epoch 14/25\n",
            "25/25 [==============================] - 0s 3ms/step - loss: 0.4316 - accuracy: 0.8306\n",
            "Epoch 15/25\n",
            "25/25 [==============================] - 0s 2ms/step - loss: 0.3666 - accuracy: 0.9094\n",
            "Epoch 16/25\n",
            "25/25 [==============================] - 0s 2ms/step - loss: 0.3373 - accuracy: 0.9302\n",
            "Epoch 17/25\n",
            "25/25 [==============================] - 0s 2ms/step - loss: 0.2898 - accuracy: 0.9376\n",
            "Epoch 18/25\n",
            "25/25 [==============================] - 0s 3ms/step - loss: 0.2796 - accuracy: 0.9426\n",
            "Epoch 19/25\n",
            "25/25 [==============================] - 0s 2ms/step - loss: 0.2304 - accuracy: 0.9659\n",
            "Epoch 20/25\n",
            "25/25 [==============================] - 0s 2ms/step - loss: 0.2201 - accuracy: 0.9624\n",
            "Epoch 21/25\n",
            "25/25 [==============================] - 0s 2ms/step - loss: 0.1995 - accuracy: 0.9793\n",
            "Epoch 22/25\n",
            "25/25 [==============================] - 0s 3ms/step - loss: 0.1815 - accuracy: 0.9702\n",
            "Epoch 23/25\n",
            "25/25 [==============================] - 0s 2ms/step - loss: 0.1516 - accuracy: 0.9859\n",
            "Epoch 24/25\n",
            "25/25 [==============================] - 0s 3ms/step - loss: 0.1504 - accuracy: 0.9802\n",
            "Epoch 25/25\n",
            "25/25 [==============================] - 0s 3ms/step - loss: 0.1455 - accuracy: 0.9749\n"
          ],
          "name": "stdout"
        }
      ]
    },
    {
      "cell_type": "code",
      "metadata": {
        "colab": {
          "base_uri": "https://localhost:8080/"
        },
        "id": "ZWO4eOoEJUJJ",
        "outputId": "93c91ab5-08a2-4f5d-c68a-27a44e4cd52d"
      },
      "source": [
        "# evaluate\n",
        "model_8.evaluate(X_test,y_test)"
      ],
      "execution_count": 45,
      "outputs": [
        {
          "output_type": "stream",
          "text": [
            "7/7 [==============================] - 0s 3ms/step - loss: 0.1247 - accuracy: 1.0000\n"
          ],
          "name": "stdout"
        },
        {
          "output_type": "execute_result",
          "data": {
            "text/plain": [
              "[0.12468845397233963, 1.0]"
            ]
          },
          "metadata": {
            "tags": []
          },
          "execution_count": 45
        }
      ]
    },
    {
      "cell_type": "code",
      "metadata": {
        "colab": {
          "base_uri": "https://localhost:8080/",
          "height": 379
        },
        "id": "bXd5BlaaJnVC",
        "outputId": "348f3037-38b1-4199-c91b-4a66073f0a76"
      },
      "source": [
        "# Plot the decision boundary for the training and test sets\n",
        "plt.figure(figsize=(12,6))\n",
        "plt.subplot(1,2,1)\n",
        "plt.title(\"Train\")\n",
        "plot_decision_boundary(model_8,X=X_train,y=y_train)\n",
        "plt.subplot(1,2,2)\n",
        "plt.title(\"Test\")\n",
        "plot_decision_boundary(model_8,X=X_test,y=y_test)\n",
        "plt.show();"
      ],
      "execution_count": 46,
      "outputs": [
        {
          "output_type": "stream",
          "text": [
            "doing binarry classification\n",
            "doing binarry classification\n"
          ],
          "name": "stdout"
        },
        {
          "output_type": "display_data",
          "data": {
            "image/png": "[encoded data removed]",
            "text/plain": [
              "<Figure size 864x432 with 2 Axes>"
            ]
          },
          "metadata": {
            "tags": [],
            "needs_background": "light"
          }
        }
      ]
    },
    {
      "cell_type": "markdown",
      "metadata": {
        "id": "ppyG_6bFCAFa"
      },
      "source": [
        "## Plot the loss (or training) curves"
      ]
    },
    {
      "cell_type": "code",
      "metadata": {
        "id": "d7RGPya0KMtv",
        "colab": {
          "base_uri": "https://localhost:8080/",
          "height": 824
        },
        "outputId": "dbcf0165-e00e-4fdc-f463-3a8545fda513"
      },
      "source": [
        "# Convert the history object into a DataFrame\n",
        "pd.DataFrame(history.history)"
      ],
      "execution_count": 47,
      "outputs": [
        {
          "output_type": "execute_result",
          "data": {
            "text/html": [
              "<div>\n",
              "<style scoped>\n",
              "    .dataframe tbody tr th:only-of-type {\n",
              "        vertical-align: middle;\n",
              "    }\n",
              "\n",
              "    .dataframe tbody tr th {\n",
              "        vertical-align: top;\n",
              "    }\n",
              "\n",
              "    .dataframe thead th {\n",
              "        text-align: right;\n",
              "    }\n",
              "</style>\n",
              "<table border=\"1\" class=\"dataframe\">\n",
              "  <thead>\n",
              "    <tr style=\"text-align: right;\">\n",
              "      <th></th>\n",
              "      <th>loss</th>\n",
              "      <th>accuracy</th>\n",
              "    </tr>\n",
              "  </thead>\n",
              "  <tbody>\n",
              "    <tr>\n",
              "      <th>0</th>\n",
              "      <td>0.684651</td>\n",
              "      <td>0.54250</td>\n",
              "    </tr>\n",
              "    <tr>\n",
              "      <th>1</th>\n",
              "      <td>0.677721</td>\n",
              "      <td>0.55250</td>\n",
              "    </tr>\n",
              "    <tr>\n",
              "      <th>2</th>\n",
              "      <td>0.673595</td>\n",
              "      <td>0.55125</td>\n",
              "    </tr>\n",
              "    <tr>\n",
              "      <th>3</th>\n",
              "      <td>0.668149</td>\n",
              "      <td>0.57750</td>\n",
              "    </tr>\n",
              "    <tr>\n",
              "      <th>4</th>\n",
              "      <td>0.663269</td>\n",
              "      <td>0.58500</td>\n",
              "    </tr>\n",
              "    <tr>\n",
              "      <th>5</th>\n",
              "      <td>0.654567</td>\n",
              "      <td>0.58375</td>\n",
              "    </tr>\n",
              "    <tr>\n",
              "      <th>6</th>\n",
              "      <td>0.641257</td>\n",
              "      <td>0.67500</td>\n",
              "    </tr>\n",
              "    <tr>\n",
              "      <th>7</th>\n",
              "      <td>0.626428</td>\n",
              "      <td>0.70125</td>\n",
              "    </tr>\n",
              "    <tr>\n",
              "      <th>8</th>\n",
              "      <td>0.603831</td>\n",
              "      <td>0.74875</td>\n",
              "    </tr>\n",
              "    <tr>\n",
              "      <th>9</th>\n",
              "      <td>0.571404</td>\n",
              "      <td>0.77375</td>\n",
              "    </tr>\n",
              "    <tr>\n",
              "      <th>10</th>\n",
              "      <td>0.540443</td>\n",
              "      <td>0.76500</td>\n",
              "    </tr>\n",
              "    <tr>\n",
              "      <th>11</th>\n",
              "      <td>0.501504</td>\n",
              "      <td>0.78375</td>\n",
              "    </tr>\n",
              "    <tr>\n",
              "      <th>12</th>\n",
              "      <td>0.468332</td>\n",
              "      <td>0.79750</td>\n",
              "    </tr>\n",
              "    <tr>\n",
              "      <th>13</th>\n",
              "      <td>0.411302</td>\n",
              "      <td>0.84500</td>\n",
              "    </tr>\n",
              "    <tr>\n",
              "      <th>14</th>\n",
              "      <td>0.362506</td>\n",
              "      <td>0.91250</td>\n",
              "    </tr>\n",
              "    <tr>\n",
              "      <th>15</th>\n",
              "      <td>0.320904</td>\n",
              "      <td>0.93125</td>\n",
              "    </tr>\n",
              "    <tr>\n",
              "      <th>16</th>\n",
              "      <td>0.284708</td>\n",
              "      <td>0.94875</td>\n",
              "    </tr>\n",
              "    <tr>\n",
              "      <th>17</th>\n",
              "      <td>0.259720</td>\n",
              "      <td>0.95250</td>\n",
              "    </tr>\n",
              "    <tr>\n",
              "      <th>18</th>\n",
              "      <td>0.237469</td>\n",
              "      <td>0.95625</td>\n",
              "    </tr>\n",
              "    <tr>\n",
              "      <th>19</th>\n",
              "      <td>0.213520</td>\n",
              "      <td>0.96625</td>\n",
              "    </tr>\n",
              "    <tr>\n",
              "      <th>20</th>\n",
              "      <td>0.193820</td>\n",
              "      <td>0.97750</td>\n",
              "    </tr>\n",
              "    <tr>\n",
              "      <th>21</th>\n",
              "      <td>0.175244</td>\n",
              "      <td>0.97375</td>\n",
              "    </tr>\n",
              "    <tr>\n",
              "      <th>22</th>\n",
              "      <td>0.161893</td>\n",
              "      <td>0.97875</td>\n",
              "    </tr>\n",
              "    <tr>\n",
              "      <th>23</th>\n",
              "      <td>0.154989</td>\n",
              "      <td>0.97750</td>\n",
              "    </tr>\n",
              "    <tr>\n",
              "      <th>24</th>\n",
              "      <td>0.148973</td>\n",
              "      <td>0.97625</td>\n",
              "    </tr>\n",
              "  </tbody>\n",
              "</table>\n",
              "</div>"
            ],
            "text/plain": [
              "        loss  accuracy\n",
              "0   0.684651   0.54250\n",
              "1   0.677721   0.55250\n",
              "2   0.673595   0.55125\n",
              "3   0.668149   0.57750\n",
              "4   0.663269   0.58500\n",
              "5   0.654567   0.58375\n",
              "6   0.641257   0.67500\n",
              "7   0.626428   0.70125\n",
              "8   0.603831   0.74875\n",
              "9   0.571404   0.77375\n",
              "10  0.540443   0.76500\n",
              "11  0.501504   0.78375\n",
              "12  0.468332   0.79750\n",
              "13  0.411302   0.84500\n",
              "14  0.362506   0.91250\n",
              "15  0.320904   0.93125\n",
              "16  0.284708   0.94875\n",
              "17  0.259720   0.95250\n",
              "18  0.237469   0.95625\n",
              "19  0.213520   0.96625\n",
              "20  0.193820   0.97750\n",
              "21  0.175244   0.97375\n",
              "22  0.161893   0.97875\n",
              "23  0.154989   0.97750\n",
              "24  0.148973   0.97625"
            ]
          },
          "metadata": {
            "tags": []
          },
          "execution_count": 47
        }
      ]
    },
    {
      "cell_type": "code",
      "metadata": {
        "colab": {
          "base_uri": "https://localhost:8080/",
          "height": 281
        },
        "id": "9QbaceqqRRsI",
        "outputId": "9e8a275c-c23e-4ee2-94f3-7a6cdd2d21a2"
      },
      "source": [
        "# Plot the loss curves\n",
        "pd.DataFrame(history.history).plot()\n",
        "plt.title(\"Model_8 loss curves\");"
      ],
      "execution_count": 48,
      "outputs": [
        {
          "output_type": "display_data",
          "data": {
            "image/png": "[encoded data removed]",
            "text/plain": [
              "<Figure size 432x288 with 1 Axes>"
            ]
          },
          "metadata": {
            "tags": [],
            "needs_background": "light"
          }
        }
      ]
    },
    {
      "cell_type": "markdown",
      "metadata": {
        "id": "LOse5L0WT3iC"
      },
      "source": [
        "## Finding the best learning rate\n",
        "\n",
        "To find the ideal learning rate (the learning rate where the loss decreases the most during training) we're going to use the following steps:\n",
        "* A learning rate **callback** - you can think of a callback as an extra piece of functionality, you can add to your *while* it's training.\n",
        "* Another model (we could use the same one as above, but we're practicing building models here)\n",
        "* A modified loss curves plot."
      ]
    },
    {
      "cell_type": "code",
      "metadata": {
        "id": "lB63Pj7hRyHM",
        "colab": {
          "base_uri": "https://localhost:8080/"
        },
        "outputId": "20c8d6b2-c67c-4127-b96d-b3e5df999129"
      },
      "source": [
        "# Set random seed\n",
        "tf.random.set_seed(42)\n",
        "\n",
        "# Create model\n",
        "model_9 = tf.keras.Sequential([\n",
        "   tf.keras.layers.Dense(4,activation=\"relu\"),\n",
        "   tf.keras.layers.Dense(4,activation=\"relu\"),\n",
        "   tf.keras.layers.Dense(1,activation=\"sigmoid\")\n",
        "])\n",
        "\n",
        "# Compile model\n",
        "model_9.compile(loss=\"binary_crossentropy\",\n",
        "                optimizer=\"Adam\",\n",
        "                metrics=[\"accuracy\"])\n",
        "\n",
        "# Create a learning rate callback\n",
        "lr_scheduler = tf.keras.callbacks.LearningRateScheduler(lambda epoch: 1e-4 * 10**(epoch/20))\n",
        "\n",
        "# Fit model (passing lr_scheduler callback)\n",
        "history_9 = model_9.fit(X_train,y_train,epochs=100,callbacks=[lr_scheduler])"
      ],
      "execution_count": 49,
      "outputs": [
        {
          "output_type": "stream",
          "text": [
            "Epoch 1/100\n",
            "25/25 [==============================] - 1s 2ms/step - loss: 0.6909 - accuracy: 0.5016\n",
            "Epoch 2/100\n",
            "25/25 [==============================] - 0s 2ms/step - loss: 0.6929 - accuracy: 0.5065\n",
            "Epoch 3/100\n",
            "25/25 [==============================] - 0s 2ms/step - loss: 0.6925 - accuracy: 0.5094\n",
            "Epoch 4/100\n",
            "25/25 [==============================] - 0s 2ms/step - loss: 0.6945 - accuracy: 0.4864\n",
            "Epoch 5/100\n",
            "25/25 [==============================] - 0s 2ms/step - loss: 0.6968 - accuracy: 0.4857\n",
            "Epoch 6/100\n",
            "25/25 [==============================] - 0s 2ms/step - loss: 0.6848 - accuracy: 0.5191\n",
            "Epoch 7/100\n",
            "25/25 [==============================] - 0s 2ms/step - loss: 0.6799 - accuracy: 0.5292\n",
            "Epoch 8/100\n",
            "25/25 [==============================] - 0s 2ms/step - loss: 0.6845 - accuracy: 0.5055\n",
            "Epoch 9/100\n",
            "25/25 [==============================] - 0s 2ms/step - loss: 0.6934 - accuracy: 0.4750\n",
            "Epoch 10/100\n",
            "25/25 [==============================] - 0s 2ms/step - loss: 0.6906 - accuracy: 0.4965\n",
            "Epoch 11/100\n",
            "25/25 [==============================] - 0s 3ms/step - loss: 0.6864 - accuracy: 0.5259\n",
            "Epoch 12/100\n",
            "25/25 [==============================] - 0s 2ms/step - loss: 0.6859 - accuracy: 0.5104\n",
            "Epoch 13/100\n",
            "25/25 [==============================] - 0s 2ms/step - loss: 0.6856 - accuracy: 0.5138\n",
            "Epoch 14/100\n",
            "25/25 [==============================] - 0s 2ms/step - loss: 0.6910 - accuracy: 0.4744\n",
            "Epoch 15/100\n",
            "25/25 [==============================] - 0s 2ms/step - loss: 0.6833 - accuracy: 0.5307\n",
            "Epoch 16/100\n",
            "25/25 [==============================] - 0s 2ms/step - loss: 0.6856 - accuracy: 0.5072\n",
            "Epoch 17/100\n",
            "25/25 [==============================] - 0s 2ms/step - loss: 0.6858 - accuracy: 0.4996\n",
            "Epoch 18/100\n",
            "25/25 [==============================] - 0s 2ms/step - loss: 0.6847 - accuracy: 0.5168\n",
            "Epoch 19/100\n",
            "25/25 [==============================] - 0s 3ms/step - loss: 0.6806 - accuracy: 0.5278\n",
            "Epoch 20/100\n",
            "25/25 [==============================] - 0s 2ms/step - loss: 0.6790 - accuracy: 0.5394\n",
            "Epoch 21/100\n",
            "25/25 [==============================] - 0s 2ms/step - loss: 0.6810 - accuracy: 0.5379\n",
            "Epoch 22/100\n",
            "25/25 [==============================] - 0s 2ms/step - loss: 0.6804 - accuracy: 0.5430\n",
            "Epoch 23/100\n",
            "25/25 [==============================] - 0s 2ms/step - loss: 0.6828 - accuracy: 0.5314\n",
            "Epoch 24/100\n",
            "25/25 [==============================] - 0s 2ms/step - loss: 0.6744 - accuracy: 0.5556\n",
            "Epoch 25/100\n",
            "25/25 [==============================] - 0s 2ms/step - loss: 0.6765 - accuracy: 0.5559\n",
            "Epoch 26/100\n",
            "25/25 [==============================] - 0s 3ms/step - loss: 0.6818 - accuracy: 0.5207\n",
            "Epoch 27/100\n",
            "25/25 [==============================] - 0s 2ms/step - loss: 0.6721 - accuracy: 0.5742\n",
            "Epoch 28/100\n",
            "25/25 [==============================] - 0s 3ms/step - loss: 0.6762 - accuracy: 0.5452\n",
            "Epoch 29/100\n",
            "25/25 [==============================] - 0s 2ms/step - loss: 0.6764 - accuracy: 0.5424\n",
            "Epoch 30/100\n",
            "25/25 [==============================] - 0s 2ms/step - loss: 0.6744 - accuracy: 0.5542\n",
            "Epoch 31/100\n",
            "25/25 [==============================] - 0s 2ms/step - loss: 0.6772 - accuracy: 0.5404\n",
            "Epoch 32/100\n",
            "25/25 [==============================] - 0s 2ms/step - loss: 0.6696 - accuracy: 0.5664\n",
            "Epoch 33/100\n",
            "25/25 [==============================] - 0s 2ms/step - loss: 0.6705 - accuracy: 0.5502\n",
            "Epoch 34/100\n",
            "25/25 [==============================] - 0s 2ms/step - loss: 0.6657 - accuracy: 0.5524\n",
            "Epoch 35/100\n",
            "25/25 [==============================] - 0s 2ms/step - loss: 0.6695 - accuracy: 0.5621\n",
            "Epoch 36/100\n",
            "25/25 [==============================] - 0s 2ms/step - loss: 0.6652 - accuracy: 0.5660\n",
            "Epoch 37/100\n",
            "25/25 [==============================] - 0s 3ms/step - loss: 0.6552 - accuracy: 0.5703\n",
            "Epoch 38/100\n",
            "25/25 [==============================] - 0s 3ms/step - loss: 0.6531 - accuracy: 0.5819\n",
            "Epoch 39/100\n",
            "25/25 [==============================] - 0s 3ms/step - loss: 0.6485 - accuracy: 0.6921\n",
            "Epoch 40/100\n",
            "25/25 [==============================] - 0s 2ms/step - loss: 0.6142 - accuracy: 0.7194\n",
            "Epoch 41/100\n",
            "25/25 [==============================] - 0s 3ms/step - loss: 0.5983 - accuracy: 0.7564\n",
            "Epoch 42/100\n",
            "25/25 [==============================] - 0s 2ms/step - loss: 0.5866 - accuracy: 0.7109\n",
            "Epoch 43/100\n",
            "25/25 [==============================] - 0s 3ms/step - loss: 0.5444 - accuracy: 0.7511\n",
            "Epoch 44/100\n",
            "25/25 [==============================] - 0s 2ms/step - loss: 0.4765 - accuracy: 0.7952\n",
            "Epoch 45/100\n",
            "25/25 [==============================] - 0s 2ms/step - loss: 0.3716 - accuracy: 0.8875\n",
            "Epoch 46/100\n",
            "25/25 [==============================] - 0s 2ms/step - loss: 0.2789 - accuracy: 0.9369\n",
            "Epoch 47/100\n",
            "25/25 [==============================] - 0s 3ms/step - loss: 0.2261 - accuracy: 0.9392\n",
            "Epoch 48/100\n",
            "25/25 [==============================] - 0s 3ms/step - loss: 0.1354 - accuracy: 0.9691\n",
            "Epoch 49/100\n",
            "25/25 [==============================] - 0s 2ms/step - loss: 0.1294 - accuracy: 0.9682\n",
            "Epoch 50/100\n",
            "25/25 [==============================] - 0s 3ms/step - loss: 0.1028 - accuracy: 0.9710\n",
            "Epoch 51/100\n",
            "25/25 [==============================] - 0s 3ms/step - loss: 0.1123 - accuracy: 0.9665\n",
            "Epoch 52/100\n",
            "25/25 [==============================] - 0s 3ms/step - loss: 0.1396 - accuracy: 0.9507\n",
            "Epoch 53/100\n",
            "25/25 [==============================] - 0s 2ms/step - loss: 0.0664 - accuracy: 0.9919\n",
            "Epoch 54/100\n",
            "25/25 [==============================] - 0s 2ms/step - loss: 0.0996 - accuracy: 0.9652\n",
            "Epoch 55/100\n",
            "25/25 [==============================] - 0s 2ms/step - loss: 0.0749 - accuracy: 0.9637\n",
            "Epoch 56/100\n",
            "25/25 [==============================] - 0s 2ms/step - loss: 0.0925 - accuracy: 0.9599\n",
            "Epoch 57/100\n",
            "25/25 [==============================] - 0s 3ms/step - loss: 0.0959 - accuracy: 0.9559\n",
            "Epoch 58/100\n",
            "25/25 [==============================] - 0s 2ms/step - loss: 0.0589 - accuracy: 0.9791\n",
            "Epoch 59/100\n",
            "25/25 [==============================] - 0s 2ms/step - loss: 0.1389 - accuracy: 0.9414\n",
            "Epoch 60/100\n",
            "25/25 [==============================] - 0s 2ms/step - loss: 0.1982 - accuracy: 0.9396\n",
            "Epoch 61/100\n",
            "25/25 [==============================] - 0s 3ms/step - loss: 0.3860 - accuracy: 0.8750\n",
            "Epoch 62/100\n",
            "25/25 [==============================] - 0s 3ms/step - loss: 0.2469 - accuracy: 0.9645\n",
            "Epoch 63/100\n",
            "25/25 [==============================] - 0s 2ms/step - loss: 0.0804 - accuracy: 0.9802\n",
            "Epoch 64/100\n",
            "25/25 [==============================] - 0s 2ms/step - loss: 0.0612 - accuracy: 0.9823\n",
            "Epoch 65/100\n",
            "25/25 [==============================] - 0s 2ms/step - loss: 0.1061 - accuracy: 0.9596\n",
            "Epoch 66/100\n",
            "25/25 [==============================] - 0s 3ms/step - loss: 0.1452 - accuracy: 0.9329\n",
            "Epoch 67/100\n",
            "25/25 [==============================] - 0s 2ms/step - loss: 0.1413 - accuracy: 0.9565\n",
            "Epoch 68/100\n",
            "25/25 [==============================] - 0s 2ms/step - loss: 0.4210 - accuracy: 0.8695\n",
            "Epoch 69/100\n",
            "25/25 [==============================] - 0s 2ms/step - loss: 0.4120 - accuracy: 0.8125\n",
            "Epoch 70/100\n",
            "25/25 [==============================] - 0s 2ms/step - loss: 0.2662 - accuracy: 0.8980\n",
            "Epoch 71/100\n",
            "25/25 [==============================] - 0s 3ms/step - loss: 0.2561 - accuracy: 0.9215\n",
            "Epoch 72/100\n",
            "25/25 [==============================] - 0s 3ms/step - loss: 0.1153 - accuracy: 0.9555\n",
            "Epoch 73/100\n",
            "25/25 [==============================] - 0s 3ms/step - loss: 0.1237 - accuracy: 0.9564\n",
            "Epoch 74/100\n",
            "25/25 [==============================] - 0s 2ms/step - loss: 0.1864 - accuracy: 0.9187\n",
            "Epoch 75/100\n",
            "25/25 [==============================] - 0s 2ms/step - loss: 0.2094 - accuracy: 0.9192\n",
            "Epoch 76/100\n",
            "25/25 [==============================] - 0s 2ms/step - loss: 0.5028 - accuracy: 0.8169\n",
            "Epoch 77/100\n",
            "25/25 [==============================] - 0s 2ms/step - loss: 0.4839 - accuracy: 0.7641\n",
            "Epoch 78/100\n",
            "25/25 [==============================] - 0s 3ms/step - loss: 0.4403 - accuracy: 0.7958\n",
            "Epoch 79/100\n",
            "25/25 [==============================] - 0s 3ms/step - loss: 0.4840 - accuracy: 0.8041\n",
            "Epoch 80/100\n",
            "25/25 [==============================] - 0s 3ms/step - loss: 0.6729 - accuracy: 0.5804\n",
            "Epoch 81/100\n",
            "25/25 [==============================] - 0s 2ms/step - loss: 0.4941 - accuracy: 0.7530\n",
            "Epoch 82/100\n",
            "25/25 [==============================] - 0s 3ms/step - loss: 0.6235 - accuracy: 0.5840\n",
            "Epoch 83/100\n",
            "25/25 [==============================] - 0s 2ms/step - loss: 0.6240 - accuracy: 0.6397\n",
            "Epoch 84/100\n",
            "25/25 [==============================] - 0s 2ms/step - loss: 0.6827 - accuracy: 0.5515\n",
            "Epoch 85/100\n",
            "25/25 [==============================] - 0s 2ms/step - loss: 0.7123 - accuracy: 0.5162\n",
            "Epoch 86/100\n",
            "25/25 [==============================] - 0s 2ms/step - loss: 0.7429 - accuracy: 0.5080\n",
            "Epoch 87/100\n",
            "25/25 [==============================] - 0s 2ms/step - loss: 0.7932 - accuracy: 0.5072\n",
            "Epoch 88/100\n",
            "25/25 [==============================] - 0s 2ms/step - loss: 0.7586 - accuracy: 0.5036\n",
            "Epoch 89/100\n",
            "25/25 [==============================] - 0s 2ms/step - loss: 0.7666 - accuracy: 0.5050\n",
            "Epoch 90/100\n",
            "25/25 [==============================] - 0s 2ms/step - loss: 0.7295 - accuracy: 0.5469\n",
            "Epoch 91/100\n",
            "25/25 [==============================] - 0s 3ms/step - loss: 0.8440 - accuracy: 0.5043\n",
            "Epoch 92/100\n",
            "25/25 [==============================] - 0s 2ms/step - loss: 0.7273 - accuracy: 0.4850\n",
            "Epoch 93/100\n",
            "25/25 [==============================] - 0s 2ms/step - loss: 0.7306 - accuracy: 0.5075\n",
            "Epoch 94/100\n",
            "25/25 [==============================] - 0s 3ms/step - loss: 0.7924 - accuracy: 0.4738\n",
            "Epoch 95/100\n",
            "25/25 [==============================] - 0s 2ms/step - loss: 0.8869 - accuracy: 0.4668\n",
            "Epoch 96/100\n",
            "25/25 [==============================] - 0s 3ms/step - loss: 0.8313 - accuracy: 0.4673\n",
            "Epoch 97/100\n",
            "25/25 [==============================] - 0s 3ms/step - loss: 0.7704 - accuracy: 0.4644\n",
            "Epoch 98/100\n",
            "25/25 [==============================] - 0s 2ms/step - loss: 0.9169 - accuracy: 0.4847\n",
            "Epoch 99/100\n",
            "25/25 [==============================] - 0s 3ms/step - loss: 1.0226 - accuracy: 0.4745\n",
            "Epoch 100/100\n",
            "25/25 [==============================] - 0s 3ms/step - loss: 0.8382 - accuracy: 0.4538\n"
          ],
          "name": "stdout"
        }
      ]
    },
    {
      "cell_type": "code",
      "metadata": {
        "colab": {
          "base_uri": "https://localhost:8080/",
          "height": 442
        },
        "id": "n6BdMYJsWvbP",
        "outputId": "58640649-a7db-40c0-e2ad-0378a433859e"
      },
      "source": [
        "# Checkout history\n",
        "pd.DataFrame(history_9.history).plot(figsize=(10,7),xlabel=\"epochs\");"
      ],
      "execution_count": 50,
      "outputs": [
        {
          "output_type": "display_data",
          "data": {
            "image/png": "[encoded data removed]",
            "text/plain": [
              "<Figure size 720x504 with 1 Axes>"
            ]
          },
          "metadata": {
            "tags": [],
            "needs_background": "light"
          }
        }
      ]
    },
    {
      "cell_type": "code",
      "metadata": {
        "colab": {
          "base_uri": "https://localhost:8080/",
          "height": 462
        },
        "id": "rpy8mztUW_my",
        "outputId": "a54e031f-ebd5-4613-d323-63fce10f601a"
      },
      "source": [
        "# Plot the learning rate vs the loss \n",
        "lrs = 1e-4 * (10**(tf.range(100)/20))\n",
        "plt.figure(figsize=(10,7))\n",
        "plt.semilogx(lrs,history_9.history[\"loss\"])\n",
        "plt.xlabel(\"Learning rate\")\n",
        "plt.ylabel(\"Loss\")\n",
        "plt.title(\"Learning rate vs Loss\");"
      ],
      "execution_count": 51,
      "outputs": [
        {
          "output_type": "display_data",
          "data": {
            "image/png": "[encoded data removed]",
            "text/plain": [
              "<Figure size 720x504 with 1 Axes>"
            ]
          },
          "metadata": {
            "tags": [],
            "needs_background": "light"
          }
        }
      ]
    },
    {
      "cell_type": "code",
      "metadata": {
        "colab": {
          "base_uri": "https://localhost:8080/"
        },
        "id": "914LVrMldJeA",
        "outputId": "39cb049e-4ae3-4d35-8ec7-1d902ce132f7"
      },
      "source": [
        "# Example of other typical leaning rate values:\n",
        "10**0, 10**-1, 10**-2, 10**-3, 1e-4"
      ],
      "execution_count": 52,
      "outputs": [
        {
          "output_type": "execute_result",
          "data": {
            "text/plain": [
              "(1, 0.1, 0.01, 0.001, 0.0001)"
            ]
          },
          "metadata": {
            "tags": []
          },
          "execution_count": 52
        }
      ]
    },
    {
      "cell_type": "code",
      "metadata": {
        "id": "gPyLtWojflgF",
        "colab": {
          "base_uri": "https://localhost:8080/"
        },
        "outputId": "94497ffc-0c57-4a0a-bcfc-a6a8626ac425"
      },
      "source": [
        "# Let's try using a higher *ideal* learning rate with the same model as before\n",
        "\n",
        "# Set random seed\n",
        "tf.random.set_seed(42)\n",
        "\n",
        "# Create model\n",
        "model_10 = tf.keras.Sequential([\n",
        "    tf.keras.layers.Dense(4,activation=\"relu\"),\n",
        "    tf.keras.layers.Dense(4,activation=\"relu\"),\n",
        "    tf.keras.layers.Dense(1,activation=\"sigmoid\")\n",
        "])\n",
        "\n",
        "# Compile model\n",
        "model_10.compile(loss=\"binary_crossentropy\",\n",
        "                 optimizer=tf.keras.optimizers.Adam(lr=0.02),\n",
        "                 metrics=[\"accuracy\"])\n",
        "\n",
        "# Fit model for 20 epochs (5 less than before)\n",
        "history_10 = model_10.fit(X_train,y_train,epochs=20)\n"
      ],
      "execution_count": 53,
      "outputs": [
        {
          "output_type": "stream",
          "text": [
            "Epoch 1/20\n",
            "25/25 [==============================] - 1s 3ms/step - loss: 0.6834 - accuracy: 0.5400\n",
            "Epoch 2/20\n",
            "25/25 [==============================] - 0s 2ms/step - loss: 0.6778 - accuracy: 0.5511\n",
            "Epoch 3/20\n",
            "25/25 [==============================] - 0s 3ms/step - loss: 0.6638 - accuracy: 0.5568\n",
            "Epoch 4/20\n",
            "25/25 [==============================] - 0s 2ms/step - loss: 0.6416 - accuracy: 0.6380\n",
            "Epoch 5/20\n",
            "25/25 [==============================] - 0s 2ms/step - loss: 0.5957 - accuracy: 0.7609\n",
            "Epoch 6/20\n",
            "25/25 [==============================] - 0s 2ms/step - loss: 0.5134 - accuracy: 0.8213\n",
            "Epoch 7/20\n",
            "25/25 [==============================] - 0s 2ms/step - loss: 0.4595 - accuracy: 0.8078\n",
            "Epoch 8/20\n",
            "25/25 [==============================] - 0s 2ms/step - loss: 0.3685 - accuracy: 0.8941\n",
            "Epoch 9/20\n",
            "25/25 [==============================] - 0s 3ms/step - loss: 0.3248 - accuracy: 0.9016\n",
            "Epoch 10/20\n",
            "25/25 [==============================] - 0s 3ms/step - loss: 0.2665 - accuracy: 0.9386\n",
            "Epoch 11/20\n",
            "25/25 [==============================] - 0s 2ms/step - loss: 0.2211 - accuracy: 0.9536\n",
            "Epoch 12/20\n",
            "25/25 [==============================] - 0s 2ms/step - loss: 0.1679 - accuracy: 0.9799\n",
            "Epoch 13/20\n",
            "25/25 [==============================] - 0s 2ms/step - loss: 0.1479 - accuracy: 0.9869\n",
            "Epoch 14/20\n",
            "25/25 [==============================] - 0s 3ms/step - loss: 0.1435 - accuracy: 0.9790\n",
            "Epoch 15/20\n",
            "25/25 [==============================] - 0s 2ms/step - loss: 0.1123 - accuracy: 0.9895\n",
            "Epoch 16/20\n",
            "25/25 [==============================] - 0s 2ms/step - loss: 0.1022 - accuracy: 0.9964\n",
            "Epoch 17/20\n",
            "25/25 [==============================] - 0s 2ms/step - loss: 0.0805 - accuracy: 0.9975\n",
            "Epoch 18/20\n",
            "25/25 [==============================] - 0s 3ms/step - loss: 0.0816 - accuracy: 0.9977\n",
            "Epoch 19/20\n",
            "25/25 [==============================] - 0s 2ms/step - loss: 0.0789 - accuracy: 0.9922\n",
            "Epoch 20/20\n",
            "25/25 [==============================] - 0s 3ms/step - loss: 0.0878 - accuracy: 0.9824\n"
          ],
          "name": "stdout"
        }
      ]
    },
    {
      "cell_type": "code",
      "metadata": {
        "id": "BurAC9hN_eIj",
        "colab": {
          "base_uri": "https://localhost:8080/"
        },
        "outputId": "35deab35-a8e1-4179-fc17-b68dcd62eb54"
      },
      "source": [
        "# Evaluate model 10 on the test dataset\n",
        "model_10.evaluate(X_test,y_test)"
      ],
      "execution_count": 54,
      "outputs": [
        {
          "output_type": "stream",
          "text": [
            "7/7 [==============================] - 0s 3ms/step - loss: 0.0574 - accuracy: 0.9900\n"
          ],
          "name": "stdout"
        },
        {
          "output_type": "execute_result",
          "data": {
            "text/plain": [
              "[0.05740179121494293, 0.9900000095367432]"
            ]
          },
          "metadata": {
            "tags": []
          },
          "execution_count": 54
        }
      ]
    },
    {
      "cell_type": "code",
      "metadata": {
        "colab": {
          "base_uri": "https://localhost:8080/"
        },
        "id": "E8rgqhGoFmhe",
        "outputId": "c5769715-1a90-4a7e-84b9-075242cc9289"
      },
      "source": [
        "# Evaluate model 8 on the test dataset\n",
        "model_8.evaluate(X_test,y_test)"
      ],
      "execution_count": 55,
      "outputs": [
        {
          "output_type": "stream",
          "text": [
            "7/7 [==============================] - 0s 3ms/step - loss: 0.1247 - accuracy: 1.0000\n"
          ],
          "name": "stdout"
        },
        {
          "output_type": "execute_result",
          "data": {
            "text/plain": [
              "[0.12468845397233963, 1.0]"
            ]
          },
          "metadata": {
            "tags": []
          },
          "execution_count": 55
        }
      ]
    },
    {
      "cell_type": "code",
      "metadata": {
        "colab": {
          "base_uri": "https://localhost:8080/",
          "height": 379
        },
        "id": "557SbSkLFzaO",
        "outputId": "97d1f247-1e94-4b74-bc03-1ae464fdfea5"
      },
      "source": [
        "# Plot the decision boundaries for the training and test sets\n",
        "plt.figure(figsize=(12,6))\n",
        "\n",
        "plt.subplot(1,2,1)\n",
        "plt.title(\"Train\")\n",
        "plot_decision_boundary(model_10,X=X_train,y=y_train)\n",
        "\n",
        "plt.subplot(1,2,2)\n",
        "plt.title(\"Test\")\n",
        "plot_decision_boundary(model_10,X=X_test,y=y_test)\n",
        "plt.show();"
      ],
      "execution_count": 56,
      "outputs": [
        {
          "output_type": "stream",
          "text": [
            "doing binarry classification\n",
            "doing binarry classification\n"
          ],
          "name": "stdout"
        },
        {
          "output_type": "display_data",
          "data": {
            "image/png": "[encoded data removed]",
            "text/plain": [
              "<Figure size 864x432 with 2 Axes>"
            ]
          },
          "metadata": {
            "tags": [],
            "needs_background": "light"
          }
        }
      ]
    },
    {
      "cell_type": "markdown",
      "metadata": {
        "id": "cePfHwR6Qqv1"
      },
      "source": [
        "## More classification evaluation methods\n",
        "\n",
        "Alongside visualizing our models results as much as possible, there are a handful of other classification evaluation methods & metrics you should be familiar with:\n",
        "* Accuracy\n",
        "* Precision\n",
        "* Recall\n",
        "* F1-score\n",
        "* Confusion matrix\n",
        "* Classification report (from scikit-learn)"
      ]
    },
    {
      "cell_type": "code",
      "metadata": {
        "colab": {
          "base_uri": "https://localhost:8080/"
        },
        "id": "5RFvHAo0GT-l",
        "outputId": "61b6d35e-f675-4044-a4a9-bfc7bec95471"
      },
      "source": [
        "# Check the accuracy of our model\n",
        "loss, accuracy = model_10.evaluate(X_test,y_test)\n",
        "print(\"Model loss on the test set: {}\".format(loss))\n",
        "print(\"Model accuracy on the test set: {0:.2f}%\".format((accuracy*100)))"
      ],
      "execution_count": 57,
      "outputs": [
        {
          "output_type": "stream",
          "text": [
            "7/7 [==============================] - 0s 3ms/step - loss: 0.0574 - accuracy: 0.9900\n",
            "Model loss on the test set: 0.05740179121494293\n",
            "Model accuracy on the test set: 99.00%\n"
          ],
          "name": "stdout"
        }
      ]
    },
    {
      "cell_type": "markdown",
      "metadata": {
        "id": "xBqtsIAcf5tM"
      },
      "source": [
        "How about confusion matrix?"
      ]
    },
    {
      "cell_type": "code",
      "metadata": {
        "colab": {
          "base_uri": "https://localhost:8080/",
          "height": 205
        },
        "id": "VapfJuwnf5RN",
        "outputId": "bbda5ea6-0a6e-4024-9690-64df58187299"
      },
      "source": [
        "# Create a confusion matrix\n",
        "from sklearn.metrics import confusion_matrix\n",
        "\n",
        "# Make predictions\n",
        "y_preds = model_10.predict(X_test)\n",
        "\n",
        "# Create condusion matrix\n",
        "# confusion_matrix(y_test,y_preds)  ...error\n",
        "\"\"\"\n",
        "Error:\n",
        "---------------------------------------------------------------------------\n",
        "ValueError                                Traceback (most recent call last)\n",
        "<ipython-input-66-02eb26966b38> in <module>()\n",
        "      6 \n",
        "      7 # Create condusion matrix\n",
        "----> 8 confusion_matrix(y_test,y_preds)\n",
        "\n",
        "1 frames\n",
        "/usr/local/lib/python3.7/dist-packages/sklearn/metrics/_classification.py in _check_targets(y_true, y_pred)\n",
        "     88     if len(y_type) > 1:\n",
        "     89         raise ValueError(\"Classification metrics can't handle a mix of {0} \"\n",
        "---> 90                          \"and {1} targets\".format(type_true, type_pred))\n",
        "     91 \n",
        "     92     # We can't have more than one value on y_type => The set is no more needed\n",
        "\n",
        "ValueError: Classification metrics can't handle a mix of binary and continuous targets\n",
        "\"\"\""
      ],
      "execution_count": 58,
      "outputs": [
        {
          "output_type": "execute_result",
          "data": {
            "application/vnd.google.colaboratory.intrinsic+json": {
              "type": "string"
            },
            "text/plain": [
              "'\\nError:\\n---------------------------------------------------------------------------\\nValueError                                Traceback (most recent call last)\\n<ipython-input-66-02eb26966b38> in <module>()\\n      6 \\n      7 # Create condusion matrix\\n----> 8 confusion_matrix(y_test,y_preds)\\n\\n1 frames\\n/usr/local/lib/python3.7/dist-packages/sklearn/metrics/_classification.py in _check_targets(y_true, y_pred)\\n     88     if len(y_type) > 1:\\n     89         raise ValueError(\"Classification metrics can\\'t handle a mix of {0} \"\\n---> 90                          \"and {1} targets\".format(type_true, type_pred))\\n     91 \\n     92     # We can\\'t have more than one value on y_type => The set is no more needed\\n\\nValueError: Classification metrics can\\'t handle a mix of binary and continuous targets\\n'"
            ]
          },
          "metadata": {
            "tags": []
          },
          "execution_count": 58
        }
      ]
    },
    {
      "cell_type": "code",
      "metadata": {
        "colab": {
          "base_uri": "https://localhost:8080/"
        },
        "id": "h6VxE32bR2fd",
        "outputId": "202debf7-9c40-4842-aae0-c468e58e7e94"
      },
      "source": [
        "y_test[:10]"
      ],
      "execution_count": 59,
      "outputs": [
        {
          "output_type": "execute_result",
          "data": {
            "text/plain": [
              "array([1, 1, 1, 1, 0, 0, 1, 0, 1, 0])"
            ]
          },
          "metadata": {
            "tags": []
          },
          "execution_count": 59
        }
      ]
    },
    {
      "cell_type": "code",
      "metadata": {
        "colab": {
          "base_uri": "https://localhost:8080/"
        },
        "id": "nsVEpkDQluJH",
        "outputId": "0cb673bd-59d5-43e8-9c43-911f28001be7"
      },
      "source": [
        "y_preds[:10]"
      ],
      "execution_count": 60,
      "outputs": [
        {
          "output_type": "execute_result",
          "data": {
            "text/plain": [
              "array([[9.8526543e-01],\n",
              "       [9.9923790e-01],\n",
              "       [9.9032354e-01],\n",
              "       [9.9706942e-01],\n",
              "       [3.9622906e-01],\n",
              "       [1.8126927e-02],\n",
              "       [9.6829069e-01],\n",
              "       [1.9746689e-02],\n",
              "       [9.9967170e-01],\n",
              "       [5.6459184e-04]], dtype=float32)"
            ]
          },
          "metadata": {
            "tags": []
          },
          "execution_count": 60
        }
      ]
    },
    {
      "cell_type": "markdown",
      "metadata": {
        "id": "H8kt6iiXlyUy"
      },
      "source": [
        "Opps.. looks like our predictions array has come out in **prediction probability** form... the standard output from the sigmoid (or softmax) activation form"
      ]
    },
    {
      "cell_type": "code",
      "metadata": {
        "colab": {
          "base_uri": "https://localhost:8080/"
        },
        "id": "FBvXNIuRlvuL",
        "outputId": "e239033d-6d74-408b-be7e-89f7892c8abe"
      },
      "source": [
        "# Convert prediction probabilities to binary format and view the first 10\n",
        "tf.round(y_preds)[:10]"
      ],
      "execution_count": 61,
      "outputs": [
        {
          "output_type": "execute_result",
          "data": {
            "text/plain": [
              "<tf.Tensor: shape=(10, 1), dtype=float32, numpy=\n",
              "array([[1.],\n",
              "       [1.],\n",
              "       [1.],\n",
              "       [1.],\n",
              "       [0.],\n",
              "       [0.],\n",
              "       [1.],\n",
              "       [0.],\n",
              "       [1.],\n",
              "       [0.]], dtype=float32)>"
            ]
          },
          "metadata": {
            "tags": []
          },
          "execution_count": 61
        }
      ]
    },
    {
      "cell_type": "code",
      "metadata": {
        "colab": {
          "base_uri": "https://localhost:8080/"
        },
        "id": "PrCqzR-0mgAL",
        "outputId": "2df654bc-cfbd-404d-d70e-be6452e30b41"
      },
      "source": [
        "# Create a confusion matrix\n",
        "confusion_matrix(y_test,tf.round(y_preds))"
      ],
      "execution_count": 62,
      "outputs": [
        {
          "output_type": "execute_result",
          "data": {
            "text/plain": [
              "array([[99,  2],\n",
              "       [ 0, 99]])"
            ]
          },
          "metadata": {
            "tags": []
          },
          "execution_count": 62
        }
      ]
    },
    {
      "cell_type": "markdown",
      "metadata": {
        "id": "Uf6ohrzRn3TG"
      },
      "source": [
        "How about we prettify out confusion matrix?"
      ]
    },
    {
      "cell_type": "code",
      "metadata": {
        "id": "ATX9bSzZmvIY",
        "colab": {
          "base_uri": "https://localhost:8080/",
          "height": 580
        },
        "outputId": "df31f22c-1214-45a8-f8f1-58afad501780"
      },
      "source": [
        "# Note: the confusion matrix code we're about to write is a remix of scikit-learn's plot_confusion_matrix\n",
        "\n",
        "import itertools\n",
        "\n",
        "figsize = (10,10)\n",
        "\n",
        "# Create the confusion matrix\n",
        "cm = confusion_matrix(y_test,tf.round(y_preds))\n",
        "cm_norm = cm.astype(\"float\") / cm.sum(axis=1)[:,np.newaxis] # normalize our confusion matrix\n",
        "n_classes = cm.shape[0]\n",
        "\n",
        "# Let's prettify it\n",
        "fig,ax = plt.subplots(figsize=figsize)\n",
        "# Create a matrix plot\n",
        "cax = ax.matshow(cm,cmap=plt.cm.Blues)\n",
        "fig.colorbar(cax)\n",
        "\n",
        "# Create classes\n",
        "classes = False\n",
        "\n",
        "if classes:\n",
        "  labels = classes\n",
        "else:\n",
        "  labels = np.arange(cm.shape[0])\n",
        "\n",
        "# Label the axes\n",
        "ax.set(title=\"Confusion Matrix\",\n",
        "       xlabel=\"Predicted Label\",\n",
        "       ylabel=\"True Label\",\n",
        "       xticks=np.arange(n_classes),\n",
        "       yticks=np.arange(n_classes),\n",
        "       xticklabels=labels,\n",
        "       yticklabels=labels)\n",
        "\n",
        "# Set x-axis labels to bottom\n",
        "ax.xaxis.set_label_position(\"bottom\")\n",
        "ax.xaxis.tick_bottom()\n",
        "\n",
        "# Adjust label size\n",
        "ax.yaxis.label.set_size(20)\n",
        "ax.xaxis.label.set_size(20)\n",
        "ax.title.set_size(20)\n",
        "\n",
        "# Set threshold for different colors\n",
        "threshold = (cm.max() + cm.min()) /2.\n",
        "\n",
        "# Plot the text on each cell\n",
        "for i,j in itertools.product(range(cm.shape[0]),range(cm.shape[1])):\n",
        "  plt.text(j,i,f\"{cm[i,j]} ({cm_norm[i,j]*100:.1f}%)\",\n",
        "           horizontalalignment=\"center\",\n",
        "           color=\"white\" if cm[i,j] > threshold else \"black\",\n",
        "\n",
        "           size=15)"
      ],
      "execution_count": 68,
      "outputs": [
        {
          "output_type": "display_data",
          "data": {
            "image/png": "[encoded data removed]",
            "text/plain": [
              "<Figure size 720x720 with 2 Axes>"
            ]
          },
          "metadata": {
            "tags": [],
            "needs_background": "light"
          }
        }
      ]
    },
    {
      "cell_type": "code",
      "metadata": {
        "id": "Y2UsvJWLoKOX"
      },
      "source": [
        "# adding it into function so we can use it later..\n",
        "def plot_confusion_matrix(tests,predictions):\n",
        "  figsize = (10,10)\n",
        "\n",
        "  # Create the confusion matrix\n",
        "  cm = confusion_matrix(tests,tf.round(predictions))\n",
        "  cm_norm = cm.astype(\"float\") / cm.sum(axis=1)[:,np.newaxis] # normalize our confusion matrix\n",
        "  n_classes = cm.shape[0]\n",
        "\n",
        "  # Let's prettify it\n",
        "  fig,ax = plt.subplots(figsize=figsize)\n",
        "  # Create a matrix plot\n",
        "  cax = ax.matshow(cm,cmap=plt.cm.Blues)\n",
        "  fig.colorbar(cax)\n",
        "\n",
        "  # Create classes\n",
        "  classes = False\n",
        "\n",
        "  if classes:\n",
        "    labels = classes\n",
        "  else:\n",
        "    labels = np.arange(cm.shape[0])\n",
        "\n",
        "  # Label the axes\n",
        "  ax.set(title=\"Confusion Matrix\",\n",
        "        xlabel=\"Predicted Label\",\n",
        "        ylabel=\"True Label\",\n",
        "        xticks=np.arange(n_classes),\n",
        "        yticks=np.arange(n_classes),\n",
        "        xticklabels=labels,\n",
        "        yticklabels=labels)\n",
        "\n",
        "  # Set x-axis labels to bottom\n",
        "  ax.xaxis.set_label_position(\"bottom\")\n",
        "  ax.xaxis.tick_bottom()\n",
        "\n",
        "  # Adjust label size\n",
        "  ax.yaxis.label.set_size(20)\n",
        "  ax.xaxis.label.set_size(20)\n",
        "  ax.title.set_size(20)\n",
        "\n",
        "  # Set threshold for different colors\n",
        "  threshold = (cm.max() + cm.min()) /2.\n",
        "\n",
        "  # Plot the text on each cell\n",
        "  for i,j in itertools.product(range(cm.shape[0]),range(cm.shape[1])):\n",
        "    plt.text(j,i,f\"{cm[i,j]} ({cm_norm[i,j]*100:.1f}%)\",\n",
        "            horizontalalignment=\"center\",\n",
        "            color=\"white\" if cm[i,j] > threshold else \"black\",\n",
        "            size=15)"
      ],
      "execution_count": 71,
      "outputs": []
    },
    {
      "cell_type": "code",
      "metadata": {
        "colab": {
          "base_uri": "https://localhost:8080/",
          "height": 580
        },
        "id": "ye6EFDT5o6QE",
        "outputId": "a1761476-99f1-48d5-8cb0-998b7e529a55"
      },
      "source": [
        "plot_confusion_matrix(y_test,y_preds)"
      ],
      "execution_count": 72,
      "outputs": [
        {
          "output_type": "display_data",
          "data": {
            "image/png": "[encoded data removed]",
            "text/plain": [
              "<Figure size 720x720 with 2 Axes>"
            ]
          },
          "metadata": {
            "tags": [],
            "needs_background": "light"
          }
        }
      ]
    },
    {
      "cell_type": "code",
      "metadata": {
        "id": "Oe3jtom0ykk2"
      },
      "source": [
        ""
      ],
      "execution_count": null,
      "outputs": []
    }
  ]
}
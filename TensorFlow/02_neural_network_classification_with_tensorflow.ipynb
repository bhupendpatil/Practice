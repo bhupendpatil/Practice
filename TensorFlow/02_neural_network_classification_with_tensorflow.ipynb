{
  "nbformat": 4,
  "nbformat_minor": 0,
  "metadata": {
    "colab": {
      "name": "02_neural_network_classification_with_tensorflow.ipynb",
      "provenance": [],
      "collapsed_sections": [],
      "machine_shape": "hm"
    },
    "kernelspec": {
      "name": "python3",
      "display_name": "Python 3"
    }
  },
  "cells": [
    {
      "cell_type": "markdown",
      "metadata": {
        "id": "Nu1EWZRAsEaz"
      },
      "source": [
        "# Introduction to neural network classification with TensorFlow\n",
        "\n",
        "In this notebook we're going to learn how to write neural networks for classification problems.\n",
        "\n",
        "A classification is where you try to classify something as one thing or another.\n",
        "\n",
        "A few types of classification problems:\n",
        "* Binary classification\n",
        "* Multiclass classification\n",
        "* Multilabel classification"
      ]
    },
    {
      "cell_type": "markdown",
      "metadata": {
        "id": "DriS2H8msrxx"
      },
      "source": [
        "## Creating data to view and fit"
      ]
    },
    {
      "cell_type": "code",
      "metadata": {
        "id": "KSU3tqyrsiFl"
      },
      "source": [
        "from sklearn.datasets import make_circles\n",
        "\n",
        "# Make 1000 examples\n",
        "n_samples = 1000\n",
        "\n",
        "# Create circles\n",
        "X,y = make_circles(n_samples,\n",
        "                   noise=0.03,\n",
        "                   random_state=42)"
      ],
      "execution_count": 1,
      "outputs": []
    },
    {
      "cell_type": "code",
      "metadata": {
        "colab": {
          "base_uri": "https://localhost:8080/"
        },
        "id": "vRt_nusRtAC2",
        "outputId": "7b24ace9-3b08-43c3-adc8-0bfaf2cd365b"
      },
      "source": [
        "# Check out features\n",
        "X"
      ],
      "execution_count": 2,
      "outputs": [
        {
          "output_type": "execute_result",
          "data": {
            "text/plain": [
              "array([[ 0.75424625,  0.23148074],\n",
              "       [-0.75615888,  0.15325888],\n",
              "       [-0.81539193,  0.17328203],\n",
              "       ...,\n",
              "       [-0.13690036, -0.81001183],\n",
              "       [ 0.67036156, -0.76750154],\n",
              "       [ 0.28105665,  0.96382443]])"
            ]
          },
          "metadata": {
            "tags": []
          },
          "execution_count": 2
        }
      ]
    },
    {
      "cell_type": "code",
      "metadata": {
        "colab": {
          "base_uri": "https://localhost:8080/"
        },
        "id": "z_j0od9AtLRz",
        "outputId": "15e67ab9-d14b-4678-ab66-291d926c7a3e"
      },
      "source": [
        "# Check the labels\n",
        "y"
      ],
      "execution_count": 3,
      "outputs": [
        {
          "output_type": "execute_result",
          "data": {
            "text/plain": [
              "array([1, 1, 1, 1, 0, 1, 1, 1, 1, 0, 1, 0, 1, 1, 1, 1, 0, 1, 1, 0, 1, 0,\n",
              "       0, 1, 0, 0, 0, 1, 1, 1, 0, 0, 1, 0, 0, 0, 1, 1, 1, 0, 0, 0, 0, 1,\n",
              "       0, 0, 1, 1, 0, 1, 1, 1, 0, 1, 0, 0, 1, 0, 0, 1, 0, 0, 1, 0, 1, 1,\n",
              "       1, 1, 0, 1, 0, 0, 1, 1, 0, 0, 1, 0, 1, 0, 1, 0, 0, 0, 0, 1, 1, 1,\n",
              "       1, 0, 0, 0, 1, 0, 1, 0, 1, 0, 0, 1, 1, 0, 1, 0, 1, 1, 1, 1, 0, 1,\n",
              "       1, 1, 1, 1, 0, 0, 0, 1, 1, 0, 1, 0, 1, 0, 0, 1, 1, 0, 1, 1, 1, 1,\n",
              "       0, 1, 1, 0, 0, 0, 0, 0, 0, 0, 1, 0, 1, 1, 1, 0, 1, 0, 1, 0, 1, 0,\n",
              "       1, 0, 0, 1, 0, 1, 1, 1, 1, 1, 1, 1, 0, 1, 0, 0, 0, 0, 0, 1, 0, 0,\n",
              "       0, 0, 1, 1, 0, 1, 0, 1, 1, 0, 0, 0, 1, 1, 1, 1, 1, 0, 0, 0, 0, 0,\n",
              "       1, 0, 0, 1, 1, 1, 1, 1, 0, 1, 0, 1, 0, 0, 1, 1, 1, 0, 1, 0, 1, 1,\n",
              "       0, 1, 1, 0, 1, 0, 1, 0, 1, 1, 0, 1, 0, 1, 0, 0, 0, 1, 0, 0, 0, 0,\n",
              "       1, 1, 0, 0, 0, 0, 0, 0, 0, 1, 1, 1, 0, 0, 1, 1, 1, 0, 1, 0, 0, 0,\n",
              "       0, 1, 1, 0, 1, 0, 0, 0, 1, 0, 1, 0, 0, 1, 0, 1, 1, 1, 0, 0, 0, 1,\n",
              "       0, 0, 0, 1, 1, 1, 1, 0, 0, 0, 1, 0, 0, 0, 1, 0, 0, 0, 1, 1, 0, 1,\n",
              "       1, 1, 1, 1, 1, 1, 0, 0, 0, 0, 1, 0, 0, 0, 0, 1, 1, 1, 0, 0, 1, 0,\n",
              "       1, 0, 1, 1, 0, 0, 1, 1, 1, 1, 0, 0, 0, 0, 0, 0, 1, 1, 0, 1, 0, 0,\n",
              "       1, 0, 0, 0, 0, 0, 0, 0, 0, 1, 0, 0, 0, 0, 1, 0, 0, 1, 0, 1, 0, 0,\n",
              "       0, 1, 0, 0, 1, 1, 0, 0, 1, 0, 0, 1, 1, 0, 1, 1, 0, 0, 1, 0, 1, 0,\n",
              "       0, 0, 1, 1, 0, 0, 1, 1, 1, 1, 1, 0, 0, 1, 1, 1, 1, 0, 1, 1, 1, 1,\n",
              "       1, 0, 0, 1, 0, 1, 0, 0, 0, 0, 1, 0, 0, 0, 0, 0, 0, 0, 0, 0, 1, 1,\n",
              "       0, 1, 1, 1, 1, 1, 1, 0, 1, 1, 1, 1, 0, 0, 0, 1, 1, 1, 0, 0, 0, 0,\n",
              "       1, 1, 0, 0, 0, 0, 1, 0, 0, 0, 1, 0, 0, 1, 1, 1, 1, 1, 1, 0, 0, 0,\n",
              "       1, 0, 0, 0, 0, 0, 1, 1, 1, 0, 0, 0, 0, 0, 1, 1, 1, 0, 0, 1, 1, 1,\n",
              "       1, 0, 1, 1, 0, 1, 0, 0, 0, 1, 0, 0, 1, 0, 0, 1, 1, 0, 0, 1, 1, 0,\n",
              "       1, 0, 1, 0, 1, 0, 1, 0, 0, 0, 1, 0, 0, 0, 0, 0, 0, 1, 1, 1, 1, 0,\n",
              "       0, 0, 1, 0, 1, 1, 0, 0, 0, 0, 0, 1, 1, 1, 0, 0, 1, 0, 0, 1, 0, 0,\n",
              "       1, 0, 0, 1, 0, 0, 0, 1, 0, 0, 1, 1, 1, 0, 1, 1, 0, 0, 0, 1, 1, 1,\n",
              "       1, 0, 0, 1, 1, 1, 0, 0, 0, 0, 1, 1, 0, 0, 1, 1, 0, 0, 1, 1, 1, 1,\n",
              "       1, 1, 1, 0, 1, 0, 1, 0, 0, 1, 0, 1, 1, 1, 1, 0, 0, 1, 1, 0, 0, 1,\n",
              "       0, 1, 0, 0, 0, 1, 0, 0, 1, 1, 1, 1, 0, 1, 1, 1, 1, 1, 1, 1, 0, 1,\n",
              "       0, 1, 1, 1, 0, 0, 1, 0, 0, 0, 1, 1, 1, 1, 0, 0, 0, 0, 1, 0, 1, 1,\n",
              "       1, 0, 1, 0, 0, 1, 0, 0, 1, 1, 1, 1, 1, 0, 1, 0, 0, 0, 1, 1, 1, 1,\n",
              "       1, 0, 0, 0, 1, 1, 1, 1, 0, 0, 0, 0, 0, 1, 1, 0, 1, 0, 1, 0, 0, 0,\n",
              "       0, 0, 0, 0, 0, 0, 1, 1, 1, 1, 1, 0, 1, 0, 1, 1, 1, 1, 0, 1, 1, 1,\n",
              "       1, 1, 1, 1, 1, 0, 1, 1, 0, 1, 0, 0, 0, 1, 0, 1, 1, 1, 0, 1, 1, 0,\n",
              "       1, 1, 0, 1, 0, 1, 1, 0, 0, 1, 1, 1, 0, 0, 0, 0, 1, 1, 0, 0, 1, 1,\n",
              "       1, 1, 1, 1, 1, 1, 1, 1, 1, 1, 1, 1, 0, 0, 1, 0, 1, 0, 1, 0, 1, 1,\n",
              "       1, 1, 1, 1, 0, 1, 0, 1, 1, 1, 0, 1, 1, 0, 0, 1, 0, 1, 1, 0, 0, 1,\n",
              "       1, 1, 1, 1, 1, 1, 1, 0, 1, 1, 1, 0, 1, 0, 0, 1, 1, 0, 0, 0, 1, 0,\n",
              "       0, 1, 0, 0, 0, 1, 0, 1, 0, 0, 0, 0, 1, 0, 1, 1, 1, 1, 0, 1, 0, 0,\n",
              "       0, 0, 0, 0, 1, 0, 1, 0, 1, 0, 1, 1, 1, 0, 1, 0, 1, 0, 0, 1, 1, 1,\n",
              "       0, 0, 0, 1, 1, 0, 1, 0, 1, 1, 0, 1, 0, 0, 1, 1, 1, 0, 0, 0, 1, 1,\n",
              "       0, 0, 0, 0, 0, 1, 1, 0, 1, 0, 0, 0, 1, 0, 0, 0, 1, 1, 1, 1, 0, 1,\n",
              "       1, 1, 0, 1, 1, 1, 1, 0, 1, 1, 0, 1, 1, 0, 0, 1, 1, 1, 0, 0, 0, 0,\n",
              "       0, 0, 1, 0, 0, 1, 0, 0, 0, 1, 0, 1, 0, 1, 1, 0, 0, 0, 0, 0, 0, 0,\n",
              "       0, 1, 0, 1, 0, 0, 0, 1, 0, 0])"
            ]
          },
          "metadata": {
            "tags": []
          },
          "execution_count": 3
        }
      ]
    },
    {
      "cell_type": "markdown",
      "metadata": {
        "id": "T_NzA5l7tlny"
      },
      "source": [
        "Our data is little hard to understand right now... let's visualize it\n"
      ]
    },
    {
      "cell_type": "code",
      "metadata": {
        "colab": {
          "base_uri": "https://localhost:8080/",
          "height": 419
        },
        "id": "82gGbOwJtk55",
        "outputId": "990d84da-3207-431d-8fe6-20a57fd71939"
      },
      "source": [
        "import pandas as pd\n",
        "\n",
        "circles = pd.DataFrame({\"X0\":X[:,0],\"X1\":X[:,1],\"label\":y})\n",
        "circles"
      ],
      "execution_count": 4,
      "outputs": [
        {
          "output_type": "execute_result",
          "data": {
            "text/html": [
              "<div>\n",
              "<style scoped>\n",
              "    .dataframe tbody tr th:only-of-type {\n",
              "        vertical-align: middle;\n",
              "    }\n",
              "\n",
              "    .dataframe tbody tr th {\n",
              "        vertical-align: top;\n",
              "    }\n",
              "\n",
              "    .dataframe thead th {\n",
              "        text-align: right;\n",
              "    }\n",
              "</style>\n",
              "<table border=\"1\" class=\"dataframe\">\n",
              "  <thead>\n",
              "    <tr style=\"text-align: right;\">\n",
              "      <th></th>\n",
              "      <th>X0</th>\n",
              "      <th>X1</th>\n",
              "      <th>label</th>\n",
              "    </tr>\n",
              "  </thead>\n",
              "  <tbody>\n",
              "    <tr>\n",
              "      <th>0</th>\n",
              "      <td>0.754246</td>\n",
              "      <td>0.231481</td>\n",
              "      <td>1</td>\n",
              "    </tr>\n",
              "    <tr>\n",
              "      <th>1</th>\n",
              "      <td>-0.756159</td>\n",
              "      <td>0.153259</td>\n",
              "      <td>1</td>\n",
              "    </tr>\n",
              "    <tr>\n",
              "      <th>2</th>\n",
              "      <td>-0.815392</td>\n",
              "      <td>0.173282</td>\n",
              "      <td>1</td>\n",
              "    </tr>\n",
              "    <tr>\n",
              "      <th>3</th>\n",
              "      <td>-0.393731</td>\n",
              "      <td>0.692883</td>\n",
              "      <td>1</td>\n",
              "    </tr>\n",
              "    <tr>\n",
              "      <th>4</th>\n",
              "      <td>0.442208</td>\n",
              "      <td>-0.896723</td>\n",
              "      <td>0</td>\n",
              "    </tr>\n",
              "    <tr>\n",
              "      <th>...</th>\n",
              "      <td>...</td>\n",
              "      <td>...</td>\n",
              "      <td>...</td>\n",
              "    </tr>\n",
              "    <tr>\n",
              "      <th>995</th>\n",
              "      <td>0.244054</td>\n",
              "      <td>0.944125</td>\n",
              "      <td>0</td>\n",
              "    </tr>\n",
              "    <tr>\n",
              "      <th>996</th>\n",
              "      <td>-0.978655</td>\n",
              "      <td>-0.272373</td>\n",
              "      <td>0</td>\n",
              "    </tr>\n",
              "    <tr>\n",
              "      <th>997</th>\n",
              "      <td>-0.136900</td>\n",
              "      <td>-0.810012</td>\n",
              "      <td>1</td>\n",
              "    </tr>\n",
              "    <tr>\n",
              "      <th>998</th>\n",
              "      <td>0.670362</td>\n",
              "      <td>-0.767502</td>\n",
              "      <td>0</td>\n",
              "    </tr>\n",
              "    <tr>\n",
              "      <th>999</th>\n",
              "      <td>0.281057</td>\n",
              "      <td>0.963824</td>\n",
              "      <td>0</td>\n",
              "    </tr>\n",
              "  </tbody>\n",
              "</table>\n",
              "<p>1000 rows × 3 columns</p>\n",
              "</div>"
            ],
            "text/plain": [
              "           X0        X1  label\n",
              "0    0.754246  0.231481      1\n",
              "1   -0.756159  0.153259      1\n",
              "2   -0.815392  0.173282      1\n",
              "3   -0.393731  0.692883      1\n",
              "4    0.442208 -0.896723      0\n",
              "..        ...       ...    ...\n",
              "995  0.244054  0.944125      0\n",
              "996 -0.978655 -0.272373      0\n",
              "997 -0.136900 -0.810012      1\n",
              "998  0.670362 -0.767502      0\n",
              "999  0.281057  0.963824      0\n",
              "\n",
              "[1000 rows x 3 columns]"
            ]
          },
          "metadata": {
            "tags": []
          },
          "execution_count": 4
        }
      ]
    },
    {
      "cell_type": "code",
      "metadata": {
        "colab": {
          "base_uri": "https://localhost:8080/",
          "height": 265
        },
        "id": "h8kbYpzatNu7",
        "outputId": "2d70bd47-6287-4747-de4e-1cf99806b08c"
      },
      "source": [
        "# Visualize with a plot\n",
        "import matplotlib.pyplot as plt\n",
        "\n",
        "plt.scatter(X[:,0],X[:,1],c=y,cmap=plt.cm.RdYlBu);"
      ],
      "execution_count": 5,
      "outputs": [
        {
          "output_type": "display_data",
          "data": {
            "image/png": "[encoded data removed]",
            "text/plain": [
              "<Figure size 432x288 with 1 Axes>"
            ]
          },
          "metadata": {
            "tags": [],
            "needs_background": "light"
          }
        }
      ]
    },
    {
      "cell_type": "markdown",
      "metadata": {
        "id": "1_UQTI_F4_vM"
      },
      "source": [
        "## Input and output shapes"
      ]
    },
    {
      "cell_type": "code",
      "metadata": {
        "id": "9vnMqrQNuw9o",
        "colab": {
          "base_uri": "https://localhost:8080/"
        },
        "outputId": "845125be-0a7d-429d-d90a-0f731c88a449"
      },
      "source": [
        "# Check the shapes of our features and labels\n",
        "X.shape, y.shape"
      ],
      "execution_count": 6,
      "outputs": [
        {
          "output_type": "execute_result",
          "data": {
            "text/plain": [
              "((1000, 2), (1000,))"
            ]
          },
          "metadata": {
            "tags": []
          },
          "execution_count": 6
        }
      ]
    },
    {
      "cell_type": "code",
      "metadata": {
        "colab": {
          "base_uri": "https://localhost:8080/"
        },
        "id": "I3350hj15GSA",
        "outputId": "5ebca537-b48a-447c-e4f4-ffa901365e8e"
      },
      "source": [
        "# How manny samples we're working\n",
        "len(X),len(y)"
      ],
      "execution_count": 7,
      "outputs": [
        {
          "output_type": "execute_result",
          "data": {
            "text/plain": [
              "(1000, 1000)"
            ]
          },
          "metadata": {
            "tags": []
          },
          "execution_count": 7
        }
      ]
    },
    {
      "cell_type": "code",
      "metadata": {
        "colab": {
          "base_uri": "https://localhost:8080/"
        },
        "id": "clC2wSkT5Two",
        "outputId": "e6c60092-f5a2-4fe0-fbd6-bc5d86dd788c"
      },
      "source": [
        "# View the first example of features and labels\n",
        "X[4],y[4]"
      ],
      "execution_count": 8,
      "outputs": [
        {
          "output_type": "execute_result",
          "data": {
            "text/plain": [
              "(array([ 0.44220765, -0.89672343]), 0)"
            ]
          },
          "metadata": {
            "tags": []
          },
          "execution_count": 8
        }
      ]
    },
    {
      "cell_type": "markdown",
      "metadata": {
        "id": "Dxn427Y25n2O"
      },
      "source": [
        "## Steps in modeling\n",
        "\n",
        "The steps in modeling with TensorFlow are typically:\n",
        "1. Create or import a model\n",
        "2. Compile the model\n",
        "3. Fit the model\n",
        "4. Evaluate the model\n",
        "5. Tweak\n",
        "6. Evaluate..."
      ]
    },
    {
      "cell_type": "code",
      "metadata": {
        "colab": {
          "base_uri": "https://localhost:8080/",
          "height": 35
        },
        "id": "fvvOrY3ldaDW",
        "outputId": "197e9866-1994-417f-8021-1c0ea5063c38"
      },
      "source": [
        "# import TensorFlow\n",
        "import tensorflow as tf\n",
        "tf.__version__"
      ],
      "execution_count": 9,
      "outputs": [
        {
          "output_type": "execute_result",
          "data": {
            "application/vnd.google.colaboratory.intrinsic+json": {
              "type": "string"
            },
            "text/plain": [
              "'2.4.1'"
            ]
          },
          "metadata": {
            "tags": []
          },
          "execution_count": 9
        }
      ]
    },
    {
      "cell_type": "code",
      "metadata": {
        "id": "h6FauNS45Z5z",
        "colab": {
          "base_uri": "https://localhost:8080/"
        },
        "outputId": "c21d60c2-0016-476b-97ee-31b82cd73df9"
      },
      "source": [
        "# Set the random seed\n",
        "tf.random.set_seed(42)\n",
        "\n",
        "# Create model\n",
        "model_1 = tf.keras.Sequential([\n",
        "   tf.keras.layers.Dense(1)\n",
        "])\n",
        "\n",
        "model_1.compile(loss=tf.keras.losses.BinaryCrossentropy(),\n",
        "                optimizer=tf.keras.optimizers.SGD(),\n",
        "                metrics=[\"accuracy\"])\n",
        "\n",
        "model_1.fit(X, y, epochs=5)"
      ],
      "execution_count": 10,
      "outputs": [
        {
          "output_type": "stream",
          "text": [
            "Epoch 1/5\n",
            "32/32 [==============================] - 1s 2ms/step - loss: 4.1198 - accuracy: 0.4378\n",
            "Epoch 2/5\n",
            "32/32 [==============================] - 0s 1ms/step - loss: 0.7207 - accuracy: 0.5530\n",
            "Epoch 3/5\n",
            "32/32 [==============================] - 0s 1ms/step - loss: 0.7033 - accuracy: 0.4836\n",
            "Epoch 4/5\n",
            "32/32 [==============================] - 0s 1ms/step - loss: 0.6925 - accuracy: 0.5180\n",
            "Epoch 5/5\n",
            "32/32 [==============================] - 0s 1ms/step - loss: 0.6937 - accuracy: 0.5157\n"
          ],
          "name": "stdout"
        },
        {
          "output_type": "execute_result",
          "data": {
            "text/plain": [
              "<tensorflow.python.keras.callbacks.History at 0x7f468eade490>"
            ]
          },
          "metadata": {
            "tags": []
          },
          "execution_count": 10
        }
      ]
    },
    {
      "cell_type": "code",
      "metadata": {
        "id": "eOW25SXaaKFa",
        "colab": {
          "base_uri": "https://localhost:8080/"
        },
        "outputId": "1e1e3bc9-7ffb-42ef-e17c-267c9d862d54"
      },
      "source": [
        "# Let's try and improve our model by trining for longer...\n",
        "model_1.fit(X,y,epochs=200,verbose=0)\n",
        "model_1.evaluate(X,y)"
      ],
      "execution_count": 11,
      "outputs": [
        {
          "output_type": "stream",
          "text": [
            "32/32 [==============================] - 0s 1ms/step - loss: 0.6935 - accuracy: 0.5000\n"
          ],
          "name": "stdout"
        },
        {
          "output_type": "execute_result",
          "data": {
            "text/plain": [
              "[0.6934829950332642, 0.5]"
            ]
          },
          "metadata": {
            "tags": []
          },
          "execution_count": 11
        }
      ]
    },
    {
      "cell_type": "markdown",
      "metadata": {
        "id": "lg4YuFdJDHXf"
      },
      "source": [
        "Since we're working on binary classification problem and our model is getting around ~50% accuracy... it's performing as if it's guessing.\n",
        "\n",
        "So let's step things up a notch and add an extra layer."
      ]
    },
    {
      "cell_type": "code",
      "metadata": {
        "colab": {
          "base_uri": "https://localhost:8080/"
        },
        "id": "x75OwVOTDY1v",
        "outputId": "5ce5729d-0c21-44a4-8a3a-7b001d9cb707"
      },
      "source": [
        "# Set random seed\n",
        "tf.random.set_seed(42)\n",
        "\n",
        "# Create model\n",
        "model_2 = tf.keras.Sequential([\n",
        "   tf.keras.layers.Dense(1),\n",
        "   tf.keras.layers.Dense(1)\n",
        "])\n",
        "\n",
        "# Compile the model\n",
        "model_2.compile(loss=tf.keras.losses.BinaryCrossentropy(),\n",
        "                optimizer=tf.keras.optimizers.SGD(),\n",
        "                metrics=[\"accuracy\"])\n",
        "\n",
        "# Fit the model\n",
        "model_2.fit(X,y,epochs=100,verbose=0)"
      ],
      "execution_count": 12,
      "outputs": [
        {
          "output_type": "execute_result",
          "data": {
            "text/plain": [
              "<tensorflow.python.keras.callbacks.History at 0x7f468c36fad0>"
            ]
          },
          "metadata": {
            "tags": []
          },
          "execution_count": 12
        }
      ]
    },
    {
      "cell_type": "code",
      "metadata": {
        "colab": {
          "base_uri": "https://localhost:8080/"
        },
        "id": "_FPevat2D6E7",
        "outputId": "ce92cafb-e357-4a0e-aa3a-b0f2d258e827"
      },
      "source": [
        "# Evaluate the model\n",
        "model_2.evaluate(X,y)"
      ],
      "execution_count": 13,
      "outputs": [
        {
          "output_type": "stream",
          "text": [
            "32/32 [==============================] - 0s 1ms/step - loss: 0.6933 - accuracy: 0.5000\n"
          ],
          "name": "stdout"
        },
        {
          "output_type": "execute_result",
          "data": {
            "text/plain": [
              "[0.6933314800262451, 0.5]"
            ]
          },
          "metadata": {
            "tags": []
          },
          "execution_count": 13
        }
      ]
    },
    {
      "cell_type": "markdown",
      "metadata": {
        "id": "XW_BLJ8wEXvb"
      },
      "source": [
        "## Improving our model\n",
        "\n",
        "Let's look into our bag of tricks to see how we can improve our model.\n",
        "\n",
        "1. Create a model - we might wanst to add more layers or increase the number of hidden units within a layer\n",
        "2. Compiling a model - here we might want to choose a different optimization function such as Adam instead of SGD\n",
        "3. Fitting a model - perhaps we might fit our model for more epochs (leave it training for longer)"
      ]
    },
    {
      "cell_type": "code",
      "metadata": {
        "id": "-Qga9heIEJIL",
        "colab": {
          "base_uri": "https://localhost:8080/"
        },
        "outputId": "bc73051d-c4e3-4053-ad36-4957acf330fd"
      },
      "source": [
        "# Set random seed\n",
        "tf.random.set_seed(42)\n",
        "\n",
        "# Create a model (this time 3 layers)\n",
        "model_3 = tf.keras.Sequential([\n",
        "   tf.keras.layers.Dense(100), # add 100 dense neurons\n",
        "   tf.keras.layers.Dense(10), # add another layers with 10 neurons\n",
        "   tf.keras.layers.Dense(1)\n",
        "])\n",
        "\n",
        "# Compile model\n",
        "model_3.compile(loss=tf.keras.losses.BinaryCrossentropy(),\n",
        "                optimizer=tf.keras.optimizers.Adam(),\n",
        "                metrics=[\"accuracy\"])\n",
        "\n",
        "# Fit model\n",
        "model_3.fit(X,y,epochs=100,verbose=0)"
      ],
      "execution_count": 14,
      "outputs": [
        {
          "output_type": "execute_result",
          "data": {
            "text/plain": [
              "<tensorflow.python.keras.callbacks.History at 0x7f46c93d3310>"
            ]
          },
          "metadata": {
            "tags": []
          },
          "execution_count": 14
        }
      ]
    },
    {
      "cell_type": "code",
      "metadata": {
        "colab": {
          "base_uri": "https://localhost:8080/"
        },
        "id": "CNl063osmXcu",
        "outputId": "8b10c467-57dd-4483-8d80-9adfc0056183"
      },
      "source": [
        "model_3.evaluate(X,y)"
      ],
      "execution_count": 15,
      "outputs": [
        {
          "output_type": "stream",
          "text": [
            "32/32 [==============================] - 0s 1ms/step - loss: 0.6980 - accuracy: 0.5080\n"
          ],
          "name": "stdout"
        },
        {
          "output_type": "execute_result",
          "data": {
            "text/plain": [
              "[0.6980252265930176, 0.5080000162124634]"
            ]
          },
          "metadata": {
            "tags": []
          },
          "execution_count": 15
        }
      ]
    },
    {
      "cell_type": "markdown",
      "metadata": {
        "id": "JnhBrqZg_RhX"
      },
      "source": [
        "To visualize our model's predictions, let's create a function `plot_decision_boundary()`, this function will:\n",
        "* Take in a trained model, features (X) and labels(y)\n",
        "* Create a meshgrid of the different X values\n",
        "* Make predictions across the meshgrid\n",
        "* Plot the predictions as well as a line between zones (where each unique class falls)"
      ]
    },
    {
      "cell_type": "code",
      "metadata": {
        "id": "BiktEMeQKJnL"
      },
      "source": [
        "import numpy as np"
      ],
      "execution_count": 16,
      "outputs": []
    },
    {
      "cell_type": "code",
      "metadata": {
        "id": "pQo6tAJz_RRz"
      },
      "source": [
        "def plot_decision_boundary(model,X,y):\n",
        "  \"\"\"\n",
        "  Plots the decision boundary created by a model predicting on X\n",
        "  \"\"\"\n",
        "  # Define the axis boundaries of the plot and create a meshgrid\n",
        "  x_min,x_max = X[:,0].min() - 0.1, X[:,0].max() + 0.1\n",
        "  y_min,y_max = X[:,1].min() - 0.1, X[:,1].max() + 0.1\n",
        "  xx, yy = np.meshgrid(np.linspace(x_min,x_max,100),\n",
        "                       np.linspace(y_min,y_max,100))\n",
        "\n",
        "  # Create X values (we're going to make predictions on these)\n",
        "  x_in = np.c_[xx.ravel(),yy.ravel()] # stack 2D array together\n",
        "\n",
        "  # Make predictions\n",
        "  y_pred = model.predict(x_in)\n",
        "\n",
        "  # Check for multi-class\n",
        "  if len(y_pred[0]) > 1:\n",
        "    print(\"doing multiclass classification\")\n",
        "    # We have to reshape our prediction to get them ready for plot\n",
        "    y_pred = np.argmax(y_pred,axis=1).reshape(xx.shape)\n",
        "  else:\n",
        "    print(\"doing binarry classification\")\n",
        "    y_pred = np.round(y_pred).reshape(xx.shape)\n",
        "\n",
        "  # Plot the decision boundary\n",
        "  plt.contourf(xx,yy,y_pred,cmap=plt.cm.RdYlBu,alpha=0.7)\n",
        "  plt.scatter(X[:,0],X[:,1],c=y,s=40,cmap=plt.cm.RdYlBu)\n",
        "  plt.xlim(xx.min(),xx.max())\n",
        "  plt.ylim(yy.min(),yy.max())"
      ],
      "execution_count": 17,
      "outputs": []
    },
    {
      "cell_type": "code",
      "metadata": {
        "colab": {
          "base_uri": "https://localhost:8080/",
          "height": 282
        },
        "id": "0f8q6_oo_C_d",
        "outputId": "d48693cb-01d1-423f-e1f7-9878fb24f5a7"
      },
      "source": [
        "# Check out the predictions our model is making\n",
        "plot_decision_boundary(model=model_3,X=X,y=y)"
      ],
      "execution_count": 18,
      "outputs": [
        {
          "output_type": "stream",
          "text": [
            "doing binarry classification\n"
          ],
          "name": "stdout"
        },
        {
          "output_type": "display_data",
          "data": {
            "image/png": "[encoded data removed]",
            "text/plain": [
              "<Figure size 432x288 with 1 Axes>"
            ]
          },
          "metadata": {
            "tags": [],
            "needs_background": "light"
          }
        }
      ]
    },
    {
      "cell_type": "code",
      "metadata": {
        "colab": {
          "base_uri": "https://localhost:8080/",
          "height": 239
        },
        "id": "r1l0yowCKX54",
        "outputId": "05892982-4bfa-4db4-8837-22e4fcc781c3"
      },
      "source": [
        "# Let's see if our model can be used for a regression problem...\n",
        "\n",
        "tf.random.set_seed(42)\n",
        "\n",
        "# Create some regression data \n",
        "X_regression = tf.range(0,1000,5)\n",
        "y_regression = tf.range(100,1100,5) # y = X + 100\n",
        "\n",
        "# Split our regression data into training and test sets\n",
        "X_reg_train = X_regression[:150]\n",
        "X_reg_test = X_regression[150:]\n",
        "y_reg_train = y_regression[:150]\n",
        "y_reg_test = y_regression[150:]\n",
        "\n",
        "\"\"\" Error\n",
        "# For out model to regression data\n",
        "model_3.fit(X_reg_train,y_reg_train,epochs=100)\n",
        "\"\"\"\n",
        "\"\"\"\n",
        "Epoch 1/100\n",
        "---------------------------------------------------------------------------\n",
        "ValueError                                Traceback (most recent call last)\n",
        "<ipython-input-19-7c72813a08b7> in <module>()\n",
        "     14 \n",
        "     15 # Fot out model to regression data\n",
        "---> 16 model_3.fit(X_reg_train,y_reg_train,epochs=100)\n",
        "\n",
        "9 frames\n",
        "/usr/local/lib/python3.7/dist-packages/tensorflow/python/framework/func_graph.py in wrapper(*args, **kwargs)\n",
        "    975           except Exception as e:  # pylint:disable=broad-except\n",
        "    976             if hasattr(e, \"ag_error_metadata\"):\n",
        "--> 977               raise e.ag_error_metadata.to_exception(e)\n",
        "    978             else:\n",
        "    979               raise\n",
        "\n",
        "ValueError: in user code:\n",
        "\n",
        "    /usr/local/lib/python3.7/dist-packages/tensorflow/python/keras/engine/training.py:805 train_function  *\n",
        "        return step_function(self, iterator)\n",
        "    /usr/local/lib/python3.7/dist-packages/tensorflow/python/keras/engine/training.py:795 step_function  **\n",
        "        outputs = model.distribute_strategy.run(run_step, args=(data,))\n",
        "    /usr/local/lib/python3.7/dist-packages/tensorflow/python/distribute/distribute_lib.py:1259 run\n",
        "        return self._extended.call_for_each_replica(fn, args=args, kwargs=kwargs)\n",
        "    /usr/local/lib/python3.7/dist-packages/tensorflow/python/distribute/distribute_lib.py:2730 call_for_each_replica\n",
        "        return self._call_for_each_replica(fn, args, kwargs)\n",
        "    /usr/local/lib/python3.7/dist-packages/tensorflow/python/distribute/distribute_lib.py:3417 _call_for_each_replica\n",
        "        return fn(*args, **kwargs)\n",
        "    /usr/local/lib/python3.7/dist-packages/tensorflow/python/keras/engine/training.py:788 run_step  **\n",
        "        outputs = model.train_step(data)\n",
        "    /usr/local/lib/python3.7/dist-packages/tensorflow/python/keras/engine/training.py:754 train_step\n",
        "        y_pred = self(x, training=True)\n",
        "    /usr/local/lib/python3.7/dist-packages/tensorflow/python/keras/engine/base_layer.py:998 __call__\n",
        "        input_spec.assert_input_compatibility(self.input_spec, inputs, self.name)\n",
        "    /usr/local/lib/python3.7/dist-packages/tensorflow/python/keras/engine/input_spec.py:259 assert_input_compatibility\n",
        "        ' but received input with shape ' + display_shape(x.shape))\n",
        "\n",
        "    ValueError: Input 0 of layer sequential_2 is incompatible with the layer: expected axis -1 of input shape to have value 2 but received input with shape (None, 1)\n",
        "\"\"\"\n"
      ],
      "execution_count": 19,
      "outputs": [
        {
          "output_type": "execute_result",
          "data": {
            "application/vnd.google.colaboratory.intrinsic+json": {
              "type": "string"
            },
            "text/plain": [
              "'\\nEpoch 1/100\\n---------------------------------------------------------------------------\\nValueError                                Traceback (most recent call last)\\n<ipython-input-19-7c72813a08b7> in <module>()\\n     14 \\n     15 # Fot out model to regression data\\n---> 16 model_3.fit(X_reg_train,y_reg_train,epochs=100)\\n\\n9 frames\\n/usr/local/lib/python3.7/dist-packages/tensorflow/python/framework/func_graph.py in wrapper(*args, **kwargs)\\n    975           except Exception as e:  # pylint:disable=broad-except\\n    976             if hasattr(e, \"ag_error_metadata\"):\\n--> 977               raise e.ag_error_metadata.to_exception(e)\\n    978             else:\\n    979               raise\\n\\nValueError: in user code:\\n\\n    /usr/local/lib/python3.7/dist-packages/tensorflow/python/keras/engine/training.py:805 train_function  *\\n        return step_function(self, iterator)\\n    /usr/local/lib/python3.7/dist-packages/tensorflow/python/keras/engine/training.py:795 step_function  **\\n        outputs = model.distribute_strategy.run(run_step, args=(data,))\\n    /usr/local/lib/python3.7/dist-packages/tensorflow/python/distribute/distribute_lib.py:1259 run\\n        return self._extended.call_for_each_replica(fn, args=args, kwargs=kwargs)\\n    /usr/local/lib/python3.7/dist-packages/tensorflow/python/distribute/distribute_lib.py:2730 call_for_each_replica\\n        return self._call_for_each_replica(fn, args, kwargs)\\n    /usr/local/lib/python3.7/dist-packages/tensorflow/python/distribute/distribute_lib.py:3417 _call_for_each_replica\\n        return fn(*args, **kwargs)\\n    /usr/local/lib/python3.7/dist-packages/tensorflow/python/keras/engine/training.py:788 run_step  **\\n        outputs = model.train_step(data)\\n    /usr/local/lib/python3.7/dist-packages/tensorflow/python/keras/engine/training.py:754 train_step\\n        y_pred = self(x, training=True)\\n    /usr/local/lib/python3.7/dist-packages/tensorflow/python/keras/engine/base_layer.py:998 __call__\\n        input_spec.assert_input_compatibility(self.input_spec, inputs, self.name)\\n    /usr/local/lib/python3.7/dist-packages/tensorflow/python/keras/engine/input_spec.py:259 assert_input_compatibility\\n        \\' but received input with shape \\' + display_shape(x.shape))\\n\\n    ValueError: Input 0 of layer sequential_2 is incompatible with the layer: expected axis -1 of input shape to have value 2 but received input with shape (None, 1)\\n'"
            ]
          },
          "metadata": {
            "tags": []
          },
          "execution_count": 19
        }
      ]
    },
    {
      "cell_type": "markdown",
      "metadata": {
        "id": "ZLRQfzKdVXic"
      },
      "source": [
        "Ohh wait... we compiled our model for a binary classigication problem.\n",
        "\n",
        "But... we're now working on a regression problem, let's change the model to suit our data."
      ]
    },
    {
      "cell_type": "code",
      "metadata": {
        "id": "mnrJMxO4nO7u",
        "colab": {
          "base_uri": "https://localhost:8080/"
        },
        "outputId": "467bb348-8a4c-425e-cf9c-713e4ec248fc"
      },
      "source": [
        "# Setup random seed\n",
        "tf.random.set_seed(42)\n",
        "\n",
        "# Create model\n",
        "model_3 = tf.keras.Sequential([\n",
        "   tf.keras.layers.Dense(100),\n",
        "   tf.keras.layers.Dense(10),\n",
        "   tf.keras.layers.Dense(1),\n",
        "])\n",
        "\n",
        "# Compile the model, this time with regression-specific loss function\n",
        "model_3.compile(loss=\"mae\",\n",
        "                optimizer=tf.keras.optimizers.Adam(),\n",
        "                metrics=[\"mae\"])\n",
        "\n",
        "# Fit the model\n",
        "model_3.fit(X_reg_train,y_reg_train,epochs=100)"
      ],
      "execution_count": 20,
      "outputs": [
        {
          "output_type": "stream",
          "text": [
            "Epoch 1/100\n",
            "5/5 [==============================] - 0s 2ms/step - loss: 269.0470 - mae: 269.0470\n",
            "Epoch 2/100\n",
            "5/5 [==============================] - 0s 2ms/step - loss: 154.3811 - mae: 154.3811\n",
            "Epoch 3/100\n",
            "5/5 [==============================] - 0s 2ms/step - loss: 57.2730 - mae: 57.2730\n",
            "Epoch 4/100\n",
            "5/5 [==============================] - 0s 2ms/step - loss: 72.9343 - mae: 72.9343\n",
            "Epoch 5/100\n",
            "5/5 [==============================] - 0s 2ms/step - loss: 74.6513 - mae: 74.6513\n",
            "Epoch 6/100\n",
            "5/5 [==============================] - 0s 2ms/step - loss: 51.1576 - mae: 51.1576\n",
            "Epoch 7/100\n",
            "5/5 [==============================] - 0s 2ms/step - loss: 46.7825 - mae: 46.7825\n",
            "Epoch 8/100\n",
            "5/5 [==============================] - 0s 2ms/step - loss: 45.3201 - mae: 45.3201\n",
            "Epoch 9/100\n",
            "5/5 [==============================] - 0s 4ms/step - loss: 43.2766 - mae: 43.2766\n",
            "Epoch 10/100\n",
            "5/5 [==============================] - 0s 2ms/step - loss: 42.0546 - mae: 42.0546\n",
            "Epoch 11/100\n",
            "5/5 [==============================] - 0s 2ms/step - loss: 39.9395 - mae: 39.9395\n",
            "Epoch 12/100\n",
            "5/5 [==============================] - 0s 3ms/step - loss: 41.6958 - mae: 41.6958\n",
            "Epoch 13/100\n",
            "5/5 [==============================] - 0s 2ms/step - loss: 42.1797 - mae: 42.1797\n",
            "Epoch 14/100\n",
            "5/5 [==============================] - 0s 3ms/step - loss: 41.4390 - mae: 41.4390\n",
            "Epoch 15/100\n",
            "5/5 [==============================] - 0s 2ms/step - loss: 42.4729 - mae: 42.4729\n",
            "Epoch 16/100\n",
            "5/5 [==============================] - 0s 2ms/step - loss: 41.7137 - mae: 41.7137\n",
            "Epoch 17/100\n",
            "5/5 [==============================] - 0s 3ms/step - loss: 40.7106 - mae: 40.7106\n",
            "Epoch 18/100\n",
            "5/5 [==============================] - 0s 3ms/step - loss: 43.6025 - mae: 43.6025\n",
            "Epoch 19/100\n",
            "5/5 [==============================] - 0s 3ms/step - loss: 40.5440 - mae: 40.5440\n",
            "Epoch 20/100\n",
            "5/5 [==============================] - 0s 3ms/step - loss: 42.1087 - mae: 42.1087\n",
            "Epoch 21/100\n",
            "5/5 [==============================] - 0s 2ms/step - loss: 41.2669 - mae: 41.2669\n",
            "Epoch 22/100\n",
            "5/5 [==============================] - 0s 2ms/step - loss: 39.9910 - mae: 39.9910\n",
            "Epoch 23/100\n",
            "5/5 [==============================] - 0s 2ms/step - loss: 39.1482 - mae: 39.1482\n",
            "Epoch 24/100\n",
            "5/5 [==============================] - 0s 2ms/step - loss: 44.1352 - mae: 44.1352\n",
            "Epoch 25/100\n",
            "5/5 [==============================] - 0s 2ms/step - loss: 40.6493 - mae: 40.6493\n",
            "Epoch 26/100\n",
            "5/5 [==============================] - 0s 3ms/step - loss: 40.4866 - mae: 40.4866\n",
            "Epoch 27/100\n",
            "5/5 [==============================] - 0s 3ms/step - loss: 42.0372 - mae: 42.0372\n",
            "Epoch 28/100\n",
            "5/5 [==============================] - 0s 2ms/step - loss: 43.2194 - mae: 43.2194\n",
            "Epoch 29/100\n",
            "5/5 [==============================] - 0s 2ms/step - loss: 41.7250 - mae: 41.7250\n",
            "Epoch 30/100\n",
            "5/5 [==============================] - 0s 2ms/step - loss: 40.0898 - mae: 40.0898\n",
            "Epoch 31/100\n",
            "5/5 [==============================] - 0s 2ms/step - loss: 41.4483 - mae: 41.4483\n",
            "Epoch 32/100\n",
            "5/5 [==============================] - 0s 3ms/step - loss: 39.4715 - mae: 39.4715\n",
            "Epoch 33/100\n",
            "5/5 [==============================] - 0s 2ms/step - loss: 40.5190 - mae: 40.5190\n",
            "Epoch 34/100\n",
            "5/5 [==============================] - 0s 2ms/step - loss: 39.9166 - mae: 39.9166\n",
            "Epoch 35/100\n",
            "5/5 [==============================] - 0s 3ms/step - loss: 39.9520 - mae: 39.9520\n",
            "Epoch 36/100\n",
            "5/5 [==============================] - 0s 2ms/step - loss: 42.2826 - mae: 42.2826\n",
            "Epoch 37/100\n",
            "5/5 [==============================] - 0s 3ms/step - loss: 39.9554 - mae: 39.9554\n",
            "Epoch 38/100\n",
            "5/5 [==============================] - 0s 2ms/step - loss: 39.5121 - mae: 39.5121\n",
            "Epoch 39/100\n",
            "5/5 [==============================] - 0s 3ms/step - loss: 42.5141 - mae: 42.5141\n",
            "Epoch 40/100\n",
            "5/5 [==============================] - 0s 2ms/step - loss: 39.9603 - mae: 39.9603\n",
            "Epoch 41/100\n",
            "5/5 [==============================] - 0s 3ms/step - loss: 40.2153 - mae: 40.2153\n",
            "Epoch 42/100\n",
            "5/5 [==============================] - 0s 2ms/step - loss: 38.8588 - mae: 38.8588\n",
            "Epoch 43/100\n",
            "5/5 [==============================] - 0s 3ms/step - loss: 41.1992 - mae: 41.1992\n",
            "Epoch 44/100\n",
            "5/5 [==============================] - 0s 3ms/step - loss: 38.0775 - mae: 38.0775\n",
            "Epoch 45/100\n",
            "5/5 [==============================] - 0s 3ms/step - loss: 40.5288 - mae: 40.5288\n",
            "Epoch 46/100\n",
            "5/5 [==============================] - 0s 3ms/step - loss: 41.5053 - mae: 41.5053\n",
            "Epoch 47/100\n",
            "5/5 [==============================] - 0s 3ms/step - loss: 40.7145 - mae: 40.7145\n",
            "Epoch 48/100\n",
            "5/5 [==============================] - 0s 2ms/step - loss: 38.3176 - mae: 38.3176\n",
            "Epoch 49/100\n",
            "5/5 [==============================] - 0s 3ms/step - loss: 39.9693 - mae: 39.9693\n",
            "Epoch 50/100\n",
            "5/5 [==============================] - 0s 3ms/step - loss: 39.5922 - mae: 39.5922\n",
            "Epoch 51/100\n",
            "5/5 [==============================] - 0s 3ms/step - loss: 40.0319 - mae: 40.0319\n",
            "Epoch 52/100\n",
            "5/5 [==============================] - 0s 4ms/step - loss: 41.3640 - mae: 41.3640\n",
            "Epoch 53/100\n",
            "5/5 [==============================] - 0s 2ms/step - loss: 40.5084 - mae: 40.5084\n",
            "Epoch 54/100\n",
            "5/5 [==============================] - 0s 3ms/step - loss: 41.0810 - mae: 41.0810\n",
            "Epoch 55/100\n",
            "5/5 [==============================] - 0s 2ms/step - loss: 41.2550 - mae: 41.2550\n",
            "Epoch 56/100\n",
            "5/5 [==============================] - 0s 2ms/step - loss: 38.2437 - mae: 38.2437\n",
            "Epoch 57/100\n",
            "5/5 [==============================] - 0s 3ms/step - loss: 43.5526 - mae: 43.5526\n",
            "Epoch 58/100\n",
            "5/5 [==============================] - 0s 3ms/step - loss: 41.1359 - mae: 41.1359\n",
            "Epoch 59/100\n",
            "5/5 [==============================] - 0s 3ms/step - loss: 40.6831 - mae: 40.6831\n",
            "Epoch 60/100\n",
            "5/5 [==============================] - 0s 3ms/step - loss: 38.7776 - mae: 38.7776\n",
            "Epoch 61/100\n",
            "5/5 [==============================] - 0s 3ms/step - loss: 40.9637 - mae: 40.9637\n",
            "Epoch 62/100\n",
            "5/5 [==============================] - 0s 3ms/step - loss: 42.0909 - mae: 42.0909\n",
            "Epoch 63/100\n",
            "5/5 [==============================] - 0s 2ms/step - loss: 39.3585 - mae: 39.3585\n",
            "Epoch 64/100\n",
            "5/5 [==============================] - 0s 2ms/step - loss: 40.3798 - mae: 40.3798\n",
            "Epoch 65/100\n",
            "5/5 [==============================] - 0s 3ms/step - loss: 37.2417 - mae: 37.2417\n",
            "Epoch 66/100\n",
            "5/5 [==============================] - 0s 3ms/step - loss: 40.0694 - mae: 40.0694\n",
            "Epoch 67/100\n",
            "5/5 [==============================] - 0s 2ms/step - loss: 39.7630 - mae: 39.7630\n",
            "Epoch 68/100\n",
            "5/5 [==============================] - 0s 3ms/step - loss: 39.5543 - mae: 39.5543\n",
            "Epoch 69/100\n",
            "5/5 [==============================] - 0s 3ms/step - loss: 41.4412 - mae: 41.4412\n",
            "Epoch 70/100\n",
            "5/5 [==============================] - 0s 2ms/step - loss: 37.9358 - mae: 37.9358\n",
            "Epoch 71/100\n",
            "5/5 [==============================] - 0s 3ms/step - loss: 41.7472 - mae: 41.7472\n",
            "Epoch 72/100\n",
            "5/5 [==============================] - 0s 3ms/step - loss: 39.1517 - mae: 39.1517\n",
            "Epoch 73/100\n",
            "5/5 [==============================] - 0s 3ms/step - loss: 40.6935 - mae: 40.6935\n",
            "Epoch 74/100\n",
            "5/5 [==============================] - 0s 3ms/step - loss: 38.5686 - mae: 38.5686\n",
            "Epoch 75/100\n",
            "5/5 [==============================] - 0s 3ms/step - loss: 41.0570 - mae: 41.0570\n",
            "Epoch 76/100\n",
            "5/5 [==============================] - 0s 3ms/step - loss: 39.0935 - mae: 39.0935\n",
            "Epoch 77/100\n",
            "5/5 [==============================] - 0s 2ms/step - loss: 38.3090 - mae: 38.3090\n",
            "Epoch 78/100\n",
            "5/5 [==============================] - 0s 4ms/step - loss: 40.0081 - mae: 40.0081\n",
            "Epoch 79/100\n",
            "5/5 [==============================] - 0s 3ms/step - loss: 39.0374 - mae: 39.0374\n",
            "Epoch 80/100\n",
            "5/5 [==============================] - 0s 3ms/step - loss: 37.3585 - mae: 37.3585\n",
            "Epoch 81/100\n",
            "5/5 [==============================] - 0s 2ms/step - loss: 40.1324 - mae: 40.1324\n",
            "Epoch 82/100\n",
            "5/5 [==============================] - 0s 2ms/step - loss: 40.2873 - mae: 40.2873\n",
            "Epoch 83/100\n",
            "5/5 [==============================] - 0s 2ms/step - loss: 39.3348 - mae: 39.3348\n",
            "Epoch 84/100\n",
            "5/5 [==============================] - 0s 2ms/step - loss: 39.7600 - mae: 39.7600\n",
            "Epoch 85/100\n",
            "5/5 [==============================] - 0s 3ms/step - loss: 38.1223 - mae: 38.1223\n",
            "Epoch 86/100\n",
            "5/5 [==============================] - 0s 2ms/step - loss: 37.7458 - mae: 37.7458\n",
            "Epoch 87/100\n",
            "5/5 [==============================] - 0s 3ms/step - loss: 41.0119 - mae: 41.0119\n",
            "Epoch 88/100\n",
            "5/5 [==============================] - 0s 2ms/step - loss: 37.8339 - mae: 37.8339\n",
            "Epoch 89/100\n",
            "5/5 [==============================] - 0s 2ms/step - loss: 37.2122 - mae: 37.2122\n",
            "Epoch 90/100\n",
            "5/5 [==============================] - 0s 3ms/step - loss: 39.7535 - mae: 39.7535\n",
            "Epoch 91/100\n",
            "5/5 [==============================] - 0s 3ms/step - loss: 38.6632 - mae: 38.6632\n",
            "Epoch 92/100\n",
            "5/5 [==============================] - 0s 3ms/step - loss: 40.5121 - mae: 40.5121\n",
            "Epoch 93/100\n",
            "5/5 [==============================] - 0s 3ms/step - loss: 38.7183 - mae: 38.7183\n",
            "Epoch 94/100\n",
            "5/5 [==============================] - 0s 2ms/step - loss: 38.5354 - mae: 38.5354\n",
            "Epoch 95/100\n",
            "5/5 [==============================] - 0s 3ms/step - loss: 37.0840 - mae: 37.0840\n",
            "Epoch 96/100\n",
            "5/5 [==============================] - 0s 3ms/step - loss: 37.9161 - mae: 37.9161\n",
            "Epoch 97/100\n",
            "5/5 [==============================] - 0s 3ms/step - loss: 36.5175 - mae: 36.5175\n",
            "Epoch 98/100\n",
            "5/5 [==============================] - 0s 3ms/step - loss: 39.6300 - mae: 39.6300\n",
            "Epoch 99/100\n",
            "5/5 [==============================] - 0s 4ms/step - loss: 40.2555 - mae: 40.2555\n",
            "Epoch 100/100\n",
            "5/5 [==============================] - 0s 3ms/step - loss: 39.3047 - mae: 39.3047\n"
          ],
          "name": "stdout"
        },
        {
          "output_type": "execute_result",
          "data": {
            "text/plain": [
              "<tensorflow.python.keras.callbacks.History at 0x7f468e1bd390>"
            ]
          },
          "metadata": {
            "tags": []
          },
          "execution_count": 20
        }
      ]
    },
    {
      "cell_type": "code",
      "metadata": {
        "colab": {
          "base_uri": "https://localhost:8080/",
          "height": 428
        },
        "id": "N7Jzx3pPWrU1",
        "outputId": "4ae68838-4c72-49cf-a155-7dfe8e00e03d"
      },
      "source": [
        "# Make predicitons with our trained model\n",
        "y_reg_preds = model_3.predict(X_reg_test)\n",
        "\n",
        "# Plot the model's predictions against our regression data\n",
        "plt.figure(figsize=(10,7))\n",
        "plt.scatter(X_reg_train,y_reg_train,c=\"b\",label=\"Training data\")\n",
        "plt.scatter(X_reg_test,y_reg_test,c=\"g\",label=\"Test data\")\n",
        "plt.scatter(X_reg_test,y_reg_preds,c=\"r\",label=\"Predictions\")\n",
        "plt.legend();"
      ],
      "execution_count": 21,
      "outputs": [
        {
          "output_type": "display_data",
          "data": {
            "image/png": "[encoded data removed]",
            "text/plain": [
              "<Figure size 720x504 with 1 Axes>"
            ]
          },
          "metadata": {
            "tags": [],
            "needs_background": "light"
          }
        }
      ]
    },
    {
      "cell_type": "markdown",
      "metadata": {
        "id": "mDfqYRXZaHHg"
      },
      "source": [
        "## The missing piece: Non-linearity"
      ]
    },
    {
      "cell_type": "code",
      "metadata": {
        "colab": {
          "base_uri": "https://localhost:8080/"
        },
        "id": "ZSKQKb2ZZc3l",
        "outputId": "f87aaa2c-31a7-4aa9-fae2-10eeeb839099"
      },
      "source": [
        "# Set random seed\n",
        "tf.random.set_seed(42)\n",
        "\n",
        "# Create the model\n",
        "model_4 = tf.keras.Sequential([\n",
        "    tf.keras.layers.Dense(1,activation=\"linear\")\n",
        "])\n",
        "\n",
        "# Compile the model\n",
        "model_4.compile(loss=\"binary_crossentropy\",\n",
        "                optimizer=tf.keras.optimizers.Adam(lr=0.001),\n",
        "                metrics=[\"accuracy\"])\n",
        "\n",
        "# Fit the model\n",
        "history = model_4.fit(X,y,epochs=100)"
      ],
      "execution_count": 22,
      "outputs": [
        {
          "output_type": "stream",
          "text": [
            "Epoch 1/100\n",
            "32/32 [==============================] - 0s 1ms/step - loss: 4.6225 - accuracy: 0.4548\n",
            "Epoch 2/100\n",
            "32/32 [==============================] - 0s 1ms/step - loss: 4.3079 - accuracy: 0.4220\n",
            "Epoch 3/100\n",
            "32/32 [==============================] - 0s 1ms/step - loss: 4.5266 - accuracy: 0.4276\n",
            "Epoch 4/100\n",
            "32/32 [==============================] - 0s 1ms/step - loss: 4.0583 - accuracy: 0.4295\n",
            "Epoch 5/100\n",
            "32/32 [==============================] - 0s 1ms/step - loss: 4.2318 - accuracy: 0.4045\n",
            "Epoch 6/100\n",
            "32/32 [==============================] - 0s 1ms/step - loss: 3.7724 - accuracy: 0.4447\n",
            "Epoch 7/100\n",
            "32/32 [==============================] - 0s 1ms/step - loss: 3.9616 - accuracy: 0.4212\n",
            "Epoch 8/100\n",
            "32/32 [==============================] - 0s 1ms/step - loss: 3.6369 - accuracy: 0.4227\n",
            "Epoch 9/100\n",
            "32/32 [==============================] - 0s 1ms/step - loss: 3.9298 - accuracy: 0.3950\n",
            "Epoch 10/100\n",
            "32/32 [==============================] - 0s 1ms/step - loss: 3.5803 - accuracy: 0.4409\n",
            "Epoch 11/100\n",
            "32/32 [==============================] - 0s 1ms/step - loss: 3.5504 - accuracy: 0.4261\n",
            "Epoch 12/100\n",
            "32/32 [==============================] - 0s 1ms/step - loss: 3.5741 - accuracy: 0.4223\n",
            "Epoch 13/100\n",
            "32/32 [==============================] - 0s 1ms/step - loss: 3.5175 - accuracy: 0.4463\n",
            "Epoch 14/100\n",
            "32/32 [==============================] - 0s 1ms/step - loss: 3.8437 - accuracy: 0.4146\n",
            "Epoch 15/100\n",
            "32/32 [==============================] - 0s 1ms/step - loss: 3.5543 - accuracy: 0.4213\n",
            "Epoch 16/100\n",
            "32/32 [==============================] - 0s 1ms/step - loss: 3.8719 - accuracy: 0.4132\n",
            "Epoch 17/100\n",
            "32/32 [==============================] - 0s 1ms/step - loss: 3.8357 - accuracy: 0.4062\n",
            "Epoch 18/100\n",
            "32/32 [==============================] - 0s 1ms/step - loss: 3.7374 - accuracy: 0.4076\n",
            "Epoch 19/100\n",
            "32/32 [==============================] - 0s 1ms/step - loss: 3.9845 - accuracy: 0.4001\n",
            "Epoch 20/100\n",
            "32/32 [==============================] - 0s 1ms/step - loss: 3.6871 - accuracy: 0.4236\n",
            "Epoch 21/100\n",
            "32/32 [==============================] - 0s 1ms/step - loss: 3.9482 - accuracy: 0.4004\n",
            "Epoch 22/100\n",
            "32/32 [==============================] - 0s 1ms/step - loss: 3.5859 - accuracy: 0.4283\n",
            "Epoch 23/100\n",
            "32/32 [==============================] - 0s 1ms/step - loss: 3.7162 - accuracy: 0.3970\n",
            "Epoch 24/100\n",
            "32/32 [==============================] - 0s 1ms/step - loss: 4.1418 - accuracy: 0.4105\n",
            "Epoch 25/100\n",
            "32/32 [==============================] - 0s 1ms/step - loss: 3.7044 - accuracy: 0.4079\n",
            "Epoch 26/100\n",
            "32/32 [==============================] - 0s 1ms/step - loss: 3.8416 - accuracy: 0.4218\n",
            "Epoch 27/100\n",
            "32/32 [==============================] - 0s 1ms/step - loss: 3.8660 - accuracy: 0.3975\n",
            "Epoch 28/100\n",
            "32/32 [==============================] - 0s 1ms/step - loss: 4.0993 - accuracy: 0.4025\n",
            "Epoch 29/100\n",
            "32/32 [==============================] - 0s 1ms/step - loss: 3.6183 - accuracy: 0.4196\n",
            "Epoch 30/100\n",
            "32/32 [==============================] - 0s 1ms/step - loss: 3.7359 - accuracy: 0.4140\n",
            "Epoch 31/100\n",
            "32/32 [==============================] - 0s 1ms/step - loss: 3.8858 - accuracy: 0.4021\n",
            "Epoch 32/100\n",
            "32/32 [==============================] - 0s 1ms/step - loss: 3.6341 - accuracy: 0.4281\n",
            "Epoch 33/100\n",
            "32/32 [==============================] - 0s 1ms/step - loss: 3.9117 - accuracy: 0.3959\n",
            "Epoch 34/100\n",
            "32/32 [==============================] - 0s 1ms/step - loss: 3.8023 - accuracy: 0.4235\n",
            "Epoch 35/100\n",
            "32/32 [==============================] - 0s 1ms/step - loss: 3.8093 - accuracy: 0.4089\n",
            "Epoch 36/100\n",
            "32/32 [==============================] - 0s 1ms/step - loss: 3.6982 - accuracy: 0.4281\n",
            "Epoch 37/100\n",
            "32/32 [==============================] - 0s 2ms/step - loss: 3.5539 - accuracy: 0.4167\n",
            "Epoch 38/100\n",
            "32/32 [==============================] - 0s 1ms/step - loss: 3.6524 - accuracy: 0.4090\n",
            "Epoch 39/100\n",
            "32/32 [==============================] - 0s 1ms/step - loss: 3.7082 - accuracy: 0.4100\n",
            "Epoch 40/100\n",
            "32/32 [==============================] - 0s 1ms/step - loss: 3.8772 - accuracy: 0.4227\n",
            "Epoch 41/100\n",
            "32/32 [==============================] - 0s 1ms/step - loss: 4.0137 - accuracy: 0.3719\n",
            "Epoch 42/100\n",
            "32/32 [==============================] - 0s 1ms/step - loss: 3.9546 - accuracy: 0.4042\n",
            "Epoch 43/100\n",
            "32/32 [==============================] - 0s 1ms/step - loss: 3.5138 - accuracy: 0.4127\n",
            "Epoch 44/100\n",
            "32/32 [==============================] - 0s 2ms/step - loss: 3.4642 - accuracy: 0.4393\n",
            "Epoch 45/100\n",
            "32/32 [==============================] - 0s 1ms/step - loss: 3.5422 - accuracy: 0.4211\n",
            "Epoch 46/100\n",
            "32/32 [==============================] - 0s 1ms/step - loss: 3.6221 - accuracy: 0.4339\n",
            "Epoch 47/100\n",
            "32/32 [==============================] - 0s 2ms/step - loss: 3.7741 - accuracy: 0.3989\n",
            "Epoch 48/100\n",
            "32/32 [==============================] - 0s 1ms/step - loss: 3.7942 - accuracy: 0.4093\n",
            "Epoch 49/100\n",
            "32/32 [==============================] - 0s 1ms/step - loss: 3.8251 - accuracy: 0.4339\n",
            "Epoch 50/100\n",
            "32/32 [==============================] - 0s 1ms/step - loss: 3.9261 - accuracy: 0.4343\n",
            "Epoch 51/100\n",
            "32/32 [==============================] - 0s 1ms/step - loss: 3.5809 - accuracy: 0.4418\n",
            "Epoch 52/100\n",
            "32/32 [==============================] - 0s 1ms/step - loss: 3.7244 - accuracy: 0.4190\n",
            "Epoch 53/100\n",
            "32/32 [==============================] - 0s 1ms/step - loss: 3.7227 - accuracy: 0.4320\n",
            "Epoch 54/100\n",
            "32/32 [==============================] - 0s 1ms/step - loss: 3.6481 - accuracy: 0.4135\n",
            "Epoch 55/100\n",
            "32/32 [==============================] - 0s 1ms/step - loss: 3.7481 - accuracy: 0.4132\n",
            "Epoch 56/100\n",
            "32/32 [==============================] - 0s 1ms/step - loss: 3.6382 - accuracy: 0.4141\n",
            "Epoch 57/100\n",
            "32/32 [==============================] - 0s 1ms/step - loss: 3.4266 - accuracy: 0.4449\n",
            "Epoch 58/100\n",
            "32/32 [==============================] - 0s 1ms/step - loss: 3.7316 - accuracy: 0.4054\n",
            "Epoch 59/100\n",
            "32/32 [==============================] - 0s 1ms/step - loss: 4.2613 - accuracy: 0.3959\n",
            "Epoch 60/100\n",
            "32/32 [==============================] - 0s 1ms/step - loss: 3.6835 - accuracy: 0.4018\n",
            "Epoch 61/100\n",
            "32/32 [==============================] - 0s 1ms/step - loss: 3.5997 - accuracy: 0.4013\n",
            "Epoch 62/100\n",
            "32/32 [==============================] - 0s 1ms/step - loss: 3.8376 - accuracy: 0.4131\n",
            "Epoch 63/100\n",
            "32/32 [==============================] - 0s 1ms/step - loss: 3.5848 - accuracy: 0.4110\n",
            "Epoch 64/100\n",
            "32/32 [==============================] - 0s 1ms/step - loss: 3.5204 - accuracy: 0.4160\n",
            "Epoch 65/100\n",
            "32/32 [==============================] - 0s 1ms/step - loss: 3.5838 - accuracy: 0.4135\n",
            "Epoch 66/100\n",
            "32/32 [==============================] - 0s 1ms/step - loss: 3.7712 - accuracy: 0.3998\n",
            "Epoch 67/100\n",
            "32/32 [==============================] - 0s 1ms/step - loss: 3.5219 - accuracy: 0.4162\n",
            "Epoch 68/100\n",
            "32/32 [==============================] - 0s 1ms/step - loss: 3.8075 - accuracy: 0.4221\n",
            "Epoch 69/100\n",
            "32/32 [==============================] - 0s 1ms/step - loss: 3.6794 - accuracy: 0.4209\n",
            "Epoch 70/100\n",
            "32/32 [==============================] - 0s 1ms/step - loss: 3.6803 - accuracy: 0.4281\n",
            "Epoch 71/100\n",
            "32/32 [==============================] - 0s 1ms/step - loss: 3.2151 - accuracy: 0.4531\n",
            "Epoch 72/100\n",
            "32/32 [==============================] - 0s 1ms/step - loss: 3.4491 - accuracy: 0.4369\n",
            "Epoch 73/100\n",
            "32/32 [==============================] - 0s 1ms/step - loss: 3.6387 - accuracy: 0.4204\n",
            "Epoch 74/100\n",
            "32/32 [==============================] - 0s 1ms/step - loss: 3.5549 - accuracy: 0.4334\n",
            "Epoch 75/100\n",
            "32/32 [==============================] - 0s 1ms/step - loss: 3.7334 - accuracy: 0.4158\n",
            "Epoch 76/100\n",
            "32/32 [==============================] - 0s 1ms/step - loss: 3.4068 - accuracy: 0.4657\n",
            "Epoch 77/100\n",
            "32/32 [==============================] - 0s 1ms/step - loss: 3.5936 - accuracy: 0.4233\n",
            "Epoch 78/100\n",
            "32/32 [==============================] - 0s 1ms/step - loss: 3.6633 - accuracy: 0.4627\n",
            "Epoch 79/100\n",
            "32/32 [==============================] - 0s 1ms/step - loss: 3.5492 - accuracy: 0.4497\n",
            "Epoch 80/100\n",
            "32/32 [==============================] - 0s 1ms/step - loss: 3.6710 - accuracy: 0.4456\n",
            "Epoch 81/100\n",
            "32/32 [==============================] - 0s 1ms/step - loss: 3.5712 - accuracy: 0.4326\n",
            "Epoch 82/100\n",
            "32/32 [==============================] - 0s 1ms/step - loss: 3.5963 - accuracy: 0.4419\n",
            "Epoch 83/100\n",
            "32/32 [==============================] - 0s 1ms/step - loss: 3.2356 - accuracy: 0.4525\n",
            "Epoch 84/100\n",
            "32/32 [==============================] - 0s 1ms/step - loss: 3.5418 - accuracy: 0.4625\n",
            "Epoch 85/100\n",
            "32/32 [==============================] - 0s 1ms/step - loss: 3.2489 - accuracy: 0.4532\n",
            "Epoch 86/100\n",
            "32/32 [==============================] - 0s 1ms/step - loss: 3.6405 - accuracy: 0.4320\n",
            "Epoch 87/100\n",
            "32/32 [==============================] - 0s 1ms/step - loss: 3.6339 - accuracy: 0.4412\n",
            "Epoch 88/100\n",
            "32/32 [==============================] - 0s 1ms/step - loss: 3.4366 - accuracy: 0.4386\n",
            "Epoch 89/100\n",
            "32/32 [==============================] - 0s 1ms/step - loss: 3.8395 - accuracy: 0.4201\n",
            "Epoch 90/100\n",
            "32/32 [==============================] - 0s 1ms/step - loss: 3.3056 - accuracy: 0.4740\n",
            "Epoch 91/100\n",
            "32/32 [==============================] - 0s 1ms/step - loss: 3.1759 - accuracy: 0.4685\n",
            "Epoch 92/100\n",
            "32/32 [==============================] - 0s 1ms/step - loss: 3.5662 - accuracy: 0.4409\n",
            "Epoch 93/100\n",
            "32/32 [==============================] - 0s 2ms/step - loss: 3.3057 - accuracy: 0.4562\n",
            "Epoch 94/100\n",
            "32/32 [==============================] - 0s 1ms/step - loss: 3.3934 - accuracy: 0.4279\n",
            "Epoch 95/100\n",
            "32/32 [==============================] - 0s 1ms/step - loss: 3.3242 - accuracy: 0.4767\n",
            "Epoch 96/100\n",
            "32/32 [==============================] - 0s 2ms/step - loss: 3.2343 - accuracy: 0.4602\n",
            "Epoch 97/100\n",
            "32/32 [==============================] - 0s 1ms/step - loss: 3.0087 - accuracy: 0.4727\n",
            "Epoch 98/100\n",
            "32/32 [==============================] - 0s 1ms/step - loss: 2.9956 - accuracy: 0.4857\n",
            "Epoch 99/100\n",
            "32/32 [==============================] - 0s 1ms/step - loss: 3.3072 - accuracy: 0.4489\n",
            "Epoch 100/100\n",
            "32/32 [==============================] - 0s 1ms/step - loss: 3.0310 - accuracy: 0.4815\n"
          ],
          "name": "stdout"
        }
      ]
    },
    {
      "cell_type": "code",
      "metadata": {
        "colab": {
          "base_uri": "https://localhost:8080/",
          "height": 282
        },
        "id": "hJt3bhLPYLzn",
        "outputId": "e8996c66-a193-4246-eaf6-163f6580769c"
      },
      "source": [
        "# Check out our data \n",
        "plt.scatter(X[:,0],X[:,1],c=y,cmap=plt.cm.RdYlBu)"
      ],
      "execution_count": 23,
      "outputs": [
        {
          "output_type": "execute_result",
          "data": {
            "text/plain": [
              "<matplotlib.collections.PathCollection at 0x7f468d357f10>"
            ]
          },
          "metadata": {
            "tags": []
          },
          "execution_count": 23
        },
        {
          "output_type": "display_data",
          "data": {
            "image/png": "[encoded data removed]",
            "text/plain": [
              "<Figure size 432x288 with 1 Axes>"
            ]
          },
          "metadata": {
            "tags": [],
            "needs_background": "light"
          }
        }
      ]
    },
    {
      "cell_type": "code",
      "metadata": {
        "colab": {
          "base_uri": "https://localhost:8080/",
          "height": 282
        },
        "id": "6pC5fR7RqSYC",
        "outputId": "0fda8645-9fb7-4e13-9afe-4f7af7eecd72"
      },
      "source": [
        "# Check the decision boundary for our latest model\n",
        "plot_decision_boundary(model=model_4,X=X,y=y)"
      ],
      "execution_count": 24,
      "outputs": [
        {
          "output_type": "stream",
          "text": [
            "doing binarry classification\n"
          ],
          "name": "stdout"
        },
        {
          "output_type": "display_data",
          "data": {
            "image/png": "[encoded data removed]",
            "text/plain": [
              "<Figure size 432x288 with 1 Axes>"
            ]
          },
          "metadata": {
            "tags": [],
            "needs_background": "light"
          }
        }
      ]
    },
    {
      "cell_type": "markdown",
      "metadata": {
        "id": "f7yoh2Tul47L"
      },
      "source": [
        "Let's try build our first neural network with a non-linear activation function."
      ]
    },
    {
      "cell_type": "code",
      "metadata": {
        "id": "BW7Z0CTaqdFQ",
        "colab": {
          "base_uri": "https://localhost:8080/"
        },
        "outputId": "c95928be-2a26-4473-85b0-1ed2d596ff4a"
      },
      "source": [
        "# Set random seed\n",
        "tf.random.set_seed(42)\n",
        "\n",
        "# Create model\n",
        "model_5 = tf.keras.Sequential([\n",
        "  tf.keras.layers.Dense(1,activation=\"relu\")\n",
        "])\n",
        "\n",
        "# Compile\n",
        "model_5.compile(loss=tf.keras.losses.BinaryCrossentropy(),\n",
        "                optimizer=tf.keras.optimizers.Adam(lr=0.001),\n",
        "                metrics=[\"accuracy\"])\n",
        "\n",
        "# Fitting\n",
        "history = model_5.fit(X,y,epochs=100)"
      ],
      "execution_count": 25,
      "outputs": [
        {
          "output_type": "stream",
          "text": [
            "Epoch 1/100\n",
            "32/32 [==============================] - 0s 1ms/step - loss: 4.6225 - accuracy: 0.4548\n",
            "Epoch 2/100\n",
            "32/32 [==============================] - 0s 1ms/step - loss: 4.3079 - accuracy: 0.4220\n",
            "Epoch 3/100\n",
            "32/32 [==============================] - 0s 1ms/step - loss: 4.5266 - accuracy: 0.4276\n",
            "Epoch 4/100\n",
            "32/32 [==============================] - 0s 1ms/step - loss: 4.0583 - accuracy: 0.4295\n",
            "Epoch 5/100\n",
            "32/32 [==============================] - 0s 1ms/step - loss: 4.2318 - accuracy: 0.4045\n",
            "Epoch 6/100\n",
            "32/32 [==============================] - 0s 1ms/step - loss: 3.7724 - accuracy: 0.4447\n",
            "Epoch 7/100\n",
            "32/32 [==============================] - 0s 1ms/step - loss: 3.9616 - accuracy: 0.4212\n",
            "Epoch 8/100\n",
            "32/32 [==============================] - 0s 2ms/step - loss: 3.6369 - accuracy: 0.4227\n",
            "Epoch 9/100\n",
            "32/32 [==============================] - 0s 1ms/step - loss: 3.9298 - accuracy: 0.3950\n",
            "Epoch 10/100\n",
            "32/32 [==============================] - 0s 2ms/step - loss: 3.5803 - accuracy: 0.4409\n",
            "Epoch 11/100\n",
            "32/32 [==============================] - 0s 1ms/step - loss: 3.5504 - accuracy: 0.4261\n",
            "Epoch 12/100\n",
            "32/32 [==============================] - 0s 1ms/step - loss: 3.5741 - accuracy: 0.4223\n",
            "Epoch 13/100\n",
            "32/32 [==============================] - 0s 1ms/step - loss: 3.5175 - accuracy: 0.4463\n",
            "Epoch 14/100\n",
            "32/32 [==============================] - 0s 1ms/step - loss: 3.8437 - accuracy: 0.4146\n",
            "Epoch 15/100\n",
            "32/32 [==============================] - 0s 1ms/step - loss: 3.5543 - accuracy: 0.4213\n",
            "Epoch 16/100\n",
            "32/32 [==============================] - 0s 1ms/step - loss: 3.8719 - accuracy: 0.4132\n",
            "Epoch 17/100\n",
            "32/32 [==============================] - 0s 1ms/step - loss: 3.8357 - accuracy: 0.4062\n",
            "Epoch 18/100\n",
            "32/32 [==============================] - 0s 1ms/step - loss: 3.7374 - accuracy: 0.4076\n",
            "Epoch 19/100\n",
            "32/32 [==============================] - 0s 2ms/step - loss: 3.9845 - accuracy: 0.4001\n",
            "Epoch 20/100\n",
            "32/32 [==============================] - 0s 1ms/step - loss: 3.6871 - accuracy: 0.4236\n",
            "Epoch 21/100\n",
            "32/32 [==============================] - 0s 1ms/step - loss: 3.9482 - accuracy: 0.4004\n",
            "Epoch 22/100\n",
            "32/32 [==============================] - 0s 1ms/step - loss: 3.5859 - accuracy: 0.4283\n",
            "Epoch 23/100\n",
            "32/32 [==============================] - 0s 1ms/step - loss: 3.7162 - accuracy: 0.3970\n",
            "Epoch 24/100\n",
            "32/32 [==============================] - 0s 1ms/step - loss: 4.1418 - accuracy: 0.4105\n",
            "Epoch 25/100\n",
            "32/32 [==============================] - 0s 1ms/step - loss: 3.7044 - accuracy: 0.4079\n",
            "Epoch 26/100\n",
            "32/32 [==============================] - 0s 1ms/step - loss: 3.8416 - accuracy: 0.4218\n",
            "Epoch 27/100\n",
            "32/32 [==============================] - 0s 1ms/step - loss: 3.8660 - accuracy: 0.3975\n",
            "Epoch 28/100\n",
            "32/32 [==============================] - 0s 1ms/step - loss: 4.0993 - accuracy: 0.4025\n",
            "Epoch 29/100\n",
            "32/32 [==============================] - 0s 2ms/step - loss: 3.6183 - accuracy: 0.4196\n",
            "Epoch 30/100\n",
            "32/32 [==============================] - 0s 1ms/step - loss: 3.7359 - accuracy: 0.4140\n",
            "Epoch 31/100\n",
            "32/32 [==============================] - 0s 1ms/step - loss: 3.8858 - accuracy: 0.4021\n",
            "Epoch 32/100\n",
            "32/32 [==============================] - 0s 1ms/step - loss: 3.6341 - accuracy: 0.4281\n",
            "Epoch 33/100\n",
            "32/32 [==============================] - 0s 2ms/step - loss: 3.9117 - accuracy: 0.3959\n",
            "Epoch 34/100\n",
            "32/32 [==============================] - 0s 2ms/step - loss: 3.8023 - accuracy: 0.4235\n",
            "Epoch 35/100\n",
            "32/32 [==============================] - 0s 2ms/step - loss: 3.8093 - accuracy: 0.4089\n",
            "Epoch 36/100\n",
            "32/32 [==============================] - 0s 1ms/step - loss: 3.6982 - accuracy: 0.4281\n",
            "Epoch 37/100\n",
            "32/32 [==============================] - 0s 1ms/step - loss: 3.5539 - accuracy: 0.4167\n",
            "Epoch 38/100\n",
            "32/32 [==============================] - 0s 2ms/step - loss: 3.6524 - accuracy: 0.4090\n",
            "Epoch 39/100\n",
            "32/32 [==============================] - 0s 2ms/step - loss: 3.7082 - accuracy: 0.4100\n",
            "Epoch 40/100\n",
            "32/32 [==============================] - 0s 2ms/step - loss: 3.8772 - accuracy: 0.4227\n",
            "Epoch 41/100\n",
            "32/32 [==============================] - 0s 1ms/step - loss: 4.0137 - accuracy: 0.3719\n",
            "Epoch 42/100\n",
            "32/32 [==============================] - 0s 1ms/step - loss: 3.9546 - accuracy: 0.4042\n",
            "Epoch 43/100\n",
            "32/32 [==============================] - 0s 1ms/step - loss: 3.5138 - accuracy: 0.4127\n",
            "Epoch 44/100\n",
            "32/32 [==============================] - 0s 1ms/step - loss: 3.4642 - accuracy: 0.4393\n",
            "Epoch 45/100\n",
            "32/32 [==============================] - 0s 1ms/step - loss: 3.5422 - accuracy: 0.4211\n",
            "Epoch 46/100\n",
            "32/32 [==============================] - 0s 2ms/step - loss: 3.6221 - accuracy: 0.4339\n",
            "Epoch 47/100\n",
            "32/32 [==============================] - 0s 1ms/step - loss: 3.7741 - accuracy: 0.3989\n",
            "Epoch 48/100\n",
            "32/32 [==============================] - 0s 1ms/step - loss: 3.7942 - accuracy: 0.4093\n",
            "Epoch 49/100\n",
            "32/32 [==============================] - 0s 2ms/step - loss: 3.8251 - accuracy: 0.4339\n",
            "Epoch 50/100\n",
            "32/32 [==============================] - 0s 1ms/step - loss: 3.9261 - accuracy: 0.4343\n",
            "Epoch 51/100\n",
            "32/32 [==============================] - 0s 1ms/step - loss: 3.5809 - accuracy: 0.4418\n",
            "Epoch 52/100\n",
            "32/32 [==============================] - 0s 1ms/step - loss: 3.7244 - accuracy: 0.4190\n",
            "Epoch 53/100\n",
            "32/32 [==============================] - 0s 1ms/step - loss: 3.7227 - accuracy: 0.4320\n",
            "Epoch 54/100\n",
            "32/32 [==============================] - 0s 1ms/step - loss: 3.6481 - accuracy: 0.4135\n",
            "Epoch 55/100\n",
            "32/32 [==============================] - 0s 1ms/step - loss: 3.7481 - accuracy: 0.4132\n",
            "Epoch 56/100\n",
            "32/32 [==============================] - 0s 1ms/step - loss: 3.6382 - accuracy: 0.4141\n",
            "Epoch 57/100\n",
            "32/32 [==============================] - 0s 1ms/step - loss: 3.4266 - accuracy: 0.4449\n",
            "Epoch 58/100\n",
            "32/32 [==============================] - 0s 1ms/step - loss: 3.7316 - accuracy: 0.4054\n",
            "Epoch 59/100\n",
            "32/32 [==============================] - 0s 1ms/step - loss: 4.2613 - accuracy: 0.3959\n",
            "Epoch 60/100\n",
            "32/32 [==============================] - 0s 1ms/step - loss: 3.6835 - accuracy: 0.4018\n",
            "Epoch 61/100\n",
            "32/32 [==============================] - 0s 1ms/step - loss: 3.5997 - accuracy: 0.4013\n",
            "Epoch 62/100\n",
            "32/32 [==============================] - 0s 1ms/step - loss: 3.8376 - accuracy: 0.4131\n",
            "Epoch 63/100\n",
            "32/32 [==============================] - 0s 1ms/step - loss: 3.5848 - accuracy: 0.4110\n",
            "Epoch 64/100\n",
            "32/32 [==============================] - 0s 1ms/step - loss: 3.5204 - accuracy: 0.4160\n",
            "Epoch 65/100\n",
            "32/32 [==============================] - 0s 1ms/step - loss: 3.5838 - accuracy: 0.4135\n",
            "Epoch 66/100\n",
            "32/32 [==============================] - 0s 1ms/step - loss: 3.7712 - accuracy: 0.3998\n",
            "Epoch 67/100\n",
            "32/32 [==============================] - 0s 1ms/step - loss: 3.5219 - accuracy: 0.4162\n",
            "Epoch 68/100\n",
            "32/32 [==============================] - 0s 1ms/step - loss: 3.8075 - accuracy: 0.4221\n",
            "Epoch 69/100\n",
            "32/32 [==============================] - 0s 1ms/step - loss: 3.6794 - accuracy: 0.4209\n",
            "Epoch 70/100\n",
            "32/32 [==============================] - 0s 2ms/step - loss: 3.6803 - accuracy: 0.4281\n",
            "Epoch 71/100\n",
            "32/32 [==============================] - 0s 1ms/step - loss: 3.2151 - accuracy: 0.4531\n",
            "Epoch 72/100\n",
            "32/32 [==============================] - 0s 1ms/step - loss: 3.4491 - accuracy: 0.4369\n",
            "Epoch 73/100\n",
            "32/32 [==============================] - 0s 1ms/step - loss: 3.6387 - accuracy: 0.4204\n",
            "Epoch 74/100\n",
            "32/32 [==============================] - 0s 1ms/step - loss: 3.5549 - accuracy: 0.4334\n",
            "Epoch 75/100\n",
            "32/32 [==============================] - 0s 1ms/step - loss: 3.7334 - accuracy: 0.4158\n",
            "Epoch 76/100\n",
            "32/32 [==============================] - 0s 1ms/step - loss: 3.4068 - accuracy: 0.4657\n",
            "Epoch 77/100\n",
            "32/32 [==============================] - 0s 1ms/step - loss: 3.5936 - accuracy: 0.4233\n",
            "Epoch 78/100\n",
            "32/32 [==============================] - 0s 2ms/step - loss: 3.6633 - accuracy: 0.4627\n",
            "Epoch 79/100\n",
            "32/32 [==============================] - 0s 2ms/step - loss: 3.5492 - accuracy: 0.4497\n",
            "Epoch 80/100\n",
            "32/32 [==============================] - 0s 2ms/step - loss: 3.6710 - accuracy: 0.4456\n",
            "Epoch 81/100\n",
            "32/32 [==============================] - 0s 2ms/step - loss: 3.5712 - accuracy: 0.4326\n",
            "Epoch 82/100\n",
            "32/32 [==============================] - 0s 2ms/step - loss: 3.5963 - accuracy: 0.4419\n",
            "Epoch 83/100\n",
            "32/32 [==============================] - 0s 1ms/step - loss: 3.2356 - accuracy: 0.4525\n",
            "Epoch 84/100\n",
            "32/32 [==============================] - 0s 1ms/step - loss: 3.5418 - accuracy: 0.4625\n",
            "Epoch 85/100\n",
            "32/32 [==============================] - 0s 1ms/step - loss: 3.2489 - accuracy: 0.4532\n",
            "Epoch 86/100\n",
            "32/32 [==============================] - 0s 1ms/step - loss: 3.6405 - accuracy: 0.4320\n",
            "Epoch 87/100\n",
            "32/32 [==============================] - 0s 2ms/step - loss: 3.6339 - accuracy: 0.4412\n",
            "Epoch 88/100\n",
            "32/32 [==============================] - 0s 2ms/step - loss: 3.4366 - accuracy: 0.4386\n",
            "Epoch 89/100\n",
            "32/32 [==============================] - 0s 2ms/step - loss: 3.8395 - accuracy: 0.4201\n",
            "Epoch 90/100\n",
            "32/32 [==============================] - 0s 1ms/step - loss: 3.3056 - accuracy: 0.4740\n",
            "Epoch 91/100\n",
            "32/32 [==============================] - 0s 1ms/step - loss: 3.1759 - accuracy: 0.4685\n",
            "Epoch 92/100\n",
            "32/32 [==============================] - 0s 1ms/step - loss: 3.5662 - accuracy: 0.4409\n",
            "Epoch 93/100\n",
            "32/32 [==============================] - 0s 1ms/step - loss: 3.3057 - accuracy: 0.4562\n",
            "Epoch 94/100\n",
            "32/32 [==============================] - 0s 1ms/step - loss: 3.3934 - accuracy: 0.4279\n",
            "Epoch 95/100\n",
            "32/32 [==============================] - 0s 1ms/step - loss: 3.3242 - accuracy: 0.4767\n",
            "Epoch 96/100\n",
            "32/32 [==============================] - 0s 1ms/step - loss: 3.2343 - accuracy: 0.4602\n",
            "Epoch 97/100\n",
            "32/32 [==============================] - 0s 1ms/step - loss: 3.0087 - accuracy: 0.4727\n",
            "Epoch 98/100\n",
            "32/32 [==============================] - 0s 2ms/step - loss: 2.9956 - accuracy: 0.4857\n",
            "Epoch 99/100\n",
            "32/32 [==============================] - 0s 2ms/step - loss: 3.3072 - accuracy: 0.4489\n",
            "Epoch 100/100\n",
            "32/32 [==============================] - 0s 1ms/step - loss: 3.0310 - accuracy: 0.4815\n"
          ],
          "name": "stdout"
        }
      ]
    },
    {
      "cell_type": "code",
      "metadata": {
        "id": "53pQqR5_mxC5",
        "colab": {
          "base_uri": "https://localhost:8080/"
        },
        "outputId": "9a5bf9f1-eafb-4595-fe2f-a6d3f6942000"
      },
      "source": [
        "# Time to replicate the multi-layer neural network from TensorFlow playground in code\n",
        "\n",
        "# Set random seed\n",
        "tf.random.set_seed(42)\n",
        "\n",
        "# Create model\n",
        "model_6 = tf.keras.Sequential([\n",
        "    tf.keras.layers.Dense(4,activation=\"relu\"),\n",
        "    tf.keras.layers.Dense(4,activation=\"relu\"),\n",
        "    tf.keras.layers.Dense(1),\n",
        "])\n",
        "\n",
        "# Compile\n",
        "model_6.compile(loss=\"binary_crossentropy\",\n",
        "                optimizer=tf.keras.optimizers.Adam(lr=0.001),\n",
        "                metrics=[\"accuracy\"])\n",
        "\n",
        "history = model_6.fit(X,y,epochs=250)"
      ],
      "execution_count": 26,
      "outputs": [
        {
          "output_type": "stream",
          "text": [
            "Epoch 1/250\n",
            "32/32 [==============================] - 1s 2ms/step - loss: 7.9753 - accuracy: 0.4830\n",
            "Epoch 2/250\n",
            "32/32 [==============================] - 0s 2ms/step - loss: 7.8983 - accuracy: 0.4880\n",
            "Epoch 3/250\n",
            "32/32 [==============================] - 0s 1ms/step - loss: 7.8184 - accuracy: 0.4931\n",
            "Epoch 4/250\n",
            "32/32 [==============================] - 0s 1ms/step - loss: 7.7682 - accuracy: 0.4964\n",
            "Epoch 5/250\n",
            "32/32 [==============================] - 0s 2ms/step - loss: 7.9795 - accuracy: 0.4827\n",
            "Epoch 6/250\n",
            "32/32 [==============================] - 0s 1ms/step - loss: 7.2219 - accuracy: 0.5318\n",
            "Epoch 7/250\n",
            "32/32 [==============================] - 0s 2ms/step - loss: 7.6230 - accuracy: 0.5058\n",
            "Epoch 8/250\n",
            "32/32 [==============================] - 0s 1ms/step - loss: 7.7149 - accuracy: 0.4998\n",
            "Epoch 9/250\n",
            "32/32 [==============================] - 0s 1ms/step - loss: 8.0269 - accuracy: 0.4796\n",
            "Epoch 10/250\n",
            "32/32 [==============================] - 0s 1ms/step - loss: 7.4648 - accuracy: 0.5161\n",
            "Epoch 11/250\n",
            "32/32 [==============================] - 0s 1ms/step - loss: 7.6242 - accuracy: 0.5057\n",
            "Epoch 12/250\n",
            "32/32 [==============================] - 0s 2ms/step - loss: 7.4561 - accuracy: 0.5166\n",
            "Epoch 13/250\n",
            "32/32 [==============================] - 0s 2ms/step - loss: 7.1428 - accuracy: 0.5369\n",
            "Epoch 14/250\n",
            "32/32 [==============================] - 0s 2ms/step - loss: 7.5461 - accuracy: 0.5108\n",
            "Epoch 15/250\n",
            "32/32 [==============================] - 0s 1ms/step - loss: 7.4680 - accuracy: 0.5159\n",
            "Epoch 16/250\n",
            "32/32 [==============================] - 0s 2ms/step - loss: 7.7601 - accuracy: 0.4969\n",
            "Epoch 17/250\n",
            "32/32 [==============================] - 0s 2ms/step - loss: 7.7622 - accuracy: 0.4968\n",
            "Epoch 18/250\n",
            "32/32 [==============================] - 0s 2ms/step - loss: 7.7250 - accuracy: 0.4992\n",
            "Epoch 19/250\n",
            "32/32 [==============================] - 0s 2ms/step - loss: 8.1296 - accuracy: 0.4730\n",
            "Epoch 20/250\n",
            "32/32 [==============================] - 0s 2ms/step - loss: 7.8179 - accuracy: 0.4932\n",
            "Epoch 21/250\n",
            "32/32 [==============================] - 0s 1ms/step - loss: 7.8540 - accuracy: 0.4908\n",
            "Epoch 22/250\n",
            "32/32 [==============================] - 0s 1ms/step - loss: 7.6321 - accuracy: 0.5052\n",
            "Epoch 23/250\n",
            "32/32 [==============================] - 0s 2ms/step - loss: 7.6680 - accuracy: 0.5029\n",
            "Epoch 24/250\n",
            "32/32 [==============================] - 0s 2ms/step - loss: 7.6182 - accuracy: 0.5061\n",
            "Epoch 25/250\n",
            "32/32 [==============================] - 0s 1ms/step - loss: 7.7239 - accuracy: 0.4993\n",
            "Epoch 26/250\n",
            "32/32 [==============================] - 0s 1ms/step - loss: 7.7557 - accuracy: 0.4972\n",
            "Epoch 27/250\n",
            "32/32 [==============================] - 0s 2ms/step - loss: 8.0653 - accuracy: 0.4771\n",
            "Epoch 28/250\n",
            "32/32 [==============================] - 0s 1ms/step - loss: 7.9861 - accuracy: 0.4823\n",
            "Epoch 29/250\n",
            "32/32 [==============================] - 0s 2ms/step - loss: 7.5336 - accuracy: 0.5116\n",
            "Epoch 30/250\n",
            "32/32 [==============================] - 0s 2ms/step - loss: 7.7347 - accuracy: 0.4986\n",
            "Epoch 31/250\n",
            "32/32 [==============================] - 0s 2ms/step - loss: 7.7617 - accuracy: 0.4968\n",
            "Epoch 32/250\n",
            "32/32 [==============================] - 0s 1ms/step - loss: 7.4408 - accuracy: 0.5176\n",
            "Epoch 33/250\n",
            "32/32 [==============================] - 0s 1ms/step - loss: 7.9254 - accuracy: 0.4862\n",
            "Epoch 34/250\n",
            "32/32 [==============================] - 0s 2ms/step - loss: 7.6042 - accuracy: 0.5070\n",
            "Epoch 35/250\n",
            "32/32 [==============================] - 0s 1ms/step - loss: 7.9993 - accuracy: 0.4814\n",
            "Epoch 36/250\n",
            "32/32 [==============================] - 0s 1ms/step - loss: 7.5842 - accuracy: 0.5083\n",
            "Epoch 37/250\n",
            "32/32 [==============================] - 0s 1ms/step - loss: 7.6787 - accuracy: 0.5022\n",
            "Epoch 38/250\n",
            "32/32 [==============================] - 0s 1ms/step - loss: 7.6740 - accuracy: 0.5025\n",
            "Epoch 39/250\n",
            "32/32 [==============================] - 0s 2ms/step - loss: 7.4733 - accuracy: 0.5155\n",
            "Epoch 40/250\n",
            "32/32 [==============================] - 0s 1ms/step - loss: 7.8495 - accuracy: 0.4911\n",
            "Epoch 41/250\n",
            "32/32 [==============================] - 0s 2ms/step - loss: 8.2446 - accuracy: 0.4655\n",
            "Epoch 42/250\n",
            "32/32 [==============================] - 0s 2ms/step - loss: 7.9345 - accuracy: 0.4856\n",
            "Epoch 43/250\n",
            "32/32 [==============================] - 0s 1ms/step - loss: 7.7842 - accuracy: 0.4954\n",
            "Epoch 44/250\n",
            "32/32 [==============================] - 0s 1ms/step - loss: 7.3126 - accuracy: 0.5259\n",
            "Epoch 45/250\n",
            "32/32 [==============================] - 0s 2ms/step - loss: 7.3197 - accuracy: 0.5255\n",
            "Epoch 46/250\n",
            "32/32 [==============================] - 0s 1ms/step - loss: 7.4585 - accuracy: 0.5165\n",
            "Epoch 47/250\n",
            "32/32 [==============================] - 0s 1ms/step - loss: 7.9568 - accuracy: 0.4842\n",
            "Epoch 48/250\n",
            "32/32 [==============================] - 0s 2ms/step - loss: 7.8862 - accuracy: 0.4887\n",
            "Epoch 49/250\n",
            "32/32 [==============================] - 0s 2ms/step - loss: 7.5472 - accuracy: 0.5107\n",
            "Epoch 50/250\n",
            "32/32 [==============================] - 0s 2ms/step - loss: 7.3799 - accuracy: 0.5216\n",
            "Epoch 51/250\n",
            "32/32 [==============================] - 0s 1ms/step - loss: 7.3495 - accuracy: 0.5235\n",
            "Epoch 52/250\n",
            "32/32 [==============================] - 0s 2ms/step - loss: 7.7936 - accuracy: 0.4947\n",
            "Epoch 53/250\n",
            "32/32 [==============================] - 0s 1ms/step - loss: 7.7570 - accuracy: 0.4971\n",
            "Epoch 54/250\n",
            "32/32 [==============================] - 0s 2ms/step - loss: 7.7828 - accuracy: 0.4954\n",
            "Epoch 55/250\n",
            "32/32 [==============================] - 0s 2ms/step - loss: 7.9357 - accuracy: 0.4855\n",
            "Epoch 56/250\n",
            "32/32 [==============================] - 0s 2ms/step - loss: 7.4286 - accuracy: 0.5184\n",
            "Epoch 57/250\n",
            "32/32 [==============================] - 0s 1ms/step - loss: 7.5070 - accuracy: 0.5133\n",
            "Epoch 58/250\n",
            "32/32 [==============================] - 0s 2ms/step - loss: 7.8944 - accuracy: 0.4882\n",
            "Epoch 59/250\n",
            "32/32 [==============================] - 0s 1ms/step - loss: 8.3480 - accuracy: 0.4588\n",
            "Epoch 60/250\n",
            "32/32 [==============================] - 0s 1ms/step - loss: 8.1568 - accuracy: 0.4712\n",
            "Epoch 61/250\n",
            "32/32 [==============================] - 0s 2ms/step - loss: 7.4900 - accuracy: 0.5144\n",
            "Epoch 62/250\n",
            "32/32 [==============================] - 0s 1ms/step - loss: 7.9939 - accuracy: 0.4818\n",
            "Epoch 63/250\n",
            "32/32 [==============================] - 0s 1ms/step - loss: 7.8445 - accuracy: 0.4914\n",
            "Epoch 64/250\n",
            "32/32 [==============================] - 0s 1ms/step - loss: 7.7632 - accuracy: 0.4967\n",
            "Epoch 65/250\n",
            "32/32 [==============================] - 0s 2ms/step - loss: 7.7199 - accuracy: 0.4995\n",
            "Epoch 66/250\n",
            "32/32 [==============================] - 0s 1ms/step - loss: 7.9908 - accuracy: 0.4820\n",
            "Epoch 67/250\n",
            "32/32 [==============================] - 0s 2ms/step - loss: 7.7850 - accuracy: 0.4953\n",
            "Epoch 68/250\n",
            "32/32 [==============================] - 0s 2ms/step - loss: 7.7342 - accuracy: 0.4986\n",
            "Epoch 69/250\n",
            "32/32 [==============================] - 0s 2ms/step - loss: 7.6709 - accuracy: 0.5027\n",
            "Epoch 70/250\n",
            "32/32 [==============================] - 0s 1ms/step - loss: 7.7723 - accuracy: 0.4961\n",
            "Epoch 71/250\n",
            "32/32 [==============================] - 0s 2ms/step - loss: 7.3569 - accuracy: 0.5231\n",
            "Epoch 72/250\n",
            "32/32 [==============================] - 0s 1ms/step - loss: 7.6486 - accuracy: 0.5041\n",
            "Epoch 73/250\n",
            "32/32 [==============================] - 0s 1ms/step - loss: 7.6712 - accuracy: 0.5027\n",
            "Epoch 74/250\n",
            "32/32 [==============================] - 0s 2ms/step - loss: 7.6661 - accuracy: 0.5030\n",
            "Epoch 75/250\n",
            "32/32 [==============================] - 0s 2ms/step - loss: 7.8858 - accuracy: 0.4888\n",
            "Epoch 76/250\n",
            "32/32 [==============================] - 0s 2ms/step - loss: 7.3837 - accuracy: 0.5213\n",
            "Epoch 77/250\n",
            "32/32 [==============================] - 0s 1ms/step - loss: 8.0544 - accuracy: 0.4778\n",
            "Epoch 78/250\n",
            "32/32 [==============================] - 0s 1ms/step - loss: 7.4542 - accuracy: 0.5167\n",
            "Epoch 79/250\n",
            "32/32 [==============================] - 0s 2ms/step - loss: 7.4387 - accuracy: 0.5177\n",
            "Epoch 80/250\n",
            "32/32 [==============================] - 0s 1ms/step - loss: 7.6888 - accuracy: 0.5015\n",
            "Epoch 81/250\n",
            "32/32 [==============================] - 0s 2ms/step - loss: 7.6354 - accuracy: 0.5050\n",
            "Epoch 82/250\n",
            "32/32 [==============================] - 0s 2ms/step - loss: 7.4057 - accuracy: 0.5199\n",
            "Epoch 83/250\n",
            "32/32 [==============================] - 0s 2ms/step - loss: 7.2750 - accuracy: 0.5284\n",
            "Epoch 84/250\n",
            "32/32 [==============================] - 0s 2ms/step - loss: 7.4647 - accuracy: 0.5161\n",
            "Epoch 85/250\n",
            "32/32 [==============================] - 0s 2ms/step - loss: 7.5689 - accuracy: 0.5093\n",
            "Epoch 86/250\n",
            "32/32 [==============================] - 0s 1ms/step - loss: 7.8381 - accuracy: 0.4919\n",
            "Epoch 87/250\n",
            "32/32 [==============================] - 0s 1ms/step - loss: 8.0268 - accuracy: 0.4796\n",
            "Epoch 88/250\n",
            "32/32 [==============================] - 0s 1ms/step - loss: 7.8147 - accuracy: 0.4934\n",
            "Epoch 89/250\n",
            "32/32 [==============================] - 0s 1ms/step - loss: 8.1743 - accuracy: 0.4701\n",
            "Epoch 90/250\n",
            "32/32 [==============================] - 0s 2ms/step - loss: 7.4337 - accuracy: 0.5181\n",
            "Epoch 91/250\n",
            "32/32 [==============================] - 0s 1ms/step - loss: 7.4169 - accuracy: 0.5192\n",
            "Epoch 92/250\n",
            "32/32 [==============================] - 0s 2ms/step - loss: 8.2149 - accuracy: 0.4674\n",
            "Epoch 93/250\n",
            "32/32 [==============================] - 0s 1ms/step - loss: 7.5723 - accuracy: 0.5091\n",
            "Epoch 94/250\n",
            "32/32 [==============================] - 0s 1ms/step - loss: 7.7455 - accuracy: 0.4979\n",
            "Epoch 95/250\n",
            "32/32 [==============================] - 0s 1ms/step - loss: 7.3008 - accuracy: 0.5267\n",
            "Epoch 96/250\n",
            "32/32 [==============================] - 0s 1ms/step - loss: 7.4538 - accuracy: 0.5168\n",
            "Epoch 97/250\n",
            "32/32 [==============================] - 0s 1ms/step - loss: 7.4086 - accuracy: 0.5197\n",
            "Epoch 98/250\n",
            "32/32 [==============================] - 0s 2ms/step - loss: 7.2743 - accuracy: 0.5284\n",
            "Epoch 99/250\n",
            "32/32 [==============================] - 0s 2ms/step - loss: 7.9076 - accuracy: 0.4873\n",
            "Epoch 100/250\n",
            "32/32 [==============================] - 0s 2ms/step - loss: 7.4822 - accuracy: 0.5149\n",
            "Epoch 101/250\n",
            "32/32 [==============================] - 0s 2ms/step - loss: 7.3126 - accuracy: 0.5259\n",
            "Epoch 102/250\n",
            "32/32 [==============================] - 0s 1ms/step - loss: 7.5897 - accuracy: 0.5080\n",
            "Epoch 103/250\n",
            "32/32 [==============================] - 0s 2ms/step - loss: 7.5868 - accuracy: 0.5081\n",
            "Epoch 104/250\n",
            "32/32 [==============================] - 0s 1ms/step - loss: 7.4836 - accuracy: 0.5148\n",
            "Epoch 105/250\n",
            "32/32 [==============================] - 0s 2ms/step - loss: 7.9594 - accuracy: 0.4840\n",
            "Epoch 106/250\n",
            "32/32 [==============================] - 0s 2ms/step - loss: 7.8178 - accuracy: 0.4932\n",
            "Epoch 107/250\n",
            "32/32 [==============================] - 0s 2ms/step - loss: 7.4447 - accuracy: 0.5174\n",
            "Epoch 108/250\n",
            "32/32 [==============================] - 0s 2ms/step - loss: 7.7594 - accuracy: 0.4970\n",
            "Epoch 109/250\n",
            "32/32 [==============================] - 0s 1ms/step - loss: 7.7430 - accuracy: 0.4980\n",
            "Epoch 110/250\n",
            "32/32 [==============================] - 0s 1ms/step - loss: 7.8034 - accuracy: 0.4941\n",
            "Epoch 111/250\n",
            "32/32 [==============================] - 0s 2ms/step - loss: 7.9766 - accuracy: 0.4829\n",
            "Epoch 112/250\n",
            "32/32 [==============================] - 0s 2ms/step - loss: 7.4924 - accuracy: 0.5143\n",
            "Epoch 113/250\n",
            "32/32 [==============================] - 0s 2ms/step - loss: 7.8830 - accuracy: 0.4889\n",
            "Epoch 114/250\n",
            "32/32 [==============================] - 0s 1ms/step - loss: 7.9183 - accuracy: 0.4867\n",
            "Epoch 115/250\n",
            "32/32 [==============================] - 0s 1ms/step - loss: 7.6147 - accuracy: 0.5063\n",
            "Epoch 116/250\n",
            "32/32 [==============================] - 0s 1ms/step - loss: 7.5857 - accuracy: 0.5082\n",
            "Epoch 117/250\n",
            "32/32 [==============================] - 0s 2ms/step - loss: 7.9349 - accuracy: 0.4856\n",
            "Epoch 118/250\n",
            "32/32 [==============================] - 0s 2ms/step - loss: 7.4574 - accuracy: 0.5165\n",
            "Epoch 119/250\n",
            "32/32 [==============================] - 0s 2ms/step - loss: 7.6676 - accuracy: 0.5029\n",
            "Epoch 120/250\n",
            "32/32 [==============================] - 0s 1ms/step - loss: 8.0561 - accuracy: 0.4777\n",
            "Epoch 121/250\n",
            "32/32 [==============================] - 0s 2ms/step - loss: 7.5611 - accuracy: 0.5098\n",
            "Epoch 122/250\n",
            "32/32 [==============================] - 0s 1ms/step - loss: 7.9325 - accuracy: 0.4857\n",
            "Epoch 123/250\n",
            "32/32 [==============================] - 0s 1ms/step - loss: 7.6468 - accuracy: 0.5043\n",
            "Epoch 124/250\n",
            "32/32 [==============================] - 0s 1ms/step - loss: 7.4154 - accuracy: 0.5193\n",
            "Epoch 125/250\n",
            "32/32 [==============================] - 0s 1ms/step - loss: 7.7659 - accuracy: 0.4965\n",
            "Epoch 126/250\n",
            "32/32 [==============================] - 0s 1ms/step - loss: 8.0048 - accuracy: 0.4810\n",
            "Epoch 127/250\n",
            "32/32 [==============================] - 0s 2ms/step - loss: 7.7953 - accuracy: 0.4946\n",
            "Epoch 128/250\n",
            "32/32 [==============================] - 0s 2ms/step - loss: 7.8442 - accuracy: 0.4915\n",
            "Epoch 129/250\n",
            "32/32 [==============================] - 0s 1ms/step - loss: 7.8373 - accuracy: 0.4919\n",
            "Epoch 130/250\n",
            "32/32 [==============================] - 0s 1ms/step - loss: 7.4082 - accuracy: 0.5197\n",
            "Epoch 131/250\n",
            "32/32 [==============================] - 0s 2ms/step - loss: 7.4292 - accuracy: 0.5184\n",
            "Epoch 132/250\n",
            "32/32 [==============================] - 0s 2ms/step - loss: 7.3715 - accuracy: 0.5221\n",
            "Epoch 133/250\n",
            "32/32 [==============================] - 0s 2ms/step - loss: 7.7043 - accuracy: 0.5005\n",
            "Epoch 134/250\n",
            "32/32 [==============================] - 0s 2ms/step - loss: 8.0442 - accuracy: 0.4785\n",
            "Epoch 135/250\n",
            "32/32 [==============================] - 0s 1ms/step - loss: 7.4496 - accuracy: 0.5170\n",
            "Epoch 136/250\n",
            "32/32 [==============================] - 0s 2ms/step - loss: 7.2674 - accuracy: 0.5289\n",
            "Epoch 137/250\n",
            "32/32 [==============================] - 0s 1ms/step - loss: 7.8499 - accuracy: 0.4911\n",
            "Epoch 138/250\n",
            "32/32 [==============================] - 0s 1ms/step - loss: 7.5729 - accuracy: 0.5090\n",
            "Epoch 139/250\n",
            "32/32 [==============================] - 0s 1ms/step - loss: 7.9121 - accuracy: 0.4871\n",
            "Epoch 140/250\n",
            "32/32 [==============================] - 0s 2ms/step - loss: 7.5491 - accuracy: 0.5106\n",
            "Epoch 141/250\n",
            "32/32 [==============================] - 0s 2ms/step - loss: 7.6264 - accuracy: 0.5056\n",
            "Epoch 142/250\n",
            "32/32 [==============================] - 0s 1ms/step - loss: 7.6791 - accuracy: 0.5022\n",
            "Epoch 143/250\n",
            "32/32 [==============================] - 0s 1ms/step - loss: 7.7954 - accuracy: 0.4946\n",
            "Epoch 144/250\n",
            "32/32 [==============================] - 0s 1ms/step - loss: 7.5247 - accuracy: 0.5122\n",
            "Epoch 145/250\n",
            "32/32 [==============================] - 0s 1ms/step - loss: 7.8959 - accuracy: 0.4881\n",
            "Epoch 146/250\n",
            "32/32 [==============================] - 0s 1ms/step - loss: 7.9890 - accuracy: 0.4821\n",
            "Epoch 147/250\n",
            "32/32 [==============================] - 0s 2ms/step - loss: 7.8941 - accuracy: 0.4882\n",
            "Epoch 148/250\n",
            "32/32 [==============================] - 0s 1ms/step - loss: 8.0513 - accuracy: 0.4780\n",
            "Epoch 149/250\n",
            "32/32 [==============================] - 0s 2ms/step - loss: 7.4699 - accuracy: 0.5157\n",
            "Epoch 150/250\n",
            "32/32 [==============================] - 0s 1ms/step - loss: 7.9229 - accuracy: 0.4864\n",
            "Epoch 151/250\n",
            "32/32 [==============================] - 0s 1ms/step - loss: 7.4611 - accuracy: 0.5163\n",
            "Epoch 152/250\n",
            "32/32 [==============================] - 0s 1ms/step - loss: 7.7475 - accuracy: 0.4977\n",
            "Epoch 153/250\n",
            "32/32 [==============================] - 0s 1ms/step - loss: 7.7445 - accuracy: 0.4979\n",
            "Epoch 154/250\n",
            "32/32 [==============================] - 0s 1ms/step - loss: 7.3153 - accuracy: 0.5257\n",
            "Epoch 155/250\n",
            "32/32 [==============================] - 0s 1ms/step - loss: 7.5620 - accuracy: 0.5098\n",
            "Epoch 156/250\n",
            "32/32 [==============================] - 0s 1ms/step - loss: 7.3941 - accuracy: 0.5206\n",
            "Epoch 157/250\n",
            "32/32 [==============================] - 0s 1ms/step - loss: 7.6842 - accuracy: 0.5018\n",
            "Epoch 158/250\n",
            "32/32 [==============================] - 0s 1ms/step - loss: 7.4845 - accuracy: 0.5148\n",
            "Epoch 159/250\n",
            "32/32 [==============================] - 0s 1ms/step - loss: 8.0395 - accuracy: 0.4788\n",
            "Epoch 160/250\n",
            "32/32 [==============================] - 0s 2ms/step - loss: 7.8744 - accuracy: 0.4895\n",
            "Epoch 161/250\n",
            "32/32 [==============================] - 0s 1ms/step - loss: 7.8987 - accuracy: 0.4879\n",
            "Epoch 162/250\n",
            "32/32 [==============================] - 0s 1ms/step - loss: 8.1461 - accuracy: 0.4719\n",
            "Epoch 163/250\n",
            "32/32 [==============================] - 0s 1ms/step - loss: 8.0130 - accuracy: 0.4805\n",
            "Epoch 164/250\n",
            "32/32 [==============================] - 0s 1ms/step - loss: 7.8439 - accuracy: 0.4915\n",
            "Epoch 165/250\n",
            "32/32 [==============================] - 0s 1ms/step - loss: 7.7745 - accuracy: 0.4960\n",
            "Epoch 166/250\n",
            "32/32 [==============================] - 0s 1ms/step - loss: 7.5752 - accuracy: 0.5089\n",
            "Epoch 167/250\n",
            "32/32 [==============================] - 0s 2ms/step - loss: 7.6609 - accuracy: 0.5033\n",
            "Epoch 168/250\n",
            "32/32 [==============================] - 0s 1ms/step - loss: 7.6793 - accuracy: 0.5022\n",
            "Epoch 169/250\n",
            "32/32 [==============================] - 0s 1ms/step - loss: 7.7918 - accuracy: 0.4949\n",
            "Epoch 170/250\n",
            "32/32 [==============================] - 0s 1ms/step - loss: 7.7855 - accuracy: 0.4953\n",
            "Epoch 171/250\n",
            "32/32 [==============================] - 0s 1ms/step - loss: 7.9715 - accuracy: 0.4832\n",
            "Epoch 172/250\n",
            "32/32 [==============================] - 0s 1ms/step - loss: 7.6277 - accuracy: 0.5055\n",
            "Epoch 173/250\n",
            "32/32 [==============================] - 0s 1ms/step - loss: 7.6788 - accuracy: 0.5022\n",
            "Epoch 174/250\n",
            "32/32 [==============================] - 0s 1ms/step - loss: 7.4708 - accuracy: 0.5157\n",
            "Epoch 175/250\n",
            "32/32 [==============================] - 0s 1ms/step - loss: 7.4453 - accuracy: 0.5173\n",
            "Epoch 176/250\n",
            "32/32 [==============================] - 0s 1ms/step - loss: 7.9204 - accuracy: 0.4865\n",
            "Epoch 177/250\n",
            "32/32 [==============================] - 0s 1ms/step - loss: 7.5054 - accuracy: 0.5134\n",
            "Epoch 178/250\n",
            "32/32 [==============================] - 0s 1ms/step - loss: 7.8450 - accuracy: 0.4914\n",
            "Epoch 179/250\n",
            "32/32 [==============================] - 0s 1ms/step - loss: 7.3277 - accuracy: 0.5249\n",
            "Epoch 180/250\n",
            "32/32 [==============================] - 0s 1ms/step - loss: 7.6588 - accuracy: 0.5035\n",
            "Epoch 181/250\n",
            "32/32 [==============================] - 0s 2ms/step - loss: 7.5417 - accuracy: 0.5111\n",
            "Epoch 182/250\n",
            "32/32 [==============================] - 0s 1ms/step - loss: 7.4089 - accuracy: 0.5197\n",
            "Epoch 183/250\n",
            "32/32 [==============================] - 0s 2ms/step - loss: 7.7787 - accuracy: 0.4957\n",
            "Epoch 184/250\n",
            "32/32 [==============================] - 0s 1ms/step - loss: 7.4265 - accuracy: 0.5185\n",
            "Epoch 185/250\n",
            "32/32 [==============================] - 0s 1ms/step - loss: 7.6704 - accuracy: 0.5027\n",
            "Epoch 186/250\n",
            "32/32 [==============================] - 0s 1ms/step - loss: 7.4402 - accuracy: 0.5177\n",
            "Epoch 187/250\n",
            "32/32 [==============================] - 0s 1ms/step - loss: 7.8206 - accuracy: 0.4930\n",
            "Epoch 188/250\n",
            "32/32 [==============================] - 0s 2ms/step - loss: 7.7655 - accuracy: 0.4966\n",
            "Epoch 189/250\n",
            "32/32 [==============================] - 0s 1ms/step - loss: 7.9349 - accuracy: 0.4856\n",
            "Epoch 190/250\n",
            "32/32 [==============================] - 0s 1ms/step - loss: 7.6539 - accuracy: 0.5038\n",
            "Epoch 191/250\n",
            "32/32 [==============================] - 0s 1ms/step - loss: 7.9342 - accuracy: 0.4856\n",
            "Epoch 192/250\n",
            "32/32 [==============================] - 0s 1ms/step - loss: 7.9073 - accuracy: 0.4874\n",
            "Epoch 193/250\n",
            "32/32 [==============================] - 0s 1ms/step - loss: 7.6121 - accuracy: 0.5065\n",
            "Epoch 194/250\n",
            "32/32 [==============================] - 0s 2ms/step - loss: 7.6819 - accuracy: 0.5020\n",
            "Epoch 195/250\n",
            "32/32 [==============================] - 0s 1ms/step - loss: 7.7309 - accuracy: 0.4988\n",
            "Epoch 196/250\n",
            "32/32 [==============================] - 0s 1ms/step - loss: 7.5558 - accuracy: 0.5102\n",
            "Epoch 197/250\n",
            "32/32 [==============================] - 0s 1ms/step - loss: 8.1659 - accuracy: 0.4706\n",
            "Epoch 198/250\n",
            "32/32 [==============================] - 0s 1ms/step - loss: 7.6057 - accuracy: 0.5069\n",
            "Epoch 199/250\n",
            "32/32 [==============================] - 0s 1ms/step - loss: 8.2231 - accuracy: 0.4669\n",
            "Epoch 200/250\n",
            "32/32 [==============================] - 0s 1ms/step - loss: 7.9391 - accuracy: 0.4853\n",
            "Epoch 201/250\n",
            "32/32 [==============================] - 0s 1ms/step - loss: 7.7763 - accuracy: 0.4959\n",
            "Epoch 202/250\n",
            "32/32 [==============================] - 0s 1ms/step - loss: 7.7351 - accuracy: 0.4985\n",
            "Epoch 203/250\n",
            "32/32 [==============================] - 0s 1ms/step - loss: 7.5486 - accuracy: 0.5106\n",
            "Epoch 204/250\n",
            "32/32 [==============================] - 0s 1ms/step - loss: 7.9693 - accuracy: 0.4834\n",
            "Epoch 205/250\n",
            "32/32 [==============================] - 0s 2ms/step - loss: 7.8787 - accuracy: 0.4892\n",
            "Epoch 206/250\n",
            "32/32 [==============================] - 0s 1ms/step - loss: 7.8802 - accuracy: 0.4891\n",
            "Epoch 207/250\n",
            "32/32 [==============================] - 0s 2ms/step - loss: 7.6153 - accuracy: 0.5063\n",
            "Epoch 208/250\n",
            "32/32 [==============================] - 0s 1ms/step - loss: 7.7017 - accuracy: 0.5007\n",
            "Epoch 209/250\n",
            "32/32 [==============================] - 0s 1ms/step - loss: 7.8974 - accuracy: 0.4880\n",
            "Epoch 210/250\n",
            "32/32 [==============================] - 0s 1ms/step - loss: 7.7721 - accuracy: 0.4961\n",
            "Epoch 211/250\n",
            "32/32 [==============================] - 0s 1ms/step - loss: 7.3882 - accuracy: 0.5210\n",
            "Epoch 212/250\n",
            "32/32 [==============================] - 0s 1ms/step - loss: 7.7821 - accuracy: 0.4955\n",
            "Epoch 213/250\n",
            "32/32 [==============================] - 0s 2ms/step - loss: 7.3444 - accuracy: 0.5239\n",
            "Epoch 214/250\n",
            "32/32 [==============================] - 0s 1ms/step - loss: 7.9784 - accuracy: 0.4828\n",
            "Epoch 215/250\n",
            "32/32 [==============================] - 0s 1ms/step - loss: 7.7170 - accuracy: 0.4997\n",
            "Epoch 216/250\n",
            "32/32 [==============================] - 0s 2ms/step - loss: 7.9014 - accuracy: 0.4878\n",
            "Epoch 217/250\n",
            "32/32 [==============================] - 0s 1ms/step - loss: 7.6104 - accuracy: 0.5066\n",
            "Epoch 218/250\n",
            "32/32 [==============================] - 0s 2ms/step - loss: 7.9756 - accuracy: 0.4829\n",
            "Epoch 219/250\n",
            "32/32 [==============================] - 0s 1ms/step - loss: 7.7297 - accuracy: 0.4989\n",
            "Epoch 220/250\n",
            "32/32 [==============================] - 0s 1ms/step - loss: 8.2267 - accuracy: 0.4667\n",
            "Epoch 221/250\n",
            "32/32 [==============================] - 0s 1ms/step - loss: 7.5784 - accuracy: 0.5087\n",
            "Epoch 222/250\n",
            "32/32 [==============================] - 0s 1ms/step - loss: 8.0157 - accuracy: 0.4803\n",
            "Epoch 223/250\n",
            "32/32 [==============================] - 0s 2ms/step - loss: 7.5440 - accuracy: 0.5109\n",
            "Epoch 224/250\n",
            "32/32 [==============================] - 0s 1ms/step - loss: 7.3068 - accuracy: 0.5263\n",
            "Epoch 225/250\n",
            "32/32 [==============================] - 0s 1ms/step - loss: 7.7959 - accuracy: 0.4946\n",
            "Epoch 226/250\n",
            "32/32 [==============================] - 0s 1ms/step - loss: 7.7274 - accuracy: 0.4990\n",
            "Epoch 227/250\n",
            "32/32 [==============================] - 0s 1ms/step - loss: 7.8120 - accuracy: 0.4935\n",
            "Epoch 228/250\n",
            "32/32 [==============================] - 0s 1ms/step - loss: 7.8505 - accuracy: 0.4911\n",
            "Epoch 229/250\n",
            "32/32 [==============================] - 0s 1ms/step - loss: 7.6564 - accuracy: 0.5036\n",
            "Epoch 230/250\n",
            "32/32 [==============================] - 0s 2ms/step - loss: 7.3143 - accuracy: 0.5258\n",
            "Epoch 231/250\n",
            "32/32 [==============================] - 0s 1ms/step - loss: 7.9918 - accuracy: 0.4819\n",
            "Epoch 232/250\n",
            "32/32 [==============================] - 0s 2ms/step - loss: 7.7556 - accuracy: 0.4972\n",
            "Epoch 233/250\n",
            "32/32 [==============================] - 0s 1ms/step - loss: 7.6724 - accuracy: 0.5026\n",
            "Epoch 234/250\n",
            "32/32 [==============================] - 0s 1ms/step - loss: 7.8659 - accuracy: 0.4901\n",
            "Epoch 235/250\n",
            "32/32 [==============================] - 0s 1ms/step - loss: 7.7633 - accuracy: 0.4967\n",
            "Epoch 236/250\n",
            "32/32 [==============================] - 0s 1ms/step - loss: 7.9700 - accuracy: 0.4833\n",
            "Epoch 237/250\n",
            "32/32 [==============================] - 0s 2ms/step - loss: 7.4680 - accuracy: 0.5158\n",
            "Epoch 238/250\n",
            "32/32 [==============================] - 0s 1ms/step - loss: 7.9729 - accuracy: 0.4831\n",
            "Epoch 239/250\n",
            "32/32 [==============================] - 0s 2ms/step - loss: 8.2562 - accuracy: 0.4648\n",
            "Epoch 240/250\n",
            "32/32 [==============================] - 0s 2ms/step - loss: 7.8720 - accuracy: 0.4897\n",
            "Epoch 241/250\n",
            "32/32 [==============================] - 0s 2ms/step - loss: 7.4684 - accuracy: 0.5158\n",
            "Epoch 242/250\n",
            "32/32 [==============================] - 0s 2ms/step - loss: 7.6413 - accuracy: 0.5046\n",
            "Epoch 243/250\n",
            "32/32 [==============================] - 0s 2ms/step - loss: 7.8478 - accuracy: 0.4912\n",
            "Epoch 244/250\n",
            "32/32 [==============================] - 0s 2ms/step - loss: 7.7951 - accuracy: 0.4946\n",
            "Epoch 245/250\n",
            "32/32 [==============================] - 0s 2ms/step - loss: 7.2571 - accuracy: 0.5295\n",
            "Epoch 246/250\n",
            "32/32 [==============================] - 0s 2ms/step - loss: 7.4203 - accuracy: 0.5189\n",
            "Epoch 247/250\n",
            "32/32 [==============================] - 0s 2ms/step - loss: 7.4621 - accuracy: 0.5162\n",
            "Epoch 248/250\n",
            "32/32 [==============================] - 0s 1ms/step - loss: 7.5369 - accuracy: 0.5114\n",
            "Epoch 249/250\n",
            "32/32 [==============================] - 0s 2ms/step - loss: 7.7879 - accuracy: 0.4951\n",
            "Epoch 250/250\n",
            "32/32 [==============================] - 0s 2ms/step - loss: 7.3887 - accuracy: 0.5210\n"
          ],
          "name": "stdout"
        }
      ]
    },
    {
      "cell_type": "code",
      "metadata": {
        "colab": {
          "base_uri": "https://localhost:8080/"
        },
        "id": "TxigXY3tVrj3",
        "outputId": "3e29075a-424c-42d6-add3-cea39dcc9582"
      },
      "source": [
        "# Evaluate\n",
        "model_6.evaluate(X,y)"
      ],
      "execution_count": 27,
      "outputs": [
        {
          "output_type": "stream",
          "text": [
            "32/32 [==============================] - 0s 1ms/step - loss: 7.7125 - accuracy: 0.5000\n"
          ],
          "name": "stdout"
        },
        {
          "output_type": "execute_result",
          "data": {
            "text/plain": [
              "[7.712474346160889, 0.5]"
            ]
          },
          "metadata": {
            "tags": []
          },
          "execution_count": 27
        }
      ]
    },
    {
      "cell_type": "code",
      "metadata": {
        "colab": {
          "base_uri": "https://localhost:8080/",
          "height": 282
        },
        "id": "jyZEy3JTVyZ8",
        "outputId": "d3dbc0b1-e2d2-4b07-fd13-e891b71f8d9a"
      },
      "source": [
        "# How do our model prediction look\n",
        "plot_decision_boundary(model_6,X,y)"
      ],
      "execution_count": 28,
      "outputs": [
        {
          "output_type": "stream",
          "text": [
            "doing binarry classification\n"
          ],
          "name": "stdout"
        },
        {
          "output_type": "display_data",
          "data": {
            "image/png": "[encoded data removed]",
            "text/plain": [
              "<Figure size 432x288 with 1 Axes>"
            ]
          },
          "metadata": {
            "tags": [],
            "needs_background": "light"
          }
        }
      ]
    },
    {
      "cell_type": "code",
      "metadata": {
        "colab": {
          "base_uri": "https://localhost:8080/"
        },
        "id": "g13WDSGfWLxG",
        "outputId": "7846b770-2c0b-4c64-c379-56a274c93008"
      },
      "source": [
        "# Set random seed\n",
        "tf.random.set_seed(42)\n",
        "\n",
        "# Create model\n",
        "model_7 = tf.keras.Sequential([\n",
        "    tf.keras.layers.Dense(4,activation=\"relu\"),\n",
        "    tf.keras.layers.Dense(4,activation=\"relu\"),\n",
        "    tf.keras.layers.Dense(1,activation=\"sigmoid\")\n",
        "])\n",
        "\n",
        "# Compile model\n",
        "model_7.compile(loss=\"binary_crossentropy\",\n",
        "                optimizer=tf.keras.optimizers.Adam(lr=0.001),\n",
        "                metrics=[\"accuracy\"])\n",
        "\n",
        "# Fit model\n",
        "history =model_7.fit(X,y,epochs=100)"
      ],
      "execution_count": 29,
      "outputs": [
        {
          "output_type": "stream",
          "text": [
            "Epoch 1/100\n",
            "32/32 [==============================] - 1s 1ms/step - loss: 0.6954 - accuracy: 0.4875\n",
            "Epoch 2/100\n",
            "32/32 [==============================] - 0s 2ms/step - loss: 0.6870 - accuracy: 0.5110\n",
            "Epoch 3/100\n",
            "32/32 [==============================] - 0s 1ms/step - loss: 0.6801 - accuracy: 0.5470\n",
            "Epoch 4/100\n",
            "32/32 [==============================] - 0s 1ms/step - loss: 0.6841 - accuracy: 0.5004\n",
            "Epoch 5/100\n",
            "32/32 [==============================] - 0s 1ms/step - loss: 0.6817 - accuracy: 0.5259\n",
            "Epoch 6/100\n",
            "32/32 [==============================] - 0s 1ms/step - loss: 0.6789 - accuracy: 0.5237\n",
            "Epoch 7/100\n",
            "32/32 [==============================] - 0s 1ms/step - loss: 0.6806 - accuracy: 0.5427\n",
            "Epoch 8/100\n",
            "32/32 [==============================] - 0s 1ms/step - loss: 0.6808 - accuracy: 0.5396\n",
            "Epoch 9/100\n",
            "32/32 [==============================] - 0s 1ms/step - loss: 0.6795 - accuracy: 0.5360\n",
            "Epoch 10/100\n",
            "32/32 [==============================] - 0s 1ms/step - loss: 0.6769 - accuracy: 0.5418\n",
            "Epoch 11/100\n",
            "32/32 [==============================] - 0s 1ms/step - loss: 0.6753 - accuracy: 0.5484\n",
            "Epoch 12/100\n",
            "32/32 [==============================] - 0s 1ms/step - loss: 0.6771 - accuracy: 0.5517\n",
            "Epoch 13/100\n",
            "32/32 [==============================] - 0s 2ms/step - loss: 0.6748 - accuracy: 0.5580\n",
            "Epoch 14/100\n",
            "32/32 [==============================] - 0s 1ms/step - loss: 0.6737 - accuracy: 0.5541\n",
            "Epoch 15/100\n",
            "32/32 [==============================] - 0s 1ms/step - loss: 0.6737 - accuracy: 0.5445\n",
            "Epoch 16/100\n",
            "32/32 [==============================] - 0s 1ms/step - loss: 0.6687 - accuracy: 0.5845\n",
            "Epoch 17/100\n",
            "32/32 [==============================] - 0s 1ms/step - loss: 0.6705 - accuracy: 0.5666\n",
            "Epoch 18/100\n",
            "32/32 [==============================] - 0s 1ms/step - loss: 0.6680 - accuracy: 0.5749\n",
            "Epoch 19/100\n",
            "32/32 [==============================] - 0s 1ms/step - loss: 0.6737 - accuracy: 0.5550\n",
            "Epoch 20/100\n",
            "32/32 [==============================] - 0s 1ms/step - loss: 0.6670 - accuracy: 0.5703\n",
            "Epoch 21/100\n",
            "32/32 [==============================] - 0s 1ms/step - loss: 0.6662 - accuracy: 0.5738\n",
            "Epoch 22/100\n",
            "32/32 [==============================] - 0s 1ms/step - loss: 0.6685 - accuracy: 0.5607\n",
            "Epoch 23/100\n",
            "32/32 [==============================] - 0s 2ms/step - loss: 0.6724 - accuracy: 0.5509\n",
            "Epoch 24/100\n",
            "32/32 [==============================] - 0s 2ms/step - loss: 0.6619 - accuracy: 0.5866\n",
            "Epoch 25/100\n",
            "32/32 [==============================] - 0s 1ms/step - loss: 0.6687 - accuracy: 0.5587\n",
            "Epoch 26/100\n",
            "32/32 [==============================] - 0s 1ms/step - loss: 0.6651 - accuracy: 0.5808\n",
            "Epoch 27/100\n",
            "32/32 [==============================] - 0s 1ms/step - loss: 0.6683 - accuracy: 0.5723\n",
            "Epoch 28/100\n",
            "32/32 [==============================] - 0s 1ms/step - loss: 0.6659 - accuracy: 0.5661\n",
            "Epoch 29/100\n",
            "32/32 [==============================] - 0s 1ms/step - loss: 0.6600 - accuracy: 0.5636\n",
            "Epoch 30/100\n",
            "32/32 [==============================] - 0s 2ms/step - loss: 0.6668 - accuracy: 0.5603\n",
            "Epoch 31/100\n",
            "32/32 [==============================] - 0s 2ms/step - loss: 0.6572 - accuracy: 0.5885\n",
            "Epoch 32/100\n",
            "32/32 [==============================] - 0s 2ms/step - loss: 0.6679 - accuracy: 0.5565\n",
            "Epoch 33/100\n",
            "32/32 [==============================] - 0s 1ms/step - loss: 0.6603 - accuracy: 0.5878\n",
            "Epoch 34/100\n",
            "32/32 [==============================] - 0s 1ms/step - loss: 0.6523 - accuracy: 0.6115\n",
            "Epoch 35/100\n",
            "32/32 [==============================] - 0s 2ms/step - loss: 0.6543 - accuracy: 0.6027\n",
            "Epoch 36/100\n",
            "32/32 [==============================] - 0s 2ms/step - loss: 0.6632 - accuracy: 0.5721\n",
            "Epoch 37/100\n",
            "32/32 [==============================] - 0s 2ms/step - loss: 0.6635 - accuracy: 0.5558\n",
            "Epoch 38/100\n",
            "32/32 [==============================] - 0s 2ms/step - loss: 0.6528 - accuracy: 0.5943\n",
            "Epoch 39/100\n",
            "32/32 [==============================] - 0s 2ms/step - loss: 0.6560 - accuracy: 0.5743\n",
            "Epoch 40/100\n",
            "32/32 [==============================] - 0s 2ms/step - loss: 0.6538 - accuracy: 0.5764\n",
            "Epoch 41/100\n",
            "32/32 [==============================] - 0s 1ms/step - loss: 0.6616 - accuracy: 0.5616\n",
            "Epoch 42/100\n",
            "32/32 [==============================] - 0s 1ms/step - loss: 0.6561 - accuracy: 0.5617\n",
            "Epoch 43/100\n",
            "32/32 [==============================] - 0s 2ms/step - loss: 0.6607 - accuracy: 0.5523\n",
            "Epoch 44/100\n",
            "32/32 [==============================] - 0s 2ms/step - loss: 0.6458 - accuracy: 0.5966\n",
            "Epoch 45/100\n",
            "32/32 [==============================] - 0s 2ms/step - loss: 0.6503 - accuracy: 0.5751\n",
            "Epoch 46/100\n",
            "32/32 [==============================] - 0s 1ms/step - loss: 0.6513 - accuracy: 0.5722\n",
            "Epoch 47/100\n",
            "32/32 [==============================] - 0s 1ms/step - loss: 0.6496 - accuracy: 0.5939\n",
            "Epoch 48/100\n",
            "32/32 [==============================] - 0s 1ms/step - loss: 0.6492 - accuracy: 0.5807\n",
            "Epoch 49/100\n",
            "32/32 [==============================] - 0s 2ms/step - loss: 0.6372 - accuracy: 0.5996\n",
            "Epoch 50/100\n",
            "32/32 [==============================] - 0s 2ms/step - loss: 0.6373 - accuracy: 0.6055\n",
            "Epoch 51/100\n",
            "32/32 [==============================] - 0s 2ms/step - loss: 0.6409 - accuracy: 0.5957\n",
            "Epoch 52/100\n",
            "32/32 [==============================] - 0s 2ms/step - loss: 0.6393 - accuracy: 0.6196\n",
            "Epoch 53/100\n",
            "32/32 [==============================] - 0s 2ms/step - loss: 0.6363 - accuracy: 0.5992\n",
            "Epoch 54/100\n",
            "32/32 [==============================] - 0s 2ms/step - loss: 0.6275 - accuracy: 0.6319\n",
            "Epoch 55/100\n",
            "32/32 [==============================] - 0s 1ms/step - loss: 0.6178 - accuracy: 0.6533\n",
            "Epoch 56/100\n",
            "32/32 [==============================] - 0s 2ms/step - loss: 0.6301 - accuracy: 0.6978\n",
            "Epoch 57/100\n",
            "32/32 [==============================] - 0s 2ms/step - loss: 0.6227 - accuracy: 0.6982\n",
            "Epoch 58/100\n",
            "32/32 [==============================] - 0s 2ms/step - loss: 0.6148 - accuracy: 0.7170\n",
            "Epoch 59/100\n",
            "32/32 [==============================] - 0s 1ms/step - loss: 0.6107 - accuracy: 0.7226\n",
            "Epoch 60/100\n",
            "32/32 [==============================] - 0s 1ms/step - loss: 0.6235 - accuracy: 0.7071\n",
            "Epoch 61/100\n",
            "32/32 [==============================] - 0s 1ms/step - loss: 0.6168 - accuracy: 0.7065\n",
            "Epoch 62/100\n",
            "32/32 [==============================] - 0s 1ms/step - loss: 0.6070 - accuracy: 0.7284\n",
            "Epoch 63/100\n",
            "32/32 [==============================] - 0s 2ms/step - loss: 0.5969 - accuracy: 0.7543\n",
            "Epoch 64/100\n",
            "32/32 [==============================] - 0s 2ms/step - loss: 0.6030 - accuracy: 0.7442\n",
            "Epoch 65/100\n",
            "32/32 [==============================] - 0s 1ms/step - loss: 0.5927 - accuracy: 0.7332\n",
            "Epoch 66/100\n",
            "32/32 [==============================] - 0s 1ms/step - loss: 0.5919 - accuracy: 0.7251\n",
            "Epoch 67/100\n",
            "32/32 [==============================] - 0s 1ms/step - loss: 0.5845 - accuracy: 0.7195\n",
            "Epoch 68/100\n",
            "32/32 [==============================] - 0s 2ms/step - loss: 0.5664 - accuracy: 0.7750\n",
            "Epoch 69/100\n",
            "32/32 [==============================] - 0s 2ms/step - loss: 0.5593 - accuracy: 0.8049\n",
            "Epoch 70/100\n",
            "32/32 [==============================] - 0s 1ms/step - loss: 0.5635 - accuracy: 0.7975\n",
            "Epoch 71/100\n",
            "32/32 [==============================] - 0s 2ms/step - loss: 0.5457 - accuracy: 0.8164\n",
            "Epoch 72/100\n",
            "32/32 [==============================] - 0s 1ms/step - loss: 0.5448 - accuracy: 0.8228\n",
            "Epoch 73/100\n",
            "32/32 [==============================] - 0s 2ms/step - loss: 0.5341 - accuracy: 0.8497\n",
            "Epoch 74/100\n",
            "32/32 [==============================] - 0s 2ms/step - loss: 0.5257 - accuracy: 0.8428\n",
            "Epoch 75/100\n",
            "32/32 [==============================] - 0s 1ms/step - loss: 0.5142 - accuracy: 0.8761\n",
            "Epoch 76/100\n",
            "32/32 [==============================] - 0s 2ms/step - loss: 0.5013 - accuracy: 0.8919\n",
            "Epoch 77/100\n",
            "32/32 [==============================] - 0s 1ms/step - loss: 0.4946 - accuracy: 0.9306\n",
            "Epoch 78/100\n",
            "32/32 [==============================] - 0s 1ms/step - loss: 0.4805 - accuracy: 0.9116\n",
            "Epoch 79/100\n",
            "32/32 [==============================] - 0s 1ms/step - loss: 0.4702 - accuracy: 0.9457\n",
            "Epoch 80/100\n",
            "32/32 [==============================] - 0s 1ms/step - loss: 0.4683 - accuracy: 0.9563\n",
            "Epoch 81/100\n",
            "32/32 [==============================] - 0s 1ms/step - loss: 0.4624 - accuracy: 0.9470\n",
            "Epoch 82/100\n",
            "32/32 [==============================] - 0s 1ms/step - loss: 0.4416 - accuracy: 0.9538\n",
            "Epoch 83/100\n",
            "32/32 [==============================] - 0s 1ms/step - loss: 0.4355 - accuracy: 0.9636\n",
            "Epoch 84/100\n",
            "32/32 [==============================] - 0s 1ms/step - loss: 0.4244 - accuracy: 0.9741\n",
            "Epoch 85/100\n",
            "32/32 [==============================] - 0s 1ms/step - loss: 0.4236 - accuracy: 0.9669\n",
            "Epoch 86/100\n",
            "32/32 [==============================] - 0s 1ms/step - loss: 0.4142 - accuracy: 0.9745\n",
            "Epoch 87/100\n",
            "32/32 [==============================] - 0s 1ms/step - loss: 0.3976 - accuracy: 0.9760\n",
            "Epoch 88/100\n",
            "32/32 [==============================] - 0s 2ms/step - loss: 0.3855 - accuracy: 0.9732\n",
            "Epoch 89/100\n",
            "32/32 [==============================] - 0s 2ms/step - loss: 0.3781 - accuracy: 0.9812\n",
            "Epoch 90/100\n",
            "32/32 [==============================] - 0s 2ms/step - loss: 0.3682 - accuracy: 0.9782\n",
            "Epoch 91/100\n",
            "32/32 [==============================] - 0s 1ms/step - loss: 0.3650 - accuracy: 0.9808\n",
            "Epoch 92/100\n",
            "32/32 [==============================] - 0s 2ms/step - loss: 0.3615 - accuracy: 0.9817\n",
            "Epoch 93/100\n",
            "32/32 [==============================] - 0s 1ms/step - loss: 0.3542 - accuracy: 0.9783\n",
            "Epoch 94/100\n",
            "32/32 [==============================] - 0s 2ms/step - loss: 0.3457 - accuracy: 0.9845\n",
            "Epoch 95/100\n",
            "32/32 [==============================] - 0s 2ms/step - loss: 0.3346 - accuracy: 0.9831\n",
            "Epoch 96/100\n",
            "32/32 [==============================] - 0s 2ms/step - loss: 0.3241 - accuracy: 0.9846\n",
            "Epoch 97/100\n",
            "32/32 [==============================] - 0s 1ms/step - loss: 0.3207 - accuracy: 0.9856\n",
            "Epoch 98/100\n",
            "32/32 [==============================] - 0s 1ms/step - loss: 0.3153 - accuracy: 0.9941\n",
            "Epoch 99/100\n",
            "32/32 [==============================] - 0s 2ms/step - loss: 0.3047 - accuracy: 0.9864\n",
            "Epoch 100/100\n",
            "32/32 [==============================] - 0s 1ms/step - loss: 0.2957 - accuracy: 0.9887\n"
          ],
          "name": "stdout"
        }
      ]
    },
    {
      "cell_type": "code",
      "metadata": {
        "colab": {
          "base_uri": "https://localhost:8080/"
        },
        "id": "CQ-EWu5kq8x2",
        "outputId": "169f4ea1-0213-4c5e-b48a-02f9e1f6fffa"
      },
      "source": [
        "# Evaluate\n",
        "model_7.evaluate(X,y)"
      ],
      "execution_count": 30,
      "outputs": [
        {
          "output_type": "stream",
          "text": [
            "32/32 [==============================] - 0s 1ms/step - loss: 0.2948 - accuracy: 0.9910\n"
          ],
          "name": "stdout"
        },
        {
          "output_type": "execute_result",
          "data": {
            "text/plain": [
              "[0.29480037093162537, 0.9909999966621399]"
            ]
          },
          "metadata": {
            "tags": []
          },
          "execution_count": 30
        }
      ]
    },
    {
      "cell_type": "code",
      "metadata": {
        "colab": {
          "base_uri": "https://localhost:8080/",
          "height": 282
        },
        "id": "R7Isf7dnrQYm",
        "outputId": "12e3e646-5514-4533-b25b-20b583100719"
      },
      "source": [
        "# Visualize\n",
        "plot_decision_boundary(model_7,X,y)"
      ],
      "execution_count": 31,
      "outputs": [
        {
          "output_type": "stream",
          "text": [
            "doing binarry classification\n"
          ],
          "name": "stdout"
        },
        {
          "output_type": "display_data",
          "data": {
            "image/png": "[encoded data removed]",
            "text/plain": [
              "<Figure size 432x288 with 1 Axes>"
            ]
          },
          "metadata": {
            "tags": [],
            "needs_background": "light"
          }
        }
      ]
    },
    {
      "cell_type": "code",
      "metadata": {
        "id": "iyU5vJA7rZlv",
        "colab": {
          "base_uri": "https://localhost:8080/"
        },
        "outputId": "512873f5-8ffe-4694-f6ad-f08d28653d39"
      },
      "source": [
        "# Create a toy tensor (similar to the data we pass in our model)\n",
        "\n",
        "A = tf.cast(tf.range(-10,10),tf.float32)\n",
        "A"
      ],
      "execution_count": 32,
      "outputs": [
        {
          "output_type": "execute_result",
          "data": {
            "text/plain": [
              "<tf.Tensor: shape=(20,), dtype=float32, numpy=\n",
              "array([-10.,  -9.,  -8.,  -7.,  -6.,  -5.,  -4.,  -3.,  -2.,  -1.,   0.,\n",
              "         1.,   2.,   3.,   4.,   5.,   6.,   7.,   8.,   9.],\n",
              "      dtype=float32)>"
            ]
          },
          "metadata": {
            "tags": []
          },
          "execution_count": 32
        }
      ]
    },
    {
      "cell_type": "code",
      "metadata": {
        "colab": {
          "base_uri": "https://localhost:8080/",
          "height": 265
        },
        "id": "w2RgjxQj3sKq",
        "outputId": "01f663bf-3578-4e8e-e9a0-e9103543d78b"
      },
      "source": [
        "# Visualize our toy tensor\n",
        "plt.plot(A);"
      ],
      "execution_count": 33,
      "outputs": [
        {
          "output_type": "display_data",
          "data": {
            "image/png": "[encoded data removed]",
            "text/plain": [
              "<Figure size 432x288 with 1 Axes>"
            ]
          },
          "metadata": {
            "tags": [],
            "needs_background": "light"
          }
        }
      ]
    },
    {
      "cell_type": "code",
      "metadata": {
        "colab": {
          "base_uri": "https://localhost:8080/"
        },
        "id": "H0Uzn_6U35UJ",
        "outputId": "c9de6a29-70bb-4f88-dfe9-47fed46d1307"
      },
      "source": [
        "# Let's start by replicating sigmoid - sigmoid(x) = 1/(1+exp(-x))\n",
        "def sigmoid(x):\n",
        "  return 1/(1+tf.exp(-x))\n",
        "\n",
        "# USe the sigmoid on out toy tensor\n",
        "sigmoid(A)"
      ],
      "execution_count": 34,
      "outputs": [
        {
          "output_type": "execute_result",
          "data": {
            "text/plain": [
              "<tf.Tensor: shape=(20,), dtype=float32, numpy=\n",
              "array([4.5397872e-05, 1.2339458e-04, 3.3535014e-04, 9.1105117e-04,\n",
              "       2.4726233e-03, 6.6928510e-03, 1.7986210e-02, 4.7425874e-02,\n",
              "       1.1920292e-01, 2.6894143e-01, 5.0000000e-01, 7.3105860e-01,\n",
              "       8.8079703e-01, 9.5257413e-01, 9.8201376e-01, 9.9330717e-01,\n",
              "       9.9752742e-01, 9.9908900e-01, 9.9966466e-01, 9.9987662e-01],\n",
              "      dtype=float32)>"
            ]
          },
          "metadata": {
            "tags": []
          },
          "execution_count": 34
        }
      ]
    },
    {
      "cell_type": "code",
      "metadata": {
        "colab": {
          "base_uri": "https://localhost:8080/",
          "height": 282
        },
        "id": "YiSSZRjq4ugF",
        "outputId": "f0d8595a-a8bd-4ef4-e4b4-71a0ef761273"
      },
      "source": [
        "# Plot out toy tensor transformed by sigmoid\n",
        "plt.plot(sigmoid(A))"
      ],
      "execution_count": 35,
      "outputs": [
        {
          "output_type": "execute_result",
          "data": {
            "text/plain": [
              "[<matplotlib.lines.Line2D at 0x7f468cd399d0>]"
            ]
          },
          "metadata": {
            "tags": []
          },
          "execution_count": 35
        },
        {
          "output_type": "display_data",
          "data": {
            "image/png": "[encoded data removed]",
            "text/plain": [
              "<Figure size 432x288 with 1 Axes>"
            ]
          },
          "metadata": {
            "tags": [],
            "needs_background": "light"
          }
        }
      ]
    },
    {
      "cell_type": "code",
      "metadata": {
        "colab": {
          "base_uri": "https://localhost:8080/"
        },
        "id": "JjjhqQti46S_",
        "outputId": "d9cebc40-2476-405c-98b2-1c4c06962106"
      },
      "source": [
        "# Let's recreate relu function\n",
        "def relu(x):\n",
        "  return tf.maximum(0,x)\n",
        "\n",
        "relu(A)"
      ],
      "execution_count": 36,
      "outputs": [
        {
          "output_type": "execute_result",
          "data": {
            "text/plain": [
              "<tf.Tensor: shape=(20,), dtype=float32, numpy=\n",
              "array([0., 0., 0., 0., 0., 0., 0., 0., 0., 0., 0., 1., 2., 3., 4., 5., 6.,\n",
              "       7., 8., 9.], dtype=float32)>"
            ]
          },
          "metadata": {
            "tags": []
          },
          "execution_count": 36
        }
      ]
    },
    {
      "cell_type": "code",
      "metadata": {
        "colab": {
          "base_uri": "https://localhost:8080/",
          "height": 282
        },
        "id": "aQixc9Hr5rVM",
        "outputId": "05762567-a0b2-4778-ce6a-88f75ba3e469"
      },
      "source": [
        "# Plot out toy tensor transformed by relu\n",
        "plt.plot(relu(A))"
      ],
      "execution_count": 37,
      "outputs": [
        {
          "output_type": "execute_result",
          "data": {
            "text/plain": [
              "[<matplotlib.lines.Line2D at 0x7f468cd2ac50>]"
            ]
          },
          "metadata": {
            "tags": []
          },
          "execution_count": 37
        },
        {
          "output_type": "display_data",
          "data": {
            "image/png": "[encoded data removed]",
            "text/plain": [
              "<Figure size 432x288 with 1 Axes>"
            ]
          },
          "metadata": {
            "tags": [],
            "needs_background": "light"
          }
        }
      ]
    },
    {
      "cell_type": "code",
      "metadata": {
        "colab": {
          "base_uri": "https://localhost:8080/"
        },
        "id": "zbF0z04V5xix",
        "outputId": "fee54db6-aa00-4f73-ccd7-666b394c730e"
      },
      "source": [
        "# Let's try linear activation function\n",
        "tf.keras.activations.linear(A)"
      ],
      "execution_count": 38,
      "outputs": [
        {
          "output_type": "execute_result",
          "data": {
            "text/plain": [
              "<tf.Tensor: shape=(20,), dtype=float32, numpy=\n",
              "array([-10.,  -9.,  -8.,  -7.,  -6.,  -5.,  -4.,  -3.,  -2.,  -1.,   0.,\n",
              "         1.,   2.,   3.,   4.,   5.,   6.,   7.,   8.,   9.],\n",
              "      dtype=float32)>"
            ]
          },
          "metadata": {
            "tags": []
          },
          "execution_count": 38
        }
      ]
    },
    {
      "cell_type": "code",
      "metadata": {
        "colab": {
          "base_uri": "https://localhost:8080/",
          "height": 282
        },
        "id": "dyujCPyj6bgM",
        "outputId": "d4f04518-865f-44c9-9bad-dabd48438ba5"
      },
      "source": [
        "plt.plot(tf.keras.activations.linear(A))"
      ],
      "execution_count": 39,
      "outputs": [
        {
          "output_type": "execute_result",
          "data": {
            "text/plain": [
              "[<matplotlib.lines.Line2D at 0x7f468cc91e50>]"
            ]
          },
          "metadata": {
            "tags": []
          },
          "execution_count": 39
        },
        {
          "output_type": "display_data",
          "data": {
            "image/png": "[encoded data removed]",
            "text/plain": [
              "<Figure size 432x288 with 1 Axes>"
            ]
          },
          "metadata": {
            "tags": [],
            "needs_background": "light"
          }
        }
      ]
    },
    {
      "cell_type": "code",
      "metadata": {
        "colab": {
          "base_uri": "https://localhost:8080/"
        },
        "id": "FvSWnEIY6gab",
        "outputId": "3694c80c-b20d-451a-9924-a5659375fef3"
      },
      "source": [
        "A == tf.keras.activations.linear(A)"
      ],
      "execution_count": 40,
      "outputs": [
        {
          "output_type": "execute_result",
          "data": {
            "text/plain": [
              "<tf.Tensor: shape=(20,), dtype=bool, numpy=\n",
              "array([ True,  True,  True,  True,  True,  True,  True,  True,  True,\n",
              "        True,  True,  True,  True,  True,  True,  True,  True,  True,\n",
              "        True,  True])>"
            ]
          },
          "metadata": {
            "tags": []
          },
          "execution_count": 40
        }
      ]
    },
    {
      "cell_type": "markdown",
      "metadata": {
        "id": "k_Vg_pjDALga"
      },
      "source": [
        "## Evaluating and improving our classification\n",
        "\n",
        "So far we've been training and testing on the same dataset...\n",
        "\n",
        "However, in machine learning this is basically a sin 😂.\n",
        "\n",
        "So let's create a training and test set."
      ]
    },
    {
      "cell_type": "code",
      "metadata": {
        "id": "IeHqYSj26nMz",
        "colab": {
          "base_uri": "https://localhost:8080/"
        },
        "outputId": "863d7979-6ece-4d7b-d311-42093cd37c7e"
      },
      "source": [
        "# Check how many examples we havr\n",
        "len(X)"
      ],
      "execution_count": 41,
      "outputs": [
        {
          "output_type": "execute_result",
          "data": {
            "text/plain": [
              "1000"
            ]
          },
          "metadata": {
            "tags": []
          },
          "execution_count": 41
        }
      ]
    },
    {
      "cell_type": "code",
      "metadata": {
        "colab": {
          "base_uri": "https://localhost:8080/"
        },
        "id": "XriUYEE5HVY-",
        "outputId": "ec2b4ac9-c1dc-4a7d-dc26-db9d55711f60"
      },
      "source": [
        "X,y"
      ],
      "execution_count": 42,
      "outputs": [
        {
          "output_type": "execute_result",
          "data": {
            "text/plain": [
              "(array([[ 0.75424625,  0.23148074],\n",
              "        [-0.75615888,  0.15325888],\n",
              "        [-0.81539193,  0.17328203],\n",
              "        ...,\n",
              "        [-0.13690036, -0.81001183],\n",
              "        [ 0.67036156, -0.76750154],\n",
              "        [ 0.28105665,  0.96382443]]),\n",
              " array([1, 1, 1, 1, 0, 1, 1, 1, 1, 0, 1, 0, 1, 1, 1, 1, 0, 1, 1, 0, 1, 0,\n",
              "        0, 1, 0, 0, 0, 1, 1, 1, 0, 0, 1, 0, 0, 0, 1, 1, 1, 0, 0, 0, 0, 1,\n",
              "        0, 0, 1, 1, 0, 1, 1, 1, 0, 1, 0, 0, 1, 0, 0, 1, 0, 0, 1, 0, 1, 1,\n",
              "        1, 1, 0, 1, 0, 0, 1, 1, 0, 0, 1, 0, 1, 0, 1, 0, 0, 0, 0, 1, 1, 1,\n",
              "        1, 0, 0, 0, 1, 0, 1, 0, 1, 0, 0, 1, 1, 0, 1, 0, 1, 1, 1, 1, 0, 1,\n",
              "        1, 1, 1, 1, 0, 0, 0, 1, 1, 0, 1, 0, 1, 0, 0, 1, 1, 0, 1, 1, 1, 1,\n",
              "        0, 1, 1, 0, 0, 0, 0, 0, 0, 0, 1, 0, 1, 1, 1, 0, 1, 0, 1, 0, 1, 0,\n",
              "        1, 0, 0, 1, 0, 1, 1, 1, 1, 1, 1, 1, 0, 1, 0, 0, 0, 0, 0, 1, 0, 0,\n",
              "        0, 0, 1, 1, 0, 1, 0, 1, 1, 0, 0, 0, 1, 1, 1, 1, 1, 0, 0, 0, 0, 0,\n",
              "        1, 0, 0, 1, 1, 1, 1, 1, 0, 1, 0, 1, 0, 0, 1, 1, 1, 0, 1, 0, 1, 1,\n",
              "        0, 1, 1, 0, 1, 0, 1, 0, 1, 1, 0, 1, 0, 1, 0, 0, 0, 1, 0, 0, 0, 0,\n",
              "        1, 1, 0, 0, 0, 0, 0, 0, 0, 1, 1, 1, 0, 0, 1, 1, 1, 0, 1, 0, 0, 0,\n",
              "        0, 1, 1, 0, 1, 0, 0, 0, 1, 0, 1, 0, 0, 1, 0, 1, 1, 1, 0, 0, 0, 1,\n",
              "        0, 0, 0, 1, 1, 1, 1, 0, 0, 0, 1, 0, 0, 0, 1, 0, 0, 0, 1, 1, 0, 1,\n",
              "        1, 1, 1, 1, 1, 1, 0, 0, 0, 0, 1, 0, 0, 0, 0, 1, 1, 1, 0, 0, 1, 0,\n",
              "        1, 0, 1, 1, 0, 0, 1, 1, 1, 1, 0, 0, 0, 0, 0, 0, 1, 1, 0, 1, 0, 0,\n",
              "        1, 0, 0, 0, 0, 0, 0, 0, 0, 1, 0, 0, 0, 0, 1, 0, 0, 1, 0, 1, 0, 0,\n",
              "        0, 1, 0, 0, 1, 1, 0, 0, 1, 0, 0, 1, 1, 0, 1, 1, 0, 0, 1, 0, 1, 0,\n",
              "        0, 0, 1, 1, 0, 0, 1, 1, 1, 1, 1, 0, 0, 1, 1, 1, 1, 0, 1, 1, 1, 1,\n",
              "        1, 0, 0, 1, 0, 1, 0, 0, 0, 0, 1, 0, 0, 0, 0, 0, 0, 0, 0, 0, 1, 1,\n",
              "        0, 1, 1, 1, 1, 1, 1, 0, 1, 1, 1, 1, 0, 0, 0, 1, 1, 1, 0, 0, 0, 0,\n",
              "        1, 1, 0, 0, 0, 0, 1, 0, 0, 0, 1, 0, 0, 1, 1, 1, 1, 1, 1, 0, 0, 0,\n",
              "        1, 0, 0, 0, 0, 0, 1, 1, 1, 0, 0, 0, 0, 0, 1, 1, 1, 0, 0, 1, 1, 1,\n",
              "        1, 0, 1, 1, 0, 1, 0, 0, 0, 1, 0, 0, 1, 0, 0, 1, 1, 0, 0, 1, 1, 0,\n",
              "        1, 0, 1, 0, 1, 0, 1, 0, 0, 0, 1, 0, 0, 0, 0, 0, 0, 1, 1, 1, 1, 0,\n",
              "        0, 0, 1, 0, 1, 1, 0, 0, 0, 0, 0, 1, 1, 1, 0, 0, 1, 0, 0, 1, 0, 0,\n",
              "        1, 0, 0, 1, 0, 0, 0, 1, 0, 0, 1, 1, 1, 0, 1, 1, 0, 0, 0, 1, 1, 1,\n",
              "        1, 0, 0, 1, 1, 1, 0, 0, 0, 0, 1, 1, 0, 0, 1, 1, 0, 0, 1, 1, 1, 1,\n",
              "        1, 1, 1, 0, 1, 0, 1, 0, 0, 1, 0, 1, 1, 1, 1, 0, 0, 1, 1, 0, 0, 1,\n",
              "        0, 1, 0, 0, 0, 1, 0, 0, 1, 1, 1, 1, 0, 1, 1, 1, 1, 1, 1, 1, 0, 1,\n",
              "        0, 1, 1, 1, 0, 0, 1, 0, 0, 0, 1, 1, 1, 1, 0, 0, 0, 0, 1, 0, 1, 1,\n",
              "        1, 0, 1, 0, 0, 1, 0, 0, 1, 1, 1, 1, 1, 0, 1, 0, 0, 0, 1, 1, 1, 1,\n",
              "        1, 0, 0, 0, 1, 1, 1, 1, 0, 0, 0, 0, 0, 1, 1, 0, 1, 0, 1, 0, 0, 0,\n",
              "        0, 0, 0, 0, 0, 0, 1, 1, 1, 1, 1, 0, 1, 0, 1, 1, 1, 1, 0, 1, 1, 1,\n",
              "        1, 1, 1, 1, 1, 0, 1, 1, 0, 1, 0, 0, 0, 1, 0, 1, 1, 1, 0, 1, 1, 0,\n",
              "        1, 1, 0, 1, 0, 1, 1, 0, 0, 1, 1, 1, 0, 0, 0, 0, 1, 1, 0, 0, 1, 1,\n",
              "        1, 1, 1, 1, 1, 1, 1, 1, 1, 1, 1, 1, 0, 0, 1, 0, 1, 0, 1, 0, 1, 1,\n",
              "        1, 1, 1, 1, 0, 1, 0, 1, 1, 1, 0, 1, 1, 0, 0, 1, 0, 1, 1, 0, 0, 1,\n",
              "        1, 1, 1, 1, 1, 1, 1, 0, 1, 1, 1, 0, 1, 0, 0, 1, 1, 0, 0, 0, 1, 0,\n",
              "        0, 1, 0, 0, 0, 1, 0, 1, 0, 0, 0, 0, 1, 0, 1, 1, 1, 1, 0, 1, 0, 0,\n",
              "        0, 0, 0, 0, 1, 0, 1, 0, 1, 0, 1, 1, 1, 0, 1, 0, 1, 0, 0, 1, 1, 1,\n",
              "        0, 0, 0, 1, 1, 0, 1, 0, 1, 1, 0, 1, 0, 0, 1, 1, 1, 0, 0, 0, 1, 1,\n",
              "        0, 0, 0, 0, 0, 1, 1, 0, 1, 0, 0, 0, 1, 0, 0, 0, 1, 1, 1, 1, 0, 1,\n",
              "        1, 1, 0, 1, 1, 1, 1, 0, 1, 1, 0, 1, 1, 0, 0, 1, 1, 1, 0, 0, 0, 0,\n",
              "        0, 0, 1, 0, 0, 1, 0, 0, 0, 1, 0, 1, 0, 1, 1, 0, 0, 0, 0, 0, 0, 0,\n",
              "        0, 1, 0, 1, 0, 0, 0, 1, 0, 0]))"
            ]
          },
          "metadata": {
            "tags": []
          },
          "execution_count": 42
        }
      ]
    },
    {
      "cell_type": "code",
      "metadata": {
        "colab": {
          "base_uri": "https://localhost:8080/"
        },
        "id": "mWlb3hGKHV95",
        "outputId": "938b81da-dd86-489e-eb34-ab697a4a3638"
      },
      "source": [
        "# Split into train and test sets\n",
        "X_train,y_train = X[:800],y[:800]\n",
        "X_test,y_test = X[800:],y[800:]\n",
        "\n",
        "X_train.shape,y_train.shape,X_test.shape,y_test.shape"
      ],
      "execution_count": 43,
      "outputs": [
        {
          "output_type": "execute_result",
          "data": {
            "text/plain": [
              "((800, 2), (800,), (200, 2), (200,))"
            ]
          },
          "metadata": {
            "tags": []
          },
          "execution_count": 43
        }
      ]
    },
    {
      "cell_type": "code",
      "metadata": {
        "colab": {
          "base_uri": "https://localhost:8080/"
        },
        "id": "7GrmjJBsHuPa",
        "outputId": "56c3ae71-dae7-4c9c-e0f5-0bafcef441a8"
      },
      "source": [
        "# Let's recreate a model to fit on the training data and evaluate on the testing data\n",
        "\n",
        "# Random Seed\n",
        "tf.random.set_seed(42)\n",
        "\n",
        "# Create model\n",
        "model_8 = tf.keras.Sequential([\n",
        "   tf.keras.layers.Dense(4,activation=\"relu\"),\n",
        "   tf.keras.layers.Dense(4,activation=\"relu\"),\n",
        "   tf.keras.layers.Dense(1,activation=\"sigmoid\")\n",
        "])\n",
        "\n",
        "# Compile\n",
        "model_8.compile(loss=\"binary_crossentropy\",\n",
        "                optimizer=tf.keras.optimizers.Adam(lr=0.01),\n",
        "                metrics=[\"accuracy\"])\n",
        "\n",
        "# Fit\n",
        "history = model_8.fit(X_train,y_train,epochs=25)"
      ],
      "execution_count": 44,
      "outputs": [
        {
          "output_type": "stream",
          "text": [
            "Epoch 1/25\n",
            "25/25 [==============================] - 0s 1ms/step - loss: 0.6840 - accuracy: 0.5196\n",
            "Epoch 2/25\n",
            "25/25 [==============================] - 0s 1ms/step - loss: 0.6816 - accuracy: 0.5344\n",
            "Epoch 3/25\n",
            "25/25 [==============================] - 0s 2ms/step - loss: 0.6753 - accuracy: 0.5371\n",
            "Epoch 4/25\n",
            "25/25 [==============================] - 0s 2ms/step - loss: 0.6685 - accuracy: 0.5943\n",
            "Epoch 5/25\n",
            "25/25 [==============================] - 0s 2ms/step - loss: 0.6624 - accuracy: 0.5837\n",
            "Epoch 6/25\n",
            "25/25 [==============================] - 0s 1ms/step - loss: 0.6512 - accuracy: 0.5798\n",
            "Epoch 7/25\n",
            "25/25 [==============================] - 0s 1ms/step - loss: 0.6428 - accuracy: 0.6507\n",
            "Epoch 8/25\n",
            "25/25 [==============================] - 0s 1ms/step - loss: 0.6139 - accuracy: 0.7259\n",
            "Epoch 9/25\n",
            "25/25 [==============================] - 0s 1ms/step - loss: 0.6021 - accuracy: 0.7919\n",
            "Epoch 10/25\n",
            "25/25 [==============================] - 0s 1ms/step - loss: 0.5724 - accuracy: 0.7704\n",
            "Epoch 11/25\n",
            "25/25 [==============================] - 0s 1ms/step - loss: 0.5513 - accuracy: 0.7452\n",
            "Epoch 12/25\n",
            "25/25 [==============================] - 0s 1ms/step - loss: 0.4921 - accuracy: 0.7979\n",
            "Epoch 13/25\n",
            "25/25 [==============================] - 0s 1ms/step - loss: 0.4734 - accuracy: 0.7859\n",
            "Epoch 14/25\n",
            "25/25 [==============================] - 0s 1ms/step - loss: 0.4316 - accuracy: 0.8306\n",
            "Epoch 15/25\n",
            "25/25 [==============================] - 0s 1ms/step - loss: 0.3666 - accuracy: 0.9094\n",
            "Epoch 16/25\n",
            "25/25 [==============================] - 0s 1ms/step - loss: 0.3373 - accuracy: 0.9302\n",
            "Epoch 17/25\n",
            "25/25 [==============================] - 0s 1ms/step - loss: 0.2898 - accuracy: 0.9376\n",
            "Epoch 18/25\n",
            "25/25 [==============================] - 0s 1ms/step - loss: 0.2796 - accuracy: 0.9426\n",
            "Epoch 19/25\n",
            "25/25 [==============================] - 0s 1ms/step - loss: 0.2304 - accuracy: 0.9659\n",
            "Epoch 20/25\n",
            "25/25 [==============================] - 0s 2ms/step - loss: 0.2201 - accuracy: 0.9624\n",
            "Epoch 21/25\n",
            "25/25 [==============================] - 0s 1ms/step - loss: 0.1995 - accuracy: 0.9793\n",
            "Epoch 22/25\n",
            "25/25 [==============================] - 0s 1ms/step - loss: 0.1815 - accuracy: 0.9702\n",
            "Epoch 23/25\n",
            "25/25 [==============================] - 0s 1ms/step - loss: 0.1516 - accuracy: 0.9859\n",
            "Epoch 24/25\n",
            "25/25 [==============================] - 0s 1ms/step - loss: 0.1504 - accuracy: 0.9802\n",
            "Epoch 25/25\n",
            "25/25 [==============================] - 0s 1ms/step - loss: 0.1455 - accuracy: 0.9749\n"
          ],
          "name": "stdout"
        }
      ]
    },
    {
      "cell_type": "code",
      "metadata": {
        "colab": {
          "base_uri": "https://localhost:8080/"
        },
        "id": "ZWO4eOoEJUJJ",
        "outputId": "3b0d8ce0-36c2-44df-d4a2-a1630d322093"
      },
      "source": [
        "# evaluate\n",
        "model_8.evaluate(X_test,y_test)"
      ],
      "execution_count": 45,
      "outputs": [
        {
          "output_type": "stream",
          "text": [
            "7/7 [==============================] - 0s 2ms/step - loss: 0.1247 - accuracy: 1.0000\n"
          ],
          "name": "stdout"
        },
        {
          "output_type": "execute_result",
          "data": {
            "text/plain": [
              "[0.12468849867582321, 1.0]"
            ]
          },
          "metadata": {
            "tags": []
          },
          "execution_count": 45
        }
      ]
    },
    {
      "cell_type": "code",
      "metadata": {
        "colab": {
          "base_uri": "https://localhost:8080/",
          "height": 379
        },
        "id": "bXd5BlaaJnVC",
        "outputId": "4efd8eba-f9d3-4967-9d26-a4a760e3bebd"
      },
      "source": [
        "# Plot the decision boundary for the training and test sets\n",
        "plt.figure(figsize=(12,6))\n",
        "plt.subplot(1,2,1)\n",
        "plt.title(\"Train\")\n",
        "plot_decision_boundary(model_8,X=X_train,y=y_train)\n",
        "plt.subplot(1,2,2)\n",
        "plt.title(\"Test\")\n",
        "plot_decision_boundary(model_8,X=X_test,y=y_test)\n",
        "plt.show();"
      ],
      "execution_count": 46,
      "outputs": [
        {
          "output_type": "stream",
          "text": [
            "doing binarry classification\n",
            "doing binarry classification\n"
          ],
          "name": "stdout"
        },
        {
          "output_type": "display_data",
          "data": {
            "image/png": "[encoded data removed]",
            "text/plain": [
              "<Figure size 864x432 with 2 Axes>"
            ]
          },
          "metadata": {
            "tags": [],
            "needs_background": "light"
          }
        }
      ]
    },
    {
      "cell_type": "markdown",
      "metadata": {
        "id": "ppyG_6bFCAFa"
      },
      "source": [
        "## Plot the loss (or training) curves"
      ]
    },
    {
      "cell_type": "code",
      "metadata": {
        "id": "d7RGPya0KMtv",
        "colab": {
          "base_uri": "https://localhost:8080/",
          "height": 824
        },
        "outputId": "37c7ae39-bcd1-4f54-9257-886e11216d8f"
      },
      "source": [
        "# Convert the history object into a DataFrame\n",
        "pd.DataFrame(history.history)"
      ],
      "execution_count": 47,
      "outputs": [
        {
          "output_type": "execute_result",
          "data": {
            "text/html": [
              "<div>\n",
              "<style scoped>\n",
              "    .dataframe tbody tr th:only-of-type {\n",
              "        vertical-align: middle;\n",
              "    }\n",
              "\n",
              "    .dataframe tbody tr th {\n",
              "        vertical-align: top;\n",
              "    }\n",
              "\n",
              "    .dataframe thead th {\n",
              "        text-align: right;\n",
              "    }\n",
              "</style>\n",
              "<table border=\"1\" class=\"dataframe\">\n",
              "  <thead>\n",
              "    <tr style=\"text-align: right;\">\n",
              "      <th></th>\n",
              "      <th>loss</th>\n",
              "      <th>accuracy</th>\n",
              "    </tr>\n",
              "  </thead>\n",
              "  <tbody>\n",
              "    <tr>\n",
              "      <th>0</th>\n",
              "      <td>0.684651</td>\n",
              "      <td>0.54250</td>\n",
              "    </tr>\n",
              "    <tr>\n",
              "      <th>1</th>\n",
              "      <td>0.677721</td>\n",
              "      <td>0.55250</td>\n",
              "    </tr>\n",
              "    <tr>\n",
              "      <th>2</th>\n",
              "      <td>0.673595</td>\n",
              "      <td>0.55125</td>\n",
              "    </tr>\n",
              "    <tr>\n",
              "      <th>3</th>\n",
              "      <td>0.668149</td>\n",
              "      <td>0.57750</td>\n",
              "    </tr>\n",
              "    <tr>\n",
              "      <th>4</th>\n",
              "      <td>0.663269</td>\n",
              "      <td>0.58500</td>\n",
              "    </tr>\n",
              "    <tr>\n",
              "      <th>5</th>\n",
              "      <td>0.654567</td>\n",
              "      <td>0.58375</td>\n",
              "    </tr>\n",
              "    <tr>\n",
              "      <th>6</th>\n",
              "      <td>0.641258</td>\n",
              "      <td>0.67500</td>\n",
              "    </tr>\n",
              "    <tr>\n",
              "      <th>7</th>\n",
              "      <td>0.626428</td>\n",
              "      <td>0.70125</td>\n",
              "    </tr>\n",
              "    <tr>\n",
              "      <th>8</th>\n",
              "      <td>0.603831</td>\n",
              "      <td>0.74875</td>\n",
              "    </tr>\n",
              "    <tr>\n",
              "      <th>9</th>\n",
              "      <td>0.571404</td>\n",
              "      <td>0.77375</td>\n",
              "    </tr>\n",
              "    <tr>\n",
              "      <th>10</th>\n",
              "      <td>0.540443</td>\n",
              "      <td>0.76500</td>\n",
              "    </tr>\n",
              "    <tr>\n",
              "      <th>11</th>\n",
              "      <td>0.501504</td>\n",
              "      <td>0.78375</td>\n",
              "    </tr>\n",
              "    <tr>\n",
              "      <th>12</th>\n",
              "      <td>0.468332</td>\n",
              "      <td>0.79750</td>\n",
              "    </tr>\n",
              "    <tr>\n",
              "      <th>13</th>\n",
              "      <td>0.411302</td>\n",
              "      <td>0.84500</td>\n",
              "    </tr>\n",
              "    <tr>\n",
              "      <th>14</th>\n",
              "      <td>0.362506</td>\n",
              "      <td>0.91250</td>\n",
              "    </tr>\n",
              "    <tr>\n",
              "      <th>15</th>\n",
              "      <td>0.320904</td>\n",
              "      <td>0.93125</td>\n",
              "    </tr>\n",
              "    <tr>\n",
              "      <th>16</th>\n",
              "      <td>0.284708</td>\n",
              "      <td>0.94875</td>\n",
              "    </tr>\n",
              "    <tr>\n",
              "      <th>17</th>\n",
              "      <td>0.259720</td>\n",
              "      <td>0.95250</td>\n",
              "    </tr>\n",
              "    <tr>\n",
              "      <th>18</th>\n",
              "      <td>0.237469</td>\n",
              "      <td>0.95625</td>\n",
              "    </tr>\n",
              "    <tr>\n",
              "      <th>19</th>\n",
              "      <td>0.213520</td>\n",
              "      <td>0.96625</td>\n",
              "    </tr>\n",
              "    <tr>\n",
              "      <th>20</th>\n",
              "      <td>0.193820</td>\n",
              "      <td>0.97750</td>\n",
              "    </tr>\n",
              "    <tr>\n",
              "      <th>21</th>\n",
              "      <td>0.175244</td>\n",
              "      <td>0.97375</td>\n",
              "    </tr>\n",
              "    <tr>\n",
              "      <th>22</th>\n",
              "      <td>0.161893</td>\n",
              "      <td>0.97875</td>\n",
              "    </tr>\n",
              "    <tr>\n",
              "      <th>23</th>\n",
              "      <td>0.154989</td>\n",
              "      <td>0.97750</td>\n",
              "    </tr>\n",
              "    <tr>\n",
              "      <th>24</th>\n",
              "      <td>0.148973</td>\n",
              "      <td>0.97625</td>\n",
              "    </tr>\n",
              "  </tbody>\n",
              "</table>\n",
              "</div>"
            ],
            "text/plain": [
              "        loss  accuracy\n",
              "0   0.684651   0.54250\n",
              "1   0.677721   0.55250\n",
              "2   0.673595   0.55125\n",
              "3   0.668149   0.57750\n",
              "4   0.663269   0.58500\n",
              "5   0.654567   0.58375\n",
              "6   0.641258   0.67500\n",
              "7   0.626428   0.70125\n",
              "8   0.603831   0.74875\n",
              "9   0.571404   0.77375\n",
              "10  0.540443   0.76500\n",
              "11  0.501504   0.78375\n",
              "12  0.468332   0.79750\n",
              "13  0.411302   0.84500\n",
              "14  0.362506   0.91250\n",
              "15  0.320904   0.93125\n",
              "16  0.284708   0.94875\n",
              "17  0.259720   0.95250\n",
              "18  0.237469   0.95625\n",
              "19  0.213520   0.96625\n",
              "20  0.193820   0.97750\n",
              "21  0.175244   0.97375\n",
              "22  0.161893   0.97875\n",
              "23  0.154989   0.97750\n",
              "24  0.148973   0.97625"
            ]
          },
          "metadata": {
            "tags": []
          },
          "execution_count": 47
        }
      ]
    },
    {
      "cell_type": "code",
      "metadata": {
        "colab": {
          "base_uri": "https://localhost:8080/",
          "height": 281
        },
        "id": "9QbaceqqRRsI",
        "outputId": "32331ddc-6af8-44bd-9ad3-190278a248d4"
      },
      "source": [
        "# Plot the loss curves\n",
        "pd.DataFrame(history.history).plot()\n",
        "plt.title(\"Model_8 loss curves\");"
      ],
      "execution_count": 48,
      "outputs": [
        {
          "output_type": "display_data",
          "data": {
            "image/png": "[encoded data removed]",
            "text/plain": [
              "<Figure size 432x288 with 1 Axes>"
            ]
          },
          "metadata": {
            "tags": [],
            "needs_background": "light"
          }
        }
      ]
    },
    {
      "cell_type": "markdown",
      "metadata": {
        "id": "LOse5L0WT3iC"
      },
      "source": [
        "## Finding the best learning rate\n",
        "\n",
        "To find the ideal learning rate (the learning rate where the loss decreases the most during training) we're going to use the following steps:\n",
        "* A learning rate **callback** - you can think of a callback as an extra piece of functionality, you can add to your *while* it's training.\n",
        "* Another model (we could use the same one as above, but we're practicing building models here)\n",
        "* A modified loss curves plot."
      ]
    },
    {
      "cell_type": "code",
      "metadata": {
        "id": "lB63Pj7hRyHM",
        "colab": {
          "base_uri": "https://localhost:8080/"
        },
        "outputId": "2e5fd2dd-0ee6-4e53-b4b9-7e3bb310b359"
      },
      "source": [
        "# Set random seed\n",
        "tf.random.set_seed(42)\n",
        "\n",
        "# Create model\n",
        "model_9 = tf.keras.Sequential([\n",
        "   tf.keras.layers.Dense(4,activation=\"relu\"),\n",
        "   tf.keras.layers.Dense(4,activation=\"relu\"),\n",
        "   tf.keras.layers.Dense(1,activation=\"sigmoid\")\n",
        "])\n",
        "\n",
        "# Compile model\n",
        "model_9.compile(loss=\"binary_crossentropy\",\n",
        "                optimizer=\"Adam\",\n",
        "                metrics=[\"accuracy\"])\n",
        "\n",
        "# Create a learning rate callback\n",
        "lr_scheduler = tf.keras.callbacks.LearningRateScheduler(lambda epoch: 1e-4 * 10**(epoch/20))\n",
        "\n",
        "# Fit model (passing lr_scheduler callback)\n",
        "history_9 = model_9.fit(X_train,y_train,epochs=100,callbacks=[lr_scheduler])"
      ],
      "execution_count": 49,
      "outputs": [
        {
          "output_type": "stream",
          "text": [
            "Epoch 1/100\n",
            "25/25 [==============================] - 0s 1ms/step - loss: 0.6909 - accuracy: 0.5016\n",
            "Epoch 2/100\n",
            "25/25 [==============================] - 0s 1ms/step - loss: 0.6929 - accuracy: 0.5065\n",
            "Epoch 3/100\n",
            "25/25 [==============================] - 0s 1ms/step - loss: 0.6925 - accuracy: 0.5094\n",
            "Epoch 4/100\n",
            "25/25 [==============================] - 0s 2ms/step - loss: 0.6945 - accuracy: 0.4864\n",
            "Epoch 5/100\n",
            "25/25 [==============================] - 0s 1ms/step - loss: 0.6968 - accuracy: 0.4857\n",
            "Epoch 6/100\n",
            "25/25 [==============================] - 0s 2ms/step - loss: 0.6848 - accuracy: 0.5191\n",
            "Epoch 7/100\n",
            "25/25 [==============================] - 0s 1ms/step - loss: 0.6799 - accuracy: 0.5292\n",
            "Epoch 8/100\n",
            "25/25 [==============================] - 0s 1ms/step - loss: 0.6845 - accuracy: 0.5055\n",
            "Epoch 9/100\n",
            "25/25 [==============================] - 0s 1ms/step - loss: 0.6934 - accuracy: 0.4750\n",
            "Epoch 10/100\n",
            "25/25 [==============================] - 0s 1ms/step - loss: 0.6906 - accuracy: 0.4965\n",
            "Epoch 11/100\n",
            "25/25 [==============================] - 0s 1ms/step - loss: 0.6864 - accuracy: 0.5259\n",
            "Epoch 12/100\n",
            "25/25 [==============================] - 0s 1ms/step - loss: 0.6859 - accuracy: 0.5104\n",
            "Epoch 13/100\n",
            "25/25 [==============================] - 0s 1ms/step - loss: 0.6856 - accuracy: 0.5138\n",
            "Epoch 14/100\n",
            "25/25 [==============================] - 0s 1ms/step - loss: 0.6910 - accuracy: 0.4744\n",
            "Epoch 15/100\n",
            "25/25 [==============================] - 0s 1ms/step - loss: 0.6833 - accuracy: 0.5307\n",
            "Epoch 16/100\n",
            "25/25 [==============================] - 0s 1ms/step - loss: 0.6856 - accuracy: 0.5072\n",
            "Epoch 17/100\n",
            "25/25 [==============================] - 0s 1ms/step - loss: 0.6858 - accuracy: 0.4996\n",
            "Epoch 18/100\n",
            "25/25 [==============================] - 0s 1ms/step - loss: 0.6847 - accuracy: 0.5168\n",
            "Epoch 19/100\n",
            "25/25 [==============================] - 0s 1ms/step - loss: 0.6806 - accuracy: 0.5278\n",
            "Epoch 20/100\n",
            "25/25 [==============================] - 0s 1ms/step - loss: 0.6790 - accuracy: 0.5394\n",
            "Epoch 21/100\n",
            "25/25 [==============================] - 0s 1ms/step - loss: 0.6810 - accuracy: 0.5379\n",
            "Epoch 22/100\n",
            "25/25 [==============================] - 0s 1ms/step - loss: 0.6804 - accuracy: 0.5430\n",
            "Epoch 23/100\n",
            "25/25 [==============================] - 0s 1ms/step - loss: 0.6828 - accuracy: 0.5314\n",
            "Epoch 24/100\n",
            "25/25 [==============================] - 0s 1ms/step - loss: 0.6744 - accuracy: 0.5556\n",
            "Epoch 25/100\n",
            "25/25 [==============================] - 0s 1ms/step - loss: 0.6765 - accuracy: 0.5559\n",
            "Epoch 26/100\n",
            "25/25 [==============================] - 0s 1ms/step - loss: 0.6818 - accuracy: 0.5207\n",
            "Epoch 27/100\n",
            "25/25 [==============================] - 0s 2ms/step - loss: 0.6721 - accuracy: 0.5742\n",
            "Epoch 28/100\n",
            "25/25 [==============================] - 0s 1ms/step - loss: 0.6762 - accuracy: 0.5452\n",
            "Epoch 29/100\n",
            "25/25 [==============================] - 0s 2ms/step - loss: 0.6764 - accuracy: 0.5424\n",
            "Epoch 30/100\n",
            "25/25 [==============================] - 0s 1ms/step - loss: 0.6744 - accuracy: 0.5542\n",
            "Epoch 31/100\n",
            "25/25 [==============================] - 0s 2ms/step - loss: 0.6772 - accuracy: 0.5404\n",
            "Epoch 32/100\n",
            "25/25 [==============================] - 0s 1ms/step - loss: 0.6696 - accuracy: 0.5664\n",
            "Epoch 33/100\n",
            "25/25 [==============================] - 0s 1ms/step - loss: 0.6705 - accuracy: 0.5502\n",
            "Epoch 34/100\n",
            "25/25 [==============================] - 0s 1ms/step - loss: 0.6657 - accuracy: 0.5524\n",
            "Epoch 35/100\n",
            "25/25 [==============================] - 0s 1ms/step - loss: 0.6695 - accuracy: 0.5621\n",
            "Epoch 36/100\n",
            "25/25 [==============================] - 0s 1ms/step - loss: 0.6652 - accuracy: 0.5660\n",
            "Epoch 37/100\n",
            "25/25 [==============================] - 0s 1ms/step - loss: 0.6552 - accuracy: 0.5703\n",
            "Epoch 38/100\n",
            "25/25 [==============================] - 0s 1ms/step - loss: 0.6531 - accuracy: 0.5819\n",
            "Epoch 39/100\n",
            "25/25 [==============================] - 0s 1ms/step - loss: 0.6485 - accuracy: 0.6921\n",
            "Epoch 40/100\n",
            "25/25 [==============================] - 0s 1ms/step - loss: 0.6142 - accuracy: 0.7194\n",
            "Epoch 41/100\n",
            "25/25 [==============================] - 0s 1ms/step - loss: 0.5983 - accuracy: 0.7564\n",
            "Epoch 42/100\n",
            "25/25 [==============================] - 0s 1ms/step - loss: 0.5866 - accuracy: 0.7109\n",
            "Epoch 43/100\n",
            "25/25 [==============================] - 0s 1ms/step - loss: 0.5444 - accuracy: 0.7511\n",
            "Epoch 44/100\n",
            "25/25 [==============================] - 0s 1ms/step - loss: 0.4765 - accuracy: 0.7952\n",
            "Epoch 45/100\n",
            "25/25 [==============================] - 0s 1ms/step - loss: 0.3716 - accuracy: 0.8875\n",
            "Epoch 46/100\n",
            "25/25 [==============================] - 0s 1ms/step - loss: 0.2789 - accuracy: 0.9369\n",
            "Epoch 47/100\n",
            "25/25 [==============================] - 0s 1ms/step - loss: 0.2261 - accuracy: 0.9392\n",
            "Epoch 48/100\n",
            "25/25 [==============================] - 0s 1ms/step - loss: 0.1354 - accuracy: 0.9691\n",
            "Epoch 49/100\n",
            "25/25 [==============================] - 0s 1ms/step - loss: 0.1294 - accuracy: 0.9682\n",
            "Epoch 50/100\n",
            "25/25 [==============================] - 0s 1ms/step - loss: 0.1028 - accuracy: 0.9710\n",
            "Epoch 51/100\n",
            "25/25 [==============================] - 0s 1ms/step - loss: 0.1123 - accuracy: 0.9665\n",
            "Epoch 52/100\n",
            "25/25 [==============================] - 0s 1ms/step - loss: 0.1396 - accuracy: 0.9507\n",
            "Epoch 53/100\n",
            "25/25 [==============================] - 0s 1ms/step - loss: 0.0664 - accuracy: 0.9919\n",
            "Epoch 54/100\n",
            "25/25 [==============================] - 0s 1ms/step - loss: 0.0996 - accuracy: 0.9652\n",
            "Epoch 55/100\n",
            "25/25 [==============================] - 0s 1ms/step - loss: 0.0749 - accuracy: 0.9637\n",
            "Epoch 56/100\n",
            "25/25 [==============================] - 0s 1ms/step - loss: 0.0925 - accuracy: 0.9599\n",
            "Epoch 57/100\n",
            "25/25 [==============================] - 0s 1ms/step - loss: 0.0959 - accuracy: 0.9559\n",
            "Epoch 58/100\n",
            "25/25 [==============================] - 0s 1ms/step - loss: 0.0589 - accuracy: 0.9791\n",
            "Epoch 59/100\n",
            "25/25 [==============================] - 0s 1ms/step - loss: 0.1405 - accuracy: 0.9414\n",
            "Epoch 60/100\n",
            "25/25 [==============================] - 0s 1ms/step - loss: 0.1982 - accuracy: 0.9402\n",
            "Epoch 61/100\n",
            "25/25 [==============================] - 0s 1ms/step - loss: 0.3741 - accuracy: 0.8806\n",
            "Epoch 62/100\n",
            "25/25 [==============================] - 0s 1ms/step - loss: 0.2388 - accuracy: 0.9543\n",
            "Epoch 63/100\n",
            "25/25 [==============================] - 0s 1ms/step - loss: 0.0758 - accuracy: 0.9871\n",
            "Epoch 64/100\n",
            "25/25 [==============================] - 0s 1ms/step - loss: 0.0670 - accuracy: 0.9826\n",
            "Epoch 65/100\n",
            "25/25 [==============================] - 0s 1ms/step - loss: 0.1218 - accuracy: 0.9488\n",
            "Epoch 66/100\n",
            "25/25 [==============================] - 0s 1ms/step - loss: 0.1130 - accuracy: 0.9604\n",
            "Epoch 67/100\n",
            "25/25 [==============================] - 0s 1ms/step - loss: 0.1989 - accuracy: 0.9312\n",
            "Epoch 68/100\n",
            "25/25 [==============================] - 0s 1ms/step - loss: 0.2316 - accuracy: 0.9014\n",
            "Epoch 69/100\n",
            "25/25 [==============================] - 0s 1ms/step - loss: 0.0918 - accuracy: 0.9718\n",
            "Epoch 70/100\n",
            "25/25 [==============================] - 0s 1ms/step - loss: 0.1230 - accuracy: 0.9471\n",
            "Epoch 71/100\n",
            "25/25 [==============================] - 0s 2ms/step - loss: 0.3200 - accuracy: 0.8810\n",
            "Epoch 72/100\n",
            "25/25 [==============================] - 0s 1ms/step - loss: 0.2060 - accuracy: 0.9098\n",
            "Epoch 73/100\n",
            "25/25 [==============================] - 0s 1ms/step - loss: 0.1000 - accuracy: 0.9666\n",
            "Epoch 74/100\n",
            "25/25 [==============================] - 0s 1ms/step - loss: 0.0929 - accuracy: 0.9663\n",
            "Epoch 75/100\n",
            "25/25 [==============================] - 0s 1ms/step - loss: 0.2936 - accuracy: 0.9123\n",
            "Epoch 76/100\n",
            "25/25 [==============================] - 0s 1ms/step - loss: 0.0780 - accuracy: 0.9718\n",
            "Epoch 77/100\n",
            "25/25 [==============================] - 0s 1ms/step - loss: 0.1671 - accuracy: 0.9391\n",
            "Epoch 78/100\n",
            "25/25 [==============================] - 0s 1ms/step - loss: 0.1619 - accuracy: 0.9444\n",
            "Epoch 79/100\n",
            "25/25 [==============================] - 0s 1ms/step - loss: 0.4226 - accuracy: 0.8653\n",
            "Epoch 80/100\n",
            "25/25 [==============================] - 0s 1ms/step - loss: 0.7842 - accuracy: 0.6131\n",
            "Epoch 81/100\n",
            "25/25 [==============================] - 0s 1ms/step - loss: 0.7060 - accuracy: 0.5418\n",
            "Epoch 82/100\n",
            "25/25 [==============================] - 0s 2ms/step - loss: 0.7053 - accuracy: 0.4807\n",
            "Epoch 83/100\n",
            "25/25 [==============================] - 0s 1ms/step - loss: 0.7413 - accuracy: 0.4727\n",
            "Epoch 84/100\n",
            "25/25 [==============================] - 0s 2ms/step - loss: 0.7113 - accuracy: 0.4891\n",
            "Epoch 85/100\n",
            "25/25 [==============================] - 0s 2ms/step - loss: 0.7137 - accuracy: 0.5162\n",
            "Epoch 86/100\n",
            "25/25 [==============================] - 0s 1ms/step - loss: 0.7385 - accuracy: 0.5060\n",
            "Epoch 87/100\n",
            "25/25 [==============================] - 0s 1ms/step - loss: 0.7944 - accuracy: 0.5224\n",
            "Epoch 88/100\n",
            "25/25 [==============================] - 0s 1ms/step - loss: 0.7540 - accuracy: 0.4976\n",
            "Epoch 89/100\n",
            "25/25 [==============================] - 0s 1ms/step - loss: 0.7823 - accuracy: 0.5161\n",
            "Epoch 90/100\n",
            "25/25 [==============================] - 0s 1ms/step - loss: 0.7367 - accuracy: 0.5122\n",
            "Epoch 91/100\n",
            "25/25 [==============================] - 0s 2ms/step - loss: 0.8233 - accuracy: 0.5031\n",
            "Epoch 92/100\n",
            "25/25 [==============================] - 0s 2ms/step - loss: 0.7310 - accuracy: 0.4932\n",
            "Epoch 93/100\n",
            "25/25 [==============================] - 0s 2ms/step - loss: 0.7312 - accuracy: 0.4984\n",
            "Epoch 94/100\n",
            "25/25 [==============================] - 0s 1ms/step - loss: 0.7794 - accuracy: 0.4681\n",
            "Epoch 95/100\n",
            "25/25 [==============================] - 0s 1ms/step - loss: 0.8803 - accuracy: 0.4668\n",
            "Epoch 96/100\n",
            "25/25 [==============================] - 0s 1ms/step - loss: 0.8257 - accuracy: 0.4611\n",
            "Epoch 97/100\n",
            "25/25 [==============================] - 0s 1ms/step - loss: 0.7659 - accuracy: 0.4644\n",
            "Epoch 98/100\n",
            "25/25 [==============================] - 0s 2ms/step - loss: 0.9187 - accuracy: 0.4847\n",
            "Epoch 99/100\n",
            "25/25 [==============================] - 0s 2ms/step - loss: 0.9839 - accuracy: 0.4745\n",
            "Epoch 100/100\n",
            "25/25 [==============================] - 0s 1ms/step - loss: 0.8416 - accuracy: 0.4538\n"
          ],
          "name": "stdout"
        }
      ]
    },
    {
      "cell_type": "code",
      "metadata": {
        "colab": {
          "base_uri": "https://localhost:8080/",
          "height": 442
        },
        "id": "n6BdMYJsWvbP",
        "outputId": "5537cea5-bb46-441c-db23-e6a0e3428154"
      },
      "source": [
        "# Checkout history\n",
        "pd.DataFrame(history_9.history).plot(figsize=(10,7),xlabel=\"epochs\");"
      ],
      "execution_count": 50,
      "outputs": [
        {
          "output_type": "display_data",
          "data": {
            "image/png": "[encoded data removed]",
            "text/plain": [
              "<Figure size 720x504 with 1 Axes>"
            ]
          },
          "metadata": {
            "tags": [],
            "needs_background": "light"
          }
        }
      ]
    },
    {
      "cell_type": "code",
      "metadata": {
        "colab": {
          "base_uri": "https://localhost:8080/",
          "height": 462
        },
        "id": "rpy8mztUW_my",
        "outputId": "32990f4f-4ec0-4240-c875-cf7c04f71b3b"
      },
      "source": [
        "# Plot the learning rate vs the loss \n",
        "lrs = 1e-4 * (10**(tf.range(100)/20))\n",
        "plt.figure(figsize=(10,7))\n",
        "plt.semilogx(lrs,history_9.history[\"loss\"])\n",
        "plt.xlabel(\"Learning rate\")\n",
        "plt.ylabel(\"Loss\")\n",
        "plt.title(\"Learning rate vs Loss\");"
      ],
      "execution_count": 51,
      "outputs": [
        {
          "output_type": "display_data",
          "data": {
            "image/png": "[encoded data removed]",
            "text/plain": [
              "<Figure size 720x504 with 1 Axes>"
            ]
          },
          "metadata": {
            "tags": [],
            "needs_background": "light"
          }
        }
      ]
    },
    {
      "cell_type": "code",
      "metadata": {
        "colab": {
          "base_uri": "https://localhost:8080/"
        },
        "id": "914LVrMldJeA",
        "outputId": "6e49d6b6-892e-4dcc-a5b7-91630fc0ba9f"
      },
      "source": [
        "# Example of other typical leaning rate values:\n",
        "10**0, 10**-1, 10**-2, 10**-3, 1e-4"
      ],
      "execution_count": 52,
      "outputs": [
        {
          "output_type": "execute_result",
          "data": {
            "text/plain": [
              "(1, 0.1, 0.01, 0.001, 0.0001)"
            ]
          },
          "metadata": {
            "tags": []
          },
          "execution_count": 52
        }
      ]
    },
    {
      "cell_type": "code",
      "metadata": {
        "id": "gPyLtWojflgF",
        "colab": {
          "base_uri": "https://localhost:8080/"
        },
        "outputId": "df97c0bc-d6ce-418c-8a9a-b9b997397195"
      },
      "source": [
        "# Let's try using a higher *ideal* learning rate with the same model as before\n",
        "\n",
        "# Set random seed\n",
        "tf.random.set_seed(42)\n",
        "\n",
        "# Create model\n",
        "model_10 = tf.keras.Sequential([\n",
        "    tf.keras.layers.Dense(4,activation=\"relu\"),\n",
        "    tf.keras.layers.Dense(4,activation=\"relu\"),\n",
        "    tf.keras.layers.Dense(1,activation=\"sigmoid\")\n",
        "])\n",
        "\n",
        "# Compile model\n",
        "model_10.compile(loss=\"binary_crossentropy\",\n",
        "                 optimizer=tf.keras.optimizers.Adam(lr=0.02),\n",
        "                 metrics=[\"accuracy\"])\n",
        "\n",
        "# Fit model for 20 epochs (5 less than before)\n",
        "history_10 = model_10.fit(X_train,y_train,epochs=20)\n"
      ],
      "execution_count": 53,
      "outputs": [
        {
          "output_type": "stream",
          "text": [
            "Epoch 1/20\n",
            "25/25 [==============================] - 0s 1ms/step - loss: 0.6834 - accuracy: 0.5400\n",
            "Epoch 2/20\n",
            "25/25 [==============================] - 0s 1ms/step - loss: 0.6778 - accuracy: 0.5511\n",
            "Epoch 3/20\n",
            "25/25 [==============================] - 0s 1ms/step - loss: 0.6638 - accuracy: 0.5568\n",
            "Epoch 4/20\n",
            "25/25 [==============================] - 0s 1ms/step - loss: 0.6416 - accuracy: 0.6380\n",
            "Epoch 5/20\n",
            "25/25 [==============================] - 0s 1ms/step - loss: 0.5957 - accuracy: 0.7609\n",
            "Epoch 6/20\n",
            "25/25 [==============================] - 0s 2ms/step - loss: 0.5134 - accuracy: 0.8213\n",
            "Epoch 7/20\n",
            "25/25 [==============================] - 0s 1ms/step - loss: 0.4595 - accuracy: 0.8078\n",
            "Epoch 8/20\n",
            "25/25 [==============================] - 0s 2ms/step - loss: 0.3685 - accuracy: 0.8941\n",
            "Epoch 9/20\n",
            "25/25 [==============================] - 0s 1ms/step - loss: 0.3248 - accuracy: 0.9016\n",
            "Epoch 10/20\n",
            "25/25 [==============================] - 0s 1ms/step - loss: 0.2665 - accuracy: 0.9386\n",
            "Epoch 11/20\n",
            "25/25 [==============================] - 0s 1ms/step - loss: 0.2211 - accuracy: 0.9536\n",
            "Epoch 12/20\n",
            "25/25 [==============================] - 0s 1ms/step - loss: 0.1679 - accuracy: 0.9799\n",
            "Epoch 13/20\n",
            "25/25 [==============================] - 0s 1ms/step - loss: 0.1479 - accuracy: 0.9869\n",
            "Epoch 14/20\n",
            "25/25 [==============================] - 0s 1ms/step - loss: 0.1435 - accuracy: 0.9790\n",
            "Epoch 15/20\n",
            "25/25 [==============================] - 0s 2ms/step - loss: 0.1123 - accuracy: 0.9895\n",
            "Epoch 16/20\n",
            "25/25 [==============================] - 0s 1ms/step - loss: 0.1022 - accuracy: 0.9964\n",
            "Epoch 17/20\n",
            "25/25 [==============================] - 0s 2ms/step - loss: 0.0805 - accuracy: 0.9975\n",
            "Epoch 18/20\n",
            "25/25 [==============================] - 0s 2ms/step - loss: 0.0816 - accuracy: 0.9977\n",
            "Epoch 19/20\n",
            "25/25 [==============================] - 0s 2ms/step - loss: 0.0789 - accuracy: 0.9922\n",
            "Epoch 20/20\n",
            "25/25 [==============================] - 0s 1ms/step - loss: 0.0878 - accuracy: 0.9824\n"
          ],
          "name": "stdout"
        }
      ]
    },
    {
      "cell_type": "code",
      "metadata": {
        "id": "BurAC9hN_eIj",
        "colab": {
          "base_uri": "https://localhost:8080/"
        },
        "outputId": "44eecc60-99f4-424e-b461-0d89e920c4bb"
      },
      "source": [
        "# Evaluate model 10 on the test dataset\n",
        "model_10.evaluate(X_test,y_test)"
      ],
      "execution_count": 54,
      "outputs": [
        {
          "output_type": "stream",
          "text": [
            "7/7 [==============================] - 0s 2ms/step - loss: 0.0574 - accuracy: 0.9900\n"
          ],
          "name": "stdout"
        },
        {
          "output_type": "execute_result",
          "data": {
            "text/plain": [
              "[0.05740181356668472, 0.9900000095367432]"
            ]
          },
          "metadata": {
            "tags": []
          },
          "execution_count": 54
        }
      ]
    },
    {
      "cell_type": "code",
      "metadata": {
        "colab": {
          "base_uri": "https://localhost:8080/"
        },
        "id": "E8rgqhGoFmhe",
        "outputId": "28da0f2c-c765-4b04-e9fd-98240b658a21"
      },
      "source": [
        "# Evaluate model 8 on the test dataset\n",
        "model_8.evaluate(X_test,y_test)"
      ],
      "execution_count": 55,
      "outputs": [
        {
          "output_type": "stream",
          "text": [
            "7/7 [==============================] - 0s 2ms/step - loss: 0.1247 - accuracy: 1.0000\n"
          ],
          "name": "stdout"
        },
        {
          "output_type": "execute_result",
          "data": {
            "text/plain": [
              "[0.12468849867582321, 1.0]"
            ]
          },
          "metadata": {
            "tags": []
          },
          "execution_count": 55
        }
      ]
    },
    {
      "cell_type": "code",
      "metadata": {
        "colab": {
          "base_uri": "https://localhost:8080/",
          "height": 379
        },
        "id": "557SbSkLFzaO",
        "outputId": "e52fdb56-111f-4ec7-8c8b-9f271da8e538"
      },
      "source": [
        "# Plot the decision boundaries for the training and test sets\n",
        "plt.figure(figsize=(12,6))\n",
        "\n",
        "plt.subplot(1,2,1)\n",
        "plt.title(\"Train\")\n",
        "plot_decision_boundary(model_10,X=X_train,y=y_train)\n",
        "\n",
        "plt.subplot(1,2,2)\n",
        "plt.title(\"Test\")\n",
        "plot_decision_boundary(model_10,X=X_test,y=y_test)\n",
        "plt.show();"
      ],
      "execution_count": 56,
      "outputs": [
        {
          "output_type": "stream",
          "text": [
            "doing binarry classification\n",
            "doing binarry classification\n"
          ],
          "name": "stdout"
        },
        {
          "output_type": "display_data",
          "data": {
            "image/png": "[encoded data removed]",
            "text/plain": [
              "<Figure size 864x432 with 2 Axes>"
            ]
          },
          "metadata": {
            "tags": [],
            "needs_background": "light"
          }
        }
      ]
    },
    {
      "cell_type": "markdown",
      "metadata": {
        "id": "cePfHwR6Qqv1"
      },
      "source": [
        "## More classification evaluation methods\n",
        "\n",
        "Alongside visualizing our models results as much as possible, there are a handful of other classification evaluation methods & metrics you should be familiar with:\n",
        "* Accuracy\n",
        "* Precision\n",
        "* Recall\n",
        "* F1-score\n",
        "* Confusion matrix\n",
        "* Classification report (from scikit-learn)"
      ]
    },
    {
      "cell_type": "code",
      "metadata": {
        "colab": {
          "base_uri": "https://localhost:8080/"
        },
        "id": "5RFvHAo0GT-l",
        "outputId": "bf1fed62-ee8e-4aba-f7c1-c94b131c935e"
      },
      "source": [
        "# Check the accuracy of our model\n",
        "loss, accuracy = model_10.evaluate(X_test,y_test)\n",
        "print(\"Model loss on the test set: {}\".format(loss))\n",
        "print(\"Model accuracy on the test set: {0:.2f}%\".format((accuracy*100)))"
      ],
      "execution_count": 57,
      "outputs": [
        {
          "output_type": "stream",
          "text": [
            "7/7 [==============================] - 0s 2ms/step - loss: 0.0574 - accuracy: 0.9900\n",
            "Model loss on the test set: 0.05740181356668472\n",
            "Model accuracy on the test set: 99.00%\n"
          ],
          "name": "stdout"
        }
      ]
    },
    {
      "cell_type": "markdown",
      "metadata": {
        "id": "xBqtsIAcf5tM"
      },
      "source": [
        "How about confusion matrix?"
      ]
    },
    {
      "cell_type": "code",
      "metadata": {
        "colab": {
          "base_uri": "https://localhost:8080/",
          "height": 205
        },
        "id": "VapfJuwnf5RN",
        "outputId": "d5179861-728e-4242-8ff3-a269f7a4c0bd"
      },
      "source": [
        "# Create a confusion matrix\n",
        "from sklearn.metrics import confusion_matrix\n",
        "\n",
        "# Make predictions\n",
        "y_preds = model_10.predict(X_test)\n",
        "\n",
        "# Create condusion matrix\n",
        "# confusion_matrix(y_test,y_preds)  ...error\n",
        "\"\"\"\n",
        "Error:\n",
        "---------------------------------------------------------------------------\n",
        "ValueError                                Traceback (most recent call last)\n",
        "<ipython-input-66-02eb26966b38> in <module>()\n",
        "      6 \n",
        "      7 # Create condusion matrix\n",
        "----> 8 confusion_matrix(y_test,y_preds)\n",
        "\n",
        "1 frames\n",
        "/usr/local/lib/python3.7/dist-packages/sklearn/metrics/_classification.py in _check_targets(y_true, y_pred)\n",
        "     88     if len(y_type) > 1:\n",
        "     89         raise ValueError(\"Classification metrics can't handle a mix of {0} \"\n",
        "---> 90                          \"and {1} targets\".format(type_true, type_pred))\n",
        "     91 \n",
        "     92     # We can't have more than one value on y_type => The set is no more needed\n",
        "\n",
        "ValueError: Classification metrics can't handle a mix of binary and continuous targets\n",
        "\"\"\""
      ],
      "execution_count": 58,
      "outputs": [
        {
          "output_type": "execute_result",
          "data": {
            "application/vnd.google.colaboratory.intrinsic+json": {
              "type": "string"
            },
            "text/plain": [
              "'\\nError:\\n---------------------------------------------------------------------------\\nValueError                                Traceback (most recent call last)\\n<ipython-input-66-02eb26966b38> in <module>()\\n      6 \\n      7 # Create condusion matrix\\n----> 8 confusion_matrix(y_test,y_preds)\\n\\n1 frames\\n/usr/local/lib/python3.7/dist-packages/sklearn/metrics/_classification.py in _check_targets(y_true, y_pred)\\n     88     if len(y_type) > 1:\\n     89         raise ValueError(\"Classification metrics can\\'t handle a mix of {0} \"\\n---> 90                          \"and {1} targets\".format(type_true, type_pred))\\n     91 \\n     92     # We can\\'t have more than one value on y_type => The set is no more needed\\n\\nValueError: Classification metrics can\\'t handle a mix of binary and continuous targets\\n'"
            ]
          },
          "metadata": {
            "tags": []
          },
          "execution_count": 58
        }
      ]
    },
    {
      "cell_type": "code",
      "metadata": {
        "colab": {
          "base_uri": "https://localhost:8080/"
        },
        "id": "h6VxE32bR2fd",
        "outputId": "3942ac5f-1165-4f1b-a547-b9f3a4db5885"
      },
      "source": [
        "y_test[:10]"
      ],
      "execution_count": 59,
      "outputs": [
        {
          "output_type": "execute_result",
          "data": {
            "text/plain": [
              "array([1, 1, 1, 1, 0, 0, 1, 0, 1, 0])"
            ]
          },
          "metadata": {
            "tags": []
          },
          "execution_count": 59
        }
      ]
    },
    {
      "cell_type": "code",
      "metadata": {
        "colab": {
          "base_uri": "https://localhost:8080/"
        },
        "id": "nsVEpkDQluJH",
        "outputId": "fe297339-d7b8-4045-aab3-730b10fd0ca4"
      },
      "source": [
        "y_preds[:10]"
      ],
      "execution_count": 60,
      "outputs": [
        {
          "output_type": "execute_result",
          "data": {
            "text/plain": [
              "array([[9.8526537e-01],\n",
              "       [9.9923790e-01],\n",
              "       [9.9032342e-01],\n",
              "       [9.9706948e-01],\n",
              "       [3.9622882e-01],\n",
              "       [1.8126875e-02],\n",
              "       [9.6829069e-01],\n",
              "       [1.9746691e-02],\n",
              "       [9.9967170e-01],\n",
              "       [5.6460500e-04]], dtype=float32)"
            ]
          },
          "metadata": {
            "tags": []
          },
          "execution_count": 60
        }
      ]
    },
    {
      "cell_type": "markdown",
      "metadata": {
        "id": "H8kt6iiXlyUy"
      },
      "source": [
        "Opps.. looks like our predictions array has come out in **prediction probability** form... the standard output from the sigmoid (or softmax) activation form"
      ]
    },
    {
      "cell_type": "code",
      "metadata": {
        "colab": {
          "base_uri": "https://localhost:8080/"
        },
        "id": "FBvXNIuRlvuL",
        "outputId": "f384beaf-87ac-48c4-b9c5-4dcaaef7f71e"
      },
      "source": [
        "# Convert prediction probabilities to binary format and view the first 10\n",
        "tf.round(y_preds)[:10]"
      ],
      "execution_count": 61,
      "outputs": [
        {
          "output_type": "execute_result",
          "data": {
            "text/plain": [
              "<tf.Tensor: shape=(10, 1), dtype=float32, numpy=\n",
              "array([[1.],\n",
              "       [1.],\n",
              "       [1.],\n",
              "       [1.],\n",
              "       [0.],\n",
              "       [0.],\n",
              "       [1.],\n",
              "       [0.],\n",
              "       [1.],\n",
              "       [0.]], dtype=float32)>"
            ]
          },
          "metadata": {
            "tags": []
          },
          "execution_count": 61
        }
      ]
    },
    {
      "cell_type": "code",
      "metadata": {
        "colab": {
          "base_uri": "https://localhost:8080/"
        },
        "id": "PrCqzR-0mgAL",
        "outputId": "24dc427e-8bfb-4754-b4c2-290b84fba9d3"
      },
      "source": [
        "# Create a confusion matrix\n",
        "confusion_matrix(y_test,tf.round(y_preds))"
      ],
      "execution_count": 62,
      "outputs": [
        {
          "output_type": "execute_result",
          "data": {
            "text/plain": [
              "array([[99,  2],\n",
              "       [ 0, 99]])"
            ]
          },
          "metadata": {
            "tags": []
          },
          "execution_count": 62
        }
      ]
    },
    {
      "cell_type": "markdown",
      "metadata": {
        "id": "Uf6ohrzRn3TG"
      },
      "source": [
        "How about we prettify out confusion matrix?"
      ]
    },
    {
      "cell_type": "code",
      "metadata": {
        "id": "ATX9bSzZmvIY",
        "colab": {
          "base_uri": "https://localhost:8080/",
          "height": 580
        },
        "outputId": "808f4af8-1abd-4739-f3b6-69a1dd10c316"
      },
      "source": [
        "# Note: the confusion matrix code we're about to write is a remix of scikit-learn's plot_confusion_matrix\n",
        "\n",
        "import itertools\n",
        "\n",
        "figsize = (10,10)\n",
        "\n",
        "# Create the confusion matrix\n",
        "cm = confusion_matrix(y_test,tf.round(y_preds))\n",
        "cm_norm = cm.astype(\"float\") / cm.sum(axis=1)[:,np.newaxis] # normalize our confusion matrix\n",
        "n_classes = cm.shape[0]\n",
        "\n",
        "# Let's prettify it\n",
        "fig,ax = plt.subplots(figsize=figsize)\n",
        "# Create a matrix plot\n",
        "cax = ax.matshow(cm,cmap=plt.cm.Blues)\n",
        "fig.colorbar(cax)\n",
        "\n",
        "# Create classes\n",
        "classes = False\n",
        "\n",
        "if classes:\n",
        "  labels = classes\n",
        "else:\n",
        "  labels = np.arange(cm.shape[0])\n",
        "\n",
        "# Label the axes\n",
        "ax.set(title=\"Confusion Matrix\",\n",
        "       xlabel=\"Predicted Label\",\n",
        "       ylabel=\"True Label\",\n",
        "       xticks=np.arange(n_classes),\n",
        "       yticks=np.arange(n_classes),\n",
        "       xticklabels=labels,\n",
        "       yticklabels=labels)\n",
        "\n",
        "# Set x-axis labels to bottom\n",
        "ax.xaxis.set_label_position(\"bottom\")\n",
        "ax.xaxis.tick_bottom()\n",
        "\n",
        "# Adjust label size\n",
        "ax.yaxis.label.set_size(20)\n",
        "ax.xaxis.label.set_size(20)\n",
        "ax.title.set_size(20)\n",
        "\n",
        "# Set threshold for different colors\n",
        "threshold = (cm.max() + cm.min()) /2.\n",
        "\n",
        "# Plot the text on each cell\n",
        "for i,j in itertools.product(range(cm.shape[0]),range(cm.shape[1])):\n",
        "  plt.text(j,i,f\"{cm[i,j]} ({cm_norm[i,j]*100:.1f}%)\",\n",
        "           horizontalalignment=\"center\",\n",
        "           color=\"white\" if cm[i,j] > threshold else \"black\",\n",
        "\n",
        "           size=15)"
      ],
      "execution_count": 63,
      "outputs": [
        {
          "output_type": "display_data",
          "data": {
            "image/png": "[encoded data removed]",
            "text/plain": [
              "<Figure size 720x720 with 2 Axes>"
            ]
          },
          "metadata": {
            "tags": [],
            "needs_background": "light"
          }
        }
      ]
    },
    {
      "cell_type": "code",
      "metadata": {
        "id": "Y2UsvJWLoKOX"
      },
      "source": [
        "# adding it into function so we can use it later..\n",
        "def plot_confusion_matrix(tests,predictions):\n",
        "  figsize = (10,10)\n",
        "\n",
        "  # Create the confusion matrix\n",
        "  cm = confusion_matrix(tests,tf.round(predictions))\n",
        "  cm_norm = cm.astype(\"float\") / cm.sum(axis=1)[:,np.newaxis] # normalize our confusion matrix\n",
        "  n_classes = cm.shape[0]\n",
        "\n",
        "  # Let's prettify it\n",
        "  fig,ax = plt.subplots(figsize=figsize)\n",
        "  # Create a matrix plot\n",
        "  cax = ax.matshow(cm,cmap=plt.cm.Blues)\n",
        "  fig.colorbar(cax)\n",
        "\n",
        "  # Create classes\n",
        "  classes = False\n",
        "\n",
        "  if classes:\n",
        "    labels = classes\n",
        "  else:\n",
        "    labels = np.arange(cm.shape[0])\n",
        "\n",
        "  # Label the axes\n",
        "  ax.set(title=\"Confusion Matrix\",\n",
        "        xlabel=\"Predicted Label\",\n",
        "        ylabel=\"True Label\",\n",
        "        xticks=np.arange(n_classes),\n",
        "        yticks=np.arange(n_classes),\n",
        "        xticklabels=labels,\n",
        "        yticklabels=labels)\n",
        "\n",
        "  # Set x-axis labels to bottom\n",
        "  ax.xaxis.set_label_position(\"bottom\")\n",
        "  ax.xaxis.tick_bottom()\n",
        "\n",
        "  # Adjust label size\n",
        "  ax.yaxis.label.set_size(20)\n",
        "  ax.xaxis.label.set_size(20)\n",
        "  ax.title.set_size(20)\n",
        "\n",
        "  # Set threshold for different colors\n",
        "  threshold = (cm.max() + cm.min()) /2.\n",
        "\n",
        "  # Plot the text on each cell\n",
        "  for i,j in itertools.product(range(cm.shape[0]),range(cm.shape[1])):\n",
        "    plt.text(j,i,f\"{cm[i,j]} ({cm_norm[i,j]*100:.1f}%)\",\n",
        "            horizontalalignment=\"center\",\n",
        "            color=\"white\" if cm[i,j] > threshold else \"black\",\n",
        "            size=15)"
      ],
      "execution_count": 64,
      "outputs": []
    },
    {
      "cell_type": "code",
      "metadata": {
        "colab": {
          "base_uri": "https://localhost:8080/",
          "height": 580
        },
        "id": "ye6EFDT5o6QE",
        "outputId": "e7859c4f-0f83-4ff8-9322-86314b3c694c"
      },
      "source": [
        "plot_confusion_matrix(y_test,y_preds)"
      ],
      "execution_count": 65,
      "outputs": [
        {
          "output_type": "display_data",
          "data": {
            "image/png": "[encoded data removed]",
            "text/plain": [
              "<Figure size 720x720 with 2 Axes>"
            ]
          },
          "metadata": {
            "tags": [],
            "needs_background": "light"
          }
        }
      ]
    },
    {
      "cell_type": "markdown",
      "metadata": {
        "id": "p4G7OMbzxFLg"
      },
      "source": [
        "# Working with a larger example (multiclass classification)\n",
        "\n",
        "When you have more than two classes as an option, it's known as **multi-class classification**\n",
        "* This means if you have 3 different classes, it's multi-class classification.\n",
        "* It also means if you have 100 different classes, it's multi-class classification.\n",
        "\n",
        "\n",
        "To practice multi-class classification, we're going to build a neural network to classify images of different items of clothing.\n",
        "\n",
        "\n"
      ]
    },
    {
      "cell_type": "code",
      "metadata": {
        "id": "Oe3jtom0ykk2",
        "colab": {
          "base_uri": "https://localhost:8080/"
        },
        "outputId": "8a217c7c-9146-4dbc-975a-56aef2230fa8"
      },
      "source": [
        "import tensorflow as tf\n",
        "from tensorflow.keras.datasets import fashion_mnist\n",
        "\n",
        " # The data has already been sorted into training and test sets for us\n",
        "(train_data,train_labels), (test_data,test_labels) = fashion_mnist.load_data()"
      ],
      "execution_count": 66,
      "outputs": [
        {
          "output_type": "stream",
          "text": [
            "Downloading data from https://storage.googleapis.com/tensorflow/tf-keras-datasets/train-labels-idx1-ubyte.gz\n",
            "32768/29515 [=================================] - 0s 0us/step\n",
            "Downloading data from https://storage.googleapis.com/tensorflow/tf-keras-datasets/train-images-idx3-ubyte.gz\n",
            "26427392/26421880 [==============================] - 0s 0us/step\n",
            "Downloading data from https://storage.googleapis.com/tensorflow/tf-keras-datasets/t10k-labels-idx1-ubyte.gz\n",
            "8192/5148 [===============================================] - 0s 0us/step\n",
            "Downloading data from https://storage.googleapis.com/tensorflow/tf-keras-datasets/t10k-images-idx3-ubyte.gz\n",
            "4423680/4422102 [==============================] - 0s 0us/step\n"
          ],
          "name": "stdout"
        }
      ]
    },
    {
      "cell_type": "code",
      "metadata": {
        "colab": {
          "base_uri": "https://localhost:8080/"
        },
        "id": "37GzBC-J5BGn",
        "outputId": "541619e8-b117-4a64-cfa4-b191441067be"
      },
      "source": [
        "# Show the first training example\n",
        "print(\"Training sample: {}\".format(train_data[0]))\n",
        "print(\"Training label: {}\".format(train_labels[0]))"
      ],
      "execution_count": 67,
      "outputs": [
        {
          "output_type": "stream",
          "text": [
            "Training sample: [[  0   0   0   0   0   0   0   0   0   0   0   0   0   0   0   0   0   0\n",
            "    0   0   0   0   0   0   0   0   0   0]\n",
            " [  0   0   0   0   0   0   0   0   0   0   0   0   0   0   0   0   0   0\n",
            "    0   0   0   0   0   0   0   0   0   0]\n",
            " [  0   0   0   0   0   0   0   0   0   0   0   0   0   0   0   0   0   0\n",
            "    0   0   0   0   0   0   0   0   0   0]\n",
            " [  0   0   0   0   0   0   0   0   0   0   0   0   1   0   0  13  73   0\n",
            "    0   1   4   0   0   0   0   1   1   0]\n",
            " [  0   0   0   0   0   0   0   0   0   0   0   0   3   0  36 136 127  62\n",
            "   54   0   0   0   1   3   4   0   0   3]\n",
            " [  0   0   0   0   0   0   0   0   0   0   0   0   6   0 102 204 176 134\n",
            "  144 123  23   0   0   0   0  12  10   0]\n",
            " [  0   0   0   0   0   0   0   0   0   0   0   0   0   0 155 236 207 178\n",
            "  107 156 161 109  64  23  77 130  72  15]\n",
            " [  0   0   0   0   0   0   0   0   0   0   0   1   0  69 207 223 218 216\n",
            "  216 163 127 121 122 146 141  88 172  66]\n",
            " [  0   0   0   0   0   0   0   0   0   1   1   1   0 200 232 232 233 229\n",
            "  223 223 215 213 164 127 123 196 229   0]\n",
            " [  0   0   0   0   0   0   0   0   0   0   0   0   0 183 225 216 223 228\n",
            "  235 227 224 222 224 221 223 245 173   0]\n",
            " [  0   0   0   0   0   0   0   0   0   0   0   0   0 193 228 218 213 198\n",
            "  180 212 210 211 213 223 220 243 202   0]\n",
            " [  0   0   0   0   0   0   0   0   0   1   3   0  12 219 220 212 218 192\n",
            "  169 227 208 218 224 212 226 197 209  52]\n",
            " [  0   0   0   0   0   0   0   0   0   0   6   0  99 244 222 220 218 203\n",
            "  198 221 215 213 222 220 245 119 167  56]\n",
            " [  0   0   0   0   0   0   0   0   0   4   0   0  55 236 228 230 228 240\n",
            "  232 213 218 223 234 217 217 209  92   0]\n",
            " [  0   0   1   4   6   7   2   0   0   0   0   0 237 226 217 223 222 219\n",
            "  222 221 216 223 229 215 218 255  77   0]\n",
            " [  0   3   0   0   0   0   0   0   0  62 145 204 228 207 213 221 218 208\n",
            "  211 218 224 223 219 215 224 244 159   0]\n",
            " [  0   0   0   0  18  44  82 107 189 228 220 222 217 226 200 205 211 230\n",
            "  224 234 176 188 250 248 233 238 215   0]\n",
            " [  0  57 187 208 224 221 224 208 204 214 208 209 200 159 245 193 206 223\n",
            "  255 255 221 234 221 211 220 232 246   0]\n",
            " [  3 202 228 224 221 211 211 214 205 205 205 220 240  80 150 255 229 221\n",
            "  188 154 191 210 204 209 222 228 225   0]\n",
            " [ 98 233 198 210 222 229 229 234 249 220 194 215 217 241  65  73 106 117\n",
            "  168 219 221 215 217 223 223 224 229  29]\n",
            " [ 75 204 212 204 193 205 211 225 216 185 197 206 198 213 240 195 227 245\n",
            "  239 223 218 212 209 222 220 221 230  67]\n",
            " [ 48 203 183 194 213 197 185 190 194 192 202 214 219 221 220 236 225 216\n",
            "  199 206 186 181 177 172 181 205 206 115]\n",
            " [  0 122 219 193 179 171 183 196 204 210 213 207 211 210 200 196 194 191\n",
            "  195 191 198 192 176 156 167 177 210  92]\n",
            " [  0   0  74 189 212 191 175 172 175 181 185 188 189 188 193 198 204 209\n",
            "  210 210 211 188 188 194 192 216 170   0]\n",
            " [  2   0   0   0  66 200 222 237 239 242 246 243 244 221 220 193 191 179\n",
            "  182 182 181 176 166 168  99  58   0   0]\n",
            " [  0   0   0   0   0   0   0  40  61  44  72  41  35   0   0   0   0   0\n",
            "    0   0   0   0   0   0   0   0   0   0]\n",
            " [  0   0   0   0   0   0   0   0   0   0   0   0   0   0   0   0   0   0\n",
            "    0   0   0   0   0   0   0   0   0   0]\n",
            " [  0   0   0   0   0   0   0   0   0   0   0   0   0   0   0   0   0   0\n",
            "    0   0   0   0   0   0   0   0   0   0]]\n",
            "Training label: 9\n"
          ],
          "name": "stdout"
        }
      ]
    },
    {
      "cell_type": "code",
      "metadata": {
        "colab": {
          "base_uri": "https://localhost:8080/"
        },
        "id": "pO4XK2_w5eZ1",
        "outputId": "9308fa3e-e350-47c6-be3a-37b19e7f77dd"
      },
      "source": [
        "# Check the shape of a single example\n",
        "train_data[0].shape, train_labels[0].shape"
      ],
      "execution_count": 68,
      "outputs": [
        {
          "output_type": "execute_result",
          "data": {
            "text/plain": [
              "((28, 28), ())"
            ]
          },
          "metadata": {
            "tags": []
          },
          "execution_count": 68
        }
      ]
    },
    {
      "cell_type": "code",
      "metadata": {
        "colab": {
          "base_uri": "https://localhost:8080/",
          "height": 265
        },
        "id": "333AaNhx5yLA",
        "outputId": "cf10c055-3aee-41ce-fb5b-c4b7dcd0fb69"
      },
      "source": [
        "# Plot a single sample\n",
        "import matplotlib.pyplot as plt\n",
        "plt.imshow(train_data[7]);"
      ],
      "execution_count": 69,
      "outputs": [
        {
          "output_type": "display_data",
          "data": {
            "image/png": "[encoded data removed]",
            "text/plain": [
              "<Figure size 432x288 with 1 Axes>"
            ]
          },
          "metadata": {
            "tags": [],
            "needs_background": "light"
          }
        }
      ]
    },
    {
      "cell_type": "code",
      "metadata": {
        "colab": {
          "base_uri": "https://localhost:8080/"
        },
        "id": "KQtxJtxN56dp",
        "outputId": "3af79768-5aab-4a88-b9b5-34f70b22d1d6"
      },
      "source": [
        "# Check out samples labels\n",
        "train_labels[7]"
      ],
      "execution_count": 70,
      "outputs": [
        {
          "output_type": "execute_result",
          "data": {
            "text/plain": [
              "2"
            ]
          },
          "metadata": {
            "tags": []
          },
          "execution_count": 70
        }
      ]
    },
    {
      "cell_type": "code",
      "metadata": {
        "colab": {
          "base_uri": "https://localhost:8080/"
        },
        "id": "u2FEm-gT6C3m",
        "outputId": "5f08a89c-d7ba-4481-b645-68b543142796"
      },
      "source": [
        "# Create a small list so we can index onto out training labels so they're human readable\n",
        "class_name = [\"T-shirt/top\",\"Trouser\",\"Pullover\",\"Dress\",\"Coat\",\"Sandal\",\"Shirt\",\"Sneaker\",\"Bag\",\"Ankel boot\"]\n",
        "\n",
        "len(class_name)"
      ],
      "execution_count": 71,
      "outputs": [
        {
          "output_type": "execute_result",
          "data": {
            "text/plain": [
              "10"
            ]
          },
          "metadata": {
            "tags": []
          },
          "execution_count": 71
        }
      ]
    },
    {
      "cell_type": "code",
      "metadata": {
        "colab": {
          "base_uri": "https://localhost:8080/",
          "height": 298
        },
        "id": "VuCejQR37Ejm",
        "outputId": "d4fba495-a714-45f0-e32e-db05707f2df1"
      },
      "source": [
        "# Plot an example image and its label\n",
        "index_of_choice = 22\n",
        "plt.imshow(train_data[index_of_choice],cmap=plt.cm.binary)\n",
        "plt.title(class_name[train_labels[index_of_choice]])"
      ],
      "execution_count": 72,
      "outputs": [
        {
          "output_type": "execute_result",
          "data": {
            "text/plain": [
              "Text(0.5, 1.0, 'Coat')"
            ]
          },
          "metadata": {
            "tags": []
          },
          "execution_count": 72
        },
        {
          "output_type": "display_data",
          "data": {
            "image/png": "[encoded data removed]",
            "text/plain": [
              "<Figure size 432x288 with 1 Axes>"
            ]
          },
          "metadata": {
            "tags": [],
            "needs_background": "light"
          }
        }
      ]
    },
    {
      "cell_type": "code",
      "metadata": {
        "colab": {
          "base_uri": "https://localhost:8080/",
          "height": 427
        },
        "id": "eXQbB1yV7ZWo",
        "outputId": "66cffbb9-dc57-4e59-a2da-a3ee45fe01a5"
      },
      "source": [
        "# Plot multiple random images of fashion MNIST\n",
        "import random\n",
        "plt.figure(figsize=(7,7))\n",
        "for i in range(4):\n",
        "  ax = plt.subplot(2,2,i+1)\n",
        "  rand_index = random.choice(range(len(train_data)))\n",
        "  plt.imshow(train_data[rand_index],cmap=plt.cm.binary)\n",
        "  plt.title(class_name[train_labels[rand_index]])\n",
        "  plt.axis(False)"
      ],
      "execution_count": 73,
      "outputs": [
        {
          "output_type": "display_data",
          "data": {
            "image/png": "[encoded data removed]",
            "text/plain": [
              "<Figure size 504x504 with 4 Axes>"
            ]
          },
          "metadata": {
            "tags": [],
            "needs_background": "light"
          }
        }
      ]
    },
    {
      "cell_type": "markdown",
      "metadata": {
        "id": "KUnMrQLNe3KS"
      },
      "source": [
        "## Building a multi-class classification model\n",
        "\n",
        "For our multi-class classification model, we can use a similar architecture to our binary classifier, however, we're going to have to tweak a few things:\n",
        "* Input shape = 28 x 28 (the shape of one image)\n",
        "* Output shape = 10 (one per class of clothing)\n",
        "* Loss function = tf.keras.losses.CategoricalCrossentropy()\n",
        "  * If your labels are one-hot encoded, use CategoricalCrossentropy()\n",
        "  * If your labels are integer form, use SparseCategoricalCrossentropy()\n",
        "* Output layer activation = Softmax (not sigmoid)"
      ]
    },
    {
      "cell_type": "code",
      "metadata": {
        "colab": {
          "base_uri": "https://localhost:8080/"
        },
        "id": "C6V3Q195exs9",
        "outputId": "3e69954f-9422-49eb-d822-1018df0d845d"
      },
      "source": [
        "# Set random seed\n",
        "tf.random.set_seed(42)\n",
        "\n",
        "# Create the model\n",
        "model_11 = tf.keras.Sequential([\n",
        "    tf.keras.layers.Flatten(input_shape=(28,28)),\n",
        "    tf.keras.layers.Dense(4,activation=\"relu\"),\n",
        "    tf.keras.layers.Dense(4,activation=\"relu\"),\n",
        "    tf.keras.layers.Dense(10,activation=\"softmax\")\n",
        "])\n",
        "\n",
        "# Compile the model\n",
        "model_11.compile(loss=tf.keras.losses.SparseCategoricalCrossentropy(),\n",
        "                 optimizer=tf.keras.optimizers.Adam(),\n",
        "                 metrics=[\"accuracy\"])\n",
        "\n",
        "# Fit the model\n",
        "non_norm_history = model_11.fit(train_data,\n",
        "                                train_labels,\n",
        "                                epochs=10,\n",
        "                                validation_data=(test_data,test_labels))"
      ],
      "execution_count": 74,
      "outputs": [
        {
          "output_type": "stream",
          "text": [
            "Epoch 1/10\n",
            "1875/1875 [==============================] - 4s 2ms/step - loss: 2.8192 - accuracy: 0.1345 - val_loss: 1.7951 - val_accuracy: 0.2100\n",
            "Epoch 2/10\n",
            "1875/1875 [==============================] - 4s 2ms/step - loss: 1.7426 - accuracy: 0.2323 - val_loss: 1.6439 - val_accuracy: 0.3022\n",
            "Epoch 3/10\n",
            "1875/1875 [==============================] - 3s 2ms/step - loss: 1.6413 - accuracy: 0.2837 - val_loss: 1.6003 - val_accuracy: 0.2818\n",
            "Epoch 4/10\n",
            "1875/1875 [==============================] - 3s 2ms/step - loss: 1.6065 - accuracy: 0.2888 - val_loss: 1.5964 - val_accuracy: 0.2958\n",
            "Epoch 5/10\n",
            "1875/1875 [==============================] - 3s 2ms/step - loss: 1.5988 - accuracy: 0.3031 - val_loss: 1.5948 - val_accuracy: 0.3005\n",
            "Epoch 6/10\n",
            "1875/1875 [==============================] - 3s 2ms/step - loss: 1.5888 - accuracy: 0.3078 - val_loss: 1.5678 - val_accuracy: 0.3195\n",
            "Epoch 7/10\n",
            "1875/1875 [==============================] - 3s 2ms/step - loss: 1.5668 - accuracy: 0.3213 - val_loss: 1.5695 - val_accuracy: 0.3161\n",
            "Epoch 8/10\n",
            "1875/1875 [==============================] - 3s 2ms/step - loss: 1.5564 - accuracy: 0.3228 - val_loss: 1.5526 - val_accuracy: 0.3343\n",
            "Epoch 9/10\n",
            "1875/1875 [==============================] - 3s 2ms/step - loss: 1.5690 - accuracy: 0.3246 - val_loss: 1.5467 - val_accuracy: 0.3373\n",
            "Epoch 10/10\n",
            "1875/1875 [==============================] - 3s 2ms/step - loss: 1.5531 - accuracy: 0.3284 - val_loss: 1.5339 - val_accuracy: 0.3542\n"
          ],
          "name": "stdout"
        }
      ]
    },
    {
      "cell_type": "code",
      "metadata": {
        "id": "v_dZoBQ99oGT",
        "colab": {
          "base_uri": "https://localhost:8080/"
        },
        "outputId": "4da1fdf8-5e4d-4aad-b4ce-2d8f847c2c47"
      },
      "source": [
        "# Check the model summary\n",
        "model_11.summary()"
      ],
      "execution_count": 75,
      "outputs": [
        {
          "output_type": "stream",
          "text": [
            "Model: \"sequential_11\"\n",
            "_________________________________________________________________\n",
            "Layer (type)                 Output Shape              Param #   \n",
            "=================================================================\n",
            "flatten (Flatten)            (None, 784)               0         \n",
            "_________________________________________________________________\n",
            "dense_26 (Dense)             (None, 4)                 3140      \n",
            "_________________________________________________________________\n",
            "dense_27 (Dense)             (None, 4)                 20        \n",
            "_________________________________________________________________\n",
            "dense_28 (Dense)             (None, 10)                50        \n",
            "=================================================================\n",
            "Total params: 3,210\n",
            "Trainable params: 3,210\n",
            "Non-trainable params: 0\n",
            "_________________________________________________________________\n"
          ],
          "name": "stdout"
        }
      ]
    },
    {
      "cell_type": "code",
      "metadata": {
        "colab": {
          "base_uri": "https://localhost:8080/"
        },
        "id": "kMna2Pav3rCj",
        "outputId": "803cadf2-3f3a-4632-91ca-e472abeb8452"
      },
      "source": [
        "# Check the min and max values of the training data\n",
        "train_data.min(), train_data.max()"
      ],
      "execution_count": 76,
      "outputs": [
        {
          "output_type": "execute_result",
          "data": {
            "text/plain": [
              "(0, 255)"
            ]
          },
          "metadata": {
            "tags": []
          },
          "execution_count": 76
        }
      ]
    },
    {
      "cell_type": "markdown",
      "metadata": {
        "id": "mDLjJMeO4WAV"
      },
      "source": [
        "Neural networks prefer data to be scaled (or normalized), this means they like to have the numbers in the tensors they try to find patterns between 0 & 1"
      ]
    },
    {
      "cell_type": "code",
      "metadata": {
        "colab": {
          "base_uri": "https://localhost:8080/"
        },
        "id": "NOYzXWVb4T4p",
        "outputId": "5d4e3211-4a86-4cb1-a10a-a607cb860370"
      },
      "source": [
        "# We can get our training and testing data between 0 & 1 by dividing by the maximum\n",
        "train_data_norm = train_data / 255.0\n",
        "test_data_norm = test_data / 255.0\n",
        "\n",
        "# Check the min and max values of the scaled training data\n",
        "train_data_norm.min(), train_data_norm.max()"
      ],
      "execution_count": 77,
      "outputs": [
        {
          "output_type": "execute_result",
          "data": {
            "text/plain": [
              "(0.0, 1.0)"
            ]
          },
          "metadata": {
            "tags": []
          },
          "execution_count": 77
        }
      ]
    },
    {
      "cell_type": "code",
      "metadata": {
        "colab": {
          "base_uri": "https://localhost:8080/"
        },
        "id": "Ixff-kCC7ppt",
        "outputId": "64a533f0-91cd-469c-b269-dcfabeee4fb3"
      },
      "source": [
        "# Now our data is normalized, let's build a model to find patterns in it\n",
        "\n",
        "# Set random seed\n",
        "tf.random.set_seed(42)\n",
        "\n",
        "# Create model\n",
        "model_12 = tf.keras.Sequential([\n",
        "   tf.keras.layers.Flatten(input_shape=(28,28)),\n",
        "   tf.keras.layers.Dense(4,activation=\"relu\"),\n",
        "   tf.keras.layers.Dense(4,activation=\"relu\"),\n",
        "   tf.keras.layers.Dense(10, activation=\"softmax\")\n",
        "])\n",
        "\n",
        "# Compile \n",
        "model_12.compile(loss=tf.keras.losses.SparseCategoricalCrossentropy(),\n",
        "                 optimizer=tf.keras.optimizers.Adam(),\n",
        "                 metrics=[\"accuracy\"])\n",
        "\n",
        "# Fit\n",
        "norm_history = model_12.fit(train_data_norm,\n",
        "                            train_labels,\n",
        "                            epochs=10,\n",
        "                            validation_data=(test_data_norm,test_labels))"
      ],
      "execution_count": 78,
      "outputs": [
        {
          "output_type": "stream",
          "text": [
            "Epoch 1/10\n",
            "1875/1875 [==============================] - 3s 2ms/step - loss: 1.4476 - accuracy: 0.5004 - val_loss: 0.6937 - val_accuracy: 0.7617\n",
            "Epoch 2/10\n",
            "1875/1875 [==============================] - 3s 2ms/step - loss: 0.6479 - accuracy: 0.7706 - val_loss: 0.6400 - val_accuracy: 0.7820\n",
            "Epoch 3/10\n",
            "1875/1875 [==============================] - 3s 2ms/step - loss: 0.5984 - accuracy: 0.7902 - val_loss: 0.6247 - val_accuracy: 0.7783\n",
            "Epoch 4/10\n",
            "1875/1875 [==============================] - 4s 2ms/step - loss: 0.5767 - accuracy: 0.7986 - val_loss: 0.6078 - val_accuracy: 0.7881\n",
            "Epoch 5/10\n",
            "1875/1875 [==============================] - 4s 2ms/step - loss: 0.5611 - accuracy: 0.8017 - val_loss: 0.6169 - val_accuracy: 0.7881\n",
            "Epoch 6/10\n",
            "1875/1875 [==============================] - 3s 2ms/step - loss: 0.5562 - accuracy: 0.8030 - val_loss: 0.5855 - val_accuracy: 0.7951\n",
            "Epoch 7/10\n",
            "1875/1875 [==============================] - 3s 2ms/step - loss: 0.5458 - accuracy: 0.8076 - val_loss: 0.6097 - val_accuracy: 0.7836\n",
            "Epoch 8/10\n",
            "1875/1875 [==============================] - 3s 2ms/step - loss: 0.5432 - accuracy: 0.8086 - val_loss: 0.5787 - val_accuracy: 0.7971\n",
            "Epoch 9/10\n",
            "1875/1875 [==============================] - 3s 2ms/step - loss: 0.5457 - accuracy: 0.8065 - val_loss: 0.5698 - val_accuracy: 0.7977\n",
            "Epoch 10/10\n",
            "1875/1875 [==============================] - 3s 2ms/step - loss: 0.5289 - accuracy: 0.8149 - val_loss: 0.5658 - val_accuracy: 0.8014\n"
          ],
          "name": "stdout"
        }
      ]
    },
    {
      "cell_type": "markdown",
      "metadata": {
        "id": "eC3Jp23a_q1N"
      },
      "source": [
        "> 🔑 **Note: ** Neural networks tend to prefer data in numerical form as well as scaled/normalized (numbers between 0 & 1)"
      ]
    },
    {
      "cell_type": "code",
      "metadata": {
        "colab": {
          "base_uri": "https://localhost:8080/",
          "height": 562
        },
        "id": "FHYDCui89Jig",
        "outputId": "abd05500-3c1e-4d5c-cd9a-7922195a549d"
      },
      "source": [
        "import pandas as pd\n",
        "# Plot non-normalized data loss curves\n",
        "pd.DataFrame(non_norm_history.history).plot(title=\"Non-normalized data\")\n",
        "# Plot normalized data loss curves\n",
        "pd.DataFrame(norm_history.history).plot(title=\"Normalized data\")"
      ],
      "execution_count": 79,
      "outputs": [
        {
          "output_type": "execute_result",
          "data": {
            "text/plain": [
              "<matplotlib.axes._subplots.AxesSubplot at 0x7f468e6bc510>"
            ]
          },
          "metadata": {
            "tags": []
          },
          "execution_count": 79
        },
        {
          "output_type": "display_data",
          "data": {
            "image/png": "[encoded data removed]",
            "text/plain": [
              "<Figure size 432x288 with 1 Axes>"
            ]
          },
          "metadata": {
            "tags": [],
            "needs_background": "light"
          }
        },
        {
          "output_type": "display_data",
          "data": {
            "image/png": "[encoded data removed]",
            "text/plain": [
              "<Figure size 432x288 with 1 Axes>"
            ]
          },
          "metadata": {
            "tags": [],
            "needs_background": "light"
          }
        }
      ]
    },
    {
      "cell_type": "markdown",
      "metadata": {
        "id": "WQFYmRNvBY79"
      },
      "source": [
        "> 🔑 **Note:** The same model with even *slightly* different data can produce *dramatically* different results. So when you're comparinf models, it's important to make sure you're comparing them on the same criteria (eg. same architecture but different data or same data but different architecture)."
      ]
    },
    {
      "cell_type": "code",
      "metadata": {
        "id": "77sR0hMOA5UH"
      },
      "source": [
        ""
      ],
      "execution_count": null,
      "outputs": []
    }
  ]
}
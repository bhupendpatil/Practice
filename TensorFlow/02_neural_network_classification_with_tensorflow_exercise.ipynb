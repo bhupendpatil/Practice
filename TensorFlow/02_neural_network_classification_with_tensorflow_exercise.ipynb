{
  "nbformat": 4,
  "nbformat_minor": 0,
  "metadata": {
    "colab": {
      "name": "02_neural_network_classification_with_tensorflow_exercise.ipynb",
      "provenance": [],
      "collapsed_sections": [],
      "machine_shape": "hm"
    },
    "kernelspec": {
      "name": "python3",
      "display_name": "Python 3"
    }
  },
  "cells": [
    {
      "cell_type": "markdown",
      "metadata": {
        "id": "dXI5CtHBzo8e"
      },
      "source": [
        "# 🛠 02 Neural network classification with TensorFlow Exercises\n",
        "\n",
        "1. Play with neural networks in the [TensorFlow Playground](https://playground.tensorflow.org/) for 10-minutes. Especially try different values of the learning, what happens when you decrease it? What happens when you increase it?\n",
        "2. Replicate the model pictured in the [TensorFlow Playground diagram](https://playground.tensorflow.org/#activation=relu&batchSize=10&dataset=circle&regDataset=reg-plane&learningRate=0.001&regularizationRate=0&noise=0&networkShape=6,6,6,6,6&seed=0.51287&showTestData=false&discretize=false&percTrainData=50&x=true&y=true&xTimesY=false&xSquared=false&ySquared=false&cosX=false&sinX=false&cosY=false&sinY=false&collectStats=false&problem=classification&initZero=false&hideText=false&regularization_hide=true&discretize_hide=true&regularizationRate_hide=true&percTrainData_hide=true&dataset_hide=true&problem_hide=true&noise_hide=true&batchSize_hide=true) below using TensorFlow code. Compile it using the Adam optimizer, binary crossentropy loss and accuracy metric. Once it's compiled check a summary of the model.\n",
        "![tensorflow playground example neural network](https://raw.githubusercontent.com/mrdbourke/tensorflow-deep-learning/main/images/02-tensorflow-playground-replication-exercise.png)\n",
        "*Try this network out for yourself on the [TensorFlow Playground website](https://playground.tensorflow.org/#activation=relu&batchSize=10&dataset=circle&regDataset=reg-plane&learningRate=0.001&regularizationRate=0&noise=0&networkShape=6,6,6,6,6&seed=0.51287&showTestData=false&discretize=false&percTrainData=50&x=true&y=true&xTimesY=false&xSquared=false&ySquared=false&cosX=false&sinX=false&cosY=false&sinY=false&collectStats=false&problem=classification&initZero=false&hideText=false&regularization_hide=true&discretize_hide=true&regularizationRate_hide=true&percTrainData_hide=true&dataset_hide=true&problem_hide=true&noise_hide=true&batchSize_hide=true). Hint: there are 5 hidden layers but the output layer isn't pictured, you'll have to decide what the output layer should be based on the input data.*\n",
        "3. Create a classification dataset using Scikit-Learn's [`make_moons()`](https://scikit-learn.org/stable/modules/generated/sklearn.datasets.make_moons.html) function, visualize it and then build a model to fit it at over 85% accuracy.\n",
        "4. Create a function (or write code) to visualize multiple image predictions for the fashion MNIST at the same time. Plot at least three different images and their prediciton labels at the same time. Hint: see the [classifcation tutorial in the TensorFlow documentation](https://www.tensorflow.org/tutorials/keras/classification) for ideas.\n",
        "5. Recreate [TensorFlow's](https://www.tensorflow.org/api_docs/python/tf/keras/activations/softmax) [softmax activation function](https://en.wikipedia.org/wiki/Softmax_function) in your own code. Make sure it can accept a tensor and return that tensor after having the softmax function applied to it.\n",
        "6. Train a model to get 88%+ accuracy on the fashion MNIST test set. Plot a confusion matrix to see the results after.\n",
        "7. Make a function to show an image of a certain class of the fashion MNIST dataset and make a prediction on it. For example, plot 3 images of the `T-shirt` class with their predictions.\n"
      ]
    },
    {
      "cell_type": "markdown",
      "metadata": {
        "id": "TIgc4d2uUoR1"
      },
      "source": [
        "## 3. Create a classification dataset using Scikit-Learn's [`make_moons()`](https://scikit-learn.org/stable/modules/generated/sklearn.datasets.make_moons.html) function, visualize it and then build a model to fit it at over 85% accuracy."
      ]
    },
    {
      "cell_type": "code",
      "metadata": {
        "id": "uMgVqyt-zsHU"
      },
      "source": [
        "from sklearn.datasets import make_moons\n",
        "\n",
        "# Create classification dataset\n",
        "X,y = make_moons(n_samples=1000,\n",
        "                 noise=0.03,\n",
        "                 random_state=42)"
      ],
      "execution_count": 1,
      "outputs": []
    },
    {
      "cell_type": "code",
      "metadata": {
        "colab": {
          "base_uri": "https://localhost:8080/"
        },
        "id": "qYDi6cQST_R_",
        "outputId": "5066b3ca-95ff-4d9a-aca3-92be43609aa6"
      },
      "source": [
        "# Check features\n",
        "X"
      ],
      "execution_count": 2,
      "outputs": [
        {
          "output_type": "execute_result",
          "data": {
            "text/plain": [
              "array([[-0.00933187,  0.39098105],\n",
              "       [ 0.95457387, -0.47375583],\n",
              "       [ 0.9185256 , -0.42519648],\n",
              "       ...,\n",
              "       [ 1.65391483, -0.29179795],\n",
              "       [-0.9341017 ,  0.35358221],\n",
              "       [ 0.7968358 ,  0.60423662]])"
            ]
          },
          "metadata": {
            "tags": []
          },
          "execution_count": 2
        }
      ]
    },
    {
      "cell_type": "code",
      "metadata": {
        "colab": {
          "base_uri": "https://localhost:8080/"
        },
        "id": "OsSkWu78Vesr",
        "outputId": "2f4a1209-e15a-40b8-a7f8-b2c0dd5df765"
      },
      "source": [
        "# Check labels\n",
        "y"
      ],
      "execution_count": 3,
      "outputs": [
        {
          "output_type": "execute_result",
          "data": {
            "text/plain": [
              "array([1, 1, 1, 1, 0, 1, 1, 1, 1, 0, 1, 0, 1, 1, 1, 1, 0, 1, 1, 0, 1, 0,\n",
              "       0, 1, 0, 0, 0, 1, 1, 1, 0, 0, 1, 0, 0, 0, 1, 1, 1, 0, 0, 0, 0, 1,\n",
              "       0, 0, 1, 1, 0, 1, 1, 1, 0, 1, 0, 0, 1, 0, 0, 1, 0, 0, 1, 0, 1, 1,\n",
              "       1, 1, 0, 1, 0, 0, 1, 1, 0, 0, 1, 0, 1, 0, 1, 0, 0, 0, 0, 1, 1, 1,\n",
              "       1, 0, 0, 0, 1, 0, 1, 0, 1, 0, 0, 1, 1, 0, 1, 0, 1, 1, 1, 1, 0, 1,\n",
              "       1, 1, 1, 1, 0, 0, 0, 1, 1, 0, 1, 0, 1, 0, 0, 1, 1, 0, 1, 1, 1, 1,\n",
              "       0, 1, 1, 0, 0, 0, 0, 0, 0, 0, 1, 0, 1, 1, 1, 0, 1, 0, 1, 0, 1, 0,\n",
              "       1, 0, 0, 1, 0, 1, 1, 1, 1, 1, 1, 1, 0, 1, 0, 0, 0, 0, 0, 1, 0, 0,\n",
              "       0, 0, 1, 1, 0, 1, 0, 1, 1, 0, 0, 0, 1, 1, 1, 1, 1, 0, 0, 0, 0, 0,\n",
              "       1, 0, 0, 1, 1, 1, 1, 1, 0, 1, 0, 1, 0, 0, 1, 1, 1, 0, 1, 0, 1, 1,\n",
              "       0, 1, 1, 0, 1, 0, 1, 0, 1, 1, 0, 1, 0, 1, 0, 0, 0, 1, 0, 0, 0, 0,\n",
              "       1, 1, 0, 0, 0, 0, 0, 0, 0, 1, 1, 1, 0, 0, 1, 1, 1, 0, 1, 0, 0, 0,\n",
              "       0, 1, 1, 0, 1, 0, 0, 0, 1, 0, 1, 0, 0, 1, 0, 1, 1, 1, 0, 0, 0, 1,\n",
              "       0, 0, 0, 1, 1, 1, 1, 0, 0, 0, 1, 0, 0, 0, 1, 0, 0, 0, 1, 1, 0, 1,\n",
              "       1, 1, 1, 1, 1, 1, 0, 0, 0, 0, 1, 0, 0, 0, 0, 1, 1, 1, 0, 0, 1, 0,\n",
              "       1, 0, 1, 1, 0, 0, 1, 1, 1, 1, 0, 0, 0, 0, 0, 0, 1, 1, 0, 1, 0, 0,\n",
              "       1, 0, 0, 0, 0, 0, 0, 0, 0, 1, 0, 0, 0, 0, 1, 0, 0, 1, 0, 1, 0, 0,\n",
              "       0, 1, 0, 0, 1, 1, 0, 0, 1, 0, 0, 1, 1, 0, 1, 1, 0, 0, 1, 0, 1, 0,\n",
              "       0, 0, 1, 1, 0, 0, 1, 1, 1, 1, 1, 0, 0, 1, 1, 1, 1, 0, 1, 1, 1, 1,\n",
              "       1, 0, 0, 1, 0, 1, 0, 0, 0, 0, 1, 0, 0, 0, 0, 0, 0, 0, 0, 0, 1, 1,\n",
              "       0, 1, 1, 1, 1, 1, 1, 0, 1, 1, 1, 1, 0, 0, 0, 1, 1, 1, 0, 0, 0, 0,\n",
              "       1, 1, 0, 0, 0, 0, 1, 0, 0, 0, 1, 0, 0, 1, 1, 1, 1, 1, 1, 0, 0, 0,\n",
              "       1, 0, 0, 0, 0, 0, 1, 1, 1, 0, 0, 0, 0, 0, 1, 1, 1, 0, 0, 1, 1, 1,\n",
              "       1, 0, 1, 1, 0, 1, 0, 0, 0, 1, 0, 0, 1, 0, 0, 1, 1, 0, 0, 1, 1, 0,\n",
              "       1, 0, 1, 0, 1, 0, 1, 0, 0, 0, 1, 0, 0, 0, 0, 0, 0, 1, 1, 1, 1, 0,\n",
              "       0, 0, 1, 0, 1, 1, 0, 0, 0, 0, 0, 1, 1, 1, 0, 0, 1, 0, 0, 1, 0, 0,\n",
              "       1, 0, 0, 1, 0, 0, 0, 1, 0, 0, 1, 1, 1, 0, 1, 1, 0, 0, 0, 1, 1, 1,\n",
              "       1, 0, 0, 1, 1, 1, 0, 0, 0, 0, 1, 1, 0, 0, 1, 1, 0, 0, 1, 1, 1, 1,\n",
              "       1, 1, 1, 0, 1, 0, 1, 0, 0, 1, 0, 1, 1, 1, 1, 0, 0, 1, 1, 0, 0, 1,\n",
              "       0, 1, 0, 0, 0, 1, 0, 0, 1, 1, 1, 1, 0, 1, 1, 1, 1, 1, 1, 1, 0, 1,\n",
              "       0, 1, 1, 1, 0, 0, 1, 0, 0, 0, 1, 1, 1, 1, 0, 0, 0, 0, 1, 0, 1, 1,\n",
              "       1, 0, 1, 0, 0, 1, 0, 0, 1, 1, 1, 1, 1, 0, 1, 0, 0, 0, 1, 1, 1, 1,\n",
              "       1, 0, 0, 0, 1, 1, 1, 1, 0, 0, 0, 0, 0, 1, 1, 0, 1, 0, 1, 0, 0, 0,\n",
              "       0, 0, 0, 0, 0, 0, 1, 1, 1, 1, 1, 0, 1, 0, 1, 1, 1, 1, 0, 1, 1, 1,\n",
              "       1, 1, 1, 1, 1, 0, 1, 1, 0, 1, 0, 0, 0, 1, 0, 1, 1, 1, 0, 1, 1, 0,\n",
              "       1, 1, 0, 1, 0, 1, 1, 0, 0, 1, 1, 1, 0, 0, 0, 0, 1, 1, 0, 0, 1, 1,\n",
              "       1, 1, 1, 1, 1, 1, 1, 1, 1, 1, 1, 1, 0, 0, 1, 0, 1, 0, 1, 0, 1, 1,\n",
              "       1, 1, 1, 1, 0, 1, 0, 1, 1, 1, 0, 1, 1, 0, 0, 1, 0, 1, 1, 0, 0, 1,\n",
              "       1, 1, 1, 1, 1, 1, 1, 0, 1, 1, 1, 0, 1, 0, 0, 1, 1, 0, 0, 0, 1, 0,\n",
              "       0, 1, 0, 0, 0, 1, 0, 1, 0, 0, 0, 0, 1, 0, 1, 1, 1, 1, 0, 1, 0, 0,\n",
              "       0, 0, 0, 0, 1, 0, 1, 0, 1, 0, 1, 1, 1, 0, 1, 0, 1, 0, 0, 1, 1, 1,\n",
              "       0, 0, 0, 1, 1, 0, 1, 0, 1, 1, 0, 1, 0, 0, 1, 1, 1, 0, 0, 0, 1, 1,\n",
              "       0, 0, 0, 0, 0, 1, 1, 0, 1, 0, 0, 0, 1, 0, 0, 0, 1, 1, 1, 1, 0, 1,\n",
              "       1, 1, 0, 1, 1, 1, 1, 0, 1, 1, 0, 1, 1, 0, 0, 1, 1, 1, 0, 0, 0, 0,\n",
              "       0, 0, 1, 0, 0, 1, 0, 0, 0, 1, 0, 1, 0, 1, 1, 0, 0, 0, 0, 0, 0, 0,\n",
              "       0, 1, 0, 1, 0, 0, 0, 1, 0, 0])"
            ]
          },
          "metadata": {
            "tags": []
          },
          "execution_count": 3
        }
      ]
    },
    {
      "cell_type": "code",
      "metadata": {
        "colab": {
          "base_uri": "https://localhost:8080/",
          "height": 419
        },
        "id": "XVV4jzcYVh7A",
        "outputId": "ad41f5b5-3cda-4a56-d574-ea44c005e47a"
      },
      "source": [
        "# Visualize it in dataframes\n",
        "\n",
        "import pandas as pd\n",
        "\n",
        "moon_face = pd.DataFrame({\"X0\":X[:,0],\"X1\":X[:,1],\"label\":y})\n",
        "moon_face"
      ],
      "execution_count": 4,
      "outputs": [
        {
          "output_type": "execute_result",
          "data": {
            "text/html": [
              "<div>\n",
              "<style scoped>\n",
              "    .dataframe tbody tr th:only-of-type {\n",
              "        vertical-align: middle;\n",
              "    }\n",
              "\n",
              "    .dataframe tbody tr th {\n",
              "        vertical-align: top;\n",
              "    }\n",
              "\n",
              "    .dataframe thead th {\n",
              "        text-align: right;\n",
              "    }\n",
              "</style>\n",
              "<table border=\"1\" class=\"dataframe\">\n",
              "  <thead>\n",
              "    <tr style=\"text-align: right;\">\n",
              "      <th></th>\n",
              "      <th>X0</th>\n",
              "      <th>X1</th>\n",
              "      <th>label</th>\n",
              "    </tr>\n",
              "  </thead>\n",
              "  <tbody>\n",
              "    <tr>\n",
              "      <th>0</th>\n",
              "      <td>-0.009332</td>\n",
              "      <td>0.390981</td>\n",
              "      <td>1</td>\n",
              "    </tr>\n",
              "    <tr>\n",
              "      <th>1</th>\n",
              "      <td>0.954574</td>\n",
              "      <td>-0.473756</td>\n",
              "      <td>1</td>\n",
              "    </tr>\n",
              "    <tr>\n",
              "      <th>2</th>\n",
              "      <td>0.918526</td>\n",
              "      <td>-0.425196</td>\n",
              "      <td>1</td>\n",
              "    </tr>\n",
              "    <tr>\n",
              "      <th>3</th>\n",
              "      <td>0.412768</td>\n",
              "      <td>-0.376385</td>\n",
              "      <td>1</td>\n",
              "    </tr>\n",
              "    <tr>\n",
              "      <th>4</th>\n",
              "      <td>-0.845320</td>\n",
              "      <td>0.528799</td>\n",
              "      <td>0</td>\n",
              "    </tr>\n",
              "    <tr>\n",
              "      <th>...</th>\n",
              "      <td>...</td>\n",
              "      <td>...</td>\n",
              "      <td>...</td>\n",
              "    </tr>\n",
              "    <tr>\n",
              "      <th>995</th>\n",
              "      <td>0.793018</td>\n",
              "      <td>0.591402</td>\n",
              "      <td>0</td>\n",
              "    </tr>\n",
              "    <tr>\n",
              "      <th>996</th>\n",
              "      <td>-0.138777</td>\n",
              "      <td>0.968000</td>\n",
              "      <td>0</td>\n",
              "    </tr>\n",
              "    <tr>\n",
              "      <th>997</th>\n",
              "      <td>1.653915</td>\n",
              "      <td>-0.291798</td>\n",
              "      <td>1</td>\n",
              "    </tr>\n",
              "    <tr>\n",
              "      <th>998</th>\n",
              "      <td>-0.934102</td>\n",
              "      <td>0.353582</td>\n",
              "      <td>0</td>\n",
              "    </tr>\n",
              "    <tr>\n",
              "      <th>999</th>\n",
              "      <td>0.796836</td>\n",
              "      <td>0.604237</td>\n",
              "      <td>0</td>\n",
              "    </tr>\n",
              "  </tbody>\n",
              "</table>\n",
              "<p>1000 rows × 3 columns</p>\n",
              "</div>"
            ],
            "text/plain": [
              "           X0        X1  label\n",
              "0   -0.009332  0.390981      1\n",
              "1    0.954574 -0.473756      1\n",
              "2    0.918526 -0.425196      1\n",
              "3    0.412768 -0.376385      1\n",
              "4   -0.845320  0.528799      0\n",
              "..        ...       ...    ...\n",
              "995  0.793018  0.591402      0\n",
              "996 -0.138777  0.968000      0\n",
              "997  1.653915 -0.291798      1\n",
              "998 -0.934102  0.353582      0\n",
              "999  0.796836  0.604237      0\n",
              "\n",
              "[1000 rows x 3 columns]"
            ]
          },
          "metadata": {
            "tags": []
          },
          "execution_count": 4
        }
      ]
    },
    {
      "cell_type": "code",
      "metadata": {
        "colab": {
          "base_uri": "https://localhost:8080/",
          "height": 265
        },
        "id": "5vLLdzyJs_eS",
        "outputId": "eb22317e-1d92-4342-e266-5b11669e81cf"
      },
      "source": [
        "# Visualize with a plot\n",
        "import matplotlib.pyplot as plt\n",
        "\n",
        "plt.scatter(X[:,0],X[:,1],c=y,cmap=plt.cm.RdYlBu);"
      ],
      "execution_count": 5,
      "outputs": [
        {
          "output_type": "display_data",
          "data": {
            "image/png": "[encoded data removed]",
            "text/plain": [
              "<Figure size 432x288 with 1 Axes>"
            ]
          },
          "metadata": {
            "tags": [],
            "needs_background": "light"
          }
        }
      ]
    },
    {
      "cell_type": "code",
      "metadata": {
        "colab": {
          "base_uri": "https://localhost:8080/",
          "height": 35
        },
        "id": "nVoU_uK6t3Fm",
        "outputId": "bfdadb6e-2628-437b-eeda-20937bd9efd1"
      },
      "source": [
        "# import tensorflow\n",
        "import tensorflow as tf\n",
        "tf.__version__"
      ],
      "execution_count": 6,
      "outputs": [
        {
          "output_type": "execute_result",
          "data": {
            "application/vnd.google.colaboratory.intrinsic+json": {
              "type": "string"
            },
            "text/plain": [
              "'2.4.1'"
            ]
          },
          "metadata": {
            "tags": []
          },
          "execution_count": 6
        }
      ]
    },
    {
      "cell_type": "code",
      "metadata": {
        "colab": {
          "base_uri": "https://localhost:8080/"
        },
        "id": "7FRWjTthtXlq",
        "outputId": "aa3c323c-0623-4ba3-dc5d-00093d13495d"
      },
      "source": [
        "# Build a model\n",
        "\n",
        "# Set random seed\n",
        "tf.random.set_seed(42)\n",
        "\n",
        "# Create model\n",
        "model_1 = tf.keras.Sequential([\n",
        "   tf.keras.layers.Dense(4,activation=\"relu\"),\n",
        "   tf.keras.layers.Dense(4,activation=\"relu\"),\n",
        "   tf.keras.layers.Dense(1,activation=\"sigmoid\")\n",
        "])\n",
        "\n",
        "# Compile model\n",
        "model_1.compile(loss=\"binary_crossentropy\",\n",
        "                optimizer=tf.keras.optimizers.Adam(lr=0.001),\n",
        "                metrics=[\"accuracy\"])\n",
        "\n",
        "# Fit model\n",
        "history = model_1.fit(X,y,epochs=150)"
      ],
      "execution_count": 7,
      "outputs": [
        {
          "output_type": "stream",
          "text": [
            "Epoch 1/150\n",
            "32/32 [==============================] - 1s 1ms/step - loss: 0.6976 - accuracy: 0.4862\n",
            "Epoch 2/150\n",
            "32/32 [==============================] - 0s 1ms/step - loss: 0.6398 - accuracy: 0.5085\n",
            "Epoch 3/150\n",
            "32/32 [==============================] - 0s 1ms/step - loss: 0.5949 - accuracy: 0.5375\n",
            "Epoch 4/150\n",
            "32/32 [==============================] - 0s 1ms/step - loss: 0.5488 - accuracy: 0.7446\n",
            "Epoch 5/150\n",
            "32/32 [==============================] - 0s 1ms/step - loss: 0.5249 - accuracy: 0.8723\n",
            "Epoch 6/150\n",
            "32/32 [==============================] - 0s 1ms/step - loss: 0.4823 - accuracy: 0.8718\n",
            "Epoch 7/150\n",
            "32/32 [==============================] - 0s 1ms/step - loss: 0.4629 - accuracy: 0.8776\n",
            "Epoch 8/150\n",
            "32/32 [==============================] - 0s 1ms/step - loss: 0.4423 - accuracy: 0.8785\n",
            "Epoch 9/150\n",
            "32/32 [==============================] - 0s 1ms/step - loss: 0.4314 - accuracy: 0.8654\n",
            "Epoch 10/150\n",
            "32/32 [==============================] - 0s 1ms/step - loss: 0.3942 - accuracy: 0.8765\n",
            "Epoch 11/150\n",
            "32/32 [==============================] - 0s 1ms/step - loss: 0.3815 - accuracy: 0.8739\n",
            "Epoch 12/150\n",
            "32/32 [==============================] - 0s 1ms/step - loss: 0.3687 - accuracy: 0.8750\n",
            "Epoch 13/150\n",
            "32/32 [==============================] - 0s 1ms/step - loss: 0.3487 - accuracy: 0.8764\n",
            "Epoch 14/150\n",
            "32/32 [==============================] - 0s 1ms/step - loss: 0.3434 - accuracy: 0.8865\n",
            "Epoch 15/150\n",
            "32/32 [==============================] - 0s 1ms/step - loss: 0.3157 - accuracy: 0.8900\n",
            "Epoch 16/150\n",
            "32/32 [==============================] - 0s 1ms/step - loss: 0.3161 - accuracy: 0.8810\n",
            "Epoch 17/150\n",
            "32/32 [==============================] - 0s 1ms/step - loss: 0.3099 - accuracy: 0.8790\n",
            "Epoch 18/150\n",
            "32/32 [==============================] - 0s 1ms/step - loss: 0.3083 - accuracy: 0.8650\n",
            "Epoch 19/150\n",
            "32/32 [==============================] - 0s 1ms/step - loss: 0.2854 - accuracy: 0.8823\n",
            "Epoch 20/150\n",
            "32/32 [==============================] - 0s 1ms/step - loss: 0.2734 - accuracy: 0.8990\n",
            "Epoch 21/150\n",
            "32/32 [==============================] - 0s 1ms/step - loss: 0.2568 - accuracy: 0.9012\n",
            "Epoch 22/150\n",
            "32/32 [==============================] - 0s 1ms/step - loss: 0.2745 - accuracy: 0.8720\n",
            "Epoch 23/150\n",
            "32/32 [==============================] - 0s 1ms/step - loss: 0.2509 - accuracy: 0.8969\n",
            "Epoch 24/150\n",
            "32/32 [==============================] - 0s 1ms/step - loss: 0.2305 - accuracy: 0.9025\n",
            "Epoch 25/150\n",
            "32/32 [==============================] - 0s 1ms/step - loss: 0.2458 - accuracy: 0.8901\n",
            "Epoch 26/150\n",
            "32/32 [==============================] - 0s 1ms/step - loss: 0.2502 - accuracy: 0.8872\n",
            "Epoch 27/150\n",
            "32/32 [==============================] - 0s 1ms/step - loss: 0.2263 - accuracy: 0.9019\n",
            "Epoch 28/150\n",
            "32/32 [==============================] - 0s 1ms/step - loss: 0.2225 - accuracy: 0.9017\n",
            "Epoch 29/150\n",
            "32/32 [==============================] - 0s 1ms/step - loss: 0.2560 - accuracy: 0.8771\n",
            "Epoch 30/150\n",
            "32/32 [==============================] - 0s 1ms/step - loss: 0.2200 - accuracy: 0.9037\n",
            "Epoch 31/150\n",
            "32/32 [==============================] - 0s 1ms/step - loss: 0.2316 - accuracy: 0.9000\n",
            "Epoch 32/150\n",
            "32/32 [==============================] - 0s 1ms/step - loss: 0.2337 - accuracy: 0.8862\n",
            "Epoch 33/150\n",
            "32/32 [==============================] - 0s 1ms/step - loss: 0.2156 - accuracy: 0.9041\n",
            "Epoch 34/150\n",
            "32/32 [==============================] - 0s 1ms/step - loss: 0.2210 - accuracy: 0.8914\n",
            "Epoch 35/150\n",
            "32/32 [==============================] - 0s 1ms/step - loss: 0.2219 - accuracy: 0.8891\n",
            "Epoch 36/150\n",
            "32/32 [==============================] - 0s 1ms/step - loss: 0.2097 - accuracy: 0.9021\n",
            "Epoch 37/150\n",
            "32/32 [==============================] - 0s 1ms/step - loss: 0.2252 - accuracy: 0.8851\n",
            "Epoch 38/150\n",
            "32/32 [==============================] - 0s 1ms/step - loss: 0.2112 - accuracy: 0.8932\n",
            "Epoch 39/150\n",
            "32/32 [==============================] - 0s 1ms/step - loss: 0.2201 - accuracy: 0.8910\n",
            "Epoch 40/150\n",
            "32/32 [==============================] - 0s 1ms/step - loss: 0.2047 - accuracy: 0.9006\n",
            "Epoch 41/150\n",
            "32/32 [==============================] - 0s 1ms/step - loss: 0.2305 - accuracy: 0.8938\n",
            "Epoch 42/150\n",
            "32/32 [==============================] - 0s 1ms/step - loss: 0.2124 - accuracy: 0.8982\n",
            "Epoch 43/150\n",
            "32/32 [==============================] - 0s 1ms/step - loss: 0.2047 - accuracy: 0.9023\n",
            "Epoch 44/150\n",
            "32/32 [==============================] - 0s 1ms/step - loss: 0.1982 - accuracy: 0.9103\n",
            "Epoch 45/150\n",
            "32/32 [==============================] - 0s 1ms/step - loss: 0.1988 - accuracy: 0.8992\n",
            "Epoch 46/150\n",
            "32/32 [==============================] - 0s 1ms/step - loss: 0.1984 - accuracy: 0.9021\n",
            "Epoch 47/150\n",
            "32/32 [==============================] - 0s 1ms/step - loss: 0.1993 - accuracy: 0.9053\n",
            "Epoch 48/150\n",
            "32/32 [==============================] - 0s 1ms/step - loss: 0.1842 - accuracy: 0.9087\n",
            "Epoch 49/150\n",
            "32/32 [==============================] - 0s 1ms/step - loss: 0.1818 - accuracy: 0.9103\n",
            "Epoch 50/150\n",
            "32/32 [==============================] - 0s 1ms/step - loss: 0.1843 - accuracy: 0.9071\n",
            "Epoch 51/150\n",
            "32/32 [==============================] - 0s 1ms/step - loss: 0.1975 - accuracy: 0.9046\n",
            "Epoch 52/150\n",
            "32/32 [==============================] - 0s 1ms/step - loss: 0.1960 - accuracy: 0.9066\n",
            "Epoch 53/150\n",
            "32/32 [==============================] - 0s 1ms/step - loss: 0.1884 - accuracy: 0.9144\n",
            "Epoch 54/150\n",
            "32/32 [==============================] - 0s 1ms/step - loss: 0.1789 - accuracy: 0.9198\n",
            "Epoch 55/150\n",
            "32/32 [==============================] - 0s 1ms/step - loss: 0.1799 - accuracy: 0.9234\n",
            "Epoch 56/150\n",
            "32/32 [==============================] - 0s 1ms/step - loss: 0.2108 - accuracy: 0.8966\n",
            "Epoch 57/150\n",
            "32/32 [==============================] - 0s 1ms/step - loss: 0.2033 - accuracy: 0.9039\n",
            "Epoch 58/150\n",
            "32/32 [==============================] - 0s 1ms/step - loss: 0.1758 - accuracy: 0.9226\n",
            "Epoch 59/150\n",
            "32/32 [==============================] - 0s 1ms/step - loss: 0.1782 - accuracy: 0.9249\n",
            "Epoch 60/150\n",
            "32/32 [==============================] - 0s 1ms/step - loss: 0.2043 - accuracy: 0.9021\n",
            "Epoch 61/150\n",
            "32/32 [==============================] - 0s 1ms/step - loss: 0.2050 - accuracy: 0.9016\n",
            "Epoch 62/150\n",
            "32/32 [==============================] - 0s 1ms/step - loss: 0.1918 - accuracy: 0.9071\n",
            "Epoch 63/150\n",
            "32/32 [==============================] - 0s 1ms/step - loss: 0.1915 - accuracy: 0.9152\n",
            "Epoch 64/150\n",
            "32/32 [==============================] - 0s 1ms/step - loss: 0.1900 - accuracy: 0.9108\n",
            "Epoch 65/150\n",
            "32/32 [==============================] - 0s 1ms/step - loss: 0.1972 - accuracy: 0.9029\n",
            "Epoch 66/150\n",
            "32/32 [==============================] - 0s 1ms/step - loss: 0.1790 - accuracy: 0.9212\n",
            "Epoch 67/150\n",
            "32/32 [==============================] - 0s 1ms/step - loss: 0.1898 - accuracy: 0.9131\n",
            "Epoch 68/150\n",
            "32/32 [==============================] - 0s 1ms/step - loss: 0.1836 - accuracy: 0.9067\n",
            "Epoch 69/150\n",
            "32/32 [==============================] - 0s 1ms/step - loss: 0.1755 - accuracy: 0.9225\n",
            "Epoch 70/150\n",
            "32/32 [==============================] - 0s 1ms/step - loss: 0.1889 - accuracy: 0.9080\n",
            "Epoch 71/150\n",
            "32/32 [==============================] - 0s 1ms/step - loss: 0.1730 - accuracy: 0.9156\n",
            "Epoch 72/150\n",
            "32/32 [==============================] - 0s 1ms/step - loss: 0.1657 - accuracy: 0.9243\n",
            "Epoch 73/150\n",
            "32/32 [==============================] - 0s 1ms/step - loss: 0.1726 - accuracy: 0.9163\n",
            "Epoch 74/150\n",
            "32/32 [==============================] - 0s 1ms/step - loss: 0.1696 - accuracy: 0.9216\n",
            "Epoch 75/150\n",
            "32/32 [==============================] - 0s 1ms/step - loss: 0.1685 - accuracy: 0.9160\n",
            "Epoch 76/150\n",
            "32/32 [==============================] - 0s 1ms/step - loss: 0.1782 - accuracy: 0.9118\n",
            "Epoch 77/150\n",
            "32/32 [==============================] - 0s 1ms/step - loss: 0.1786 - accuracy: 0.9223\n",
            "Epoch 78/150\n",
            "32/32 [==============================] - 0s 1ms/step - loss: 0.1663 - accuracy: 0.9246\n",
            "Epoch 79/150\n",
            "32/32 [==============================] - 0s 1ms/step - loss: 0.1731 - accuracy: 0.9220\n",
            "Epoch 80/150\n",
            "32/32 [==============================] - 0s 1ms/step - loss: 0.1692 - accuracy: 0.9263\n",
            "Epoch 81/150\n",
            "32/32 [==============================] - 0s 1ms/step - loss: 0.1460 - accuracy: 0.9353\n",
            "Epoch 82/150\n",
            "32/32 [==============================] - 0s 1ms/step - loss: 0.1558 - accuracy: 0.9238\n",
            "Epoch 83/150\n",
            "32/32 [==============================] - 0s 1ms/step - loss: 0.1708 - accuracy: 0.9177\n",
            "Epoch 84/150\n",
            "32/32 [==============================] - 0s 1ms/step - loss: 0.1737 - accuracy: 0.9147\n",
            "Epoch 85/150\n",
            "32/32 [==============================] - 0s 1ms/step - loss: 0.1679 - accuracy: 0.9225\n",
            "Epoch 86/150\n",
            "32/32 [==============================] - 0s 1ms/step - loss: 0.1734 - accuracy: 0.9059\n",
            "Epoch 87/150\n",
            "32/32 [==============================] - 0s 1ms/step - loss: 0.1434 - accuracy: 0.9368\n",
            "Epoch 88/150\n",
            "32/32 [==============================] - 0s 1ms/step - loss: 0.1445 - accuracy: 0.9357\n",
            "Epoch 89/150\n",
            "32/32 [==============================] - 0s 1ms/step - loss: 0.1564 - accuracy: 0.9290\n",
            "Epoch 90/150\n",
            "32/32 [==============================] - 0s 1ms/step - loss: 0.1402 - accuracy: 0.9359\n",
            "Epoch 91/150\n",
            "32/32 [==============================] - 0s 1ms/step - loss: 0.1442 - accuracy: 0.9371\n",
            "Epoch 92/150\n",
            "32/32 [==============================] - 0s 1ms/step - loss: 0.1391 - accuracy: 0.9320\n",
            "Epoch 93/150\n",
            "32/32 [==============================] - 0s 1ms/step - loss: 0.1541 - accuracy: 0.9330\n",
            "Epoch 94/150\n",
            "32/32 [==============================] - 0s 1ms/step - loss: 0.1364 - accuracy: 0.9370\n",
            "Epoch 95/150\n",
            "32/32 [==============================] - 0s 1ms/step - loss: 0.1354 - accuracy: 0.9381\n",
            "Epoch 96/150\n",
            "32/32 [==============================] - 0s 1ms/step - loss: 0.1350 - accuracy: 0.9422\n",
            "Epoch 97/150\n",
            "32/32 [==============================] - 0s 1ms/step - loss: 0.1429 - accuracy: 0.9311\n",
            "Epoch 98/150\n",
            "32/32 [==============================] - 0s 1ms/step - loss: 0.1325 - accuracy: 0.9420\n",
            "Epoch 99/150\n",
            "32/32 [==============================] - 0s 1ms/step - loss: 0.1245 - accuracy: 0.9533\n",
            "Epoch 100/150\n",
            "32/32 [==============================] - 0s 1ms/step - loss: 0.1145 - accuracy: 0.9614\n",
            "Epoch 101/150\n",
            "32/32 [==============================] - 0s 1ms/step - loss: 0.1235 - accuracy: 0.9518\n",
            "Epoch 102/150\n",
            "32/32 [==============================] - 0s 1ms/step - loss: 0.1262 - accuracy: 0.9534\n",
            "Epoch 103/150\n",
            "32/32 [==============================] - 0s 1ms/step - loss: 0.1129 - accuracy: 0.9552\n",
            "Epoch 104/150\n",
            "32/32 [==============================] - 0s 1ms/step - loss: 0.1104 - accuracy: 0.9562\n",
            "Epoch 105/150\n",
            "32/32 [==============================] - 0s 1ms/step - loss: 0.1165 - accuracy: 0.9556\n",
            "Epoch 106/150\n",
            "32/32 [==============================] - 0s 1ms/step - loss: 0.1125 - accuracy: 0.9573\n",
            "Epoch 107/150\n",
            "32/32 [==============================] - 0s 1ms/step - loss: 0.1206 - accuracy: 0.9508\n",
            "Epoch 108/150\n",
            "32/32 [==============================] - 0s 1ms/step - loss: 0.1079 - accuracy: 0.9659\n",
            "Epoch 109/150\n",
            "32/32 [==============================] - 0s 1ms/step - loss: 0.0897 - accuracy: 0.9792\n",
            "Epoch 110/150\n",
            "32/32 [==============================] - 0s 1ms/step - loss: 0.0998 - accuracy: 0.9673\n",
            "Epoch 111/150\n",
            "32/32 [==============================] - 0s 1ms/step - loss: 0.1164 - accuracy: 0.9680\n",
            "Epoch 112/150\n",
            "32/32 [==============================] - 0s 1ms/step - loss: 0.0843 - accuracy: 0.9792\n",
            "Epoch 113/150\n",
            "32/32 [==============================] - 0s 1ms/step - loss: 0.1084 - accuracy: 0.9735\n",
            "Epoch 114/150\n",
            "32/32 [==============================] - 0s 1ms/step - loss: 0.0985 - accuracy: 0.9725\n",
            "Epoch 115/150\n",
            "32/32 [==============================] - 0s 1ms/step - loss: 0.0968 - accuracy: 0.9702\n",
            "Epoch 116/150\n",
            "32/32 [==============================] - 0s 1ms/step - loss: 0.0867 - accuracy: 0.9823\n",
            "Epoch 117/150\n",
            "32/32 [==============================] - 0s 1ms/step - loss: 0.0797 - accuracy: 0.9802\n",
            "Epoch 118/150\n",
            "32/32 [==============================] - 0s 2ms/step - loss: 0.0872 - accuracy: 0.9770\n",
            "Epoch 119/150\n",
            "32/32 [==============================] - 0s 1ms/step - loss: 0.0870 - accuracy: 0.9708\n",
            "Epoch 120/150\n",
            "32/32 [==============================] - 0s 1ms/step - loss: 0.0829 - accuracy: 0.9741\n",
            "Epoch 121/150\n",
            "32/32 [==============================] - 0s 1ms/step - loss: 0.0784 - accuracy: 0.9767\n",
            "Epoch 122/150\n",
            "32/32 [==============================] - 0s 1ms/step - loss: 0.0770 - accuracy: 0.9778\n",
            "Epoch 123/150\n",
            "32/32 [==============================] - 0s 1ms/step - loss: 0.0712 - accuracy: 0.9791\n",
            "Epoch 124/150\n",
            "32/32 [==============================] - 0s 1ms/step - loss: 0.0658 - accuracy: 0.9833\n",
            "Epoch 125/150\n",
            "32/32 [==============================] - 0s 1ms/step - loss: 0.0717 - accuracy: 0.9896\n",
            "Epoch 126/150\n",
            "32/32 [==============================] - 0s 1ms/step - loss: 0.0640 - accuracy: 0.9879\n",
            "Epoch 127/150\n",
            "32/32 [==============================] - 0s 1ms/step - loss: 0.0717 - accuracy: 0.9828\n",
            "Epoch 128/150\n",
            "32/32 [==============================] - 0s 1ms/step - loss: 0.0664 - accuracy: 0.9879\n",
            "Epoch 129/150\n",
            "32/32 [==============================] - 0s 1ms/step - loss: 0.0611 - accuracy: 0.9930\n",
            "Epoch 130/150\n",
            "32/32 [==============================] - 0s 1ms/step - loss: 0.0634 - accuracy: 0.9890\n",
            "Epoch 131/150\n",
            "32/32 [==============================] - 0s 1ms/step - loss: 0.0546 - accuracy: 0.9888\n",
            "Epoch 132/150\n",
            "32/32 [==============================] - 0s 1ms/step - loss: 0.0548 - accuracy: 0.9894\n",
            "Epoch 133/150\n",
            "32/32 [==============================] - 0s 1ms/step - loss: 0.0503 - accuracy: 0.9930\n",
            "Epoch 134/150\n",
            "32/32 [==============================] - 0s 1ms/step - loss: 0.0594 - accuracy: 0.9953\n",
            "Epoch 135/150\n",
            "32/32 [==============================] - 0s 1ms/step - loss: 0.0503 - accuracy: 0.9941\n",
            "Epoch 136/150\n",
            "32/32 [==============================] - 0s 1ms/step - loss: 0.0493 - accuracy: 0.9944\n",
            "Epoch 137/150\n",
            "32/32 [==============================] - 0s 1ms/step - loss: 0.0426 - accuracy: 0.9951\n",
            "Epoch 138/150\n",
            "32/32 [==============================] - 0s 1ms/step - loss: 0.0390 - accuracy: 0.9987\n",
            "Epoch 139/150\n",
            "32/32 [==============================] - 0s 1ms/step - loss: 0.0473 - accuracy: 0.9949\n",
            "Epoch 140/150\n",
            "32/32 [==============================] - 0s 1ms/step - loss: 0.0488 - accuracy: 0.9948\n",
            "Epoch 141/150\n",
            "32/32 [==============================] - 0s 1ms/step - loss: 0.0412 - accuracy: 0.9976\n",
            "Epoch 142/150\n",
            "32/32 [==============================] - 0s 1ms/step - loss: 0.0412 - accuracy: 0.9978\n",
            "Epoch 143/150\n",
            "32/32 [==============================] - 0s 1ms/step - loss: 0.0389 - accuracy: 0.9951\n",
            "Epoch 144/150\n",
            "32/32 [==============================] - 0s 1ms/step - loss: 0.0389 - accuracy: 0.9956\n",
            "Epoch 145/150\n",
            "32/32 [==============================] - 0s 1ms/step - loss: 0.0372 - accuracy: 0.9986\n",
            "Epoch 146/150\n",
            "32/32 [==============================] - 0s 1ms/step - loss: 0.0364 - accuracy: 0.9980\n",
            "Epoch 147/150\n",
            "32/32 [==============================] - 0s 1ms/step - loss: 0.0345 - accuracy: 0.9990\n",
            "Epoch 148/150\n",
            "32/32 [==============================] - 0s 1ms/step - loss: 0.0345 - accuracy: 0.9994\n",
            "Epoch 149/150\n",
            "32/32 [==============================] - 0s 1ms/step - loss: 0.0317 - accuracy: 0.9991\n",
            "Epoch 150/150\n",
            "32/32 [==============================] - 0s 1ms/step - loss: 0.0324 - accuracy: 0.9981\n"
          ],
          "name": "stdout"
        }
      ]
    },
    {
      "cell_type": "code",
      "metadata": {
        "colab": {
          "base_uri": "https://localhost:8080/"
        },
        "id": "YowbnXXbtx15",
        "outputId": "c694d3b0-43df-40b5-ec8f-81a8d8dd4878"
      },
      "source": [
        "# Evaluate\n",
        "model_1.evaluate(X,y)"
      ],
      "execution_count": 8,
      "outputs": [
        {
          "output_type": "stream",
          "text": [
            "32/32 [==============================] - 0s 1ms/step - loss: 0.0310 - accuracy: 0.9990\n"
          ],
          "name": "stdout"
        },
        {
          "output_type": "execute_result",
          "data": {
            "text/plain": [
              "[0.03101452998816967, 0.9990000128746033]"
            ]
          },
          "metadata": {
            "tags": []
          },
          "execution_count": 8
        }
      ]
    },
    {
      "cell_type": "code",
      "metadata": {
        "id": "jrIUJIYYvXbV"
      },
      "source": [
        "import numpy as np\n",
        "\n",
        "def plot_decision_boundary(model,X,y):\n",
        "  \"\"\"\n",
        "  Plots the decision boundary created by a model predicting on X\n",
        "  \"\"\"\n",
        "  # Define the axis boundaries of the plot and create a meshgrid\n",
        "  x_min,x_max = X[:,0].min() - 0.1, X[:,0].max() + 0.1\n",
        "  y_min,y_max = X[:,1].min() - 0.1, X[:,1].max() + 0.1\n",
        "  xx, yy = np.meshgrid(np.linspace(x_min,x_max,100),\n",
        "                       np.linspace(y_min,y_max,100))\n",
        "\n",
        "  # Create X values (we're going to make predictions on these)\n",
        "  x_in = np.c_[xx.ravel(),yy.ravel()] # stack 2D array together\n",
        "\n",
        "  # Make predictions\n",
        "  y_pred = model.predict(x_in)\n",
        "\n",
        "  # Check for multi-class\n",
        "  if len(y_pred[0]) > 1:\n",
        "    print(\"doing multiclass classification\")\n",
        "    # We have to reshape our prediction to get them ready for plot\n",
        "    y_pred = np.argmax(y_pred,axis=1).reshape(xx.shape)\n",
        "  else:\n",
        "    print(\"doing binarry classification\")\n",
        "    y_pred = np.round(y_pred).reshape(xx.shape)\n",
        "\n",
        "  # Plot the decision boundary\n",
        "  plt.contourf(xx,yy,y_pred,cmap=plt.cm.RdYlBu,alpha=0.7)\n",
        "  plt.scatter(X[:,0],X[:,1],c=y,s=40,cmap=plt.cm.RdYlBu)\n",
        "  plt.xlim(xx.min(),xx.max())\n",
        "  plt.ylim(yy.min(),yy.max())"
      ],
      "execution_count": 9,
      "outputs": []
    },
    {
      "cell_type": "code",
      "metadata": {
        "colab": {
          "base_uri": "https://localhost:8080/",
          "height": 282
        },
        "id": "ea3Jiof_vxjR",
        "outputId": "bdc8d994-1342-4e39-bfcd-69edb6256150"
      },
      "source": [
        "plot_decision_boundary(model_1,X,y)"
      ],
      "execution_count": 10,
      "outputs": [
        {
          "output_type": "stream",
          "text": [
            "doing binarry classification\n"
          ],
          "name": "stdout"
        },
        {
          "output_type": "display_data",
          "data": {
            "image/png": "[encoded data removed]",
            "text/plain": [
              "<Figure size 432x288 with 1 Axes>"
            ]
          },
          "metadata": {
            "tags": [],
            "needs_background": "light"
          }
        }
      ]
    },
    {
      "cell_type": "markdown",
      "metadata": {
        "id": "gd89MZVJwifF"
      },
      "source": [
        "## 4. Create a function (or write code) to visualize multiple image predictions for the fashion MNIST at the same time. Plot at least three different images and their prediciton labels at the same time."
      ]
    },
    {
      "cell_type": "code",
      "metadata": {
        "colab": {
          "base_uri": "https://localhost:8080/"
        },
        "id": "9MnsqxITwh88",
        "outputId": "e56025ec-79a6-4e1d-957c-6057105ddcd8"
      },
      "source": [
        "# Loading fashion MNIST dataset\n",
        "fashion_mnist = tf.keras.datasets.fashion_mnist\n",
        "\n",
        "(train_images, train_labels), (test_images, test_labels) = fashion_mnist.load_data()"
      ],
      "execution_count": 11,
      "outputs": [
        {
          "output_type": "stream",
          "text": [
            "Downloading data from https://storage.googleapis.com/tensorflow/tf-keras-datasets/train-labels-idx1-ubyte.gz\n",
            "32768/29515 [=================================] - 0s 0us/step\n",
            "Downloading data from https://storage.googleapis.com/tensorflow/tf-keras-datasets/train-images-idx3-ubyte.gz\n",
            "26427392/26421880 [==============================] - 0s 0us/step\n",
            "Downloading data from https://storage.googleapis.com/tensorflow/tf-keras-datasets/t10k-labels-idx1-ubyte.gz\n",
            "8192/5148 [===============================================] - 0s 0us/step\n",
            "Downloading data from https://storage.googleapis.com/tensorflow/tf-keras-datasets/t10k-images-idx3-ubyte.gz\n",
            "4423680/4422102 [==============================] - 0s 0us/step\n"
          ],
          "name": "stdout"
        }
      ]
    },
    {
      "cell_type": "code",
      "metadata": {
        "id": "1d6n3uy1vy5-"
      },
      "source": [
        "class_names = ['T-shirt/top', 'Trouser', 'Pullover', 'Dress', 'Coat','Sandal', 'Shirt', 'Sneaker', 'Bag', 'Ankle boot']"
      ],
      "execution_count": 12,
      "outputs": []
    },
    {
      "cell_type": "code",
      "metadata": {
        "id": "e7dnnukKPEoH"
      },
      "source": [
        "# Plot multiple random images and their prediction labels\n",
        "import random\n",
        "\n",
        "def random_images_and_labels():\n",
        "  plt.figure(figsize=(7,7))\n",
        "  for i in range(4):\n",
        "    ax = plt.subplot(2,2,i+1)\n",
        "    rand_index = random.choice(range(len(train_images)))\n",
        "    plt.imshow(train_images[rand_index],cmap=plt.cm.binary)\n",
        "    plt.title(class_names[train_labels[rand_index]])\n",
        "    plt.axis(False)"
      ],
      "execution_count": 15,
      "outputs": []
    },
    {
      "cell_type": "code",
      "metadata": {
        "colab": {
          "base_uri": "https://localhost:8080/",
          "height": 427
        },
        "id": "I0zVt6thP4Bj",
        "outputId": "66a0cf39-60a9-4d76-c062-ad3188bc93c1"
      },
      "source": [
        "random_images_and_labels()"
      ],
      "execution_count": 16,
      "outputs": [
        {
          "output_type": "display_data",
          "data": {
            "image/png": "[encoded data removed]",
            "text/plain": [
              "<Figure size 504x504 with 4 Axes>"
            ]
          },
          "metadata": {
            "tags": [],
            "needs_background": "light"
          }
        }
      ]
    },
    {
      "cell_type": "markdown",
      "metadata": {
        "id": "b0kK1JLZRECG"
      },
      "source": [
        "## 5. Recreate [TensorFlow's](https://www.tensorflow.org/api_docs/python/tf/keras/activations/softmax) [softmax activation function](https://en.wikipedia.org/wiki/Softmax_function) in your own code. Make sure it can accept a tensor and return that tensor after having the softmax function applied to it."
      ]
    },
    {
      "cell_type": "code",
      "metadata": {
        "id": "Sg1QKD-kP5nq"
      },
      "source": [
        "# Normalize data\n",
        "train_images_norm = train_images / 255.0\n",
        "test_images_norm = test_images / 225.0"
      ],
      "execution_count": 17,
      "outputs": []
    },
    {
      "cell_type": "code",
      "metadata": {
        "colab": {
          "base_uri": "https://localhost:8080/"
        },
        "id": "zm00Q_O_R3Zx",
        "outputId": "2cd79d58-6527-4395-a013-303e8b751a76"
      },
      "source": [
        "# Model for normalized data\n",
        "\n",
        "# Set seed\n",
        "tf.random.set_seed(42)\n",
        "\n",
        "# Create model\n",
        "model_2 = tf.keras.Sequential([\n",
        "    tf.keras.layers.Flatten(input_shape=(28,28)),\n",
        "    tf.keras.layers.Dense(4,activation=\"relu\"),\n",
        "    tf.keras.layers.Dense(4,activation=\"relu\"),\n",
        "    tf.keras.layers.Dense(10,activation=\"softmax\")\n",
        "])\n",
        "\n",
        "# Compile model\n",
        "model_2.compile(loss=tf.keras.losses.SparseCategoricalCrossentropy(),\n",
        "                optimizer=tf.keras.optimizers.Adam(),\n",
        "                metrics=[\"accuracy\"])\n",
        "\n",
        "# Fit model\n",
        "history = model_2.fit(train_images_norm,\n",
        "                      train_labels,\n",
        "                      epochs=10,\n",
        "                      validation_data=(test_images_norm,test_labels))"
      ],
      "execution_count": 20,
      "outputs": [
        {
          "output_type": "stream",
          "text": [
            "Epoch 1/10\n",
            "1875/1875 [==============================] - 4s 2ms/step - loss: 1.4476 - accuracy: 0.5004 - val_loss: 0.6929 - val_accuracy: 0.7604\n",
            "Epoch 2/10\n",
            "1875/1875 [==============================] - 3s 2ms/step - loss: 0.6479 - accuracy: 0.7706 - val_loss: 0.6425 - val_accuracy: 0.7828\n",
            "Epoch 3/10\n",
            "1875/1875 [==============================] - 3s 2ms/step - loss: 0.5984 - accuracy: 0.7902 - val_loss: 0.6241 - val_accuracy: 0.7846\n",
            "Epoch 4/10\n",
            "1875/1875 [==============================] - 3s 2ms/step - loss: 0.5767 - accuracy: 0.7986 - val_loss: 0.6211 - val_accuracy: 0.7865\n",
            "Epoch 5/10\n",
            "1875/1875 [==============================] - 3s 2ms/step - loss: 0.5611 - accuracy: 0.8017 - val_loss: 0.6387 - val_accuracy: 0.7858\n",
            "Epoch 6/10\n",
            "1875/1875 [==============================] - 3s 2ms/step - loss: 0.5562 - accuracy: 0.8030 - val_loss: 0.5901 - val_accuracy: 0.7955\n",
            "Epoch 7/10\n",
            "1875/1875 [==============================] - 3s 2ms/step - loss: 0.5458 - accuracy: 0.8076 - val_loss: 0.6097 - val_accuracy: 0.7883\n",
            "Epoch 8/10\n",
            "1875/1875 [==============================] - 3s 2ms/step - loss: 0.5432 - accuracy: 0.8086 - val_loss: 0.5821 - val_accuracy: 0.7988\n",
            "Epoch 9/10\n",
            "1875/1875 [==============================] - 3s 2ms/step - loss: 0.5457 - accuracy: 0.8065 - val_loss: 0.5805 - val_accuracy: 0.7975\n",
            "Epoch 10/10\n",
            "1875/1875 [==============================] - 3s 2ms/step - loss: 0.5289 - accuracy: 0.8149 - val_loss: 0.5755 - val_accuracy: 0.8024\n"
          ],
          "name": "stdout"
        }
      ]
    },
    {
      "cell_type": "markdown",
      "metadata": {
        "id": "b9XDDiD6TlNZ"
      },
      "source": [
        "## 6. Train a model to get 88%+ accuracy on the fashion MNIST test set. Plot a confusion matrix to see the results after."
      ]
    },
    {
      "cell_type": "code",
      "metadata": {
        "colab": {
          "base_uri": "https://localhost:8080/"
        },
        "id": "azlSeT-yTUPj",
        "outputId": "53661120-ec76-44a3-bb74-021ddbe8d56a"
      },
      "source": [
        "# Set seed\n",
        "tf.random.set_seed(42)\n",
        "\n",
        "# Create model\n",
        "model_3 = tf.keras.Sequential([\n",
        "    tf.keras.layers.Flatten(input_shape=(28,28)),\n",
        "    tf.keras.layers.Dense(4,activation=\"relu\"),\n",
        "    tf.keras.layers.Dense(4,activation=\"relu\"),\n",
        "    tf.keras.layers.Dense(10,activation=\"softmax\")\n",
        "])\n",
        "\n",
        "# Compile model\n",
        "model_3.compile(loss=tf.keras.losses.SparseCategoricalCrossentropy(),\n",
        "                optimizer=tf.keras.optimizers.Adam(lr=0.001),\n",
        "                metrics=[\"accuracy\"])\n",
        "\n",
        "# Fit model\n",
        "history = model_3.fit(train_images_norm,\n",
        "                      train_labels,\n",
        "                      epochs=100,\n",
        "                      validation_data=(test_images_norm,test_labels))"
      ],
      "execution_count": 22,
      "outputs": [
        {
          "output_type": "stream",
          "text": [
            "Epoch 1/100\n",
            "1875/1875 [==============================] - 4s 2ms/step - loss: 1.4476 - accuracy: 0.5004 - val_loss: 0.6929 - val_accuracy: 0.7604\n",
            "Epoch 2/100\n",
            "1875/1875 [==============================] - 3s 2ms/step - loss: 0.6479 - accuracy: 0.7706 - val_loss: 0.6425 - val_accuracy: 0.7828\n",
            "Epoch 3/100\n",
            "1875/1875 [==============================] - 3s 2ms/step - loss: 0.5984 - accuracy: 0.7902 - val_loss: 0.6241 - val_accuracy: 0.7846\n",
            "Epoch 4/100\n",
            "1875/1875 [==============================] - 3s 2ms/step - loss: 0.5767 - accuracy: 0.7986 - val_loss: 0.6211 - val_accuracy: 0.7865\n",
            "Epoch 5/100\n",
            "1875/1875 [==============================] - 3s 2ms/step - loss: 0.5611 - accuracy: 0.8017 - val_loss: 0.6387 - val_accuracy: 0.7858\n",
            "Epoch 6/100\n",
            "1875/1875 [==============================] - 3s 2ms/step - loss: 0.5562 - accuracy: 0.8030 - val_loss: 0.5901 - val_accuracy: 0.7955\n",
            "Epoch 7/100\n",
            "1875/1875 [==============================] - 3s 2ms/step - loss: 0.5458 - accuracy: 0.8076 - val_loss: 0.6097 - val_accuracy: 0.7883\n",
            "Epoch 8/100\n",
            "1875/1875 [==============================] - 3s 2ms/step - loss: 0.5432 - accuracy: 0.8086 - val_loss: 0.5821 - val_accuracy: 0.7988\n",
            "Epoch 9/100\n",
            "1875/1875 [==============================] - 3s 2ms/step - loss: 0.5457 - accuracy: 0.8065 - val_loss: 0.5805 - val_accuracy: 0.7975\n",
            "Epoch 10/100\n",
            "1875/1875 [==============================] - 3s 2ms/step - loss: 0.5289 - accuracy: 0.8149 - val_loss: 0.5755 - val_accuracy: 0.8024\n",
            "Epoch 11/100\n",
            "1875/1875 [==============================] - 3s 2ms/step - loss: 0.5325 - accuracy: 0.8129 - val_loss: 0.5952 - val_accuracy: 0.7945\n",
            "Epoch 12/100\n",
            "1875/1875 [==============================] - 3s 2ms/step - loss: 0.5290 - accuracy: 0.8119 - val_loss: 0.5737 - val_accuracy: 0.8028\n",
            "Epoch 13/100\n",
            "1875/1875 [==============================] - 3s 2ms/step - loss: 0.5244 - accuracy: 0.8154 - val_loss: 0.5804 - val_accuracy: 0.8015\n",
            "Epoch 14/100\n",
            "1875/1875 [==============================] - 3s 2ms/step - loss: 0.5276 - accuracy: 0.8126 - val_loss: 0.5998 - val_accuracy: 0.7931\n",
            "Epoch 15/100\n",
            "1875/1875 [==============================] - 3s 2ms/step - loss: 0.5303 - accuracy: 0.8129 - val_loss: 0.5845 - val_accuracy: 0.8010\n",
            "Epoch 16/100\n",
            "1875/1875 [==============================] - 3s 2ms/step - loss: 0.5216 - accuracy: 0.8164 - val_loss: 0.5991 - val_accuracy: 0.7985\n",
            "Epoch 17/100\n",
            "1875/1875 [==============================] - 3s 2ms/step - loss: 0.5152 - accuracy: 0.8178 - val_loss: 0.5730 - val_accuracy: 0.8029\n",
            "Epoch 18/100\n",
            "1875/1875 [==============================] - 3s 2ms/step - loss: 0.5194 - accuracy: 0.8150 - val_loss: 0.5765 - val_accuracy: 0.8018\n",
            "Epoch 19/100\n",
            "1875/1875 [==============================] - 3s 2ms/step - loss: 0.5119 - accuracy: 0.8162 - val_loss: 0.5795 - val_accuracy: 0.7993\n",
            "Epoch 20/100\n",
            "1875/1875 [==============================] - 3s 2ms/step - loss: 0.5177 - accuracy: 0.8159 - val_loss: 0.5908 - val_accuracy: 0.8002\n",
            "Epoch 21/100\n",
            "1875/1875 [==============================] - 3s 2ms/step - loss: 0.5142 - accuracy: 0.8200 - val_loss: 0.5946 - val_accuracy: 0.7961\n",
            "Epoch 22/100\n",
            "1875/1875 [==============================] - 3s 2ms/step - loss: 0.5133 - accuracy: 0.8158 - val_loss: 0.5892 - val_accuracy: 0.8000\n",
            "Epoch 23/100\n",
            "1875/1875 [==============================] - 3s 2ms/step - loss: 0.5125 - accuracy: 0.8188 - val_loss: 0.5734 - val_accuracy: 0.8046\n",
            "Epoch 24/100\n",
            "1875/1875 [==============================] - 3s 2ms/step - loss: 0.5104 - accuracy: 0.8179 - val_loss: 0.5717 - val_accuracy: 0.8066\n",
            "Epoch 25/100\n",
            "1875/1875 [==============================] - 3s 2ms/step - loss: 0.5095 - accuracy: 0.8188 - val_loss: 0.5668 - val_accuracy: 0.8063\n",
            "Epoch 26/100\n",
            "1875/1875 [==============================] - 3s 2ms/step - loss: 0.5118 - accuracy: 0.8205 - val_loss: 0.5842 - val_accuracy: 0.8023\n",
            "Epoch 27/100\n",
            "1875/1875 [==============================] - 3s 2ms/step - loss: 0.5043 - accuracy: 0.8189 - val_loss: 0.5763 - val_accuracy: 0.8029\n",
            "Epoch 28/100\n",
            "1875/1875 [==============================] - 3s 2ms/step - loss: 0.5086 - accuracy: 0.8220 - val_loss: 0.5758 - val_accuracy: 0.8067\n",
            "Epoch 29/100\n",
            "1875/1875 [==============================] - 3s 2ms/step - loss: 0.5065 - accuracy: 0.8188 - val_loss: 0.5958 - val_accuracy: 0.8009\n",
            "Epoch 30/100\n",
            "1875/1875 [==============================] - 3s 2ms/step - loss: 0.5006 - accuracy: 0.8219 - val_loss: 0.5799 - val_accuracy: 0.8024\n",
            "Epoch 31/100\n",
            "1875/1875 [==============================] - 3s 2ms/step - loss: 0.5051 - accuracy: 0.8207 - val_loss: 0.5899 - val_accuracy: 0.8002\n",
            "Epoch 32/100\n",
            "1875/1875 [==============================] - 3s 2ms/step - loss: 0.5046 - accuracy: 0.8203 - val_loss: 0.5852 - val_accuracy: 0.8036\n",
            "Epoch 33/100\n",
            "1875/1875 [==============================] - 3s 2ms/step - loss: 0.4902 - accuracy: 0.8251 - val_loss: 0.6102 - val_accuracy: 0.7950\n",
            "Epoch 34/100\n",
            "1875/1875 [==============================] - 3s 2ms/step - loss: 0.4951 - accuracy: 0.8222 - val_loss: 0.5745 - val_accuracy: 0.8068\n",
            "Epoch 35/100\n",
            "1875/1875 [==============================] - 3s 2ms/step - loss: 0.4977 - accuracy: 0.8236 - val_loss: 0.5704 - val_accuracy: 0.8077\n",
            "Epoch 36/100\n",
            "1875/1875 [==============================] - 3s 2ms/step - loss: 0.5034 - accuracy: 0.8223 - val_loss: 0.5637 - val_accuracy: 0.8091\n",
            "Epoch 37/100\n",
            "1875/1875 [==============================] - 3s 2ms/step - loss: 0.4955 - accuracy: 0.8243 - val_loss: 0.5691 - val_accuracy: 0.8039\n",
            "Epoch 38/100\n",
            "1875/1875 [==============================] - 3s 2ms/step - loss: 0.4971 - accuracy: 0.8255 - val_loss: 0.5574 - val_accuracy: 0.8115\n",
            "Epoch 39/100\n",
            "1875/1875 [==============================] - 3s 2ms/step - loss: 0.4868 - accuracy: 0.8270 - val_loss: 0.5678 - val_accuracy: 0.8038\n",
            "Epoch 40/100\n",
            "1875/1875 [==============================] - 3s 2ms/step - loss: 0.4905 - accuracy: 0.8251 - val_loss: 0.5608 - val_accuracy: 0.8079\n",
            "Epoch 41/100\n",
            "1875/1875 [==============================] - 3s 2ms/step - loss: 0.4866 - accuracy: 0.8248 - val_loss: 0.5666 - val_accuracy: 0.8055\n",
            "Epoch 42/100\n",
            "1875/1875 [==============================] - 3s 2ms/step - loss: 0.4897 - accuracy: 0.8236 - val_loss: 0.5640 - val_accuracy: 0.8081\n",
            "Epoch 43/100\n",
            "1875/1875 [==============================] - 3s 2ms/step - loss: 0.4828 - accuracy: 0.8277 - val_loss: 0.5755 - val_accuracy: 0.8046\n",
            "Epoch 44/100\n",
            "1875/1875 [==============================] - 3s 2ms/step - loss: 0.4888 - accuracy: 0.8261 - val_loss: 0.5625 - val_accuracy: 0.8097\n",
            "Epoch 45/100\n",
            "1875/1875 [==============================] - 3s 2ms/step - loss: 0.4930 - accuracy: 0.8251 - val_loss: 0.5593 - val_accuracy: 0.8102\n",
            "Epoch 46/100\n",
            "1875/1875 [==============================] - 3s 2ms/step - loss: 0.4859 - accuracy: 0.8255 - val_loss: 0.5655 - val_accuracy: 0.8100\n",
            "Epoch 47/100\n",
            "1875/1875 [==============================] - 3s 2ms/step - loss: 0.4842 - accuracy: 0.8287 - val_loss: 0.5663 - val_accuracy: 0.8086\n",
            "Epoch 48/100\n",
            "1875/1875 [==============================] - 3s 2ms/step - loss: 0.4841 - accuracy: 0.8279 - val_loss: 0.5625 - val_accuracy: 0.8088\n",
            "Epoch 49/100\n",
            "1875/1875 [==============================] - 3s 2ms/step - loss: 0.4843 - accuracy: 0.8295 - val_loss: 0.5719 - val_accuracy: 0.8121\n",
            "Epoch 50/100\n",
            "1875/1875 [==============================] - 3s 2ms/step - loss: 0.4818 - accuracy: 0.8305 - val_loss: 0.5659 - val_accuracy: 0.8124\n",
            "Epoch 51/100\n",
            "1875/1875 [==============================] - 3s 2ms/step - loss: 0.4781 - accuracy: 0.8297 - val_loss: 0.5673 - val_accuracy: 0.8065\n",
            "Epoch 52/100\n",
            "1875/1875 [==============================] - 3s 2ms/step - loss: 0.4803 - accuracy: 0.8297 - val_loss: 0.5711 - val_accuracy: 0.8045\n",
            "Epoch 53/100\n",
            "1875/1875 [==============================] - 3s 2ms/step - loss: 0.4792 - accuracy: 0.8302 - val_loss: 0.5674 - val_accuracy: 0.8076\n",
            "Epoch 54/100\n",
            "1875/1875 [==============================] - 3s 2ms/step - loss: 0.4889 - accuracy: 0.8283 - val_loss: 0.5702 - val_accuracy: 0.8067\n",
            "Epoch 55/100\n",
            "1875/1875 [==============================] - 3s 2ms/step - loss: 0.4804 - accuracy: 0.8310 - val_loss: 0.5572 - val_accuracy: 0.8126\n",
            "Epoch 56/100\n",
            "1875/1875 [==============================] - 3s 2ms/step - loss: 0.4805 - accuracy: 0.8279 - val_loss: 0.5544 - val_accuracy: 0.8126\n",
            "Epoch 57/100\n",
            "1875/1875 [==============================] - 3s 2ms/step - loss: 0.4787 - accuracy: 0.8286 - val_loss: 0.5746 - val_accuracy: 0.8097\n",
            "Epoch 58/100\n",
            "1875/1875 [==============================] - 3s 2ms/step - loss: 0.4822 - accuracy: 0.8296 - val_loss: 0.5592 - val_accuracy: 0.8063\n",
            "Epoch 59/100\n",
            "1875/1875 [==============================] - 3s 2ms/step - loss: 0.4809 - accuracy: 0.8299 - val_loss: 0.5838 - val_accuracy: 0.8068\n",
            "Epoch 60/100\n",
            "1875/1875 [==============================] - 3s 2ms/step - loss: 0.4803 - accuracy: 0.8286 - val_loss: 0.5583 - val_accuracy: 0.8104\n",
            "Epoch 61/100\n",
            "1875/1875 [==============================] - 3s 2ms/step - loss: 0.4803 - accuracy: 0.8299 - val_loss: 0.5746 - val_accuracy: 0.8068\n",
            "Epoch 62/100\n",
            "1875/1875 [==============================] - 3s 2ms/step - loss: 0.4773 - accuracy: 0.8321 - val_loss: 0.5562 - val_accuracy: 0.8134\n",
            "Epoch 63/100\n",
            "1875/1875 [==============================] - 3s 2ms/step - loss: 0.4778 - accuracy: 0.8282 - val_loss: 0.5631 - val_accuracy: 0.8060\n",
            "Epoch 64/100\n",
            "1875/1875 [==============================] - 3s 2ms/step - loss: 0.4775 - accuracy: 0.8285 - val_loss: 0.5600 - val_accuracy: 0.8099\n",
            "Epoch 65/100\n",
            "1875/1875 [==============================] - 3s 2ms/step - loss: 0.4754 - accuracy: 0.8326 - val_loss: 0.5636 - val_accuracy: 0.8107\n",
            "Epoch 66/100\n",
            "1875/1875 [==============================] - 3s 2ms/step - loss: 0.4740 - accuracy: 0.8318 - val_loss: 0.5731 - val_accuracy: 0.8122\n",
            "Epoch 67/100\n",
            "1875/1875 [==============================] - 3s 2ms/step - loss: 0.4716 - accuracy: 0.8314 - val_loss: 0.5548 - val_accuracy: 0.8137\n",
            "Epoch 68/100\n",
            "1875/1875 [==============================] - 3s 2ms/step - loss: 0.4747 - accuracy: 0.8314 - val_loss: 0.5578 - val_accuracy: 0.8138\n",
            "Epoch 69/100\n",
            "1875/1875 [==============================] - 3s 2ms/step - loss: 0.4777 - accuracy: 0.8291 - val_loss: 0.5718 - val_accuracy: 0.8093\n",
            "Epoch 70/100\n",
            "1875/1875 [==============================] - 3s 2ms/step - loss: 0.4820 - accuracy: 0.8275 - val_loss: 0.5761 - val_accuracy: 0.8064\n",
            "Epoch 71/100\n",
            "1875/1875 [==============================] - 3s 2ms/step - loss: 0.4777 - accuracy: 0.8275 - val_loss: 0.5641 - val_accuracy: 0.8074\n",
            "Epoch 72/100\n",
            "1875/1875 [==============================] - 3s 2ms/step - loss: 0.4773 - accuracy: 0.8313 - val_loss: 0.5857 - val_accuracy: 0.8083\n",
            "Epoch 73/100\n",
            "1875/1875 [==============================] - 3s 2ms/step - loss: 0.4751 - accuracy: 0.8323 - val_loss: 0.5540 - val_accuracy: 0.8130\n",
            "Epoch 74/100\n",
            "1875/1875 [==============================] - 3s 2ms/step - loss: 0.4736 - accuracy: 0.8303 - val_loss: 0.5744 - val_accuracy: 0.8111\n",
            "Epoch 75/100\n",
            "1875/1875 [==============================] - 3s 2ms/step - loss: 0.4716 - accuracy: 0.8307 - val_loss: 0.5560 - val_accuracy: 0.8093\n",
            "Epoch 76/100\n",
            "1875/1875 [==============================] - 3s 2ms/step - loss: 0.4720 - accuracy: 0.8321 - val_loss: 0.5853 - val_accuracy: 0.8053\n",
            "Epoch 77/100\n",
            "1875/1875 [==============================] - 3s 2ms/step - loss: 0.4818 - accuracy: 0.8274 - val_loss: 0.5556 - val_accuracy: 0.8121\n",
            "Epoch 78/100\n",
            "1875/1875 [==============================] - 3s 2ms/step - loss: 0.4780 - accuracy: 0.8296 - val_loss: 0.5638 - val_accuracy: 0.8133\n",
            "Epoch 79/100\n",
            "1875/1875 [==============================] - 3s 2ms/step - loss: 0.4729 - accuracy: 0.8301 - val_loss: 0.5644 - val_accuracy: 0.8074\n",
            "Epoch 80/100\n",
            "1875/1875 [==============================] - 3s 2ms/step - loss: 0.4696 - accuracy: 0.8313 - val_loss: 0.5646 - val_accuracy: 0.8088\n",
            "Epoch 81/100\n",
            "1875/1875 [==============================] - 3s 2ms/step - loss: 0.4773 - accuracy: 0.8303 - val_loss: 0.5576 - val_accuracy: 0.8113\n",
            "Epoch 82/100\n",
            "1875/1875 [==============================] - 3s 2ms/step - loss: 0.4723 - accuracy: 0.8307 - val_loss: 0.5576 - val_accuracy: 0.8138\n",
            "Epoch 83/100\n",
            "1875/1875 [==============================] - 3s 2ms/step - loss: 0.4675 - accuracy: 0.8330 - val_loss: 0.5697 - val_accuracy: 0.8063\n",
            "Epoch 84/100\n",
            "1875/1875 [==============================] - 3s 2ms/step - loss: 0.4704 - accuracy: 0.8330 - val_loss: 0.5637 - val_accuracy: 0.8076\n",
            "Epoch 85/100\n",
            "1875/1875 [==============================] - 3s 2ms/step - loss: 0.4804 - accuracy: 0.8289 - val_loss: 0.5805 - val_accuracy: 0.8054\n",
            "Epoch 86/100\n",
            "1875/1875 [==============================] - 3s 2ms/step - loss: 0.4768 - accuracy: 0.8297 - val_loss: 0.5625 - val_accuracy: 0.8098\n",
            "Epoch 87/100\n",
            "1875/1875 [==============================] - 3s 2ms/step - loss: 0.4660 - accuracy: 0.8342 - val_loss: 0.5549 - val_accuracy: 0.8153\n",
            "Epoch 88/100\n",
            "1875/1875 [==============================] - 3s 2ms/step - loss: 0.4676 - accuracy: 0.8329 - val_loss: 0.5721 - val_accuracy: 0.8124\n",
            "Epoch 89/100\n",
            "1875/1875 [==============================] - 3s 2ms/step - loss: 0.4737 - accuracy: 0.8297 - val_loss: 0.5534 - val_accuracy: 0.8107\n",
            "Epoch 90/100\n",
            "1875/1875 [==============================] - 3s 2ms/step - loss: 0.4705 - accuracy: 0.8341 - val_loss: 0.5620 - val_accuracy: 0.8104\n",
            "Epoch 91/100\n",
            "1875/1875 [==============================] - 3s 2ms/step - loss: 0.4742 - accuracy: 0.8325 - val_loss: 0.5704 - val_accuracy: 0.8100\n",
            "Epoch 92/100\n",
            "1875/1875 [==============================] - 3s 2ms/step - loss: 0.4677 - accuracy: 0.8353 - val_loss: 0.5650 - val_accuracy: 0.8137\n",
            "Epoch 93/100\n",
            "1875/1875 [==============================] - 3s 2ms/step - loss: 0.4649 - accuracy: 0.8347 - val_loss: 0.5773 - val_accuracy: 0.8070\n",
            "Epoch 94/100\n",
            "1875/1875 [==============================] - 3s 2ms/step - loss: 0.4680 - accuracy: 0.8318 - val_loss: 0.5721 - val_accuracy: 0.8124\n",
            "Epoch 95/100\n",
            "1875/1875 [==============================] - 3s 2ms/step - loss: 0.4651 - accuracy: 0.8352 - val_loss: 0.5590 - val_accuracy: 0.8148\n",
            "Epoch 96/100\n",
            "1875/1875 [==============================] - 3s 2ms/step - loss: 0.4726 - accuracy: 0.8342 - val_loss: 0.5586 - val_accuracy: 0.8145\n",
            "Epoch 97/100\n",
            "1875/1875 [==============================] - 3s 2ms/step - loss: 0.4745 - accuracy: 0.8316 - val_loss: 0.5660 - val_accuracy: 0.8146\n",
            "Epoch 98/100\n",
            "1875/1875 [==============================] - 4s 2ms/step - loss: 0.4676 - accuracy: 0.8332 - val_loss: 0.5672 - val_accuracy: 0.8113\n",
            "Epoch 99/100\n",
            "1875/1875 [==============================] - 3s 2ms/step - loss: 0.4632 - accuracy: 0.8366 - val_loss: 0.5745 - val_accuracy: 0.8079\n",
            "Epoch 100/100\n",
            "1875/1875 [==============================] - 3s 2ms/step - loss: 0.4664 - accuracy: 0.8360 - val_loss: 0.5625 - val_accuracy: 0.8147\n"
          ],
          "name": "stdout"
        }
      ]
    },
    {
      "cell_type": "code",
      "metadata": {
        "id": "_gYqOmMEXb8H"
      },
      "source": [
        "# Confusion matrix plot\n",
        "\n",
        "import itertools\n",
        "from sklearn.metrics import confusion_matrix\n",
        "\n",
        "def make_confusion_matrix(y_true,y_pred,classes=None,figsize=(10,10),text_size=15):\n",
        "  # Create the confusion matrix\n",
        "  cm = confusion_matrix(y_true,y_pred)\n",
        "  cm_norm = cm.astype(\"float\") / cm.sum(axis=1)[:,np.newaxis] # normalize our confusion matrix\n",
        "  n_classes = cm.shape[0]\n",
        "\n",
        "  # Let's prettify it\n",
        "  fig,ax = plt.subplots(figsize=figsize)\n",
        "  # Create a matrix plot\n",
        "  cax = ax.matshow(cm,cmap=plt.cm.Blues)\n",
        "  fig.colorbar(cax)\n",
        "\n",
        "  # Set labels to be classes\n",
        "  if classes:\n",
        "    labels = classes\n",
        "  else:\n",
        "    labels = np.arange(cm.shape[0])\n",
        "\n",
        "  # Label the axes\n",
        "  ax.set(title=\"Confusion Matrix\",\n",
        "        xlabel=\"Predicted Label\",\n",
        "        ylabel=\"True Label\",\n",
        "        xticks=np.arange(n_classes),\n",
        "        yticks=np.arange(n_classes),\n",
        "        xticklabels=labels,\n",
        "        yticklabels=labels)\n",
        "\n",
        "  # Set x-axis labels to bottom\n",
        "  ax.xaxis.set_label_position(\"bottom\")\n",
        "  ax.xaxis.tick_bottom()\n",
        "\n",
        "  # Adjust label size\n",
        "  ax.yaxis.label.set_size(text_size)\n",
        "  ax.xaxis.label.set_size(text_size)\n",
        "  ax.title.set_size(text_size)\n",
        "\n",
        "  # Set threshold for different colors\n",
        "  threshold = (cm.max() + cm.min()) /2.\n",
        "\n",
        "  # Plot the text on each cell\n",
        "  for i,j in itertools.product(range(cm.shape[0]),range(cm.shape[1])):\n",
        "    plt.text(j,i,f\"{cm[i,j]} ({cm_norm[i,j]*100:.1f}%)\",\n",
        "            horizontalalignment=\"center\",\n",
        "            color=\"white\" if cm[i,j] > threshold else \"black\",\n",
        "            size=text_size)"
      ],
      "execution_count": 23,
      "outputs": []
    },
    {
      "cell_type": "code",
      "metadata": {
        "id": "D2qZGN69bVOT"
      },
      "source": [
        "# Make some predictions with our model\n",
        "y_probs = model_3.predict(test_images_norm)\n",
        "\n",
        "# Convert all of the prediction probabilities into integers\n",
        "y_preds = y_probs.argmax(axis=1)"
      ],
      "execution_count": 24,
      "outputs": []
    },
    {
      "cell_type": "code",
      "metadata": {
        "colab": {
          "base_uri": "https://localhost:8080/",
          "height": 852
        },
        "id": "fg7halAJbuZp",
        "outputId": "face41ce-cd4b-4e73-a085-c636ffc1041b"
      },
      "source": [
        "make_confusion_matrix(y_true=test_labels,\n",
        "                      y_pred=y_preds,\n",
        "                      classes=class_names,\n",
        "                      figsize=(15,15),\n",
        "                      text_size=10)"
      ],
      "execution_count": 25,
      "outputs": [
        {
          "output_type": "display_data",
          "data": {
            "image/png": "[encoded data removed]",
            "text/plain": [
              "<Figure size 1080x1080 with 2 Axes>"
            ]
          },
          "metadata": {
            "tags": [],
            "needs_background": "light"
          }
        }
      ]
    },
    {
      "cell_type": "code",
      "metadata": {
        "id": "PFX5vMP1byhO"
      },
      "source": [
        ""
      ],
      "execution_count": null,
      "outputs": []
    }
  ]
}
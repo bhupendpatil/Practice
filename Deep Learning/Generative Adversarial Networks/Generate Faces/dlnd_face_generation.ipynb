{
  "nbformat": 4,
  "nbformat_minor": 0,
  "metadata": {
    "colab": {
      "name": "dlnd_face_generation.ipynb",
      "provenance": [],
      "collapsed_sections": [],
      "machine_shape": "hm"
    },
    "kernelspec": {
      "name": "python3",
      "display_name": "Python 3"
    },
    "accelerator": "GPU"
  },
  "cells": [
    {
      "cell_type": "markdown",
      "metadata": {
        "id": "GjwxWJA0NPY4"
      },
      "source": [
        "# Face Generation\r\n",
        "In this project, you'll use generative adversarial networks to generate new images of faces.\r\n",
        "### Get the Data\r\n",
        "You'll be using two datasets in this project:\r\n",
        "- MNIST\r\n",
        "- CelebA\r\n",
        "\r\n",
        "Since the celebA dataset is complex and you're doing GANs in a project for the first time, we want you to test your neural network on MNIST before CelebA.  Running the GANs on MNIST will allow you to see how well your model trains sooner.\r\n",
        "\r\n",
        "If you're using [FloydHub](https://www.floydhub.com/), set `data_dir` to \"/input\" and use the [FloydHub data ID](http://docs.floydhub.com/home/using_datasets/) \"R5KrjnANiKVhLWAkpXhNBe\"."
      ]
    },
    {
      "cell_type": "code",
      "metadata": {
        "id": "cUY3hMvYN0me"
      },
      "source": [
        "%tensorflow_version 1.x\r\n",
        "\r\n",
        "from tensorflow.python.util import deprecation\r\n",
        "deprecation._PRINT_DEPRECATION_WARNINGS = False"
      ],
      "execution_count": null,
      "outputs": []
    },
    {
      "cell_type": "code",
      "metadata": {
        "id": "3cFSRevsN7Qz"
      },
      "source": [
        "!rm -r *\r\n",
        "!wget -q https://raw.githubusercontent.com/bhupendpatil/Practice/master/Deep%20Learning/Generative%20Adversarial%20Networks/Generate%20Faces/problem_unittests.py\r\n",
        "!wget -q https://raw.githubusercontent.com/bhupendpatil/Practice/master/Deep%20Learning/Generative%20Adversarial%20Networks/Generate%20Faces/helper.py"
      ],
      "execution_count": null,
      "outputs": []
    },
    {
      "cell_type": "code",
      "metadata": {
        "id": "3eixCuFSNSUS"
      },
      "source": [
        "data_dir = './data'\r\n",
        "\r\n",
        "# FloydHub - Use with data ID \"R5KrjnANiKVhLWAkpXhNBe\"\r\n",
        "#data_dir = '/input'\r\n",
        "\r\n",
        "\r\n",
        "\"\"\"\r\n",
        "DON'T MODIFY ANYTHING IN THIS CELL\r\n",
        "\"\"\"\r\n",
        "import helper\r\n",
        "\r\n",
        "helper.download_extract('mnist', data_dir)\r\n",
        "helper.download_extract('celeba', data_dir)\r\n",
        "print(\"Done\")"
      ],
      "execution_count": null,
      "outputs": []
    },
    {
      "cell_type": "markdown",
      "metadata": {
        "id": "bcF6QAb0NTud"
      },
      "source": [
        "## Explore the Data\r\n",
        "### MNIST\r\n",
        "As you're aware, the [MNIST](http://yann.lecun.com/exdb/mnist/) dataset contains images of handwritten digits. You can view the first number of examples by changing `show_n_images`. "
      ]
    },
    {
      "cell_type": "code",
      "metadata": {
        "id": "m_FnaHQwNUh9"
      },
      "source": [
        "show_n_images = 25\r\n",
        "\r\n",
        "\"\"\"\r\n",
        "DON'T MODIFY ANYTHING IN THIS CELL\r\n",
        "\"\"\"\r\n",
        "%matplotlib inline\r\n",
        "import os\r\n",
        "from glob import glob\r\n",
        "from matplotlib import pyplot\r\n",
        "\r\n",
        "mnist_images = helper.get_batch(glob(os.path.join(data_dir, 'mnist/*.jpg'))[:show_n_images], 28, 28, 'L')\r\n",
        "pyplot.imshow(helper.images_square_grid(mnist_images, 'L'), cmap='gray')"
      ],
      "execution_count": null,
      "outputs": []
    },
    {
      "cell_type": "markdown",
      "metadata": {
        "id": "jgw90NR8NV3t"
      },
      "source": [
        "### CelebA\r\n",
        "The [CelebFaces Attributes Dataset (CelebA)](http://mmlab.ie.cuhk.edu.hk/projects/CelebA.html) dataset contains over 200,000 celebrity images with annotations.  Since you're going to be generating faces, you won't need the annotations.  You can view the first number of examples by changing `show_n_images`."
      ]
    },
    {
      "cell_type": "code",
      "metadata": {
        "id": "qWhsGFWfNW_d"
      },
      "source": [
        "show_n_images = 25\r\n",
        "\r\n",
        "\"\"\"\r\n",
        "DON'T MODIFY ANYTHING IN THIS CELL\r\n",
        "\"\"\"\r\n",
        "mnist_images = helper.get_batch(glob(os.path.join(data_dir, 'img_align_celeba/*.jpg'))[:show_n_images], 28, 28, 'RGB')\r\n",
        "pyplot.imshow(helper.images_square_grid(mnist_images, 'RGB'))"
      ],
      "execution_count": null,
      "outputs": []
    },
    {
      "cell_type": "markdown",
      "metadata": {
        "id": "vXq9WJNwNYTV"
      },
      "source": [
        "## Preprocess the Data\r\n",
        "Since the project's main focus is on building the GANs, we'll preprocess the data for you.  The values of the MNIST and CelebA dataset will be in the range of -0.5 to 0.5 of 28x28 dimensional images.  The CelebA images will be cropped to remove parts of the image that don't include a face, then resized down to 28x28.\r\n",
        "\r\n",
        "The MNIST images are black and white images with a single [color channel](https://en.wikipedia.org/wiki/Channel_(digital_image%29) while the CelebA images have [3 color channels (RGB color channel)](https://en.wikipedia.org/wiki/Channel_(digital_image%29#RGB_Images).\r\n",
        "## Build the Neural Network\r\n",
        "You'll build the components necessary to build a GANs by implementing the following functions below:\r\n",
        "- `model_inputs`\r\n",
        "- `discriminator`\r\n",
        "- `generator`\r\n",
        "- `model_loss`\r\n",
        "- `model_opt`\r\n",
        "- `train`\r\n",
        "\r\n",
        "### Check the Version of TensorFlow and Access to GPU\r\n",
        "This will check to make sure you have the correct version of TensorFlow and access to a GPU"
      ]
    },
    {
      "cell_type": "code",
      "metadata": {
        "id": "6-XhZzYsNZbP"
      },
      "source": [
        "\"\"\"\r\n",
        "DON'T MODIFY ANYTHING IN THIS CELL\r\n",
        "\"\"\"\r\n",
        "from distutils.version import LooseVersion\r\n",
        "import warnings\r\n",
        "import tensorflow as tf\r\n",
        "\r\n",
        "# Check TensorFlow Version\r\n",
        "assert LooseVersion(tf.__version__) >= LooseVersion('1.0'), 'Please use TensorFlow version 1.0 or newer.  You are using {}'.format(tf.__version__)\r\n",
        "print('TensorFlow Version: {}'.format(tf.__version__))\r\n",
        "\r\n",
        "# Check for a GPU\r\n",
        "if not tf.test.gpu_device_name():\r\n",
        "    warnings.warn('No GPU found. Please use a GPU to train your neural network.')\r\n",
        "else:\r\n",
        "    print('Default GPU Device: {}'.format(tf.test.gpu_device_name()))"
      ],
      "execution_count": null,
      "outputs": []
    },
    {
      "cell_type": "markdown",
      "metadata": {
        "id": "qcTPaPuQNbPQ"
      },
      "source": [
        "### Input\r\n",
        "Implement the `model_inputs` function to create TF Placeholders for the Neural Network. It should create the following placeholders:\r\n",
        "- Real input images placeholder with rank 4 using `image_width`, `image_height`, and `image_channels`.\r\n",
        "- Z input placeholder with rank 2 using `z_dim`.\r\n",
        "- Learning rate placeholder with rank 0.\r\n",
        "\r\n",
        "Return the placeholders in the following the tuple (tensor of real input images, tensor of z data)"
      ]
    },
    {
      "cell_type": "code",
      "metadata": {
        "id": "SiGsNM2ANcV-"
      },
      "source": [
        "import problem_unittests as tests\r\n",
        "\r\n",
        "def model_inputs(image_width, image_height, image_channels, z_dim):\r\n",
        "    \"\"\"\r\n",
        "    Create the model inputs\r\n",
        "    :param image_width: The input image width\r\n",
        "    :param image_height: The input image height\r\n",
        "    :param image_channels: The number of image channels\r\n",
        "    :param z_dim: The dimension of Z\r\n",
        "    :return: Tuple of (tensor of real input images, tensor of z data, learning rate)\r\n",
        "    \"\"\"\r\n",
        "    # TODO: Implement Function\r\n",
        "\r\n",
        "    return None, None, None\r\n",
        "\r\n",
        "\r\n",
        "\"\"\"\r\n",
        "DON'T MODIFY ANYTHING IN THIS CELL THAT IS BELOW THIS LINE\r\n",
        "\"\"\"\r\n",
        "tests.test_model_inputs(model_inputs)"
      ],
      "execution_count": null,
      "outputs": []
    },
    {
      "cell_type": "markdown",
      "metadata": {
        "id": "cR1cWGEpNdyA"
      },
      "source": [
        "### Discriminator\r\n",
        "Implement `discriminator` to create a discriminator neural network that discriminates on `images`.  This function should be able to reuse the variables in the neural network.  Use [`tf.variable_scope`](https://www.tensorflow.org/api_docs/python/tf/variable_scope) with a scope name of \"discriminator\" to allow the variables to be reused.  The function should return a tuple of (tensor output of the discriminator, tensor logits of the discriminator)."
      ]
    },
    {
      "cell_type": "code",
      "metadata": {
        "id": "K_beH1yCNe7s"
      },
      "source": [
        "def discriminator(images, reuse=False):\r\n",
        "    \"\"\"\r\n",
        "    Create the discriminator network\r\n",
        "    :param images: Tensor of input image(s)\r\n",
        "    :param reuse: Boolean if the weights should be reused\r\n",
        "    :return: Tuple of (tensor output of the discriminator, tensor logits of the discriminator)\r\n",
        "    \"\"\"\r\n",
        "    # TODO: Implement Function\r\n",
        "\r\n",
        "    return None, None\r\n",
        "\r\n",
        "\r\n",
        "\"\"\"\r\n",
        "DON'T MODIFY ANYTHING IN THIS CELL THAT IS BELOW THIS LINE\r\n",
        "\"\"\"\r\n",
        "tests.test_discriminator(discriminator, tf)"
      ],
      "execution_count": null,
      "outputs": []
    },
    {
      "cell_type": "markdown",
      "metadata": {
        "id": "5CebdypqNf8l"
      },
      "source": [
        "### Generator\r\n",
        "Implement `generator` to generate an image using `z`. This function should be able to reuse the variables in the neural network.  Use [`tf.variable_scope`](https://www.tensorflow.org/api_docs/python/tf/variable_scope) with a scope name of \"generator\" to allow the variables to be reused. The function should return the generated 28 x 28 x `out_channel_dim` images."
      ]
    },
    {
      "cell_type": "code",
      "metadata": {
        "id": "f0v372Z_Ng0U"
      },
      "source": [
        "def generator(z, out_channel_dim, is_train=True):\r\n",
        "    \"\"\"\r\n",
        "    Create the generator network\r\n",
        "    :param z: Input z\r\n",
        "    :param out_channel_dim: The number of channels in the output image\r\n",
        "    :param is_train: Boolean if generator is being used for training\r\n",
        "    :return: The tensor output of the generator\r\n",
        "    \"\"\"\r\n",
        "    # TODO: Implement Function\r\n",
        "    \r\n",
        "    return None\r\n",
        "\r\n",
        "\r\n",
        "\"\"\"\r\n",
        "DON'T MODIFY ANYTHING IN THIS CELL THAT IS BELOW THIS LINE\r\n",
        "\"\"\"\r\n",
        "tests.test_generator(generator, tf)"
      ],
      "execution_count": null,
      "outputs": []
    },
    {
      "cell_type": "markdown",
      "metadata": {
        "id": "QnqJVo_sNiOC"
      },
      "source": [
        "### Loss\r\n",
        "Implement `model_loss` to build the GANs for training and calculate the loss.  The function should return a tuple of (discriminator loss, generator loss).  Use the following functions you implemented:\r\n",
        "- `discriminator(images, reuse=False)`\r\n",
        "- `generator(z, out_channel_dim, is_train=True)`"
      ]
    },
    {
      "cell_type": "code",
      "metadata": {
        "id": "nRhA2godNjdc"
      },
      "source": [
        "def model_loss(input_real, input_z, out_channel_dim):\r\n",
        "    \"\"\"\r\n",
        "    Get the loss for the discriminator and generator\r\n",
        "    :param input_real: Images from the real dataset\r\n",
        "    :param input_z: Z input\r\n",
        "    :param out_channel_dim: The number of channels in the output image\r\n",
        "    :return: A tuple of (discriminator loss, generator loss)\r\n",
        "    \"\"\"\r\n",
        "    # TODO: Implement Function\r\n",
        "    \r\n",
        "    return None, None\r\n",
        "\r\n",
        "\r\n",
        "\"\"\"\r\n",
        "DON'T MODIFY ANYTHING IN THIS CELL THAT IS BELOW THIS LINE\r\n",
        "\"\"\"\r\n",
        "tests.test_model_loss(model_loss)"
      ],
      "execution_count": null,
      "outputs": []
    },
    {
      "cell_type": "markdown",
      "metadata": {
        "id": "O-cPm1cfNkse"
      },
      "source": [
        "### Optimization\r\n",
        "Implement `model_opt` to create the optimization operations for the GANs. Use [`tf.trainable_variables`](https://www.tensorflow.org/api_docs/python/tf/trainable_variables) to get all the trainable variables.  Filter the variables with names that are in the discriminator and generator scope names.  The function should return a tuple of (discriminator training operation, generator training operation)."
      ]
    },
    {
      "cell_type": "code",
      "metadata": {
        "id": "UrXKKQdeNlt4"
      },
      "source": [
        "def model_opt(d_loss, g_loss, learning_rate, beta1):\r\n",
        "    \"\"\"\r\n",
        "    Get optimization operations\r\n",
        "    :param d_loss: Discriminator loss Tensor\r\n",
        "    :param g_loss: Generator loss Tensor\r\n",
        "    :param learning_rate: Learning Rate Placeholder\r\n",
        "    :param beta1: The exponential decay rate for the 1st moment in the optimizer\r\n",
        "    :return: A tuple of (discriminator training operation, generator training operation)\r\n",
        "    \"\"\"\r\n",
        "    # TODO: Implement Function\r\n",
        "    \r\n",
        "    return None, None\r\n",
        "\r\n",
        "\r\n",
        "\"\"\"\r\n",
        "DON'T MODIFY ANYTHING IN THIS CELL THAT IS BELOW THIS LINE\r\n",
        "\"\"\"\r\n",
        "tests.test_model_opt(model_opt, tf)"
      ],
      "execution_count": null,
      "outputs": []
    },
    {
      "cell_type": "markdown",
      "metadata": {
        "id": "9qLOXagnNnKT"
      },
      "source": [
        "## Neural Network Training\r\n",
        "### Show Output\r\n",
        "Use this function to show the current output of the generator during training. It will help you determine how well the GANs is training."
      ]
    },
    {
      "cell_type": "code",
      "metadata": {
        "id": "n07hb7MPNoIr"
      },
      "source": [
        "\"\"\"\r\n",
        "DON'T MODIFY ANYTHING IN THIS CELL\r\n",
        "\"\"\"\r\n",
        "import numpy as np\r\n",
        "\r\n",
        "def show_generator_output(sess, n_images, input_z, out_channel_dim, image_mode):\r\n",
        "    \"\"\"\r\n",
        "    Show example output for the generator\r\n",
        "    :param sess: TensorFlow session\r\n",
        "    :param n_images: Number of Images to display\r\n",
        "    :param input_z: Input Z Tensor\r\n",
        "    :param out_channel_dim: The number of channels in the output image\r\n",
        "    :param image_mode: The mode to use for images (\"RGB\" or \"L\")\r\n",
        "    \"\"\"\r\n",
        "    cmap = None if image_mode == 'RGB' else 'gray'\r\n",
        "    z_dim = input_z.get_shape().as_list()[-1]\r\n",
        "    example_z = np.random.uniform(-1, 1, size=[n_images, z_dim])\r\n",
        "\r\n",
        "    samples = sess.run(\r\n",
        "        generator(input_z, out_channel_dim, False),\r\n",
        "        feed_dict={input_z: example_z})\r\n",
        "\r\n",
        "    images_grid = helper.images_square_grid(samples, image_mode)\r\n",
        "    pyplot.imshow(images_grid, cmap=cmap)\r\n",
        "    pyplot.show()"
      ],
      "execution_count": null,
      "outputs": []
    },
    {
      "cell_type": "markdown",
      "metadata": {
        "id": "zYttOqBFNpXL"
      },
      "source": [
        "### Train\r\n",
        "Implement `train` to build and train the GANs.  Use the following functions you implemented:\r\n",
        "- `model_inputs(image_width, image_height, image_channels, z_dim)`\r\n",
        "- `model_loss(input_real, input_z, out_channel_dim)`\r\n",
        "- `model_opt(d_loss, g_loss, learning_rate, beta1)`\r\n",
        "\r\n",
        "Use the `show_generator_output` to show `generator` output while you train. Running `show_generator_output` for every batch will drastically increase training time and increase the size of the notebook.  It's recommended to print the `generator` output every 100 batches."
      ]
    },
    {
      "cell_type": "code",
      "metadata": {
        "id": "JgJhLcLANqpD"
      },
      "source": [
        "def train(epoch_count, batch_size, z_dim, learning_rate, beta1, get_batches, data_shape, data_image_mode):\r\n",
        "    \"\"\"\r\n",
        "    Train the GAN\r\n",
        "    :param epoch_count: Number of epochs\r\n",
        "    :param batch_size: Batch Size\r\n",
        "    :param z_dim: Z dimension\r\n",
        "    :param learning_rate: Learning Rate\r\n",
        "    :param beta1: The exponential decay rate for the 1st moment in the optimizer\r\n",
        "    :param get_batches: Function to get batches\r\n",
        "    :param data_shape: Shape of the data\r\n",
        "    :param data_image_mode: The image mode to use for images (\"RGB\" or \"L\")\r\n",
        "    \"\"\"\r\n",
        "    # TODO: Build Model\r\n",
        "    \r\n",
        "    \r\n",
        "    with tf.Session() as sess:\r\n",
        "        sess.run(tf.global_variables_initializer())\r\n",
        "        for epoch_i in range(epoch_count):\r\n",
        "            for batch_images in get_batches(batch_size):\r\n",
        "                # TODO: Train Model\r\n",
        "                \r\n",
        "                "
      ],
      "execution_count": null,
      "outputs": []
    },
    {
      "cell_type": "markdown",
      "metadata": {
        "id": "4xMdILhPNr7G"
      },
      "source": [
        "### MNIST\r\n",
        "Test your GANs architecture on MNIST.  After 2 epochs, the GANs should be able to generate images that look like handwritten digits.  Make sure the loss of the generator is lower than the loss of the discriminator or close to 0."
      ]
    },
    {
      "cell_type": "code",
      "metadata": {
        "id": "bMzZQkIJNtD-"
      },
      "source": [
        "batch_size = None\r\n",
        "z_dim = None\r\n",
        "learning_rate = None\r\n",
        "beta1 = None\r\n",
        "\r\n",
        "\r\n",
        "\"\"\"\r\n",
        "DON'T MODIFY ANYTHING IN THIS CELL THAT IS BELOW THIS LINE\r\n",
        "\"\"\"\r\n",
        "epochs = 2\r\n",
        "\r\n",
        "mnist_dataset = helper.Dataset('mnist', glob(os.path.join(data_dir, 'mnist/*.jpg')))\r\n",
        "with tf.Graph().as_default():\r\n",
        "    train(epochs, batch_size, z_dim, learning_rate, beta1, mnist_dataset.get_batches,\r\n",
        "          mnist_dataset.shape, mnist_dataset.image_mode)"
      ],
      "execution_count": null,
      "outputs": []
    },
    {
      "cell_type": "markdown",
      "metadata": {
        "id": "LaiVzs0QNuOH"
      },
      "source": [
        "### CelebA\r\n",
        "Run your GANs on CelebA.  It will take around 20 minutes on the average GPU to run one epoch.  You can run the whole epoch or stop when it starts to generate realistic faces."
      ]
    },
    {
      "cell_type": "code",
      "metadata": {
        "id": "x5VnNL7tNvVL"
      },
      "source": [
        "batch_size = None\r\n",
        "z_dim = None\r\n",
        "learning_rate = None\r\n",
        "beta1 = None\r\n",
        "\r\n",
        "\r\n",
        "\"\"\"\r\n",
        "DON'T MODIFY ANYTHING IN THIS CELL THAT IS BELOW THIS LINE\r\n",
        "\"\"\"\r\n",
        "epochs = 1\r\n",
        "\r\n",
        "celeba_dataset = helper.Dataset('celeba', glob(os.path.join(data_dir, 'img_align_celeba/*.jpg')))\r\n",
        "with tf.Graph().as_default():\r\n",
        "    train(epochs, batch_size, z_dim, learning_rate, beta1, celeba_dataset.get_batches,\r\n",
        "          celeba_dataset.shape, celeba_dataset.image_mode)"
      ],
      "execution_count": null,
      "outputs": []
    },
    {
      "cell_type": "markdown",
      "metadata": {
        "id": "lipMQYA_Nwj1"
      },
      "source": [
        "### Submitting This Project\r\n",
        "When submitting this project, make sure to run all the cells before saving the notebook. Save the notebook file as \"dlnd_face_generation.ipynb\" and save it as a HTML file under \"File\" -> \"Download as\". Include the \"helper.py\" and \"problem_unittests.py\" files in your submission."
      ]
    }
  ]
}
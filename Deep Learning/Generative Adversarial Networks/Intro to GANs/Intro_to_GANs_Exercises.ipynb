{
  "nbformat": 4,
  "nbformat_minor": 0,
  "metadata": {
    "colab": {
      "name": "Intro_to_GANs_Exercises.ipynb",
      "provenance": [],
      "collapsed_sections": [],
      "machine_shape": "hm"
    },
    "kernelspec": {
      "name": "python3",
      "display_name": "Python 3"
    },
    "accelerator": "GPU"
  },
  "cells": [
    {
      "cell_type": "markdown",
      "metadata": {
        "id": "egc8xvBJxGsX"
      },
      "source": [
        "# Generative Adversarial Network\r\n",
        "\r\n",
        "In this notebook, we'll be building a generative adversarial network (GAN) trained on the MNIST dataset. From this, we'll be able to generate new handwritten digits!\r\n",
        "\r\n",
        "GANs were [first reported on](https://arxiv.org/abs/1406.2661) in 2014 from Ian Goodfellow and others in Yoshua Bengio's lab. Since then, GANs have exploded in popularity. Here are a few examples to check out:\r\n",
        "\r\n",
        "* [Pix2Pix](https://affinelayer.com/pixsrv/) \r\n",
        "* [CycleGAN](https://github.com/junyanz/CycleGAN)\r\n",
        "* [A whole list](https://github.com/wiseodd/generative-models)\r\n",
        "\r\n",
        "The idea behind GANs is that you have two networks, a generator $G$ and a discriminator $D$, competing against each other. The generator makes fake data to pass to the discriminator. The discriminator also sees real data and predicts if the data it's received is real or fake. The generator is trained to fool the discriminator, it wants to output data that looks _as close as possible_ to real data. And the discriminator is trained to figure out which data is real and which is fake. What ends up happening is that the generator learns to make data that is indistiguishable from real data to the discriminator.\r\n",
        "\r\n",
        "![GAN diagram](assets/gan_diagram.png)\r\n",
        "\r\n",
        "The general structure of a GAN is shown in the diagram above, using MNIST images as data. The latent sample is a random vector the generator uses to contruct it's fake images. As the generator learns through training, it figures out how to map these random vectors to recognizable images that can fool the discriminator.\r\n",
        "\r\n",
        "The output of the discriminator is a sigmoid function, where 0 indicates a fake image and 1 indicates an real image. If you're interested only in generating new images, you can throw out the discriminator after training. Now, let's see how we build this thing in TensorFlow."
      ]
    },
    {
      "cell_type": "code",
      "metadata": {
        "colab": {
          "base_uri": "https://localhost:8080/"
        },
        "id": "ijXuT5i3yDAw",
        "outputId": "1a43cb58-ee35-4e65-8613-ba0adf07d72f"
      },
      "source": [
        "%tensorflow_version 1.x\r\n",
        "\r\n",
        "from tensorflow.python.util import deprecation\r\n",
        "deprecation._PRINT_DEPRECATION_WARNINGS = False"
      ],
      "execution_count": 1,
      "outputs": [
        {
          "output_type": "stream",
          "text": [
            "TensorFlow 1.x selected.\n"
          ],
          "name": "stdout"
        }
      ]
    },
    {
      "cell_type": "code",
      "metadata": {
        "id": "yrfrR0XtxHs6"
      },
      "source": [
        "%matplotlib inline\r\n",
        "\r\n",
        "import pickle as pkl\r\n",
        "import numpy as np\r\n",
        "import tensorflow as tf\r\n",
        "import matplotlib.pyplot as plt"
      ],
      "execution_count": 2,
      "outputs": []
    },
    {
      "cell_type": "code",
      "metadata": {
        "id": "6vd3SgZCylTX"
      },
      "source": [
        "!rm -r *\r\n",
        "!wget -q https://github.com/bhupendpatil/Practice/raw/master/DataSet/mnist.zip\r\n",
        "!unzip -q mnist.zip\r\n",
        "!rm mnist.zip"
      ],
      "execution_count": 3,
      "outputs": []
    },
    {
      "cell_type": "code",
      "metadata": {
        "colab": {
          "base_uri": "https://localhost:8080/"
        },
        "id": "KeT5mI42xJYr",
        "outputId": "c35c3518-f6ac-4aae-cce7-be476178ec21"
      },
      "source": [
        "from mnist import input_data\r\n",
        "mnist = input_data.read_data_sets('MNIST_data')"
      ],
      "execution_count": 4,
      "outputs": [
        {
          "output_type": "stream",
          "text": [
            "Successfully downloaded train-images-idx3-ubyte.gz 9912422 bytes.\n",
            "Extracting MNIST_data/train-images-idx3-ubyte.gz\n",
            "Successfully downloaded train-labels-idx1-ubyte.gz 28881 bytes.\n",
            "Extracting MNIST_data/train-labels-idx1-ubyte.gz\n",
            "Successfully downloaded t10k-images-idx3-ubyte.gz 1648877 bytes.\n",
            "Extracting MNIST_data/t10k-images-idx3-ubyte.gz\n",
            "Successfully downloaded t10k-labels-idx1-ubyte.gz 4542 bytes.\n",
            "Extracting MNIST_data/t10k-labels-idx1-ubyte.gz\n"
          ],
          "name": "stdout"
        }
      ]
    },
    {
      "cell_type": "markdown",
      "metadata": {
        "id": "pfs-sFfKxL8Q"
      },
      "source": [
        "## Model Inputs\r\n",
        "\r\n",
        "First we need to create the inputs for our graph. We need two inputs, one for the discriminator and one for the generator. Here we'll call the discriminator input `inputs_real` and the generator input `inputs_z`. We'll assign them the appropriate sizes for each of the networks.\r\n",
        "\r\n",
        ">**Exercise:** Finish the `model_inputs` function below. Create the placeholders for `inputs_real` and `inputs_z` using the input sizes `real_dim` and `z_dim` respectively."
      ]
    },
    {
      "cell_type": "code",
      "metadata": {
        "id": "cw3_RyPZxNFx"
      },
      "source": [
        "def model_inputs(real_dim, z_dim):\r\n",
        "    inputs_real = tf.placeholder(tf.float32,(None,real_dim),name=\"input_rea;\")\r\n",
        "    inputs_z = tf.placeholder(tf.float32,(None,z_dim),name=\"inputs_z\")\r\n",
        "    \r\n",
        "    return inputs_real, inputs_z"
      ],
      "execution_count": 5,
      "outputs": []
    },
    {
      "cell_type": "markdown",
      "metadata": {
        "id": "OtTu3cj4xOEb"
      },
      "source": [
        "## Generator network\r\n",
        "\r\n",
        "![GAN Network](assets/gan_network.png)\r\n",
        "\r\n",
        "Here we'll build the generator network. To make this network a universal function approximator, we'll need at least one hidden layer. We should use a leaky ReLU to allow gradients to flow backwards through the layer unimpeded. A leaky ReLU is like a normal ReLU, except that there is a small non-zero output for negative input values.\r\n",
        "\r\n",
        "#### Variable Scope\r\n",
        "Here we need to use `tf.variable_scope` for two reasons. Firstly, we're going to make sure all the variable names start with `generator`. Similarly, we'll prepend `discriminator` to the discriminator variables. This will help out later when we're training the separate networks.\r\n",
        "\r\n",
        "We could just use `tf.name_scope` to set the names, but we also want to reuse these networks with different inputs. For the generator, we're going to train it, but also _sample from it_ as we're training and after training. The discriminator will need to share variables between the fake and real input images. So, we can use the `reuse` keyword for `tf.variable_scope` to tell TensorFlow to reuse the variables instead of creating new ones if we build the graph again.\r\n",
        "\r\n",
        "To use `tf.variable_scope`, you use a `with` statement:\r\n",
        "```python\r\n",
        "with tf.variable_scope('scope_name', reuse=False):\r\n",
        "    # code here\r\n",
        "```\r\n",
        "\r\n",
        "Here's more from [the TensorFlow documentation](https://www.tensorflow.org/programmers_guide/variable_scope#the_problem) to get another look at using `tf.variable_scope`.\r\n",
        "\r\n",
        "#### Leaky ReLU\r\n",
        "TensorFlow doesn't provide an operation for leaky ReLUs, so we'll need to make one . For this you can just take the outputs from a linear fully connected layer and pass them to `tf.maximum`. Typically, a parameter `alpha` sets the magnitude of the output for negative values. So, the output for negative input (`x`) values is `alpha*x`, and the output for positive `x` is `x`:\r\n",
        "$$\r\n",
        "f(x) = max(\\alpha * x, x)\r\n",
        "$$\r\n",
        "\r\n",
        "#### Tanh Output\r\n",
        "The generator has been found to perform the best with $tanh$ for the generator output. This means that we'll have to rescale the MNIST images to be between -1 and 1, instead of 0 and 1.\r\n",
        "\r\n",
        ">**Exercise:** Implement the generator network in the function below. You'll need to return the tanh output. Make sure to wrap your code in a variable scope, with 'generator' as the scope name, and pass the `reuse` keyword argument from the function to `tf.variable_scope`."
      ]
    },
    {
      "cell_type": "code",
      "metadata": {
        "id": "Ep-rvrADxPfr"
      },
      "source": [
        "def generator(z, out_dim, n_units=128, reuse=False,  alpha=0.01):\r\n",
        "    ''' Build the generator network.\r\n",
        "    \r\n",
        "        Arguments\r\n",
        "        ---------\r\n",
        "        z : Input tensor for the generator\r\n",
        "        out_dim : Shape of the generator output\r\n",
        "        n_units : Number of units in hidden layer\r\n",
        "        reuse : Reuse the variables with tf.variable_scope\r\n",
        "        alpha : leak parameter for leaky ReLU\r\n",
        "        \r\n",
        "        Returns\r\n",
        "        -------\r\n",
        "        out: \r\n",
        "    '''\r\n",
        "    with tf.variable_scope(\"generator\",reuse=False): # finish this\r\n",
        "        # Hidden layer\r\n",
        "        h1 = tf.layers.dense(z,n_units,activation=None)\r\n",
        "        # Leaky ReLU\r\n",
        "        h1 = tf.maximum(alpha*h1,h1)\r\n",
        "        \r\n",
        "        # Logits and tanh output\r\n",
        "        logits = tf.layers.dense(h1,out_dim,activation=None)\r\n",
        "        out = tf.tanh(logits)\r\n",
        "        \r\n",
        "        return out"
      ],
      "execution_count": 6,
      "outputs": []
    },
    {
      "cell_type": "markdown",
      "metadata": {
        "id": "pEuMZhcbxQx6"
      },
      "source": [
        "## Discriminator\r\n",
        "\r\n",
        "The discriminator network is almost exactly the same as the generator network, except that we're using a sigmoid output layer.\r\n",
        "\r\n",
        ">**Exercise:** Implement the discriminator network in the function below. Same as above, you'll need to return both the logits and the sigmoid output. Make sure to wrap your code in a variable scope, with 'discriminator' as the scope name, and pass the `reuse` keyword argument from the function arguments to `tf.variable_scope`."
      ]
    },
    {
      "cell_type": "code",
      "metadata": {
        "id": "AAAkd7CExSY5"
      },
      "source": [
        "def discriminator(x, n_units=128, reuse=False, alpha=0.01):\r\n",
        "    ''' Build the discriminator network.\r\n",
        "    \r\n",
        "        Arguments\r\n",
        "        ---------\r\n",
        "        x : Input tensor for the discriminator\r\n",
        "        n_units: Number of units in hidden layer\r\n",
        "        reuse : Reuse the variables with tf.variable_scope\r\n",
        "        alpha : leak parameter for leaky ReLU\r\n",
        "        \r\n",
        "        Returns\r\n",
        "        -------\r\n",
        "        out, logits: \r\n",
        "    '''\r\n",
        "    with tf.variable_scope # finish this\r\n",
        "        # Hidden layer\r\n",
        "        h1 =\r\n",
        "        # Leaky ReLU\r\n",
        "        h1 =\r\n",
        "        \r\n",
        "        logits =\r\n",
        "        out =\r\n",
        "        \r\n",
        "        return out, logits"
      ],
      "execution_count": null,
      "outputs": []
    },
    {
      "cell_type": "markdown",
      "metadata": {
        "id": "voy4rNbKxUVr"
      },
      "source": [
        "## Hyperparameters"
      ]
    },
    {
      "cell_type": "code",
      "metadata": {
        "id": "BvLsSWjXxVaS"
      },
      "source": [
        "# Size of input image to discriminator\r\n",
        "input_size = 784 # 28x28 MNIST images flattened\r\n",
        "# Size of latent vector to generator\r\n",
        "z_size = 100\r\n",
        "# Sizes of hidden layers in generator and discriminator\r\n",
        "g_hidden_size = 128\r\n",
        "d_hidden_size = 128\r\n",
        "# Leak factor for leaky ReLU\r\n",
        "alpha = 0.01\r\n",
        "# Label smoothing \r\n",
        "smooth = 0.1"
      ],
      "execution_count": null,
      "outputs": []
    },
    {
      "cell_type": "markdown",
      "metadata": {
        "id": "8Te_xEFzxW8i"
      },
      "source": [
        "## Build network\r\n",
        "\r\n",
        "Now we're building the network from the functions defined above.\r\n",
        "\r\n",
        "First is to get our inputs, `input_real, input_z` from `model_inputs` using the sizes of the input and z.\r\n",
        "\r\n",
        "Then, we'll create the generator, `generator(input_z, input_size)`. This builds the generator with the appropriate input and output sizes.\r\n",
        "\r\n",
        "Then the discriminators. We'll build two of them, one for real data and one for fake data. Since we want the weights to be the same for both real and fake data, we need to reuse the variables. For the fake data, we're getting it from the generator as `g_model`. So the real data discriminator is `discriminator(input_real)` while the fake discriminator is `discriminator(g_model, reuse=True)`.\r\n",
        "\r\n",
        ">**Exercise:** Build the network from the functions you defined earlier."
      ]
    },
    {
      "cell_type": "code",
      "metadata": {
        "id": "1bhmbTe4xYAK"
      },
      "source": [
        "tf.reset_default_graph()\r\n",
        "# Create our input placeholders\r\n",
        "input_real, input_z = \r\n",
        "\r\n",
        "# Generator network here\r\n",
        "g_model = \r\n",
        "# g_model is the generator output\r\n",
        "\r\n",
        "# Disriminator network here\r\n",
        "d_model_real, d_logits_real = \r\n",
        "d_model_fake, d_logits_fake = "
      ],
      "execution_count": null,
      "outputs": []
    },
    {
      "cell_type": "markdown",
      "metadata": {
        "id": "eMMlPLQ3xZPi"
      },
      "source": [
        "## Discriminator and Generator Losses\r\n",
        "\r\n",
        "Now we need to calculate the losses, which is a little tricky. For the discriminator, the total loss is the sum of the losses for real and fake images, `d_loss = d_loss_real + d_loss_fake`. The losses will be sigmoid cross-entropies, which we can get with `tf.nn.sigmoid_cross_entropy_with_logits`. We'll also wrap that in `tf.reduce_mean` to get the mean for all the images in the batch. So the losses will look something like \r\n",
        "\r\n",
        "```python\r\n",
        "tf.reduce_mean(tf.nn.sigmoid_cross_entropy_with_logits(logits=logits, labels=labels))\r\n",
        "```\r\n",
        "\r\n",
        "For the real image logits, we'll use `d_logits_real` which we got from the discriminator in the cell above. For the labels, we want them to be all ones, since these are all real images. To help the discriminator generalize better, the labels are reduced a bit from 1.0 to 0.9, for example,  using the parameter `smooth`. This is known as label smoothing, typically used with classifiers to improve performance. In TensorFlow, it looks something like `labels = tf.ones_like(tensor) * (1 - smooth)`\r\n",
        "\r\n",
        "The discriminator loss for the fake data is similar. The logits are `d_logits_fake`, which we got from passing the generator output to the discriminator. These fake logits are used with labels of all zeros. Remember that we want the discriminator to output 1 for real images and 0 for fake images, so we need to set up the losses to reflect that.\r\n",
        "\r\n",
        "Finally, the generator losses are using `d_logits_fake`, the fake image logits. But, now the labels are all ones. The generator is trying to fool the discriminator, so it wants to discriminator to output ones for fake images.\r\n",
        "\r\n",
        ">**Exercise:** Calculate the losses for the discriminator and the generator. There are two discriminator losses, one for real images and one for fake images. For the real image loss, use the real logits and (smoothed) labels of ones. For the fake image loss, use the fake logits with labels of all zeros. The total discriminator loss is the sum of those two losses. Finally, the generator loss again uses the fake logits from the discriminator, but this time the labels are all ones because the generator wants to fool the discriminator."
      ]
    },
    {
      "cell_type": "code",
      "metadata": {
        "id": "9uXdKLcOxakB"
      },
      "source": [
        "# Calculate losses\r\n",
        "d_loss_real = \r\n",
        "\r\n",
        "d_loss_fake = \r\n",
        "\r\n",
        "d_loss = \r\n",
        "\r\n",
        "g_loss = "
      ],
      "execution_count": null,
      "outputs": []
    },
    {
      "cell_type": "markdown",
      "metadata": {
        "id": "Q1nl3cGZxbx5"
      },
      "source": [
        "## Optimizers\r\n",
        "\r\n",
        "We want to update the generator and discriminator variables separately. So we need to get the variables for each part and build optimizers for the two parts. To get all the trainable variables, we use `tf.trainable_variables()`. This creates a list of all the variables we've defined in our graph.\r\n",
        "\r\n",
        "For the generator optimizer, we only want to generator variables. Our past selves were nice and used a variable scope to start all of our generator variable names with `generator`. So, we just need to iterate through the list from `tf.trainable_variables()` and keep variables that start with `generator`. Each variable object has an attribute `name` which holds the name of the variable as a string (`var.name == 'weights_0'` for instance). \r\n",
        "\r\n",
        "We can do something similar with the discriminator. All the variables in the discriminator start with `discriminator`.\r\n",
        "\r\n",
        "Then, in the optimizer we pass the variable lists to the `var_list` keyword argument of the `minimize` method. This tells the optimizer to only update the listed variables. Something like `tf.train.AdamOptimizer().minimize(loss, var_list=var_list)` will only train the variables in `var_list`.\r\n",
        "\r\n",
        ">**Exercise: ** Below, implement the optimizers for the generator and discriminator. First you'll need to get a list of trainable variables, then split that list into two lists, one for the generator variables and another for the discriminator variables. Finally, using `AdamOptimizer`, create an optimizer for each network that update the network variables separately."
      ]
    },
    {
      "cell_type": "code",
      "metadata": {
        "id": "1bZjVVzTxdYG"
      },
      "source": [
        "# Optimizers\r\n",
        "learning_rate = 0.002\r\n",
        "\r\n",
        "# Get the trainable_variables, split into G and D parts\r\n",
        "t_vars = \r\n",
        "g_vars = \r\n",
        "d_vars = \r\n",
        "\r\n",
        "d_train_opt = \r\n",
        "g_train_opt = "
      ],
      "execution_count": null,
      "outputs": []
    },
    {
      "cell_type": "markdown",
      "metadata": {
        "id": "9njlZKeTxe9p"
      },
      "source": [
        "## Training"
      ]
    },
    {
      "cell_type": "code",
      "metadata": {
        "id": "b0F6-ntUxgCZ"
      },
      "source": [
        "batch_size = 100\r\n",
        "epochs = 100\r\n",
        "samples = []\r\n",
        "losses = []\r\n",
        "saver = tf.train.Saver(var_list = g_vars)\r\n",
        "with tf.Session() as sess:\r\n",
        "    sess.run(tf.global_variables_initializer())\r\n",
        "    for e in range(epochs):\r\n",
        "        for ii in range(mnist.train.num_examples//batch_size):\r\n",
        "            batch = mnist.train.next_batch(batch_size)\r\n",
        "            \r\n",
        "            # Get images, reshape and rescale to pass to D\r\n",
        "            batch_images = batch[0].reshape((batch_size, 784))\r\n",
        "            batch_images = batch_images*2 - 1\r\n",
        "            \r\n",
        "            # Sample random noise for G\r\n",
        "            batch_z = np.random.uniform(-1, 1, size=(batch_size, z_size))\r\n",
        "            \r\n",
        "            # Run optimizers\r\n",
        "            _ = sess.run(d_train_opt, feed_dict={input_real: batch_images, input_z: batch_z})\r\n",
        "            _ = sess.run(g_train_opt, feed_dict={input_z: batch_z})\r\n",
        "        \r\n",
        "        # At the end of each epoch, get the losses and print them out\r\n",
        "        train_loss_d = sess.run(d_loss, {input_z: batch_z, input_real: batch_images})\r\n",
        "        train_loss_g = g_loss.eval({input_z: batch_z})\r\n",
        "            \r\n",
        "        print(\"Epoch {}/{}...\".format(e+1, epochs),\r\n",
        "              \"Discriminator Loss: {:.4f}...\".format(train_loss_d),\r\n",
        "              \"Generator Loss: {:.4f}\".format(train_loss_g))    \r\n",
        "        # Save losses to view after training\r\n",
        "        losses.append((train_loss_d, train_loss_g))\r\n",
        "        \r\n",
        "        # Sample from generator as we're training for viewing afterwards\r\n",
        "        sample_z = np.random.uniform(-1, 1, size=(16, z_size))\r\n",
        "        gen_samples = sess.run(\r\n",
        "                       generator(input_z, input_size, n_units=g_hidden_size, reuse=True, alpha=alpha),\r\n",
        "                       feed_dict={input_z: sample_z})\r\n",
        "        samples.append(gen_samples)\r\n",
        "        saver.save(sess, './checkpoints/generator.ckpt')\r\n",
        "\r\n",
        "# Save training generator samples\r\n",
        "with open('train_samples.pkl', 'wb') as f:\r\n",
        "    pkl.dump(samples, f)"
      ],
      "execution_count": null,
      "outputs": []
    },
    {
      "cell_type": "markdown",
      "metadata": {
        "id": "pyHguWFYxiKk"
      },
      "source": [
        "## Training loss\r\n",
        "\r\n",
        "Here we'll check out the training losses for the generator and discriminator."
      ]
    },
    {
      "cell_type": "code",
      "metadata": {
        "id": "BoJytRjgxjQh"
      },
      "source": [
        "%matplotlib inline\r\n",
        "\r\n",
        "import matplotlib.pyplot as plt"
      ],
      "execution_count": null,
      "outputs": []
    },
    {
      "cell_type": "code",
      "metadata": {
        "id": "ukp2-yhrxkWK"
      },
      "source": [
        "fig, ax = plt.subplots()\r\n",
        "losses = np.array(losses)\r\n",
        "plt.plot(losses.T[0], label='Discriminator')\r\n",
        "plt.plot(losses.T[1], label='Generator')\r\n",
        "plt.title(\"Training Losses\")\r\n",
        "plt.legend()"
      ],
      "execution_count": null,
      "outputs": []
    },
    {
      "cell_type": "markdown",
      "metadata": {
        "id": "P1FE-2QJxlVS"
      },
      "source": [
        "## Generator samples from training\r\n",
        "\r\n",
        "Here we can view samples of images from the generator. First we'll look at images taken while training."
      ]
    },
    {
      "cell_type": "code",
      "metadata": {
        "id": "Ayli_ijYxmor"
      },
      "source": [
        "def view_samples(epoch, samples):\r\n",
        "    fig, axes = plt.subplots(figsize=(7,7), nrows=4, ncols=4, sharey=True, sharex=True)\r\n",
        "    for ax, img in zip(axes.flatten(), samples[epoch]):\r\n",
        "        ax.xaxis.set_visible(False)\r\n",
        "        ax.yaxis.set_visible(False)\r\n",
        "        im = ax.imshow(img.reshape((28,28)), cmap='Greys_r')\r\n",
        "    \r\n",
        "    return fig, axes"
      ],
      "execution_count": null,
      "outputs": []
    },
    {
      "cell_type": "code",
      "metadata": {
        "id": "bY6TIR2FxniT"
      },
      "source": [
        "# Load samples from generator taken while training\r\n",
        "with open('train_samples.pkl', 'rb') as f:\r\n",
        "    samples = pkl.load(f)"
      ],
      "execution_count": null,
      "outputs": []
    },
    {
      "cell_type": "markdown",
      "metadata": {
        "id": "MNLHXGINxogp"
      },
      "source": [
        "These are samples from the final training epoch. You can see the generator is able to reproduce numbers like 5, 7, 3, 0, 9. Since this is just a sample, it isn't representative of the full range of images this generator can make."
      ]
    },
    {
      "cell_type": "code",
      "metadata": {
        "id": "GYYrZLZ5xpxo"
      },
      "source": [
        "_ = view_samples(-1, samples)"
      ],
      "execution_count": null,
      "outputs": []
    },
    {
      "cell_type": "markdown",
      "metadata": {
        "id": "Tb_M_h7QxrCZ"
      },
      "source": [
        "Below I'm showing the generated images as the network was training, every 10 epochs. With bonus optical illusion!"
      ]
    },
    {
      "cell_type": "code",
      "metadata": {
        "id": "k89U7uKVxsTJ"
      },
      "source": [
        "rows, cols = 10, 6\r\n",
        "fig, axes = plt.subplots(figsize=(7,12), nrows=rows, ncols=cols, sharex=True, sharey=True)\r\n",
        "\r\n",
        "for sample, ax_row in zip(samples[::int(len(samples)/rows)], axes):\r\n",
        "    for img, ax in zip(sample[::int(len(sample)/cols)], ax_row):\r\n",
        "        ax.imshow(img.reshape((28,28)), cmap='Greys_r')\r\n",
        "        ax.xaxis.set_visible(False)\r\n",
        "        ax.yaxis.set_visible(False)"
      ],
      "execution_count": null,
      "outputs": []
    },
    {
      "cell_type": "markdown",
      "metadata": {
        "id": "PWs6wVNTxteB"
      },
      "source": [
        "It starts out as all noise. Then it learns to make only the center white and the rest black. You can start to see some number like structures appear out of the noise. Looks like 1, 9, and 8 show up first. Then, it learns 5 and 3."
      ]
    },
    {
      "cell_type": "markdown",
      "metadata": {
        "id": "IMywX2IXxuup"
      },
      "source": [
        "## Sampling from the generator\r\n",
        "\r\n",
        "We can also get completely new images from the generator by using the checkpoint we saved after training. We just need to pass in a new latent vector $z$ and we'll get new samples!"
      ]
    },
    {
      "cell_type": "code",
      "metadata": {
        "id": "Kyz8eP7xxv_M"
      },
      "source": [
        "saver = tf.train.Saver(var_list=g_vars)\r\n",
        "with tf.Session() as sess:\r\n",
        "    saver.restore(sess, tf.train.latest_checkpoint('checkpoints'))\r\n",
        "    sample_z = np.random.uniform(-1, 1, size=(16, z_size))\r\n",
        "    gen_samples = sess.run(\r\n",
        "                   generator(input_z, input_size, n_units=g_hidden_size, reuse=True, alpha=alpha),\r\n",
        "                   feed_dict={input_z: sample_z})\r\n",
        "view_samples(0, [gen_samples])"
      ],
      "execution_count": null,
      "outputs": []
    }
  ]
}
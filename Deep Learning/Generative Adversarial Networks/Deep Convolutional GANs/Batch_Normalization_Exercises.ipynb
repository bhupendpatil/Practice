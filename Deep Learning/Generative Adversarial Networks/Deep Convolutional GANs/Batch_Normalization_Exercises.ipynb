{
  "nbformat": 4,
  "nbformat_minor": 0,
  "metadata": {
    "colab": {
      "name": "Batch_Normalization_Exercises.ipynb",
      "provenance": [],
      "collapsed_sections": [],
      "machine_shape": "hm"
    },
    "kernelspec": {
      "name": "python3",
      "display_name": "Python 3"
    },
    "accelerator": "GPU"
  },
  "cells": [
    {
      "cell_type": "markdown",
      "metadata": {
        "id": "B7cSgApwD251"
      },
      "source": [
        "# Batch Normalization – Practice"
      ]
    },
    {
      "cell_type": "markdown",
      "metadata": {
        "id": "max6NS39D5Ca"
      },
      "source": [
        "Batch normalization is most useful when building deep neural networks. To demonstrate this, we'll create a convolutional neural network with 20 convolutional layers, followed by a fully connected layer. We'll use it to classify handwritten digits in the MNIST dataset, which should be familiar to you by now.\r\n",
        "\r\n",
        "This is **not** a good network for classfying MNIST digits. You could create a _much_ simpler network and get _better_ results. However, to give you hands-on experience with batch normalization, we had to make an example that was:\r\n",
        "1. Complicated enough that training would benefit from batch normalization.\r\n",
        "2. Simple enough that it would train quickly, since this is meant to be a short exercise just to give you some practice adding batch normalization.\r\n",
        "3. Simple enough that the architecture would be easy to understand without additional resources."
      ]
    },
    {
      "cell_type": "markdown",
      "metadata": {
        "id": "W_alxcWID697"
      },
      "source": [
        "This notebook includes two versions of the network that you can edit. The first uses higher level functions from the `tf.layers` package. The second is the same network, but uses only lower level functions in the `tf.nn` package.\r\n",
        "\r\n",
        "1. [Batch Normalization with `tf.layers.batch_normalization`](#example_1)\r\n",
        "2. [Batch Normalization with `tf.nn.batch_normalization`](#example_2)"
      ]
    },
    {
      "cell_type": "markdown",
      "metadata": {
        "id": "uUSTRbBOD8PA"
      },
      "source": [
        "The following cell loads TensorFlow, downloads the MNIST dataset if necessary, and loads it into an object named `mnist`. You'll need to run this cell before running anything else in the notebook."
      ]
    },
    {
      "cell_type": "code",
      "metadata": {
        "colab": {
          "base_uri": "https://localhost:8080/"
        },
        "id": "UsXnf0TeElla",
        "outputId": "a61633c9-a403-4b4a-f294-3d2aab38cc4c"
      },
      "source": [
        "%tensorflow_version 1.x\r\n",
        "\r\n",
        "from tensorflow.python.util import deprecation\r\n",
        "deprecation._PRINT_DEPRECATION_WARNINGS = False"
      ],
      "execution_count": 1,
      "outputs": [
        {
          "output_type": "stream",
          "text": [
            "TensorFlow 1.x selected.\n"
          ],
          "name": "stdout"
        }
      ]
    },
    {
      "cell_type": "code",
      "metadata": {
        "id": "pbQKOJuUEob4"
      },
      "source": [
        "!rm -r *\r\n",
        "!wget -q https://github.com/bhupendpatil/Practice/raw/master/DataSet/mnist.zip\r\n",
        "!unzip -q mnist.zip\r\n",
        "!rm mnist.zip"
      ],
      "execution_count": 2,
      "outputs": []
    },
    {
      "cell_type": "code",
      "metadata": {
        "colab": {
          "base_uri": "https://localhost:8080/"
        },
        "id": "tpqfo1moDzzs",
        "outputId": "7f21a9b9-12d7-48b7-aa67-362cb91f0c38"
      },
      "source": [
        "import tensorflow as tf\r\n",
        "from mnist import input_data\r\n",
        "mnist = input_data.read_data_sets(\"MNIST_data/\", one_hot=True, reshape=False)"
      ],
      "execution_count": 3,
      "outputs": [
        {
          "output_type": "stream",
          "text": [
            "Successfully downloaded train-images-idx3-ubyte.gz 9912422 bytes.\n",
            "Extracting MNIST_data/train-images-idx3-ubyte.gz\n",
            "Successfully downloaded train-labels-idx1-ubyte.gz 28881 bytes.\n",
            "Extracting MNIST_data/train-labels-idx1-ubyte.gz\n",
            "Successfully downloaded t10k-images-idx3-ubyte.gz 1648877 bytes.\n",
            "Extracting MNIST_data/t10k-images-idx3-ubyte.gz\n",
            "Successfully downloaded t10k-labels-idx1-ubyte.gz 4542 bytes.\n",
            "Extracting MNIST_data/t10k-labels-idx1-ubyte.gz\n"
          ],
          "name": "stdout"
        }
      ]
    },
    {
      "cell_type": "markdown",
      "metadata": {
        "id": "e4dpP0dpD0NE"
      },
      "source": [
        "# Batch Normalization using `tf.layers.batch_normalization`<a id=\"example_1\"></a>\r\n",
        "\r\n",
        "This version of the network uses `tf.layers` for almost everything, and expects you to implement batch normalization using [`tf.layers.batch_normalization`](https://www.tensorflow.org/api_docs/python/tf/layers/batch_normalization) "
      ]
    },
    {
      "cell_type": "markdown",
      "metadata": {
        "id": "xBu_jAMDEAoS"
      },
      "source": [
        "We'll use the following function to create fully connected layers in our network. We'll create them with the specified number of neurons and a ReLU activation function.\r\n",
        "\r\n",
        "This version of the function does not include batch normalization."
      ]
    },
    {
      "cell_type": "code",
      "metadata": {
        "id": "mE8749qIEBfr"
      },
      "source": [
        "\"\"\"\r\n",
        "DO NOT MODIFY THIS CELL\r\n",
        "\"\"\"\r\n",
        "def fully_connected(prev_layer, num_units):\r\n",
        "    \"\"\"\r\n",
        "    Create a fully connectd layer with the given layer as input and the given number of neurons.\r\n",
        "    \r\n",
        "    :param prev_layer: Tensor\r\n",
        "        The Tensor that acts as input into this layer\r\n",
        "    :param num_units: int\r\n",
        "        The size of the layer. That is, the number of units, nodes, or neurons.\r\n",
        "    :returns Tensor\r\n",
        "        A new fully connected layer\r\n",
        "    \"\"\"\r\n",
        "    layer = tf.layers.dense(prev_layer, num_units, activation=tf.nn.relu)\r\n",
        "    return layer"
      ],
      "execution_count": 4,
      "outputs": []
    },
    {
      "cell_type": "markdown",
      "metadata": {
        "id": "KqSOU8ihEC65"
      },
      "source": [
        "We'll use the following function to create convolutional layers in our network. They are very basic: we're always using a 3x3 kernel, ReLU activation functions, strides of 1x1 on layers with even depths, and strides of 2x2 on layers with odd depths. We aren't bothering with pooling layers at all in this network.\r\n",
        "\r\n",
        "This version of the function does not include batch normalization."
      ]
    },
    {
      "cell_type": "code",
      "metadata": {
        "id": "ty_XQ1taEEFZ"
      },
      "source": [
        "\"\"\"\r\n",
        "DO NOT MODIFY THIS CELL\r\n",
        "\"\"\"\r\n",
        "def conv_layer(prev_layer, layer_depth):\r\n",
        "    \"\"\"\r\n",
        "    Create a convolutional layer with the given layer as input.\r\n",
        "    \r\n",
        "    :param prev_layer: Tensor\r\n",
        "        The Tensor that acts as input into this layer\r\n",
        "    :param layer_depth: int\r\n",
        "        We'll set the strides and number of feature maps based on the layer's depth in the network.\r\n",
        "        This is *not* a good way to make a CNN, but it helps us create this example with very little code.\r\n",
        "    :returns Tensor\r\n",
        "        A new convolutional layer\r\n",
        "    \"\"\"\r\n",
        "    strides = 2 if layer_depth % 3 == 0 else 1\r\n",
        "    conv_layer = tf.layers.conv2d(prev_layer, layer_depth*4, 3, strides, 'same', activation=tf.nn.relu)\r\n",
        "    return conv_layer"
      ],
      "execution_count": 5,
      "outputs": []
    },
    {
      "cell_type": "markdown",
      "metadata": {
        "id": "7a28x7iEEFMY"
      },
      "source": [
        "**Run the following cell**, along with the earlier cells (to load the dataset and define the necessary functions). \r\n",
        "\r\n",
        "This cell builds the network **without** batch normalization, then trains it on the MNIST dataset. It displays loss and accuracy data periodically while training."
      ]
    },
    {
      "cell_type": "code",
      "metadata": {
        "colab": {
          "base_uri": "https://localhost:8080/"
        },
        "id": "V50gIljYEGW6",
        "outputId": "e7087346-7aad-482b-97f3-9c3ae664abea"
      },
      "source": [
        "\"\"\"\r\n",
        "DO NOT MODIFY THIS CELL\r\n",
        "\"\"\"\r\n",
        "def train(num_batches, batch_size, learning_rate):\r\n",
        "    # Build placeholders for the input samples and labels \r\n",
        "    inputs = tf.placeholder(tf.float32, [None, 28, 28, 1])\r\n",
        "    labels = tf.placeholder(tf.float32, [None, 10])\r\n",
        "    \r\n",
        "    # Feed the inputs into a series of 20 convolutional layers \r\n",
        "    layer = inputs\r\n",
        "    for layer_i in range(1, 20):\r\n",
        "        layer = conv_layer(layer, layer_i)\r\n",
        "\r\n",
        "    # Flatten the output from the convolutional layers \r\n",
        "    orig_shape = layer.get_shape().as_list()\r\n",
        "    layer = tf.reshape(layer, shape=[-1, orig_shape[1] * orig_shape[2] * orig_shape[3]])\r\n",
        "\r\n",
        "    # Add one fully connected layer\r\n",
        "    layer = fully_connected(layer, 100)\r\n",
        "\r\n",
        "    # Create the output layer with 1 node for each \r\n",
        "    logits = tf.layers.dense(layer, 10)\r\n",
        "    \r\n",
        "    # Define loss and training operations\r\n",
        "    model_loss = tf.reduce_mean(tf.nn.sigmoid_cross_entropy_with_logits(logits=logits, labels=labels))\r\n",
        "    train_opt = tf.train.AdamOptimizer(learning_rate).minimize(model_loss)\r\n",
        "    \r\n",
        "    # Create operations to test accuracy\r\n",
        "    correct_prediction = tf.equal(tf.argmax(logits,1), tf.argmax(labels,1))\r\n",
        "    accuracy = tf.reduce_mean(tf.cast(correct_prediction, tf.float32))\r\n",
        "    \r\n",
        "    # Train and test the network\r\n",
        "    with tf.Session() as sess:\r\n",
        "        sess.run(tf.global_variables_initializer())\r\n",
        "        for batch_i in range(num_batches):\r\n",
        "            batch_xs, batch_ys = mnist.train.next_batch(batch_size)\r\n",
        "\r\n",
        "            # train this batch\r\n",
        "            sess.run(train_opt, {inputs: batch_xs, labels: batch_ys})\r\n",
        "            \r\n",
        "            # Periodically check the validation or training loss and accuracy\r\n",
        "            if batch_i % 100 == 0:\r\n",
        "                loss, acc = sess.run([model_loss, accuracy], {inputs: mnist.validation.images,\r\n",
        "                                                              labels: mnist.validation.labels})\r\n",
        "                print('Batch: {:>2}: Validation loss: {:>3.5f}, Validation accuracy: {:>3.5f}'.format(batch_i, loss, acc))\r\n",
        "            elif batch_i % 25 == 0:\r\n",
        "                loss, acc = sess.run([model_loss, accuracy], {inputs: batch_xs, labels: batch_ys})\r\n",
        "                print('Batch: {:>2}: Training loss: {:>3.5f}, Training accuracy: {:>3.5f}'.format(batch_i, loss, acc))\r\n",
        "\r\n",
        "        # At the end, score the final accuracy for both the validation and test sets\r\n",
        "        acc = sess.run(accuracy, {inputs: mnist.validation.images,\r\n",
        "                                  labels: mnist.validation.labels})\r\n",
        "        print('Final validation accuracy: {:>3.5f}'.format(acc))\r\n",
        "        acc = sess.run(accuracy, {inputs: mnist.test.images,\r\n",
        "                                  labels: mnist.test.labels})\r\n",
        "        print('Final test accuracy: {:>3.5f}'.format(acc))\r\n",
        "        \r\n",
        "        # Score the first 100 test images individually. This won't work if batch normalization isn't implemented correctly.\r\n",
        "        correct = 0\r\n",
        "        for i in range(100):\r\n",
        "            correct += sess.run(accuracy,feed_dict={inputs: [mnist.test.images[i]],\r\n",
        "                                                    labels: [mnist.test.labels[i]]})\r\n",
        "\r\n",
        "        print(\"Accuracy on 100 samples:\", correct/100)\r\n",
        "\r\n",
        "\r\n",
        "num_batches = 800\r\n",
        "batch_size = 64\r\n",
        "learning_rate = 0.002\r\n",
        "\r\n",
        "tf.reset_default_graph()\r\n",
        "with tf.Graph().as_default():\r\n",
        "    train(num_batches, batch_size, learning_rate)"
      ],
      "execution_count": 6,
      "outputs": [
        {
          "output_type": "stream",
          "text": [
            "Batch:  0: Validation loss: 0.69082, Validation accuracy: 0.09860\n",
            "Batch: 25: Training loss: 0.34277, Training accuracy: 0.06250\n",
            "Batch: 50: Training loss: 0.32889, Training accuracy: 0.04688\n",
            "Batch: 75: Training loss: 0.32620, Training accuracy: 0.07812\n",
            "Batch: 100: Validation loss: 0.32561, Validation accuracy: 0.09900\n",
            "Batch: 125: Training loss: 0.32773, Training accuracy: 0.04688\n",
            "Batch: 150: Training loss: 0.32607, Training accuracy: 0.07812\n",
            "Batch: 175: Training loss: 0.32291, Training accuracy: 0.09375\n",
            "Batch: 200: Validation loss: 0.32515, Validation accuracy: 0.09760\n",
            "Batch: 225: Training loss: 0.32457, Training accuracy: 0.14062\n",
            "Batch: 250: Training loss: 0.32427, Training accuracy: 0.12500\n",
            "Batch: 275: Training loss: 0.32498, Training accuracy: 0.09375\n",
            "Batch: 300: Validation loss: 0.32558, Validation accuracy: 0.09580\n",
            "Batch: 325: Training loss: 0.32433, Training accuracy: 0.10938\n",
            "Batch: 350: Training loss: 0.32314, Training accuracy: 0.17188\n",
            "Batch: 375: Training loss: 0.32673, Training accuracy: 0.06250\n",
            "Batch: 400: Validation loss: 0.32602, Validation accuracy: 0.11260\n",
            "Batch: 425: Training loss: 0.32655, Training accuracy: 0.03125\n",
            "Batch: 450: Training loss: 0.32432, Training accuracy: 0.12500\n",
            "Batch: 475: Training loss: 0.32564, Training accuracy: 0.10938\n",
            "Batch: 500: Validation loss: 0.32554, Validation accuracy: 0.11260\n",
            "Batch: 525: Training loss: 0.32659, Training accuracy: 0.07812\n",
            "Batch: 550: Training loss: 0.32356, Training accuracy: 0.09375\n",
            "Batch: 575: Training loss: 0.32601, Training accuracy: 0.12500\n",
            "Batch: 600: Validation loss: 0.32561, Validation accuracy: 0.11260\n",
            "Batch: 625: Training loss: 0.32789, Training accuracy: 0.03125\n",
            "Batch: 650: Training loss: 0.32451, Training accuracy: 0.10938\n",
            "Batch: 675: Training loss: 0.32386, Training accuracy: 0.12500\n",
            "Batch: 700: Validation loss: 0.32542, Validation accuracy: 0.10700\n",
            "Batch: 725: Training loss: 0.32297, Training accuracy: 0.14062\n",
            "Batch: 750: Training loss: 0.32773, Training accuracy: 0.06250\n",
            "Batch: 775: Training loss: 0.32538, Training accuracy: 0.18750\n",
            "Final validation accuracy: 0.11260\n",
            "Final test accuracy: 0.11350\n",
            "Accuracy on 100 samples: 0.14\n"
          ],
          "name": "stdout"
        }
      ]
    },
    {
      "cell_type": "markdown",
      "metadata": {
        "id": "fLeIISdQEINg"
      },
      "source": [
        "With this many layers, it's going to take a lot of iterations for this network to learn. By the time you're done training these 800 batches, your final test and validation accuracies probably won't be much better than 10%. (It will be different each time, but will most likely be less than 15%.)\r\n",
        "\r\n",
        "Using batch normalization, you'll be able to train this same network to over 90% in that same number of batches.\r\n",
        "\r\n",
        "\r\n",
        "# Add batch normalization\r\n",
        "\r\n",
        "We've copied the previous three cells to get you started. **Edit these cells** to add batch normalization to the network. For this exercise, you should use [`tf.layers.batch_normalization`](https://www.tensorflow.org/api_docs/python/tf/layers/batch_normalization) to handle most of the math, but you'll need to make a few other changes to your network to integrate batch normalization. You may want to refer back to the lesson notebook to remind yourself of important things, like how your graph operations need to know whether or not you are performing training or inference. \r\n",
        "\r\n",
        "If you get stuck, you can check out the `Batch_Normalization_Solutions` notebook to see how we did things."
      ]
    },
    {
      "cell_type": "markdown",
      "metadata": {
        "id": "F5XhsicMEJr4"
      },
      "source": [
        "**TODO:** Modify `fully_connected` to add batch normalization to the fully connected layers it creates. Feel free to change the function's parameters if it helps."
      ]
    },
    {
      "cell_type": "code",
      "metadata": {
        "id": "l8p00MqmEKc0"
      },
      "source": [
        "def fully_connected(prev_layer, num_units, is_training):\r\n",
        "    \"\"\"\r\n",
        "    Create a fully connectd layer with the given layer as input and the given number of neurons.\r\n",
        "    \r\n",
        "    :param prev_layer: Tensor\r\n",
        "        The Tensor that acts as input into this layer\r\n",
        "    :param num_units: int\r\n",
        "        The size of the layer. That is, the number of units, nodes, or neurons.\r\n",
        "    :returns Tensor\r\n",
        "        A new fully connected layer\r\n",
        "    \"\"\"\r\n",
        "    layer = tf.layers.dense(prev_layer, num_units, use_bias=False, activation=None)\r\n",
        "    layer = tf.layers.batch_normalization(layer,training=is_training)\r\n",
        "    layer = tf.nn.relu(layer)\r\n",
        "    return layer"
      ],
      "execution_count": 7,
      "outputs": []
    },
    {
      "cell_type": "markdown",
      "metadata": {
        "id": "gS1GBus1ELkQ"
      },
      "source": [
        "**TODO:** Modify `conv_layer` to add batch normalization to the convolutional layers it creates. Feel free to change the function's parameters if it helps."
      ]
    },
    {
      "cell_type": "code",
      "metadata": {
        "id": "-aJW6uB1EMm4"
      },
      "source": [
        "def conv_layer(prev_layer, layer_depth, is_training):\r\n",
        "    \"\"\"\r\n",
        "    Create a convolutional layer with the given layer as input.\r\n",
        "    \r\n",
        "    :param prev_layer: Tensor\r\n",
        "        The Tensor that acts as input into this layer\r\n",
        "    :param layer_depth: int\r\n",
        "        We'll set the strides and number of feature maps based on the layer's depth in the network.\r\n",
        "        This is *not* a good way to make a CNN, but it helps us create this example with very little code.\r\n",
        "    :returns Tensor\r\n",
        "        A new convolutional layer\r\n",
        "    \"\"\"\r\n",
        "    strides = 2 if layer_depth % 3 == 0 else 1\r\n",
        "    conv_layer = tf.layers.conv2d(prev_layer, layer_depth*4, 3, strides, 'same', use_bias=False, activation=None)\r\n",
        "    conv_layer = tf.layers.batch_normalization(conv_layer,training=is_training)\r\n",
        "    conv_layer = tf.nn.relu(conv_layer)\r\n",
        "    return conv_layer"
      ],
      "execution_count": 8,
      "outputs": []
    },
    {
      "cell_type": "markdown",
      "metadata": {
        "id": "YWJjXP7sENqY"
      },
      "source": [
        "**TODO:** Edit the `train` function to support batch normalization. You'll need to make sure the network knows whether or not it is training, and you'll need to make sure it updates and uses its population statistics correctly."
      ]
    },
    {
      "cell_type": "code",
      "metadata": {
        "colab": {
          "base_uri": "https://localhost:8080/"
        },
        "id": "xDmv7lkfEPfg",
        "outputId": "2818db71-2ffe-4928-d70f-fe78c30d0d56"
      },
      "source": [
        "def train(num_batches, batch_size, learning_rate):\r\n",
        "    # Build placeholders for the input samples and labels \r\n",
        "    inputs = tf.placeholder(tf.float32, [None, 28, 28, 1])\r\n",
        "    labels = tf.placeholder(tf.float32, [None, 10])\r\n",
        "\r\n",
        "    is_training = tf.placeholder(tf.bool)\r\n",
        "    \r\n",
        "    # Feed the inputs into a series of 20 convolutional layers \r\n",
        "    layer = inputs\r\n",
        "    for layer_i in range(1, 20):\r\n",
        "        layer = conv_layer(layer, layer_i, is_training)\r\n",
        "\r\n",
        "    # Flatten the output from the convolutional layers \r\n",
        "    orig_shape = layer.get_shape().as_list()\r\n",
        "    layer = tf.reshape(layer, shape=[-1, orig_shape[1] * orig_shape[2] * orig_shape[3]])\r\n",
        "\r\n",
        "    # Add one fully connected layer\r\n",
        "    layer = fully_connected(layer, 100, is_training)\r\n",
        "\r\n",
        "    # Create the output layer with 1 node for each \r\n",
        "    logits = tf.layers.dense(layer, 10)\r\n",
        "    \r\n",
        "    # Define loss and training operations\r\n",
        "    model_loss = tf.reduce_mean(tf.nn.sigmoid_cross_entropy_with_logits(logits=logits, labels=labels))\r\n",
        "    with tf.control_dependencies(tf.get_collection(tf.GraphKeys.UPDATE_OPS)):\r\n",
        "      train_opt = tf.train.AdamOptimizer(learning_rate).minimize(model_loss)\r\n",
        "    \r\n",
        "    # Create operations to test accuracy\r\n",
        "    correct_prediction = tf.equal(tf.argmax(logits,1), tf.argmax(labels,1))\r\n",
        "    accuracy = tf.reduce_mean(tf.cast(correct_prediction, tf.float32))\r\n",
        "    \r\n",
        "    # Train and test the network\r\n",
        "    with tf.Session() as sess:\r\n",
        "        sess.run(tf.global_variables_initializer())\r\n",
        "        for batch_i in range(num_batches):\r\n",
        "            batch_xs, batch_ys = mnist.train.next_batch(batch_size)\r\n",
        "\r\n",
        "            # train this batch\r\n",
        "            sess.run(train_opt, {inputs: batch_xs, labels: batch_ys, is_training: True})\r\n",
        "            \r\n",
        "            # Periodically check the validation or training loss and accuracy\r\n",
        "            if batch_i % 100 == 0:\r\n",
        "                loss, acc = sess.run([model_loss, accuracy], {inputs: mnist.validation.images,\r\n",
        "                                                              labels: mnist.validation.labels,\r\n",
        "                                                              is_training: False})\r\n",
        "                print('Batch: {:>2}: Validation loss: {:>3.5f}, Validation accuracy: {:>3.5f}'.format(batch_i, loss, acc))\r\n",
        "            elif batch_i % 25 == 0:\r\n",
        "                loss, acc = sess.run([model_loss, accuracy], {inputs: batch_xs, labels: batch_ys,is_training: False})\r\n",
        "                print('Batch: {:>2}: Training loss: {:>3.5f}, Training accuracy: {:>3.5f}'.format(batch_i, loss, acc))\r\n",
        "\r\n",
        "        # At the end, score the final accuracy for both the validation and test sets\r\n",
        "        acc = sess.run(accuracy, {inputs: mnist.validation.images,\r\n",
        "                                  labels: mnist.validation.labels,\r\n",
        "                                  is_training: False})\r\n",
        "        print('Final validation accuracy: {:>3.5f}'.format(acc))\r\n",
        "        acc = sess.run(accuracy, {inputs: mnist.test.images,\r\n",
        "                                  labels: mnist.test.labels,\r\n",
        "                                  is_training: False})\r\n",
        "        print('Final test accuracy: {:>3.5f}'.format(acc))\r\n",
        "        \r\n",
        "        # Score the first 100 test images individually. This won't work if batch normalization isn't implemented correctly.\r\n",
        "        correct = 0\r\n",
        "        for i in range(100):\r\n",
        "            correct += sess.run(accuracy,feed_dict={inputs: [mnist.test.images[i]],\r\n",
        "                                                    labels: [mnist.test.labels[i]],\r\n",
        "                                                    is_training: False})\r\n",
        "\r\n",
        "        print(\"Accuracy on 100 samples:\", correct/100)\r\n",
        "\r\n",
        "\r\n",
        "num_batches = 800\r\n",
        "batch_size = 64\r\n",
        "learning_rate = 0.002\r\n",
        "\r\n",
        "tf.reset_default_graph()\r\n",
        "with tf.Graph().as_default():\r\n",
        "    train(num_batches, batch_size, learning_rate)"
      ],
      "execution_count": 9,
      "outputs": [
        {
          "output_type": "stream",
          "text": [
            "Batch:  0: Validation loss: 0.69111, Validation accuracy: 0.09860\n",
            "Batch: 25: Training loss: 0.57048, Training accuracy: 0.15625\n",
            "Batch: 50: Training loss: 0.44815, Training accuracy: 0.15625\n",
            "Batch: 75: Training loss: 0.37872, Training accuracy: 0.07812\n",
            "Batch: 100: Validation loss: 0.34246, Validation accuracy: 0.11260\n",
            "Batch: 125: Training loss: 0.33639, Training accuracy: 0.06250\n",
            "Batch: 150: Training loss: 0.33977, Training accuracy: 0.15625\n",
            "Batch: 175: Training loss: 0.39093, Training accuracy: 0.09375\n",
            "Batch: 200: Validation loss: 0.42325, Validation accuracy: 0.11260\n",
            "Batch: 225: Training loss: 0.49268, Training accuracy: 0.14062\n",
            "Batch: 250: Training loss: 0.53055, Training accuracy: 0.12500\n",
            "Batch: 275: Training loss: 0.68850, Training accuracy: 0.17188\n",
            "Batch: 300: Validation loss: 0.75199, Validation accuracy: 0.13720\n",
            "Batch: 325: Training loss: 0.50162, Training accuracy: 0.29688\n",
            "Batch: 350: Training loss: 0.40609, Training accuracy: 0.53125\n",
            "Batch: 375: Training loss: 0.13581, Training accuracy: 0.78125\n",
            "Batch: 400: Validation loss: 0.11445, Validation accuracy: 0.82680\n",
            "Batch: 425: Training loss: 0.05287, Training accuracy: 0.93750\n",
            "Batch: 450: Training loss: 0.04585, Training accuracy: 0.92188\n",
            "Batch: 475: Training loss: 0.03973, Training accuracy: 0.93750\n",
            "Batch: 500: Validation loss: 0.04040, Validation accuracy: 0.94000\n",
            "Batch: 525: Training loss: 0.03635, Training accuracy: 0.96875\n",
            "Batch: 550: Training loss: 0.02377, Training accuracy: 0.95312\n",
            "Batch: 575: Training loss: 0.04652, Training accuracy: 0.90625\n",
            "Batch: 600: Validation loss: 0.02746, Validation accuracy: 0.96200\n",
            "Batch: 625: Training loss: 0.04083, Training accuracy: 0.92188\n",
            "Batch: 650: Training loss: 0.04183, Training accuracy: 0.93750\n",
            "Batch: 675: Training loss: 0.07430, Training accuracy: 0.90625\n",
            "Batch: 700: Validation loss: 0.03619, Validation accuracy: 0.95720\n",
            "Batch: 725: Training loss: 0.03778, Training accuracy: 0.93750\n",
            "Batch: 750: Training loss: 0.01193, Training accuracy: 0.98438\n",
            "Batch: 775: Training loss: 0.01404, Training accuracy: 0.98438\n",
            "Final validation accuracy: 0.96080\n",
            "Final test accuracy: 0.95660\n",
            "Accuracy on 100 samples: 0.94\n"
          ],
          "name": "stdout"
        }
      ]
    },
    {
      "cell_type": "markdown",
      "metadata": {
        "id": "D_80xwspERVQ"
      },
      "source": [
        "With batch normalization, you should now get an accuracy over 90%. Notice also the last line of the output: `Accuracy on 100 samples`. If this value is low while everything else looks good, that means you did not implement batch normalization correctly. Specifically, it means you either did not calculate the population mean and variance while training, or you are not using those values during inference.\r\n",
        "\r\n",
        "# Batch Normalization using `tf.nn.batch_normalization`<a id=\"example_2\"></a>\r\n",
        "\r\n",
        "Most of the time you will be able to use higher level functions exclusively, but sometimes you may want to work at a lower level. For example, if you ever want to implement a new feature – something new enough that TensorFlow does not already include a high-level implementation of it, like batch normalization in an LSTM – then you may need to know these sorts of things.\r\n",
        "\r\n",
        "This version of the network uses `tf.nn` for almost everything, and expects you to implement batch normalization using [`tf.nn.batch_normalization`](https://www.tensorflow.org/api_docs/python/tf/nn/batch_normalization).\r\n",
        "\r\n",
        "**Optional TODO:** You can run the next three cells before you edit them just to see how the network performs without batch normalization. However, the results should be pretty much the same as you saw with the previous example before you added batch normalization. \r\n",
        "\r\n",
        "**TODO:** Modify `fully_connected` to add batch normalization to the fully connected layers it creates. Feel free to change the function's parameters if it helps.\r\n",
        "\r\n",
        "**Note:** For convenience, we continue to use `tf.layers.dense` for the `fully_connected` layer. By this point in the class, you should have no problem replacing that with matrix operations between the `prev_layer` and explicit weights and biases variables."
      ]
    },
    {
      "cell_type": "code",
      "metadata": {
        "id": "xJERBEfGETCS"
      },
      "source": [
        "def fully_connected(prev_layer, num_units, is_training):\r\n",
        "    \"\"\"\r\n",
        "    Create a fully connectd layer with the given layer as input and the given number of neurons.\r\n",
        "    \r\n",
        "    :param prev_layer: Tensor\r\n",
        "        The Tensor that acts as input into this layer\r\n",
        "    :param num_units: int\r\n",
        "        The size of the layer. That is, the number of units, nodes, or neurons.\r\n",
        "    :param is_training: bool or Tensor\r\n",
        "        Indicates whether or not the network is currently training, which tells the batch normalization\r\n",
        "        layer whether or not it should update or use its population statistics.\r\n",
        "    :returns Tensor\r\n",
        "        A new fully connected layer\r\n",
        "    \"\"\"\r\n",
        "\r\n",
        "    layer = tf.layers.dense(prev_layer, num_units, use_bias=False, activation=None)\r\n",
        "\r\n",
        "    gamma = tf.Variable(tf.ones([num_units]))\r\n",
        "    beta = tf.Variable(tf.zeros([num_units]))\r\n",
        "\r\n",
        "    pop_mean = tf.Variable(tf.zeros([num_units]), trainable=False)\r\n",
        "    pop_variance = tf.Variable(tf.ones([num_units]), trainable=False)\r\n",
        "\r\n",
        "    epsilon = 1e-3\r\n",
        "    \r\n",
        "    def batch_norm_training():\r\n",
        "        batch_mean, batch_variance = tf.nn.moments(layer, [0])\r\n",
        "\r\n",
        "        decay = 0.99\r\n",
        "        train_mean = tf.assign(pop_mean, pop_mean * decay + batch_mean * (1 - decay))\r\n",
        "        train_variance = tf.assign(pop_variance, pop_variance * decay + batch_variance * (1 - decay))\r\n",
        "\r\n",
        "        with tf.control_dependencies([train_mean, train_variance]):\r\n",
        "            return tf.nn.batch_normalization(layer, batch_mean, batch_variance, beta, gamma, epsilon)\r\n",
        " \r\n",
        "    def batch_norm_inference():\r\n",
        "        return tf.nn.batch_normalization(layer, pop_mean, pop_variance, beta, gamma, epsilon)\r\n",
        "\r\n",
        "    batch_normalized_output = tf.cond(is_training, batch_norm_training, batch_norm_inference)\r\n",
        "    return tf.nn.relu(batch_normalized_output)"
      ],
      "execution_count": 10,
      "outputs": []
    },
    {
      "cell_type": "markdown",
      "metadata": {
        "id": "hz64Gxc6EUcA"
      },
      "source": [
        "**TODO:** Modify `conv_layer` to add batch normalization to the fully connected layers it creates. Feel free to change the function's parameters if it helps.\r\n",
        "\r\n",
        "**Note:** Unlike in the previous example that used `tf.layers`, adding batch normalization to these convolutional layers _does_ require some slight differences to what you did in `fully_connected`. "
      ]
    },
    {
      "cell_type": "code",
      "metadata": {
        "id": "mnJF_S7kEVS4"
      },
      "source": [
        "def conv_layer(prev_layer, layer_depth, is_training):\r\n",
        "    \"\"\"\r\n",
        "    Create a convolutional layer with the given layer as input.\r\n",
        "    \r\n",
        "    :param prev_layer: Tensor\r\n",
        "        The Tensor that acts as input into this layer\r\n",
        "    :param layer_depth: int\r\n",
        "        We'll set the strides and number of feature maps based on the layer's depth in the network.\r\n",
        "        This is *not* a good way to make a CNN, but it helps us create this example with very little code.\r\n",
        "    :param is_training: bool or Tensor\r\n",
        "        Indicates whether or not the network is currently training, which tells the batch normalization\r\n",
        "        layer whether or not it should update or use its population statistics.\r\n",
        "    :returns Tensor\r\n",
        "        A new convolutional layer\r\n",
        "    \"\"\"\r\n",
        "    strides = 2 if layer_depth % 3 == 0 else 1\r\n",
        "    \r\n",
        "    in_channels = prev_layer.get_shape().as_list()[3]\r\n",
        "    out_channels = layer_depth*4\r\n",
        "    \r\n",
        "    weights = tf.Variable(\r\n",
        "        tf.truncated_normal([3, 3, in_channels, out_channels], stddev=0.05))\r\n",
        "    \r\n",
        "    layer = tf.nn.conv2d(prev_layer, weights, strides=[1,strides, strides, 1], padding='SAME')\r\n",
        "\r\n",
        "    gamma = tf.Variable(tf.ones([out_channels]))\r\n",
        "    beta = tf.Variable(tf.zeros([out_channels]))\r\n",
        "\r\n",
        "    pop_mean = tf.Variable(tf.zeros([out_channels]), trainable=False)\r\n",
        "    pop_variance = tf.Variable(tf.ones([out_channels]), trainable=False)\r\n",
        "\r\n",
        "    epsilon = 1e-3\r\n",
        "    \r\n",
        "    def batch_norm_training():\r\n",
        "        batch_mean, batch_variance = tf.nn.moments(layer, [0,1,2], keep_dims=False)\r\n",
        "\r\n",
        "        decay = 0.99\r\n",
        "        train_mean = tf.assign(pop_mean, pop_mean * decay + batch_mean * (1 - decay))\r\n",
        "        train_variance = tf.assign(pop_variance, pop_variance * decay + batch_variance * (1 - decay))\r\n",
        "\r\n",
        "        with tf.control_dependencies([train_mean, train_variance]):\r\n",
        "            return tf.nn.batch_normalization(layer, batch_mean, batch_variance, beta, gamma, epsilon)\r\n",
        " \r\n",
        "    def batch_norm_inference():\r\n",
        "        return tf.nn.batch_normalization(layer, pop_mean, pop_variance, beta, gamma, epsilon)\r\n",
        "\r\n",
        "    batch_normalized_output = tf.cond(is_training, batch_norm_training, batch_norm_inference)\r\n",
        "    return tf.nn.relu(batch_normalized_output)"
      ],
      "execution_count": 11,
      "outputs": []
    },
    {
      "cell_type": "markdown",
      "metadata": {
        "id": "NwyL6Zz9EXMa"
      },
      "source": [
        "**TODO:** Edit the `train` function to support batch normalization. You'll need to make sure the network knows whether or not it is training."
      ]
    },
    {
      "cell_type": "code",
      "metadata": {
        "colab": {
          "base_uri": "https://localhost:8080/"
        },
        "id": "2F0r5-EAEYPo",
        "outputId": "aa090200-88c9-4eee-8fe0-54f758c43428"
      },
      "source": [
        "def train(num_batches, batch_size, learning_rate):\r\n",
        "    # Build placeholders for the input samples and labels \r\n",
        "    inputs = tf.placeholder(tf.float32, [None, 28, 28, 1])\r\n",
        "    labels = tf.placeholder(tf.float32, [None, 10])\r\n",
        "\r\n",
        "    # Add placeholder to indicate whether or not we're training the model\r\n",
        "    is_training = tf.placeholder(tf.bool)\r\n",
        "\r\n",
        "    # Feed the inputs into a series of 20 convolutional layers \r\n",
        "    layer = inputs\r\n",
        "    for layer_i in range(1, 20):\r\n",
        "        layer = conv_layer(layer, layer_i, is_training)\r\n",
        "\r\n",
        "    # Flatten the output from the convolutional layers \r\n",
        "    orig_shape = layer.get_shape().as_list()\r\n",
        "    layer = tf.reshape(layer, shape=[-1, orig_shape[1] * orig_shape[2] * orig_shape[3]])\r\n",
        "\r\n",
        "    # Add one fully connected layer\r\n",
        "    layer = fully_connected(layer, 100, is_training)\r\n",
        "\r\n",
        "    # Create the output layer with 1 node for each \r\n",
        "    logits = tf.layers.dense(layer, 10)\r\n",
        "    \r\n",
        "    # Define loss and training operations\r\n",
        "    model_loss = tf.reduce_mean(tf.nn.sigmoid_cross_entropy_with_logits(logits=logits, labels=labels))\r\n",
        "    train_opt = tf.train.AdamOptimizer(learning_rate).minimize(model_loss)\r\n",
        "    \r\n",
        "    # Create operations to test accuracy\r\n",
        "    correct_prediction = tf.equal(tf.argmax(logits,1), tf.argmax(labels,1))\r\n",
        "    accuracy = tf.reduce_mean(tf.cast(correct_prediction, tf.float32))\r\n",
        "    \r\n",
        "    # Train and test the network\r\n",
        "    with tf.Session() as sess:\r\n",
        "        sess.run(tf.global_variables_initializer())\r\n",
        "        for batch_i in range(num_batches):\r\n",
        "            batch_xs, batch_ys = mnist.train.next_batch(batch_size)\r\n",
        "\r\n",
        "            # train this batch\r\n",
        "            sess.run(train_opt, {inputs: batch_xs, labels: batch_ys, is_training: True})\r\n",
        "            \r\n",
        "            # Periodically check the validation or training loss and accuracy\r\n",
        "            if batch_i % 100 == 0:\r\n",
        "                loss, acc = sess.run([model_loss, accuracy], {inputs: mnist.validation.images,\r\n",
        "                                                              labels: mnist.validation.labels,\r\n",
        "                                                              is_training: False})\r\n",
        "                print('Batch: {:>2}: Validation loss: {:>3.5f}, Validation accuracy: {:>3.5f}'.format(batch_i, loss, acc))\r\n",
        "            elif batch_i % 25 == 0:\r\n",
        "                loss, acc = sess.run([model_loss, accuracy], {inputs: batch_xs, labels: batch_ys, is_training: False})\r\n",
        "                print('Batch: {:>2}: Training loss: {:>3.5f}, Training accuracy: {:>3.5f}'.format(batch_i, loss, acc))\r\n",
        "\r\n",
        "        # At the end, score the final accuracy for both the validation and test sets\r\n",
        "        acc = sess.run(accuracy, {inputs: mnist.validation.images,\r\n",
        "                                  labels: mnist.validation.labels, \r\n",
        "                                  is_training: False})\r\n",
        "        print('Final validation accuracy: {:>3.5f}'.format(acc))\r\n",
        "        acc = sess.run(accuracy, {inputs: mnist.test.images,\r\n",
        "                                  labels: mnist.test.labels,\r\n",
        "                                  is_training: False})\r\n",
        "        print('Final test accuracy: {:>3.5f}'.format(acc))\r\n",
        "        \r\n",
        "        # Score the first 100 test images individually, just to make sure batch normalization really worked\r\n",
        "        correct = 0\r\n",
        "        for i in range(100):\r\n",
        "            correct += sess.run(accuracy,feed_dict={inputs: [mnist.test.images[i]],\r\n",
        "                                                    labels: [mnist.test.labels[i]],\r\n",
        "                                                    is_training: False})\r\n",
        "\r\n",
        "        print(\"Accuracy on 100 samples:\", correct/100)\r\n",
        "\r\n",
        "\r\n",
        "num_batches = 800\r\n",
        "batch_size = 64\r\n",
        "learning_rate = 0.002\r\n",
        "\r\n",
        "tf.reset_default_graph()\r\n",
        "with tf.Graph().as_default():\r\n",
        "    train(num_batches, batch_size, learning_rate)"
      ],
      "execution_count": 12,
      "outputs": [
        {
          "output_type": "stream",
          "text": [
            "Batch:  0: Validation loss: 0.69106, Validation accuracy: 0.11000\n",
            "Batch: 25: Training loss: 0.58873, Training accuracy: 0.06250\n",
            "Batch: 50: Training loss: 0.48330, Training accuracy: 0.09375\n",
            "Batch: 75: Training loss: 0.41027, Training accuracy: 0.10938\n",
            "Batch: 100: Validation loss: 0.38271, Validation accuracy: 0.09760\n",
            "Batch: 125: Training loss: 0.36644, Training accuracy: 0.09375\n",
            "Batch: 150: Training loss: 0.35370, Training accuracy: 0.06250\n",
            "Batch: 175: Training loss: 0.38368, Training accuracy: 0.09375\n",
            "Batch: 200: Validation loss: 0.43162, Validation accuracy: 0.11260\n",
            "Batch: 225: Training loss: 0.38645, Training accuracy: 0.06250\n",
            "Batch: 250: Training loss: 0.39129, Training accuracy: 0.15625\n",
            "Batch: 275: Training loss: 0.41361, Training accuracy: 0.12500\n",
            "Batch: 300: Validation loss: 0.21838, Validation accuracy: 0.53320\n",
            "Batch: 325: Training loss: 0.24763, Training accuracy: 0.51562\n",
            "Batch: 350: Training loss: 0.29008, Training accuracy: 0.48438\n",
            "Batch: 375: Training loss: 0.31715, Training accuracy: 0.46875\n",
            "Batch: 400: Validation loss: 0.14153, Validation accuracy: 0.76100\n",
            "Batch: 425: Training loss: 0.23911, Training accuracy: 0.65625\n",
            "Batch: 450: Training loss: 0.11234, Training accuracy: 0.84375\n",
            "Batch: 475: Training loss: 0.12944, Training accuracy: 0.87500\n",
            "Batch: 500: Validation loss: 0.05809, Validation accuracy: 0.92340\n",
            "Batch: 525: Training loss: 0.08880, Training accuracy: 0.87500\n",
            "Batch: 550: Training loss: 0.04000, Training accuracy: 0.95312\n",
            "Batch: 575: Training loss: 0.07236, Training accuracy: 0.85938\n",
            "Batch: 600: Validation loss: 0.04058, Validation accuracy: 0.93840\n",
            "Batch: 625: Training loss: 0.02419, Training accuracy: 0.96875\n",
            "Batch: 650: Training loss: 0.02142, Training accuracy: 0.96875\n",
            "Batch: 675: Training loss: 0.03455, Training accuracy: 0.96875\n",
            "Batch: 700: Validation loss: 0.09063, Validation accuracy: 0.89260\n",
            "Batch: 725: Training loss: 0.03693, Training accuracy: 0.93750\n",
            "Batch: 750: Training loss: 0.07074, Training accuracy: 0.89062\n",
            "Batch: 775: Training loss: 0.03272, Training accuracy: 0.95312\n",
            "Final validation accuracy: 0.96580\n",
            "Final test accuracy: 0.96280\n",
            "Accuracy on 100 samples: 0.96\n"
          ],
          "name": "stdout"
        }
      ]
    },
    {
      "cell_type": "markdown",
      "metadata": {
        "id": "2yz5Pf4mEeKX"
      },
      "source": [
        "Once again, the model with batch normalization should reach an accuracy over 90%."
      ]
    }
  ]
}
{
  "nbformat": 4,
  "nbformat_minor": 0,
  "metadata": {
    "colab": {
      "name": "DCGAN_Exercises.ipynb",
      "provenance": [],
      "collapsed_sections": [],
      "machine_shape": "hm"
    },
    "kernelspec": {
      "name": "python3",
      "display_name": "Python 3"
    },
    "accelerator": "GPU"
  },
  "cells": [
    {
      "cell_type": "markdown",
      "metadata": {
        "id": "fnt9H2f3YZrU"
      },
      "source": [
        "# Deep Convolutional GANs\r\n",
        "\r\n",
        "In this notebook, you'll build a GAN using convolutional layers in the generator and discriminator. This is called a Deep Convolutional GAN, or DCGAN for short. The DCGAN architecture was first explored last year and has seen impressive results in generating new images, you can read the [original paper here](https://arxiv.org/pdf/1511.06434.pdf).\r\n",
        "\r\n",
        "You'll be training DCGAN on the [Street View House Numbers](http://ufldl.stanford.edu/housenumbers/) (SVHN) dataset. These are color images of house numbers collected from Google street view. SVHN images are in color and much more variable than MNIST. \r\n",
        "\r\n",
        "![SVHN Examples](assets/SVHN_examples.png)\r\n",
        "\r\n",
        "So, we'll need a deeper and more powerful network. This is accomplished through using convolutional layers in the discriminator and generator. It's also necessary to use batch normalization to get the convolutional networks to train. The only real changes compared to what [you saw previously](https://github.com/udacity/deep-learning/tree/master/gan_mnist) are in the generator and discriminator, otherwise the rest of the implementation is the same."
      ]
    },
    {
      "cell_type": "code",
      "metadata": {
        "id": "cMr3BYxQYZQt"
      },
      "source": [
        "%matplotlib inline\r\n",
        "\r\n",
        "import pickle as pkl\r\n",
        "\r\n",
        "import matplotlib.pyplot as plt\r\n",
        "import numpy as np\r\n",
        "from scipy.io import loadmat\r\n",
        "import tensorflow as tf"
      ],
      "execution_count": null,
      "outputs": []
    },
    {
      "cell_type": "code",
      "metadata": {
        "id": "QYPLTdX_YfMz"
      },
      "source": [
        "!mkdir data"
      ],
      "execution_count": null,
      "outputs": []
    },
    {
      "cell_type": "markdown",
      "metadata": {
        "id": "2apgU4jcYgly"
      },
      "source": [
        "## Getting the data\r\n",
        "\r\n",
        "Here you can download the SVHN dataset. Run the cell above and it'll download to your machine."
      ]
    },
    {
      "cell_type": "code",
      "metadata": {
        "id": "DfG9qKEvYiKi"
      },
      "source": [
        "from urllib.request import urlretrieve\r\n",
        "from os.path import isfile, isdir\r\n",
        "from tqdm import tqdm\r\n",
        "\r\n",
        "data_dir = 'data/'\r\n",
        "\r\n",
        "if not isdir(data_dir):\r\n",
        "    raise Exception(\"Data directory doesn't exist!\")\r\n",
        "\r\n",
        "class DLProgress(tqdm):\r\n",
        "    last_block = 0\r\n",
        "\r\n",
        "    def hook(self, block_num=1, block_size=1, total_size=None):\r\n",
        "        self.total = total_size\r\n",
        "        self.update((block_num - self.last_block) * block_size)\r\n",
        "        self.last_block = block_num\r\n",
        "\r\n",
        "if not isfile(data_dir + \"train_32x32.mat\"):\r\n",
        "    with DLProgress(unit='B', unit_scale=True, miniters=1, desc='SVHN Training Set') as pbar:\r\n",
        "        urlretrieve(\r\n",
        "            'http://ufldl.stanford.edu/housenumbers/train_32x32.mat',\r\n",
        "            data_dir + 'train_32x32.mat',\r\n",
        "            pbar.hook)\r\n",
        "\r\n",
        "if not isfile(data_dir + \"test_32x32.mat\"):\r\n",
        "    with DLProgress(unit='B', unit_scale=True, miniters=1, desc='SVHN Testing Set') as pbar:\r\n",
        "        urlretrieve(\r\n",
        "            'http://ufldl.stanford.edu/housenumbers/test_32x32.mat',\r\n",
        "            data_dir + 'test_32x32.mat',\r\n",
        "            pbar.hook)"
      ],
      "execution_count": null,
      "outputs": []
    },
    {
      "cell_type": "markdown",
      "metadata": {
        "id": "l2WumCCRYj86"
      },
      "source": [
        "These SVHN files are `.mat` files typically used with Matlab. However, we can load them in with `scipy.io.loadmat` which we imported above."
      ]
    },
    {
      "cell_type": "code",
      "metadata": {
        "id": "OPI50iaIYla9"
      },
      "source": [
        "trainset = loadmat(data_dir + 'train_32x32.mat')\r\n",
        "testset = loadmat(data_dir + 'test_32x32.mat')"
      ],
      "execution_count": null,
      "outputs": []
    },
    {
      "cell_type": "markdown",
      "metadata": {
        "id": "N5KxkF2OYpwi"
      },
      "source": [
        "Here I'm showing a small sample of the images. Each of these is 32x32 with 3 color channels (RGB). These are the real images we'll pass to the discriminator and what the generator will eventually fake."
      ]
    },
    {
      "cell_type": "code",
      "metadata": {
        "id": "uYyOf2D3YnL6"
      },
      "source": [
        "idx = np.random.randint(0, trainset['X'].shape[3], size=36)\r\n",
        "fig, axes = plt.subplots(6, 6, sharex=True, sharey=True, figsize=(5,5),)\r\n",
        "for ii, ax in zip(idx, axes.flatten()):\r\n",
        "    ax.imshow(trainset['X'][:,:,:,ii], aspect='equal')\r\n",
        "    ax.xaxis.set_visible(False)\r\n",
        "    ax.yaxis.set_visible(False)\r\n",
        "plt.subplots_adjust(wspace=0, hspace=0)"
      ],
      "execution_count": null,
      "outputs": []
    },
    {
      "cell_type": "markdown",
      "metadata": {
        "id": "jAlnUZ_dYvYS"
      },
      "source": [
        "Here we need to do a bit of preprocessing and getting the images into a form where we can pass batches to the network. First off, we need to rescale the images to a range of -1 to 1, since the output of our generator is also in that range. We also have a set of test and validation images which could be used if we're trying to identify the numbers in the images."
      ]
    },
    {
      "cell_type": "code",
      "metadata": {
        "id": "hIev7ScSYxDS"
      },
      "source": [
        "def scale(x, feature_range=(-1, 1)):\r\n",
        "    # scale to (0, 1)\r\n",
        "    x = ((x - x.min())/(255 - x.min()))\r\n",
        "    \r\n",
        "    # scale to feature_range\r\n",
        "    min, max = feature_range\r\n",
        "    x = x * (max - min) + min\r\n",
        "    return x"
      ],
      "execution_count": null,
      "outputs": []
    },
    {
      "cell_type": "code",
      "metadata": {
        "id": "dXVO1na4YyeK"
      },
      "source": [
        "class Dataset:\r\n",
        "    def __init__(self, train, test, val_frac=0.5, shuffle=False, scale_func=None):\r\n",
        "        split_idx = int(len(test['y'])*(1 - val_frac))\r\n",
        "        self.test_x, self.valid_x = test['X'][:,:,:,:split_idx], test['X'][:,:,:,split_idx:]\r\n",
        "        self.test_y, self.valid_y = test['y'][:split_idx], test['y'][split_idx:]\r\n",
        "        self.train_x, self.train_y = train['X'], train['y']\r\n",
        "        \r\n",
        "        self.train_x = np.rollaxis(self.train_x, 3)\r\n",
        "        self.valid_x = np.rollaxis(self.valid_x, 3)\r\n",
        "        self.test_x = np.rollaxis(self.test_x, 3)\r\n",
        "        \r\n",
        "        if scale_func is None:\r\n",
        "            self.scaler = scale\r\n",
        "        else:\r\n",
        "            self.scaler = scale_func\r\n",
        "        self.shuffle = shuffle\r\n",
        "        \r\n",
        "    def batches(self, batch_size):\r\n",
        "        if self.shuffle:\r\n",
        "            idx = np.arange(len(dataset.train_x))\r\n",
        "            np.random.shuffle(idx)\r\n",
        "            self.train_x = self.train_x[idx]\r\n",
        "            self.train_y = self.train_y[idx]\r\n",
        "        \r\n",
        "        n_batches = len(self.train_y)//batch_size\r\n",
        "        for ii in range(0, len(self.train_y), batch_size):\r\n",
        "            x = self.train_x[ii:ii+batch_size]\r\n",
        "            y = self.train_y[ii:ii+batch_size]\r\n",
        "            \r\n",
        "            yield self.scaler(x), y"
      ],
      "execution_count": null,
      "outputs": []
    },
    {
      "cell_type": "markdown",
      "metadata": {
        "id": "mREm-Nr9Y0GZ"
      },
      "source": [
        "## Network Inputs\r\n",
        "\r\n",
        "Here, just creating some placeholders like normal."
      ]
    },
    {
      "cell_type": "code",
      "metadata": {
        "id": "-vr8KKW_Y1nx"
      },
      "source": [
        "def model_inputs(real_dim, z_dim):\r\n",
        "    inputs_real = tf.placeholder(tf.float32, (None, *real_dim), name='input_real')\r\n",
        "    inputs_z = tf.placeholder(tf.float32, (None, z_dim), name='input_z')\r\n",
        "    \r\n",
        "    return inputs_real, inputs_z"
      ],
      "execution_count": null,
      "outputs": []
    },
    {
      "cell_type": "markdown",
      "metadata": {
        "id": "wIvX8Y7FY3oS"
      },
      "source": [
        "## Generator\r\n",
        "\r\n",
        "Here you'll build the generator network. The input will be our noise vector `z` as before. Also as before, the output will be a $tanh$ output, but this time with size 32x32 which is the size of our SVHN images.\r\n",
        "\r\n",
        "What's new here is we'll use convolutional layers to create our new images. The first layer is a fully connected layer which is reshaped into a deep and narrow layer, something like 4x4x1024 as in the original DCGAN paper. Then we use batch normalization and a leaky ReLU activation. Next is a transposed convolution where typically you'd halve the depth and double the width and height of the previous layer. Again, we use batch normalization and leaky ReLU. For each of these layers, the general scheme is convolution > batch norm > leaky ReLU.\r\n",
        "\r\n",
        "You keep stacking layers up like this until you get the final transposed convolution layer with shape 32x32x3. Below is the archicture used in the original DCGAN paper:\r\n",
        "\r\n",
        "![DCGAN Generator](assets/dcgan.png)\r\n",
        "\r\n",
        "Note that the final layer here is 64x64x3, while for our SVHN dataset, we only want it to be 32x32x3. \r\n",
        "\r\n",
        ">**Exercise:** Build the transposed convolutional network for the generator in the function below. Be sure to use leaky ReLUs on all the layers except for the last tanh layer, as well as batch normalization on all the transposed convolutional layers except the last one."
      ]
    },
    {
      "cell_type": "code",
      "metadata": {
        "id": "bX2iqu0VY_Oa"
      },
      "source": [
        "def generator(z, output_dim, reuse=False, alpha=0.2, training=True):\r\n",
        "    with tf.variable_scope('generator', reuse=reuse):\r\n",
        "        # First fully connected layer\r\n",
        "        x\r\n",
        "        \r\n",
        "        # Output layer, 32x32x3\r\n",
        "        logits = \r\n",
        "        \r\n",
        "        out = tf.tanh(logits)\r\n",
        "        \r\n",
        "        return out"
      ],
      "execution_count": null,
      "outputs": []
    },
    {
      "cell_type": "markdown",
      "metadata": {
        "id": "nWOHo3MOZBCq"
      },
      "source": [
        "## Discriminator\r\n",
        "\r\n",
        "Here you'll build the discriminator. This is basically just a convolutional classifier like you've built before. The input to the discriminator are 32x32x3 tensors/images. You'll want a few convolutional layers, then a fully connected layer for the output. As before, we want a sigmoid output, and you'll need to return the logits as well. For the depths of the convolutional layers I suggest starting with 16, 32, 64 filters in the first layer, then double the depth as you add layers. Note that in the DCGAN paper, they did all the downsampling using only strided convolutional layers with no maxpool layers.\r\n",
        "\r\n",
        "You'll also want to use batch normalization with `tf.layers.batch_normalization` on each layer except the first convolutional and output layers. Again, each layer should look something like convolution > batch norm > leaky ReLU.\r\n",
        "\r\n",
        "Note: in this project, your batch normalization layers will always use batch statistics. (That is, always set `training` to `True`.) That's because we are only interested in using the discriminator to help train the generator. However, if you wanted to use the discriminator for inference later, then you would need to set the `training` parameter appropriately.\r\n",
        "\r\n",
        ">**Exercise:** Build the convolutional network for the discriminator. The input is a 32x32x3 images, the output is a sigmoid plus the logits. Again, use Leaky ReLU activations and batch normalization on all the layers except the first."
      ]
    },
    {
      "cell_type": "code",
      "metadata": {
        "id": "GF8AuFejZDGJ"
      },
      "source": [
        "def discriminator(x, reuse=False, alpha=0.2):\r\n",
        "    with tf.variable_scope('discriminator', reuse=reuse):\r\n",
        "        # Input layer is 32x32x3\r\n",
        "        x =\r\n",
        "        \r\n",
        "        logits = \r\n",
        "        out = \r\n",
        "        \r\n",
        "        return out, logits"
      ],
      "execution_count": null,
      "outputs": []
    },
    {
      "cell_type": "markdown",
      "metadata": {
        "id": "zzJU030MZE2y"
      },
      "source": [
        "## Model Loss\r\n",
        "\r\n",
        "Calculating the loss like before, nothing new here."
      ]
    },
    {
      "cell_type": "code",
      "metadata": {
        "id": "CdNf63WGZGjL"
      },
      "source": [
        "def model_loss(input_real, input_z, output_dim, alpha=0.2):\r\n",
        "    \"\"\"\r\n",
        "    Get the loss for the discriminator and generator\r\n",
        "    :param input_real: Images from the real dataset\r\n",
        "    :param input_z: Z input\r\n",
        "    :param out_channel_dim: The number of channels in the output image\r\n",
        "    :return: A tuple of (discriminator loss, generator loss)\r\n",
        "    \"\"\"\r\n",
        "    g_model = generator(input_z, output_dim, alpha=alpha)\r\n",
        "    d_model_real, d_logits_real = discriminator(input_real, alpha=alpha)\r\n",
        "    d_model_fake, d_logits_fake = discriminator(g_model, reuse=True, alpha=alpha)\r\n",
        "\r\n",
        "    d_loss_real = tf.reduce_mean(\r\n",
        "        tf.nn.sigmoid_cross_entropy_with_logits(logits=d_logits_real, labels=tf.ones_like(d_model_real)))\r\n",
        "    d_loss_fake = tf.reduce_mean(\r\n",
        "        tf.nn.sigmoid_cross_entropy_with_logits(logits=d_logits_fake, labels=tf.zeros_like(d_model_fake)))\r\n",
        "    g_loss = tf.reduce_mean(\r\n",
        "        tf.nn.sigmoid_cross_entropy_with_logits(logits=d_logits_fake, labels=tf.ones_like(d_model_fake)))\r\n",
        "\r\n",
        "    d_loss = d_loss_real + d_loss_fake\r\n",
        "\r\n",
        "    return d_loss, g_loss"
      ],
      "execution_count": null,
      "outputs": []
    },
    {
      "cell_type": "markdown",
      "metadata": {
        "id": "DwD5Y02vih2a"
      },
      "source": [
        "## Optimizers\r\n",
        "\r\n",
        "Not much new here, but notice how the train operations are wrapped in a `with tf.control_dependencies` block so the batch normalization layers can update their population statistics."
      ]
    },
    {
      "cell_type": "code",
      "metadata": {
        "id": "OTfHQpGEij1P"
      },
      "source": [
        "def model_opt(d_loss, g_loss, learning_rate, beta1):\r\n",
        "    \"\"\"\r\n",
        "    Get optimization operations\r\n",
        "    :param d_loss: Discriminator loss Tensor\r\n",
        "    :param g_loss: Generator loss Tensor\r\n",
        "    :param learning_rate: Learning Rate Placeholder\r\n",
        "    :param beta1: The exponential decay rate for the 1st moment in the optimizer\r\n",
        "    :return: A tuple of (discriminator training operation, generator training operation)\r\n",
        "    \"\"\"\r\n",
        "    # Get weights and bias to update\r\n",
        "    t_vars = tf.trainable_variables()\r\n",
        "    d_vars = [var for var in t_vars if var.name.startswith('discriminator')]\r\n",
        "    g_vars = [var for var in t_vars if var.name.startswith('generator')]\r\n",
        "\r\n",
        "    # Optimize\r\n",
        "    with tf.control_dependencies(tf.get_collection(tf.GraphKeys.UPDATE_OPS)):\r\n",
        "        d_train_opt = tf.train.AdamOptimizer(learning_rate, beta1=beta1).minimize(d_loss, var_list=d_vars)\r\n",
        "        g_train_opt = tf.train.AdamOptimizer(learning_rate, beta1=beta1).minimize(g_loss, var_list=g_vars)\r\n",
        "\r\n",
        "    return d_train_opt, g_train_opt"
      ],
      "execution_count": null,
      "outputs": []
    },
    {
      "cell_type": "markdown",
      "metadata": {
        "id": "1EntK22xil0P"
      },
      "source": [
        "## Building the model\r\n",
        "\r\n",
        "Here we can use the functions we defined about to build the model as a class. This will make it easier to move the network around in our code since the nodes and operations in the graph are packaged in one object."
      ]
    },
    {
      "cell_type": "code",
      "metadata": {
        "id": "vRfxpGBpinpF"
      },
      "source": [
        "class GAN:\r\n",
        "    def __init__(self, real_size, z_size, learning_rate, alpha=0.2, beta1=0.5):\r\n",
        "        tf.reset_default_graph()\r\n",
        "        \r\n",
        "        self.input_real, self.input_z = model_inputs(real_size, z_size)\r\n",
        "        \r\n",
        "        self.d_loss, self.g_loss = model_loss(self.input_real, self.input_z,\r\n",
        "                                              real_size[2], alpha=alpha)\r\n",
        "        \r\n",
        "        self.d_opt, self.g_opt = model_opt(self.d_loss, self.g_loss, learning_rate, beta1)"
      ],
      "execution_count": null,
      "outputs": []
    },
    {
      "cell_type": "markdown",
      "metadata": {
        "id": "e49-Lf7Hipj2"
      },
      "source": [
        "Here is a function for displaying generated images."
      ]
    },
    {
      "cell_type": "code",
      "metadata": {
        "id": "x4YG1_Fhiq9t"
      },
      "source": [
        "def view_samples(epoch, samples, nrows, ncols, figsize=(5,5)):\r\n",
        "    fig, axes = plt.subplots(figsize=figsize, nrows=nrows, ncols=ncols, \r\n",
        "                             sharey=True, sharex=True)\r\n",
        "    for ax, img in zip(axes.flatten(), samples[epoch]):\r\n",
        "        ax.axis('off')\r\n",
        "        img = ((img - img.min())*255 / (img.max() - img.min())).astype(np.uint8)\r\n",
        "        ax.set_adjustable('box-forced')\r\n",
        "        im = ax.imshow(img, aspect='equal')\r\n",
        "   \r\n",
        "    plt.subplots_adjust(wspace=0, hspace=0)\r\n",
        "    return fig, axes"
      ],
      "execution_count": null,
      "outputs": []
    },
    {
      "cell_type": "markdown",
      "metadata": {
        "id": "cPwFGf_7isf1"
      },
      "source": [
        "And another function we can use to train our network. Notice when we call `generator` to create the samples to display, we set `training` to `False`. That's so the batch normalization layers will use the population statistics rather than the batch statistics. Also notice that we set the `net.input_real` placeholder when we run the generator's optimizer. The generator doesn't actually use it, but we'd get an error without it because of the `tf.control_dependencies` block we created in `model_opt`. "
      ]
    },
    {
      "cell_type": "code",
      "metadata": {
        "id": "ZK3pkjIWiuD1"
      },
      "source": [
        "def train(net, dataset, epochs, batch_size, print_every=10, show_every=100, figsize=(5,5)):\r\n",
        "    saver = tf.train.Saver()\r\n",
        "    sample_z = np.random.uniform(-1, 1, size=(72, z_size))\r\n",
        "\r\n",
        "    samples, losses = [], []\r\n",
        "    steps = 0\r\n",
        "\r\n",
        "    with tf.Session() as sess:\r\n",
        "        sess.run(tf.global_variables_initializer())\r\n",
        "        for e in range(epochs):\r\n",
        "            for x, y in dataset.batches(batch_size):\r\n",
        "                steps += 1\r\n",
        "\r\n",
        "                # Sample random noise for G\r\n",
        "                batch_z = np.random.uniform(-1, 1, size=(batch_size, z_size))\r\n",
        "\r\n",
        "                # Run optimizers\r\n",
        "                _ = sess.run(net.d_opt, feed_dict={net.input_real: x, net.input_z: batch_z})\r\n",
        "                _ = sess.run(net.g_opt, feed_dict={net.input_z: batch_z, net.input_real: x})\r\n",
        "\r\n",
        "                if steps % print_every == 0:\r\n",
        "                    # At the end of each epoch, get the losses and print them out\r\n",
        "                    train_loss_d = net.d_loss.eval({net.input_z: batch_z, net.input_real: x})\r\n",
        "                    train_loss_g = net.g_loss.eval({net.input_z: batch_z})\r\n",
        "\r\n",
        "                    print(\"Epoch {}/{}...\".format(e+1, epochs),\r\n",
        "                          \"Discriminator Loss: {:.4f}...\".format(train_loss_d),\r\n",
        "                          \"Generator Loss: {:.4f}\".format(train_loss_g))\r\n",
        "                    # Save losses to view after training\r\n",
        "                    losses.append((train_loss_d, train_loss_g))\r\n",
        "\r\n",
        "                if steps % show_every == 0:\r\n",
        "                    gen_samples = sess.run(\r\n",
        "                                   generator(net.input_z, 3, reuse=True, training=False),\r\n",
        "                                   feed_dict={net.input_z: sample_z})\r\n",
        "                    samples.append(gen_samples)\r\n",
        "                    _ = view_samples(-1, samples, 6, 12, figsize=figsize)\r\n",
        "                    plt.show()\r\n",
        "\r\n",
        "        saver.save(sess, './checkpoints/generator.ckpt')\r\n",
        "\r\n",
        "    with open('samples.pkl', 'wb') as f:\r\n",
        "        pkl.dump(samples, f)\r\n",
        "    \r\n",
        "    return losses, samples"
      ],
      "execution_count": null,
      "outputs": []
    },
    {
      "cell_type": "markdown",
      "metadata": {
        "id": "Xa2iSk8miy5F"
      },
      "source": [
        "## Hyperparameters\r\n",
        "\r\n",
        "GANs are very sensitive to hyperparameters. A lot of experimentation goes into finding the best hyperparameters such that the generator and discriminator don't overpower each other. Try out your own hyperparameters or read [the DCGAN paper](https://arxiv.org/pdf/1511.06434.pdf) to see what worked for them.\r\n",
        "\r\n",
        ">**Exercise:** Find hyperparameters to train this GAN. The values found in the DCGAN paper work well, or you can experiment on your own. In general, you want the discriminator loss to be around 0.3, this means it is correctly classifying images as fake or real about 50% of the time."
      ]
    },
    {
      "cell_type": "code",
      "metadata": {
        "id": "ddrP8ArKixf9"
      },
      "source": [
        "real_size = (32,32,3)\r\n",
        "z_size = 100\r\n",
        "learning_rate = 0.001\r\n",
        "batch_size = 64\r\n",
        "epochs = 1\r\n",
        "alpha = 0.01\r\n",
        "beta1 = 0.9\r\n",
        "\r\n",
        "# Create the network\r\n",
        "net = GAN(real_size, z_size, learning_rate, alpha=alpha, beta1=beta1)"
      ],
      "execution_count": null,
      "outputs": []
    },
    {
      "cell_type": "code",
      "metadata": {
        "id": "hQuD18yqi3Id"
      },
      "source": [
        "# Load the data and train the network here\r\n",
        "dataset = Dataset(trainset, testset)\r\n",
        "losses, samples = train(net, dataset, epochs, batch_size, figsize=(10,5))"
      ],
      "execution_count": null,
      "outputs": []
    },
    {
      "cell_type": "code",
      "metadata": {
        "id": "Hxc3scfci5CA"
      },
      "source": [
        "fig, ax = plt.subplots()\r\n",
        "losses = np.array(losses)\r\n",
        "plt.plot(losses.T[0], label='Discriminator', alpha=0.5)\r\n",
        "plt.plot(losses.T[1], label='Generator', alpha=0.5)\r\n",
        "plt.title(\"Training Losses\")\r\n",
        "plt.legend()"
      ],
      "execution_count": null,
      "outputs": []
    },
    {
      "cell_type": "code",
      "metadata": {
        "id": "5easzwjCi6sU"
      },
      "source": [
        "_ = view_samples(-1, samples, 6, 12, figsize=(10,5))"
      ],
      "execution_count": null,
      "outputs": []
    }
  ]
}
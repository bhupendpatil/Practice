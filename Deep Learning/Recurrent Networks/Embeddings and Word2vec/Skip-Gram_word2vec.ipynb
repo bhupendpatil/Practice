{
  "nbformat": 4,
  "nbformat_minor": 0,
  "metadata": {
    "colab": {
      "name": "Skip-Gram_word2vec.ipynb",
      "provenance": [],
      "collapsed_sections": [],
      "machine_shape": "hm"
    },
    "kernelspec": {
      "name": "python3",
      "display_name": "Python 3"
    },
    "accelerator": "GPU"
  },
  "cells": [
    {
      "cell_type": "markdown",
      "metadata": {
        "id": "ZKrQewbWySaI"
      },
      "source": [
        "# Skip-gram word2vec\r\n",
        "\r\n",
        "In this notebook, I'll lead you through using TensorFlow to implement the word2vec algorithm using the skip-gram architecture. By implementing this, you'll learn about embedding words for use in natural language processing. This will come in handy when dealing with things like machine translation.\r\n",
        "\r\n",
        "## Readings\r\n",
        "\r\n",
        "Here are the resources I used to build this notebook. I suggest reading these either beforehand or while you're working on this material.\r\n",
        "\r\n",
        "* A really good [conceptual overview](http://mccormickml.com/2016/04/19/word2vec-tutorial-the-skip-gram-model/) of word2vec from Chris McCormick \r\n",
        "* [First word2vec paper](https://arxiv.org/pdf/1301.3781.pdf) from Mikolov et al.\r\n",
        "* [NIPS paper](http://papers.nips.cc/paper/5021-distributed-representations-of-words-and-phrases-and-their-compositionality.pdf) with improvements for word2vec also from Mikolov et al.\r\n",
        "* An [implementation of word2vec](http://www.thushv.com/natural_language_processing/word2vec-part-1-nlp-with-deep-learning-with-tensorflow-skip-gram/) from Thushan Ganegedara\r\n",
        "* TensorFlow [word2vec tutorial](https://www.tensorflow.org/tutorials/word2vec)\r\n",
        "\r\n",
        "## Word embeddings\r\n",
        "\r\n",
        "When you're dealing with words in text, you end up with tens of thousands of classes to predict, one for each word. Trying to one-hot encode these words is massively inefficient, you'll have one element set to 1 and the other 50,000 set to 0. The matrix multiplication going into the first hidden layer will have almost all of the resulting values be zero. This a huge waste of computation. \r\n",
        "\r\n",
        "![one-hot encodings](assets/one_hot_encoding.png)\r\n",
        "\r\n",
        "To solve this problem and greatly increase the efficiency of our networks, we use what are called embeddings. Embeddings are just a fully connected layer like you've seen before. We call this layer the embedding layer and the weights are embedding weights. We skip the multiplication into the embedding layer by instead directly grabbing the hidden layer values from the weight matrix. We can do this because the multiplication of a one-hot encoded vector with a matrix returns the row of the matrix corresponding the index of the \"on\" input unit.\r\n",
        "\r\n",
        "![lookup](assets/lookup_matrix.png)\r\n",
        "\r\n",
        "Instead of doing the matrix multiplication, we use the weight matrix as a lookup table. We encode the words as integers, for example \"heart\" is encoded as 958, \"mind\" as 18094. Then to get hidden layer values for \"heart\", you just take the 958th row of the embedding matrix. This process is called an **embedding lookup** and the number of hidden units is the **embedding dimension**.\r\n",
        "\r\n",
        "<img src='assets/tokenize_lookup.png' width=500>\r\n",
        " \r\n",
        "There is nothing magical going on here. The embedding lookup table is just a weight matrix. The embedding layer is just a hidden layer. The lookup is just a shortcut for the matrix multiplication. The lookup table is trained just like any weight matrix as well.\r\n",
        "\r\n",
        "Embeddings aren't only used for words of course. You can use them for any model where you have a massive number of classes. A particular type of model called **Word2Vec** uses the embedding layer to find vector representations of words that contain semantic meaning.\r\n",
        "\r\n"
      ]
    },
    {
      "cell_type": "markdown",
      "metadata": {
        "id": "eSLz3tWhyWge"
      },
      "source": [
        "## Word2Vec\r\n",
        "\r\n",
        "The word2vec algorithm finds much more efficient representations by finding vectors that represent the words. These vectors also contain semantic information about the words. Words that show up in similar contexts, such as \"black\", \"white\", and \"red\" will have vectors near each other. There are two architectures for implementing word2vec, CBOW (Continuous Bag-Of-Words) and Skip-gram.\r\n",
        "\r\n",
        "<img src=\"assets/word2vec_architectures.png\" width=\"500\">\r\n",
        "\r\n",
        "In this implementation, we'll be using the skip-gram architecture because it performs better than CBOW. Here, we pass in a word and try to predict the words surrounding it in the text. In this way, we can train the network to learn representations for words that show up in similar contexts.\r\n",
        "\r\n",
        "First up, importing packages."
      ]
    },
    {
      "cell_type": "code",
      "metadata": {
        "colab": {
          "base_uri": "https://localhost:8080/"
        },
        "id": "o76Sd0br-4l_",
        "outputId": "ad912e1f-4910-438d-d6da-250cac56bbec"
      },
      "source": [
        "%tensorflow_version 1.x"
      ],
      "execution_count": 1,
      "outputs": [
        {
          "output_type": "stream",
          "text": [
            "TensorFlow 1.x selected.\n"
          ],
          "name": "stdout"
        }
      ]
    },
    {
      "cell_type": "code",
      "metadata": {
        "id": "rMA67bYJ-2zo"
      },
      "source": [
        "!rm -f utils.py\r\n",
        "!wget -q https://raw.githubusercontent.com/bhupendpatil/Practice/master/Deep%20Learning/Recurrent%20Networks/Embeddings%20and%20Word2vec/utils.py"
      ],
      "execution_count": 2,
      "outputs": []
    },
    {
      "cell_type": "code",
      "metadata": {
        "id": "8BCTFhtsyXoe"
      },
      "source": [
        "import time\r\n",
        "\r\n",
        "import numpy as np\r\n",
        "import tensorflow as tf\r\n",
        "\r\n",
        "import utils"
      ],
      "execution_count": 3,
      "outputs": []
    },
    {
      "cell_type": "markdown",
      "metadata": {
        "id": "MU568TSEyZF-"
      },
      "source": [
        "Load the [text8 dataset](http://mattmahoney.net/dc/textdata.html), a file of cleaned up Wikipedia articles from Matt Mahoney. The next cell will download the data set to the `data` folder. Then you can extract it and delete the archive file to save storage space."
      ]
    },
    {
      "cell_type": "code",
      "metadata": {
        "id": "dHWS1XOpyb_t",
        "colab": {
          "base_uri": "https://localhost:8080/"
        },
        "outputId": "e7c2fcfd-56ac-4481-b368-d722adf28e6e"
      },
      "source": [
        "from urllib.request import urlretrieve\r\n",
        "from os.path import isfile, isdir\r\n",
        "from tqdm import tqdm\r\n",
        "import zipfile\r\n",
        "\r\n",
        "dataset_folder_path = 'data'\r\n",
        "dataset_filename = 'text8.zip'\r\n",
        "dataset_name = 'Text8 Dataset'\r\n",
        "\r\n",
        "class DLProgress(tqdm):\r\n",
        "    last_block = 0\r\n",
        "\r\n",
        "    def hook(self, block_num=1, block_size=1, total_size=None):\r\n",
        "        self.total = total_size\r\n",
        "        self.update((block_num - self.last_block) * block_size)\r\n",
        "        self.last_block = block_num\r\n",
        "\r\n",
        "if not isfile(dataset_filename):\r\n",
        "    with DLProgress(unit='B', unit_scale=True, miniters=1, desc=dataset_name) as pbar:\r\n",
        "        urlretrieve(\r\n",
        "            'http://mattmahoney.net/dc/text8.zip',\r\n",
        "            dataset_filename,\r\n",
        "            pbar.hook)\r\n",
        "\r\n",
        "if not isdir(dataset_folder_path):\r\n",
        "    with zipfile.ZipFile(dataset_filename) as zip_ref:\r\n",
        "        zip_ref.extractall(dataset_folder_path)\r\n",
        "        \r\n",
        "with open('data/text8') as f:\r\n",
        "    text = f.read()"
      ],
      "execution_count": 4,
      "outputs": [
        {
          "output_type": "stream",
          "text": [
            "Text8 Dataset: 31.4MB [00:34, 906kB/s]                            \n"
          ],
          "name": "stderr"
        }
      ]
    },
    {
      "cell_type": "markdown",
      "metadata": {
        "id": "JS4UNmrFyd5H"
      },
      "source": [
        "## Preprocessing\r\n",
        "\r\n",
        "Here I'm fixing up the text to make training easier. This comes from the `utils` module I wrote. The `preprocess` function coverts any punctuation into tokens, so a period is changed to ` <PERIOD> `. In this data set, there aren't any periods, but it will help in other NLP problems. I'm also removing all words that show up five or fewer times in the dataset. This will greatly reduce issues due to noise in the data and improve the quality of the vector representations. If you want to write your own functions for this stuff, go for it."
      ]
    },
    {
      "cell_type": "code",
      "metadata": {
        "id": "doQqLK87yfD8",
        "colab": {
          "base_uri": "https://localhost:8080/"
        },
        "outputId": "ced1ca30-1bc4-430b-aaf0-f03475aca3ab"
      },
      "source": [
        "words = utils.preprocess(text)\r\n",
        "print(words[:30])"
      ],
      "execution_count": 5,
      "outputs": [
        {
          "output_type": "stream",
          "text": [
            "['anarchism', 'originated', 'as', 'a', 'term', 'of', 'abuse', 'first', 'used', 'against', 'early', 'working', 'class', 'radicals', 'including', 'the', 'diggers', 'of', 'the', 'english', 'revolution', 'and', 'the', 'sans', 'culottes', 'of', 'the', 'french', 'revolution', 'whilst']\n"
          ],
          "name": "stdout"
        }
      ]
    },
    {
      "cell_type": "code",
      "metadata": {
        "id": "CPw8lG4eyfhN",
        "colab": {
          "base_uri": "https://localhost:8080/"
        },
        "outputId": "3db10ce1-2da4-4004-882b-8bf53757d6c5"
      },
      "source": [
        "print(\"Total words: {}\".format(len(words)))\r\n",
        "print(\"Unique words: {}\".format(len(set(words))))"
      ],
      "execution_count": 6,
      "outputs": [
        {
          "output_type": "stream",
          "text": [
            "Total words: 16680599\n",
            "Unique words: 63641\n"
          ],
          "name": "stdout"
        }
      ]
    },
    {
      "cell_type": "markdown",
      "metadata": {
        "id": "TCUd7U9qyhK1"
      },
      "source": [
        "And here I'm creating dictionaries to convert words to integers and backwards, integers to words. The integers are assigned in descending frequency order, so the most frequent word (\"the\") is given the integer 0 and the next most frequent is 1 and so on. The words are converted to integers and stored in the list `int_words`."
      ]
    },
    {
      "cell_type": "code",
      "metadata": {
        "id": "7KyRBzowyikk"
      },
      "source": [
        "vocab_to_int, int_to_vocab = utils.create_lookup_tables(words)\r\n",
        "int_words = [vocab_to_int[word] for word in words]"
      ],
      "execution_count": 7,
      "outputs": []
    },
    {
      "cell_type": "markdown",
      "metadata": {
        "id": "rcImGwZ4yjTN"
      },
      "source": [
        "## Subsampling\r\n",
        "\r\n",
        "Words that show up often such as \"the\", \"of\", and \"for\" don't provide much context to the nearby words. If we discard some of them, we can remove some of the noise from our data and in return get faster training and better representations. This process is called subsampling by Mikolov. For each word $w_i$ in the training set, we'll discard it with probability given by \r\n",
        "\r\n",
        "$$ P(w_i) = 1 - \\sqrt{\\frac{t}{f(w_i)}} $$\r\n",
        "\r\n",
        "where $t$ is a threshold parameter and $f(w_i)$ is the frequency of word $w_i$ in the total dataset.\r\n",
        "\r\n",
        "I'm going to leave this up to you as an exercise. This is more of a programming challenge, than about deep learning specifically. But, being able to prepare your data for your network is an important skill to have. Check out my solution to see how I did it.\r\n",
        "\r\n",
        "> **Exercise:** Implement subsampling for the words in `int_words`. That is, go through `int_words` and discard each word given the probablility $P(w_i)$ shown above. Note that $P(w_i)$ is the probability that a word is discarded. Assign the subsampled data to `train_words`."
      ]
    },
    {
      "cell_type": "code",
      "metadata": {
        "id": "Xl2e8ozdynIn"
      },
      "source": [
        "## Your code here\r\n",
        "from collections import Counter\r\n",
        "import random\r\n",
        "\r\n",
        "t = 1e-5\r\n",
        "word_count = Counter(int_words)\r\n",
        "freq = {word: count/len(int_words) for word,count in word_count.items()}\r\n",
        "pro_drop = {word: 1-np.sqrt(t/freq[word]) for word in word_count} #applying formula\r\n",
        "train_words = [word for word in int_words if random.random() < (1-pro_drop[word])] # The final subsampled word list"
      ],
      "execution_count": 8,
      "outputs": []
    },
    {
      "cell_type": "markdown",
      "metadata": {
        "id": "jMEAFbZ5yskv"
      },
      "source": [
        "## Making batches"
      ]
    },
    {
      "cell_type": "markdown",
      "metadata": {
        "id": "2s--1F_gyxE1"
      },
      "source": [
        "Now that our data is in good shape, we need to get it into the proper form to pass it into our network. With the skip-gram architecture, for each word in the text, we want to grab all the words in a window around that word, with size $C$. \r\n",
        "\r\n",
        "From [Mikolov et al.](https://arxiv.org/pdf/1301.3781.pdf): \r\n",
        "\r\n",
        "\"Since the more distant words are usually less related to the current word than those close to it, we give less weight to the distant words by sampling less from those words in our training examples... If we choose $C = 5$, for each training word we will select randomly a number $R$ in range $< 1; C >$, and then use $R$ words from history and $R$ words from the future of the current word as correct labels.\"\r\n",
        "\r\n",
        "> **Exercise:** Implement a function `get_target` that receives a list of words, an index, and a window size, then returns a list of words in the window around the index. Make sure to use the algorithm described above, where you choose a random number of words from the window."
      ]
    },
    {
      "cell_type": "code",
      "metadata": {
        "id": "67TUv7riyonl"
      },
      "source": [
        "def get_target(words, idx, window_size=5):\r\n",
        "    ''' Get a list of words in a window around an index. '''\r\n",
        "    \r\n",
        "    # Your code here\r\n",
        "    R = np.random.random(1,window_size+1)\r\n",
        "    start = idx - R if (idx - R) > 0 else 0\r\n",
        "    stop = idx + R\r\n",
        "    target_words = set(words[start:idx] + words[idx+1:stop+1])\r\n",
        "    return list(target_words)"
      ],
      "execution_count": 11,
      "outputs": []
    },
    {
      "cell_type": "markdown",
      "metadata": {
        "id": "gMpTm4zZy1Bs"
      },
      "source": [
        "Here's a function that returns batches for our network. The idea is that it grabs `batch_size` words from a words list. Then for each of those words, it gets the target words in the window. I haven't found a way to pass in a random number of target words and get it to work with the architecture, so I make one row per input-target pair. This is a generator function by the way, helps save memory."
      ]
    },
    {
      "cell_type": "code",
      "metadata": {
        "id": "xRE6RoXAy0k0"
      },
      "source": [
        "def get_batches(words, batch_size, window_size=5):\r\n",
        "    ''' Create a generator of word batches as a tuple (inputs, targets) '''\r\n",
        "    \r\n",
        "    n_batches = len(words)//batch_size\r\n",
        "    \r\n",
        "    # only full batches\r\n",
        "    words = words[:n_batches*batch_size]\r\n",
        "    \r\n",
        "    for idx in range(0, len(words), batch_size):\r\n",
        "        x, y = [], []\r\n",
        "        batch = words[idx:idx+batch_size]\r\n",
        "        for ii in range(len(batch)):\r\n",
        "            batch_x = batch[ii]\r\n",
        "            batch_y = get_target(batch, ii, window_size)\r\n",
        "            y.extend(batch_y)\r\n",
        "            x.extend([batch_x]*len(batch_y))\r\n",
        "        yield x, y\r\n",
        "    "
      ],
      "execution_count": 12,
      "outputs": []
    },
    {
      "cell_type": "markdown",
      "metadata": {
        "id": "__u-PlHvy6Kl"
      },
      "source": [
        "## Building the graph\r\n",
        "\r\n",
        "From [Chris McCormick's blog](http://mccormickml.com/2016/04/19/word2vec-tutorial-the-skip-gram-model/), we can see the general structure of our network.\r\n",
        "![embedding_network](./assets/skip_gram_net_arch.png)\r\n",
        "\r\n",
        "The input words are passed in as integers. This will go into a hidden layer of linear units, then into a softmax layer. We'll use the softmax layer to make a prediction like normal.\r\n",
        "\r\n",
        "The idea here is to train the hidden layer weight matrix to find efficient representations for our words. We can discard the softmax layer becuase we don't really care about making predictions with this network. We just want the embedding matrix so we can use it in other networks we build from the dataset.\r\n",
        "\r\n",
        "I'm going to have you build the graph in stages now. First off, creating the `inputs` and `labels` placeholders like normal.\r\n",
        "\r\n",
        "> **Exercise:** Assign `inputs` and `labels` using `tf.placeholder`. We're going to be passing in integers, so set the data types to `tf.int32`. The batches we're passing in will have varying sizes, so set the batch sizes to [`None`]. To make things work later, you'll need to set the second dimension of `labels` to `None` or `1`."
      ]
    },
    {
      "cell_type": "code",
      "metadata": {
        "id": "_SN3V4-_y8DD"
      },
      "source": [
        "train_graph = tf.Graph()\r\n",
        "with train_graph.as_default():\r\n",
        "    inputs = \r\n",
        "    labels = "
      ],
      "execution_count": null,
      "outputs": []
    },
    {
      "cell_type": "markdown",
      "metadata": {
        "id": "1KgDNtOly9_s"
      },
      "source": [
        "## Embedding\r\n",
        "\r\n"
      ]
    },
    {
      "cell_type": "markdown",
      "metadata": {
        "id": "vxfsUFdIy_Xc"
      },
      "source": [
        "The embedding matrix has a size of the number of words by the number of units in the hidden layer. So, if you have 10,000 words and 300 hidden units, the matrix will have size $10,000 \\times 300$. Remember that we're using tokenized data for our inputs, usually as integers, where the number of tokens is the number of words in our vocabulary.\r\n",
        "\r\n",
        "\r\n",
        "> **Exercise:** Tensorflow provides a convenient function [`tf.nn.embedding_lookup`](https://www.tensorflow.org/api_docs/python/tf/nn/embedding_lookup) that does this lookup for us. You pass in the embedding matrix and a tensor of integers, then it returns rows in the matrix corresponding to those integers. Below, set the number of embedding features you'll use (200 is a good start), create the embedding matrix variable, and use `tf.nn.embedding_lookup` to get the embedding tensors. For the embedding matrix, I suggest you initialize it with a uniform random numbers between -1 and 1 using [tf.random_uniform](https://www.tensorflow.org/api_docs/python/tf/random_uniform)."
      ]
    },
    {
      "cell_type": "code",
      "metadata": {
        "id": "0PH7dkzMzBjZ"
      },
      "source": [
        "n_vocab = len(int_to_vocab)\r\n",
        "n_embedding =  # Number of embedding features \r\n",
        "with train_graph.as_default():\r\n",
        "    embedding = # create embedding weight matrix here\r\n",
        "    embed = # use tf.nn.embedding_lookup to get the hidden layer output"
      ],
      "execution_count": null,
      "outputs": []
    },
    {
      "cell_type": "markdown",
      "metadata": {
        "id": "lkYZNfq2zC-S"
      },
      "source": [
        "## Negative sampling\r\n",
        "\r\n"
      ]
    },
    {
      "cell_type": "markdown",
      "metadata": {
        "id": "cFKoF-JUzFgS"
      },
      "source": [
        "For every example we give the network, we train it using the output from the softmax layer. That means for each input, we're making very small changes to millions of weights even though we only have one true example. This makes training the network very inefficient. We can approximate the loss from the softmax layer by only updating a small subset of all the weights at once. We'll update the weights for the correct label, but only a small number of incorrect labels. This is called [\"negative sampling\"](http://papers.nips.cc/paper/5021-distributed-representations-of-words-and-phrases-and-their-compositionality.pdf). Tensorflow has a convenient function to do this, [`tf.nn.sampled_softmax_loss`](https://www.tensorflow.org/api_docs/python/tf/nn/sampled_softmax_loss).\r\n",
        "\r\n",
        "> **Exercise:** Below, create weights and biases for the softmax layer. Then, use [`tf.nn.sampled_softmax_loss`](https://www.tensorflow.org/api_docs/python/tf/nn/sampled_softmax_loss) to calculate the loss. Be sure to read the documentation to figure out how it works."
      ]
    },
    {
      "cell_type": "code",
      "metadata": {
        "id": "w6T6w-VtzEwg"
      },
      "source": [
        "# Number of negative labels to sample\r\n",
        "n_sampled = 100\r\n",
        "with train_graph.as_default():\r\n",
        "    softmax_w = # create softmax weight matrix here\r\n",
        "    softmax_b = # create softmax biases here\r\n",
        "    \r\n",
        "    # Calculate the loss using negative sampling\r\n",
        "    loss = tf.nn.sampled_softmax_loss \r\n",
        "    \r\n",
        "    cost = tf.reduce_mean(loss)\r\n",
        "    optimizer = tf.train.AdamOptimizer().minimize(cost)"
      ],
      "execution_count": null,
      "outputs": []
    },
    {
      "cell_type": "markdown",
      "metadata": {
        "id": "veR4n5ytzMpo"
      },
      "source": [
        "## Validation\r\n",
        "\r\n",
        "This code is from Thushan Ganegedara's implementation. Here we're going to choose a few common words and few uncommon words. Then, we'll print out the closest words to them. It's a nice way to check that our embedding table is grouping together words with similar semantic meanings."
      ]
    },
    {
      "cell_type": "code",
      "metadata": {
        "id": "vnmRCn_mzLsR"
      },
      "source": [
        "with train_graph.as_default():\r\n",
        "    ## From Thushan Ganegedara's implementation\r\n",
        "    valid_size = 16 # Random set of words to evaluate similarity on.\r\n",
        "    valid_window = 100\r\n",
        "    # pick 8 samples from (0,100) and (1000,1100) each ranges. lower id implies more frequent \r\n",
        "    valid_examples = np.array(random.sample(range(valid_window), valid_size//2))\r\n",
        "    valid_examples = np.append(valid_examples, \r\n",
        "                               random.sample(range(1000,1000+valid_window), valid_size//2))\r\n",
        "\r\n",
        "    valid_dataset = tf.constant(valid_examples, dtype=tf.int32)\r\n",
        "    \r\n",
        "    # We use the cosine distance:\r\n",
        "    norm = tf.sqrt(tf.reduce_sum(tf.square(embedding), 1, keep_dims=True))\r\n",
        "    normalized_embedding = embedding / norm\r\n",
        "    valid_embedding = tf.nn.embedding_lookup(normalized_embedding, valid_dataset)\r\n",
        "    similarity = tf.matmul(valid_embedding, tf.transpose(normalized_embedding))"
      ],
      "execution_count": null,
      "outputs": []
    },
    {
      "cell_type": "code",
      "metadata": {
        "id": "lXgIuE1VzR_f"
      },
      "source": [
        "# If the checkpoints directory doesn't exist:\r\n",
        "!mkdir checkpoints"
      ],
      "execution_count": null,
      "outputs": []
    },
    {
      "cell_type": "markdown",
      "metadata": {
        "id": "1cW5883pzUyr"
      },
      "source": [
        "## Training\r\n",
        "\r\n",
        "Below is the code to train the network. Every 100 batches it reports the training loss. Every 1000 batches, it'll print out the validation words."
      ]
    },
    {
      "cell_type": "code",
      "metadata": {
        "id": "7td9ehX7zUfR"
      },
      "source": [
        "epochs = 10\r\n",
        "batch_size = 1000\r\n",
        "window_size = 10\r\n",
        "\r\n",
        "with train_graph.as_default():\r\n",
        "    saver = tf.train.Saver()\r\n",
        "\r\n",
        "with tf.Session(graph=train_graph) as sess:\r\n",
        "    iteration = 1\r\n",
        "    loss = 0\r\n",
        "    sess.run(tf.global_variables_initializer())\r\n",
        "\r\n",
        "    for e in range(1, epochs+1):\r\n",
        "        batches = get_batches(train_words, batch_size, window_size)\r\n",
        "        start = time.time()\r\n",
        "        for x, y in batches:\r\n",
        "            \r\n",
        "            feed = {inputs: x,\r\n",
        "                    labels: np.array(y)[:, None]}\r\n",
        "            train_loss, _ = sess.run([cost, optimizer], feed_dict=feed)\r\n",
        "            \r\n",
        "            loss += train_loss\r\n",
        "            \r\n",
        "            if iteration % 100 == 0: \r\n",
        "                end = time.time()\r\n",
        "                print(\"Epoch {}/{}\".format(e, epochs),\r\n",
        "                      \"Iteration: {}\".format(iteration),\r\n",
        "                      \"Avg. Training loss: {:.4f}\".format(loss/100),\r\n",
        "                      \"{:.4f} sec/batch\".format((end-start)/100))\r\n",
        "                loss = 0\r\n",
        "                start = time.time()\r\n",
        "            \r\n",
        "            if iteration % 1000 == 0:\r\n",
        "                ## From Thushan Ganegedara's implementation\r\n",
        "                # note that this is expensive (~20% slowdown if computed every 500 steps)\r\n",
        "                sim = similarity.eval()\r\n",
        "                for i in range(valid_size):\r\n",
        "                    valid_word = int_to_vocab[valid_examples[i]]\r\n",
        "                    top_k = 8 # number of nearest neighbors\r\n",
        "                    nearest = (-sim[i, :]).argsort()[1:top_k+1]\r\n",
        "                    log = 'Nearest to %s:' % valid_word\r\n",
        "                    for k in range(top_k):\r\n",
        "                        close_word = int_to_vocab[nearest[k]]\r\n",
        "                        log = '%s %s,' % (log, close_word)\r\n",
        "                    print(log)\r\n",
        "            \r\n",
        "            iteration += 1\r\n",
        "    save_path = saver.save(sess, \"checkpoints/text8.ckpt\")\r\n",
        "    embed_mat = sess.run(normalized_embedding)"
      ],
      "execution_count": null,
      "outputs": []
    },
    {
      "cell_type": "markdown",
      "metadata": {
        "id": "bqyWhNmMzY3T"
      },
      "source": [
        "Restore the trained network if you need to:"
      ]
    },
    {
      "cell_type": "code",
      "metadata": {
        "id": "X0ZZ37zxzaVD"
      },
      "source": [
        "with train_graph.as_default():\r\n",
        "    saver = tf.train.Saver()\r\n",
        "\r\n",
        "with tf.Session(graph=train_graph) as sess:\r\n",
        "    saver.restore(sess, tf.train.latest_checkpoint('checkpoints'))\r\n",
        "    embed_mat = sess.run(embedding)"
      ],
      "execution_count": null,
      "outputs": []
    },
    {
      "cell_type": "markdown",
      "metadata": {
        "id": "gOz3y6sgzb1b"
      },
      "source": [
        "## Visualizing the word vectors\r\n",
        "\r\n",
        "Below we'll use T-SNE to visualize how our high-dimensional word vectors cluster together. T-SNE is used to project these vectors into two dimensions while preserving local stucture. Check out [this post from Christopher Olah](http://colah.github.io/posts/2014-10-Visualizing-MNIST/) to learn more about T-SNE and other ways to visualize high-dimensional data."
      ]
    },
    {
      "cell_type": "code",
      "metadata": {
        "id": "cXenPSvhze4z"
      },
      "source": [
        "%matplotlib inline\r\n",
        "%config InlineBackend.figure_format = 'retina'\r\n",
        "\r\n",
        "import matplotlib.pyplot as plt\r\n",
        "from sklearn.manifold import TSNE"
      ],
      "execution_count": null,
      "outputs": []
    },
    {
      "cell_type": "code",
      "metadata": {
        "id": "tNfgWFb4zhBN"
      },
      "source": [
        "viz_words = 500\r\n",
        "tsne = TSNE()\r\n",
        "embed_tsne = tsne.fit_transform(embed_mat[:viz_words, :])"
      ],
      "execution_count": null,
      "outputs": []
    },
    {
      "cell_type": "code",
      "metadata": {
        "id": "1p6Y4JbRzh-6"
      },
      "source": [
        "fig, ax = plt.subplots(figsize=(14, 14))\r\n",
        "for idx in range(viz_words):\r\n",
        "    plt.scatter(*embed_tsne[idx, :], color='steelblue')\r\n",
        "    plt.annotate(int_to_vocab[idx], (embed_tsne[idx, 0], embed_tsne[idx, 1]), alpha=0.7)"
      ],
      "execution_count": null,
      "outputs": []
    }
  ]
}
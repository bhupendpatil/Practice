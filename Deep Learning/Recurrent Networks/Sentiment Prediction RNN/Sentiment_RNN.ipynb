{
  "nbformat": 4,
  "nbformat_minor": 0,
  "metadata": {
    "colab": {
      "name": "Sentiment_RNN.ipynb",
      "provenance": [],
      "collapsed_sections": [],
      "machine_shape": "hm"
    },
    "kernelspec": {
      "name": "python3",
      "display_name": "Python 3"
    },
    "accelerator": "GPU"
  },
  "cells": [
    {
      "cell_type": "markdown",
      "metadata": {
        "id": "CZx8XMRYR12p"
      },
      "source": [
        "# Sentiment Analysis with an RNN\r\n",
        "\r\n",
        "In this notebook, you'll implement a recurrent neural network that performs sentiment analysis. Using an RNN rather than a feedfoward network is more accurate since we can include information about the *sequence* of words. Here we'll use a dataset of movie reviews, accompanied by labels.\r\n",
        "\r\n",
        "The architecture for this network is shown below.\r\n",
        "\r\n",
        "<img src=\"assets/network_diagram.png\" width=400px>\r\n",
        "\r\n",
        "Here, we'll pass in words to an embedding layer. We need an embedding layer because we have tens of thousands of words, so we'll need a more efficient representation for our input data than one-hot encoded vectors. You should have seen this before from the word2vec lesson. You can actually train up an embedding with word2vec and use it here. But it's good enough to just have an embedding layer and let the network learn the embedding table on it's own.\r\n",
        "\r\n",
        "From the embedding layer, the new representations will be passed to LSTM cells. These will add recurrent connections to the network so we can include information about the sequence of words in the data. Finally, the LSTM cells will go to a sigmoid output layer here. We're using the sigmoid because we're trying to predict if this text has positive or negative sentiment. The output layer will just be a single unit then, with a sigmoid activation function.\r\n",
        "\r\n",
        "We don't care about the sigmoid outputs except for the very last one, we can ignore the rest. We'll calculate the cost from the output of the last step and the training label."
      ]
    },
    {
      "cell_type": "code",
      "metadata": {
        "id": "biPzvYPSS4kE"
      },
      "source": [
        "%tensorflow_version 1.x"
      ],
      "execution_count": null,
      "outputs": []
    },
    {
      "cell_type": "code",
      "metadata": {
        "id": "HXrIqEBqR2_C"
      },
      "source": [
        "import numpy as np\r\n",
        "import tensorflow as tf"
      ],
      "execution_count": null,
      "outputs": []
    },
    {
      "cell_type": "code",
      "metadata": {
        "id": "sQ4CDZEeTN6s"
      },
      "source": [
        "!rm -r -f reviews.txt\r\n",
        "!rm -r -f labels.txt\r\n",
        "!wget -q https://raw.githubusercontent.com/udacity/deep-learning/master/sentiment-network/labels.txt\r\n",
        "!wget -q https://raw.githubusercontent.com/udacity/deep-learning/master/sentiment-network/reviews.txt"
      ],
      "execution_count": null,
      "outputs": []
    },
    {
      "cell_type": "code",
      "metadata": {
        "id": "-5nCBlyeR6nw"
      },
      "source": [
        "with open('reviews.txt', 'r') as f:\r\n",
        "    reviews = f.read()\r\n",
        "with open('labels.txt', 'r') as f:\r\n",
        "    labels = f.read()"
      ],
      "execution_count": null,
      "outputs": []
    },
    {
      "cell_type": "code",
      "metadata": {
        "id": "SAi_y4aOR8s4"
      },
      "source": [
        "reviews[:2000]"
      ],
      "execution_count": null,
      "outputs": []
    },
    {
      "cell_type": "markdown",
      "metadata": {
        "id": "uB49q-2fR6On"
      },
      "source": [
        "## Data preprocessing\r\n",
        "\r\n",
        "The first step when building a neural network model is getting your data into the proper form to feed into the network. Since we're using embedding layers, we'll need to encode each word with an integer. We'll also want to clean it up a bit.\r\n",
        "\r\n",
        "You can see an example of the reviews data above. We'll want to get rid of those periods. Also, you might notice that the reviews are delimited with newlines `\\n`. To deal with those, I'm going to split the text into each review using `\\n` as the delimiter. Then I can combined all the reviews back together into one big string.\r\n",
        "\r\n",
        "First, let's remove all punctuation. Then get all the text without the newlines and split it into individual words."
      ]
    },
    {
      "cell_type": "code",
      "metadata": {
        "id": "a0h7OjUzSAKX"
      },
      "source": [
        "from string import punctuation\r\n",
        "all_text = ''.join([c for c in reviews if c not in punctuation])\r\n",
        "reviews = all_text.split('\\n')\r\n",
        "\r\n",
        "all_text = ' '.join(reviews)\r\n",
        "words = all_text.split()"
      ],
      "execution_count": null,
      "outputs": []
    },
    {
      "cell_type": "code",
      "metadata": {
        "id": "eUVXAHh5SA3n"
      },
      "source": [
        "all_text[:2000]"
      ],
      "execution_count": null,
      "outputs": []
    },
    {
      "cell_type": "code",
      "metadata": {
        "id": "W_PMJpWjSCqw"
      },
      "source": [
        "words[:100]"
      ],
      "execution_count": null,
      "outputs": []
    },
    {
      "cell_type": "markdown",
      "metadata": {
        "id": "YNVeqqJASEZn"
      },
      "source": [
        "### Encoding the words\r\n",
        "\r\n",
        "The embedding lookup requires that we pass in integers to our network. The easiest way to do this is to create dictionaries that map the words in the vocabulary to integers. Then we can convert each of our reviews into integers so they can be passed into the network.\r\n",
        "\r\n",
        "> **Exercise:** Now you're going to encode the words with integers. Build a dictionary that maps words to integers. Later we're going to pad our input vectors with zeros, so make sure the integers **start at 1, not 0**.\r\n",
        "> Also, convert the reviews to integers and store the reviews in a new list called `reviews_ints`. "
      ]
    },
    {
      "cell_type": "code",
      "metadata": {
        "id": "02DL5laSSGAe"
      },
      "source": [
        "# Create your dictionary that maps vocab words to integers here\r\n",
        "vocab_to_int = \r\n",
        "\r\n",
        "# Convert the reviews to integers, same shape as reviews list, but with integers\r\n",
        "reviews_ints = "
      ],
      "execution_count": null,
      "outputs": []
    },
    {
      "cell_type": "markdown",
      "metadata": {
        "id": "3MoD-Lh7SJ-G"
      },
      "source": [
        "### Encoding the labels\r\n",
        "\r\n",
        "Our labels are \"positive\" or \"negative\". To use these labels in our network, we need to convert them to 0 and 1.\r\n",
        "\r\n",
        "> **Exercise:** Convert labels from `positive` and `negative` to 1 and 0, respectively."
      ]
    },
    {
      "cell_type": "code",
      "metadata": {
        "id": "5yLF356BSK-p"
      },
      "source": [
        "# Convert labels to 1s and 0s for 'positive' and 'negative'\r\n",
        "labels = "
      ],
      "execution_count": null,
      "outputs": []
    },
    {
      "cell_type": "markdown",
      "metadata": {
        "id": "bODD--loSMVn"
      },
      "source": [
        "If you built `labels` correctly, you should see the next output."
      ]
    },
    {
      "cell_type": "code",
      "metadata": {
        "id": "JndmPAqkSNUI"
      },
      "source": [
        "from collections import Counter\r\n",
        "review_lens = Counter([len(x) for x in reviews_ints])\r\n",
        "print(\"Zero-length reviews: {}\".format(review_lens[0]))\r\n",
        "print(\"Maximum review length: {}\".format(max(review_lens)))"
      ],
      "execution_count": null,
      "outputs": []
    },
    {
      "cell_type": "markdown",
      "metadata": {
        "id": "4zdeWUncSOjW"
      },
      "source": [
        "Okay, a couple issues here. We seem to have one review with zero length. And, the maximum review length is way too many steps for our RNN. Let's truncate to 200 steps. For reviews shorter than 200, we'll pad with 0s. For reviews longer than 200, we can truncate them to the first 200 characters.\r\n",
        "\r\n",
        "> **Exercise:** First, remove the review with zero length from the `reviews_ints` list."
      ]
    },
    {
      "cell_type": "code",
      "metadata": {
        "id": "QVA3-JOiSP3e"
      },
      "source": [
        "# Filter out that review with 0 length\r\n",
        "reviews_ints = "
      ],
      "execution_count": null,
      "outputs": []
    },
    {
      "cell_type": "markdown",
      "metadata": {
        "id": "CXuuQ4aqSQ9h"
      },
      "source": [
        "> **Exercise:** Now, create an array `features` that contains the data we'll pass to the network. The data should come from `review_ints`, since we want to feed integers to the network. Each row should be 200 elements long. For reviews shorter than 200 words, left pad with 0s. That is, if the review is `['best', 'movie', 'ever']`, `[117, 18, 128]` as integers, the row will look like `[0, 0, 0, ..., 0, 117, 18, 128]`. For reviews longer than 200, use on the first 200 words as the feature vector.\r\n",
        "\r\n",
        "This isn't trivial and there are a bunch of ways to do this. But, if you're going to be building your own deep learning networks, you're going to have to get used to preparing your data.\r\n",
        "\r\n"
      ]
    },
    {
      "cell_type": "code",
      "metadata": {
        "id": "DKwdoDPrSSKO"
      },
      "source": [
        "seq_len = 200\r\n",
        "features = "
      ],
      "execution_count": null,
      "outputs": []
    },
    {
      "cell_type": "markdown",
      "metadata": {
        "id": "-vWK644JSTJi"
      },
      "source": [
        "If you build features correctly, it should look like that cell output below."
      ]
    },
    {
      "cell_type": "code",
      "metadata": {
        "id": "5o4CC0hwSUJC"
      },
      "source": [
        "features[:10,:100]"
      ],
      "execution_count": null,
      "outputs": []
    },
    {
      "cell_type": "markdown",
      "metadata": {
        "id": "eI0hT-RqSWKQ"
      },
      "source": [
        "## Training, Validation, Test\r\n",
        "\r\n"
      ]
    },
    {
      "cell_type": "markdown",
      "metadata": {
        "id": "ZGc43mi8SXAR"
      },
      "source": [
        "With our data in nice shape, we'll split it into training, validation, and test sets.\r\n",
        "\r\n",
        "> **Exercise:** Create the training, validation, and test sets here. You'll need to create sets for the features and the labels, `train_x` and `train_y` for example. Define a split fraction, `split_frac` as the fraction of data to keep in the training set. Usually this is set to 0.8 or 0.9. The rest of the data will be split in half to create the validation and testing data."
      ]
    },
    {
      "cell_type": "code",
      "metadata": {
        "id": "E7t4hlrCSX9d"
      },
      "source": [
        "split_frac = 0.8\r\n",
        "\r\n",
        "train_x, val_x = \r\n",
        "train_y, val_y = \r\n",
        "\r\n",
        "val_x, test_x = \r\n",
        "val_y, test_y = \r\n",
        "\r\n",
        "print(\"\\t\\t\\tFeature Shapes:\")\r\n",
        "print(\"Train set: \\t\\t{}\".format(train_x.shape), \r\n",
        "      \"\\nValidation set: \\t{}\".format(val_x.shape),\r\n",
        "      \"\\nTest set: \\t\\t{}\".format(test_x.shape))"
      ],
      "execution_count": null,
      "outputs": []
    },
    {
      "cell_type": "markdown",
      "metadata": {
        "id": "S_KC79sLSZZZ"
      },
      "source": [
        "## Build the graph\r\n",
        "\r\n",
        "Here, we'll build the graph. First up, defining the hyperparameters.\r\n",
        "\r\n",
        "* `lstm_size`: Number of units in the hidden layers in the LSTM cells. Usually larger is better performance wise. Common values are 128, 256, 512, etc.\r\n",
        "* `lstm_layers`: Number of LSTM layers in the network. I'd start with 1, then add more if I'm underfitting.\r\n",
        "* `batch_size`: The number of reviews to feed the network in one training pass. Typically this should be set as high as you can go without running out of memory.\r\n",
        "* `learning_rate`: Learning rate"
      ]
    },
    {
      "cell_type": "code",
      "metadata": {
        "id": "VOOjPcOMSaxg"
      },
      "source": [
        "lstm_size = 256\r\n",
        "lstm_layers = 1\r\n",
        "batch_size = 500\r\n",
        "learning_rate = 0.001"
      ],
      "execution_count": null,
      "outputs": []
    },
    {
      "cell_type": "markdown",
      "metadata": {
        "id": "OSjTxhsoSdj8"
      },
      "source": [
        "For the network itself, we'll be passing in our 200 element long review vectors. Each batch will be `batch_size` vectors. We'll also be using dropout on the LSTM layer, so we'll make a placeholder for the keep probability."
      ]
    },
    {
      "cell_type": "markdown",
      "metadata": {
        "id": "r5CnHrGESerf"
      },
      "source": [
        "> **Exercise:** Create the `inputs_`, `labels_`, and drop out `keep_prob` placeholders using `tf.placeholder`. `labels_` needs to be two-dimensional to work with some functions later.  Since `keep_prob` is a scalar (a 0-dimensional tensor), you shouldn't provide a size to `tf.placeholder`."
      ]
    },
    {
      "cell_type": "code",
      "metadata": {
        "id": "kSlXLg_uSfzG"
      },
      "source": [
        "n_words = len(vocab_to_int) + 1 # Adding 1 because we use 0's for padding, dictionary started at 1\r\n",
        "\r\n",
        "# Create the graph object\r\n",
        "graph = tf.Graph()\r\n",
        "# Add nodes to the graph\r\n",
        "with graph.as_default():\r\n",
        "    inputs_ = \r\n",
        "    labels_ = \r\n",
        "    keep_prob = "
      ],
      "execution_count": null,
      "outputs": []
    },
    {
      "cell_type": "markdown",
      "metadata": {
        "id": "7qdooXllShHW"
      },
      "source": [
        "### Embedding\r\n",
        "\r\n",
        "Now we'll add an embedding layer. We need to do this because there are 74000 words in our vocabulary. It is massively inefficient to one-hot encode our classes here. You should remember dealing with this problem from the word2vec lesson. Instead of one-hot encoding, we can have an embedding layer and use that layer as a lookup table. You could train an embedding layer using word2vec, then load it here. But, it's fine to just make a new layer and let the network learn the weights.\r\n",
        "\r\n",
        "> **Exercise:** Create the embedding lookup matrix as a `tf.Variable`. Use that embedding matrix to get the embedded vectors to pass to the LSTM cell with [`tf.nn.embedding_lookup`](https://www.tensorflow.org/api_docs/python/tf/nn/embedding_lookup). This function takes the embedding matrix and an input tensor, such as the review vectors. Then, it'll return another tensor with the embedded vectors. So, if the embedding layer has 200 units, the function will return a tensor with size [batch_size, 200].\r\n",
        "\r\n"
      ]
    },
    {
      "cell_type": "code",
      "metadata": {
        "id": "UT8EnqcESicU"
      },
      "source": [
        "# Size of the embedding vectors (number of units in the embedding layer)\r\n",
        "embed_size = 300 \r\n",
        "\r\n",
        "with graph.as_default():\r\n",
        "    embedding = \r\n",
        "    embed = "
      ],
      "execution_count": null,
      "outputs": []
    },
    {
      "cell_type": "markdown",
      "metadata": {
        "id": "RZ3CP_3uSj_W"
      },
      "source": [
        "### LSTM cell\r\n",
        "\r\n",
        "<img src=\"assets/network_diagram.png\" width=400px>\r\n",
        "\r\n",
        "Next, we'll create our LSTM cells to use in the recurrent network ([TensorFlow documentation](https://www.tensorflow.org/api_docs/python/tf/contrib/rnn)). Here we are just defining what the cells look like. This isn't actually building the graph, just defining the type of cells we want in our graph.\r\n",
        "\r\n",
        "To create a basic LSTM cell for the graph, you'll want to use `tf.contrib.rnn.BasicLSTMCell`. Looking at the function documentation:\r\n",
        "\r\n",
        "```\r\n",
        "tf.contrib.rnn.BasicLSTMCell(num_units, forget_bias=1.0, input_size=None, state_is_tuple=True, activation=<function tanh at 0x109f1ef28>)\r\n",
        "```\r\n",
        "\r\n",
        "you can see it takes a parameter called `num_units`, the number of units in the cell, called `lstm_size` in this code. So then, you can write something like \r\n",
        "\r\n",
        "```\r\n",
        "lstm = tf.contrib.rnn.BasicLSTMCell(num_units)\r\n",
        "```\r\n",
        "\r\n",
        "to create an LSTM cell with `num_units`. Next, you can add dropout to the cell with `tf.contrib.rnn.DropoutWrapper`. This just wraps the cell in another cell, but with dropout added to the inputs and/or outputs. It's a really convenient way to make your network better with almost no effort! So you'd do something like\r\n",
        "\r\n",
        "```\r\n",
        "drop = tf.contrib.rnn.DropoutWrapper(cell, output_keep_prob=keep_prob)\r\n",
        "```\r\n",
        "\r\n",
        "Most of the time, your network will have better performance with more layers. That's sort of the magic of deep learning, adding more layers allows the network to learn really complex relationships. Again, there is a simple way to create multiple layers of LSTM cells with `tf.contrib.rnn.MultiRNNCell`:\r\n",
        "\r\n",
        "```\r\n",
        "cell = tf.contrib.rnn.MultiRNNCell([drop] * lstm_layers)\r\n",
        "```\r\n",
        "\r\n",
        "Here, `[drop] * lstm_layers` creates a list of cells (`drop`) that is `lstm_layers` long. The `MultiRNNCell` wrapper builds this into multiple layers of RNN cells, one for each cell in the list.\r\n",
        "\r\n",
        "So the final cell you're using in the network is actually multiple (or just one) LSTM cells with dropout. But it all works the same from an architectural viewpoint, just a more complicated graph in the cell.\r\n",
        "\r\n",
        "> **Exercise:** Below, use `tf.contrib.rnn.BasicLSTMCell` to create an LSTM cell. Then, add drop out to it with `tf.contrib.rnn.DropoutWrapper`. Finally, create multiple LSTM layers with `tf.contrib.rnn.MultiRNNCell`.\r\n",
        "\r\n",
        "Here is [a tutorial on building RNNs](https://www.tensorflow.org/tutorials/recurrent) that will help you out.\r\n"
      ]
    },
    {
      "cell_type": "code",
      "metadata": {
        "id": "aOHoYZaJSlU1"
      },
      "source": [
        "with graph.as_default():\r\n",
        "    # Your basic LSTM cell\r\n",
        "    lstm = \r\n",
        "    \r\n",
        "    # Add dropout to the cell\r\n",
        "    drop = \r\n",
        "    \r\n",
        "    # Stack up multiple LSTM layers, for deep learning\r\n",
        "    cell = \r\n",
        "    \r\n",
        "    # Getting an initial state of all zeros\r\n",
        "    initial_state = cell.zero_state(batch_size, tf.float32)"
      ],
      "execution_count": null,
      "outputs": []
    },
    {
      "cell_type": "markdown",
      "metadata": {
        "id": "yHDtvnmeSnW9"
      },
      "source": [
        "### RNN forward pass\r\n",
        "\r\n",
        "<img src=\"assets/network_diagram.png\" width=400px>\r\n",
        "\r\n",
        "Now we need to actually run the data through the RNN nodes. You can use [`tf.nn.dynamic_rnn`](https://www.tensorflow.org/api_docs/python/tf/nn/dynamic_rnn) to do this. You'd pass in the RNN cell you created (our multiple layered LSTM `cell` for instance), and the inputs to the network.\r\n",
        "\r\n",
        "```\r\n",
        "outputs, final_state = tf.nn.dynamic_rnn(cell, inputs, initial_state=initial_state)\r\n",
        "```\r\n",
        "\r\n",
        "Above I created an initial state, `initial_state`, to pass to the RNN. This is the cell state that is passed between the hidden layers in successive time steps. `tf.nn.dynamic_rnn` takes care of most of the work for us. We pass in our cell and the input to the cell, then it does the unrolling and everything else for us. It returns outputs for each time step and the final_state of the hidden layer.\r\n",
        "\r\n",
        "> **Exercise:** Use `tf.nn.dynamic_rnn` to add the forward pass through the RNN. Remember that we're actually passing in vectors from the embedding layer, `embed`.\r\n",
        "\r\n"
      ]
    },
    {
      "cell_type": "code",
      "metadata": {
        "id": "eAlYqU80Sopo"
      },
      "source": [
        "with graph.as_default():\r\n",
        "    outputs, final_state = "
      ],
      "execution_count": null,
      "outputs": []
    },
    {
      "cell_type": "markdown",
      "metadata": {
        "id": "Y3nd4N7nSp3M"
      },
      "source": [
        "### Output\r\n",
        "\r\n",
        "We only care about the final output, we'll be using that as our sentiment prediction. So we need to grab the last output with `outputs[:, -1]`, the calculate the cost from that and `labels_`."
      ]
    },
    {
      "cell_type": "code",
      "metadata": {
        "id": "Ewk8iiSiSqoM"
      },
      "source": [
        "with graph.as_default():\r\n",
        "    predictions = tf.contrib.layers.fully_connected(outputs[:, -1], 1, activation_fn=tf.sigmoid)\r\n",
        "    cost = tf.losses.mean_squared_error(labels_, predictions)\r\n",
        "    \r\n",
        "    optimizer = tf.train.AdamOptimizer(learning_rate).minimize(cost)"
      ],
      "execution_count": null,
      "outputs": []
    },
    {
      "cell_type": "markdown",
      "metadata": {
        "id": "budOmatLSrtV"
      },
      "source": [
        "### Validation accuracy\r\n",
        "\r\n",
        "Here we can add a few nodes to calculate the accuracy which we'll use in the validation pass."
      ]
    },
    {
      "cell_type": "code",
      "metadata": {
        "id": "khd-ZBPkSsx5"
      },
      "source": [
        "with graph.as_default():\r\n",
        "    correct_pred = tf.equal(tf.cast(tf.round(predictions), tf.int32), labels_)\r\n",
        "    accuracy = tf.reduce_mean(tf.cast(correct_pred, tf.float32))"
      ],
      "execution_count": null,
      "outputs": []
    },
    {
      "cell_type": "markdown",
      "metadata": {
        "id": "TTOc6n7KStuw"
      },
      "source": [
        "### Batching\r\n",
        "\r\n",
        "This is a simple function for returning batches from our data. First it removes data such that we only have full batches. Then it iterates through the `x` and `y` arrays and returns slices out of those arrays with size `[batch_size]`."
      ]
    },
    {
      "cell_type": "code",
      "metadata": {
        "id": "DbEpzsWJSvQA"
      },
      "source": [
        "def get_batches(x, y, batch_size=100):\r\n",
        "    \r\n",
        "    n_batches = len(x)//batch_size\r\n",
        "    x, y = x[:n_batches*batch_size], y[:n_batches*batch_size]\r\n",
        "    for ii in range(0, len(x), batch_size):\r\n",
        "        yield x[ii:ii+batch_size], y[ii:ii+batch_size]"
      ],
      "execution_count": null,
      "outputs": []
    },
    {
      "cell_type": "markdown",
      "metadata": {
        "id": "u1RCqSfrSwbf"
      },
      "source": [
        "## Training\r\n",
        "\r\n",
        "Below is the typical training code. If you want to do this yourself, feel free to delete all this code and implement it yourself. Before you run this, make sure the `checkpoints` directory exists."
      ]
    },
    {
      "cell_type": "code",
      "metadata": {
        "id": "Dzu66OOOSyHs"
      },
      "source": [
        "epochs = 10\r\n",
        "\r\n",
        "with graph.as_default():\r\n",
        "    saver = tf.train.Saver()\r\n",
        "\r\n",
        "with tf.Session(graph=graph) as sess:\r\n",
        "    sess.run(tf.global_variables_initializer())\r\n",
        "    iteration = 1\r\n",
        "    for e in range(epochs):\r\n",
        "        state = sess.run(initial_state)\r\n",
        "        \r\n",
        "        for ii, (x, y) in enumerate(get_batches(train_x, train_y, batch_size), 1):\r\n",
        "            feed = {inputs_: x,\r\n",
        "                    labels_: y[:, None],\r\n",
        "                    keep_prob: 0.5,\r\n",
        "                    initial_state: state}\r\n",
        "            loss, state, _ = sess.run([cost, final_state, optimizer], feed_dict=feed)\r\n",
        "            \r\n",
        "            if iteration%5==0:\r\n",
        "                print(\"Epoch: {}/{}\".format(e, epochs),\r\n",
        "                      \"Iteration: {}\".format(iteration),\r\n",
        "                      \"Train loss: {:.3f}\".format(loss))\r\n",
        "\r\n",
        "            if iteration%25==0:\r\n",
        "                val_acc = []\r\n",
        "                val_state = sess.run(cell.zero_state(batch_size, tf.float32))\r\n",
        "                for x, y in get_batches(val_x, val_y, batch_size):\r\n",
        "                    feed = {inputs_: x,\r\n",
        "                            labels_: y[:, None],\r\n",
        "                            keep_prob: 1,\r\n",
        "                            initial_state: val_state}\r\n",
        "                    batch_acc, val_state = sess.run([accuracy, final_state], feed_dict=feed)\r\n",
        "                    val_acc.append(batch_acc)\r\n",
        "                print(\"Val acc: {:.3f}\".format(np.mean(val_acc)))\r\n",
        "            iteration +=1\r\n",
        "    saver.save(sess, \"checkpoints/sentiment.ckpt\")"
      ],
      "execution_count": null,
      "outputs": []
    },
    {
      "cell_type": "markdown",
      "metadata": {
        "id": "4wVEt4GCSzvd"
      },
      "source": [
        "## Testing"
      ]
    },
    {
      "cell_type": "code",
      "metadata": {
        "id": "vg6PSRD7S0oq"
      },
      "source": [
        "test_acc = []\r\n",
        "with tf.Session(graph=graph) as sess:\r\n",
        "    saver.restore(sess, tf.train.latest_checkpoint('checkpoints'))\r\n",
        "    test_state = sess.run(cell.zero_state(batch_size, tf.float32))\r\n",
        "    for ii, (x, y) in enumerate(get_batches(test_x, test_y, batch_size), 1):\r\n",
        "        feed = {inputs_: x,\r\n",
        "                labels_: y[:, None],\r\n",
        "                keep_prob: 1,\r\n",
        "                initial_state: test_state}\r\n",
        "        batch_acc, test_state = sess.run([accuracy, final_state], feed_dict=feed)\r\n",
        "        test_acc.append(batch_acc)\r\n",
        "    print(\"Test accuracy: {:.3f}\".format(np.mean(test_acc)))"
      ],
      "execution_count": null,
      "outputs": []
    }
  ]
}
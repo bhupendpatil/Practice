{
  "nbformat": 4,
  "nbformat_minor": 0,
  "metadata": {
    "colab": {
      "name": "Sentiment_RNN.ipynb",
      "provenance": [],
      "collapsed_sections": [],
      "machine_shape": "hm"
    },
    "kernelspec": {
      "name": "python3",
      "display_name": "Python 3"
    },
    "accelerator": "GPU"
  },
  "cells": [
    {
      "cell_type": "markdown",
      "metadata": {
        "id": "CZx8XMRYR12p"
      },
      "source": [
        "# Sentiment Analysis with an RNN\r\n",
        "\r\n",
        "In this notebook, you'll implement a recurrent neural network that performs sentiment analysis. Using an RNN rather than a feedfoward network is more accurate since we can include information about the *sequence* of words. Here we'll use a dataset of movie reviews, accompanied by labels.\r\n",
        "\r\n",
        "The architecture for this network is shown below.\r\n",
        "\r\n",
        "<img src=\"assets/network_diagram.png\" width=400px>\r\n",
        "\r\n",
        "Here, we'll pass in words to an embedding layer. We need an embedding layer because we have tens of thousands of words, so we'll need a more efficient representation for our input data than one-hot encoded vectors. You should have seen this before from the word2vec lesson. You can actually train up an embedding with word2vec and use it here. But it's good enough to just have an embedding layer and let the network learn the embedding table on it's own.\r\n",
        "\r\n",
        "From the embedding layer, the new representations will be passed to LSTM cells. These will add recurrent connections to the network so we can include information about the sequence of words in the data. Finally, the LSTM cells will go to a sigmoid output layer here. We're using the sigmoid because we're trying to predict if this text has positive or negative sentiment. The output layer will just be a single unit then, with a sigmoid activation function.\r\n",
        "\r\n",
        "We don't care about the sigmoid outputs except for the very last one, we can ignore the rest. We'll calculate the cost from the output of the last step and the training label."
      ]
    },
    {
      "cell_type": "code",
      "metadata": {
        "colab": {
          "base_uri": "https://localhost:8080/"
        },
        "id": "biPzvYPSS4kE",
        "outputId": "cc621a63-77aa-42a5-8fc9-7ec3201f20a8"
      },
      "source": [
        "%tensorflow_version 1.x"
      ],
      "execution_count": 1,
      "outputs": [
        {
          "output_type": "stream",
          "text": [
            "TensorFlow 1.x selected.\n"
          ],
          "name": "stdout"
        }
      ]
    },
    {
      "cell_type": "code",
      "metadata": {
        "id": "HXrIqEBqR2_C"
      },
      "source": [
        "import numpy as np\r\n",
        "import tensorflow as tf"
      ],
      "execution_count": 2,
      "outputs": []
    },
    {
      "cell_type": "code",
      "metadata": {
        "id": "sQ4CDZEeTN6s"
      },
      "source": [
        "!rm -r -f reviews.txt\r\n",
        "!rm -r -f labels.txt\r\n",
        "!wget -q https://raw.githubusercontent.com/udacity/deep-learning/master/sentiment-network/labels.txt\r\n",
        "!wget -q https://raw.githubusercontent.com/udacity/deep-learning/master/sentiment-network/reviews.txt"
      ],
      "execution_count": 3,
      "outputs": []
    },
    {
      "cell_type": "code",
      "metadata": {
        "id": "-5nCBlyeR6nw"
      },
      "source": [
        "with open('reviews.txt', 'r') as f:\r\n",
        "    reviews = f.read()\r\n",
        "with open('labels.txt', 'r') as f:\r\n",
        "    labels = f.read()"
      ],
      "execution_count": 4,
      "outputs": []
    },
    {
      "cell_type": "code",
      "metadata": {
        "colab": {
          "base_uri": "https://localhost:8080/",
          "height": 137
        },
        "id": "SAi_y4aOR8s4",
        "outputId": "c6e78be8-751b-42bf-edfe-a782a05e3cc2"
      },
      "source": [
        "reviews[:2000]"
      ],
      "execution_count": 5,
      "outputs": [
        {
          "output_type": "execute_result",
          "data": {
            "application/vnd.google.colaboratory.intrinsic+json": {
              "type": "string"
            },
            "text/plain": [
              "'bromwell high is a cartoon comedy . it ran at the same time as some other programs about school life  such as  teachers  . my   years in the teaching profession lead me to believe that bromwell high  s satire is much closer to reality than is  teachers  . the scramble to survive financially  the insightful students who can see right through their pathetic teachers  pomp  the pettiness of the whole situation  all remind me of the schools i knew and their students . when i saw the episode in which a student repeatedly tried to burn down the school  i immediately recalled . . . . . . . . . at . . . . . . . . . . high . a classic line inspector i  m here to sack one of your teachers . student welcome to bromwell high . i expect that many adults of my age think that bromwell high is far fetched . what a pity that it isn  t   \\nstory of a man who has unnatural feelings for a pig . starts out with a opening scene that is a terrific example of absurd comedy . a formal orchestra audience is turned into an insane  violent mob by the crazy chantings of it  s singers . unfortunately it stays absurd the whole time with no general narrative eventually making it just too off putting . even those from the era should be turned off . the cryptic dialogue would make shakespeare seem easy to a third grader . on a technical level it  s better than you might think with some good cinematography by future great vilmos zsigmond . future stars sally kirkland and frederic forrest can be seen briefly .  \\nhomelessness  or houselessness as george carlin stated  has been an issue for years but never a plan to help those on the street that were once considered human who did everything from going to school  work  or vote for the matter . most people think of the homeless as just a lost cause while worrying about things such as racism  the war on iraq  pressuring kids to succeed  technology  the elections  inflation  or worrying if they  ll be next to end up on the streets .  br    br   but what if y'"
            ]
          },
          "metadata": {
            "tags": []
          },
          "execution_count": 5
        }
      ]
    },
    {
      "cell_type": "markdown",
      "metadata": {
        "id": "uB49q-2fR6On"
      },
      "source": [
        "## Data preprocessing\r\n",
        "\r\n",
        "The first step when building a neural network model is getting your data into the proper form to feed into the network. Since we're using embedding layers, we'll need to encode each word with an integer. We'll also want to clean it up a bit.\r\n",
        "\r\n",
        "You can see an example of the reviews data above. We'll want to get rid of those periods. Also, you might notice that the reviews are delimited with newlines `\\n`. To deal with those, I'm going to split the text into each review using `\\n` as the delimiter. Then I can combined all the reviews back together into one big string.\r\n",
        "\r\n",
        "First, let's remove all punctuation. Then get all the text without the newlines and split it into individual words."
      ]
    },
    {
      "cell_type": "code",
      "metadata": {
        "id": "a0h7OjUzSAKX"
      },
      "source": [
        "from string import punctuation\r\n",
        "all_text = ''.join([c for c in reviews if c not in punctuation])\r\n",
        "reviews = all_text.split('\\n')\r\n",
        "\r\n",
        "all_text = ' '.join(reviews)\r\n",
        "words = all_text.split()"
      ],
      "execution_count": 6,
      "outputs": []
    },
    {
      "cell_type": "code",
      "metadata": {
        "colab": {
          "base_uri": "https://localhost:8080/",
          "height": 137
        },
        "id": "eUVXAHh5SA3n",
        "outputId": "1aa808b0-da65-4775-d588-6acc34ae025e"
      },
      "source": [
        "all_text[:2000]"
      ],
      "execution_count": 7,
      "outputs": [
        {
          "output_type": "execute_result",
          "data": {
            "application/vnd.google.colaboratory.intrinsic+json": {
              "type": "string"
            },
            "text/plain": [
              "'bromwell high is a cartoon comedy  it ran at the same time as some other programs about school life  such as  teachers   my   years in the teaching profession lead me to believe that bromwell high  s satire is much closer to reality than is  teachers   the scramble to survive financially  the insightful students who can see right through their pathetic teachers  pomp  the pettiness of the whole situation  all remind me of the schools i knew and their students  when i saw the episode in which a student repeatedly tried to burn down the school  i immediately recalled          at           high  a classic line inspector i  m here to sack one of your teachers  student welcome to bromwell high  i expect that many adults of my age think that bromwell high is far fetched  what a pity that it isn  t    story of a man who has unnatural feelings for a pig  starts out with a opening scene that is a terrific example of absurd comedy  a formal orchestra audience is turned into an insane  violent mob by the crazy chantings of it  s singers  unfortunately it stays absurd the whole time with no general narrative eventually making it just too off putting  even those from the era should be turned off  the cryptic dialogue would make shakespeare seem easy to a third grader  on a technical level it  s better than you might think with some good cinematography by future great vilmos zsigmond  future stars sally kirkland and frederic forrest can be seen briefly    homelessness  or houselessness as george carlin stated  has been an issue for years but never a plan to help those on the street that were once considered human who did everything from going to school  work  or vote for the matter  most people think of the homeless as just a lost cause while worrying about things such as racism  the war on iraq  pressuring kids to succeed  technology  the elections  inflation  or worrying if they  ll be next to end up on the streets   br    br   but what if you were given a bet to live on the st'"
            ]
          },
          "metadata": {
            "tags": []
          },
          "execution_count": 7
        }
      ]
    },
    {
      "cell_type": "code",
      "metadata": {
        "colab": {
          "base_uri": "https://localhost:8080/"
        },
        "id": "W_PMJpWjSCqw",
        "outputId": "981ad4bd-51cc-426e-b98e-00e649189796"
      },
      "source": [
        "words[:100]"
      ],
      "execution_count": 8,
      "outputs": [
        {
          "output_type": "execute_result",
          "data": {
            "text/plain": [
              "['bromwell',\n",
              " 'high',\n",
              " 'is',\n",
              " 'a',\n",
              " 'cartoon',\n",
              " 'comedy',\n",
              " 'it',\n",
              " 'ran',\n",
              " 'at',\n",
              " 'the',\n",
              " 'same',\n",
              " 'time',\n",
              " 'as',\n",
              " 'some',\n",
              " 'other',\n",
              " 'programs',\n",
              " 'about',\n",
              " 'school',\n",
              " 'life',\n",
              " 'such',\n",
              " 'as',\n",
              " 'teachers',\n",
              " 'my',\n",
              " 'years',\n",
              " 'in',\n",
              " 'the',\n",
              " 'teaching',\n",
              " 'profession',\n",
              " 'lead',\n",
              " 'me',\n",
              " 'to',\n",
              " 'believe',\n",
              " 'that',\n",
              " 'bromwell',\n",
              " 'high',\n",
              " 's',\n",
              " 'satire',\n",
              " 'is',\n",
              " 'much',\n",
              " 'closer',\n",
              " 'to',\n",
              " 'reality',\n",
              " 'than',\n",
              " 'is',\n",
              " 'teachers',\n",
              " 'the',\n",
              " 'scramble',\n",
              " 'to',\n",
              " 'survive',\n",
              " 'financially',\n",
              " 'the',\n",
              " 'insightful',\n",
              " 'students',\n",
              " 'who',\n",
              " 'can',\n",
              " 'see',\n",
              " 'right',\n",
              " 'through',\n",
              " 'their',\n",
              " 'pathetic',\n",
              " 'teachers',\n",
              " 'pomp',\n",
              " 'the',\n",
              " 'pettiness',\n",
              " 'of',\n",
              " 'the',\n",
              " 'whole',\n",
              " 'situation',\n",
              " 'all',\n",
              " 'remind',\n",
              " 'me',\n",
              " 'of',\n",
              " 'the',\n",
              " 'schools',\n",
              " 'i',\n",
              " 'knew',\n",
              " 'and',\n",
              " 'their',\n",
              " 'students',\n",
              " 'when',\n",
              " 'i',\n",
              " 'saw',\n",
              " 'the',\n",
              " 'episode',\n",
              " 'in',\n",
              " 'which',\n",
              " 'a',\n",
              " 'student',\n",
              " 'repeatedly',\n",
              " 'tried',\n",
              " 'to',\n",
              " 'burn',\n",
              " 'down',\n",
              " 'the',\n",
              " 'school',\n",
              " 'i',\n",
              " 'immediately',\n",
              " 'recalled',\n",
              " 'at',\n",
              " 'high']"
            ]
          },
          "metadata": {
            "tags": []
          },
          "execution_count": 8
        }
      ]
    },
    {
      "cell_type": "markdown",
      "metadata": {
        "id": "YNVeqqJASEZn"
      },
      "source": [
        "### Encoding the words\r\n",
        "\r\n",
        "The embedding lookup requires that we pass in integers to our network. The easiest way to do this is to create dictionaries that map the words in the vocabulary to integers. Then we can convert each of our reviews into integers so they can be passed into the network.\r\n",
        "\r\n",
        "> **Exercise:** Now you're going to encode the words with integers. Build a dictionary that maps words to integers. Later we're going to pad our input vectors with zeros, so make sure the integers **start at 1, not 0**.\r\n",
        "> Also, convert the reviews to integers and store the reviews in a new list called `reviews_ints`. "
      ]
    },
    {
      "cell_type": "code",
      "metadata": {
        "id": "0JLxZqQcsE_O"
      },
      "source": [
        "from collections import Counter, OrderedDict"
      ],
      "execution_count": 9,
      "outputs": []
    },
    {
      "cell_type": "code",
      "metadata": {
        "id": "02DL5laSSGAe"
      },
      "source": [
        "# Create your dictionary that maps vocab words to integers here\r\n",
        "counts = Counter(words)\r\n",
        "vocab = OrderedDict(counts.most_common())\r\n",
        "vocab_to_int = {value: key for key, value in enumerate(vocab, 1)}\r\n",
        "\r\n",
        "# Convert the reviews to integers, same shape as reviews list, but with integers\r\n",
        "reviews_ints = []\r\n",
        "for i in reviews:\r\n",
        "  reviews_ints.append([vocab_to_int[word] for word in i.split()])"
      ],
      "execution_count": 10,
      "outputs": []
    },
    {
      "cell_type": "markdown",
      "metadata": {
        "id": "3MoD-Lh7SJ-G"
      },
      "source": [
        "### Encoding the labels\r\n",
        "\r\n",
        "Our labels are \"positive\" or \"negative\". To use these labels in our network, we need to convert them to 0 and 1.\r\n",
        "\r\n",
        "> **Exercise:** Convert labels from `positive` and `negative` to 1 and 0, respectively."
      ]
    },
    {
      "cell_type": "code",
      "metadata": {
        "id": "5yLF356BSK-p"
      },
      "source": [
        "# Convert labels to 1s and 0s for 'positive' and 'negative'\r\n",
        "labels = labels.split(\"\\n\")\r\n",
        "labels = np.array([1 if i==\"positive\" else 0 for i in labels])"
      ],
      "execution_count": 11,
      "outputs": []
    },
    {
      "cell_type": "markdown",
      "metadata": {
        "id": "bODD--loSMVn"
      },
      "source": [
        "If you built `labels` correctly, you should see the next output."
      ]
    },
    {
      "cell_type": "code",
      "metadata": {
        "colab": {
          "base_uri": "https://localhost:8080/"
        },
        "id": "JndmPAqkSNUI",
        "outputId": "aa6c3b91-9157-4fc5-d600-6ef481a72c8f"
      },
      "source": [
        "review_lens = Counter([len(x) for x in reviews_ints])\r\n",
        "print(\"Zero-length reviews: {}\".format(review_lens[0]))\r\n",
        "print(\"Maximum review length: {}\".format(max(review_lens)))"
      ],
      "execution_count": 12,
      "outputs": [
        {
          "output_type": "stream",
          "text": [
            "Zero-length reviews: 1\n",
            "Maximum review length: 2514\n"
          ],
          "name": "stdout"
        }
      ]
    },
    {
      "cell_type": "markdown",
      "metadata": {
        "id": "4zdeWUncSOjW"
      },
      "source": [
        "Okay, a couple issues here. We seem to have one review with zero length. And, the maximum review length is way too many steps for our RNN. Let's truncate to 200 steps. For reviews shorter than 200, we'll pad with 0s. For reviews longer than 200, we can truncate them to the first 200 characters.\r\n",
        "\r\n",
        "> **Exercise:** First, remove the review with zero length from the `reviews_ints` list."
      ]
    },
    {
      "cell_type": "code",
      "metadata": {
        "id": "QVA3-JOiSP3e"
      },
      "source": [
        "# Filter out that review with 0 length\r\n",
        "non_zeros = [key for key,value in enumerate(reviews_ints) if len(value)!=0]\r\n",
        "reviews_ints = [reviews_ints[i] for i in non_zeros]\r\n",
        "labels = np.array([labels[i] for i in non_zeros])"
      ],
      "execution_count": 13,
      "outputs": []
    },
    {
      "cell_type": "markdown",
      "metadata": {
        "id": "CXuuQ4aqSQ9h"
      },
      "source": [
        "> **Exercise:** Now, create an array `features` that contains the data we'll pass to the network. The data should come from `review_ints`, since we want to feed integers to the network. Each row should be 200 elements long. For reviews shorter than 200 words, left pad with 0s. That is, if the review is `['best', 'movie', 'ever']`, `[117, 18, 128]` as integers, the row will look like `[0, 0, 0, ..., 0, 117, 18, 128]`. For reviews longer than 200, use on the first 200 words as the feature vector.\r\n",
        "\r\n",
        "This isn't trivial and there are a bunch of ways to do this. But, if you're going to be building your own deep learning networks, you're going to have to get used to preparing your data.\r\n",
        "\r\n"
      ]
    },
    {
      "cell_type": "code",
      "metadata": {
        "id": "DKwdoDPrSSKO"
      },
      "source": [
        "seq_len = 200\r\n",
        "features = np.zeros((len(reviews_ints),seq_len),dtype=int)\r\n",
        "for i,k in enumerate(reviews_ints):\r\n",
        "  features[i,-len(k):] = np.array(k)[:seq_len]"
      ],
      "execution_count": 14,
      "outputs": []
    },
    {
      "cell_type": "markdown",
      "metadata": {
        "id": "-vWK644JSTJi"
      },
      "source": [
        "If you build features correctly, it should look like that cell output below."
      ]
    },
    {
      "cell_type": "code",
      "metadata": {
        "colab": {
          "base_uri": "https://localhost:8080/"
        },
        "id": "5o4CC0hwSUJC",
        "outputId": "907a7089-9226-4e27-a527-5415049b1344"
      },
      "source": [
        "features[:10,:100]"
      ],
      "execution_count": 15,
      "outputs": [
        {
          "output_type": "execute_result",
          "data": {
            "text/plain": [
              "array([[    0,     0,     0,     0,     0,     0,     0,     0,     0,\n",
              "            0,     0,     0,     0,     0,     0,     0,     0,     0,\n",
              "            0,     0,     0,     0,     0,     0,     0,     0,     0,\n",
              "            0,     0,     0,     0,     0,     0,     0,     0,     0,\n",
              "            0,     0,     0,     0,     0,     0,     0,     0,     0,\n",
              "            0,     0,     0,     0,     0,     0,     0,     0,     0,\n",
              "            0,     0,     0,     0,     0,     0, 21025,   308,     6,\n",
              "            3,  1050,   207,     8,  2138,    32,     1,   171,    57,\n",
              "           15,    49,    81,  5785,    44,   382,   110,   140,    15,\n",
              "         5194,    60,   154,     9,     1,  4975,  5852,   475,    71,\n",
              "            5,   260,    12, 21025,   308,    13,  1978,     6,    74,\n",
              "         2395],\n",
              "       [    0,     0,     0,     0,     0,     0,     0,     0,     0,\n",
              "            0,     0,     0,     0,     0,     0,     0,     0,     0,\n",
              "            0,     0,     0,     0,     0,     0,     0,     0,     0,\n",
              "            0,     0,     0,     0,     0,     0,     0,     0,     0,\n",
              "            0,     0,     0,     0,     0,     0,     0,     0,     0,\n",
              "            0,     0,     0,     0,     0,     0,     0,     0,     0,\n",
              "            0,     0,     0,     0,     0,     0,     0,     0,     0,\n",
              "            0,     0,     0,     0,     0,     0,     0,     0,     0,\n",
              "            0,     0,     0,     0,     0,     0,     0,     0,     0,\n",
              "            0,     0,     0,     0,     0,    63,     4,     3,   125,\n",
              "           36,    47,  7472,  1395,    16,     3,  4181,   505,    45,\n",
              "           17],\n",
              "       [22382,    42, 46418,    15,   706, 17139,  3389,    47,    77,\n",
              "           35,  1819,    16,   154,    19,   114,     3,  1305,     5,\n",
              "          336,   147,    22,     1,   857,    12,    70,   281,  1168,\n",
              "          399,    36,   120,   283,    38,   169,     5,   382,   158,\n",
              "           42,  2269,    16,     1,   541,    90,    78,   102,     4,\n",
              "            1,  3244,    15,    43,     3,   407,  1068,   136,  8055,\n",
              "           44,   182,   140,    15,  3043,     1,   320,    22,  4818,\n",
              "        26224,   346,     5,  3090,  2092,     1, 18839, 17939,    42,\n",
              "         8055,    46,    33,   236,    29,   370,     5,   130,    56,\n",
              "           22,     1,  1928,     7,     7,    19,    48,    46,    21,\n",
              "           70,   344,     3,  2099,     5,   408,    22,     1,  1928,\n",
              "           16],\n",
              "       [ 4505,   505,    15,     3,  3342,   162,  8312,  1652,     6,\n",
              "         4819,    56,    17,  4504,  5616,   140, 11725,     5,   996,\n",
              "         4919,  2933,  4462,   566,  1201,    36,     6,  1518,    96,\n",
              "            3,   744,     4, 26225,    13,     5,    27,  3461,     9,\n",
              "        10625,     4,     8,   111,  3013,     5,     1,  1027,    15,\n",
              "            3,  4390,    82,    22,  2049,     6,  4462,   538,  2764,\n",
              "         7073, 37443,    41,   463,     1,  8312, 46419,   302,   123,\n",
              "           15,  4221,    19,  1667,   922,     1,  1652,     6,  6129,\n",
              "        19871,    34,     1,   980,  1751, 22383,   646, 24104,    27,\n",
              "          106, 11726,    13, 14045, 15097, 17940,  2457,   466, 21027,\n",
              "           36,  3266,     1,  6365,  1020,    45,    17,  2695,  2499,\n",
              "           33],\n",
              "       [    0,     0,     0,     0,     0,     0,     0,     0,     0,\n",
              "            0,     0,     0,     0,     0,     0,     0,     0,     0,\n",
              "            0,     0,     0,     0,     0,     0,     0,     0,     0,\n",
              "            0,     0,     0,     0,     0,     0,     0,     0,     0,\n",
              "            0,     0,     0,     0,     0,     0,     0,     0,     0,\n",
              "            0,     0,     0,     0,     0,   520,   119,   113,    34,\n",
              "        16372,  1816,  3737,   117,   885, 21030,   721,    10,    28,\n",
              "          124,   108,     2,   115,   137,     9,  1623,  7691,    26,\n",
              "          330,     5,   589,     1,  6130,    22,   386,     6,     3,\n",
              "          349,    15,    50,    15,   231,     9,  7473, 11399,     1,\n",
              "          191,    22,  8966,     6,    82,   880,   101,   111,  3584,\n",
              "            4],\n",
              "       [    0,     0,     0,     0,     0,     0,     0,     0,     0,\n",
              "            0,     0,     0,     0,     0,     0,     0,     0,     0,\n",
              "            0,     0,     0,     0,     0,     0,     0,     0,     0,\n",
              "            0,     0,     0,     0,     0,     0,     0,     0,     0,\n",
              "            0,     0,     0,     0,     0,     0,     0,     0,     0,\n",
              "            0,     0,     0,     0,     0,     0,     0,     0,     0,\n",
              "           11,    20,  3637,   141,    10,   422,    23,   272,    60,\n",
              "         4355,    22,    32,    84,  3286,    22,     1,   172,     4,\n",
              "            1,   952,   507,    11,  4977,  5361,     5,   574,     4,\n",
              "         1155,    54,    53,  5304,     1,   261,    17,    41,   952,\n",
              "          125,    59,     1,   711,   137,   379,   626,    15,   111,\n",
              "         1509],\n",
              "       [    0,     0,     0,     0,     0,     0,     0,     0,     0,\n",
              "            0,     0,     0,     0,     0,     0,     0,     0,     0,\n",
              "            0,     0,     0,     0,     0,     0,     0,     0,     0,\n",
              "            0,     0,     0,     0,     0,     0,     0,     0,     0,\n",
              "            0,     0,     0,     0,     0,     0,     0,     0,     0,\n",
              "            0,     0,     0,     0,     0,     0,     0,     0,     0,\n",
              "            0,     0,     0,     0,     0,     0,     0,     0,     0,\n",
              "            0,     0,     0,     0,     0,     0,     0,     0,     0,\n",
              "            0,     0,     0,     0,    11,     6,   692,     1,    90,\n",
              "         2156,    20, 11728,     1,  2818,  5195,   249,    92,  3006,\n",
              "            8,   126,    24,   200,     3,   802,   634,     4, 22382,\n",
              "         1001],\n",
              "       [    0,     0,     0,     0,     0,     0,     0,     0,     0,\n",
              "            0,     0,     0,     0,     0,     0,     0,     0,     0,\n",
              "            0,     0,     0,     0,     0,     0,     0,     0,     0,\n",
              "            0,     0,     0,     0,     0,     0,     0,     0,     0,\n",
              "            0,     0,     0,     0,     0,     0,     0,     0,     0,\n",
              "            0,     0,   786,   295,    10,   122,    11,     6,   419,\n",
              "            5,    29,    35,   482,    20,    19,  1281,    33,   142,\n",
              "           28,  2657,    45,  1840,    32,     1,  2778,    37,    78,\n",
              "           97,  2436,    67,  3950,    45,     2,    24,   105,   256,\n",
              "            1,   134,  1571,     2, 12399,   451,    14,   319,    11,\n",
              "           63,     6,    98,  1321,     5,   105,     1,  3767,     4,\n",
              "            3],\n",
              "       [    0,     0,     0,     0,     0,     0,     0,     0,     0,\n",
              "            0,     0,     0,     0,     0,     0,     0,     0,     0,\n",
              "            0,     0,     0,     0,     0,     0,     0,     0,     0,\n",
              "            0,     0,     0,     0,     0,     0,     0,     0,     0,\n",
              "            0,     0,     0,     0,     0,     0,     0,     0,     0,\n",
              "            0,     0,     0,     0,     0,     0,     0,     0,     0,\n",
              "            0,     0,     0,     0,     0,     0,     0,     0,     0,\n",
              "            0,     0,     0,     0,     0,     0,     0,     0,     0,\n",
              "            0,     0,     0,     0,     0,     0,     0,    11,     6,\n",
              "           24,     1,   779,  3687,  2818,    20,     8,    14,    74,\n",
              "          325,  2730,    73,    90,     4,    27,    99,     2,   165,\n",
              "           68],\n",
              "       [   54,    10,    14,   116,    60,   798,   552,    71,   364,\n",
              "            5,     1,   730,     5,    66,  8057,     8,    14,    30,\n",
              "            4,   109,    99,    10,   293,    17,    60,   798,    19,\n",
              "           11,    14,     1,    64,    30,    69,  2500,    45,     4,\n",
              "          234,    93,    10,    68,   114,   108,  8057,   363,    43,\n",
              "         1009,     2,    10,    97,    28,  1431,    45,     1,   357,\n",
              "            4,    60,   110,   205,     8,    48,     3,  1929, 10880,\n",
              "            2,  2124,   354,   412,     4,    13,  6609,     2,  2974,\n",
              "         5148,  2125,  1366,     6,    30,     4,    60,   502,   876,\n",
              "           19,  8057,     6,    34,   227,     1,   247,   412,     4,\n",
              "          582,     4,    27,   599,     9,     1, 13586,   396,     4,\n",
              "        14047]])"
            ]
          },
          "metadata": {
            "tags": []
          },
          "execution_count": 15
        }
      ]
    },
    {
      "cell_type": "markdown",
      "metadata": {
        "id": "eI0hT-RqSWKQ"
      },
      "source": [
        "## Training, Validation, Test\r\n",
        "\r\n"
      ]
    },
    {
      "cell_type": "markdown",
      "metadata": {
        "id": "ZGc43mi8SXAR"
      },
      "source": [
        "With our data in nice shape, we'll split it into training, validation, and test sets.\r\n",
        "\r\n",
        "> **Exercise:** Create the training, validation, and test sets here. You'll need to create sets for the features and the labels, `train_x` and `train_y` for example. Define a split fraction, `split_frac` as the fraction of data to keep in the training set. Usually this is set to 0.8 or 0.9. The rest of the data will be split in half to create the validation and testing data."
      ]
    },
    {
      "cell_type": "code",
      "metadata": {
        "colab": {
          "base_uri": "https://localhost:8080/"
        },
        "id": "E7t4hlrCSX9d",
        "outputId": "9147987a-3f77-4133-8f1f-b8bf41e5bf53"
      },
      "source": [
        "split_frac = 0.8\r\n",
        "\r\n",
        "split_idx = int(len(features)*split_frac)\r\n",
        "train_x, val_x = features[:split_idx],features[split_idx:]\r\n",
        "train_y, val_y = labels[:split_idx],labels[split_idx:]\r\n",
        "\r\n",
        "test_idx = int(len(val_x)*0.5)\r\n",
        "val_x, test_x = val_x[:test_idx], val_x[test_idx:]\r\n",
        "val_y, test_y = val_y[:test_idx], val_y[test_idx:]\r\n",
        "\r\n",
        "print(\"\\t\\t\\tFeature Shapes:\")\r\n",
        "print(\"Train set: \\t\\t{}\".format(train_x.shape), \r\n",
        "      \"\\nValidation set: \\t{}\".format(val_x.shape),\r\n",
        "      \"\\nTest set: \\t\\t{}\".format(test_x.shape))"
      ],
      "execution_count": 16,
      "outputs": [
        {
          "output_type": "stream",
          "text": [
            "\t\t\tFeature Shapes:\n",
            "Train set: \t\t(20000, 200) \n",
            "Validation set: \t(2500, 200) \n",
            "Test set: \t\t(2500, 200)\n"
          ],
          "name": "stdout"
        }
      ]
    },
    {
      "cell_type": "markdown",
      "metadata": {
        "id": "0K65WmTb2MuZ"
      },
      "source": [
        "With train, validation, and text fractions of 0.8, 0.1, 0.1, the final shapes should look like:\r\n",
        "```\r\n",
        "                    Feature Shapes:\r\n",
        "Train set: \t\t (20000, 200) \r\n",
        "Validation set: \t(2500, 200) \r\n",
        "Test set: \t\t  (2500, 200)\r\n",
        "```"
      ]
    },
    {
      "cell_type": "markdown",
      "metadata": {
        "id": "S_KC79sLSZZZ"
      },
      "source": [
        "## Build the graph\r\n",
        "\r\n",
        "Here, we'll build the graph. First up, defining the hyperparameters.\r\n",
        "\r\n",
        "* `lstm_size`: Number of units in the hidden layers in the LSTM cells. Usually larger is better performance wise. Common values are 128, 256, 512, etc.\r\n",
        "* `lstm_layers`: Number of LSTM layers in the network. I'd start with 1, then add more if I'm underfitting.\r\n",
        "* `batch_size`: The number of reviews to feed the network in one training pass. Typically this should be set as high as you can go without running out of memory.\r\n",
        "* `learning_rate`: Learning rate"
      ]
    },
    {
      "cell_type": "code",
      "metadata": {
        "id": "VOOjPcOMSaxg"
      },
      "source": [
        "lstm_size = 256\r\n",
        "lstm_layers = 1\r\n",
        "batch_size = 500\r\n",
        "learning_rate = 0.001"
      ],
      "execution_count": 17,
      "outputs": []
    },
    {
      "cell_type": "markdown",
      "metadata": {
        "id": "OSjTxhsoSdj8"
      },
      "source": [
        "For the network itself, we'll be passing in our 200 element long review vectors. Each batch will be `batch_size` vectors. We'll also be using dropout on the LSTM layer, so we'll make a placeholder for the keep probability."
      ]
    },
    {
      "cell_type": "markdown",
      "metadata": {
        "id": "r5CnHrGESerf"
      },
      "source": [
        "> **Exercise:** Create the `inputs_`, `labels_`, and drop out `keep_prob` placeholders using `tf.placeholder`. `labels_` needs to be two-dimensional to work with some functions later.  Since `keep_prob` is a scalar (a 0-dimensional tensor), you shouldn't provide a size to `tf.placeholder`."
      ]
    },
    {
      "cell_type": "code",
      "metadata": {
        "id": "kSlXLg_uSfzG"
      },
      "source": [
        "n_words = len(vocab_to_int) + 1 # Adding 1 because we use 0's for padding, dictionary started at 1\r\n",
        "\r\n",
        "# Create the graph object\r\n",
        "graph = tf.Graph()\r\n",
        "# Add nodes to the graph\r\n",
        "with graph.as_default():\r\n",
        "    inputs_ = tf.placeholder(tf.int32,[None,None],name=\"inputs\")\r\n",
        "    labels_ = tf.placeholder(tf.int32,[None,None],name=\"labels\")\r\n",
        "    keep_prob = tf.placeholder(tf.float32,name=\"keep_prob\")"
      ],
      "execution_count": 18,
      "outputs": []
    },
    {
      "cell_type": "markdown",
      "metadata": {
        "id": "7qdooXllShHW"
      },
      "source": [
        "### Embedding\r\n",
        "\r\n",
        "Now we'll add an embedding layer. We need to do this because there are 74000 words in our vocabulary. It is massively inefficient to one-hot encode our classes here. You should remember dealing with this problem from the word2vec lesson. Instead of one-hot encoding, we can have an embedding layer and use that layer as a lookup table. You could train an embedding layer using word2vec, then load it here. But, it's fine to just make a new layer and let the network learn the weights.\r\n",
        "\r\n",
        "> **Exercise:** Create the embedding lookup matrix as a `tf.Variable`. Use that embedding matrix to get the embedded vectors to pass to the LSTM cell with [`tf.nn.embedding_lookup`](https://www.tensorflow.org/api_docs/python/tf/nn/embedding_lookup). This function takes the embedding matrix and an input tensor, such as the review vectors. Then, it'll return another tensor with the embedded vectors. So, if the embedding layer has 200 units, the function will return a tensor with size [batch_size, 200].\r\n",
        "\r\n"
      ]
    },
    {
      "cell_type": "code",
      "metadata": {
        "id": "UT8EnqcESicU"
      },
      "source": [
        "# Size of the embedding vectors (number of units in the embedding layer)\r\n",
        "embed_size = 300 \r\n",
        "\r\n",
        "with graph.as_default():\r\n",
        "    embedding = tf.Variable(tf.random_uniform((n_words,embed_size),-1,1))\r\n",
        "    embed = tf.nn.embedding_lookup(embedding,inputs_)"
      ],
      "execution_count": 19,
      "outputs": []
    },
    {
      "cell_type": "markdown",
      "metadata": {
        "id": "RZ3CP_3uSj_W"
      },
      "source": [
        "### LSTM cell\r\n",
        "\r\n",
        "<img src=\"assets/network_diagram.png\" width=400px>\r\n",
        "\r\n",
        "Next, we'll create our LSTM cells to use in the recurrent network ([TensorFlow documentation](https://www.tensorflow.org/api_docs/python/tf/contrib/rnn)). Here we are just defining what the cells look like. This isn't actually building the graph, just defining the type of cells we want in our graph.\r\n",
        "\r\n",
        "To create a basic LSTM cell for the graph, you'll want to use `tf.contrib.rnn.BasicLSTMCell`. Looking at the function documentation:\r\n",
        "\r\n",
        "```\r\n",
        "tf.contrib.rnn.BasicLSTMCell(num_units, forget_bias=1.0, input_size=None, state_is_tuple=True, activation=<function tanh at 0x109f1ef28>)\r\n",
        "```\r\n",
        "\r\n",
        "you can see it takes a parameter called `num_units`, the number of units in the cell, called `lstm_size` in this code. So then, you can write something like \r\n",
        "\r\n",
        "```\r\n",
        "lstm = tf.contrib.rnn.BasicLSTMCell(num_units)\r\n",
        "```\r\n",
        "\r\n",
        "to create an LSTM cell with `num_units`. Next, you can add dropout to the cell with `tf.contrib.rnn.DropoutWrapper`. This just wraps the cell in another cell, but with dropout added to the inputs and/or outputs. It's a really convenient way to make your network better with almost no effort! So you'd do something like\r\n",
        "\r\n",
        "```\r\n",
        "drop = tf.contrib.rnn.DropoutWrapper(cell, output_keep_prob=keep_prob)\r\n",
        "```\r\n",
        "\r\n",
        "Most of the time, your network will have better performance with more layers. That's sort of the magic of deep learning, adding more layers allows the network to learn really complex relationships. Again, there is a simple way to create multiple layers of LSTM cells with `tf.contrib.rnn.MultiRNNCell`:\r\n",
        "\r\n",
        "```\r\n",
        "cell = tf.contrib.rnn.MultiRNNCell([drop] * lstm_layers)\r\n",
        "```\r\n",
        "\r\n",
        "Here, `[drop] * lstm_layers` creates a list of cells (`drop`) that is `lstm_layers` long. The `MultiRNNCell` wrapper builds this into multiple layers of RNN cells, one for each cell in the list.\r\n",
        "\r\n",
        "So the final cell you're using in the network is actually multiple (or just one) LSTM cells with dropout. But it all works the same from an architectural viewpoint, just a more complicated graph in the cell.\r\n",
        "\r\n",
        "> **Exercise:** Below, use `tf.contrib.rnn.BasicLSTMCell` to create an LSTM cell. Then, add drop out to it with `tf.contrib.rnn.DropoutWrapper`. Finally, create multiple LSTM layers with `tf.contrib.rnn.MultiRNNCell`.\r\n",
        "\r\n",
        "Here is [a tutorial on building RNNs](https://www.tensorflow.org/tutorials/recurrent) that will help you out.\r\n"
      ]
    },
    {
      "cell_type": "code",
      "metadata": {
        "colab": {
          "base_uri": "https://localhost:8080/"
        },
        "id": "aOHoYZaJSlU1",
        "outputId": "ec90eadc-07fb-451e-9368-d86150abb8d9"
      },
      "source": [
        "with graph.as_default():\r\n",
        "    # Your basic LSTM cell\r\n",
        "    lstm = tf.contrib.rnn.BasicLSTMCell(lstm_size)\r\n",
        "    \r\n",
        "    # Add dropout to the cell\r\n",
        "    drop = tf.contrib.rnn.DropoutWrapper(lstm,output_keep_prob=keep_prob)\r\n",
        "    \r\n",
        "    # Stack up multiple LSTM layers, for deep learning\r\n",
        "    cell = tf.contrib.rnn.MultiRNNCell([drop]*lstm_layers)\r\n",
        "    \r\n",
        "    # Getting an initial state of all zeros\r\n",
        "    initial_state = cell.zero_state(batch_size, tf.float32)"
      ],
      "execution_count": 20,
      "outputs": [
        {
          "output_type": "stream",
          "text": [
            "WARNING:tensorflow:\n",
            "The TensorFlow contrib module will not be included in TensorFlow 2.0.\n",
            "For more information, please see:\n",
            "  * https://github.com/tensorflow/community/blob/master/rfcs/20180907-contrib-sunset.md\n",
            "  * https://github.com/tensorflow/addons\n",
            "  * https://github.com/tensorflow/io (for I/O related ops)\n",
            "If you depend on functionality not listed there, please file an issue.\n",
            "\n",
            "WARNING:tensorflow:From <ipython-input-20-ab47582df267>:3: BasicLSTMCell.__init__ (from tensorflow.python.ops.rnn_cell_impl) is deprecated and will be removed in a future version.\n",
            "Instructions for updating:\n",
            "This class is equivalent as tf.keras.layers.LSTMCell, and will be replaced by that in Tensorflow 2.0.\n",
            "WARNING:tensorflow:From <ipython-input-20-ab47582df267>:9: MultiRNNCell.__init__ (from tensorflow.python.ops.rnn_cell_impl) is deprecated and will be removed in a future version.\n",
            "Instructions for updating:\n",
            "This class is equivalent as tf.keras.layers.StackedRNNCells, and will be replaced by that in Tensorflow 2.0.\n"
          ],
          "name": "stdout"
        }
      ]
    },
    {
      "cell_type": "markdown",
      "metadata": {
        "id": "yHDtvnmeSnW9"
      },
      "source": [
        "### RNN forward pass\r\n",
        "\r\n",
        "<img src=\"assets/network_diagram.png\" width=400px>\r\n",
        "\r\n",
        "Now we need to actually run the data through the RNN nodes. You can use [`tf.nn.dynamic_rnn`](https://www.tensorflow.org/api_docs/python/tf/nn/dynamic_rnn) to do this. You'd pass in the RNN cell you created (our multiple layered LSTM `cell` for instance), and the inputs to the network.\r\n",
        "\r\n",
        "```\r\n",
        "outputs, final_state = tf.nn.dynamic_rnn(cell, inputs, initial_state=initial_state)\r\n",
        "```\r\n",
        "\r\n",
        "Above I created an initial state, `initial_state`, to pass to the RNN. This is the cell state that is passed between the hidden layers in successive time steps. `tf.nn.dynamic_rnn` takes care of most of the work for us. We pass in our cell and the input to the cell, then it does the unrolling and everything else for us. It returns outputs for each time step and the final_state of the hidden layer.\r\n",
        "\r\n",
        "> **Exercise:** Use `tf.nn.dynamic_rnn` to add the forward pass through the RNN. Remember that we're actually passing in vectors from the embedding layer, `embed`.\r\n",
        "\r\n"
      ]
    },
    {
      "cell_type": "code",
      "metadata": {
        "colab": {
          "base_uri": "https://localhost:8080/"
        },
        "id": "eAlYqU80Sopo",
        "outputId": "8ec42c3f-dda9-47b8-f08d-5b25cb05967f"
      },
      "source": [
        "with graph.as_default():\r\n",
        "    outputs, final_state = tf.nn.dynamic_rnn(cell,embed,initial_state=initial_state)"
      ],
      "execution_count": 21,
      "outputs": [
        {
          "output_type": "stream",
          "text": [
            "WARNING:tensorflow:From <ipython-input-21-22a1d754fa3e>:2: dynamic_rnn (from tensorflow.python.ops.rnn) is deprecated and will be removed in a future version.\n",
            "Instructions for updating:\n",
            "Please use `keras.layers.RNN(cell)`, which is equivalent to this API\n",
            "WARNING:tensorflow:From /tensorflow-1.15.2/python3.6/tensorflow_core/python/ops/rnn_cell_impl.py:735: Layer.add_variable (from tensorflow.python.keras.engine.base_layer) is deprecated and will be removed in a future version.\n",
            "Instructions for updating:\n",
            "Please use `layer.add_weight` method instead.\n",
            "WARNING:tensorflow:From /tensorflow-1.15.2/python3.6/tensorflow_core/python/ops/rnn_cell_impl.py:739: calling Zeros.__init__ (from tensorflow.python.ops.init_ops) with dtype is deprecated and will be removed in a future version.\n",
            "Instructions for updating:\n",
            "Call initializer instance with the dtype argument instead of passing it to the constructor\n"
          ],
          "name": "stdout"
        }
      ]
    },
    {
      "cell_type": "markdown",
      "metadata": {
        "id": "Y3nd4N7nSp3M"
      },
      "source": [
        "### Output\r\n",
        "\r\n",
        "We only care about the final output, we'll be using that as our sentiment prediction. So we need to grab the last output with `outputs[:, -1]`, the calculate the cost from that and `labels_`."
      ]
    },
    {
      "cell_type": "code",
      "metadata": {
        "colab": {
          "base_uri": "https://localhost:8080/"
        },
        "id": "Ewk8iiSiSqoM",
        "outputId": "8cb74585-669a-4144-b13f-858dc587eb36"
      },
      "source": [
        "with graph.as_default():\r\n",
        "    predictions = tf.contrib.layers.fully_connected(outputs[:, -1], 1, activation_fn=tf.sigmoid)\r\n",
        "    cost = tf.losses.mean_squared_error(labels_, predictions)\r\n",
        "    \r\n",
        "    optimizer = tf.train.AdamOptimizer(learning_rate).minimize(cost)"
      ],
      "execution_count": 22,
      "outputs": [
        {
          "output_type": "stream",
          "text": [
            "WARNING:tensorflow:From /tensorflow-1.15.2/python3.6/tensorflow_core/contrib/layers/python/layers/layers.py:1866: Layer.apply (from tensorflow.python.keras.engine.base_layer) is deprecated and will be removed in a future version.\n",
            "Instructions for updating:\n",
            "Please use `layer.__call__` method instead.\n",
            "WARNING:tensorflow:From /tensorflow-1.15.2/python3.6/tensorflow_core/python/ops/losses/losses_impl.py:121: where (from tensorflow.python.ops.array_ops) is deprecated and will be removed in a future version.\n",
            "Instructions for updating:\n",
            "Use tf.where in 2.0, which has the same broadcast rule as np.where\n"
          ],
          "name": "stdout"
        }
      ]
    },
    {
      "cell_type": "markdown",
      "metadata": {
        "id": "budOmatLSrtV"
      },
      "source": [
        "### Validation accuracy\r\n",
        "\r\n",
        "Here we can add a few nodes to calculate the accuracy which we'll use in the validation pass."
      ]
    },
    {
      "cell_type": "code",
      "metadata": {
        "id": "khd-ZBPkSsx5"
      },
      "source": [
        "with graph.as_default():\r\n",
        "    correct_pred = tf.equal(tf.cast(tf.round(predictions), tf.int32), labels_)\r\n",
        "    accuracy = tf.reduce_mean(tf.cast(correct_pred, tf.float32))"
      ],
      "execution_count": 23,
      "outputs": []
    },
    {
      "cell_type": "markdown",
      "metadata": {
        "id": "TTOc6n7KStuw"
      },
      "source": [
        "### Batching\r\n",
        "\r\n",
        "This is a simple function for returning batches from our data. First it removes data such that we only have full batches. Then it iterates through the `x` and `y` arrays and returns slices out of those arrays with size `[batch_size]`."
      ]
    },
    {
      "cell_type": "code",
      "metadata": {
        "id": "DbEpzsWJSvQA"
      },
      "source": [
        "def get_batches(x, y, batch_size=100):\r\n",
        "    \r\n",
        "    n_batches = len(x)//batch_size\r\n",
        "    x, y = x[:n_batches*batch_size], y[:n_batches*batch_size]\r\n",
        "    for ii in range(0, len(x), batch_size):\r\n",
        "        yield x[ii:ii+batch_size], y[ii:ii+batch_size]"
      ],
      "execution_count": 24,
      "outputs": []
    },
    {
      "cell_type": "markdown",
      "metadata": {
        "id": "u1RCqSfrSwbf"
      },
      "source": [
        "## Training\r\n",
        "\r\n",
        "Below is the typical training code. If you want to do this yourself, feel free to delete all this code and implement it yourself. Before you run this, make sure the `checkpoints` directory exists."
      ]
    },
    {
      "cell_type": "code",
      "metadata": {
        "colab": {
          "base_uri": "https://localhost:8080/"
        },
        "id": "Dzu66OOOSyHs",
        "outputId": "a0971f3b-7db5-4f10-d501-d231e274c441"
      },
      "source": [
        "epochs = 10\r\n",
        "\r\n",
        "with graph.as_default():\r\n",
        "    saver = tf.train.Saver()\r\n",
        "\r\n",
        "with tf.Session(graph=graph) as sess:\r\n",
        "    sess.run(tf.global_variables_initializer())\r\n",
        "    iteration = 1\r\n",
        "    for e in range(epochs):\r\n",
        "        state = sess.run(initial_state)\r\n",
        "        \r\n",
        "        for ii, (x, y) in enumerate(get_batches(train_x, train_y, batch_size), 1):\r\n",
        "            feed = {inputs_: x,\r\n",
        "                    labels_: y[:, None],\r\n",
        "                    keep_prob: 0.5,\r\n",
        "                    initial_state: state}\r\n",
        "            loss, state, _ = sess.run([cost, final_state, optimizer], feed_dict=feed)\r\n",
        "            \r\n",
        "            if iteration%5==0:\r\n",
        "                print(\"Epoch: {}/{}\".format(e, epochs),\r\n",
        "                      \"Iteration: {}\".format(iteration),\r\n",
        "                      \"Train loss: {:.3f}\".format(loss))\r\n",
        "\r\n",
        "            if iteration%25==0:\r\n",
        "                val_acc = []\r\n",
        "                val_state = sess.run(cell.zero_state(batch_size, tf.float32))\r\n",
        "                for x, y in get_batches(val_x, val_y, batch_size):\r\n",
        "                    feed = {inputs_: x,\r\n",
        "                            labels_: y[:, None],\r\n",
        "                            keep_prob: 1,\r\n",
        "                            initial_state: val_state}\r\n",
        "                    batch_acc, val_state = sess.run([accuracy, final_state], feed_dict=feed)\r\n",
        "                    val_acc.append(batch_acc)\r\n",
        "                print(\"Val acc: {:.3f}\".format(np.mean(val_acc)))\r\n",
        "            iteration +=1\r\n",
        "    saver.save(sess, \"checkpoints/sentiment.ckpt\")"
      ],
      "execution_count": 25,
      "outputs": [
        {
          "output_type": "stream",
          "text": [
            "Epoch: 0/10 Iteration: 5 Train loss: 0.242\n",
            "Epoch: 0/10 Iteration: 10 Train loss: 0.238\n",
            "Epoch: 0/10 Iteration: 15 Train loss: 0.215\n",
            "Epoch: 0/10 Iteration: 20 Train loss: 0.219\n",
            "Epoch: 0/10 Iteration: 25 Train loss: 0.228\n",
            "Val acc: 0.622\n",
            "Epoch: 0/10 Iteration: 30 Train loss: 0.224\n",
            "Epoch: 0/10 Iteration: 35 Train loss: 0.204\n",
            "Epoch: 0/10 Iteration: 40 Train loss: 0.206\n",
            "Epoch: 1/10 Iteration: 45 Train loss: 0.170\n",
            "Epoch: 1/10 Iteration: 50 Train loss: 0.171\n",
            "Val acc: 0.739\n",
            "Epoch: 1/10 Iteration: 55 Train loss: 0.153\n",
            "Epoch: 1/10 Iteration: 60 Train loss: 0.156\n",
            "Epoch: 1/10 Iteration: 65 Train loss: 0.179\n",
            "Epoch: 1/10 Iteration: 70 Train loss: 0.191\n",
            "Epoch: 1/10 Iteration: 75 Train loss: 0.186\n",
            "Val acc: 0.704\n",
            "Epoch: 1/10 Iteration: 80 Train loss: 0.140\n",
            "Epoch: 2/10 Iteration: 85 Train loss: 0.127\n",
            "Epoch: 2/10 Iteration: 90 Train loss: 0.125\n",
            "Epoch: 2/10 Iteration: 95 Train loss: 0.115\n",
            "Epoch: 2/10 Iteration: 100 Train loss: 0.131\n",
            "Val acc: 0.772\n",
            "Epoch: 2/10 Iteration: 105 Train loss: 0.148\n",
            "Epoch: 2/10 Iteration: 110 Train loss: 0.132\n",
            "Epoch: 2/10 Iteration: 115 Train loss: 0.106\n",
            "Epoch: 2/10 Iteration: 120 Train loss: 0.127\n",
            "Epoch: 3/10 Iteration: 125 Train loss: 0.124\n",
            "Val acc: 0.730\n",
            "Epoch: 3/10 Iteration: 130 Train loss: 0.117\n",
            "Epoch: 3/10 Iteration: 135 Train loss: 0.104\n",
            "Epoch: 3/10 Iteration: 140 Train loss: 0.119\n",
            "Epoch: 3/10 Iteration: 145 Train loss: 0.124\n",
            "Epoch: 3/10 Iteration: 150 Train loss: 0.124\n",
            "Val acc: 0.788\n",
            "Epoch: 3/10 Iteration: 155 Train loss: 0.107\n",
            "Epoch: 3/10 Iteration: 160 Train loss: 0.125\n",
            "Epoch: 4/10 Iteration: 165 Train loss: 0.071\n",
            "Epoch: 4/10 Iteration: 170 Train loss: 0.086\n",
            "Epoch: 4/10 Iteration: 175 Train loss: 0.085\n",
            "Val acc: 0.826\n",
            "Epoch: 4/10 Iteration: 180 Train loss: 0.080\n",
            "Epoch: 4/10 Iteration: 185 Train loss: 0.107\n",
            "Epoch: 4/10 Iteration: 190 Train loss: 0.126\n",
            "Epoch: 4/10 Iteration: 195 Train loss: 0.235\n",
            "Epoch: 4/10 Iteration: 200 Train loss: 0.163\n",
            "Val acc: 0.720\n",
            "Epoch: 5/10 Iteration: 205 Train loss: 0.192\n",
            "Epoch: 5/10 Iteration: 210 Train loss: 0.183\n",
            "Epoch: 5/10 Iteration: 215 Train loss: 0.191\n",
            "Epoch: 5/10 Iteration: 220 Train loss: 0.198\n",
            "Epoch: 5/10 Iteration: 225 Train loss: 0.160\n",
            "Val acc: 0.735\n",
            "Epoch: 5/10 Iteration: 230 Train loss: 0.338\n",
            "Epoch: 5/10 Iteration: 235 Train loss: 0.412\n",
            "Epoch: 5/10 Iteration: 240 Train loss: 0.315\n",
            "Epoch: 6/10 Iteration: 245 Train loss: 0.389\n",
            "Epoch: 6/10 Iteration: 250 Train loss: 0.406\n",
            "Val acc: 0.523\n",
            "Epoch: 6/10 Iteration: 255 Train loss: 0.284\n",
            "Epoch: 6/10 Iteration: 260 Train loss: 0.278\n",
            "Epoch: 6/10 Iteration: 265 Train loss: 0.264\n",
            "Epoch: 6/10 Iteration: 270 Train loss: 0.248\n",
            "Epoch: 6/10 Iteration: 275 Train loss: 0.243\n",
            "Val acc: 0.561\n",
            "Epoch: 6/10 Iteration: 280 Train loss: 0.240\n",
            "Epoch: 7/10 Iteration: 285 Train loss: 0.222\n",
            "Epoch: 7/10 Iteration: 290 Train loss: 0.234\n",
            "Epoch: 7/10 Iteration: 295 Train loss: 0.210\n",
            "Epoch: 7/10 Iteration: 300 Train loss: 0.174\n",
            "Val acc: 0.650\n",
            "Epoch: 7/10 Iteration: 305 Train loss: 0.141\n",
            "Epoch: 7/10 Iteration: 310 Train loss: 0.117\n",
            "Epoch: 7/10 Iteration: 315 Train loss: 0.125\n",
            "Epoch: 7/10 Iteration: 320 Train loss: 0.173\n",
            "Epoch: 8/10 Iteration: 325 Train loss: 0.309\n",
            "Val acc: 0.561\n",
            "Epoch: 8/10 Iteration: 330 Train loss: 0.216\n",
            "Epoch: 8/10 Iteration: 335 Train loss: 0.185\n",
            "Epoch: 8/10 Iteration: 340 Train loss: 0.136\n",
            "Epoch: 8/10 Iteration: 345 Train loss: 0.124\n",
            "Epoch: 8/10 Iteration: 350 Train loss: 0.100\n",
            "Val acc: 0.829\n",
            "Epoch: 8/10 Iteration: 355 Train loss: 0.089\n",
            "Epoch: 8/10 Iteration: 360 Train loss: 0.075\n",
            "Epoch: 9/10 Iteration: 365 Train loss: 0.076\n",
            "Epoch: 9/10 Iteration: 370 Train loss: 0.120\n",
            "Epoch: 9/10 Iteration: 375 Train loss: 0.103\n",
            "Val acc: 0.810\n",
            "Epoch: 9/10 Iteration: 380 Train loss: 0.078\n",
            "Epoch: 9/10 Iteration: 385 Train loss: 0.055\n",
            "Epoch: 9/10 Iteration: 390 Train loss: 0.077\n",
            "Epoch: 9/10 Iteration: 395 Train loss: 0.093\n",
            "Epoch: 9/10 Iteration: 400 Train loss: 0.119\n",
            "Val acc: 0.821\n"
          ],
          "name": "stdout"
        }
      ]
    },
    {
      "cell_type": "markdown",
      "metadata": {
        "id": "4wVEt4GCSzvd"
      },
      "source": [
        "## Testing"
      ]
    },
    {
      "cell_type": "code",
      "metadata": {
        "colab": {
          "base_uri": "https://localhost:8080/"
        },
        "id": "vg6PSRD7S0oq",
        "outputId": "82b6cccc-441a-48c0-b7b6-f296ff620331"
      },
      "source": [
        "test_acc = []\r\n",
        "with tf.Session(graph=graph) as sess:\r\n",
        "    saver.restore(sess, tf.train.latest_checkpoint('checkpoints'))\r\n",
        "    test_state = sess.run(cell.zero_state(batch_size, tf.float32))\r\n",
        "    for ii, (x, y) in enumerate(get_batches(test_x, test_y, batch_size), 1):\r\n",
        "        feed = {inputs_: x,\r\n",
        "                labels_: y[:, None],\r\n",
        "                keep_prob: 1,\r\n",
        "                initial_state: test_state}\r\n",
        "        batch_acc, test_state = sess.run([accuracy, final_state], feed_dict=feed)\r\n",
        "        test_acc.append(batch_acc)\r\n",
        "    print(\"Test accuracy: {:.3f}\".format(np.mean(test_acc)))"
      ],
      "execution_count": 26,
      "outputs": [
        {
          "output_type": "stream",
          "text": [
            "INFO:tensorflow:Restoring parameters from checkpoints/sentiment.ckpt\n",
            "Test accuracy: 0.830\n"
          ],
          "name": "stdout"
        }
      ]
    }
  ]
}
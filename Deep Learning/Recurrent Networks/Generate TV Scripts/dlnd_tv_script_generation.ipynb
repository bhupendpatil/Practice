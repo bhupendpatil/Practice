{
  "nbformat": 4,
  "nbformat_minor": 0,
  "metadata": {
    "colab": {
      "name": "dlnd_tv_script_generation.ipynb",
      "provenance": [],
      "collapsed_sections": [],
      "machine_shape": "hm"
    },
    "kernelspec": {
      "name": "python3",
      "display_name": "Python 3"
    },
    "accelerator": "GPU"
  },
  "cells": [
    {
      "cell_type": "markdown",
      "metadata": {
        "id": "4xCcI6R-27Us"
      },
      "source": [
        "# TV Script Generation\r\n",
        "In this project, you'll generate your own [Simpsons](https://en.wikipedia.org/wiki/The_Simpsons) TV scripts using RNNs.  You'll be using part of the [Simpsons dataset](https://www.kaggle.com/wcukierski/the-simpsons-by-the-data) of scripts from 27 seasons.  The Neural Network you'll build will generate a new TV script for a scene at [Moe's Tavern](https://simpsonswiki.com/wiki/Moe's_Tavern).\r\n",
        "## Get the Data\r\n",
        "The data is already provided for you.  You'll be using a subset of the original dataset.  It consists of only the scenes in Moe's Tavern.  This doesn't include other versions of the tavern, like \"Moe's Cavern\", \"Flaming Moe's\", \"Uncle Moe's Family Feed-Bag\", etc.."
      ]
    },
    {
      "cell_type": "code",
      "metadata": {
        "colab": {
          "base_uri": "https://localhost:8080/"
        },
        "id": "ofHB14Pl4zIJ",
        "outputId": "9e940b60-fd05-4f76-c0c1-d96dce2e2c9f"
      },
      "source": [
        "%tensorflow_version 1.x"
      ],
      "execution_count": 1,
      "outputs": [
        {
          "output_type": "stream",
          "text": [
            "TensorFlow 1.x selected.\n"
          ],
          "name": "stdout"
        }
      ]
    },
    {
      "cell_type": "code",
      "metadata": {
        "colab": {
          "base_uri": "https://localhost:8080/"
        },
        "id": "D5Uot0NU4Wmm",
        "outputId": "1d5ec5e7-ada8-47f2-d650-2d71923eafd2"
      },
      "source": [
        "!rm -r -f *\r\n",
        "!mkdir data\r\n",
        "!mkdir data/simpsons\r\n",
        "!wget -q https://raw.githubusercontent.com/bhupendpatil/Practice/master/Deep%20Learning/Recurrent%20Networks/Generate%20TV%20Scripts/data/simpsons/moes_tavern_lines.txt\r\n",
        "!mv moes_tavern_lines.txt data/simpsons\r\n",
        "!wget -q https://raw.githubusercontent.com/bhupendpatil/Practice/master/Deep%20Learning/Recurrent%20Networks/Generate%20TV%20Scripts/helper.py\r\n",
        "!wget -q https://raw.githubusercontent.com/bhupendpatil/Practice/master/Deep%20Learning/Recurrent%20Networks/Generate%20TV%20Scripts/problem_unittests.py\r\n",
        "print(\"Done loading initial project files\")"
      ],
      "execution_count": 2,
      "outputs": [
        {
          "output_type": "stream",
          "text": [
            "Done loading initial project files\n"
          ],
          "name": "stdout"
        }
      ]
    },
    {
      "cell_type": "code",
      "metadata": {
        "id": "FJP_gU1D26-j"
      },
      "source": [
        "\"\"\"\r\n",
        "DON'T MODIFY ANYTHING IN THIS CELL\r\n",
        "\"\"\"\r\n",
        "import helper\r\n",
        "\r\n",
        "data_dir = './data/simpsons/moes_tavern_lines.txt'\r\n",
        "text = helper.load_data(data_dir)\r\n",
        "# Ignore notice, since we don't use it for analysing the data\r\n",
        "text = text[81:]"
      ],
      "execution_count": 3,
      "outputs": []
    },
    {
      "cell_type": "markdown",
      "metadata": {
        "id": "KlsB7VpK2_oC"
      },
      "source": [
        "## Explore the Data\r\n",
        "Play around with `view_sentence_range` to view different parts of the data."
      ]
    },
    {
      "cell_type": "code",
      "metadata": {
        "colab": {
          "base_uri": "https://localhost:8080/"
        },
        "id": "ifEokTX33A0A",
        "outputId": "e310c3b2-2f2e-49ef-dc4e-142f62792380"
      },
      "source": [
        "view_sentence_range = (0, 10)\r\n",
        "\r\n",
        "\"\"\"\r\n",
        "DON'T MODIFY ANYTHING IN THIS CELL\r\n",
        "\"\"\"\r\n",
        "import numpy as np\r\n",
        "\r\n",
        "print('Dataset Stats')\r\n",
        "print('Roughly the number of unique words: {}'.format(len({word: None for word in text.split()})))\r\n",
        "scenes = text.split('\\n\\n')\r\n",
        "print('Number of scenes: {}'.format(len(scenes)))\r\n",
        "sentence_count_scene = [scene.count('\\n') for scene in scenes]\r\n",
        "print('Average number of sentences in each scene: {}'.format(np.average(sentence_count_scene)))\r\n",
        "\r\n",
        "sentences = [sentence for scene in scenes for sentence in scene.split('\\n')]\r\n",
        "print('Number of lines: {}'.format(len(sentences)))\r\n",
        "word_count_sentence = [len(sentence.split()) for sentence in sentences]\r\n",
        "print('Average number of words in each line: {}'.format(np.average(word_count_sentence)))\r\n",
        "\r\n",
        "print()\r\n",
        "print('The sentences {} to {}:'.format(*view_sentence_range))\r\n",
        "print('\\n'.join(text.split('\\n')[view_sentence_range[0]:view_sentence_range[1]]))"
      ],
      "execution_count": 4,
      "outputs": [
        {
          "output_type": "stream",
          "text": [
            "Dataset Stats\n",
            "Roughly the number of unique words: 11492\n",
            "Number of scenes: 262\n",
            "Average number of sentences in each scene: 15.248091603053435\n",
            "Number of lines: 4257\n",
            "Average number of words in each line: 11.50434578341555\n",
            "\n",
            "The sentences 0 to 10:\n",
            "Moe_Szyslak: (INTO PHONE) Moe's Tavern. Where the elite meet to drink.\n",
            "Bart_Simpson: Eh, yeah, hello, is Mike there? Last name, Rotch.\n",
            "Moe_Szyslak: (INTO PHONE) Hold on, I'll check. (TO BARFLIES) Mike Rotch. Mike Rotch. Hey, has anybody seen Mike Rotch, lately?\n",
            "Moe_Szyslak: (INTO PHONE) Listen you little puke. One of these days I'm gonna catch you, and I'm gonna carve my name on your back with an ice pick.\n",
            "Moe_Szyslak: What's the matter Homer? You're not your normal effervescent self.\n",
            "Homer_Simpson: I got my problems, Moe. Give me another one.\n",
            "Moe_Szyslak: Homer, hey, you should not drink to forget your problems.\n",
            "Barney_Gumble: Yeah, you should only drink to enhance your social skills.\n",
            "\n",
            "\n"
          ],
          "name": "stdout"
        }
      ]
    },
    {
      "cell_type": "markdown",
      "metadata": {
        "id": "GPpmhDWp3CnB"
      },
      "source": [
        "## Implement Preprocessing Functions\r\n",
        "The first thing to do to any dataset is preprocessing.  Implement the following preprocessing functions below:\r\n",
        "- Lookup Table\r\n",
        "- Tokenize Punctuation\r\n",
        "\r\n",
        "### Lookup Table\r\n",
        "To create a word embedding, you first need to transform the words to ids.  In this function, create two dictionaries:\r\n",
        "- Dictionary to go from the words to an id, we'll call `vocab_to_int`\r\n",
        "- Dictionary to go from the id to word, we'll call `int_to_vocab`\r\n",
        "\r\n",
        "Return these dictionaries in the following tuple `(vocab_to_int, int_to_vocab)`"
      ]
    },
    {
      "cell_type": "code",
      "metadata": {
        "colab": {
          "base_uri": "https://localhost:8080/"
        },
        "id": "ibK99DWI3Dzt",
        "outputId": "6406714f-bfce-4bc4-93ab-c2a969dd5223"
      },
      "source": [
        "import numpy as np\r\n",
        "import problem_unittests as tests\r\n",
        "\r\n",
        "def create_lookup_tables(text):\r\n",
        "    \"\"\"\r\n",
        "    Create lookup tables for vocabulary\r\n",
        "    :param text: The text of tv scripts split into words\r\n",
        "    :return: A tuple of dicts (vocab_to_int, int_to_vocab)\r\n",
        "    \"\"\"\r\n",
        "    # TODO: Implement Function\r\n",
        "    vocab = sorted(set(text))\r\n",
        "    vocab_to_int = {k: i for i,k in enumerate(vocab)}\r\n",
        "    int_to_vocab = dict(enumerate(vocab))\r\n",
        "    return vocab_to_int, int_to_vocab\r\n",
        "\r\n",
        "\r\n",
        "\"\"\"\r\n",
        "DON'T MODIFY ANYTHING IN THIS CELL THAT IS BELOW THIS LINE\r\n",
        "\"\"\"\r\n",
        "tests.test_create_lookup_tables(create_lookup_tables)"
      ],
      "execution_count": 5,
      "outputs": [
        {
          "output_type": "stream",
          "text": [
            "Tests Passed\n"
          ],
          "name": "stdout"
        }
      ]
    },
    {
      "cell_type": "markdown",
      "metadata": {
        "id": "BcJGbEwk3FvR"
      },
      "source": [
        "### Tokenize Punctuation\r\n",
        "We'll be splitting the script into a word array using spaces as delimiters.  However, punctuations like periods and exclamation marks make it hard for the neural network to distinguish between the word \"bye\" and \"bye!\".\r\n",
        "\r\n",
        "Implement the function `token_lookup` to return a dict that will be used to tokenize symbols like \"!\" into \"||Exclamation_Mark||\".  Create a dictionary for the following symbols where the symbol is the key and value is the token:\r\n",
        "- Period ( . )\r\n",
        "- Comma ( , )\r\n",
        "- Quotation Mark ( \" )\r\n",
        "- Semicolon ( ; )\r\n",
        "- Exclamation mark ( ! )\r\n",
        "- Question mark ( ? )\r\n",
        "- Left Parentheses ( ( )\r\n",
        "- Right Parentheses ( ) )\r\n",
        "- Dash ( -- )\r\n",
        "- Return ( \\n )\r\n",
        "\r\n",
        "This dictionary will be used to token the symbols and add the delimiter (space) around it.  This separates the symbols as it's own word, making it easier for the neural network to predict on the next word. Make sure you don't use a token that could be confused as a word. Instead of using the token \"dash\", try using something like \"||dash||\"."
      ]
    },
    {
      "cell_type": "code",
      "metadata": {
        "colab": {
          "base_uri": "https://localhost:8080/"
        },
        "id": "4LP4PgLO3GdJ",
        "outputId": "f6303b2c-c36f-4195-b986-39ab4900795c"
      },
      "source": [
        "def token_lookup():\r\n",
        "    \"\"\"\r\n",
        "    Generate a dict to turn punctuation into a token.\r\n",
        "    :return: Tokenize dictionary where the key is the punctuation and the value is the token\r\n",
        "    \"\"\"\r\n",
        "    # TODO: Implement Function\r\n",
        "    toLook = {\r\n",
        "        \".\":\"||Period||\",\r\n",
        "        \",\":\"||Comma||\",\r\n",
        "        \"\\\"\":\"||Quotation_Mark||\",\r\n",
        "        \";\":\"||Semicolon||\",\r\n",
        "        \"!\":\"||Exclamation_Mark||\",\r\n",
        "        \"?\":\"||Question_Mark||\",\r\n",
        "        \"(\":\"||Left_Parentheses||\",\r\n",
        "        \")\":\"||Right_Parentheses||\",\r\n",
        "        \"--\":\"||Dash||\",\r\n",
        "        \"\\n\":\"||Return||\"\r\n",
        "    }\r\n",
        "    return toLook\r\n",
        "\r\n",
        "\"\"\"\r\n",
        "DON'T MODIFY ANYTHING IN THIS CELL THAT IS BELOW THIS LINE\r\n",
        "\"\"\"\r\n",
        "tests.test_tokenize(token_lookup)"
      ],
      "execution_count": 6,
      "outputs": [
        {
          "output_type": "stream",
          "text": [
            "Tests Passed\n"
          ],
          "name": "stdout"
        }
      ]
    },
    {
      "cell_type": "markdown",
      "metadata": {
        "id": "GhB61QE-3IZR"
      },
      "source": [
        "## Preprocess all the data and save it\r\n",
        "Running the code cell below will preprocess all the data and save it to file."
      ]
    },
    {
      "cell_type": "code",
      "metadata": {
        "id": "RlnJqvsy3JeS"
      },
      "source": [
        "\"\"\"\r\n",
        "DON'T MODIFY ANYTHING IN THIS CELL\r\n",
        "\"\"\"\r\n",
        "# Preprocess Training, Validation, and Testing Data\r\n",
        "helper.preprocess_and_save_data(data_dir, token_lookup, create_lookup_tables)"
      ],
      "execution_count": 7,
      "outputs": []
    },
    {
      "cell_type": "markdown",
      "metadata": {
        "id": "90Y6XzKM3Kxh"
      },
      "source": [
        "# Check Point\r\n",
        "This is your first checkpoint. If you ever decide to come back to this notebook or have to restart the notebook, you can start from here. The preprocessed data has been saved to disk."
      ]
    },
    {
      "cell_type": "code",
      "metadata": {
        "id": "4qqZVh3d3L4r"
      },
      "source": [
        "\"\"\"\r\n",
        "DON'T MODIFY ANYTHING IN THIS CELL\r\n",
        "\"\"\"\r\n",
        "import helper\r\n",
        "import numpy as np\r\n",
        "import problem_unittests as tests\r\n",
        "\r\n",
        "int_text, vocab_to_int, int_to_vocab, token_dict = helper.load_preprocess()"
      ],
      "execution_count": 8,
      "outputs": []
    },
    {
      "cell_type": "markdown",
      "metadata": {
        "id": "B5Hl2pmj3NCp"
      },
      "source": [
        "## Build the Neural Network\r\n",
        "You'll build the components necessary to build a RNN by implementing the following functions below:\r\n",
        "- get_inputs\r\n",
        "- get_init_cell\r\n",
        "- get_embed\r\n",
        "- build_rnn\r\n",
        "- build_nn\r\n",
        "- get_batches\r\n",
        "\r\n",
        "### Check the Version of TensorFlow and Access to GPU"
      ]
    },
    {
      "cell_type": "code",
      "metadata": {
        "colab": {
          "base_uri": "https://localhost:8080/"
        },
        "id": "9xrPynYX3OCp",
        "outputId": "05e26607-8a84-4a11-8c59-1c5d87f461b6"
      },
      "source": [
        "\"\"\"\r\n",
        "DON'T MODIFY ANYTHING IN THIS CELL\r\n",
        "\"\"\"\r\n",
        "from distutils.version import LooseVersion\r\n",
        "import warnings\r\n",
        "import tensorflow as tf\r\n",
        "\r\n",
        "# Check TensorFlow Version\r\n",
        "assert LooseVersion(tf.__version__) >= LooseVersion('1.3'), 'Please use TensorFlow version 1.3 or newer'\r\n",
        "print('TensorFlow Version: {}'.format(tf.__version__))\r\n",
        "\r\n",
        "# Check for a GPU\r\n",
        "if not tf.test.gpu_device_name():\r\n",
        "    warnings.warn('No GPU found. Please use a GPU to train your neural network.')\r\n",
        "else:\r\n",
        "    print('Default GPU Device: {}'.format(tf.test.gpu_device_name()))\r\n",
        "    !nvidia-smi"
      ],
      "execution_count": 9,
      "outputs": [
        {
          "output_type": "stream",
          "text": [
            "TensorFlow Version: 1.15.2\n",
            "Default GPU Device: /device:GPU:0\n",
            "Thu Jan 21 10:13:37 2021       \n",
            "+-----------------------------------------------------------------------------+\n",
            "| NVIDIA-SMI 460.32.03    Driver Version: 418.67       CUDA Version: 10.1     |\n",
            "|-------------------------------+----------------------+----------------------+\n",
            "| GPU  Name        Persistence-M| Bus-Id        Disp.A | Volatile Uncorr. ECC |\n",
            "| Fan  Temp  Perf  Pwr:Usage/Cap|         Memory-Usage | GPU-Util  Compute M. |\n",
            "|                               |                      |               MIG M. |\n",
            "|===============================+======================+======================|\n",
            "|   0  Tesla P100-PCIE...  Off  | 00000000:00:04.0 Off |                    0 |\n",
            "| N/A   39C    P0    32W / 250W |    265MiB / 16280MiB |      0%      Default |\n",
            "|                               |                      |                 ERR! |\n",
            "+-------------------------------+----------------------+----------------------+\n",
            "                                                                               \n",
            "+-----------------------------------------------------------------------------+\n",
            "| Processes:                                                                  |\n",
            "|  GPU   GI   CI        PID   Type   Process name                  GPU Memory |\n",
            "|        ID   ID                                                   Usage      |\n",
            "|=============================================================================|\n",
            "|  No running processes found                                                 |\n",
            "+-----------------------------------------------------------------------------+\n"
          ],
          "name": "stdout"
        }
      ]
    },
    {
      "cell_type": "markdown",
      "metadata": {
        "id": "g8g7gHxK3Q2Q"
      },
      "source": [
        "### Input\r\n",
        "Implement the `get_inputs()` function to create TF Placeholders for the Neural Network.  It should create the following placeholders:\r\n",
        "- Input text placeholder named \"input\" using the [TF Placeholder](https://www.tensorflow.org/api_docs/python/tf/placeholder) `name` parameter.\r\n",
        "- Targets placeholder\r\n",
        "- Learning Rate placeholder\r\n",
        "\r\n",
        "Return the placeholders in the following tuple `(Input, Targets, LearningRate)`"
      ]
    },
    {
      "cell_type": "code",
      "metadata": {
        "id": "0k2vsYuo3Spd"
      },
      "source": [
        "def get_inputs():\r\n",
        "    \"\"\"\r\n",
        "    Create TF Placeholders for input, targets, and learning rate.\r\n",
        "    :return: Tuple (input, targets, learning rate)\r\n",
        "    \"\"\"\r\n",
        "    # TODO: Implement Function\r\n",
        "    return None, None, None\r\n",
        "\r\n",
        "\r\n",
        "\"\"\"\r\n",
        "DON'T MODIFY ANYTHING IN THIS CELL THAT IS BELOW THIS LINE\r\n",
        "\"\"\"\r\n",
        "tests.test_get_inputs(get_inputs)"
      ],
      "execution_count": null,
      "outputs": []
    },
    {
      "cell_type": "markdown",
      "metadata": {
        "id": "blLOZ9If3WIJ"
      },
      "source": [
        "### Build RNN Cell and Initialize\r\n",
        "Stack one or more [`BasicLSTMCells`](https://www.tensorflow.org/api_docs/python/tf/contrib/rnn/BasicLSTMCell) in a [`MultiRNNCell`](https://www.tensorflow.org/api_docs/python/tf/contrib/rnn/MultiRNNCell).\r\n",
        "- The Rnn size should be set using `rnn_size`\r\n",
        "- Initalize Cell State using the MultiRNNCell's [`zero_state()`](https://www.tensorflow.org/api_docs/python/tf/contrib/rnn/MultiRNNCell#zero_state) function\r\n",
        "    - Apply the name \"initial_state\" to the initial state using [`tf.identity()`](https://www.tensorflow.org/api_docs/python/tf/identity)\r\n",
        "\r\n",
        "Return the cell and initial state in the following tuple `(Cell, InitialState)`"
      ]
    },
    {
      "cell_type": "code",
      "metadata": {
        "id": "dfkmzq4W3VAs"
      },
      "source": [
        "def get_init_cell(batch_size, rnn_size):\r\n",
        "    \"\"\"\r\n",
        "    Create an RNN Cell and initialize it.\r\n",
        "    :param batch_size: Size of batches\r\n",
        "    :param rnn_size: Size of RNNs\r\n",
        "    :return: Tuple (cell, initialize state)\r\n",
        "    \"\"\"\r\n",
        "    # TODO: Implement Function\r\n",
        "    return None, None\r\n",
        "\r\n",
        "\r\n",
        "\"\"\"\r\n",
        "DON'T MODIFY ANYTHING IN THIS CELL THAT IS BELOW THIS LINE\r\n",
        "\"\"\"\r\n",
        "tests.test_get_init_cell(get_init_cell)"
      ],
      "execution_count": null,
      "outputs": []
    },
    {
      "cell_type": "markdown",
      "metadata": {
        "id": "XAsRiBE33bTY"
      },
      "source": [
        "### Word Embedding\r\n",
        "Apply embedding to `input_data` using TensorFlow.  Return the embedded sequence."
      ]
    },
    {
      "cell_type": "code",
      "metadata": {
        "id": "d9GCr1BL3ciS"
      },
      "source": [
        "def get_embed(input_data, vocab_size, embed_dim):\r\n",
        "    \"\"\"\r\n",
        "    Create embedding for <input_data>.\r\n",
        "    :param input_data: TF placeholder for text input.\r\n",
        "    :param vocab_size: Number of words in vocabulary.\r\n",
        "    :param embed_dim: Number of embedding dimensions\r\n",
        "    :return: Embedded input.\r\n",
        "    \"\"\"\r\n",
        "    # TODO: Implement Function\r\n",
        "    return None\r\n",
        "\r\n",
        "\r\n",
        "\"\"\"\r\n",
        "DON'T MODIFY ANYTHING IN THIS CELL THAT IS BELOW THIS LINE\r\n",
        "\"\"\"\r\n",
        "tests.test_get_embed(get_embed)"
      ],
      "execution_count": null,
      "outputs": []
    },
    {
      "cell_type": "markdown",
      "metadata": {
        "id": "Oq48VG_m3eLF"
      },
      "source": [
        "### Build RNN\r\n",
        "You created a RNN Cell in the `get_init_cell()` function.  Time to use the cell to create a RNN.\r\n",
        "- Build the RNN using the [`tf.nn.dynamic_rnn()`](https://www.tensorflow.org/api_docs/python/tf/nn/dynamic_rnn)\r\n",
        " - Apply the name \"final_state\" to the final state using [`tf.identity()`](https://www.tensorflow.org/api_docs/python/tf/identity)\r\n",
        "\r\n",
        "Return the outputs and final_state state in the following tuple `(Outputs, FinalState)` "
      ]
    },
    {
      "cell_type": "code",
      "metadata": {
        "id": "jhdCaT163fVY"
      },
      "source": [
        "def build_rnn(cell, inputs):\r\n",
        "    \"\"\"\r\n",
        "    Create a RNN using a RNN Cell\r\n",
        "    :param cell: RNN Cell\r\n",
        "    :param inputs: Input text data\r\n",
        "    :return: Tuple (Outputs, Final State)\r\n",
        "    \"\"\"\r\n",
        "    # TODO: Implement Function\r\n",
        "    return None, None\r\n",
        "\r\n",
        "\r\n",
        "\"\"\"\r\n",
        "DON'T MODIFY ANYTHING IN THIS CELL THAT IS BELOW THIS LINE\r\n",
        "\"\"\"\r\n",
        "tests.test_build_rnn(build_rnn)"
      ],
      "execution_count": null,
      "outputs": []
    },
    {
      "cell_type": "markdown",
      "metadata": {
        "id": "SCPGTYx13giI"
      },
      "source": [
        "### Build the Neural Network\r\n",
        "Apply the functions you implemented above to:\r\n",
        "- Apply embedding to `input_data` using your `get_embed(input_data, vocab_size, embed_dim)` function.\r\n",
        "- Build RNN using `cell` and your `build_rnn(cell, inputs)` function.\r\n",
        "- Apply a fully connected layer with a linear activation and `vocab_size` as the number of outputs.\r\n",
        "\r\n",
        "Return the logits and final state in the following tuple (Logits, FinalState) "
      ]
    },
    {
      "cell_type": "code",
      "metadata": {
        "id": "mJ9ODF6f3hw3"
      },
      "source": [
        "def build_nn(cell, rnn_size, input_data, vocab_size, embed_dim):\r\n",
        "    \"\"\"\r\n",
        "    Build part of the neural network\r\n",
        "    :param cell: RNN cell\r\n",
        "    :param rnn_size: Size of rnns\r\n",
        "    :param input_data: Input data\r\n",
        "    :param vocab_size: Vocabulary size\r\n",
        "    :param embed_dim: Number of embedding dimensions\r\n",
        "    :return: Tuple (Logits, FinalState)\r\n",
        "    \"\"\"\r\n",
        "    # TODO: Implement Function\r\n",
        "    return None, None\r\n",
        "\r\n",
        "\r\n",
        "\"\"\"\r\n",
        "DON'T MODIFY ANYTHING IN THIS CELL THAT IS BELOW THIS LINE\r\n",
        "\"\"\"\r\n",
        "tests.test_build_nn(build_nn)"
      ],
      "execution_count": null,
      "outputs": []
    },
    {
      "cell_type": "markdown",
      "metadata": {
        "id": "6J6ek24n3jsq"
      },
      "source": [
        "### Batches\r\n",
        "Implement `get_batches` to create batches of input and targets using `int_text`.  The batches should be a Numpy array with the shape `(number of batches, 2, batch size, sequence length)`. Each batch contains two elements:\r\n",
        "- The first element is a single batch of **input** with the shape `[batch size, sequence length]`\r\n",
        "- The second element is a single batch of **targets** with the shape `[batch size, sequence length]`\r\n",
        "\r\n",
        "If you can't fill the last batch with enough data, drop the last batch.\r\n",
        "\r\n",
        "For example, `get_batches([1, 2, 3, 4, 5, 6, 7, 8, 9, 10, 11, 12, 13, 14, 15, 16, 17, 18, 19, 20], 3, 2)` would return a Numpy array of the following:\r\n",
        "```\r\n",
        "[\r\n",
        "  # First Batch\r\n",
        "  [\r\n",
        "    # Batch of Input\r\n",
        "    [[ 1  2], [ 7  8], [13 14]]\r\n",
        "    # Batch of targets\r\n",
        "    [[ 2  3], [ 8  9], [14 15]]\r\n",
        "  ]\r\n",
        "\r\n",
        "  # Second Batch\r\n",
        "  [\r\n",
        "    # Batch of Input\r\n",
        "    [[ 3  4], [ 9 10], [15 16]]\r\n",
        "    # Batch of targets\r\n",
        "    [[ 4  5], [10 11], [16 17]]\r\n",
        "  ]\r\n",
        "\r\n",
        "  # Third Batch\r\n",
        "  [\r\n",
        "    # Batch of Input\r\n",
        "    [[ 5  6], [11 12], [17 18]]\r\n",
        "    # Batch of targets\r\n",
        "    [[ 6  7], [12 13], [18  1]]\r\n",
        "  ]\r\n",
        "]\r\n",
        "```\r\n",
        "\r\n",
        "Notice that the last target value in the last batch is the first input value of the first batch. In this case, `1`. This is a common technique used when creating sequence batches, although it is rather unintuitive."
      ]
    },
    {
      "cell_type": "code",
      "metadata": {
        "id": "TwYoBOdI3kzw"
      },
      "source": [
        "def get_batches(int_text, batch_size, seq_length):\r\n",
        "    \"\"\"\r\n",
        "    Return batches of input and target\r\n",
        "    :param int_text: Text with the words replaced by their ids\r\n",
        "    :param batch_size: The size of batch\r\n",
        "    :param seq_length: The length of sequence\r\n",
        "    :return: Batches as a Numpy array\r\n",
        "    \"\"\"\r\n",
        "    # TODO: Implement Function\r\n",
        "    return None\r\n",
        "\r\n",
        "\r\n",
        "\"\"\"\r\n",
        "DON'T MODIFY ANYTHING IN THIS CELL THAT IS BELOW THIS LINE\r\n",
        "\"\"\"\r\n",
        "tests.test_get_batches(get_batches)"
      ],
      "execution_count": null,
      "outputs": []
    },
    {
      "cell_type": "markdown",
      "metadata": {
        "id": "Se9kK5H-3nA4"
      },
      "source": [
        "## Neural Network Training\r\n",
        "### Hyperparameters\r\n",
        "Tune the following parameters:\r\n",
        "\r\n",
        "- Set `num_epochs` to the number of epochs.\r\n",
        "- Set `batch_size` to the batch size.\r\n",
        "- Set `rnn_size` to the size of the RNNs.\r\n",
        "- Set `embed_dim` to the size of the embedding.\r\n",
        "- Set `seq_length` to the length of sequence.\r\n",
        "- Set `learning_rate` to the learning rate.\r\n",
        "- Set `show_every_n_batches` to the number of batches the neural network should print progress."
      ]
    },
    {
      "cell_type": "code",
      "metadata": {
        "id": "Q7cT_ISV3pJn"
      },
      "source": [
        "# Number of Epochs\r\n",
        "num_epochs = None\r\n",
        "# Batch Size\r\n",
        "batch_size = None\r\n",
        "# RNN Size\r\n",
        "rnn_size = None\r\n",
        "# Embedding Dimension Size\r\n",
        "embed_dim = None\r\n",
        "# Sequence Length\r\n",
        "seq_length = None\r\n",
        "# Learning Rate\r\n",
        "learning_rate = None\r\n",
        "# Show stats for every n number of batches\r\n",
        "show_every_n_batches = None\r\n",
        "\r\n",
        "\"\"\"\r\n",
        "DON'T MODIFY ANYTHING IN THIS CELL THAT IS BELOW THIS LINE\r\n",
        "\"\"\"\r\n",
        "save_dir = './save'"
      ],
      "execution_count": null,
      "outputs": []
    },
    {
      "cell_type": "markdown",
      "metadata": {
        "id": "c15YgiiZ3qnk"
      },
      "source": [
        "### Build the Graph\r\n",
        "Build the graph using the neural network you implemented."
      ]
    },
    {
      "cell_type": "code",
      "metadata": {
        "id": "0LmijcjF3r6H"
      },
      "source": [
        "\"\"\"\r\n",
        "DON'T MODIFY ANYTHING IN THIS CELL\r\n",
        "\"\"\"\r\n",
        "from tensorflow.contrib import seq2seq\r\n",
        "\r\n",
        "train_graph = tf.Graph()\r\n",
        "with train_graph.as_default():\r\n",
        "    vocab_size = len(int_to_vocab)\r\n",
        "    input_text, targets, lr = get_inputs()\r\n",
        "    input_data_shape = tf.shape(input_text)\r\n",
        "    cell, initial_state = get_init_cell(input_data_shape[0], rnn_size)\r\n",
        "    logits, final_state = build_nn(cell, rnn_size, input_text, vocab_size, embed_dim)\r\n",
        "\r\n",
        "    # Probabilities for generating words\r\n",
        "    probs = tf.nn.softmax(logits, name='probs')\r\n",
        "\r\n",
        "    # Loss function\r\n",
        "    cost = seq2seq.sequence_loss(\r\n",
        "        logits,\r\n",
        "        targets,\r\n",
        "        tf.ones([input_data_shape[0], input_data_shape[1]]))\r\n",
        "\r\n",
        "    # Optimizer\r\n",
        "    optimizer = tf.train.AdamOptimizer(lr)\r\n",
        "\r\n",
        "    # Gradient Clipping\r\n",
        "    gradients = optimizer.compute_gradients(cost)\r\n",
        "    capped_gradients = [(tf.clip_by_value(grad, -1., 1.), var) for grad, var in gradients if grad is not None]\r\n",
        "    train_op = optimizer.apply_gradients(capped_gradients)"
      ],
      "execution_count": null,
      "outputs": []
    },
    {
      "cell_type": "markdown",
      "metadata": {
        "id": "y0PYn4EJ3tt3"
      },
      "source": [
        "## Train\r\n",
        "Train the neural network on the preprocessed data.  If you have a hard time getting a good loss, check the [forums](https://discussions.udacity.com/) to see if anyone is having the same problem."
      ]
    },
    {
      "cell_type": "code",
      "metadata": {
        "id": "gpXzgEkR3u0H"
      },
      "source": [
        "\"\"\"\r\n",
        "DON'T MODIFY ANYTHING IN THIS CELL\r\n",
        "\"\"\"\r\n",
        "batches = get_batches(int_text, batch_size, seq_length)\r\n",
        "\r\n",
        "with tf.Session(graph=train_graph) as sess:\r\n",
        "    sess.run(tf.global_variables_initializer())\r\n",
        "\r\n",
        "    for epoch_i in range(num_epochs):\r\n",
        "        state = sess.run(initial_state, {input_text: batches[0][0]})\r\n",
        "\r\n",
        "        for batch_i, (x, y) in enumerate(batches):\r\n",
        "            feed = {\r\n",
        "                input_text: x,\r\n",
        "                targets: y,\r\n",
        "                initial_state: state,\r\n",
        "                lr: learning_rate}\r\n",
        "            train_loss, state, _ = sess.run([cost, final_state, train_op], feed)\r\n",
        "\r\n",
        "            # Show every <show_every_n_batches> batches\r\n",
        "            if (epoch_i * len(batches) + batch_i) % show_every_n_batches == 0:\r\n",
        "                print('Epoch {:>3} Batch {:>4}/{}   train_loss = {:.3f}'.format(\r\n",
        "                    epoch_i,\r\n",
        "                    batch_i,\r\n",
        "                    len(batches),\r\n",
        "                    train_loss))\r\n",
        "\r\n",
        "    # Save Model\r\n",
        "    saver = tf.train.Saver()\r\n",
        "    saver.save(sess, save_dir)\r\n",
        "    print('Model Trained and Saved')"
      ],
      "execution_count": null,
      "outputs": []
    },
    {
      "cell_type": "markdown",
      "metadata": {
        "id": "SJ-H5Oie3wjG"
      },
      "source": [
        "## Save Parameters\r\n",
        "Save `seq_length` and `save_dir` for generating a new TV script."
      ]
    },
    {
      "cell_type": "code",
      "metadata": {
        "id": "7VmV8ewg3xrM"
      },
      "source": [
        "\"\"\"\r\n",
        "DON'T MODIFY ANYTHING IN THIS CELL\r\n",
        "\"\"\"\r\n",
        "# Save parameters for checkpoint\r\n",
        "helper.save_params((seq_length, save_dir))"
      ],
      "execution_count": null,
      "outputs": []
    },
    {
      "cell_type": "markdown",
      "metadata": {
        "id": "xgtQ5Jf53yuB"
      },
      "source": [
        "# Checkpoint"
      ]
    },
    {
      "cell_type": "code",
      "metadata": {
        "id": "NI71obGZ3zsw"
      },
      "source": [
        "\"\"\"\r\n",
        "DON'T MODIFY ANYTHING IN THIS CELL\r\n",
        "\"\"\"\r\n",
        "import tensorflow as tf\r\n",
        "import numpy as np\r\n",
        "import helper\r\n",
        "import problem_unittests as tests\r\n",
        "\r\n",
        "_, vocab_to_int, int_to_vocab, token_dict = helper.load_preprocess()\r\n",
        "seq_length, load_dir = helper.load_params()"
      ],
      "execution_count": null,
      "outputs": []
    },
    {
      "cell_type": "markdown",
      "metadata": {
        "id": "VY-j0PZY31ot"
      },
      "source": [
        "## Implement Generate Functions\r\n",
        "### Get Tensors\r\n",
        "Get tensors from `loaded_graph` using the function [`get_tensor_by_name()`](https://www.tensorflow.org/api_docs/python/tf/Graph#get_tensor_by_name).  Get the tensors using the following names:\r\n",
        "- \"input:0\"\r\n",
        "- \"initial_state:0\"\r\n",
        "- \"final_state:0\"\r\n",
        "- \"probs:0\"\r\n",
        "\r\n",
        "Return the tensors in the following tuple `(InputTensor, InitialStateTensor, FinalStateTensor, ProbsTensor)` "
      ]
    },
    {
      "cell_type": "code",
      "metadata": {
        "id": "HJooWK_D33BK"
      },
      "source": [
        "def get_tensors(loaded_graph):\r\n",
        "    \"\"\"\r\n",
        "    Get input, initial state, final state, and probabilities tensor from <loaded_graph>\r\n",
        "    :param loaded_graph: TensorFlow graph loaded from file\r\n",
        "    :return: Tuple (InputTensor, InitialStateTensor, FinalStateTensor, ProbsTensor)\r\n",
        "    \"\"\"\r\n",
        "    # TODO: Implement Function\r\n",
        "    return None, None, None, None\r\n",
        "\r\n",
        "\r\n",
        "\"\"\"\r\n",
        "DON'T MODIFY ANYTHING IN THIS CELL THAT IS BELOW THIS LINE\r\n",
        "\"\"\"\r\n",
        "tests.test_get_tensors(get_tensors)"
      ],
      "execution_count": null,
      "outputs": []
    },
    {
      "cell_type": "markdown",
      "metadata": {
        "id": "lTRJwEjK34We"
      },
      "source": [
        "### Choose Word\r\n",
        "Implement the `pick_word()` function to select the next word using `probabilities`."
      ]
    },
    {
      "cell_type": "code",
      "metadata": {
        "id": "fZJvftC435ay"
      },
      "source": [
        "def pick_word(probabilities, int_to_vocab):\r\n",
        "    \"\"\"\r\n",
        "    Pick the next word in the generated text\r\n",
        "    :param probabilities: Probabilites of the next word\r\n",
        "    :param int_to_vocab: Dictionary of word ids as the keys and words as the values\r\n",
        "    :return: String of the predicted word\r\n",
        "    \"\"\"\r\n",
        "    # TODO: Implement Function\r\n",
        "    return None\r\n",
        "\r\n",
        "\r\n",
        "\"\"\"\r\n",
        "DON'T MODIFY ANYTHING IN THIS CELL THAT IS BELOW THIS LINE\r\n",
        "\"\"\"\r\n",
        "tests.test_pick_word(pick_word)"
      ],
      "execution_count": null,
      "outputs": []
    },
    {
      "cell_type": "markdown",
      "metadata": {
        "id": "3yokJeWz37Ff"
      },
      "source": [
        "## Generate TV Script\r\n",
        "This will generate the TV script for you.  Set `gen_length` to the length of TV script you want to generate."
      ]
    },
    {
      "cell_type": "code",
      "metadata": {
        "id": "fXE6TT1y36tC"
      },
      "source": [
        "gen_length = 200\r\n",
        "# homer_simpson, moe_szyslak, or Barney_Gumble\r\n",
        "prime_word = 'moe_szyslak'\r\n",
        "\r\n",
        "\"\"\"\r\n",
        "DON'T MODIFY ANYTHING IN THIS CELL THAT IS BELOW THIS LINE\r\n",
        "\"\"\"\r\n",
        "loaded_graph = tf.Graph()\r\n",
        "with tf.Session(graph=loaded_graph) as sess:\r\n",
        "    # Load saved model\r\n",
        "    loader = tf.train.import_meta_graph(load_dir + '.meta')\r\n",
        "    loader.restore(sess, load_dir)\r\n",
        "\r\n",
        "    # Get Tensors from loaded model\r\n",
        "    input_text, initial_state, final_state, probs = get_tensors(loaded_graph)\r\n",
        "\r\n",
        "    # Sentences generation setup\r\n",
        "    gen_sentences = [prime_word + ':']\r\n",
        "    prev_state = sess.run(initial_state, {input_text: np.array([[1]])})\r\n",
        "\r\n",
        "    # Generate sentences\r\n",
        "    for n in range(gen_length):\r\n",
        "        # Dynamic Input\r\n",
        "        dyn_input = [[vocab_to_int[word] for word in gen_sentences[-seq_length:]]]\r\n",
        "        dyn_seq_length = len(dyn_input[0])\r\n",
        "\r\n",
        "        # Get Prediction\r\n",
        "        probabilities, prev_state = sess.run(\r\n",
        "            [probs, final_state],\r\n",
        "            {input_text: dyn_input, initial_state: prev_state})\r\n",
        "        \r\n",
        "        pred_word = pick_word(probabilities[0][dyn_seq_length-1], int_to_vocab)\r\n",
        "\r\n",
        "        gen_sentences.append(pred_word)\r\n",
        "    \r\n",
        "    # Remove tokens\r\n",
        "    tv_script = ' '.join(gen_sentences)\r\n",
        "    for key, token in token_dict.items():\r\n",
        "        ending = ' ' if key in ['\\n', '(', '\"'] else ''\r\n",
        "        tv_script = tv_script.replace(' ' + token.lower(), key)\r\n",
        "    tv_script = tv_script.replace('\\n ', '\\n')\r\n",
        "    tv_script = tv_script.replace('( ', '(')\r\n",
        "        \r\n",
        "    print(tv_script)"
      ],
      "execution_count": null,
      "outputs": []
    },
    {
      "cell_type": "markdown",
      "metadata": {
        "id": "nHtWmSKQ3_Of"
      },
      "source": [
        "# The TV Script is Nonsensical\r\n",
        "It's ok if the TV script doesn't make any sense.  We trained on less than a megabyte of text.  In order to get good results, you'll have to use a smaller vocabulary or get more data.  Luckily there's more data!  As we mentioned in the beggining of this project, this is a subset of [another dataset](https://www.kaggle.com/wcukierski/the-simpsons-by-the-data).  We didn't have you train on all the data, because that would take too long.  However, you are free to train your neural network on all the data.  After you complete the project, of course."
      ]
    }
  ]
}
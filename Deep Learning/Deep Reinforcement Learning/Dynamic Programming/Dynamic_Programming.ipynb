{
  "nbformat": 4,
  "nbformat_minor": 0,
  "metadata": {
    "colab": {
      "name": "Dynamic_Programming.ipynb",
      "provenance": [],
      "collapsed_sections": [],
      "machine_shape": "hm"
    },
    "kernelspec": {
      "name": "python3",
      "display_name": "Python 3"
    },
    "accelerator": "GPU"
  },
  "cells": [
    {
      "cell_type": "markdown",
      "metadata": {
        "id": "kTcLyrLSl5D6"
      },
      "source": [
        "# Dynamic Programming\r\n",
        "\r\n",
        "In this notebook, you will write your own implementations of many classical dynamic programming algorithms.  \r\n",
        "\r\n",
        "While we have provided some starter code, you are welcome to erase these hints and write your code from scratch.\r\n",
        "\r\n",
        "---\r\n",
        "\r\n",
        "### Part 0: Explore FrozenLakeEnv\r\n",
        "\r\n",
        "We begin by importing the necessary packages."
      ]
    },
    {
      "cell_type": "code",
      "metadata": {
        "id": "Uw9FeBk7nc4C"
      },
      "source": [
        "!rm -r *\r\n",
        "!wget -q https://raw.githubusercontent.com/bhupendpatil/Practice/master/Deep%20Learning/Deep%20Reinforcement%20Learning/Dynamic%20Programming/check_test.py\r\n",
        "!wget -q https://raw.githubusercontent.com/bhupendpatil/Practice/master/Deep%20Learning/Deep%20Reinforcement%20Learning/Dynamic%20Programming/frozenlake.py\r\n",
        "!wget -q https://raw.githubusercontent.com/bhupendpatil/Practice/master/Deep%20Learning/Deep%20Reinforcement%20Learning/Dynamic%20Programming/plot_utils.py"
      ],
      "execution_count": 1,
      "outputs": []
    },
    {
      "cell_type": "code",
      "metadata": {
        "id": "b5wSou7Dl6qb"
      },
      "source": [
        "import numpy as np\r\n",
        "import copy\r\n",
        "\r\n",
        "import check_test\r\n",
        "from frozenlake import FrozenLakeEnv\r\n",
        "from plot_utils import plot_values"
      ],
      "execution_count": 2,
      "outputs": []
    },
    {
      "cell_type": "markdown",
      "metadata": {
        "id": "i1S5jBL6l8xp"
      },
      "source": [
        "Use the code cell below to create an instance of the [FrozenLake](https://github.com/openai/gym/blob/master/gym/envs/toy_text/frozen_lake.py) environment."
      ]
    },
    {
      "cell_type": "code",
      "metadata": {
        "id": "17v9VubRmAXt"
      },
      "source": [
        "env = FrozenLakeEnv()"
      ],
      "execution_count": 3,
      "outputs": []
    },
    {
      "cell_type": "markdown",
      "metadata": {
        "id": "Ox3MjxXbmBZp"
      },
      "source": [
        "The agent moves through a $4 \\times 4$ gridworld, with states numbered as follows:\r\n",
        "```\r\n",
        "[[ 0  1  2  3]\r\n",
        " [ 4  5  6  7]\r\n",
        " [ 8  9 10 11]\r\n",
        " [12 13 14 15]]\r\n",
        "```\r\n",
        "and the agent has 4 potential actions:\r\n",
        "```\r\n",
        "LEFT = 0\r\n",
        "DOWN = 1\r\n",
        "RIGHT = 2\r\n",
        "UP = 3\r\n",
        "```\r\n",
        "\r\n",
        "Thus, $\\mathcal{S}^+ = \\{0, 1, \\ldots, 15\\}$, and $\\mathcal{A} = \\{0, 1, 2, 3\\}$.  Verify this by running the code cell below."
      ]
    },
    {
      "cell_type": "code",
      "metadata": {
        "id": "DgETEQL5mFdG",
        "colab": {
          "base_uri": "https://localhost:8080/"
        },
        "outputId": "e39928ec-6210-40c5-e3c0-7a288b38e828"
      },
      "source": [
        "# print the state space and action space\r\n",
        "print(env.observation_space)\r\n",
        "print(env.action_space)\r\n",
        "\r\n",
        "# print the total number of states and actions\r\n",
        "print(env.nS)\r\n",
        "print(env.nA)"
      ],
      "execution_count": 4,
      "outputs": [
        {
          "output_type": "stream",
          "text": [
            "Discrete(16)\n",
            "Discrete(4)\n",
            "16\n",
            "4\n"
          ],
          "name": "stdout"
        }
      ]
    },
    {
      "cell_type": "markdown",
      "metadata": {
        "id": "wP3uKJ8KmGh-"
      },
      "source": [
        "Dynamic programming assumes that the agent has full knowledge of the MDP.  We have already amended the `frozenlake.py` file to make the one-step dynamics accessible to the agent.  \r\n",
        "\r\n",
        "Execute the code cell below to return the one-step dynamics corresponding to a particular state and action.  In particular, `env.P[1][0]` returns the the probability of each possible reward and next state, if the agent is in state 1 of the gridworld and decides to go left."
      ]
    },
    {
      "cell_type": "code",
      "metadata": {
        "id": "9PQWFw8XmHfL",
        "colab": {
          "base_uri": "https://localhost:8080/"
        },
        "outputId": "85f5830c-8d52-4026-ac2f-0de8da9def68"
      },
      "source": [
        "env.P[1][0]"
      ],
      "execution_count": 5,
      "outputs": [
        {
          "output_type": "execute_result",
          "data": {
            "text/plain": [
              "[(0.3333333333333333, 1, 0.0, False),\n",
              " (0.3333333333333333, 0, 0.0, False),\n",
              " (0.3333333333333333, 5, 0.0, True)]"
            ]
          },
          "metadata": {
            "tags": []
          },
          "execution_count": 5
        }
      ]
    },
    {
      "cell_type": "markdown",
      "metadata": {
        "id": "iv0UFo2VmI8O"
      },
      "source": [
        "Each entry takes the form \r\n",
        "```\r\n",
        "prob, next_state, reward, done\r\n",
        "```\r\n",
        "where: \r\n",
        "- `prob` details the conditional probability of the corresponding (`next_state`, `reward`) pair, and\r\n",
        "- `done` is `True` if the `next_state` is a terminal state, and otherwise `False`.\r\n",
        "\r\n",
        "Thus, we can interpret `env.P[1][0]` as follows:\r\n",
        "$$\r\n",
        "\\mathbb{P}(S_{t+1}=s',R_{t+1}=r|S_t=1,A_t=0) = \\begin{cases}\r\n",
        "               \\frac{1}{3} \\text{ if } s'=1, r=0\\\\\r\n",
        "               \\frac{1}{3} \\text{ if } s'=0, r=0\\\\\r\n",
        "               \\frac{1}{3} \\text{ if } s'=5, r=0\\\\\r\n",
        "               0 \\text{ else}\r\n",
        "            \\end{cases}\r\n",
        "$$\r\n",
        "\r\n",
        "To understand the value of `env.P[1][0]`, note that when you create a FrozenLake environment, it takes as an (optional) argument `is_slippery`, which defaults to `True`.  \r\n",
        "\r\n",
        "To see this, change the first line in the notebook from `env = FrozenLakeEnv()` to `env = FrozenLakeEnv(is_slippery=False)`.  Then, when you check `env.P[1][0]`, it should look like what you expect (i.e., `env.P[1][0] = [(1.0, 0, 0.0, False)]`).\r\n",
        "\r\n",
        "The default value for the `is_slippery` argument is `True`, and so `env = FrozenLakeEnv()` is equivalent to `env = FrozenLakeEnv(is_slippery=True)`.  In the event that `is_slippery=True`, you see that this can result in the agent moving in a direction that it did not intend (where the idea is that the ground is *slippery*, and so the agent can slide to a location other than the one it wanted).\r\n",
        "\r\n",
        "Feel free to change the code cell above to explore how the environment behaves in response to other (state, action) pairs.  \r\n",
        "\r\n",
        "Before proceeding to the next part, make sure that you set `is_slippery=True`, so that your implementations below will work with the slippery environment!"
      ]
    },
    {
      "cell_type": "markdown",
      "metadata": {
        "id": "rD5sVsN5mKUa"
      },
      "source": [
        "### Part 1: Iterative Policy Evaluation\r\n",
        "\r\n",
        "In this section, you will write your own implementation of iterative policy evaluation.\r\n",
        "\r\n",
        "Your algorithm should accept four arguments as **input**:\r\n",
        "- `env`: This is an instance of an OpenAI Gym environment, where `env.P` returns the one-step dynamics.\r\n",
        "- `policy`: This is a 2D numpy array with `policy.shape[0]` equal to the number of states (`env.nS`), and `policy.shape[1]` equal to the number of actions (`env.nA`).  `policy[s][a]` returns the probability that the agent takes action `a` while in state `s` under the policy.\r\n",
        "- `gamma`: This is the discount rate.  It must be a value between 0 and 1, inclusive (default value: `1`).\r\n",
        "- `theta`: This is a very small positive number that is used to decide if the estimate has sufficiently converged to the true value function (default value: `1e-8`).\r\n",
        "\r\n",
        "The algorithm returns as **output**:\r\n",
        "- `V`: This is a 1D numpy array with `V.shape[0]` equal to the number of states (`env.nS`).  `V[s]` contains the estimated value of state `s` under the input policy.\r\n",
        "\r\n",
        "Please complete the function in the code cell below."
      ]
    },
    {
      "cell_type": "code",
      "metadata": {
        "id": "Bl2_QdzlmMBJ"
      },
      "source": [
        "def policy_evaluation(env, policy, gamma=1, theta=1e-8):\r\n",
        "    V = np.zeros(env.nS)\r\n",
        "    \r\n",
        "    ## TODO: complete the function\r\n",
        "    while True:\r\n",
        "      delta = 0\r\n",
        "      for s in range(env.nS):\r\n",
        "        Vs = 0\r\n",
        "        for a, action_pro in enumerate(policy[s]):\r\n",
        "          for prob, next_state, reward, done in env.P[s][a]:\r\n",
        "            Vs += action_pro * prob * (reward + gamma * V[next_state])\r\n",
        "        delta = max(delta,np.abs(V[s]-Vs))\r\n",
        "        V[s] = Vs\r\n",
        "      if delta < theta:\r\n",
        "        break    \r\n",
        "    return V"
      ],
      "execution_count": 6,
      "outputs": []
    },
    {
      "cell_type": "markdown",
      "metadata": {
        "id": "4GR7jQSGmNin"
      },
      "source": [
        "We will evaluate the equiprobable random policy $\\pi$, where $\\pi(a|s) = \\frac{1}{|\\mathcal{A}(s)|}$ for all $s\\in\\mathcal{S}$ and $a\\in\\mathcal{A}(s)$.  \r\n",
        "\r\n",
        "Use the code cell below to specify this policy in the variable `random_policy`."
      ]
    },
    {
      "cell_type": "code",
      "metadata": {
        "id": "X6bY7vm5mPAe"
      },
      "source": [
        "random_policy = np.ones([env.nS, env.nA]) / env.nA"
      ],
      "execution_count": 7,
      "outputs": []
    },
    {
      "cell_type": "markdown",
      "metadata": {
        "id": "2wG2mVQXmP-i"
      },
      "source": [
        "Run the next code cell to evaluate the equiprobable random policy and visualize the output.  The state-value function has been reshaped to match the shape of the gridworld."
      ]
    },
    {
      "cell_type": "code",
      "metadata": {
        "id": "vaIGB9rkmRIY",
        "colab": {
          "base_uri": "https://localhost:8080/",
          "height": 373
        },
        "outputId": "4d73a740-cbdb-40e4-c4e2-2a7c3a50bb38"
      },
      "source": [
        "# evaluate the policy \r\n",
        "V = policy_evaluation(env, random_policy)\r\n",
        "\r\n",
        "plot_values(V)"
      ],
      "execution_count": 8,
      "outputs": [
        {
          "output_type": "display_data",
          "data": {
            "image/png": "[encoded data removed]",
            "text/plain": [
              "<Figure size 432x432 with 1 Axes>"
            ]
          },
          "metadata": {
            "tags": []
          }
        }
      ]
    },
    {
      "cell_type": "markdown",
      "metadata": {
        "id": "-7UnD8L3mSM0"
      },
      "source": [
        "Run the code cell below to test your function.  If the code cell returns **PASSED**, then you have implemented the function correctly!  \r\n",
        "\r\n",
        "**Note:** In order to ensure accurate results, make sure that your `policy_evaluation` function satisfies the requirements outlined above (with four inputs, a single output, and with the default values of the input arguments unchanged)."
      ]
    },
    {
      "cell_type": "code",
      "metadata": {
        "id": "1-Ts8Xx7mUhT",
        "colab": {
          "base_uri": "https://localhost:8080/",
          "height": 46
        },
        "outputId": "2daec89a-7258-40fe-8be0-0dab8ad360f0"
      },
      "source": [
        "check_test.run_check('policy_evaluation_check', policy_evaluation)"
      ],
      "execution_count": 9,
      "outputs": [
        {
          "output_type": "display_data",
          "data": {
            "text/markdown": "**<span style=\"color: green;\">PASSED</span>**",
            "text/plain": [
              "<IPython.core.display.Markdown object>"
            ]
          },
          "metadata": {
            "tags": []
          }
        }
      ]
    },
    {
      "cell_type": "markdown",
      "metadata": {
        "id": "slcsApz7mTl9"
      },
      "source": [
        "### Part 2: Obtain $q_\\pi$ from $v_\\pi$\r\n",
        "\r\n",
        "In this section, you will write a function that takes the state-value function estimate as input, along with some state $s\\in\\mathcal{S}$.  It returns the **row in the action-value function** corresponding to the input state $s\\in\\mathcal{S}$.  That is, your function should accept as input both $v_\\pi$ and $s$, and return $q_\\pi(s,a)$ for all $a\\in\\mathcal{A}(s)$.\r\n",
        "\r\n",
        "Your algorithm should accept four arguments as **input**:\r\n",
        "- `env`: This is an instance of an OpenAI Gym environment, where `env.P` returns the one-step dynamics.\r\n",
        "- `V`: This is a 1D numpy array with `V.shape[0]` equal to the number of states (`env.nS`).  `V[s]` contains the estimated value of state `s`.\r\n",
        "- `s`: This is an integer corresponding to a state in the environment.  It should be a value between `0` and `(env.nS)-1`, inclusive.\r\n",
        "- `gamma`: This is the discount rate.  It must be a value between 0 and 1, inclusive (default value: `1`).\r\n",
        "\r\n",
        "The algorithm returns as **output**:\r\n",
        "- `q`: This is a 1D numpy array with `q.shape[0]` equal to the number of actions (`env.nA`).  `q[a]` contains the (estimated) value of state `s` and action `a`.\r\n",
        "\r\n",
        "Please complete the function in the code cell below."
      ]
    },
    {
      "cell_type": "code",
      "metadata": {
        "id": "oe_z9qgkmW_N"
      },
      "source": [
        "def q_from_v(env, V, s, gamma=1):\r\n",
        "    q = np.zeros(env.nA)\r\n",
        "    \r\n",
        "    ## TODO: complete the function\r\n",
        "    \r\n",
        "    return q"
      ],
      "execution_count": null,
      "outputs": []
    },
    {
      "cell_type": "markdown",
      "metadata": {
        "id": "3tN0COdWmYh_"
      },
      "source": [
        "Run the code cell below to print the action-value function corresponding to the above state-value function."
      ]
    },
    {
      "cell_type": "code",
      "metadata": {
        "id": "SryCY8iFmZcd"
      },
      "source": [
        "Q = np.zeros([env.nS, env.nA])\r\n",
        "for s in range(env.nS):\r\n",
        "    Q[s] = q_from_v(env, V, s)\r\n",
        "print(\"Action-Value Function:\")\r\n",
        "print(Q)"
      ],
      "execution_count": null,
      "outputs": []
    },
    {
      "cell_type": "markdown",
      "metadata": {
        "id": "tNdkw5cCmax2"
      },
      "source": [
        "Run the code cell below to test your function.  If the code cell returns **PASSED**, then you have implemented the function correctly!  \r\n",
        "\r\n",
        "**Note:** In order to ensure accurate results, make sure that the `q_from_v` function satisfies the requirements outlined above (with four inputs, a single output, and with the default values of the input arguments unchanged)."
      ]
    },
    {
      "cell_type": "code",
      "metadata": {
        "id": "0M2On0FOmb8a"
      },
      "source": [
        "check_test.run_check('q_from_v_check', q_from_v)"
      ],
      "execution_count": null,
      "outputs": []
    },
    {
      "cell_type": "markdown",
      "metadata": {
        "id": "SdIaS_YWmdAp"
      },
      "source": [
        "### Part 3: Policy Improvement\r\n",
        "\r\n",
        "In this section, you will write your own implementation of policy improvement. \r\n",
        "\r\n",
        "Your algorithm should accept three arguments as **input**:\r\n",
        "- `env`: This is an instance of an OpenAI Gym environment, where `env.P` returns the one-step dynamics.\r\n",
        "- `V`: This is a 1D numpy array with `V.shape[0]` equal to the number of states (`env.nS`).  `V[s]` contains the estimated value of state `s`.\r\n",
        "- `gamma`: This is the discount rate.  It must be a value between 0 and 1, inclusive (default value: `1`).\r\n",
        "\r\n",
        "The algorithm returns as **output**:\r\n",
        "- `policy`: This is a 2D numpy array with `policy.shape[0]` equal to the number of states (`env.nS`), and `policy.shape[1]` equal to the number of actions (`env.nA`).  `policy[s][a]` returns the probability that the agent takes action `a` while in state `s` under the policy.\r\n",
        "\r\n",
        "Please complete the function in the code cell below.  You are encouraged to use the `q_from_v` function you implemented above."
      ]
    },
    {
      "cell_type": "code",
      "metadata": {
        "id": "ayQv3TUOmekQ"
      },
      "source": [
        "def policy_improvement(env, V, gamma=1):\r\n",
        "    policy = np.zeros([env.nS, env.nA]) / env.nA\r\n",
        "    \r\n",
        "    ## TODO: complete the function\r\n",
        "\r\n",
        "    return policy"
      ],
      "execution_count": null,
      "outputs": []
    },
    {
      "cell_type": "markdown",
      "metadata": {
        "id": "3ydCZdoamf9U"
      },
      "source": [
        "Run the code cell below to test your function.  If the code cell returns **PASSED**, then you have implemented the function correctly!  \r\n",
        "\r\n",
        "**Note:** In order to ensure accurate results, make sure that the `policy_improvement` function satisfies the requirements outlined above (with three inputs, a single output, and with the default values of the input arguments unchanged).\r\n",
        "\r\n",
        "Before moving on to the next part of the notebook, you are strongly encouraged to check out the solution in **Dynamic_Programming_Solution.ipynb**.  There are many correct ways to approach this function!"
      ]
    },
    {
      "cell_type": "code",
      "metadata": {
        "id": "GaRl2xkAmhEo"
      },
      "source": [
        "check_test.run_check('policy_improvement_check', policy_improvement)"
      ],
      "execution_count": null,
      "outputs": []
    },
    {
      "cell_type": "markdown",
      "metadata": {
        "id": "CmH9lAf3miFz"
      },
      "source": [
        "### Part 4: Policy Iteration\r\n",
        "\r\n",
        "In this section, you will write your own implementation of policy iteration.  The algorithm returns the optimal policy, along with its corresponding state-value function.\r\n",
        "\r\n",
        "Your algorithm should accept three arguments as **input**:\r\n",
        "- `env`: This is an instance of an OpenAI Gym environment, where `env.P` returns the one-step dynamics.\r\n",
        "- `gamma`: This is the discount rate.  It must be a value between 0 and 1, inclusive (default value: `1`).\r\n",
        "- `theta`: This is a very small positive number that is used to decide if the policy evaluation step has sufficiently converged to the true value function (default value: `1e-8`).\r\n",
        "\r\n",
        "The algorithm returns as **output**:\r\n",
        "- `policy`: This is a 2D numpy array with `policy.shape[0]` equal to the number of states (`env.nS`), and `policy.shape[1]` equal to the number of actions (`env.nA`).  `policy[s][a]` returns the probability that the agent takes action `a` while in state `s` under the policy.\r\n",
        "- `V`: This is a 1D numpy array with `V.shape[0]` equal to the number of states (`env.nS`).  `V[s]` contains the estimated value of state `s`.\r\n",
        "\r\n",
        "Please complete the function in the code cell below.  You are strongly encouraged to use the `policy_evaluation` and `policy_improvement` functions you implemented above."
      ]
    },
    {
      "cell_type": "code",
      "metadata": {
        "id": "VZ_9OFLLmjln"
      },
      "source": [
        "def policy_iteration(env, gamma=1, theta=1e-8):\r\n",
        "    policy = np.ones([env.nS, env.nA]) / env.nA\r\n",
        "    \r\n",
        "    ## TODO: complete the function\r\n",
        "\r\n",
        "    return policy, V"
      ],
      "execution_count": null,
      "outputs": []
    },
    {
      "cell_type": "markdown",
      "metadata": {
        "id": "TqmOtDsjmlCD"
      },
      "source": [
        "Run the next code cell to solve the MDP and visualize the output.  The optimal state-value function has been reshaped to match the shape of the gridworld.\r\n",
        "\r\n",
        "**Compare the optimal state-value function to the state-value function from Part 1 of this notebook**.  _Is the optimal state-value function consistently greater than or equal to the state-value function for the equiprobable random policy?_"
      ]
    },
    {
      "cell_type": "code",
      "metadata": {
        "id": "GrKRO3WxmmLt"
      },
      "source": [
        "# obtain the optimal policy and optimal state-value function\r\n",
        "policy_pi, V_pi = policy_iteration(env)\r\n",
        "\r\n",
        "# print the optimal policy\r\n",
        "print(\"\\nOptimal Policy (LEFT = 0, DOWN = 1, RIGHT = 2, UP = 3):\")\r\n",
        "print(policy_pi,\"\\n\")\r\n",
        "\r\n",
        "plot_values(V_pi)"
      ],
      "execution_count": null,
      "outputs": []
    },
    {
      "cell_type": "markdown",
      "metadata": {
        "id": "4ZilajL1mncZ"
      },
      "source": [
        "Run the code cell below to test your function.  If the code cell returns **PASSED**, then you have implemented the function correctly!  \r\n",
        "\r\n",
        "**Note:** In order to ensure accurate results, make sure that the `policy_iteration` function satisfies the requirements outlined above (with three inputs, two outputs, and with the default values of the input arguments unchanged)."
      ]
    },
    {
      "cell_type": "code",
      "metadata": {
        "id": "kh6KYo7BmpBF"
      },
      "source": [
        "check_test.run_check('policy_iteration_check', policy_iteration)"
      ],
      "execution_count": null,
      "outputs": []
    },
    {
      "cell_type": "markdown",
      "metadata": {
        "id": "vg4-Z8ZGmp_Z"
      },
      "source": [
        "### Part 5: Truncated Policy Iteration\r\n",
        "\r\n",
        "In this section, you will write your own implementation of truncated policy iteration.  \r\n",
        "\r\n",
        "You will begin by implementing truncated policy evaluation.  Your algorithm should accept five arguments as **input**:\r\n",
        "- `env`: This is an instance of an OpenAI Gym environment, where `env.P` returns the one-step dynamics.\r\n",
        "- `policy`: This is a 2D numpy array with `policy.shape[0]` equal to the number of states (`env.nS`), and `policy.shape[1]` equal to the number of actions (`env.nA`).  `policy[s][a]` returns the probability that the agent takes action `a` while in state `s` under the policy.\r\n",
        "- `V`: This is a 1D numpy array with `V.shape[0]` equal to the number of states (`env.nS`).  `V[s]` contains the estimated value of state `s`.\r\n",
        "- `max_it`: This is a positive integer that corresponds to the number of sweeps through the state space (default value: `1`).\r\n",
        "- `gamma`: This is the discount rate.  It must be a value between 0 and 1, inclusive (default value: `1`).\r\n",
        "\r\n",
        "The algorithm returns as **output**:\r\n",
        "- `V`: This is a 1D numpy array with `V.shape[0]` equal to the number of states (`env.nS`).  `V[s]` contains the estimated value of state `s`.\r\n",
        "\r\n",
        "Please complete the function in the code cell below."
      ]
    },
    {
      "cell_type": "code",
      "metadata": {
        "id": "OeLPFt4emrNV"
      },
      "source": [
        "def truncated_policy_evaluation(env, policy, V, max_it=1, gamma=1):\r\n",
        "    \r\n",
        "    ## TODO: complete the function\r\n",
        "    \r\n",
        "    return V"
      ],
      "execution_count": null,
      "outputs": []
    },
    {
      "cell_type": "markdown",
      "metadata": {
        "id": "5ASp-epvmseX"
      },
      "source": [
        "Next, you will implement truncated policy iteration.  Your algorithm should accept five arguments as **input**:\r\n",
        "- `env`: This is an instance of an OpenAI Gym environment, where `env.P` returns the one-step dynamics.\r\n",
        "- `max_it`: This is a positive integer that corresponds to the number of sweeps through the state space (default value: `1`).\r\n",
        "- `gamma`: This is the discount rate.  It must be a value between 0 and 1, inclusive (default value: `1`).\r\n",
        "- `theta`: This is a very small positive number that is used for the stopping criterion (default value: `1e-8`).\r\n",
        "\r\n",
        "The algorithm returns as **output**:\r\n",
        "- `policy`: This is a 2D numpy array with `policy.shape[0]` equal to the number of states (`env.nS`), and `policy.shape[1]` equal to the number of actions (`env.nA`).  `policy[s][a]` returns the probability that the agent takes action `a` while in state `s` under the policy.\r\n",
        "- `V`: This is a 1D numpy array with `V.shape[0]` equal to the number of states (`env.nS`).  `V[s]` contains the estimated value of state `s`.\r\n",
        "\r\n",
        "Please complete the function in the code cell below."
      ]
    },
    {
      "cell_type": "code",
      "metadata": {
        "id": "AS5k1gu5mtxx"
      },
      "source": [
        "def truncated_policy_iteration(env, max_it=1, gamma=1, theta=1e-8):\r\n",
        "    V = np.zeros(env.nS)\r\n",
        "    policy = np.zeros([env.nS, env.nA]) / env.nA\r\n",
        "    \r\n",
        "    ## TODO: complete the function\r\n",
        "    \r\n",
        "    return policy, V"
      ],
      "execution_count": null,
      "outputs": []
    },
    {
      "cell_type": "markdown",
      "metadata": {
        "id": "7AdJuBMfmvm0"
      },
      "source": [
        "Run the next code cell to solve the MDP and visualize the output.  The state-value function has been reshaped to match the shape of the gridworld.\r\n",
        "\r\n",
        "Play with the value of the `max_it` argument.  Do you always end with the optimal state-value function?"
      ]
    },
    {
      "cell_type": "code",
      "metadata": {
        "id": "TwUMtqqJmvF_"
      },
      "source": [
        "policy_tpi, V_tpi = truncated_policy_iteration(env, max_it=2)\r\n",
        "\r\n",
        "# print the optimal policy\r\n",
        "print(\"\\nOptimal Policy (LEFT = 0, DOWN = 1, RIGHT = 2, UP = 3):\")\r\n",
        "print(policy_tpi,\"\\n\")\r\n",
        "\r\n",
        "# plot the optimal state-value function\r\n",
        "plot_values(V_tpi)"
      ],
      "execution_count": null,
      "outputs": []
    },
    {
      "cell_type": "markdown",
      "metadata": {
        "id": "DvQHtBrwmxkl"
      },
      "source": [
        "Run the code cell below to test your function.  If the code cell returns **PASSED**, then you have implemented the function correctly!  \r\n",
        "\r\n",
        "**Note:** In order to ensure accurate results, make sure that the `truncated_policy_iteration` function satisfies the requirements outlined above (with four inputs, two outputs, and with the default values of the input arguments unchanged)."
      ]
    },
    {
      "cell_type": "code",
      "metadata": {
        "id": "UYROm7JHmy_e"
      },
      "source": [
        "check_test.run_check('truncated_policy_iteration_check', truncated_policy_iteration)"
      ],
      "execution_count": null,
      "outputs": []
    },
    {
      "cell_type": "markdown",
      "metadata": {
        "id": "xDhdux5rmz9R"
      },
      "source": [
        "### Part 6: Value Iteration\r\n",
        "\r\n",
        "In this section, you will write your own implementation of value iteration.\r\n",
        "\r\n",
        "Your algorithm should accept three arguments as input:\r\n",
        "- `env`: This is an instance of an OpenAI Gym environment, where `env.P` returns the one-step dynamics.\r\n",
        "- `gamma`: This is the discount rate.  It must be a value between 0 and 1, inclusive (default value: `1`).\r\n",
        "- `theta`: This is a very small positive number that is used for the stopping criterion (default value: `1e-8`).\r\n",
        "\r\n",
        "The algorithm returns as **output**:\r\n",
        "- `policy`: This is a 2D numpy array with `policy.shape[0]` equal to the number of states (`env.nS`), and `policy.shape[1]` equal to the number of actions (`env.nA`).  `policy[s][a]` returns the probability that the agent takes action `a` while in state `s` under the policy.\r\n",
        "- `V`: This is a 1D numpy array with `V.shape[0]` equal to the number of states (`env.nS`).  `V[s]` contains the estimated value of state `s`."
      ]
    },
    {
      "cell_type": "code",
      "metadata": {
        "id": "p7He3mGem1UV"
      },
      "source": [
        "def value_iteration(env, gamma=1, theta=1e-8):\r\n",
        "    V = np.zeros(env.nS)\r\n",
        "    \r\n",
        "    ## TODO: complete the function\r\n",
        "    \r\n",
        "    return policy, V"
      ],
      "execution_count": null,
      "outputs": []
    },
    {
      "cell_type": "markdown",
      "metadata": {
        "id": "fDN6YS26m2hE"
      },
      "source": [
        "Use the next code cell to solve the MDP and visualize the output.  The state-value function has been reshaped to match the shape of the gridworld."
      ]
    },
    {
      "cell_type": "code",
      "metadata": {
        "id": "zyIkunw_m3kM"
      },
      "source": [
        "policy_vi, V_vi = value_iteration(env)\r\n",
        "\r\n",
        "# print the optimal policy\r\n",
        "print(\"\\nOptimal Policy (LEFT = 0, DOWN = 1, RIGHT = 2, UP = 3):\")\r\n",
        "print(policy_vi,\"\\n\")\r\n",
        "\r\n",
        "# plot the optimal state-value function\r\n",
        "plot_values(V_vi)"
      ],
      "execution_count": null,
      "outputs": []
    },
    {
      "cell_type": "markdown",
      "metadata": {
        "id": "9J6AddoWm42F"
      },
      "source": [
        "Run the code cell below to test your function.  If the code cell returns **PASSED**, then you have implemented the function correctly!  \r\n",
        "\r\n",
        "**Note:** In order to ensure accurate results, make sure that the `value_iteration` function satisfies the requirements outlined above (with three inputs, two outputs, and with the default values of the input arguments unchanged)."
      ]
    },
    {
      "cell_type": "code",
      "metadata": {
        "id": "fg9h-gzSm75V"
      },
      "source": [
        "check_test.run_check('value_iteration_check', value_iteration)"
      ],
      "execution_count": null,
      "outputs": []
    }
  ]
}